{
    "metadata": {
        "kernelspec": {
            "name": "SQL",
            "display_name": "SQL",
            "language": "sql"
        },
        "language_info": {
            "name": "sql",
            "version": ""
        }
    },
    "nbformat_minor": 2,
    "nbformat": 4,
    "cells": [
        {
            "cell_type": "markdown",
            "source": [
                "# **IKEA Report**"
            ],
            "metadata": {
                "azdata_cell_guid": "fc27721e-7aca-45e0-a59d-a238bd243642"
            },
            "attachments": {}
        },
        {
            "cell_type": "markdown",
            "source": [
                "## **Company Background**"
            ],
            "metadata": {
                "azdata_cell_guid": "88d8f66c-9468-46fd-a302-f17e5ba07601"
            },
            "attachments": {}
        },
        {
            "cell_type": "markdown",
            "source": [
                ""
            ],
            "metadata": {
                "azdata_cell_guid": "fbddbe53-6057-4642-bb9b-860b8dc70865"
            }
        },
        {
            "cell_type": "markdown",
            "source": [
                "## **10 Business-Related Questions**"
            ],
            "metadata": {
                "azdata_cell_guid": "885574ea-6db3-46db-a7fc-6d1bf119dced"
            },
            "attachments": {}
        }
    ]
}