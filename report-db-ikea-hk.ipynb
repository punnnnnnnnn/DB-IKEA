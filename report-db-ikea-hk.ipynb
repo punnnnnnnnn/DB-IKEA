{
    "cells": [
        {
            "attachments": {},
            "cell_type": "markdown",
            "metadata": {
                "azdata_cell_guid": "fc27721e-7aca-45e0-a59d-a238bd243642"
            },
            "source": [
                "# **Yeeee**"
            ]
        },
        {
            "cell_type": "code",
            "execution_count": null,
            "metadata": {
                "azdata_cell_guid": "1149ede8-716f-4edc-8bbe-7ff4ff7fa46f",
                "language": "sql"
            },
            "outputs": [],
            "source": [
                "asdasd"
            ]
        }
    ],
    "metadata": {
        "kernelspec": {
            "display_name": "SQL",
            "language": "sql",
            "name": "SQL"
        },
        "language_info": {
            "name": "sql",
            "version": ""
        }
    },
    "nbformat": 4,
    "nbformat_minor": 2
}
