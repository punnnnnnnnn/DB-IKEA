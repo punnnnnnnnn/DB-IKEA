{
    "metadata": {
        "kernelspec": {
            "name": "SQL",
            "display_name": "SQL",
            "language": "sql"
        },
        "language_info": {
            "name": "sql",
            "version": ""
        }
    },
    "nbformat_minor": 2,
    "nbformat": 4,
    "cells": [
        {
            "cell_type": "markdown",
            "source": [
                "# **Yeeee**"
            ],
            "metadata": {
                "azdata_cell_guid": "fc27721e-7aca-45e0-a59d-a238bd243642"
            },
            "attachments": {}
        },
        {
            "cell_type": "code",
            "source": [
                "asdasddfghjklkuh hello yoooo fghj"
            ],
            "metadata": {
                "azdata_cell_guid": "1149ede8-716f-4edc-8bbe-7ff4ff7fa46f",
                "language": "sql"
            },
            "outputs": [],
            "execution_count": null
        }
    ]
}