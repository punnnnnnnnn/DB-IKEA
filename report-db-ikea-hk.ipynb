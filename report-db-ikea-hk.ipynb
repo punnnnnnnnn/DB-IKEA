{
    "metadata": {
        "kernelspec": {
            "name": "SQL",
            "display_name": "SQL",
            "language": "sql"
        },
        "language_info": {
            "name": "sql",
            "version": ""
        }
    },
    "nbformat_minor": 2,
    "nbformat": 4,
    "cells": [
        {
            "cell_type": "markdown",
            "source": [
                "# **IKEA Report**"
            ],
            "metadata": {
                "azdata_cell_guid": "fc27721e-7aca-45e0-a59d-a238bd243642"
            },
            "attachments": {}
        },
        {
            "cell_type": "markdown",
            "source": [
                "![](ikea_logo.png)"
            ],
            "metadata": {
                "azdata_cell_guid": "892b8566-1734-4f61-9f10-bb1368274314"
            },
            "attachments": {}
        },
        {
            "cell_type": "markdown",
            "source": [
                "# <u>Contents</u>\n",
                "* [Executive Summary]()\n",
                "* [Background Information]()\n",
                "* [Database Design]()\n",
                "* [10 Buniness-Related Questions]()\n",
                "* [Conclusion]()\n",
                "* [References]()"
            ],
            "metadata": {
                "azdata_cell_guid": "7c3b93ca-7408-44e1-8aa9-31ea136c01fd"
            },
            "attachments": {}
        },
        {
            "cell_type": "markdown",
            "source": [
                "**list เฉยๆคับ**\n",
                "\n",
                "- [ ]  executive summary\n",
                "- [x]  background ifm organization and industry\n",
                "- [ ]  database design (ERD, bus rule, explaination)\n",
                "- [ ]  10 questions (Analysis: SQL statement, result tables, recommendations)\n",
                "- [ ]  conclusion\n",
                "- [ ]  reference"
            ],
            "metadata": {
                "azdata_cell_guid": "60d5d65d-228e-4a65-9fcb-b1ffc4f325da"
            },
            "attachments": {}
        },
        {
            "cell_type": "markdown",
            "source": [
                "## **<u>Executive Summary</u>**"
            ],
            "metadata": {
                "azdata_cell_guid": "17022207-df2e-492b-be77-64e7a95b696c"
            },
            "attachments": {}
        },
        {
            "cell_type": "markdown",
            "source": [
                "## <u>**Background Information**</u>\n",
                "\n",
                "<span style=\"font-size:10.5pt;font-family:Arial, sans-serif;color:rgb(31, 31, 31);background-color:transparent;vertical-align:baseline;white-space:pre-wrap;\"><strong style=\"color:rgb(74, 74, 74);font-family:-apple-system, &quot;system-ui&quot;, sans-serif;white-space:normal;\">About IKEA</strong><br></span>\n",
                "\n",
                "<span style=\"font-size:10.5pt;font-family:Arial, sans-serif;color:rgb(31, 31, 31);background-color:transparent;vertical-align:baseline;white-space:pre-wrap;\">อิเกีย เป็นบริษัทผลิตและจำหน่ายเฟอร์นิเจอร์ ของใช้ในบ้านสัญชาติสวีเดน ก่อตั้งขึ้นในปี ค.ศ. 1943 โดยเริ่มต้นจากการขายโต๊ะไม้ขนาดเล็กภายในครัว ก่อนจะเริ่มขยายไลน์สินค้าไปขาย เ</span><span style=\"font-size:10.5pt;background-color:transparent;font-family:Arial, sans-serif;color:rgb(31, 31, 31);vertical-align:baseline;white-space:pre-wrap;\">ฟอร์นิเจอร์อื่นๆ&nbsp;</span>         \n",
                "\n",
                "<span style=\"font-size:10.5pt;font-family:Arial, sans-serif;color:rgb(31, 31, 31);background-color:transparent;vertical-align:baseline;white-space:pre-wrap;\">อิเกียมีชื่อเสียงและเติบโตในสวีเดนอย่างรวดเร็ว จนสามารถขยายธุรกิจไปยังต่างประเทศได้ในปี ค.ศ. 1963 ปัจจุบันอิเกียมีมากกว่า 460 แห่ง กระจายอยู่ใน 60 กว่าประเทศทั่วโลกโดยอิเกียได้เริ่มเข้ามาทำธุรกิจครั้งแรกในประเทศไทยในปี ค.ศ. 2011 ที่อิเกียบางนา ปัจจุบันอิเกีย ประเทศไทย มีทั้งหมด 4 สาขา ได้แก่ อิเกีย บางนา, อิเกีย บางใหญ่, อิเกีย ภูเก็ต และ อิเกีย สุขุมวิทที่จะเปิดให้บริการในช่วงเดือนธันวาคม ค.ศ. 2023</span>\n",
                "\n",
                "<span style=\"font-size:10.5pt;font-family:Arial,sans-serif;color:#1f1f1f;background-color:#fffffe;font-weight:400;font-style:normal;font-variant:normal;text-decoration:none;vertical-align:baseline;white-space:pre;white-space:pre-wrap;\">สินค้าของอิเกียมีจุดเด่นคือ สินค้าคุณภาพดีในราคาย่อมเยา ดีไซน์เรียบง่ายแต่สวยงาม ใช้งานได้สะดวกและ</span><span style=\"font-size:10.5pt;font-family:Arial,sans-serif;color:#1f1f1f;background-color:transparent;font-weight:400;font-style:normal;font-variant:normal;text-decoration:none;vertical-align:baseline;white-space:pre;white-space:pre-wrap;\">ทนทาน ทั้งยังสามารถประกอบเองได้ไม่ยาก และไม่ต้องกังวลว่าการขนส่งจะทำให้</span><span style=\"font-size:10.5pt;font-family:Arial,sans-serif;color:#24292e;background-color:transparent;font-weight:400;font-style:normal;font-variant:normal;text-decoration:none;vertical-align:baseline;white-space:pre;white-space:pre-wrap;\">สินค้าเสียหายจากการที่อิเกียเลือกแพ็คในรูปแบบของกล่องแบน</span>\n",
                "\n",
                "<span style=\"background-color:rgb(255, 255, 254);color:rgb(31, 31, 31);font-family:Arial, sans-serif;font-size:10.5pt;white-space:pre-wrap;\">อีกทั้งอิเกียยังมีแนวคิดในการออกแบบสินค้าที่เป็นมิตรกับสิ่งแวดล้อมโดยเลือกใช้วัสดุที่ยั่งยืนและสามารถรีไซเคิลได้ และมุ่งมั่นที่จะลดผลกระทบต่อสิ่งแวดล้อมในทุกขั้นตอนการผลิตและการจัดจำหน่ายสินค้า</span>\n",
                "\n",
                "## <span style=\"background-color:transparent;color:rgb(0, 0, 0);font-family:Arial, sans-serif;font-size:10.5pt;white-space:pre-wrap;\">วิสัยทัศน์ของอิเกีย</span>\n",
                "\n",
                "<span style=\"font-size:10.5pt;font-family:Arial,sans-serif;color:#484848;background-color:transparent;font-weight:700;font-style:normal;font-variant:normal;text-decoration:none;vertical-align:baseline;white-space:pre;white-space:pre-wrap;\">“การทำให้ชีวิตประจำวันของใครหลายคนดีขึ้น”</span> \n",
                "\n",
                "<span style=\"background-color:transparent;color:rgb(72, 72, 72);font-family:Arial, sans-serif;font-size:10.5pt;white-space:pre-wrap;\">วิสัยทัศน์นี้ก้าวไปไกลกว่าการตกแต่งบ้าน เราต้องการให้เกิดผลดีต่อโลก ตั้งแต่ชุมชนที่เรานำวัตถุดิบมาใช้ ไปจนถึงวิธีที่ผลิตภัณฑ์ของเราจะช่วยให้ลูกค้าใช้ชีวิตได้อย่างยั่งยืนมากขึ้นที่บ้าน</span>\n",
                "\n",
                "<span style=\"background-color:transparent;color:rgb(0, 0, 0);font-family:Arial, sans-serif;font-size:10.5pt;white-space:pre-wrap;\">แนวคิดทางธุรกิจของอิเกีย</span>\n",
                "\n",
                "<span style=\"font-size:10.5pt;font-family:Arial,sans-serif;color:#484848;background-color:transparent;font-weight:400;font-style:normal;font-variant:normal;text-decoration:none;vertical-align:baseline;white-space:pre;white-space:pre-wrap;\">สิ่งที่อิเกียต้องการทำให้สำเร็จ</span>\n",
                "\n",
                "<span style=\"font-size:10.5pt;font-family:Arial,sans-serif;color:#484848;background-color:transparent;font-weight:700;font-style:normal;font-variant:normal;text-decoration:none;vertical-align:baseline;white-space:pre;white-space:pre-wrap;\">“การนำเสนอผลิตภัณฑ์ตกแต่งบ้านหลากหลายแบบที่ออกแบบมาอย่างดี&nbsp;</span>   <span style=\"background-color:transparent;color:rgb(72, 72, 72);font-family:Arial, sans-serif;font-size:10.5pt;font-weight:700;white-space:pre-wrap;\">ใช้งานได้ดี ในราคาที่ถูกมาก ที่คนจำนวนมากที่สุดจะสามารถซื้อได้”</span>\n",
                "\n",
                "<span style=\"font-size:10.5pt;font-family:Arial, sans-serif;color:rgb(31, 31, 31);background-color:transparent;vertical-align:baseline;white-space:pre-wrap;\"><br></span>"
            ],
            "metadata": {
                "azdata_cell_guid": "fbddbe53-6057-4642-bb9b-860b8dc70865"
            },
            "attachments": {}
        },
        {
            "cell_type": "markdown",
            "source": [
                "**Furniture and Homeware Industry**\n",
                "\n",
                "อิเกีย **ถูกจัดอยู่ในอุตสาหกรรมประเภทเฟอร์นิเจอร์และของใช้ในบ้าน ซึ่งนับเป็นอุตสาหกรรมหนึ่งที่มีบทบาทสำคัญต่อเศรษฐกิจของประเทศไทย ทั้งในเรื่องของการส่งออกสินค้าและการเป็นแหล่งจ้างงาน** \n",
                "\n",
                "<span style=\"font-size:10.5pt;font-family:Arial,sans-serif;color:#1f1f1f;background-color:transparent;font-weight:400;font-style:normal;font-variant:normal;text-decoration:none;vertical-align:baseline;white-space:pre;white-space:pre-wrap;\">อิเกีย เข้ามามีบทบาทสำคัญในการปฏิวัติตลาดเฟอร์นิเจอร์ของไทย โดยได้เข้ามาสร้างแนวคิด</span><span style=\"color: rgb(31, 31, 31); font-family: Arial, sans-serif; white-space: pre-wrap;\">เฟอร์นิเจอร์แบบ DIY (Do it Yourself) </span> <span style=\"background-color: transparent; color: rgb(31, 31, 31); font-family: Arial, sans-serif; font-size: 10.5pt; white-space: pre-wrap;\">ให้กับผู้บริโภคไทยซึ่งช่วยให้ผู้บริโภคสามารถประหยัดค่าใช้จ่ายในการซื้อเฟอร์นิเจอร์ได้</span>\n",
                "\n",
                "<span style=\"font-size:10.5pt;font-family:Arial,sans-serif;color:#1f1f1f;background-color:transparent;font-weight:400;font-style:normal;font-variant:normal;text-decoration:none;vertical-align:baseline;white-space:pre;white-space:pre-wrap;\">การเข้ามาของ อิเกีย ในประเทศไทย ส่งผลให้ตลาดเฟอร์นิเจอร์ของไทยมีการแข่งขันที่สูงขึ้น </span> <span style=\"background-color: transparent; color: rgb(31, 31, 31); font-family: Arial, sans-serif; font-size: 10.5pt; white-space: pre-wrap;\">ผู้ประกอบการไทยบางรายหันมาผลิตเฟอร์นิเจอร์แบบ DIY เพื่อแข่งขันกับอีเกีย ในขณะที่</span><span style=\"background-color: transparent; color: rgb(31, 31, 31); font-family: Arial, sans-serif; font-size: 10.5pt; white-space: pre-wrap;\">ผู้ประกอบการรายอื่นหันมาเน้นการผลิตเฟอร์นิเจอร์ระดับพรีเมียม เพื่อตอบสนองความต้องการของผู้บริโภคที่ต้องการเฟอร์นิเจอร์คุณภาพสูง</span>\n",
                "\n",
                "<span style=\"background-color: transparent; color: rgb(31, 31, 31); font-family: Arial, sans-serif; font-size: 10.5pt; white-space: pre-wrap;\">อิเกีย </span> <span style=\"background-color: transparent; color: rgb(31, 31, 31); font-family: Arial, sans-serif; font-size: 10.5pt; white-space: pre-wrap;\">ได้รับความนิยมจากผู้บริโภคไทยเป็นอย่างมาก โดยในปี 2022 อีเกียมียอดขายในประเทศไทยกว่า 1.5 หมื่นล้านบาท คิดเป็นสัดส่วนกว่า 20% ของมูลค่าตลาดเฟอร์นิเจอร์ทั้งหมดของไทย แต่</span><span style=\"background-color: transparent; color: rgb(31, 31, 31); font-family: Arial, sans-serif; font-size: 10.5pt; white-space: pre-wrap;\">อย่างไรก็ตาม อิเกีย ก็ยังมีคู่แข่งรายสำคัญจากแบรนด์ไทย เช่น Index Living Mall และ HomePro ซึ่งแบรนด์เหล่านี้มีจุดแข็งในด้านความใกล้ชิดกับผู้บริโภคไทย และความเข้าใจความต้องการของผู้บริโภคไทย</span>\n",
                "\n",
                "<span style=\"background-color: transparent; color: rgb(31, 31, 31); font-family: Arial, sans-serif; font-size: 12pt; white-space: pre-wrap;\"><br></span>"
            ],
            "metadata": {
                "azdata_cell_guid": "80db6d9a-77a2-4912-8ba0-ffb918227745"
            },
            "attachments": {}
        },
        {
            "cell_type": "markdown",
            "source": [
                "## **<u>Database Design</u>**"
            ],
            "metadata": {
                "azdata_cell_guid": "727cb851-6245-45f0-9e05-4e52ccbbd858"
            },
            "attachments": {}
        },
        {
            "cell_type": "markdown",
            "source": [
                "## Our team assumption\n",
                "\n",
                "- ธุรกิจอิเกียในครั้งนี้จะมุ่งเน้นเฉพาะส่วนเฟอร์นิเจอร์และของใช้ในบ้านและบริการบางอย่างเพียงเท่านั้น เช่น การส่งสินค้าและการรับคืนสินค้า\n",
                "    \n",
                "- อิเกียสโตร์และอิเกียออนไลน์จะใช้ฐานข้อมูลเดียวกัน\n",
                "    \n",
                "- อิเกียไม่มีระบบผ่อนชำระสินค้า โดยมีช่องทางการชำระเงิน  4 ทาง ได้แก่ เงินสด บัตรเครดิตหรือเดบิต(เฉพาะวีซ่าและมาสเตอร์การ์ด) และ พร้อมเพย์\n",
                "    \n",
                "- บัตรของขวัญ (Gift card) ที่ใช้สำหรับเป็นส่วนลดในการซื้อสินค้าของอิเกียนั้น มีลักษณะเดียวกันกับบัตรกำนัล สามารถใช้ลดราคาสินค้าได้เพียงครั้งเดียวเท่านั้น โดยลูกค้าจะต้องซื้อสินค้าที่มียอดรวมไม่น้อยกว่ามูลค่าของบัตรของขวัญนั้น\n",
                "    \n",
                "- การรับประกันและประวัติการรับประกันของสินค้าแต่ละชิ้นจะแตกต่างกันไปตามประเภทและรุ่นของสินค้า\n",
                "    \n",
                "- สินค้าที่ถูกส่งคืนจะนำไปจำหน่ายในช่องทางอื่นหรือทำลายทิ้ง จะไม่นำกลับเข้าไปในสต็อกสินค้า \n",
                "    \n",
                "- อิเกีย มีโปรโมชั่นเพียง 2 รูปแบบ ดังนี้ การลดราคาเป็นเปอร์เซ็นต์จากยอดขายสุทธิ และ การให้โบนัสคะแนนคูณจากคะแนนปกติ\n",
                "    \n",
                "\n",
                "and more"
            ],
            "metadata": {
                "azdata_cell_guid": "4938929d-f0d8-4d23-93a3-8933153ef467"
            },
            "attachments": {}
        },
        {
            "cell_type": "markdown",
            "source": [
                "## Business Rule\n",
                "- คะแนน IKEA Family จะหมดอายุภายใน 2 ปี นับจากวันที่ได้รับคะแนน\n",
                "\n",
                "- คะแนน IKEA Family คำนวณจากยอดขายสุทธิของคำสั่งซื้อ โดยจะได้รับคะแนน 10% ของยอดขายสุทธิ เศษของคะแนนจะถูกปัดทิ้ง"
            ],
            "metadata": {
                "azdata_cell_guid": "e4933d64-ad51-4a78-95f1-c4764be05b89"
            },
            "attachments": {}
        },
        {
            "cell_type": "markdown",
            "source": [
                "แปะตัว erd"
            ],
            "metadata": {
                "azdata_cell_guid": "ebef0035-9281-437f-af94-4d5084c0c1e7"
            },
            "attachments": {}
        },
        {
            "cell_type": "markdown",
            "source": [
                "**explanation**\n",
                "\n",
                "**จุดที่น่าสนใจ**"
            ],
            "metadata": {
                "azdata_cell_guid": "aed67a05-b2c7-4237-9bc4-02ba48ba0df4"
            },
            "attachments": {}
        },
        {
            "cell_type": "markdown",
            "source": [
                "#### <u>Employee</u>\n",
                "- เก็บข้อมูลทั่วไปของพนักงาน เช่น ชื่อ นามสกุล วันเดือนปีเกิด เพศ ข้อมูลการติดต่อ ประวัติการศึกษา ประสบการณ์การทำงาน เป็นต้น\n",
                "    \n",
                "- เก็บข้อมูลตำแหน่งของพนักงาน โดยระบุรหัสตำแหน่ง (position_id) ซึ่งเชื่อมโยงกับตาราง Position\n",
                "    \n",
                "- บันทึกสาขาที่พนักงานประจำอยู่ โดยระบุรหัสสาขา (branch_id) ซึ่งเชื่อมโยงกับตารางBranch ทั้งนี้คอลัมน์นี้กำหนดให้สามารถว่างได้ เนื่องจากพนักงานใหม่อาจจะยังไม่ได้ถูกกำหนดสาขาประจำของตัวเอง และมีพนักงานที่ทำงานในส่วนกลาง ซึ่งจะไม่ปฏิบัติงานให้กับสาขาใดสาขาหนึ่ง เช่น พนักงานบัญชี หรือ พนักงานที่ดูแลในส่วนของเว็บไซต์ IKEA Thailand"
            ],
            "metadata": {
                "azdata_cell_guid": "569ca57f-35d4-4d5e-bd36-7fd83ec522db"
            },
            "attachments": {}
        },
        {
            "cell_type": "markdown",
            "source": [
                "#### <u>**Category**</u>\n",
                "\n",
                "เนื่องจากอิเกีย แยกสินค้าเป็นหลายหมวดหมู่และมีหมวดหมู่ย่อยแตกออกมาเป็นจำนวนมาก เพื่ออำนวยความสะดวกให้ลูกค้าสามารถหาสินค้าได้ง่ายขึ้น รวมถึงทำให้อิเกียสามารถเก็บข้อมูลสินค้าได้ละเอียดมากขึ้น ซึ่งสามารถนำข้อมูลเหล่านี้ใช้ในการทำการตลาด การพัฒนาสินค้าใหม่ และการวิเคราะห์ข้อมูลการขายได้อย่างมีประสิทธิภาพมากขึ้น\n",
                "\n",
                "โดย… อธิบายเรื่อง subcat อาจจะยกตัวอย่างสินค้านึงในข้อมูลมาช่วยอธิบาย <mark>ช่วยด้วยครับผมยังไม่เข้าใจขนาดนั้น</mark>"
            ],
            "metadata": {
                "azdata_cell_guid": "cf05d934-f4d6-4454-ace7-b0efc5420eab"
            },
            "attachments": {}
        },
        {
            "cell_type": "markdown",
            "source": [
                "#### <u>Warehouse</u>\n",
                "\n",
                "- ตัวคลังสินค้าจะมีความสัมพันธ์กับสาขา แบบที่คลังสินค้าหนึ่งคลังสามารถส่งสินค้าให้ได้หลายสาขาและสาขาหนึ่งสาขาสามารถนำสินค้ามาได้จากหลายคลัง โดยจะเชื่อมกันด้วยตาราง WarehouseBranch ซึ่งเป็นตารางเชื่อมต่อ (Junction table)\n",
                "    \n",
                "- คลังสินค้าจะมีส่วนเกี่ยวข้องกับเรื่องสต็อกสินค้าในการบันทึกสินค้าที่มีคงเหลือในคลัง โดยจะมีตาราง Stock เป็นตารางเชื่อมต่อซึ่งดึงข้อมูลมาจากตาราง Warehouse และ Product"
            ],
            "metadata": {
                "azdata_cell_guid": "1b4bf945-403e-45a8-9c87-93b9377695e3"
            },
            "attachments": {}
        },
        {
            "cell_type": "markdown",
            "source": [
                "## **10 Business-Related Questions**"
            ],
            "metadata": {
                "azdata_cell_guid": "885574ea-6db3-46db-a7fc-6d1bf119dced"
            },
            "attachments": {}
        },
        {
            "cell_type": "markdown",
            "source": [
                "### **Q1:** สินค้ารายการไหนที่ไม่ถูกซื้อเลยในช่วง 6 เดือนที่ผ่านมา"
            ],
            "metadata": {
                "azdata_cell_guid": "99a6ac89-9bd3-45b3-8f76-479224f89681"
            },
            "attachments": {}
        },
        {
            "cell_type": "code",
            "source": [
                "SELECT p.product_name_eng \"Product Name (Eng)\",\n",
                "    p.product_name_th \"Peoduct Name (Thai)\",\n",
                "    color\n",
                "FROM Product p\n",
                "LEFT JOIN ProductOrder po ON p.product_id = po.product_id\n",
                "LEFT JOIN Order o ON o.order_id = po.order_id\n",
                "WHERE o.order_id BETWEEN CURRENT_DATE - INTERVAL '6 months' AND CURRENT_DATE"
            ],
            "metadata": {
                "azdata_cell_guid": "ef6c02f3-e883-498c-a966-20936a81efb9",
                "language": "sql",
                "vscode": {
                    "languageId": "sql"
                }
            },
            "outputs": [
                {
                    "output_type": "error",
                    "ename": "SyntaxError",
                    "evalue": "invalid syntax (406184040.py, line 1)",
                    "traceback": [
                        "\u001b[1;36m  Cell \u001b[1;32mIn[3], line 1\u001b[1;36m\u001b[0m\n\u001b[1;33m    SELECT p.product_name_eng \"Product Name (Eng)\",\u001b[0m\n\u001b[1;37m           ^\u001b[0m\n\u001b[1;31mSyntaxError\u001b[0m\u001b[1;31m:\u001b[0m invalid syntax\n"
                    ]
                }
            ],
            "execution_count": 1
        },
        {
            "cell_type": "markdown",
            "source": [
                "explanation :"
            ],
            "metadata": {
                "azdata_cell_guid": "7329bc51-0444-49ed-903e-0dd81aabbc94",
                "language": "sql"
            },
            "attachments": {}
        },
        {
            "cell_type": "markdown",
            "source": [
                "### **Q2:** 5 รายการสินค้าที่ถูกลูกค้าส่งคืนมากที่สุด เมื่อสินค้านั้นถูกสั่งผ่านรูปแบบออนไลน์\n",
                "\n",
                "###         โดยเรียงจากสินค้าที่ถูกส่งกลับมากที่สุดขึ้นก่อน"
            ],
            "metadata": {
                "azdata_cell_guid": "36cf30fa-a5ff-4bc5-858e-b96c67246136"
            },
            "attachments": {}
        },
        {
            "cell_type": "code",
            "source": [
                "SELECT o.order_type,\n",
                "    p.product_name_eng \"Product Name (Eng)\",\n",
                "    p.product_name_th \"Product Name (Thai)\",\n",
                "    SUM(po.qty) \"Quantity Returned\",\n",
                "FROM ProductOrderReturn por\n",
                "JOIN ProductOrder po ON por.product_order_id = po.product_order_id\n",
                "JOIN Order o ON o.order_id = po.order_id\n",
                "JOIN Product p ON p.product_id = po.product_id\n",
                "FETCH FIRST 5 ROW ONLY"
            ],
            "metadata": {
                "azdata_cell_guid": "b681567f-abec-4e82-956d-af71a169b70a",
                "language": "sql",
                "vscode": {
                    "languageId": "sql"
                }
            },
            "outputs": [],
            "execution_count": null
        },
        {
            "cell_type": "markdown",
            "source": [
                "explanation:"
            ],
            "metadata": {
                "azdata_cell_guid": "149f1442-e0cd-4cd5-85d2-9700c8bb5d38",
                "language": "sql"
            },
            "attachments": {}
        },
        {
            "cell_type": "markdown",
            "source": [
                "### **Q3**: สินค้า Category สามารถสร้างยอดขายได้มาก (Top3)"
            ],
            "metadata": {
                "azdata_cell_guid": "e8d95399-9932-4917-832d-22f524641b6a",
                "language": "sql"
            },
            "attachments": {}
        },
        {
            "cell_type": "code",
            "source": [
                "SELECT *\r\n",
                "FROM ProductOrder po\r\n",
                "LEFT JOIN ProductCategory pc ON pc.product_id = po.product_id \r\n",
                "LEFT JOIN SubCategory_4 sc4 ON pc.subcategory_id = sc4.subcategory_id\r\n",
                "LEFT JOIN SubCategory_3 sc3 ON pc.subcategory_id = sc3.subcategory_id\r\n",
                "LEFT JOIN SubCategory_2 sc2 ON pc.subcategory_id = sc2.subcategory_id\r\n",
                "LEFT JOIN SubCategory_1 sc1 ON pc.subcategory_id = sc1.subcategory_id\r\n",
                "LEFT JOIN CatSubcat csc ON csc.SubCategory_1_subcategory_id = sc1.subcategory_id"
            ],
            "metadata": {
                "azdata_cell_guid": "bd91c1ec-ea80-4dfe-94d2-bc958908730f",
                "language": "sql",
                "vscode": {
                    "languageId": "sql"
                }
            },
            "outputs": [],
            "execution_count": null
        },
        {
            "cell_type": "markdown",
            "source": [
                "explanation:"
            ],
            "metadata": {
                "azdata_cell_guid": "e8835449-ba55-4ade-9a37-f5a5b7c1353f",
                "language": "sql"
            },
            "attachments": {}
        },
        {
            "cell_type": "markdown",
            "source": [
                "### **Q4: ยอดขายจากสินค้าที่ถูกแนะนำ (recommended product) นั้นมากกว่าสินค้าปกติมากแค่ไหน**"
            ],
            "metadata": {
                "azdata_cell_guid": "db9a617f-b83e-49ef-97a1-e669cf2de59d",
                "language": "sql"
            },
            "attachments": {}
        },
        {
            "cell_type": "code",
            "source": [
                "-- สนใจเพิ่มเงื่อนไขในคำถามเป็น \"ในแต่ละ cate\" ด้วยมั้ย\n",
                "SELECT \n",
                "    p.isRecommended,\n",
                "    po.qty,\n",
                "    ph.price,\n",
                "    SUM(po.qty * ph.price) \"Sales\"\n",
                "FROM ProductOrder po\n",
                "LEFT JOIN Product p ON po.product_id = p.product_id\n",
                "LEFT JOIN PriceHistory ph ON ph.product_id = p.product_id\n",
                "LEFT JOIN Order o ON o.order_id = po.order_id\n",
                "WHERE p.isRecommended IS TRUE\n",
                "    AND o.order_date BETWEEN ph.start_date AND COLEASE(ph.end_date, \"9999-12-31\"::DATE)\n",
                "GROUP BY p.isRecommended"
            ],
            "metadata": {
                "azdata_cell_guid": "72d16027-f3b2-4313-beea-c65af834fdf7",
                "language": "sql",
                "vscode": {
                    "languageId": "sql"
                }
            },
            "outputs": [],
            "execution_count": null
        },
        {
            "cell_type": "markdown",
            "source": [
                "explanation:"
            ],
            "metadata": {
                "azdata_cell_guid": "6bf22eab-502c-44a2-bf34-a1a7ffbd52ab",
                "language": "sql"
            },
            "attachments": {}
        },
        {
            "cell_type": "markdown",
            "source": [
                "### **Q5:** ช่วงไหน(เดือน/ไตรมาส ว่ากันอีกที) ที่เราควรทำการใช้/ปล่อย promotion เพื่อทำการกระตุ้นยอดขาย"
            ],
            "metadata": {
                "azdata_cell_guid": "446f604e-82b6-4437-937c-9031635d4940",
                "language": "sql"
            },
            "attachments": {}
        },
        {
            "cell_type": "code",
            "source": [
                "-- จะใช้ข้อมูลอะไรนะะ ;-;"
            ],
            "metadata": {
                "azdata_cell_guid": "34d1f106-1d87-4dc5-a4cd-78509582b8fd",
                "language": "sql",
                "vscode": {
                    "languageId": "sql"
                }
            },
            "outputs": [],
            "execution_count": null
        },
        {
            "cell_type": "markdown",
            "source": [
                "explanation:"
            ],
            "metadata": {
                "azdata_cell_guid": "93f8a01d-07ab-48d7-94c9-09da67292eac",
                "language": "sql"
            },
            "attachments": {}
        },
        {
            "cell_type": "markdown",
            "source": [
                "### **Q6:** ในช่วงสถานการณ์การแพร่ระบาดของโควิด-19 ยอดขายสินค้าของอิเกีย ผ่านรูปแบบออนไลน์มีลักษณะเป็นอย่างไร เพิ่มขึ้นมากน้อยเพียงใด"
            ],
            "metadata": {
                "azdata_cell_guid": "66ca3618-bd8b-4980-a884-11ebf7494b1b",
                "language": "sql"
            },
            "attachments": {}
        },
        {
            "cell_type": "code",
            "source": [
                "SELECT EXTRACT(YEAR FROM o.order_date) \"Year\",\r\n",
                "    SUM(po.qty * ph.price) \"Total Sales\"\r\n",
                "FROM ProductOrder po\r\n",
                "LEFT JOIN Order o ON po.order_id = o.order_id\r\n",
                "LEFT JOIN PriceHistory ph ON ph.product_id = po.product_id\r\n",
                "WHERE o.order_type\r\n",
                "    AND o.order_date BETWEEN ph.start_date AND COLEASE(ph.end_date, '9999-12-31'::DATE)\r\n",
                "GROUP BY \"Year\""
            ],
            "metadata": {
                "azdata_cell_guid": "5e380717-b12b-4ecd-92c2-fa4d2dd28c46",
                "language": "sql",
                "vscode": {
                    "languageId": "sql"
                }
            },
            "outputs": [],
            "execution_count": null
        },
        {
            "cell_type": "markdown",
            "source": [
                "explanation:"
            ],
            "metadata": {
                "azdata_cell_guid": "4e06b272-5a75-4bfe-85ea-34b468046eef",
                "language": "sql"
            },
            "attachments": {}
        },
        {
            "cell_type": "markdown",
            "source": [
                "### **Q7:** สินค้ารายการไหนที่มีจำนวนเฉลี่ยในการสั่งซื้อ มากกว่าหรือเท่ากับ 4 units ใน 1 order"
            ],
            "metadata": {
                "azdata_cell_guid": "b5dd53e3-85d6-4a47-9c8c-7d00ea251ed0"
            },
            "attachments": {}
        },
        {
            "cell_type": "code",
            "source": [
                "SELECT po.product_id,\n",
                "    p.product_name_eng \"Product Name (Eng)\",\n",
                "    p.product_name_th \"Product Name (Thai)\",\n",
                "    AVG(po.qty) \"Avg. Quantity Per Order\"\n",
                "FROM ProductOrder po\n",
                "LEFT JOIN Product p ON po.product_id = p.product_id\n",
                "GROUP BY po.product_id\n",
                "HAVING AVG(po.qty) >= 4"
            ],
            "metadata": {
                "azdata_cell_guid": "b1f9bd73-73d0-4b55-8c9b-09d4dad3be17",
                "language": "sql",
                "vscode": {
                    "languageId": "sql"
                }
            },
            "outputs": [],
            "execution_count": null
        },
        {
            "cell_type": "markdown",
            "source": [
                "explanation:"
            ],
            "metadata": {
                "azdata_cell_guid": "03b7e09c-6b80-4438-8e39-9ccaaa939d8d",
                "language": "sql"
            },
            "attachments": {}
        },
        {
            "cell_type": "markdown",
            "source": [
                "### **Q8:** สัดส่วนของการใช้คะแนนสะสม(point) เพื่อแลกเป็นส่วนลดในการใช้ซื้อของ"
            ],
            "metadata": {
                "azdata_cell_guid": "1b70bef6-b574-4bd8-b650-9d19cbe7fa7c",
                "language": "sql"
            },
            "attachments": {}
        },
        {
            "cell_type": "code",
            "source": [
                "WITH tmp AS (\n",
                "    SELECT EXTRACT(YEAR FROM o.order_date) \"Year\",\n",
                "        EXTRACT(MONTH FROM o.order_date) \"Month\",\n",
                "        SUM(CASE WHEN pl.movement < 0 THEN pl.movement ELSE 0 END) \"Total Point Used\",\n",
                "        SUM(po.qty * ph.price) \"Total Sales\"\n",
                "    FROM PointLog pl\n",
                "    LEFT JOIN Order o ON o.order_id = pl.remark\n",
                "    LEFT JOIN ProductOrder po ON po.order_id = o.order_id\n",
                "    LEFT JOIN PriceHistory ph ON ph.product_id = po.product_id\n",
                "    WHERE o.order_date BETWEEN ph.start_date AND COLEASE(ph.end_date, '9999-12-31')\n",
                "    GROUP BY \"Year\", \"Month\"\n",
                ")\n",
                "\n",
                "SELECT *,\n",
                "    TO_CHAR(\"Total Sales\"::DECIMAL / \"Total Point Used\"::DECIMAL * 100, '999,999.99') | '%' \"Percentage\"\n",
                "FROM tmp"
            ],
            "metadata": {
                "azdata_cell_guid": "bff2af7d-f24a-4e8d-a4e4-c04daf75895e",
                "language": "sql",
                "vscode": {
                    "languageId": "sql"
                }
            },
            "outputs": [],
            "execution_count": null
        },
        {
            "cell_type": "markdown",
            "source": [
                "explanation:"
            ],
            "metadata": {
                "azdata_cell_guid": "f917b84e-3ddb-46e4-a29f-9bd81862f27d",
                "language": "sql"
            },
            "attachments": {}
        },
        {
            "cell_type": "markdown",
            "source": [
                "### **Q9:** จำนวนพนักงานที่ทำงานอยู่ในแต่ละสาขามีผลต่อยอดขายรวมของสาขานั้นหรือไม่"
            ],
            "metadata": {
                "azdata_cell_guid": "802111c7-53eb-470e-8164-da7c55cdd368",
                "language": "sql"
            },
            "attachments": {}
        },
        {
            "cell_type": "code",
            "source": [
                "-- ใช้อะไรนะ 55555555"
            ],
            "metadata": {
                "azdata_cell_guid": "dd1ef86f-0ec1-4c74-9805-82d0b57187d7",
                "language": "sql",
                "vscode": {
                    "languageId": "sql"
                }
            },
            "outputs": [],
            "execution_count": null
        },
        {
            "cell_type": "markdown",
            "source": [
                "explanation:"
            ],
            "metadata": {
                "azdata_cell_guid": "1fa22740-74bf-4873-b5f4-97076ee70e9b",
                "language": "sql"
            },
            "attachments": {}
        },
        {
            "cell_type": "markdown",
            "source": [
                "### **Q10:** ลูกค้าส่วนใหญ่ที่สั่งสินค้าผ่านรูปแบบออนไลน์ให้จัดส่งสินค้าไปที่พื้นที่/จังหวัดไหน มากที่สุด"
            ],
            "metadata": {
                "azdata_cell_guid": "3659287b-566e-4681-8591-3d02035c0c8d",
                "language": "sql"
            },
            "attachments": {}
        },
        {
            "cell_type": "code",
            "source": [
                "SELECT a.province,\n",
                "    COUNT(*)\n",
                "FROM ProductOrder po\n",
                "JOIN Order p ON po.order_id = p.order_id\n",
                "LEFT JOIN MemberAddress ma ON ma.mem_add_id = o.mem_add_id\n",
                "LEFT JOIN Address a ON a.address_id = ma.address_id\n",
                "WHERE o.order_type = 1\n",
                "GROUP BY a.province"
            ],
            "metadata": {
                "azdata_cell_guid": "f5dbf596-32dd-4fed-bdfc-3818b8a000d5",
                "language": "sql",
                "vscode": {
                    "languageId": "sql"
                }
            },
            "outputs": [],
            "execution_count": null
        },
        {
            "cell_type": "markdown",
            "source": [
                "explanation:"
            ],
            "metadata": {
                "azdata_cell_guid": "a144f662-6795-429c-8d23-19a5e76e58a0",
                "language": "sql"
            },
            "attachments": {}
        },
        {
            "cell_type": "markdown",
            "source": [
                "## **Conclusion**"
            ],
            "metadata": {
                "azdata_cell_guid": "f2013042-b7c4-46df-be75-f5ee5350f13c",
                "language": "sql"
            },
            "attachments": {}
        },
        {
            "cell_type": "markdown",
            "source": [
                "## **Reference**\n",
                "\n",
                "[ikea thailand website](https://www.ikea.com/th/th/?gclid=Cj0KCQjw-pyqBhDmARIsAKd9XIOcZXbz2kMWZsCwIyhnmEwRSrr5jf4XzZGqTPxovq1DWI8pnI6d3pMaAkZOEALw_wcB&gclsrc=aw.ds)\n",
                "\n",
                "[https://th.wikipedia.org/wiki/%E0%B8%AD%E0%B8%B4%E0%B9%80%E0%B8%81%E0%B8%B5%E0%B8%A2](https://th.wikipedia.org/wiki/%E0%B8%AD%E0%B8%B4%E0%B9%80%E0%B8%81%E0%B8%B5%E0%B8%A2)\n",
                "\n",
                "https://www.kasikornresearch.com/th\n",
                "\n",
                "[https://www.longtunman.com/25609](https://www.longtunman.com/25609)"
            ],
            "metadata": {
                "azdata_cell_guid": "ed204d6c-afd1-47f9-98e3-65097e6107a4",
                "language": "sql"
            },
            "attachments": {}
        },
        {
            "cell_type": "markdown",
            "source": [
                "![](test.jpg)"
            ],
            "metadata": {
                "azdata_cell_guid": "2a43e998-84ef-4c49-abfe-cc808264bce6"
            }
        }
    ]
}