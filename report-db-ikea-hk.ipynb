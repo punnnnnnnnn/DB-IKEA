{
    "metadata": {
        "kernelspec": {
            "name": "SQL",
            "display_name": "SQL",
            "language": "sql"
        },
        "language_info": {
            "name": "sql",
            "version": ""
        }
    },
    "nbformat_minor": 2,
    "nbformat": 4,
    "cells": [
        {
            "cell_type": "markdown",
            "source": [
                "# **IKEA Report**"
            ],
            "metadata": {
                "azdata_cell_guid": "fc27721e-7aca-45e0-a59d-a238bd243642"
            },
            "attachments": {}
        },
        {
            "cell_type": "markdown",
            "source": [
                "list เฉยๆคับ\n",
                "\n",
                "\\- executive summary\n",
                "\n",
                "\\- background ifm organization and industry\n",
                "\n",
                "\\- database design (ERD, bus rule, explaination)\n",
                "\n",
                "\\- 10 questions (Analysis: SQL statement, result tables, recommendations)\n",
                "\n",
                "\\- conclusion\n",
                "\n",
                "\\- reference"
            ],
            "metadata": {
                "azdata_cell_guid": "60d5d65d-228e-4a65-9fcb-b1ffc4f325da"
            },
            "attachments": {}
        },
        {
            "cell_type": "markdown",
            "source": [
                "## **Background Information**"
            ],
            "metadata": {
                "azdata_cell_guid": "88d8f66c-9468-46fd-a302-f17e5ba07601"
            },
            "attachments": {}
        },
        {
            "cell_type": "markdown",
            "source": [
                "**About IKEA**\n",
                "\n",
                "อิเกียเป็นบริษัทผลิตและจำหน่ายเฟอร์นิเจอร์บ้านจากประเทศสวีเดน ซึ่งตัวเฟอร์นิเจอร์นั้นมีการออกแบบที่ดีใช้\n",
                "\n",
                "งานได้สะดวก ทนทาน และราคาไม่แพง ทั้งยังสามารถประกอบเองได้ไม่ยาก และไม่จำเป็นต้องกังวลว่าการขนส่งจะทำให้\n",
                "\n",
                "สินค้าเสียหายจากการแพ็คในรูปแบบของกล่องแบน ภายใต้วิสัยทัศน์ที่ว่า การทำให้ชีวิตประจำวันของใครหลายคนดีขึ้น"
            ],
            "metadata": {
                "azdata_cell_guid": "fbddbe53-6057-4642-bb9b-860b8dc70865"
            },
            "attachments": {}
        },
        {
            "cell_type": "markdown",
            "source": [
                "**Furniture and Homeware Industry**"
            ],
            "metadata": {
                "azdata_cell_guid": "80db6d9a-77a2-4912-8ba0-ffb918227745"
            },
            "attachments": {}
        },
        {
            "cell_type": "markdown",
            "source": [
                "## **10 Business-Related Questions**"
            ],
            "metadata": {
                "azdata_cell_guid": "885574ea-6db3-46db-a7fc-6d1bf119dced"
            },
            "attachments": {}
        },
        {
            "cell_type": "markdown",
            "source": [
                "### **Q1:** สินค้ารายการไหนที่ไม่ถูกซื้อเลยในช่วง 6 เดือนที่ผ่านมา (หรือ 1 ปี)"
            ],
            "metadata": {
                "azdata_cell_guid": "99a6ac89-9bd3-45b3-8f76-479224f89681"
            },
            "attachments": {}
        },
        {
            "cell_type": "code",
            "source": [
                ""
            ],
            "metadata": {
                "azdata_cell_guid": "ef6c02f3-e883-498c-a966-20936a81efb9",
                "language": "sql"
            },
            "outputs": [],
            "execution_count": null
        },
        {
            "cell_type": "markdown",
            "source": [
                "### **Q2:** 5 รายการสินค้าที่ถูกลูกค้าส่งคืนมากที่สุด เมื่อสินค้านั้นถูกสั่งผ่านรูปแบบออนไลน์\n",
                "\n",
                "> ### โดยเรียงจากสินค้าที่ถูกส่งกลับมากที่สุดขึ้นก่อน"
            ],
            "metadata": {
                "azdata_cell_guid": "36cf30fa-a5ff-4bc5-858e-b96c67246136"
            },
            "attachments": {}
        },
        {
            "cell_type": "code",
            "source": [
                ""
            ],
            "metadata": {
                "azdata_cell_guid": "b681567f-abec-4e82-956d-af71a169b70a",
                "language": "sql"
            },
            "outputs": [],
            "execution_count": null
        },
        {
            "cell_type": "markdown",
            "source": [
                "### **Q3**: สินค้า Collection สามารถสร้างยอดขายได้มาก"
            ],
            "metadata": {
                "language": "sql",
                "azdata_cell_guid": "e8d95399-9932-4917-832d-22f524641b6a"
            },
            "attachments": {}
        },
        {
            "cell_type": "code",
            "source": [
                ""
            ],
            "metadata": {
                "language": "sql",
                "azdata_cell_guid": "bd91c1ec-ea80-4dfe-94d2-bc958908730f"
            },
            "outputs": [],
            "execution_count": null
        },
        {
            "cell_type": "markdown",
            "source": [
                "### **Q4: ยอดขายจากสินค้าที่ถูกแนะนำ (recommended product) นั้นมากกว่าสินค้าปกติมากแค่ไหน**"
            ],
            "metadata": {
                "language": "sql",
                "azdata_cell_guid": "db9a617f-b83e-49ef-97a1-e669cf2de59d"
            },
            "attachments": {}
        },
        {
            "cell_type": "code",
            "source": [
                ""
            ],
            "metadata": {
                "language": "sql",
                "azdata_cell_guid": "72d16027-f3b2-4313-beea-c65af834fdf7"
            },
            "outputs": [],
            "execution_count": null
        },
        {
            "cell_type": "markdown",
            "source": [
                "### **Q5:** ช่วงไหน(เดือน/ไตรมาส ว่ากันอีกที) ที่เราควรทำการใช้/ปล่อย promotion เพื่อทำการกระตุ้นยอดขาย"
            ],
            "metadata": {
                "language": "sql",
                "azdata_cell_guid": "446f604e-82b6-4437-937c-9031635d4940"
            },
            "attachments": {}
        },
        {
            "cell_type": "markdown",
            "source": [
                "### **Q6:** ในช่วงสถานการณ์การแพร่ระบายของโควิด-19 ยอดขายสินค้าของ IKEA ผ่านรูปแบบออนไลน์มีลักษณะเป็นอย่างไร เพิ่มขึ้นมากน้อยเพียงใด"
            ],
            "metadata": {
                "language": "sql",
                "azdata_cell_guid": "66ca3618-bd8b-4980-a884-11ebf7494b1b"
            },
            "attachments": {}
        },
        {
            "cell_type": "code",
            "source": [
                ""
            ],
            "metadata": {
                "language": "sql",
                "azdata_cell_guid": "5e380717-b12b-4ecd-92c2-fa4d2dd28c46"
            },
            "outputs": [],
            "execution_count": null
        },
        {
            "cell_type": "markdown",
            "source": [
                "### **Q7:** สินค้ารายการไหนที่มีจำนวนเฉลี่ยในการสั่งซื้อ มากกว่าหรือเท่ากับ 4 units ใน 1 order"
            ],
            "metadata": {
                "azdata_cell_guid": "b5dd53e3-85d6-4a47-9c8c-7d00ea251ed0"
            },
            "attachments": {}
        },
        {
            "cell_type": "code",
            "source": [
                ""
            ],
            "metadata": {
                "azdata_cell_guid": "b1f9bd73-73d0-4b55-8c9b-09d4dad3be17",
                "language": "sql"
            },
            "outputs": [],
            "execution_count": null
        },
        {
            "cell_type": "markdown",
            "source": [
                "### **Q8:** สัดส่วนของการใช้คะแนนสะสม(point) เพื่อแลกเป็นส่วนลดในการใช้ซื้อของ"
            ],
            "metadata": {
                "language": "sql",
                "azdata_cell_guid": "1b70bef6-b574-4bd8-b650-9d19cbe7fa7c"
            },
            "attachments": {}
        },
        {
            "cell_type": "code",
            "source": [
                ""
            ],
            "metadata": {
                "language": "sql",
                "azdata_cell_guid": "bff2af7d-f24a-4e8d-a4e4-c04daf75895e"
            },
            "outputs": [],
            "execution_count": null
        },
        {
            "cell_type": "markdown",
            "source": [
                "### **Q9:** จำนวนพนักงานที่ทำงานอยู่ในแต่ละสาขามีผลต่อยอดขายรวมของสาขานั้นหรือไม่"
            ],
            "metadata": {
                "language": "sql",
                "azdata_cell_guid": "802111c7-53eb-470e-8164-da7c55cdd368"
            },
            "attachments": {}
        },
        {
            "cell_type": "code",
            "source": [
                ""
            ],
            "metadata": {
                "language": "sql",
                "azdata_cell_guid": "dd1ef86f-0ec1-4c74-9805-82d0b57187d7"
            },
            "outputs": [],
            "execution_count": null
        },
        {
            "cell_type": "markdown",
            "source": [
                "### **Q10:** ลูกค้าส่วนใหญ่ที่สั่งสินค้าผ่านรูปแบบออนไลน์ให้จัดส่งสินค้าไปที่พื้นที่/จังหวัดไหน มากที่สุด"
            ],
            "metadata": {
                "language": "sql",
                "azdata_cell_guid": "3659287b-566e-4681-8591-3d02035c0c8d"
            },
            "attachments": {}
        },
        {
            "cell_type": "markdown",
            "source": [
                ""
            ],
            "metadata": {
                "language": "sql",
                "azdata_cell_guid": "f2013042-b7c4-46df-be75-f5ee5350f13c"
            }
        }
    ]
}