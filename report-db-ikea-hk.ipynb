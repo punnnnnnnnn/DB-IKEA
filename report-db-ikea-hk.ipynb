{
    "metadata": {
        "kernelspec": {
            "name": "SQL",
            "display_name": "SQL",
            "language": "sql"
        },
        "language_info": {
            "name": "sql",
            "version": ""
        }
    },
    "nbformat_minor": 2,
    "nbformat": 4,
    "cells": [
        {
            "cell_type": "markdown",
            "source": [
                "# **IKEA Report**"
            ],
            "metadata": {
                "azdata_cell_guid": "fc27721e-7aca-45e0-a59d-a238bd243642"
            },
            "attachments": {}
        },
        {
            "cell_type": "markdown",
            "source": [
                "![](ikea_logo.png)"
            ],
            "metadata": {
                "azdata_cell_guid": "892b8566-1734-4f61-9f10-bb1368274314"
            },
            "attachments": {}
        },
        {
            "cell_type": "markdown",
            "source": [
                "# <u>Contents</u>\n",
                "* [Executive Summary]()\n",
                "* [Background Information]()\n",
                "* [Database Design]()\n",
                "* [10 Buniness-Related Questions]()\n",
                "* [Conclusion]()\n",
                "* [References]()"
            ],
            "metadata": {
                "azdata_cell_guid": "7c3b93ca-7408-44e1-8aa9-31ea136c01fd"
            },
            "attachments": {}
        },
        {
            "cell_type": "markdown",
            "source": [
                "**list เฉยๆคับ**\n",
                "\n",
                "- [ ]  executive summary\n",
                "- [x]  background ifm organization and industry\n",
                "- [ ]  database design (ERD, bus rule, explaination) <mark>bus rule รอคุยกันต้องเพิ่มให้ครอบคลุม erdอยากพูดถึงตารางไหนอีกมั้ย</mark>\n",
                "- [ ]  10 questions (Analysis: SQL statement, result tables, recommendations) <mark>ทำยุ อย่าลืมเอามาโยงกับผลลัพด้วย</mark>\n",
                "- [ ]  conclusion\n",
                "- [ ]  reference"
            ],
            "metadata": {
                "azdata_cell_guid": "60d5d65d-228e-4a65-9fcb-b1ffc4f325da"
            },
            "attachments": {}
        },
        {
            "cell_type": "markdown",
            "source": [
                "# <u>Executive Summary</u>\n",
                "\n",
                ""
            ],
            "metadata": {
                "azdata_cell_guid": "17022207-df2e-492b-be77-64e7a95b696c",
                "language": ""
            },
            "attachments": {}
        },
        {
            "cell_type": "markdown",
            "source": [
                "## ต้องทำไรอ่าาาาา"
            ],
            "metadata": {
                "azdata_cell_guid": "8d8962fb-d16b-4f26-9d2f-7b15dc92ee76"
            },
            "attachments": {}
        },
        {
            "cell_type": "markdown",
            "source": [
                "# <u>Background Information</u>\n",
                "\n",
                "## About IKEA\n",
                "\n",
                "IKEA เป็นบริษัทผลิตและจำหน่ายเฟอร์นิเจอร์ ของใช้ในบ้านสัญชาติสวีเดน ก่อตั้งขึ้นในปี ค.ศ. 1943 โดยเริ่มต้นจากการขายโต๊ะไม้ขนาดเล็กภายในครัว ก่อนจะเริ่มขยายไลน์สินค้าไปขาย เฟอร์นิเจอร์อื่นๆ            \n",
                "\n",
                "IKEA มีชื่อเสียงและเติบโตในสวีเดนอย่างรวดเร็ว จนสามารถขยายธุรกิจไปยังต่างประเทศได้ในปี ค.ศ. 1963 ปัจจุบันอิเกียมีมากกว่า 460 แห่ง กระจายอยู่ใน 60 กว่าประเทศทั่วโลกโดยอิเกียได้เริ่มเข้ามาทำธุรกิจครั้งแรกในประเทศไทยในปี ค.ศ. 2011 ที่อิเกียบางนา ปัจจุบัน IKEA ประเทศไทย มีทั้งหมด 4 สาขา ได้แก่ IKEA บางนา, IKEA บางใหญ่, IKEA ภูเก็ต และ IKEA สุขุมวิทที่จะเปิดให้บริการในช่วงเดือนธันวาคม ค.ศ. 2023\n",
                "\n",
                "สินค้าของ IKEA มีจุดเด่นคือ สินค้าคุณภาพดีในราคาย่อมเยา ดีไซน์เรียบง่ายแต่สวยงาม ใช้งานได้สะดวกและทนทาน ทั้งยังสามารถประกอบเองได้ไม่ยาก และไม่ต้องกังวลว่าการขนส่งจะทำให้สินค้าเสียหายจากการที่เลือกแพ็คในรูปแบบของกล่องแบน\n",
                "\n",
                "อีกทั้ง IKEA ยังมีแนวคิดในการออกแบบสินค้าที่เป็นมิตรกับสิ่งแวดล้อมโดยเลือกใช้วัสดุที่ยั่งยืนและสามารถรีไซเคิลได้ และมุ่งมั่นที่จะลดผลกระทบต่อสิ่งแวดล้อมในทุกขั้นตอนการผลิตและการจัดจำหน่ายสินค้า\n",
                "\n",
                "\n",
                "#### <u>วิสัยทัศน์ของ IKEA</u>\n",
                "\n",
                "**“การทำให้ชีวิตประจำวันของใครหลายคนดีขึ้น”**\n",
                "\n",
                "วิสัยทัศน์นี้ก้าวไปไกลกว่าการตกแต่งบ้าน เราต้องการให้เกิดผลดีต่อโลก ตั้งแต่ชุมชนที่เรานำวัตถุดิบมาใช้ ไปจนถึงวิธีที่ผลิตภัณฑ์ของเราจะช่วยให้ลูกค้าใช้ชีวิตได้อย่างยั่งยืนมากขึ้นที่บ้าน\n",
                "\n",
                "\n",
                "#### <u>แนวคิดทางธุรกิจของ IKEA</u>\n",
                "**“การนำเสนอผลิตภัณฑ์ตกแต่งบ้านหลากหลายแบบที่ออกแบบมาอย่างดี ใช้งานได้ดี ในราคาที่ถูก ที่คนจำนวนมากที่สุดจะสามารถซื้อได้”**\n",
                "\n",
                ""
            ],
            "metadata": {
                "azdata_cell_guid": "fbddbe53-6057-4642-bb9b-860b8dc70865"
            },
            "attachments": {}
        },
        {
            "cell_type": "markdown",
            "source": [
                "## Furniture and Homeware Industry\n",
                "\n",
                "IKEA **ถูกจัดอยู่ในอุตสาหกรรมประเภทเฟอร์นิเจอร์และของใช้ในบ้าน ซึ่งนับเป็นอุตสาหกรรมหนึ่งที่มีบทบาทสำคัญต่อเศรษฐกิจของประเทศไทย ทั้งในเรื่องของการส่งออกสินค้าและการเป็นแหล่งจ้างงาน** \n",
                "\n",
                "IKEA เข้ามามีบทบาทสำคัญในการปฏิวัติตลาดเฟอร์นิเจอร์ของไทย โดยได้เข้ามาสร้างแนวคิด เฟอร์นิเจอร์แบบ DIY (Do it Yourself) ให้กับผู้บริโภคไทยซึ่งช่วยให้ผู้บริโภคสามารถประหยัดค่าใช้จ่ายในการซื้อเฟอร์นิเจอร์ได้\n",
                "\n",
                "การเข้ามาของ IKEA ในประเทศไทย ส่งผลให้ตลาดเฟอร์นิเจอร์ของไทยมีการแข่งขันที่สูงขึ้น ผู้ประกอบการไทยบางรายหันมาผลิตเฟอร์นิเจอร์แบบ DIY เพื่อแข่งขันกับIKEA ในขณะที่ผู้ประกอบการรายอื่นหันมาเน้นการผลิตเฟอร์นิเจอร์ระดับพรีเมียม เพื่อตอบสนองความต้องการของผู้บริโภคที่ต้องการเฟอร์นิเจอร์คุณภาพสูง\n",
                "\n",
                "IKEA ได้รับความนิยมจากผู้บริโภคไทยเป็นอย่างมาก โดยในปี 2022 อีเกียมียอดขายในประเทศไทยกว่า 1.5 หมื่นล้านบาท คิดเป็นสัดส่วนกว่า 20% ของมูลค่าตลาดเฟอร์นิเจอร์ทั้งหมดของไทย อย่างไรก็ตาม IKEA ก็ยังมีคู่แข่งรายสำคัญจากแบรนด์ไทย เช่น Index Living Mall และ HomePro ซึ่งแบรนด์เหล่านี้มีจุดแข็งในด้านความใกล้ชิดกับผู้บริโภคไทย และความเข้าใจความต้องการของผู้บริโภคไทย\n",
                "\n",
                "<span style=\"background-color:transparent;color:rgb(31, 31, 31);font-family:Arial, sans-serif;font-size:12pt;white-space:pre-wrap;\"><br></span>"
            ],
            "metadata": {
                "azdata_cell_guid": "80db6d9a-77a2-4912-8ba0-ffb918227745"
            },
            "attachments": {}
        },
        {
            "cell_type": "markdown",
            "source": [
                "# <u>Database Design</u>"
            ],
            "metadata": {
                "azdata_cell_guid": "727cb851-6245-45f0-9e05-4e52ccbbd858"
            },
            "attachments": {}
        },
        {
            "cell_type": "markdown",
            "source": [
                "## Our team assumption\n",
                "\n",
                "- ธุรกิจ IKEAในครั้งนี้จะมุ่งเน้นเฉพาะส่วนเฟอร์นิเจอร์และของใช้ในบ้านและบริการบางอย่างเพียงเท่านั้น เช่น การส่งสินค้าและการรับคืนสินค้า\n",
                "    \n",
                "- IKEA Store และ IKEA Online จะใช้ฐานข้อมูลเดียวกัน\n",
                "    \n",
                "- IKEA ไม่มีระบบผ่อนชำระสินค้า โดยมีช่องทางการชำระเงิน  4 ทาง ได้แก่ เงินสด บัตรเครดิตหรือเดบิต(เฉพาะวีซ่าและมาสเตอร์การ์ด) และ พร้อมเพย์\n",
                "    \n",
                "- บัตรของขวัญ (Gift card) ที่ใช้สำหรับเป็นส่วนลดในการซื้อสินค้าของนั้น มีลักษณะเดียวกันกับบัตรกำนัล สามารถใช้ลดราคาสินค้าได้เพียงครั้งเดียวเท่านั้น โดยลูกค้าจะต้องซื้อสินค้าที่มียอดรวมไม่น้อยกว่ามูลค่าของบัตรของขวัญนั้น\n",
                "    \n",
                "- การรับประกันและประวัติการรับประกันของสินค้าแต่ละชิ้นจะแตกต่างกันไปตามประเภทและรุ่นของสินค้า\n",
                "    \n",
                "- สินค้าที่ถูกส่งคืนจะนำไปจำหน่ายในช่องทางอื่นหรือทำลายทิ้ง จะไม่นำกลับเข้าไปในสต็อกสินค้า \n",
                "    \n",
                "- IKEA มีโปรโมชั่นเพียง 2 รูปแบบ ดังนี้ การลดราคาเป็นเปอร์เซ็นต์จากยอดขายสุทธิ และ การให้โบนัสคะแนนคูณจากคะแนนปกติ\n",
                "    \n",
                "- IKEA Store เปิดให้บริการทุกวัน ตั้งแต่เวลา 10.00 น. ถึง 21.00 น.\n",
                "    \n",
                "\n",
                "and more"
            ],
            "metadata": {
                "azdata_cell_guid": "4938929d-f0d8-4d23-93a3-8933153ef467"
            },
            "attachments": {}
        },
        {
            "cell_type": "markdown",
            "source": [
                "## Business Rule\n",
                "\n",
                "- คะแนน IKEA Family จะหมดอายุภายใน 2 ปี นับจากวันที่ได้รับคะแนน หากคะแนนสะสมหมดอายุ คะแนนสะสมดังกล่าวจะไม่สามารถแลกใช้เป็นส่วนลดได้\n",
                "    \n",
                "- คะแนน IKEA Family คำนวณจากยอดขายสุทธิของคำสั่งซื้อ โดยจะได้รับคะแนน 10% ของยอดขายสุทธิ เศษของคะแนนจะถูกปัดทิ้ง\n",
                "    \n",
                "- คะแนนจะเพิ่มเข้าบัญชีสมาชิกโดยอัตโนมัติ หลังจากสถานะการสั่งซื้อ (OrderStatus) เปลี่ยนเป็น \"เสร็จสมบูรณ์\" ไม่มีการยกเลิกคำสั่งซื้อ\n",
                "    \n",
                "- เพื่อให้ลูกค้าสามารถสั่งซื้อสินค้าผ่านทางช่องทางออนไลน์ได้ ลูกค้าจะต้องสมัครเป็นสมาชิก IKEA Family ก่อน\n",
                "    \n",
                "- ออนไลน์เลือกได้สองแบบ ส่งบ้าน หรือ รับที่สาขา????????????????////////////////////////"
            ],
            "metadata": {
                "azdata_cell_guid": "e4933d64-ad51-4a78-95f1-c4764be05b89"
            },
            "attachments": {}
        },
        {
            "cell_type": "markdown",
            "source": [
                "แปะตัว erd"
            ],
            "metadata": {
                "azdata_cell_guid": "ebef0035-9281-437f-af94-4d5084c0c1e7"
            },
            "attachments": {}
        },
        {
            "cell_type": "markdown",
            "source": [
                "[pgerd file]()"
            ],
            "metadata": {
                "azdata_cell_guid": "aed67a05-b2c7-4237-9bc4-02ba48ba0df4"
            },
            "attachments": {}
        },
        {
            "cell_type": "markdown",
            "source": [
                "#### <u>**Category & Subcategory**</u>\n",
                "\n",
                "เนื่องจาก IKEA แยกสินค้าเป็นหลายหมวดหมู่และมีหมวดหมู่ย่อยแตกออกมาเป็นจำนวนมาก เพื่ออำนวยความสะดวกให้ลูกค้าสามารถหาสินค้าได้ง่ายขึ้น รวมถึงทำให้อิเกียสามารถเก็บข้อมูลสินค้าได้ละเอียดมากขึ้น ซึ่งสามารถนำข้อมูลเหล่านี้ใช้ในการทำการตลาด การพัฒนาสินค้าใหม่ และการวิเคราะห์ข้อมูลการขายได้อย่างมีประสิทธิภาพมากขึ้น\n",
                "\n",
                "โดย… อธิบายเรื่อง subcat อาจจะยกตัวอย่างสินค้านึงในข้อมูลมาช่วยอธิบาย <mark>ช่วยด้วยครับผมยังไม่เข้าใจขนาดนั้น</mark>"
            ],
            "metadata": {
                "azdata_cell_guid": "cf05d934-f4d6-4454-ace7-b0efc5420eab"
            },
            "attachments": {}
        },
        {
            "cell_type": "markdown",
            "source": [
                "#### <u>**Order**</u>\n",
                "\n",
                "- ใช้เก็บข้อมูลของรายละเอียดคำสั่งซื้อแต่ละรายการ โดยข้อมูลหลักที่เก็บ ได้แก่\n",
                "    * วันและเวลาของคำสั่งซื้อ\n",
                "    * รูปแบบการสั่งซื้อ\n",
                "    * รูปแบบการชำระเงิน\n",
                "\n",
                "- ส่วนข้อมูลเสริมที่สามารถเก็บเป็นค่าว่างได้ ได้แก่\n",
                "    * รหัสพนักงานที่รับคำสั่งซื้อสำหรับการสั่งซื้อสินค้าที่สาขา\n",
                "    * วิธีการขนส่งสำหรับการสั่งซื้อผ่านรูปแบบออนไลน์\n",
                "    * ที่อยู่ของผู้สั่งสินค้าสำหรับการสั่งซื้อผ่านรูปแบบออนไลน์\n",
                "    * รหัสสมาชิกสำหรับการสั่งซื้อสินค้าที่สาขา\n",
                "    * รหัสโปรโมชั่นที่ใช้ หากมีการใช้โปรโมชั่นในคำสั่งซื้อ\n",
                "    * การใช้บัตรของขวัญเป็นส่วนลด"
            ],
            "metadata": {
                "azdata_cell_guid": "e71bc27f-5f0b-4c07-b2b6-2bd259f24bcb"
            },
            "attachments": {}
        },
        {
            "cell_type": "markdown",
            "source": [
                "#### <u>**OrderStatus**</u>\n",
                "- เป็นตารางเชื่อมระหว่างตาราง Order และ Status ทำหน้าที่เก็บสถานะของแต่ละคำสั่งซื้อในช่วงเวลาหนึ่ง โดยจำเป็นต้องเก็บข้อมูลทั้งรหัสคำสั่งซื้อ (order_id) รหัสสถานะ (status_id) และเวลาของสถานะนั้น (timestamp) ไม่สามารถปล่อยให้เป็นค่าว่างได้"
            ],
            "metadata": {
                "azdata_cell_guid": "46d8a90c-c2b4-4c42-b530-28dd5720002c"
            },
            "attachments": {}
        },
        {
            "cell_type": "markdown",
            "source": [
                "#### <u>**Product_Order** </u>\n",
                "\n",
                "- ใช้เก็บข้อมูลสินค้าและจำนวนสินค้าในคำสั่งซื้อ\n",
                "- มีการเก็บรหัสคลังสินค้าและสาขา (wb_id) เพื่อเชื่อมกับตาราง WarehouseBranch สำหรับการดูว่าสินค้ามาจากสาขาไหนและคลังสินค้าไหน\n",
                "- มีการเชื่อมกับตาราง Product_order_return สำหรับการส่งคืนสินค้าที่ลูกค้าอาจจะส่งกลับเพียงสินค้าแค่บางชิ้นในคำสั่งซื้อ\n",
                ""
            ],
            "metadata": {
                "azdata_cell_guid": "b02fbf22-faba-4170-9324-623dfec5df4f"
            },
            "attachments": {}
        },
        {
            "cell_type": "markdown",
            "source": [
                "#### <u>**Promotion**</u>"
            ],
            "metadata": {
                "azdata_cell_guid": "bd7e3661-1e67-4ca6-b29b-5ffafea9df3a"
            },
            "attachments": {}
        },
        {
            "cell_type": "markdown",
            "source": [
                "#### <u>**PriceHistory**</u>"
            ],
            "metadata": {
                "azdata_cell_guid": "8ae3e720-c58a-4008-b76a-9218c46e8e4f"
            },
            "attachments": {}
        },
        {
            "cell_type": "markdown",
            "source": [
                "#### <u>**Warranty**</u>"
            ],
            "metadata": {
                "azdata_cell_guid": "565dc9a5-1aca-4fa4-bf3a-362e3848de07"
            },
            "attachments": {}
        },
        {
            "cell_type": "markdown",
            "source": [
                "#### <u>**WarrantyRecord**</u>"
            ],
            "metadata": {
                "azdata_cell_guid": "bf5218d2-4dd7-44b1-bd61-8aa00550e09c"
            },
            "attachments": {}
        },
        {
            "cell_type": "markdown",
            "source": [
                "#### <u>Employee</u>\n",
                "\n",
                "- ใช้เก็บข้อมูลทั่วไปของพนักงาน เช่น ชื่อ นามสกุล วันเดือนปีเกิด \n",
                "    \n",
                "- ใช้เก็บข้อมูลตำแหน่งของพนักงาน โดยระบุรหัสตำแหน่ง (position\\_id) ซึ่งเชื่อมโยงกับตาราง Position\n",
                "    \n",
                "- บันทึกสาขาที่พนักงานประจำอยู่ โดยระบุรหัสสาขา (branch\\_id) ซึ่งเชื่อมโยงกับตารางBranch ทั้งนี้คอลัมน์นี้กำหนดให้สามารถว่างได้ เนื่องจากพนักงานใหม่อาจจะยังไม่ได้ถูกกำหนดสาขาประจำของตัวเอง และมีพนักงานที่ทำงานในส่วนกลาง ซึ่งจะไม่ปฏิบัติงานให้กับสาขาใดสาขาหนึ่ง เช่น พนักงานบัญชี หรือ พนักงานที่ดูแลในส่วนของเว็บไซต์ IKEA Thailand"
            ],
            "metadata": {
                "azdata_cell_guid": "569ca57f-35d4-4d5e-bd36-7fd83ec522db"
            },
            "attachments": {}
        },
        {
            "cell_type": "markdown",
            "source": [
                "  #### <u>**MemberAddress**</u>\n",
                "\n",
                "- ตารางนี้ใช้เชื่อมระหว่างตาราง Member และ Address เพื่อเก็บข้อมูลที่อยู่ของลูกค้า            \n",
                "- ลูกค้าหลายคนสามารถใช้ที่อยู่เดียวกันได้ และลูกค้าหนึ่งคนสามารถมีที่อยู่ได้หลายแห่ง\n",
                "- มีคอลัมน์ isDefault เพื่อระบุที่อยู่หลักของลูกค้า หากลูกค้ามีที่อยู่หลายแห่งและไม่ได้ระบุเลือกที่อยู่มาในคำสั่งซื้อ จะใช้ที่อยู่หลักนี้แทน"
            ],
            "metadata": {
                "azdata_cell_guid": "2f5c60dc-283d-44e9-979e-2a17c33eef3e"
            },
            "attachments": {}
        },
        {
            "cell_type": "markdown",
            "source": [
                "#### <u>**PointLog**</u>\n",
                "\n",
                "- เป็นตารางสำหรับเก็บการเคลื่อนไหวของคะแนนของสมาชิก IKEA\n",
                "- เนื่องจาก IKEA เป็นบริษัทขนาดใหญ่ที่มีจำนวน transaction เยอะ การจะคำนวณคะแนนที่เหลือจากการเชื่อมหลาย ๆ ตารางเข้าด้วยกันจะใช้ทรัพยากรค่อนข้างสูง จึงเกิดเป็นตารางเฉพาะนี้ขึ้นมา แม้อาจไม่ถูกหลักของ \"3rd normal form\""
            ],
            "metadata": {
                "azdata_cell_guid": "af5d24e4-3f99-4bb8-8bad-d971fa26003c"
            },
            "attachments": {}
        },
        {
            "cell_type": "markdown",
            "source": [
                "#### <u>Warehouse</u>\n",
                "\n",
                "- ตัวคลังสินค้าจะมีความสัมพันธ์กับสาขา แบบ Many-to-manyแบบที่คลังสินค้าหนึ่งคลังสามารถส่งสินค้าให้ได้หลายสาขาและสาขาหนึ่งสาขาสามารถนำสินค้ามาได้จากหลายคลัง โดยจะเชื่อมกันด้วยตาราง WarehouseBranch ซึ่งเป็นตารางเชื่อมต่อ (Junction table)\n",
                "    \n",
                "- คลังสินค้าจะมีส่วนเกี่ยวข้องกับเรื่องสต็อกสินค้าในการบันทึกสินค้าที่มีคงเหลือในคลัง โดยจะมีตาราง Stock เป็นตารางเชื่อมต่อซึ่งดึงข้อมูลมาจากตาราง Warehouse และ Product"
            ],
            "metadata": {
                "azdata_cell_guid": "1b4bf945-403e-45a8-9c87-93b9377695e3"
            },
            "attachments": {}
        },
        {
            "cell_type": "markdown",
            "source": [
                "# <u>Analysis of current business practices</u> \n",
                "## 10 Related-Business Questions"
            ],
            "metadata": {
                "azdata_cell_guid": "885574ea-6db3-46db-a7fc-6d1bf119dced"
            },
            "attachments": {}
        },
        {
            "cell_type": "markdown",
            "source": [
                "### **Q1:** <span style=\"font-size:14px;font-family:-apple-system, BlinkMacSystemFont, sans-serif;\">สินค้ารายการไหนที่ไม่มีการสั่งซื้อเลย ในช่วง 6 เดือนที่ผ่านมา</span>"
            ],
            "metadata": {
                "azdata_cell_guid": "99a6ac89-9bd3-45b3-8f76-479224f89681"
            },
            "attachments": {}
        },
        {
            "cell_type": "code",
            "source": [
                "SELECT DISTINCT p.product_id,\n",
                "    p.product_name_eng\n",
                "FROM public.\"Product\" p\n",
                "WHERE p.product_id NOT IN (\n",
                "    SELECT DISTINCT po.product_id\n",
                "    FROM public.\"ProductOrder\" po\n",
                ")"
            ],
            "metadata": {
                "azdata_cell_guid": "ef6c02f3-e883-498c-a966-20936a81efb9",
                "language": "sql",
                "vscode": {
                    "languageId": "sql"
                }
            },
            "outputs": [
                {
                    "output_type": "display_data",
                    "data": {
                        "text/html": "(28 row(s) affected)"
                    },
                    "metadata": {}
                },
                {
                    "output_type": "display_data",
                    "data": {
                        "text/html": "Total execution time: 00:00:00.004"
                    },
                    "metadata": {}
                },
                {
                    "output_type": "execute_result",
                    "execution_count": 91,
                    "data": {
                        "application/vnd.dataresource+json": {
                            "schema": {
                                "fields": [
                                    {
                                        "name": "product_id"
                                    },
                                    {
                                        "name": "product_name_eng"
                                    }
                                ]
                            },
                            "data": [
                                {
                                    "product_id": "P000000958",
                                    "product_name_eng": "Tupplur Block-out Blind"
                                },
                                {
                                    "product_id": "P000000658",
                                    "product_name_eng": "RABBALSHOK Cable Clip"
                                },
                                {
                                    "product_id": "P000001392",
                                    "product_name_eng": "Hemnist Dish Drainer"
                                },
                                {
                                    "product_id": "P000000695",
                                    "product_name_eng": "LINGO Acoustic Panel"
                                },
                                {
                                    "product_id": "P000001532",
                                    "product_name_eng": "Lyndal Table Lamp"
                                },
                                {
                                    "product_id": "P000001041",
                                    "product_name_eng": "Grundtal Laundry"
                                },
                                {
                                    "product_id": "P000000774",
                                    "product_name_eng": "Malm Drawer Unit"
                                },
                                {
                                    "product_id": "P000001077",
                                    "product_name_eng": "Hemnes Cabinet"
                                },
                                {
                                    "product_id": "P000001463",
                                    "product_name_eng": "Mosslanda Picture Ledge"
                                },
                                {
                                    "product_id": "P000000271",
                                    "product_name_eng": "TILLAGAD Kitchen Faucet with Sensor"
                                },
                                {
                                    "product_id": "P000001605",
                                    "product_name_eng": "Leksvik Changing Table"
                                },
                                {
                                    "product_id": "P000000674",
                                    "product_name_eng": "KVARNVIK Storage Box"
                                },
                                {
                                    "product_id": "P000001341",
                                    "product_name_eng": "Isberget Tray"
                                },
                                {
                                    "product_id": "P000000439",
                                    "product_name_eng": "KOPARDAL Storage Box"
                                },
                                {
                                    "product_id": "P000000033",
                                    "product_name_eng": "FALSTER Storage Table Stool"
                                },
                                {
                                    "product_id": "P000000257",
                                    "product_name_eng": "BOHOLMEN Double Bowl Sink"
                                },
                                {
                                    "product_id": "P000000482",
                                    "product_name_eng": "HALLVIKEN Sink"
                                },
                                {
                                    "product_id": "P000001231",
                                    "product_name_eng": "Sandskar Outdoor Dining"
                                },
                                {
                                    "product_id": "P000001831",
                                    "product_name_eng": "BOAXEL Wire Basket"
                                },
                                {
                                    "product_id": "P000000589",
                                    "product_name_eng": "GRUNDTAL Hanger"
                                },
                                {
                                    "product_id": "P000001122",
                                    "product_name_eng": "Snalis Desk Organizer"
                                },
                                {
                                    "product_id": "P000000301",
                                    "product_name_eng": "MALA Chalkboard"
                                },
                                {
                                    "product_id": "P000001222",
                                    "product_name_eng": "Sinnerlig Bench"
                                },
                                {
                                    "product_id": "P000001675",
                                    "product_name_eng": "Pihkala Gazebo"
                                },
                                {
                                    "product_id": "P000000063",
                                    "product_name_eng": "Stretch Wrap Roll"
                                },
                                {
                                    "product_id": "P000001797",
                                    "product_name_eng": "Sofie Fabric"
                                },
                                {
                                    "product_id": "P000001145",
                                    "product_name_eng": "Upptacka Backpack"
                                },
                                {
                                    "product_id": "P000000068",
                                    "product_name_eng": "Moving Labels"
                                }
                            ]
                        },
                        "text/html": "<table><tr><th>product_id</th><th>product_name_eng</th></tr><tr><td>P000000958</td><td>Tupplur Block-out Blind</td></tr><tr><td>P000000658</td><td>RABBALSHOK Cable Clip</td></tr><tr><td>P000001392</td><td>Hemnist Dish Drainer</td></tr><tr><td>P000000695</td><td>LINGO Acoustic Panel</td></tr><tr><td>P000001532</td><td>Lyndal Table Lamp</td></tr><tr><td>P000001041</td><td>Grundtal Laundry</td></tr><tr><td>P000000774</td><td>Malm Drawer Unit</td></tr><tr><td>P000001077</td><td>Hemnes Cabinet</td></tr><tr><td>P000001463</td><td>Mosslanda Picture Ledge</td></tr><tr><td>P000000271</td><td>TILLAGAD Kitchen Faucet with Sensor</td></tr><tr><td>P000001605</td><td>Leksvik Changing Table</td></tr><tr><td>P000000674</td><td>KVARNVIK Storage Box</td></tr><tr><td>P000001341</td><td>Isberget Tray</td></tr><tr><td>P000000439</td><td>KOPARDAL Storage Box</td></tr><tr><td>P000000033</td><td>FALSTER Storage Table Stool</td></tr><tr><td>P000000257</td><td>BOHOLMEN Double Bowl Sink</td></tr><tr><td>P000000482</td><td>HALLVIKEN Sink</td></tr><tr><td>P000001231</td><td>Sandskar Outdoor Dining</td></tr><tr><td>P000001831</td><td>BOAXEL Wire Basket</td></tr><tr><td>P000000589</td><td>GRUNDTAL Hanger</td></tr><tr><td>P000001122</td><td>Snalis Desk Organizer</td></tr><tr><td>P000000301</td><td>MALA Chalkboard</td></tr><tr><td>P000001222</td><td>Sinnerlig Bench</td></tr><tr><td>P000001675</td><td>Pihkala Gazebo</td></tr><tr><td>P000000063</td><td>Stretch Wrap Roll</td></tr><tr><td>P000001797</td><td>Sofie Fabric</td></tr><tr><td>P000001145</td><td>Upptacka Backpack</td></tr><tr><td>P000000068</td><td>Moving Labels</td></tr></table>"
                    },
                    "metadata": {}
                }
            ],
            "execution_count": 91
        },
        {
            "cell_type": "markdown",
            "source": [
                "explanation :\n",
                "\n",
                "ผลลัพธ์ที่ได้สามารถนำมาใช้เพื่อพิจารณาการถอดหรือยกเลิกสินค้า เนื่องจากสินค้าเหล่านี้เป็นสินค้าที่มีความต้องการต่ำหรือไม่มีความต้องการเลย ซึ่งอาจส่งผลเสียต่อต้นทุนและค่าใช้จ่ายอื่นๆ ที่เกี่ยวข้อง\n",
                "\n",
                "ข้อมูลดังกล่าวยังสามารถนำไปวิเคราะห์หาสาเหตุต่อว่าทำไมสินค้าเหล่านี้ถึงไม่มีการสั่งซื้อเลย ซึ่งอาจเกิดจากปัจจัยต่างๆ เช่น ความต้องการสินค้าไม่ตรงกับความต้องการของผู้บริโภค สินค้ามีราคาสูงเกินไป สินค้ามีคู่แข่งจำนวนมาก หรือสินค้ามีจุดด้อยในด้านคุณภาพหรือบริการ เป็นต้น\n",
                "\n",
                "เมื่อทราบสาเหตุแล้ว ผู้ประกอบการสามารถนำข้อมูลดังกล่าวไปพิจารณาเพื่อหาแนวทางในการเพิ่มยอดขาย เช่น การใช้โปรโมชั่นเพื่อกระตุ้นยอดขาย การลงทุนกับการตลาดเพื่อเพิ่มการรับรู้และการเข้าถึงสินค้า หรือการปรับปรุงพัฒนาสินค้าให้ตรงกับความต้องการของผู้บริโภค เป็นต้น"
            ],
            "metadata": {
                "azdata_cell_guid": "7329bc51-0444-49ed-903e-0dd81aabbc94",
                "language": "sql"
            },
            "attachments": {}
        },
        {
            "cell_type": "markdown",
            "source": [
                "### **Q2:** 10 รายการสินค้าที่ถูกลูกค้าส่งคืนมากที่สุด เมื่อสินค้านั้นถูกสั่งผ่านรูปแบบออนไลน์\n",
                "\n",
                "### โดยเรียงจากสินค้าที่ถูกส่งคืนมากที่สุดขึ้นก่อน"
            ],
            "metadata": {
                "azdata_cell_guid": "36cf30fa-a5ff-4bc5-858e-b96c67246136"
            },
            "attachments": {}
        },
        {
            "cell_type": "code",
            "source": [
                "SELECT o.order_type,\n",
                "    p.product_name_eng \"Product Name (Eng)\",\n",
                "    SUM(po.qty) \"Quantity Returned\",\n",
                "FROM ProductOrderReturn por\n",
                "JOIN ProductOrder po ON por.product_order_id = po.product_order_id\n",
                "JOIN Order o ON o.order_id = po.order_id\n",
                "JOIN Product p ON p.product_id = po.product_id\n",
                "ORDER BY SUM(po.qty)\n",
                "FETCH FIRST 10 ROW ONLY"
            ],
            "metadata": {
                "azdata_cell_guid": "b681567f-abec-4e82-956d-af71a169b70a",
                "language": "sql",
                "vscode": {
                    "languageId": "sql"
                }
            },
            "outputs": [],
            "execution_count": null
        },
        {
            "cell_type": "markdown",
            "source": [
                "explanation: <mark>แก้ประโยค</mark> ในการสั่งซื้อสินค้าผ่านรูปแบบออนไลน์ มีปัจจัยที่ทำให้ลูกค้าสามารถขอคืนสินค้าได้มากกว่าการเลือกซื้อสินค้าด้วยตัวเองที่สาขา เช่น สินค้าไม่เป็นไปตามลักษณะที่ลูกค้าคาดหวังจากการที่ไม่ได้เห็นสินค้าจริงมาก่อน สินค้าที่ได้รับไม่ตรงตามที่สั่ง หรือ สินค้าชำรุดเสียหาย\n",
                "\n",
                "ในการเขียนชุดคำสั่งในครั้งนี้เพื่อที่เราจะพิจารณาสินค้าทั้ง 10 อันดับที่ถูกส่งคืนมากที่สุดอย่างละเอียด เพื่อหาสาเหตุของการส่งคืนจำนวนมาก จากนั้นจึงหาแนวทางการปรับปรุงและพัฒนาสินค้า บริการ และการดำเนินงานให้ดีขึ้น\n",
                "\n",
                "\n",
                "<mark>เดี๋ยวยกตัวอย่าง อาจจะเอาจากผลลัพมา</mark>\n",
                "\n",
                "ปรับปรุงผลิตภัณฑ์และบริการ สามารถใช้ข้อมูลนี้เพื่อปรับปรุงผลิตภัณฑ์และบริการให้ตรงกับความต้องการของลูกค้ามากขึ้น เช่น หากพบว่าลูกค้าพบเจอปัญหาเกี่ยวกับสินค้าไม่ตรงตามที่สั่ง ธุรกิจอาจพิจารณาปรับปรุงกระบวนการสั่งซื้อสินค้าให้ชัดเจนขึ้น เป็นต้น\n",
                "\n",
                "ธุรกิจพบว่าสินค้าประเภทเสื้อผ้าเป็นสินค้าที่ถูกส่งคืนมากที่สุด ธุรกิจอาจพิจารณาปรับปรุงกระบวนการวัดขนาดเสื้อผ้าให้แม่นยำยิ่งขึ้น เพื่อลดปัญหาสินค้าไม่ตรงตามที่สั่ง\n",
                "\n",
                "หากพบว่าสินค้าที่ถูกส่งคืนมากที่สุดเป็นสินค้าที่มีรายละเอียดไม่ชัดเจน ธุรกิจอาจพิจารณาปรับปรุงข้อมูลสินค้าให้ชัดเจนยิ่งขึ้น เพื่อให้ลูกค้าเข้าใจข้อมูลสินค้าได้อย่างถูกต้อง หากพบว่าสินค้าที่ถูกส่งคืนมากที่สุดเป็นสินค้าที่มีภาพหรือวิดีโอไม่ตรงกับสินค้าจริง ธุรกิจอาจพิจารณาปรับปรุงภาพหรือวิดีโอสินค้าให้ตรงกับสินค้าจริงมากขึ้น"
            ],
            "metadata": {
                "azdata_cell_guid": "149f1442-e0cd-4cd5-85d2-9700c8bb5d38",
                "language": "sql"
            },
            "attachments": {}
        },
        {
            "cell_type": "markdown",
            "source": [
                "### **Q3**: สินค้าหมวดหมู่ใดที่ครองยอดขายสูงสุด 3 อันดับ และสินค้าตัวไหนในหมวดหมู่นั้นที่ครองยอดขายสูงสุด 3 อันดับ โดยเรียงลำดับจากมากไปน้อย"
            ],
            "metadata": {
                "azdata_cell_guid": "e8d95399-9932-4917-832d-22f524641b6a",
                "language": "sql"
            },
            "attachments": {}
        },
        {
            "cell_type": "code",
            "source": [
                "WITH parentCat AS (\r\n",
                "    SELECT p.product_id,\r\n",
                "        p.product_name_eng,\r\n",
                "        c.category_name,\r\n",
                "        c.category_id\r\n",
                "    FROM public.\"Product\" p\r\n",
                "    LEFT JOIN public.\"ProductCategory\" pc ON pc.product_id = p.product_id \r\n",
                "    LEFT JOIN public.\"SubCategory_4_3\" sc43 ON sc43.\"SubCat_4_id\" = pc.\"subcategory_id\"\r\n",
                "    LEFT JOIN public.\"SubCategory_3_2\" sc32 ON (sc32.\"SubCat_3_id\" = pc.\"subcategory_id\" OR sc32.\"SubCat_3_id\" = sc43.\"SubCat_3_id\")\r\n",
                "    LEFT JOIN public.\"SubCategory_2_1\" sc21 ON (sc21.\"SubCat_2_id\" = pc.\"subcategory_id\" OR sc21.\"SubCat_2_id\" = sc32.\"SubCat_2_id\")\r\n",
                "    LEFT JOIN public.\"CatSubCat\" csc ON (csc.\"SubCategory_1_subcategory_id\" = pc.\"subcategory_id\" OR csc.\"SubCategory_1_subcategory_id\" = sc21.\"SubCat_1_id\")\r\n",
                "    LEFT JOIN public.\"Category\" c ON c.\"category_id\" = csc.\"Category_category_id\"\r\n",
                "\r\n",
                ")\r\n",
                ",\r\n",
                "groupingQry AS (\r\n",
                "    SELECT row_number() OVER (PARTITION BY pc.category_name) row_num,\r\n",
                "    p.product_id,\r\n",
                "        p.product_name_eng \"Product Name\",\r\n",
                "        pc.category_name,\r\n",
                "        SUM(po.qty * ph.normal_price),\r\n",
                "        SUM(po.qty * ph.normal_price) OVER (PARTITION BY pc.category_name) \"Sales\"\r\n",
                "    FROM public.\"ProductOrder\" po\r\n",
                "    LEFT JOIN public.\"Product\" p ON po.\"product_id\" = p.\"product_id\"\r\n",
                "    LEFT JOIN public.\"PriceHistory\" ph ON ph.\"product_id\" = p.\"product_id\"\r\n",
                "    LEFT JOIN public.\"Order\" o ON o.\"order_id\" = po.\"order_id\"\r\n",
                "    LEFT JOIN parentCat pc ON pc.\"product_id\" = po.\"product_id\"\r\n",
                "    WHERE o.\"order_date\" BETWEEN ph.\"start_date\" AND COALESCE(ph.\"end_date\", '9999-12-31'::DATE)\r\n",
                "    GROUP BY \"Product Name\", pc.\"category_name\", po.qty, ph.normal_price, p.product_id\r\n",
                ")\r\n",
                "-- SELECT *\r\n",
                "-- FROM parentCat\r\n",
                "\r\n",
                "SELECT *\r\n",
                "FROM groupingQry\r\n",
                "-- WHERE row_num <= 3;\r\n",
                "\r\n",
                "-- SELECT SUM(po.qty * ph.normal_price),\r\n",
                "--     pc.category_name\r\n",
                "-- FROM public.\"ProductOrder\" po\r\n",
                "-- LEFT JOIN public.\"Product\" p ON po.\"product_id\" = p.\"product_id\"\r\n",
                "-- LEFT JOIN public.\"PriceHistory\" ph ON ph.\"product_id\" = p.\"product_id\"\r\n",
                "-- LEFT JOIN public.\"Order\" o ON o.\"order_id\" = po.\"order_id\"\r\n",
                "-- LEFT JOIN parentCat pc ON pc.\"product_id\" = po.\"product_id\"\r\n",
                "-- WHERE o.\"order_date\" BETWEEN ph.\"start_date\" AND COALESCE(ph.\"end_date\", '9999-12-31'::DATE)\r\n",
                "--     AND pc.category_id = 'C0008'\r\n",
                "-- GROUP BY pc.category_name\r\n",
                " \r\n",
                ""
            ],
            "metadata": {
                "language": "sql",
                "azdata_cell_guid": "7299477b-25ee-4611-b4c3-cbb047d8d999",
                "tags": []
            },
            "outputs": [
                {
                    "output_type": "display_data",
                    "data": {
                        "text/html": "(2331 row(s) affected)"
                    },
                    "metadata": {}
                },
                {
                    "output_type": "display_data",
                    "data": {
                        "text/html": "Total execution time: 00:00:00.241"
                    },
                    "metadata": {}
                },
                {
                    "output_type": "execute_result",
                    "execution_count": 16,
                    "data": {
                        "application/vnd.dataresource+json": {
                            "schema": {
                                "fields": [
                                    {
                                        "name": "product_id"
                                    },
                                    {
                                        "name": "product_name_eng"
                                    },
                                    {
                                        "name": "category_name"
                                    }
                                ]
                            },
                            "data": [
                                {
                                    "product_id": "P000001826",
                                    "product_name_eng": "BOAXEL Storage Combination E",
                                    "category_name": "Storage & organisation"
                                },
                                {
                                    "product_id": "P000001826",
                                    "product_name_eng": "BOAXEL Storage Combination E",
                                    "category_name": "Furniture"
                                },
                                {
                                    "product_id": "P000001825",
                                    "product_name_eng": "BOAXEL Storage Combination D",
                                    "category_name": "Storage & organisation"
                                },
                                {
                                    "product_id": "P000001825",
                                    "product_name_eng": "BOAXEL Storage Combination D",
                                    "category_name": "Furniture"
                                },
                                {
                                    "product_id": "P000001824",
                                    "product_name_eng": "BOAXEL Storage Combination C",
                                    "category_name": "Storage & organisation"
                                },
                                {
                                    "product_id": "P000001824",
                                    "product_name_eng": "BOAXEL Storage Combination C",
                                    "category_name": "Furniture"
                                },
                                {
                                    "product_id": "P000001823",
                                    "product_name_eng": "BOAXEL Storage Combination B",
                                    "category_name": "Storage & organisation"
                                },
                                {
                                    "product_id": "P000001823",
                                    "product_name_eng": "BOAXEL Storage Combination B",
                                    "category_name": "Furniture"
                                },
                                {
                                    "product_id": "P000001822",
                                    "product_name_eng": "BOAXEL Storage Combination A",
                                    "category_name": "Storage & organisation"
                                },
                                {
                                    "product_id": "P000001822",
                                    "product_name_eng": "BOAXEL Storage Combination A",
                                    "category_name": "Furniture"
                                },
                                {
                                    "product_id": "P000001831",
                                    "product_name_eng": "BOAXEL Wire Basket",
                                    "category_name": "Storage & organisation"
                                },
                                {
                                    "product_id": "P000001831",
                                    "product_name_eng": "BOAXEL Wire Basket",
                                    "category_name": "Furniture"
                                },
                                {
                                    "product_id": "P000001830",
                                    "product_name_eng": "BOAXEL Clothes Rail",
                                    "category_name": "Storage & organisation"
                                },
                                {
                                    "product_id": "P000001830",
                                    "product_name_eng": "BOAXEL Clothes Rail",
                                    "category_name": "Furniture"
                                },
                                {
                                    "product_id": "P000001829",
                                    "product_name_eng": "BOAXEL Rod",
                                    "category_name": "Storage & organisation"
                                },
                                {
                                    "product_id": "P000001829",
                                    "product_name_eng": "BOAXEL Rod",
                                    "category_name": "Furniture"
                                },
                                {
                                    "product_id": "P000001828",
                                    "product_name_eng": "BOAXEL Bracket",
                                    "category_name": "Storage & organisation"
                                },
                                {
                                    "product_id": "P000001828",
                                    "product_name_eng": "BOAXEL Bracket",
                                    "category_name": "Furniture"
                                },
                                {
                                    "product_id": "P000001827",
                                    "product_name_eng": "BOAXEL Shelf",
                                    "category_name": "Storage & organisation"
                                },
                                {
                                    "product_id": "P000001827",
                                    "product_name_eng": "BOAXEL Shelf",
                                    "category_name": "Furniture"
                                },
                                {
                                    "product_id": "P000001836",
                                    "product_name_eng": "BESTA TV Bench 5",
                                    "category_name": "Furniture"
                                },
                                {
                                    "product_id": "P000001835",
                                    "product_name_eng": "BESTA TV Bench 4",
                                    "category_name": "Furniture"
                                },
                                {
                                    "product_id": "P000001834",
                                    "product_name_eng": "BESTA TV Bench 3",
                                    "category_name": "Furniture"
                                },
                                {
                                    "product_id": "P000001833",
                                    "product_name_eng": "BESTA TV Bench 2",
                                    "category_name": "Furniture"
                                },
                                {
                                    "product_id": "P000001832",
                                    "product_name_eng": "BESTA TV Bench 1",
                                    "category_name": "Furniture"
                                },
                                {
                                    "product_id": "P000001841",
                                    "product_name_eng": "BESTA Storage Combination E",
                                    "category_name": "Furniture"
                                },
                                {
                                    "product_id": "P000001840",
                                    "product_name_eng": "BESTA Storage Combination D",
                                    "category_name": "Furniture"
                                },
                                {
                                    "product_id": "P000001839",
                                    "product_name_eng": "BESTA Storage Combination C",
                                    "category_name": "Furniture"
                                },
                                {
                                    "product_id": "P000001838",
                                    "product_name_eng": "BESTA Storage Combination B",
                                    "category_name": "Furniture"
                                },
                                {
                                    "product_id": "P000001837",
                                    "product_name_eng": "BESTA Storage Combination A",
                                    "category_name": "Furniture"
                                },
                                {
                                    "product_id": "P000001846",
                                    "product_name_eng": "BESTA Display Combination 5",
                                    "category_name": "Furniture"
                                },
                                {
                                    "product_id": "P000001845",
                                    "product_name_eng": "BESTA Display Combination 4",
                                    "category_name": "Furniture"
                                },
                                {
                                    "product_id": "P000001844",
                                    "product_name_eng": "BESTA Display Combination 3",
                                    "category_name": "Furniture"
                                },
                                {
                                    "product_id": "P000001843",
                                    "product_name_eng": "BESTA Display Combination 2",
                                    "category_name": "Furniture"
                                },
                                {
                                    "product_id": "P000001842",
                                    "product_name_eng": "BESTA Display Combination 1",
                                    "category_name": "Furniture"
                                },
                                {
                                    "product_id": "P000001851",
                                    "product_name_eng": "BESTA Media Combination 5",
                                    "category_name": "Furniture"
                                },
                                {
                                    "product_id": "P000001850",
                                    "product_name_eng": "BESTA Media Combination 4",
                                    "category_name": "Furniture"
                                },
                                {
                                    "product_id": "P000001849",
                                    "product_name_eng": "BESTA Media Combination 3",
                                    "category_name": "Furniture"
                                },
                                {
                                    "product_id": "P000001848",
                                    "product_name_eng": "BESTA Media Combination 2",
                                    "category_name": "Furniture"
                                },
                                {
                                    "product_id": "P000001847",
                                    "product_name_eng": "BESTA Media Combination 1",
                                    "category_name": "Furniture"
                                },
                                {
                                    "product_id": "P000001857",
                                    "product_name_eng": "BESTA Sideboard 5",
                                    "category_name": "Furniture"
                                },
                                {
                                    "product_id": "P000001856",
                                    "product_name_eng": "BESTA Sideboard 5",
                                    "category_name": "Furniture"
                                },
                                {
                                    "product_id": "P000001855",
                                    "product_name_eng": "BESTA Sideboard 4",
                                    "category_name": "Furniture"
                                },
                                {
                                    "product_id": "P000001854",
                                    "product_name_eng": "BESTA Sideboard 3",
                                    "category_name": "Furniture"
                                },
                                {
                                    "product_id": "P000001853",
                                    "product_name_eng": "BESTA Sideboard 2",
                                    "category_name": "Furniture"
                                },
                                {
                                    "product_id": "P000001852",
                                    "product_name_eng": "BESTA Sideboard 1",
                                    "category_name": "Furniture"
                                },
                                {
                                    "product_id": "P000001289",
                                    "product_name_eng": "Abiie Highchair",
                                    "category_name": "Furniture"
                                },
                                {
                                    "product_id": "P000001288",
                                    "product_name_eng": "Beaba Highchair",
                                    "category_name": "Furniture"
                                },
                                {
                                    "product_id": "P000001287",
                                    "product_name_eng": "Stokke Highchair",
                                    "category_name": "Furniture"
                                },
                                {
                                    "product_id": "P000001286",
                                    "product_name_eng": "Sundvik Highchair",
                                    "category_name": "Furniture"
                                },
                                {
                                    "product_id": "P000001285",
                                    "product_name_eng": "Blames Highchair",
                                    "category_name": "Furniture"
                                },
                                {
                                    "product_id": "P000001025",
                                    "product_name_eng": "Lyckad Artificial Plant",
                                    "category_name": "Home Decoration"
                                },
                                {
                                    "product_id": "P000001025",
                                    "product_name_eng": "Lyckad Artificial Plant",
                                    "category_name": "Pots & Plants"
                                },
                                {
                                    "product_id": "P000001024",
                                    "product_name_eng": "Fejka Artificial Grass",
                                    "category_name": "Home Decoration"
                                },
                                {
                                    "product_id": "P000001024",
                                    "product_name_eng": "Fejka Artificial Grass",
                                    "category_name": "Pots & Plants"
                                },
                                {
                                    "product_id": "P000001023",
                                    "product_name_eng": "Rapp Artificial Plant",
                                    "category_name": "Home Decoration"
                                },
                                {
                                    "product_id": "P000001023",
                                    "product_name_eng": "Rapp Artificial Plant",
                                    "category_name": "Pots & Plants"
                                },
                                {
                                    "product_id": "P000001022",
                                    "product_name_eng": "Smycka Artificial Flowers",
                                    "category_name": "Home Decoration"
                                },
                                {
                                    "product_id": "P000001022",
                                    "product_name_eng": "Smycka Artificial Flowers",
                                    "category_name": "Pots & Plants"
                                },
                                {
                                    "product_id": "P000001021",
                                    "product_name_eng": "Fejka Artificial Plant",
                                    "category_name": "Home Decoration"
                                },
                                {
                                    "product_id": "P000001021",
                                    "product_name_eng": "Fejka Artificial Plant",
                                    "category_name": "Pots & Plants"
                                },
                                {
                                    "product_id": "P000001095",
                                    "product_name_eng": "Kullen Chest of Drawers",
                                    "category_name": "Storage & organisation"
                                },
                                {
                                    "product_id": "P000001095",
                                    "product_name_eng": "Kullen Chest of Drawers",
                                    "category_name": "Furniture"
                                },
                                {
                                    "product_id": "P000001094",
                                    "product_name_eng": "Brusali Chest of Drawers",
                                    "category_name": "Storage & organisation"
                                },
                                {
                                    "product_id": "P000001094",
                                    "product_name_eng": "Brusali Chest of Drawers",
                                    "category_name": "Furniture"
                                },
                                {
                                    "product_id": "P000001093",
                                    "product_name_eng": "Koppang Chest of Drawers",
                                    "category_name": "Storage & organisation"
                                },
                                {
                                    "product_id": "P000001093",
                                    "product_name_eng": "Koppang Chest of Drawers",
                                    "category_name": "Furniture"
                                },
                                {
                                    "product_id": "P000001092",
                                    "product_name_eng": "Hemnes Chest of Drawers",
                                    "category_name": "Storage & organisation"
                                },
                                {
                                    "product_id": "P000001092",
                                    "product_name_eng": "Hemnes Chest of Drawers",
                                    "category_name": "Furniture"
                                },
                                {
                                    "product_id": "P000001091",
                                    "product_name_eng": "Malm Chest of Drawers",
                                    "category_name": "Storage & organisation"
                                },
                                {
                                    "product_id": "P000001091",
                                    "product_name_eng": "Malm Chest of Drawers",
                                    "category_name": "Furniture"
                                },
                                {
                                    "product_id": "P000001469",
                                    "product_name_eng": "Foremal Box",
                                    "category_name": "Home Decoration"
                                },
                                {
                                    "product_id": "P000001468",
                                    "product_name_eng": "Kuber Box",
                                    "category_name": "Home Decoration"
                                },
                                {
                                    "product_id": "P000001467",
                                    "product_name_eng": "Salong Box",
                                    "category_name": "Home Decoration"
                                },
                                {
                                    "product_id": "P000001466",
                                    "product_name_eng": "Torka Box",
                                    "category_name": "Home Decoration"
                                },
                                {
                                    "product_id": "P000001465",
                                    "product_name_eng": "Glasig Box",
                                    "category_name": "Home Decoration"
                                },
                                {
                                    "product_id": "P000000777",
                                    "product_name_eng": "Rast Drawer Unit",
                                    "category_name": "Storage & organisation"
                                },
                                {
                                    "product_id": "P000000777",
                                    "product_name_eng": "Rast Drawer Unit",
                                    "category_name": "Furniture"
                                },
                                {
                                    "product_id": "P000000776",
                                    "product_name_eng": "Brimnes Drawer Unit",
                                    "category_name": "Storage & organisation"
                                },
                                {
                                    "product_id": "P000000776",
                                    "product_name_eng": "Brimnes Drawer Unit",
                                    "category_name": "Furniture"
                                },
                                {
                                    "product_id": "P000000775",
                                    "product_name_eng": "Alex Drawer Unit",
                                    "category_name": "Storage & organisation"
                                },
                                {
                                    "product_id": "P000000775",
                                    "product_name_eng": "Alex Drawer Unit",
                                    "category_name": "Furniture"
                                },
                                {
                                    "product_id": "P000000774",
                                    "product_name_eng": "Malm Drawer Unit",
                                    "category_name": "Storage & organisation"
                                },
                                {
                                    "product_id": "P000000774",
                                    "product_name_eng": "Malm Drawer Unit",
                                    "category_name": "Furniture"
                                },
                                {
                                    "product_id": "P000000773",
                                    "product_name_eng": "Hemnes Drawer Unit",
                                    "category_name": "Storage & organisation"
                                },
                                {
                                    "product_id": "P000000773",
                                    "product_name_eng": "Hemnes Drawer Unit",
                                    "category_name": "Furniture"
                                },
                                {
                                    "product_id": "P000001586",
                                    "product_name_eng": "Inlagd Pillow",
                                    "category_name": "Beds & Mattresses"
                                },
                                {
                                    "product_id": "P000001586",
                                    "product_name_eng": "Inlagd Pillow",
                                    "category_name": "Textiles"
                                },
                                {
                                    "product_id": "P000001585",
                                    "product_name_eng": "Minnensota Pillow",
                                    "category_name": "Beds & Mattresses"
                                },
                                {
                                    "product_id": "P000001585",
                                    "product_name_eng": "Minnensota Pillow",
                                    "category_name": "Textiles"
                                },
                                {
                                    "product_id": "P000001584",
                                    "product_name_eng": "Slan Pillow",
                                    "category_name": "Beds & Mattresses"
                                },
                                {
                                    "product_id": "P000001584",
                                    "product_name_eng": "Slan Pillow",
                                    "category_name": "Textiles"
                                },
                                {
                                    "product_id": "P000001583",
                                    "product_name_eng": "Mjuk Pillow",
                                    "category_name": "Beds & Mattresses"
                                },
                                {
                                    "product_id": "P000001583",
                                    "product_name_eng": "Mjuk Pillow",
                                    "category_name": "Textiles"
                                },
                                {
                                    "product_id": "P000001582",
                                    "product_name_eng": "Rensar Pillow",
                                    "category_name": "Beds & Mattresses"
                                },
                                {
                                    "product_id": "P000001582",
                                    "product_name_eng": "Rensar Pillow",
                                    "category_name": "Textiles"
                                },
                                {
                                    "product_id": "P000001304",
                                    "product_name_eng": "Springa Drawer Divider",
                                    "category_name": "Kitchen Cabinets & Appliances"
                                },
                                {
                                    "product_id": "P000001303",
                                    "product_name_eng": "Kuggis Drawer Divider",
                                    "category_name": "Kitchen Cabinets & Appliances"
                                },
                                {
                                    "product_id": "P000001302",
                                    "product_name_eng": "Kallax Drawer Divider",
                                    "category_name": "Kitchen Cabinets & Appliances"
                                },
                                {
                                    "product_id": "P000001301",
                                    "product_name_eng": "Variera Drawer Divider",
                                    "category_name": "Kitchen Cabinets & Appliances"
                                },
                                {
                                    "product_id": "P000001300",
                                    "product_name_eng": "Komplement Drawer Divider",
                                    "category_name": "Kitchen Cabinets & Appliances"
                                },
                                {
                                    "product_id": "P000000887",
                                    "product_name_eng": "IDEALISK Kitchenware Set",
                                    "category_name": "Kitchenware & Tableware"
                                },
                                {
                                    "product_id": "P000000886",
                                    "product_name_eng": "VARDAGEN Kitchenware Set",
                                    "category_name": "Kitchenware & Tableware"
                                },
                                {
                                    "product_id": "P000000885",
                                    "product_name_eng": "LUSTIGT Kitchenware Set",
                                    "category_name": "Kitchenware & Tableware"
                                },
                                {
                                    "product_id": "P000000884",
                                    "product_name_eng": "DRAGAN Kitchenware Set",
                                    "category_name": "Kitchenware & Tableware"
                                },
                                {
                                    "product_id": "P000000883",
                                    "product_name_eng": "SPRITTA Kitchenware Set",
                                    "category_name": "Kitchenware & Tableware"
                                },
                                {
                                    "product_id": "P000001120",
                                    "product_name_eng": "Plastis Food Container",
                                    "category_name": "Storage & organisation"
                                },
                                {
                                    "product_id": "P000001120",
                                    "product_name_eng": "Plastis Food Container",
                                    "category_name": "Kitchen Cabinets & Appliances"
                                },
                                {
                                    "product_id": "P000001120",
                                    "product_name_eng": "Plastis Food Container",
                                    "category_name": "Kitchenware & Tableware"
                                },
                                {
                                    "product_id": "P000001119",
                                    "product_name_eng": "Bevara Food Container",
                                    "category_name": "Storage & organisation"
                                },
                                {
                                    "product_id": "P000001119",
                                    "product_name_eng": "Bevara Food Container",
                                    "category_name": "Kitchen Cabinets & Appliances"
                                },
                                {
                                    "product_id": "P000001119",
                                    "product_name_eng": "Bevara Food Container",
                                    "category_name": "Kitchenware & Tableware"
                                },
                                {
                                    "product_id": "P000001118",
                                    "product_name_eng": "Istad Food Container",
                                    "category_name": "Storage & organisation"
                                },
                                {
                                    "product_id": "P000001118",
                                    "product_name_eng": "Istad Food Container",
                                    "category_name": "Kitchen Cabinets & Appliances"
                                },
                                {
                                    "product_id": "P000001118",
                                    "product_name_eng": "Istad Food Container",
                                    "category_name": "Kitchenware & Tableware"
                                },
                                {
                                    "product_id": "P000001117",
                                    "product_name_eng": "Pruta Food Container",
                                    "category_name": "Storage & organisation"
                                },
                                {
                                    "product_id": "P000001117",
                                    "product_name_eng": "Pruta Food Container",
                                    "category_name": "Kitchen Cabinets & Appliances"
                                },
                                {
                                    "product_id": "P000001117",
                                    "product_name_eng": "Pruta Food Container",
                                    "category_name": "Kitchenware & Tableware"
                                },
                                {
                                    "product_id": "P000001116",
                                    "product_name_eng": "Variera Food Container",
                                    "category_name": "Storage & organisation"
                                },
                                {
                                    "product_id": "P000001116",
                                    "product_name_eng": "Variera Food Container",
                                    "category_name": "Kitchen Cabinets & Appliances"
                                },
                                {
                                    "product_id": "P000001116",
                                    "product_name_eng": "Variera Food Container",
                                    "category_name": "Kitchenware & Tableware"
                                },
                                {
                                    "product_id": "P000001522",
                                    "product_name_eng": "Begavning Alarm Clock",
                                    "category_name": "Home Decoration"
                                },
                                {
                                    "product_id": "P000001521",
                                    "product_name_eng": "Trulig Alarm Clock",
                                    "category_name": "Home Decoration"
                                },
                                {
                                    "product_id": "P000001520",
                                    "product_name_eng": "Kloka Alarm Clock",
                                    "category_name": "Home Decoration"
                                },
                                {
                                    "product_id": "P000001519",
                                    "product_name_eng": "Margon Alarm Clock",
                                    "category_name": "Home Decoration"
                                },
                                {
                                    "product_id": "P000001518",
                                    "product_name_eng": "Slom Alarm Clock",
                                    "category_name": "Home Decoration"
                                },
                                {
                                    "product_id": "P000001434",
                                    "product_name_eng": "Klara Apron",
                                    "category_name": "Kitchenware & Tableware"
                                },
                                {
                                    "product_id": "P000001434",
                                    "product_name_eng": "Klara Apron",
                                    "category_name": "Textiles"
                                },
                                {
                                    "product_id": "P000001433",
                                    "product_name_eng": "Tidlaga Apron",
                                    "category_name": "Kitchenware & Tableware"
                                },
                                {
                                    "product_id": "P000001433",
                                    "product_name_eng": "Tidlaga Apron",
                                    "category_name": "Textiles"
                                },
                                {
                                    "product_id": "P000001432",
                                    "product_name_eng": "Fantastisk Apron",
                                    "category_name": "Kitchenware & Tableware"
                                },
                                {
                                    "product_id": "P000001432",
                                    "product_name_eng": "Fantastisk Apron",
                                    "category_name": "Textiles"
                                },
                                {
                                    "product_id": "P000001431",
                                    "product_name_eng": "Kungskrabba Apron",
                                    "category_name": "Kitchenware & Tableware"
                                },
                                {
                                    "product_id": "P000001431",
                                    "product_name_eng": "Kungskrabba Apron",
                                    "category_name": "Textiles"
                                },
                                {
                                    "product_id": "P000001430",
                                    "product_name_eng": "Prickig Apron",
                                    "category_name": "Kitchenware & Tableware"
                                },
                                {
                                    "product_id": "P000001430",
                                    "product_name_eng": "Prickig Apron",
                                    "category_name": "Textiles"
                                },
                                {
                                    "product_id": "P000000140",
                                    "product_name_eng": "STUVA Toy Shelf",
                                    "category_name": "Furniture"
                                },
                                {
                                    "product_id": "P000000139",
                                    "product_name_eng": "PALLRA Toy Chest",
                                    "category_name": "Furniture"
                                },
                                {
                                    "product_id": "P000000138",
                                    "product_name_eng": "RORANDE Toy Storage",
                                    "category_name": "Furniture"
                                },
                                {
                                    "product_id": "P000000137",
                                    "product_name_eng": "BUSA Toy Basket",
                                    "category_name": "Furniture"
                                },
                                {
                                    "product_id": "P000000136",
                                    "product_name_eng": "SPISIG Toy Cupboard",
                                    "category_name": "Furniture"
                                },
                                {
                                    "product_id": "P000000135",
                                    "product_name_eng": "KALLAX Toy Shelf",
                                    "category_name": "Furniture"
                                },
                                {
                                    "product_id": "P000000134",
                                    "product_name_eng": "SMILA Toy Box",
                                    "category_name": "Furniture"
                                },
                                {
                                    "product_id": "P000000133",
                                    "product_name_eng": "GULLIVER Toy Organizer",
                                    "category_name": "Furniture"
                                },
                                {
                                    "product_id": "P000000132",
                                    "product_name_eng": "HENSVIK Toy Chest",
                                    "category_name": "Furniture"
                                },
                                {
                                    "product_id": "P000000131",
                                    "product_name_eng": "MAMMUT Toy Storage",
                                    "category_name": "Furniture"
                                },
                                {
                                    "product_id": "P000000130",
                                    "product_name_eng": "LATT Toy Shelf",
                                    "category_name": "Furniture"
                                },
                                {
                                    "product_id": "P000000129",
                                    "product_name_eng": "SUNDVIK Toy Box",
                                    "category_name": "Furniture"
                                },
                                {
                                    "product_id": "P000000128",
                                    "product_name_eng": "HEMNES Toy Organizer",
                                    "category_name": "Furniture"
                                },
                                {
                                    "product_id": "P000000127",
                                    "product_name_eng": "LILLABO Toy Chest",
                                    "category_name": "Furniture"
                                },
                                {
                                    "product_id": "P000000126",
                                    "product_name_eng": "DUKTIG Toy Cupboard",
                                    "category_name": "Furniture"
                                },
                                {
                                    "product_id": "P000000125",
                                    "product_name_eng": "LUSTIG Toy Storage",
                                    "category_name": "Furniture"
                                },
                                {
                                    "product_id": "P000000124",
                                    "product_name_eng": "BUSUNGE Toy Chest",
                                    "category_name": "Furniture"
                                },
                                {
                                    "product_id": "P000000123",
                                    "product_name_eng": "STUVA Toy Box",
                                    "category_name": "Furniture"
                                },
                                {
                                    "product_id": "P000000122",
                                    "product_name_eng": "FLISAT Toy Storage",
                                    "category_name": "Furniture"
                                },
                                {
                                    "product_id": "P000000121",
                                    "product_name_eng": "TROFAST Toy Organizer",
                                    "category_name": "Furniture"
                                },
                                {
                                    "product_id": "P000001581",
                                    "product_name_eng": "Skogsliv Bedspread",
                                    "category_name": "Beds & Mattresses"
                                },
                                {
                                    "product_id": "P000001581",
                                    "product_name_eng": "Skogsliv Bedspread",
                                    "category_name": "Textiles"
                                },
                                {
                                    "product_id": "P000001580",
                                    "product_name_eng": "Vallkrassing Bedspread",
                                    "category_name": "Beds & Mattresses"
                                },
                                {
                                    "product_id": "P000001580",
                                    "product_name_eng": "Vallkrassing Bedspread",
                                    "category_name": "Textiles"
                                },
                                {
                                    "product_id": "P000001579",
                                    "product_name_eng": "Gullklocka Bedspread",
                                    "category_name": "Beds & Mattresses"
                                },
                                {
                                    "product_id": "P000001579",
                                    "product_name_eng": "Gullklocka Bedspread",
                                    "category_name": "Textiles"
                                },
                                {
                                    "product_id": "P000001578",
                                    "product_name_eng": "Svean Bedspread",
                                    "category_name": "Beds & Mattresses"
                                },
                                {
                                    "product_id": "P000001578",
                                    "product_name_eng": "Svean Bedspread",
                                    "category_name": "Textiles"
                                },
                                {
                                    "product_id": "P000001577",
                                    "product_name_eng": "Tyrina Bedspread",
                                    "category_name": "Beds & Mattresses"
                                },
                                {
                                    "product_id": "P000001577",
                                    "product_name_eng": "Tyrina Bedspread",
                                    "category_name": "Textiles"
                                },
                                {
                                    "product_id": "P000001676",
                                    "product_name_eng": "Sovalka Gazebo",
                                    "category_name": "Outdoor products"
                                },
                                {
                                    "product_id": "P000001675",
                                    "product_name_eng": "Pihkala Gazebo",
                                    "category_name": "Outdoor products"
                                },
                                {
                                    "product_id": "P000001674",
                                    "product_name_eng": "Lappland Gazebo",
                                    "category_name": "Outdoor products"
                                },
                                {
                                    "product_id": "P000001673",
                                    "product_name_eng": "Karlskrona Gazebo",
                                    "category_name": "Outdoor products"
                                },
                                {
                                    "product_id": "P000001672",
                                    "product_name_eng": "Ammero Gazebo",
                                    "category_name": "Outdoor products"
                                },
                                {
                                    "product_id": "P000000892",
                                    "product_name_eng": "VARDAGEN Pot",
                                    "category_name": "Kitchenware & Tableware"
                                },
                                {
                                    "product_id": "P000000891",
                                    "product_name_eng": "LAGAN Pot",
                                    "category_name": "Kitchenware & Tableware"
                                },
                                {
                                    "product_id": "P000000890",
                                    "product_name_eng": "RENODLIG Pot",
                                    "category_name": "Kitchenware & Tableware"
                                },
                                {
                                    "product_id": "P000000889",
                                    "product_name_eng": "KULINARISK Pot",
                                    "category_name": "Kitchenware & Tableware"
                                },
                                {
                                    "product_id": "P000000888",
                                    "product_name_eng": "MATALAG Pot",
                                    "category_name": "Kitchenware & Tableware"
                                },
                                {
                                    "product_id": "P000001259",
                                    "product_name_eng": "Tobias Bar Chair",
                                    "category_name": "Furniture"
                                },
                                {
                                    "product_id": "P000001258",
                                    "product_name_eng": "Guldbrand Bar Chair",
                                    "category_name": "Furniture"
                                },
                                {
                                    "product_id": "P000001257",
                                    "product_name_eng": "Henriksdal Bar Chair",
                                    "category_name": "Furniture"
                                },
                                {
                                    "product_id": "P000001256",
                                    "product_name_eng": "Glen Bar Chair",
                                    "category_name": "Furniture"
                                },
                                {
                                    "product_id": "P000001255",
                                    "product_name_eng": "Ingolf Bar Chair",
                                    "category_name": "Furniture"
                                },
                                {
                                    "product_id": "P000001015",
                                    "product_name_eng": "Rundlig Glassware",
                                    "category_name": "Kitchenware & Tableware"
                                },
                                {
                                    "product_id": "P000001014",
                                    "product_name_eng": "Korken Glass Jars",
                                    "category_name": "Kitchenware & Tableware"
                                },
                                {
                                    "product_id": "P000001013",
                                    "product_name_eng": "Sittande Glassware",
                                    "category_name": "Kitchenware & Tableware"
                                },
                                {
                                    "product_id": "P000001012",
                                    "product_name_eng": "Dofta Glassware",
                                    "category_name": "Kitchenware & Tableware"
                                },
                                {
                                    "product_id": "P000001011",
                                    "product_name_eng": "Fyra Glassware",
                                    "category_name": "Kitchenware & Tableware"
                                },
                                {
                                    "product_id": "P000001791",
                                    "product_name_eng": "Froya Outdoor Cushion",
                                    "category_name": "Textiles"
                                },
                                {
                                    "product_id": "P000001790",
                                    "product_name_eng": "Skarpoy Outdoor Cushion",
                                    "category_name": "Textiles"
                                },
                                {
                                    "product_id": "P000001789",
                                    "product_name_eng": "Varmdo Outdoor Cushion",
                                    "category_name": "Textiles"
                                },
                                {
                                    "product_id": "P000001788",
                                    "product_name_eng": "Solvinden Outdoor Cushion",
                                    "category_name": "Textiles"
                                },
                                {
                                    "product_id": "P000001787",
                                    "product_name_eng": "Torso Outdoor Cushion",
                                    "category_name": "Textiles"
                                },
                                {
                                    "product_id": "P000001656",
                                    "product_name_eng": "Alskad Towel",
                                    "category_name": "Bathroom Products"
                                },
                                {
                                    "product_id": "P000001656",
                                    "product_name_eng": "Alskad Towel",
                                    "category_name": "Textiles"
                                },
                                {
                                    "product_id": "P000001655",
                                    "product_name_eng": "Sjoblomma Towel",
                                    "category_name": "Bathroom Products"
                                },
                                {
                                    "product_id": "P000001655",
                                    "product_name_eng": "Sjoblomma Towel",
                                    "category_name": "Textiles"
                                },
                                {
                                    "product_id": "P000001654",
                                    "product_name_eng": "Strandtiden Towel",
                                    "category_name": "Bathroom Products"
                                },
                                {
                                    "product_id": "P000001654",
                                    "product_name_eng": "Strandtiden Towel",
                                    "category_name": "Textiles"
                                },
                                {
                                    "product_id": "P000001653",
                                    "product_name_eng": "Rinna Towel",
                                    "category_name": "Bathroom Products"
                                },
                                {
                                    "product_id": "P000001653",
                                    "product_name_eng": "Rinna Towel",
                                    "category_name": "Textiles"
                                },
                                {
                                    "product_id": "P000001652",
                                    "product_name_eng": "Mysa Towel",
                                    "category_name": "Bathroom Products"
                                },
                                {
                                    "product_id": "P000001652",
                                    "product_name_eng": "Mysa Towel",
                                    "category_name": "Textiles"
                                },
                                {
                                    "product_id": "P000001194",
                                    "product_name_eng": "Askvoll Double Bed",
                                    "category_name": "Furniture"
                                },
                                {
                                    "product_id": "P000001194",
                                    "product_name_eng": "Askvoll Double Bed",
                                    "category_name": "Beds & Mattresses"
                                },
                                {
                                    "product_id": "P000001193",
                                    "product_name_eng": "Luroy Double Bed",
                                    "category_name": "Furniture"
                                },
                                {
                                    "product_id": "P000001193",
                                    "product_name_eng": "Luroy Double Bed",
                                    "category_name": "Beds & Mattresses"
                                },
                                {
                                    "product_id": "P000001192",
                                    "product_name_eng": "Brimnes Double Bed",
                                    "category_name": "Furniture"
                                },
                                {
                                    "product_id": "P000001192",
                                    "product_name_eng": "Brimnes Double Bed",
                                    "category_name": "Beds & Mattresses"
                                },
                                {
                                    "product_id": "P000001191",
                                    "product_name_eng": "Hemnes Double Bed",
                                    "category_name": "Furniture"
                                },
                                {
                                    "product_id": "P000001191",
                                    "product_name_eng": "Hemnes Double Bed",
                                    "category_name": "Beds & Mattresses"
                                },
                                {
                                    "product_id": "P000001190",
                                    "product_name_eng": "Malm Double Bed",
                                    "category_name": "Furniture"
                                },
                                {
                                    "product_id": "P000001190",
                                    "product_name_eng": "Malm Double Bed",
                                    "category_name": "Beds & Mattresses"
                                },
                                {
                                    "product_id": "P000000630",
                                    "product_name_eng": "ORTFYLLD Waste Sorting Bin",
                                    "category_name": "Laundry & cleaning"
                                },
                                {
                                    "product_id": "P000000629",
                                    "product_name_eng": "UTZ Waste Sorting Bin",
                                    "category_name": "Laundry & cleaning"
                                },
                                {
                                    "product_id": "P000000628",
                                    "product_name_eng": "TILLSLUTA Waste Sorting Bin",
                                    "category_name": "Laundry & cleaning"
                                },
                                {
                                    "product_id": "P000000627",
                                    "product_name_eng": "VARIERA Waste Sorting Bin",
                                    "category_name": "Laundry & cleaning"
                                },
                                {
                                    "product_id": "P000000626",
                                    "product_name_eng": "SORTERA Waste Sorting Bin",
                                    "category_name": "Laundry & cleaning"
                                },
                                {
                                    "product_id": "P000000625",
                                    "product_name_eng": "ORTFYLLD Waste Sorting Bin",
                                    "category_name": "Laundry & cleaning"
                                },
                                {
                                    "product_id": "P000000624",
                                    "product_name_eng": "UTZ Waste Sorting Bin",
                                    "category_name": "Laundry & cleaning"
                                },
                                {
                                    "product_id": "P000000623",
                                    "product_name_eng": "TILLSLUTA Waste Sorting Bin",
                                    "category_name": "Laundry & cleaning"
                                },
                                {
                                    "product_id": "P000000622",
                                    "product_name_eng": "VARIERA Waste Sorting Bin",
                                    "category_name": "Laundry & cleaning"
                                },
                                {
                                    "product_id": "P000000621",
                                    "product_name_eng": "SORTERA Waste Sorting Bin",
                                    "category_name": "Laundry & cleaning"
                                },
                                {
                                    "product_id": "P000001035",
                                    "product_name_eng": "Vinter Winter Decoration",
                                    "category_name": "Home Decoration"
                                },
                                {
                                    "product_id": "P000001034",
                                    "product_name_eng": "Vinter Winter Lights",
                                    "category_name": "Home Decoration"
                                },
                                {
                                    "product_id": "P000001033",
                                    "product_name_eng": "Blomster Winter Decor",
                                    "category_name": "Home Decoration"
                                },
                                {
                                    "product_id": "P000001032",
                                    "product_name_eng": "Vinter Decoration",
                                    "category_name": "Home Decoration"
                                },
                                {
                                    "product_id": "P000001031",
                                    "product_name_eng": "Strala Winter Lights",
                                    "category_name": "Home Decoration"
                                },
                                {
                                    "product_id": "P000001115",
                                    "product_name_eng": "Pudda Basket",
                                    "category_name": "Storage & organisation"
                                },
                                {
                                    "product_id": "P000001114",
                                    "product_name_eng": "Byholma Basket",
                                    "category_name": "Storage & organisation"
                                },
                                {
                                    "product_id": "P000001113",
                                    "product_name_eng": "Rissla Desk Organizer",
                                    "category_name": "Storage & organisation"
                                },
                                {
                                    "product_id": "P000001112",
                                    "product_name_eng": "Knuff Magazine File",
                                    "category_name": "Storage & organisation"
                                },
                                {
                                    "product_id": "P000001111",
                                    "product_name_eng": "Kvissle Paper Organizer",
                                    "category_name": "Storage & organisation"
                                },
                                {
                                    "product_id": "P000001766",
                                    "product_name_eng": "Ringblomma Curtains",
                                    "category_name": "Textiles"
                                },
                                {
                                    "product_id": "P000001765",
                                    "product_name_eng": "Sannolik Curtains",
                                    "category_name": "Textiles"
                                },
                                {
                                    "product_id": "P000001764",
                                    "product_name_eng": "Marjun Curtains",
                                    "category_name": "Textiles"
                                },
                                {
                                    "product_id": "P000001763",
                                    "product_name_eng": "Mattram Curtains",
                                    "category_name": "Textiles"
                                },
                                {
                                    "product_id": "P000001762",
                                    "product_name_eng": "Majgull Curtains",
                                    "category_name": "Textiles"
                                },
                                {
                                    "product_id": "P000001309",
                                    "product_name_eng": "Ekets Shelf",
                                    "category_name": "Kitchen Cabinets & Appliances"
                                },
                                {
                                    "product_id": "P000001308",
                                    "product_name_eng": "Lack Shelf",
                                    "category_name": "Kitchen Cabinets & Appliances"
                                },
                                {
                                    "product_id": "P000001307",
                                    "product_name_eng": "Besta Shelf",
                                    "category_name": "Kitchen Cabinets & Appliances"
                                },
                                {
                                    "product_id": "P000001306",
                                    "product_name_eng": "Kallax Shelf",
                                    "category_name": "Kitchen Cabinets & Appliances"
                                },
                                {
                                    "product_id": "P000001305",
                                    "product_name_eng": "Ekby Shelf",
                                    "category_name": "Kitchen Cabinets & Appliances"
                                },
                                {
                                    "product_id": "P000001269",
                                    "product_name_eng": "Poang Armchair",
                                    "category_name": "Furniture"
                                },
                                {
                                    "product_id": "P000001268",
                                    "product_name_eng": "Pello Armchair",
                                    "category_name": "Furniture"
                                },
                                {
                                    "product_id": "P000001267",
                                    "product_name_eng": "Landskrona Armchair",
                                    "category_name": "Furniture"
                                },
                                {
                                    "product_id": "P000001266",
                                    "product_name_eng": "Ektorp Armchair",
                                    "category_name": "Furniture"
                                },
                                {
                                    "product_id": "P000001265",
                                    "product_name_eng": "Strandmon Armchair",
                                    "category_name": "Furniture"
                                },
                                {
                                    "product_id": "P000001527",
                                    "product_name_eng": "Ps 2014 Pendant Lamp",
                                    "category_name": "Lighting, lamps & shades"
                                },
                                {
                                    "product_id": "P000001526",
                                    "product_name_eng": "Risbyn Pendant Lamp",
                                    "category_name": "Lighting, lamps & shades"
                                },
                                {
                                    "product_id": "P000001525",
                                    "product_name_eng": "Sinnerlig Ceiling Lamp",
                                    "category_name": "Lighting, lamps & shades"
                                },
                                {
                                    "product_id": "P000001524",
                                    "product_name_eng": "Sinnerlig Pendant Lamp",
                                    "category_name": "Lighting, lamps & shades"
                                },
                                {
                                    "product_id": "P000001523",
                                    "product_name_eng": "Krusning Pendant Lamp",
                                    "category_name": "Lighting, lamps & shades"
                                },
                                {
                                    "product_id": "P000000822",
                                    "product_name_eng": "BrAda Laptop Support",
                                    "category_name": "Furniture"
                                },
                                {
                                    "product_id": "P000000821",
                                    "product_name_eng": "Laller Laptop Table",
                                    "category_name": "Furniture"
                                },
                                {
                                    "product_id": "P000000820",
                                    "product_name_eng": "Gladom Laptop Table",
                                    "category_name": "Furniture"
                                },
                                {
                                    "product_id": "P000000819",
                                    "product_name_eng": "Liatorp Laptop Table",
                                    "category_name": "Furniture"
                                },
                                {
                                    "product_id": "P000000818",
                                    "product_name_eng": "Svartasen Laptop Table",
                                    "category_name": "Furniture"
                                },
                                {
                                    "product_id": "P000000189",
                                    "product_name_eng": "TORNVIKEN Kitchen Cart",
                                    "category_name": "Kitchen Cabinets & Appliances"
                                },
                                {
                                    "product_id": "P000000188",
                                    "product_name_eng": "FLYTTA Kitchen Island",
                                    "category_name": "Kitchen Cabinets & Appliances"
                                },
                                {
                                    "product_id": "P000000187",
                                    "product_name_eng": "KNARREVIK Kitchen Cart",
                                    "category_name": "Kitchen Cabinets & Appliances"
                                },
                                {
                                    "product_id": "P000000186",
                                    "product_name_eng": "BEKVAM Kitchen Trolley",
                                    "category_name": "Kitchen Cabinets & Appliances"
                                },
                                {
                                    "product_id": "P000000185",
                                    "product_name_eng": "RIMFORSA Kitchen Island",
                                    "category_name": "Kitchen Cabinets & Appliances"
                                },
                                {
                                    "product_id": "P000000184",
                                    "product_name_eng": "FORHOJA Kitchen Trolley",
                                    "category_name": "Kitchen Cabinets & Appliances"
                                },
                                {
                                    "product_id": "P000000183",
                                    "product_name_eng": "FLYTTA Kitchen Trolley",
                                    "category_name": "Kitchen Cabinets & Appliances"
                                },
                                {
                                    "product_id": "P000000182",
                                    "product_name_eng": "SUNNERSTA Kitchen Cart",
                                    "category_name": "Kitchen Cabinets & Appliances"
                                },
                                {
                                    "product_id": "P000000181",
                                    "product_name_eng": "STENSTORP Kitchen Cart",
                                    "category_name": "Kitchen Cabinets & Appliances"
                                },
                                {
                                    "product_id": "P000000180",
                                    "product_name_eng": "KNARREVIK Nightstand",
                                    "category_name": "Kitchen Cabinets & Appliances"
                                },
                                {
                                    "product_id": "P000000179",
                                    "product_name_eng": "TORNVIKEN Kitchen Trolley",
                                    "category_name": "Kitchen Cabinets & Appliances"
                                },
                                {
                                    "product_id": "P000000178",
                                    "product_name_eng": "FLYTTA Kitchen Cart",
                                    "category_name": "Kitchen Cabinets & Appliances"
                                },
                                {
                                    "product_id": "P000000177",
                                    "product_name_eng": "BEKVAM Kitchen Cart",
                                    "category_name": "Kitchen Cabinets & Appliances"
                                },
                                {
                                    "product_id": "P000000176",
                                    "product_name_eng": "BROR Kitchen Trolley",
                                    "category_name": "Kitchen Cabinets & Appliances"
                                },
                                {
                                    "product_id": "P000000175",
                                    "product_name_eng": "SUNNERSTA Utility Cart",
                                    "category_name": "Kitchen Cabinets & Appliances"
                                },
                                {
                                    "product_id": "P000000174",
                                    "product_name_eng": "TORNVIKEN Kitchen Island",
                                    "category_name": "Kitchen Cabinets & Appliances"
                                },
                                {
                                    "product_id": "P000000173",
                                    "product_name_eng": "RIMFORSA Kitchen Cart",
                                    "category_name": "Kitchen Cabinets & Appliances"
                                },
                                {
                                    "product_id": "P000000172",
                                    "product_name_eng": "STENSTORP Kitchen Island",
                                    "category_name": "Kitchen Cabinets & Appliances"
                                },
                                {
                                    "product_id": "P000000171",
                                    "product_name_eng": "FORHOJA Kitchen Cart",
                                    "category_name": "Kitchen Cabinets & Appliances"
                                },
                                {
                                    "product_id": "P000001439",
                                    "product_name_eng": "Mata Plate",
                                    "category_name": "Kitchenware & Tableware"
                                },
                                {
                                    "product_id": "P000001438",
                                    "product_name_eng": "Kalas Bowl",
                                    "category_name": "Kitchenware & Tableware"
                                },
                                {
                                    "product_id": "P000001437",
                                    "product_name_eng": "Kalas Plate",
                                    "category_name": "Kitchenware & Tableware"
                                },
                                {
                                    "product_id": "P000001436",
                                    "product_name_eng": "Duktig Bowl",
                                    "category_name": "Kitchenware & Tableware"
                                },
                                {
                                    "product_id": "P000001435",
                                    "product_name_eng": "Duktig Plate",
                                    "category_name": "Kitchenware & Tableware"
                                },
                                {
                                    "product_id": "P000001449",
                                    "product_name_eng": "Smaklig Cooking Set",
                                    "category_name": "Kitchenware & Tableware"
                                },
                                {
                                    "product_id": "P000001448",
                                    "product_name_eng": "Smafin Baking Set",
                                    "category_name": "Kitchenware & Tableware"
                                },
                                {
                                    "product_id": "P000001447",
                                    "product_name_eng": "Kukig Baking Set",
                                    "category_name": "Kitchenware & Tableware"
                                },
                                {
                                    "product_id": "P000001446",
                                    "product_name_eng": "Lattsam Baking Set",
                                    "category_name": "Kitchenware & Tableware"
                                },
                                {
                                    "product_id": "P000001445",
                                    "product_name_eng": "Duktig Baking Set",
                                    "category_name": "Kitchenware & Tableware"
                                },
                                {
                                    "product_id": "P000001214",
                                    "product_name_eng": "Nominell Desk Chair",
                                    "category_name": "Furniture"
                                },
                                {
                                    "product_id": "P000001213",
                                    "product_name_eng": "Millberget Desk Chair",
                                    "category_name": "Furniture"
                                },
                                {
                                    "product_id": "P000001212",
                                    "product_name_eng": "Flintan Desk Chair",
                                    "category_name": "Furniture"
                                },
                                {
                                    "product_id": "P000001211",
                                    "product_name_eng": "Hattefjall Desk Chair",
                                    "category_name": "Furniture"
                                },
                                {
                                    "product_id": "P000001210",
                                    "product_name_eng": "Markus Desk Chair",
                                    "category_name": "Furniture"
                                },
                                {
                                    "product_id": "P000001552",
                                    "product_name_eng": "Smart Life Lighting",
                                    "category_name": "Lighting, lamps & shades"
                                },
                                {
                                    "product_id": "P000001552",
                                    "product_name_eng": "Smart Life Lighting",
                                    "category_name": "Home Electronics"
                                },
                                {
                                    "product_id": "P000001552",
                                    "product_name_eng": "Smart Life Lighting",
                                    "category_name": "IKEA Home Smart"
                                },
                                {
                                    "product_id": "P000001551",
                                    "product_name_eng": "Google Home Lighting",
                                    "category_name": "Lighting, lamps & shades"
                                },
                                {
                                    "product_id": "P000001551",
                                    "product_name_eng": "Google Home Lighting",
                                    "category_name": "Home Electronics"
                                },
                                {
                                    "product_id": "P000001551",
                                    "product_name_eng": "Google Home Lighting",
                                    "category_name": "IKEA Home Smart"
                                },
                                {
                                    "product_id": "P000001550",
                                    "product_name_eng": "Homekit Lighting",
                                    "category_name": "Lighting, lamps & shades"
                                },
                                {
                                    "product_id": "P000001550",
                                    "product_name_eng": "Homekit Lighting",
                                    "category_name": "Home Electronics"
                                },
                                {
                                    "product_id": "P000001550",
                                    "product_name_eng": "Homekit Lighting",
                                    "category_name": "IKEA Home Smart"
                                },
                                {
                                    "product_id": "P000001549",
                                    "product_name_eng": "Smart Things Lighting",
                                    "category_name": "Lighting, lamps & shades"
                                },
                                {
                                    "product_id": "P000001549",
                                    "product_name_eng": "Smart Things Lighting",
                                    "category_name": "Home Electronics"
                                },
                                {
                                    "product_id": "P000001549",
                                    "product_name_eng": "Smart Things Lighting",
                                    "category_name": "IKEA Home Smart"
                                },
                                {
                                    "product_id": "P000001548",
                                    "product_name_eng": "Tradfri Smart Light",
                                    "category_name": "Lighting, lamps & shades"
                                },
                                {
                                    "product_id": "P000001548",
                                    "product_name_eng": "Tradfri Smart Light",
                                    "category_name": "Home Electronics"
                                },
                                {
                                    "product_id": "P000001548",
                                    "product_name_eng": "Tradfri Smart Light",
                                    "category_name": "IKEA Home Smart"
                                },
                                {
                                    "product_id": "P000001065",
                                    "product_name_eng": "Fjalkinge Cube Storage",
                                    "category_name": "Storage & organisation"
                                },
                                {
                                    "product_id": "P000001065",
                                    "product_name_eng": "Fjalkinge Cube Storage",
                                    "category_name": "Furniture"
                                },
                                {
                                    "product_id": "P000001064",
                                    "product_name_eng": "Brimnes Cube Storage",
                                    "category_name": "Storage & organisation"
                                },
                                {
                                    "product_id": "P000001064",
                                    "product_name_eng": "Brimnes Cube Storage",
                                    "category_name": "Furniture"
                                },
                                {
                                    "product_id": "P000001063",
                                    "product_name_eng": "Eket Cube Storage",
                                    "category_name": "Storage & organisation"
                                },
                                {
                                    "product_id": "P000001063",
                                    "product_name_eng": "Eket Cube Storage",
                                    "category_name": "Furniture"
                                },
                                {
                                    "product_id": "P000001062",
                                    "product_name_eng": "Expedit Cube Storage",
                                    "category_name": "Storage & organisation"
                                },
                                {
                                    "product_id": "P000001062",
                                    "product_name_eng": "Expedit Cube Storage",
                                    "category_name": "Furniture"
                                },
                                {
                                    "product_id": "P000001061",
                                    "product_name_eng": "Kallax Cube Storage",
                                    "category_name": "Storage & organisation"
                                },
                                {
                                    "product_id": "P000001061",
                                    "product_name_eng": "Kallax Cube Storage",
                                    "category_name": "Furniture"
                                },
                                {
                                    "product_id": "P000001459",
                                    "product_name_eng": "Kodbro Frame",
                                    "category_name": "Home Decoration"
                                },
                                {
                                    "product_id": "P000001458",
                                    "product_name_eng": "Lomviken Frame",
                                    "category_name": "Home Decoration"
                                },
                                {
                                    "product_id": "P000001457",
                                    "product_name_eng": "Dehka Frame",
                                    "category_name": "Home Decoration"
                                },
                                {
                                    "product_id": "P000001456",
                                    "product_name_eng": "Skatteby Frame",
                                    "category_name": "Home Decoration"
                                },
                                {
                                    "product_id": "P000001455",
                                    "product_name_eng": "Ribba Picture Frame",
                                    "category_name": "Home Decoration"
                                },
                                {
                                    "product_id": "P000000802",
                                    "product_name_eng": "Friheten Chair Bed",
                                    "category_name": "Furniture"
                                },
                                {
                                    "product_id": "P000000802",
                                    "product_name_eng": "Friheten Chair Bed",
                                    "category_name": "Beds & Mattresses"
                                },
                                {
                                    "product_id": "P000000801",
                                    "product_name_eng": "Balkarp Chair Bed",
                                    "category_name": "Furniture"
                                },
                                {
                                    "product_id": "P000000801",
                                    "product_name_eng": "Balkarp Chair Bed",
                                    "category_name": "Beds & Mattresses"
                                },
                                {
                                    "product_id": "P000000800",
                                    "product_name_eng": "Solsta Chair Bed",
                                    "category_name": "Furniture"
                                },
                                {
                                    "product_id": "P000000800",
                                    "product_name_eng": "Solsta Chair Bed",
                                    "category_name": "Beds & Mattresses"
                                },
                                {
                                    "product_id": "P000000799",
                                    "product_name_eng": "Hagalund Chair Bed",
                                    "category_name": "Furniture"
                                },
                                {
                                    "product_id": "P000000799",
                                    "product_name_eng": "Hagalund Chair Bed",
                                    "category_name": "Beds & Mattresses"
                                },
                                {
                                    "product_id": "P000000798",
                                    "product_name_eng": "Lycksele Chair Bed",
                                    "category_name": "Furniture"
                                },
                                {
                                    "product_id": "P000000798",
                                    "product_name_eng": "Lycksele Chair Bed",
                                    "category_name": "Beds & Mattresses"
                                },
                                {
                                    "product_id": "P000000488",
                                    "product_name_eng": "YDDINGEN Sink",
                                    "category_name": "Bathroom Products"
                                },
                                {
                                    "product_id": "P000000487",
                                    "product_name_eng": "SALJAN Sink",
                                    "category_name": "Bathroom Products"
                                },
                                {
                                    "product_id": "P000000486",
                                    "product_name_eng": "KATTEVIK Sink",
                                    "category_name": "Bathroom Products"
                                },
                                {
                                    "product_id": "P000000485",
                                    "product_name_eng": "LILLANGEN Sink",
                                    "category_name": "Bathroom Products"
                                },
                                {
                                    "product_id": "P000000484",
                                    "product_name_eng": "GODMORGON Sink",
                                    "category_name": "Bathroom Products"
                                },
                                {
                                    "product_id": "P000000483",
                                    "product_name_eng": "BRAVIKEN Sink",
                                    "category_name": "Bathroom Products"
                                },
                                {
                                    "product_id": "P000000482",
                                    "product_name_eng": "HALLVIKEN Sink",
                                    "category_name": "Bathroom Products"
                                },
                                {
                                    "product_id": "P000000481",
                                    "product_name_eng": "SILVERAN Sink",
                                    "category_name": "Bathroom Products"
                                },
                                {
                                    "product_id": "P000000480",
                                    "product_name_eng": "HORVIKEN Sink",
                                    "category_name": "Bathroom Products"
                                },
                                {
                                    "product_id": "P000000250",
                                    "product_name_eng": "TILLAGAD Kitchen Faucet",
                                    "category_name": "Bathroom Products"
                                },
                                {
                                    "product_id": "P000000498",
                                    "product_name_eng": "BOLMEN Tap",
                                    "category_name": "Bathroom Products"
                                },
                                {
                                    "product_id": "P000000497",
                                    "product_name_eng": "RINNEN Tap",
                                    "category_name": "Bathroom Products"
                                },
                                {
                                    "product_id": "P000000496",
                                    "product_name_eng": "LIDAN Tap",
                                    "category_name": "Bathroom Products"
                                },
                                {
                                    "product_id": "P000000495",
                                    "product_name_eng": "VOXNAN Tap",
                                    "category_name": "Bathroom Products"
                                },
                                {
                                    "product_id": "P000000494",
                                    "product_name_eng": "VOXNAN Tap",
                                    "category_name": "Bathroom Products"
                                },
                                {
                                    "product_id": "P000000493",
                                    "product_name_eng": "ENSEN Tap",
                                    "category_name": "Bathroom Products"
                                },
                                {
                                    "product_id": "P000000492",
                                    "product_name_eng": "BORJANDE Tap",
                                    "category_name": "Bathroom Products"
                                },
                                {
                                    "product_id": "P000000491",
                                    "product_name_eng": "BROGRUND Tap",
                                    "category_name": "Bathroom Products"
                                },
                                {
                                    "product_id": "P000000490",
                                    "product_name_eng": "LUNDSKAR Tap",
                                    "category_name": "Bathroom Products"
                                },
                                {
                                    "product_id": "P000000489",
                                    "product_name_eng": "DALSKAR Tap",
                                    "category_name": "Bathroom Products"
                                },
                                {
                                    "product_id": "P000001492",
                                    "product_name_eng": "Intressant Hanging Planter",
                                    "category_name": "Home Decoration"
                                },
                                {
                                    "product_id": "P000001492",
                                    "product_name_eng": "Intressant Hanging Planter",
                                    "category_name": "Pots & Plants"
                                },
                                {
                                    "product_id": "P000001491",
                                    "product_name_eng": "Flytta Hanging Planter",
                                    "category_name": "Home Decoration"
                                },
                                {
                                    "product_id": "P000001491",
                                    "product_name_eng": "Flytta Hanging Planter",
                                    "category_name": "Pots & Plants"
                                },
                                {
                                    "product_id": "P000001490",
                                    "product_name_eng": "Socker Hanging Planter",
                                    "category_name": "Home Decoration"
                                },
                                {
                                    "product_id": "P000001490",
                                    "product_name_eng": "Socker Hanging Planter",
                                    "category_name": "Pots & Plants"
                                },
                                {
                                    "product_id": "P000001489",
                                    "product_name_eng": "Bittergurka Hanging Planter",
                                    "category_name": "Home Decoration"
                                },
                                {
                                    "product_id": "P000001489",
                                    "product_name_eng": "Bittergurka Hanging Planter",
                                    "category_name": "Pots & Plants"
                                },
                                {
                                    "product_id": "P000001488",
                                    "product_name_eng": "Kardemumma Hanging Planter",
                                    "category_name": "Home Decoration"
                                },
                                {
                                    "product_id": "P000001488",
                                    "product_name_eng": "Kardemumma Hanging Planter",
                                    "category_name": "Pots & Plants"
                                },
                                {
                                    "product_id": "P000001005",
                                    "product_name_eng": "Asker Wall Storage",
                                    "category_name": "Kitchen Cabinets & Appliances"
                                },
                                {
                                    "product_id": "P000001004",
                                    "product_name_eng": "Utensil Wall Storage",
                                    "category_name": "Kitchen Cabinets & Appliances"
                                },
                                {
                                    "product_id": "P000001003",
                                    "product_name_eng": "Rimforsa Wall Shelf",
                                    "category_name": "Kitchen Cabinets & Appliances"
                                },
                                {
                                    "product_id": "P000001002",
                                    "product_name_eng": "Grundtal Wall Shelf",
                                    "category_name": "Kitchen Cabinets & Appliances"
                                },
                                {
                                    "product_id": "P000001001",
                                    "product_name_eng": "Fintorp Wall Organizer",
                                    "category_name": "Kitchen Cabinets & Appliances"
                                },
                                {
                                    "product_id": "P000001090",
                                    "product_name_eng": "Kallax TV Bench",
                                    "category_name": "Storage & organisation"
                                },
                                {
                                    "product_id": "P000001090",
                                    "product_name_eng": "Kallax TV Bench",
                                    "category_name": "Furniture"
                                },
                                {
                                    "product_id": "P000001089",
                                    "product_name_eng": "Hemnes TV Bench",
                                    "category_name": "Storage & organisation"
                                },
                                {
                                    "product_id": "P000001089",
                                    "product_name_eng": "Hemnes TV Bench",
                                    "category_name": "Furniture"
                                },
                                {
                                    "product_id": "P000001088",
                                    "product_name_eng": "Havsta TV Bench",
                                    "category_name": "Storage & organisation"
                                },
                                {
                                    "product_id": "P000001088",
                                    "product_name_eng": "Havsta TV Bench",
                                    "category_name": "Furniture"
                                },
                                {
                                    "product_id": "P000001087",
                                    "product_name_eng": "Besta TV Bench",
                                    "category_name": "Storage & organisation"
                                },
                                {
                                    "product_id": "P000001087",
                                    "product_name_eng": "Besta TV Bench",
                                    "category_name": "Furniture"
                                },
                                {
                                    "product_id": "P000001086",
                                    "product_name_eng": "Lack TV Bench",
                                    "category_name": "Storage & organisation"
                                },
                                {
                                    "product_id": "P000001086",
                                    "product_name_eng": "Lack TV Bench",
                                    "category_name": "Furniture"
                                },
                                {
                                    "product_id": "P000000399",
                                    "product_name_eng": "SOLMYS LED Solar Table Lamp",
                                    "category_name": "Lighting, lamps & shades"
                                },
                                {
                                    "product_id": "P000000399",
                                    "product_name_eng": "SOLMYS LED Solar Table Lamp",
                                    "category_name": "Outdoor products"
                                },
                                {
                                    "product_id": "P000000398",
                                    "product_name_eng": "LEDSJO LED Solar Pendant Lamp",
                                    "category_name": "Lighting, lamps & shades"
                                },
                                {
                                    "product_id": "P000000398",
                                    "product_name_eng": "LEDSJO LED Solar Pendant Lamp",
                                    "category_name": "Outdoor products"
                                },
                                {
                                    "product_id": "P000000397",
                                    "product_name_eng": "SOLKLINT LED Solar Lantern",
                                    "category_name": "Lighting, lamps & shades"
                                },
                                {
                                    "product_id": "P000000397",
                                    "product_name_eng": "SOLKLINT LED Solar Lantern",
                                    "category_name": "Outdoor products"
                                },
                                {
                                    "product_id": "P000000396",
                                    "product_name_eng": "SOLVINDEN Solar String Lights",
                                    "category_name": "Lighting, lamps & shades"
                                },
                                {
                                    "product_id": "P000000396",
                                    "product_name_eng": "SOLVINDEN Solar String Lights",
                                    "category_name": "Outdoor products"
                                },
                                {
                                    "product_id": "P000000395",
                                    "product_name_eng": "SOLVINDEN LED Solar Lantern",
                                    "category_name": "Lighting, lamps & shades"
                                },
                                {
                                    "product_id": "P000000395",
                                    "product_name_eng": "SOLVINDEN LED Solar Lantern",
                                    "category_name": "Outdoor products"
                                },
                                {
                                    "product_id": "P000000394",
                                    "product_name_eng": "VINDKAR Solar Floor Lamp",
                                    "category_name": "Lighting, lamps & shades"
                                },
                                {
                                    "product_id": "P000000394",
                                    "product_name_eng": "VINDKAR Solar Floor Lamp",
                                    "category_name": "Outdoor products"
                                },
                                {
                                    "product_id": "P000000393",
                                    "product_name_eng": "LJUSA LED Block Candle",
                                    "category_name": "Lighting, lamps & shades"
                                },
                                {
                                    "product_id": "P000000393",
                                    "product_name_eng": "LJUSA LED Block Candle",
                                    "category_name": "Outdoor products"
                                },
                                {
                                    "product_id": "P000000392",
                                    "product_name_eng": "VINDKAR Solar Table Lamp",
                                    "category_name": "Lighting, lamps & shades"
                                },
                                {
                                    "product_id": "P000000392",
                                    "product_name_eng": "VINDKAR Solar Table Lamp",
                                    "category_name": "Outdoor products"
                                },
                                {
                                    "product_id": "P000000391",
                                    "product_name_eng": "SOLARVET Solar Pendant Lamp",
                                    "category_name": "Lighting, lamps & shades"
                                },
                                {
                                    "product_id": "P000000391",
                                    "product_name_eng": "SOLARVET Solar Pendant Lamp",
                                    "category_name": "Outdoor products"
                                },
                                {
                                    "product_id": "P000000390",
                                    "product_name_eng": "SOLARVET LED String Lights",
                                    "category_name": "Lighting, lamps & shades"
                                },
                                {
                                    "product_id": "P000000390",
                                    "product_name_eng": "SOLARVET LED String Lights",
                                    "category_name": "Outdoor products"
                                },
                                {
                                    "product_id": "P000000389",
                                    "product_name_eng": "GODAFTON LED Candles",
                                    "category_name": "Lighting, lamps & shades"
                                },
                                {
                                    "product_id": "P000000389",
                                    "product_name_eng": "GODAFTON LED Candles",
                                    "category_name": "Outdoor products"
                                },
                                {
                                    "product_id": "P000000388",
                                    "product_name_eng": "KUGGIS Solar Cell Lantern",
                                    "category_name": "Lighting, lamps & shades"
                                },
                                {
                                    "product_id": "P000000388",
                                    "product_name_eng": "KUGGIS Solar Cell Lantern",
                                    "category_name": "Outdoor products"
                                },
                                {
                                    "product_id": "P000000387",
                                    "product_name_eng": "APPLARO LED Solar Floor Lamp",
                                    "category_name": "Lighting, lamps & shades"
                                },
                                {
                                    "product_id": "P000000387",
                                    "product_name_eng": "APPLARO LED Solar Floor Lamp",
                                    "category_name": "Outdoor products"
                                },
                                {
                                    "product_id": "P000000386",
                                    "product_name_eng": "BOJA LED Table Lamp",
                                    "category_name": "Lighting, lamps & shades"
                                },
                                {
                                    "product_id": "P000000386",
                                    "product_name_eng": "BOJA LED Table Lamp",
                                    "category_name": "Outdoor products"
                                },
                                {
                                    "product_id": "P000000385",
                                    "product_name_eng": "SOLVINDEN Solar Table Lamp",
                                    "category_name": "Lighting, lamps & shades"
                                },
                                {
                                    "product_id": "P000000385",
                                    "product_name_eng": "SOLVINDEN Solar Table Lamp",
                                    "category_name": "Outdoor products"
                                },
                                {
                                    "product_id": "P000000384",
                                    "product_name_eng": "MORKT LED Wall Lamp",
                                    "category_name": "Lighting, lamps & shades"
                                },
                                {
                                    "product_id": "P000000384",
                                    "product_name_eng": "MORKT LED Wall Lamp",
                                    "category_name": "Outdoor products"
                                },
                                {
                                    "product_id": "P000000383",
                                    "product_name_eng": "SOLGLIMTAR LED Solar String Lights",
                                    "category_name": "Lighting, lamps & shades"
                                },
                                {
                                    "product_id": "P000000383",
                                    "product_name_eng": "SOLGLIMTAR LED Solar String Lights",
                                    "category_name": "Outdoor products"
                                },
                                {
                                    "product_id": "P000000382",
                                    "product_name_eng": "GODAFTON LED Block Candle",
                                    "category_name": "Lighting, lamps & shades"
                                },
                                {
                                    "product_id": "P000000382",
                                    "product_name_eng": "GODAFTON LED Block Candle",
                                    "category_name": "Outdoor products"
                                },
                                {
                                    "product_id": "P000000381",
                                    "product_name_eng": "APPLARO LED Solar Pendant Lamp",
                                    "category_name": "Lighting, lamps & shades"
                                },
                                {
                                    "product_id": "P000000381",
                                    "product_name_eng": "APPLARO LED Solar Pendant Lamp",
                                    "category_name": "Outdoor products"
                                },
                                {
                                    "product_id": "P000000380",
                                    "product_name_eng": "SOLVINDEN Solar-Powered Light",
                                    "category_name": "Lighting, lamps & shades"
                                },
                                {
                                    "product_id": "P000000380",
                                    "product_name_eng": "SOLVINDEN Solar-Powered Light",
                                    "category_name": "Outdoor products"
                                },
                                {
                                    "product_id": "P000001105",
                                    "product_name_eng": "Songesand Sliding Wardrobe",
                                    "category_name": "Storage & organisation"
                                },
                                {
                                    "product_id": "P000001105",
                                    "product_name_eng": "Songesand Sliding Wardrobe",
                                    "category_name": "Furniture"
                                },
                                {
                                    "product_id": "P000001104",
                                    "product_name_eng": "Liatorp Sliding Wardrobe",
                                    "category_name": "Storage & organisation"
                                },
                                {
                                    "product_id": "P000001104",
                                    "product_name_eng": "Liatorp Sliding Wardrobe",
                                    "category_name": "Furniture"
                                },
                                {
                                    "product_id": "P000001103",
                                    "product_name_eng": "Storjorm Sliding Wardrobe",
                                    "category_name": "Storage & organisation"
                                },
                                {
                                    "product_id": "P000001103",
                                    "product_name_eng": "Storjorm Sliding Wardrobe",
                                    "category_name": "Furniture"
                                },
                                {
                                    "product_id": "P000001102",
                                    "product_name_eng": "Hasvik Sliding Wardrobe",
                                    "category_name": "Storage & organisation"
                                },
                                {
                                    "product_id": "P000001102",
                                    "product_name_eng": "Hasvik Sliding Wardrobe",
                                    "category_name": "Furniture"
                                },
                                {
                                    "product_id": "P000001101",
                                    "product_name_eng": "Pax Sliding Wardrobe",
                                    "category_name": "Storage & organisation"
                                },
                                {
                                    "product_id": "P000001101",
                                    "product_name_eng": "Pax Sliding Wardrobe",
                                    "category_name": "Furniture"
                                },
                                {
                                    "product_id": "P000001706",
                                    "product_name_eng": "Vinter 2022 Lantern",
                                    "category_name": "Outdoor products"
                                },
                                {
                                    "product_id": "P000001705",
                                    "product_name_eng": "Sittningen Lantern",
                                    "category_name": "Outdoor products"
                                },
                                {
                                    "product_id": "P000001704",
                                    "product_name_eng": "Kronig Lantern",
                                    "category_name": "Outdoor products"
                                },
                                {
                                    "product_id": "P000001703",
                                    "product_name_eng": "Klasevalla Lantern",
                                    "category_name": "Outdoor products"
                                },
                                {
                                    "product_id": "P000001702",
                                    "product_name_eng": "Solig Solar Lantern",
                                    "category_name": "Outdoor products"
                                },
                                {
                                    "product_id": "P000001409",
                                    "product_name_eng": "Knivar Serving Cutlery",
                                    "category_name": "Kitchenware & Tableware"
                                },
                                {
                                    "product_id": "P000001408",
                                    "product_name_eng": "Slitbar Serving Cutlery",
                                    "category_name": "Kitchenware & Tableware"
                                },
                                {
                                    "product_id": "P000001407",
                                    "product_name_eng": "Spisig Serving Cutlery",
                                    "category_name": "Kitchenware & Tableware"
                                },
                                {
                                    "product_id": "P000001406",
                                    "product_name_eng": "Koska Serving Cutlery",
                                    "category_name": "Kitchenware & Tableware"
                                },
                                {
                                    "product_id": "P000001405",
                                    "product_name_eng": "Tillagad Serving Cutlery",
                                    "category_name": "Kitchenware & Tableware"
                                },
                                {
                                    "product_id": "P000001736",
                                    "product_name_eng": "Stromma USB Charger",
                                    "category_name": "Home Electronics"
                                },
                                {
                                    "product_id": "P000001736",
                                    "product_name_eng": "Stromma USB Charger",
                                    "category_name": "Home Electronics"
                                },
                                {
                                    "product_id": "P000001735",
                                    "product_name_eng": "Gulont USB Charger",
                                    "category_name": "Home Electronics"
                                },
                                {
                                    "product_id": "P000001735",
                                    "product_name_eng": "Gulont USB Charger",
                                    "category_name": "Home Electronics"
                                },
                                {
                                    "product_id": "P000001734",
                                    "product_name_eng": "Joneryd USB Charger",
                                    "category_name": "Home Electronics"
                                },
                                {
                                    "product_id": "P000001734",
                                    "product_name_eng": "Joneryd USB Charger",
                                    "category_name": "Home Electronics"
                                },
                                {
                                    "product_id": "P000001733",
                                    "product_name_eng": "Anslut USB Charger",
                                    "category_name": "Home Electronics"
                                },
                                {
                                    "product_id": "P000001733",
                                    "product_name_eng": "Anslut USB Charger",
                                    "category_name": "Home Electronics"
                                },
                                {
                                    "product_id": "P000001732",
                                    "product_name_eng": "Skross USB Charger",
                                    "category_name": "Home Electronics"
                                },
                                {
                                    "product_id": "P000001732",
                                    "product_name_eng": "Skross USB Charger",
                                    "category_name": "Home Electronics"
                                },
                                {
                                    "product_id": "P000000660",
                                    "product_name_eng": "KOPPLA Cable Box",
                                    "category_name": "Home Electronics"
                                },
                                {
                                    "product_id": "P000000659",
                                    "product_name_eng": "SLAKTING Cable Clip",
                                    "category_name": "Home Electronics"
                                },
                                {
                                    "product_id": "P000000658",
                                    "product_name_eng": "RABBALSHOK Cable Clip",
                                    "category_name": "Home Electronics"
                                },
                                {
                                    "product_id": "P000000657",
                                    "product_name_eng": "RABBALSHOK Cable Holder",
                                    "category_name": "Home Electronics"
                                },
                                {
                                    "product_id": "P000000656",
                                    "product_name_eng": "BRADA Cable Shelf",
                                    "category_name": "Home Electronics"
                                },
                                {
                                    "product_id": "P000000655",
                                    "product_name_eng": "TJENA Cable Box",
                                    "category_name": "Home Electronics"
                                },
                                {
                                    "product_id": "P000000654",
                                    "product_name_eng": "LANKMOJ Cable Management",
                                    "category_name": "Home Electronics"
                                },
                                {
                                    "product_id": "P000000653",
                                    "product_name_eng": "KOPPLA Cable Management",
                                    "category_name": "Home Electronics"
                                },
                                {
                                    "product_id": "P000000652",
                                    "product_name_eng": "RALLEN Cable Management",
                                    "category_name": "Home Electronics"
                                },
                                {
                                    "product_id": "P000000651",
                                    "product_name_eng": "SIGNUM Cable Management",
                                    "category_name": "Home Electronics"
                                },
                                {
                                    "product_id": "P000000508",
                                    "product_name_eng": "SINDAL Rug",
                                    "category_name": "Outdoor products"
                                },
                                {
                                    "product_id": "P000000507",
                                    "product_name_eng": "SVIND Rug",
                                    "category_name": "Outdoor products"
                                },
                                {
                                    "product_id": "P000000506",
                                    "product_name_eng": "KOLLUND Rug",
                                    "category_name": "Outdoor products"
                                },
                                {
                                    "product_id": "P000000505",
                                    "product_name_eng": "SLATTEN Rug",
                                    "category_name": "Outdoor products"
                                },
                                {
                                    "product_id": "P000000504",
                                    "product_name_eng": "OMTANKSAM Rug",
                                    "category_name": "Outdoor products"
                                },
                                {
                                    "product_id": "P000000503",
                                    "product_name_eng": "RORKAR Rug",
                                    "category_name": "Outdoor products"
                                },
                                {
                                    "product_id": "P000000502",
                                    "product_name_eng": "OLSKER Rug",
                                    "category_name": "Outdoor products"
                                },
                                {
                                    "product_id": "P000000501",
                                    "product_name_eng": "STENMATARE Rug",
                                    "category_name": "Outdoor products"
                                },
                                {
                                    "product_id": "P000000500",
                                    "product_name_eng": "HOBBY Rug",
                                    "category_name": "Outdoor products"
                                },
                                {
                                    "product_id": "P000000499",
                                    "product_name_eng": "RORHOLT Rug",
                                    "category_name": "Outdoor products"
                                },
                                {
                                    "product_id": "P000001641",
                                    "product_name_eng": "Kalkgrund Shelf",
                                    "category_name": "Bathroom Products"
                                },
                                {
                                    "product_id": "P000001640",
                                    "product_name_eng": "Hemnes Shelf",
                                    "category_name": "Bathroom Products"
                                },
                                {
                                    "product_id": "P000001639",
                                    "product_name_eng": "Molger Shelf",
                                    "category_name": "Bathroom Products"
                                },
                                {
                                    "product_id": "P000001638",
                                    "product_name_eng": "Silviken Shelf",
                                    "category_name": "Bathroom Products"
                                },
                                {
                                    "product_id": "P000001637",
                                    "product_name_eng": "Ragrund Shelf",
                                    "category_name": "Bathroom Products"
                                },
                                {
                                    "product_id": "P000001671",
                                    "product_name_eng": "Kuggas Parasol",
                                    "category_name": "Outdoor products"
                                },
                                {
                                    "product_id": "P000001670",
                                    "product_name_eng": "Vindel Parasol",
                                    "category_name": "Outdoor products"
                                },
                                {
                                    "product_id": "P000001669",
                                    "product_name_eng": "Gromar Parasol",
                                    "category_name": "Outdoor products"
                                },
                                {
                                    "product_id": "P000001668",
                                    "product_name_eng": "Bultaroe Parasol",
                                    "category_name": "Outdoor products"
                                },
                                {
                                    "product_id": "P000001667",
                                    "product_name_eng": "Flisom Parasol",
                                    "category_name": "Outdoor products"
                                },
                                {
                                    "product_id": "P000001204",
                                    "product_name_eng": "Kullaberg Desk",
                                    "category_name": "Furniture"
                                },
                                {
                                    "product_id": "P000001203",
                                    "product_name_eng": "Hilver Desk",
                                    "category_name": "Furniture"
                                },
                                {
                                    "product_id": "P000001202",
                                    "product_name_eng": "Fredde Desk",
                                    "category_name": "Furniture"
                                },
                                {
                                    "product_id": "P000001201",
                                    "product_name_eng": "Linnmon Desk",
                                    "category_name": "Furniture"
                                },
                                {
                                    "product_id": "P000001200",
                                    "product_name_eng": "Micke Desk",
                                    "category_name": "Furniture"
                                },
                                {
                                    "product_id": "P000001224",
                                    "product_name_eng": "Ekebol Bench",
                                    "category_name": "Furniture"
                                },
                                {
                                    "product_id": "P000001223",
                                    "product_name_eng": "Leksvik Bench",
                                    "category_name": "Furniture"
                                },
                                {
                                    "product_id": "P000001222",
                                    "product_name_eng": "Sinnerlig Bench",
                                    "category_name": "Furniture"
                                },
                                {
                                    "product_id": "P000001221",
                                    "product_name_eng": "Hemnes Bench",
                                    "category_name": "Furniture"
                                },
                                {
                                    "product_id": "P000001220",
                                    "product_name_eng": "Ingolf Bench",
                                    "category_name": "Furniture"
                                },
                                {
                                    "product_id": "P000000696",
                                    "product_name_eng": "SAIGON Acoustic Panel",
                                    "category_name": "Home Improvement"
                                },
                                {
                                    "product_id": "P000000695",
                                    "product_name_eng": "LINGO Acoustic Panel",
                                    "category_name": "Home Improvement"
                                },
                                {
                                    "product_id": "P000000694",
                                    "product_name_eng": "SORJA Acoustic Panel",
                                    "category_name": "Home Improvement"
                                },
                                {
                                    "product_id": "P000000693",
                                    "product_name_eng": "ZEN Acoustic Panel",
                                    "category_name": "Home Improvement"
                                },
                                {
                                    "product_id": "P000000692",
                                    "product_name_eng": "MIAMI Acoustic Panel",
                                    "category_name": "Home Improvement"
                                },
                                {
                                    "product_id": "P000000691",
                                    "product_name_eng": "STOCKHOLM Acoustic Panel",
                                    "category_name": "Home Improvement"
                                },
                                {
                                    "product_id": "P000000690",
                                    "product_name_eng": "TOKYO Acoustic Panel",
                                    "category_name": "Home Improvement"
                                },
                                {
                                    "product_id": "P000000689",
                                    "product_name_eng": "SAIGON Acoustic Panel",
                                    "category_name": "Home Improvement"
                                },
                                {
                                    "product_id": "P000000688",
                                    "product_name_eng": "LINGO Acoustic Panel",
                                    "category_name": "Home Improvement"
                                },
                                {
                                    "product_id": "P000000687",
                                    "product_name_eng": "SORJA Acoustic Panel",
                                    "category_name": "Home Improvement"
                                },
                                {
                                    "product_id": "P000001596",
                                    "product_name_eng": "Hamarvik Foam Spring Mattress",
                                    "category_name": "Beds & Mattresses"
                                },
                                {
                                    "product_id": "P000001595",
                                    "product_name_eng": "Haugsvik Foam Spring Mattress",
                                    "category_name": "Beds & Mattresses"
                                },
                                {
                                    "product_id": "P000001594",
                                    "product_name_eng": "Hamarvik Foam Spring Mattress",
                                    "category_name": "Beds & Mattresses"
                                },
                                {
                                    "product_id": "P000001593",
                                    "product_name_eng": "Hasvag Foam Spring Mattress",
                                    "category_name": "Beds & Mattresses"
                                },
                                {
                                    "product_id": "P000001592",
                                    "product_name_eng": "Morgedal Foam Spring Mattress",
                                    "category_name": "Beds & Mattresses"
                                },
                                {
                                    "product_id": "P000001821",
                                    "product_name_eng": "Leka Curtains",
                                    "category_name": "Textiles"
                                },
                                {
                                    "product_id": "P000001820",
                                    "product_name_eng": "Tuvbracka Curtains",
                                    "category_name": "Textiles"
                                },
                                {
                                    "product_id": "P000001819",
                                    "product_name_eng": "Dockskap Curtains",
                                    "category_name": "Textiles"
                                },
                                {
                                    "product_id": "P000001818",
                                    "product_name_eng": "Himmelsk Curtains",
                                    "category_name": "Textiles"
                                },
                                {
                                    "product_id": "P000001817",
                                    "product_name_eng": "Sagoskog Curtains",
                                    "category_name": "Textiles"
                                },
                                {
                                    "product_id": "P000001741",
                                    "product_name_eng": "Greppa Wireless Charger",
                                    "category_name": "Home Electronics"
                                },
                                {
                                    "product_id": "P000001740",
                                    "product_name_eng": "Hemolt Wireless Charger",
                                    "category_name": "Home Electronics"
                                },
                                {
                                    "product_id": "P000001739",
                                    "product_name_eng": "Ladda Wireless Charger",
                                    "category_name": "Home Electronics"
                                },
                                {
                                    "product_id": "P000001738",
                                    "product_name_eng": "Mobilis Wireless Charger",
                                    "category_name": "Home Electronics"
                                },
                                {
                                    "product_id": "P000001737",
                                    "product_name_eng": "Fornuft Wireless Charger",
                                    "category_name": "Home Electronics"
                                },
                                {
                                    "product_id": "P000001374",
                                    "product_name_eng": "Vardag Baking Tray",
                                    "category_name": "Kitchenware & Tableware"
                                },
                                {
                                    "product_id": "P000001373",
                                    "product_name_eng": "Storform Baking Tray",
                                    "category_name": "Kitchenware & Tableware"
                                },
                                {
                                    "product_id": "P000001372",
                                    "product_name_eng": "Ekonomisk Baking Tray",
                                    "category_name": "Kitchenware & Tableware"
                                },
                                {
                                    "product_id": "P000001371",
                                    "product_name_eng": "Kavalkad Baking Tray",
                                    "category_name": "Kitchenware & Tableware"
                                },
                                {
                                    "product_id": "P000001370",
                                    "product_name_eng": "Ideell Ovenware",
                                    "category_name": "Kitchenware & Tableware"
                                },
                                {
                                    "product_id": "P000000837",
                                    "product_name_eng": "NorrAker Conference Chair",
                                    "category_name": "Furniture"
                                },
                                {
                                    "product_id": "P000000836",
                                    "product_name_eng": "Skruvsta Conference Chair",
                                    "category_name": "Furniture"
                                },
                                {
                                    "product_id": "P000000835",
                                    "product_name_eng": "Martin Conference Chair",
                                    "category_name": "Furniture"
                                },
                                {
                                    "product_id": "P000000834",
                                    "product_name_eng": "Vilgot Conference Chair",
                                    "category_name": "Furniture"
                                },
                                {
                                    "product_id": "P000000833",
                                    "product_name_eng": "Snille Conference Chair",
                                    "category_name": "Furniture"
                                },
                                {
                                    "product_id": "P000001359",
                                    "product_name_eng": "Vinter Table Cloth",
                                    "category_name": "Kitchenware & Tableware"
                                },
                                {
                                    "product_id": "P000001359",
                                    "product_name_eng": "Vinter Table Cloth",
                                    "category_name": "Textiles"
                                },
                                {
                                    "product_id": "P000001358",
                                    "product_name_eng": "Sinnlig Table Cloth",
                                    "category_name": "Kitchenware & Tableware"
                                },
                                {
                                    "product_id": "P000001358",
                                    "product_name_eng": "Sinnlig Table Cloth",
                                    "category_name": "Textiles"
                                },
                                {
                                    "product_id": "P000001357",
                                    "product_name_eng": "Plats Table Cloth",
                                    "category_name": "Kitchenware & Tableware"
                                },
                                {
                                    "product_id": "P000001357",
                                    "product_name_eng": "Plats Table Cloth",
                                    "category_name": "Textiles"
                                },
                                {
                                    "product_id": "P000001356",
                                    "product_name_eng": "Himmelsk Table Cloth",
                                    "category_name": "Kitchenware & Tableware"
                                },
                                {
                                    "product_id": "P000001356",
                                    "product_name_eng": "Himmelsk Table Cloth",
                                    "category_name": "Textiles"
                                },
                                {
                                    "product_id": "P000001355",
                                    "product_name_eng": "Gittan Table Cloth",
                                    "category_name": "Kitchenware & Tableware"
                                },
                                {
                                    "product_id": "P000001355",
                                    "product_name_eng": "Gittan Table Cloth",
                                    "category_name": "Textiles"
                                },
                                {
                                    "product_id": "P000001571",
                                    "product_name_eng": "Sparsam LED Bulb",
                                    "category_name": "Lighting, lamps & shades"
                                },
                                {
                                    "product_id": "P000001570",
                                    "product_name_eng": "Glansa LED Bulb",
                                    "category_name": "Lighting, lamps & shades"
                                },
                                {
                                    "product_id": "P000001569",
                                    "product_name_eng": "Stromby LED Bulb",
                                    "category_name": "Lighting, lamps & shades"
                                },
                                {
                                    "product_id": "P000001568",
                                    "product_name_eng": "Ljusbo LED Bulb",
                                    "category_name": "Lighting, lamps & shades"
                                },
                                {
                                    "product_id": "P000001567",
                                    "product_name_eng": "Ledare LED Bulb",
                                    "category_name": "Lighting, lamps & shades"
                                },
                                {
                                    "product_id": "P000001512",
                                    "product_name_eng": "Blomning Dish",
                                    "category_name": "Home Decoration"
                                },
                                {
                                    "product_id": "P000001511",
                                    "product_name_eng": "Kalas Dish",
                                    "category_name": "Home Decoration"
                                },
                                {
                                    "product_id": "P000001510",
                                    "product_name_eng": "Slattad Dish",
                                    "category_name": "Home Decoration"
                                },
                                {
                                    "product_id": "P000001509",
                                    "product_name_eng": "Ordning Dish",
                                    "category_name": "Home Decoration"
                                },
                                {
                                    "product_id": "P000001508",
                                    "product_name_eng": "Fornuft Bowl",
                                    "category_name": "Home Decoration"
                                },
                                {
                                    "product_id": "P000000620",
                                    "product_name_eng": "RORT Ironing Board",
                                    "category_name": "Laundry & cleaning"
                                },
                                {
                                    "product_id": "P000000619",
                                    "product_name_eng": "KLAMMIG Ironing Board",
                                    "category_name": "Laundry & cleaning"
                                },
                                {
                                    "product_id": "P000000618",
                                    "product_name_eng": "STABIL Ironing Board",
                                    "category_name": "Laundry & cleaning"
                                },
                                {
                                    "product_id": "P000000617",
                                    "product_name_eng": "TORKIS Ironing Board",
                                    "category_name": "Laundry & cleaning"
                                },
                                {
                                    "product_id": "P000000616",
                                    "product_name_eng": "PROPPMATT Ironing Board",
                                    "category_name": "Laundry & cleaning"
                                },
                                {
                                    "product_id": "P000000615",
                                    "product_name_eng": "BRABO Ironing Board",
                                    "category_name": "Laundry & cleaning"
                                },
                                {
                                    "product_id": "P000000614",
                                    "product_name_eng": "RACKA Ironing Board",
                                    "category_name": "Laundry & cleaning"
                                },
                                {
                                    "product_id": "P000000613",
                                    "product_name_eng": "KLAMTARE Ironing Board",
                                    "category_name": "Laundry & cleaning"
                                },
                                {
                                    "product_id": "P000000612",
                                    "product_name_eng": "RAVAROR Ironing Board",
                                    "category_name": "Laundry & cleaning"
                                },
                                {
                                    "product_id": "P000000611",
                                    "product_name_eng": "JALL Ironing Board",
                                    "category_name": "Laundry & cleaning"
                                },
                                {
                                    "product_id": "P000000590",
                                    "product_name_eng": "LILLANGEN Laundry Bag",
                                    "category_name": "Laundry & cleaning"
                                },
                                {
                                    "product_id": "P000000589",
                                    "product_name_eng": "GRUNDTAL Hanger",
                                    "category_name": "Laundry & cleaning"
                                },
                                {
                                    "product_id": "P000000147",
                                    "product_name_eng": "RIGGA Clothes Rack",
                                    "category_name": "Laundry & cleaning"
                                },
                                {
                                    "product_id": "P000000588",
                                    "product_name_eng": "PLUTT Laundry Bag",
                                    "category_name": "Laundry & cleaning"
                                },
                                {
                                    "product_id": "P000000587",
                                    "product_name_eng": "PRESSA Hanging Dryer",
                                    "category_name": "Laundry & cleaning"
                                },
                                {
                                    "product_id": "P000000586",
                                    "product_name_eng": "LACK Basket",
                                    "category_name": "Laundry & cleaning"
                                },
                                {
                                    "product_id": "P000000585",
                                    "product_name_eng": "SAVERN Hook",
                                    "category_name": "Laundry & cleaning"
                                },
                                {
                                    "product_id": "P000000584",
                                    "product_name_eng": "KALKGRUND Towel Rail",
                                    "category_name": "Laundry & cleaning"
                                },
                                {
                                    "product_id": "P000000583",
                                    "product_name_eng": "MULIG Clothes Bar",
                                    "category_name": "Laundry & cleaning"
                                },
                                {
                                    "product_id": "P000000582",
                                    "product_name_eng": "GRUNDTAL Drying Rack",
                                    "category_name": "Laundry & cleaning"
                                },
                                {
                                    "product_id": "P000001319",
                                    "product_name_eng": "Sensorisk Microwave Oven",
                                    "category_name": "Kitchen Cabinets & Appliances"
                                },
                                {
                                    "product_id": "P000001319",
                                    "product_name_eng": "Sensorisk Microwave Oven",
                                    "category_name": "Home Electronics"
                                },
                                {
                                    "product_id": "P000001318",
                                    "product_name_eng": "Matalag Microwave Oven",
                                    "category_name": "Kitchen Cabinets & Appliances"
                                },
                                {
                                    "product_id": "P000001318",
                                    "product_name_eng": "Matalag Microwave Oven",
                                    "category_name": "Home Electronics"
                                },
                                {
                                    "product_id": "P000001317",
                                    "product_name_eng": "Kulinarisk Microwave Oven",
                                    "category_name": "Kitchen Cabinets & Appliances"
                                },
                                {
                                    "product_id": "P000001317",
                                    "product_name_eng": "Kulinarisk Microwave Oven",
                                    "category_name": "Home Electronics"
                                },
                                {
                                    "product_id": "P000001316",
                                    "product_name_eng": "Frostkall Microwave Oven",
                                    "category_name": "Kitchen Cabinets & Appliances"
                                },
                                {
                                    "product_id": "P000001316",
                                    "product_name_eng": "Frostkall Microwave Oven",
                                    "category_name": "Home Electronics"
                                },
                                {
                                    "product_id": "P000001315",
                                    "product_name_eng": "Renlig Microwave Oven",
                                    "category_name": "Kitchen Cabinets & Appliances"
                                },
                                {
                                    "product_id": "P000001315",
                                    "product_name_eng": "Renlig Microwave Oven",
                                    "category_name": "Home Electronics"
                                },
                                {
                                    "product_id": "P000000877",
                                    "product_name_eng": "MATALAG Microwave Combi Oven",
                                    "category_name": "Kitchen Cabinets & Appliances"
                                },
                                {
                                    "product_id": "P000000877",
                                    "product_name_eng": "MATALAG Microwave Combi Oven",
                                    "category_name": "Home Electronics"
                                },
                                {
                                    "product_id": "P000000876",
                                    "product_name_eng": "TILLREDA Microwave Combi Oven",
                                    "category_name": "Kitchen Cabinets & Appliances"
                                },
                                {
                                    "product_id": "P000000876",
                                    "product_name_eng": "TILLREDA Microwave Combi Oven",
                                    "category_name": "Home Electronics"
                                },
                                {
                                    "product_id": "P000000875",
                                    "product_name_eng": "VARMD Microwave Combi Oven",
                                    "category_name": "Kitchen Cabinets & Appliances"
                                },
                                {
                                    "product_id": "P000000875",
                                    "product_name_eng": "VARMD Microwave Combi Oven",
                                    "category_name": "Home Electronics"
                                },
                                {
                                    "product_id": "P000000874",
                                    "product_name_eng": "KULINARISK Microwave Combi Oven",
                                    "category_name": "Kitchen Cabinets & Appliances"
                                },
                                {
                                    "product_id": "P000000874",
                                    "product_name_eng": "KULINARISK Microwave Combi Oven",
                                    "category_name": "Home Electronics"
                                },
                                {
                                    "product_id": "P000000873",
                                    "product_name_eng": "LAGAN Microwave Combi Oven",
                                    "category_name": "Kitchen Cabinets & Appliances"
                                },
                                {
                                    "product_id": "P000000873",
                                    "product_name_eng": "LAGAN Microwave Combi Oven",
                                    "category_name": "Home Electronics"
                                },
                                {
                                    "product_id": "P000000907",
                                    "product_name_eng": "Dieffenbachia Floor Plant",
                                    "category_name": "Outdoor products"
                                },
                                {
                                    "product_id": "P000000906",
                                    "product_name_eng": "Philodendron Floor Plant",
                                    "category_name": "Outdoor products"
                                },
                                {
                                    "product_id": "P000000905",
                                    "product_name_eng": "Sansevieria Floor Plant",
                                    "category_name": "Outdoor products"
                                },
                                {
                                    "product_id": "P000000904",
                                    "product_name_eng": "Ficus Floor Plant",
                                    "category_name": "Outdoor products"
                                },
                                {
                                    "product_id": "P000000903",
                                    "product_name_eng": "Monstera Floor Plant",
                                    "category_name": "Outdoor products"
                                },
                                {
                                    "product_id": "P000000817",
                                    "product_name_eng": "Malm Office Desk",
                                    "category_name": "Furniture"
                                },
                                {
                                    "product_id": "P000000816",
                                    "product_name_eng": "Idasen Office Desk",
                                    "category_name": "Furniture"
                                },
                                {
                                    "product_id": "P000000815",
                                    "product_name_eng": "Bekant Office Desk",
                                    "category_name": "Furniture"
                                },
                                {
                                    "product_id": "P000000814",
                                    "product_name_eng": "Micke Office Desk",
                                    "category_name": "Furniture"
                                },
                                {
                                    "product_id": "P000000813",
                                    "product_name_eng": "Linnmon/Adils Office Desk",
                                    "category_name": "Furniture"
                                },
                                {
                                    "product_id": "P000000686",
                                    "product_name_eng": "KALVIA Wall Panel",
                                    "category_name": "Home Improvement"
                                },
                                {
                                    "product_id": "P000000685",
                                    "product_name_eng": "BODBYN Wall Panel",
                                    "category_name": "Home Improvement"
                                },
                                {
                                    "product_id": "P000000684",
                                    "product_name_eng": "KALVIA Wall Panel",
                                    "category_name": "Home Improvement"
                                },
                                {
                                    "product_id": "P000000683",
                                    "product_name_eng": "BODBYN Wall Panel",
                                    "category_name": "Home Improvement"
                                },
                                {
                                    "product_id": "P000000682",
                                    "product_name_eng": "FORBATTRA Wall Panel",
                                    "category_name": "Home Improvement"
                                },
                                {
                                    "product_id": "P000000681",
                                    "product_name_eng": "EKBACKEN Wall Panel",
                                    "category_name": "Home Improvement"
                                },
                                {
                                    "product_id": "P000000680",
                                    "product_name_eng": "LERHYTTAN Wall Panel",
                                    "category_name": "Home Improvement"
                                },
                                {
                                    "product_id": "P000000679",
                                    "product_name_eng": "TINGSRYD Wall Panel",
                                    "category_name": "Home Improvement"
                                },
                                {
                                    "product_id": "P000000678",
                                    "product_name_eng": "HITTARP Wall Panel",
                                    "category_name": "Home Improvement"
                                },
                                {
                                    "product_id": "P000000677",
                                    "product_name_eng": "VEDDINGE Wall Panel",
                                    "category_name": "Home Improvement"
                                },
                                {
                                    "product_id": "P000001010",
                                    "product_name_eng": "Sektion Kitchen Unit",
                                    "category_name": "Kitchen Cabinets & Appliances"
                                },
                                {
                                    "product_id": "P000001009",
                                    "product_name_eng": "Akurum Kitchen Unit",
                                    "category_name": "Kitchen Cabinets & Appliances"
                                },
                                {
                                    "product_id": "P000001008",
                                    "product_name_eng": "Forvara Kitchen Unit",
                                    "category_name": "Kitchen Cabinets & Appliances"
                                },
                                {
                                    "product_id": "P000001007",
                                    "product_name_eng": "Kitchen Units & Sets",
                                    "category_name": "Kitchen Cabinets & Appliances"
                                },
                                {
                                    "product_id": "P000001006",
                                    "product_name_eng": "Faktum Kitchen Unit",
                                    "category_name": "Kitchen Cabinets & Appliances"
                                },
                                {
                                    "product_id": "P000000100",
                                    "product_name_eng": "Heavy-Duty Moving Blanket",
                                    "category_name": "Storage & organisation"
                                },
                                {
                                    "product_id": "P000000099",
                                    "product_name_eng": "Packing Paper Dispenser",
                                    "category_name": "Storage & organisation"
                                },
                                {
                                    "product_id": "P000000098",
                                    "product_name_eng": "Moving Box Cutter",
                                    "category_name": "Storage & organisation"
                                },
                                {
                                    "product_id": "P000000097",
                                    "product_name_eng": "Bubble Wrap Pouches",
                                    "category_name": "Storage & organisation"
                                },
                                {
                                    "product_id": "P000000096",
                                    "product_name_eng": "Packing Foam Rolls",
                                    "category_name": "Storage & organisation"
                                },
                                {
                                    "product_id": "P000000095",
                                    "product_name_eng": "Furniture Sliders Set",
                                    "category_name": "Storage & organisation"
                                },
                                {
                                    "product_id": "P000000094",
                                    "product_name_eng": "Mattress Covers",
                                    "category_name": "Storage & organisation"
                                },
                                {
                                    "product_id": "P000000093",
                                    "product_name_eng": "Glass Packing Sheets",
                                    "category_name": "Storage & organisation"
                                },
                                {
                                    "product_id": "P000000092",
                                    "product_name_eng": "Moving Box Assortment",
                                    "category_name": "Storage & organisation"
                                },
                                {
                                    "product_id": "P000000091",
                                    "product_name_eng": "Wardrobe Box Hangers",
                                    "category_name": "Storage & organisation"
                                },
                                {
                                    "product_id": "P000000090",
                                    "product_name_eng": "Furniture Straps",
                                    "category_name": "Storage & organisation"
                                },
                                {
                                    "product_id": "P000000089",
                                    "product_name_eng": "Packing Peanuts Bag",
                                    "category_name": "Storage & organisation"
                                },
                                {
                                    "product_id": "P000000088",
                                    "product_name_eng": "Moving Box Handles",
                                    "category_name": "Storage & organisation"
                                },
                                {
                                    "product_id": "P000000087",
                                    "product_name_eng": "Fragile Stickers",
                                    "category_name": "Storage & organisation"
                                },
                                {
                                    "product_id": "P000000086",
                                    "product_name_eng": "Bubble Wrap Sheets",
                                    "category_name": "Storage & organisation"
                                },
                                {
                                    "product_id": "P000000085",
                                    "product_name_eng": "Packing Tape Dispenser Kit",
                                    "category_name": "Storage & organisation"
                                },
                                {
                                    "product_id": "P000000084",
                                    "product_name_eng": "Moving Tote Bags",
                                    "category_name": "Storage & organisation"
                                },
                                {
                                    "product_id": "P000000083",
                                    "product_name_eng": "Furniture Pads",
                                    "category_name": "Storage & organisation"
                                },
                                {
                                    "product_id": "P000000082",
                                    "product_name_eng": "Mattress Bag King",
                                    "category_name": "Storage & organisation"
                                },
                                {
                                    "product_id": "P000000081",
                                    "product_name_eng": "Packing Paper Pads",
                                    "category_name": "Storage & organisation"
                                },
                                {
                                    "product_id": "P000000080",
                                    "product_name_eng": "Packing Tape Refills",
                                    "category_name": "Storage & organisation"
                                },
                                {
                                    "product_id": "P000000079",
                                    "product_name_eng": "Heavy-Duty Tape Gun",
                                    "category_name": "Storage & organisation"
                                },
                                {
                                    "product_id": "P000000078",
                                    "product_name_eng": "Moving Box Labels",
                                    "category_name": "Storage & organisation"
                                },
                                {
                                    "product_id": "P000000077",
                                    "product_name_eng": "Packing Foam Sheets",
                                    "category_name": "Storage & organisation"
                                },
                                {
                                    "product_id": "P000000076",
                                    "product_name_eng": "Appliance Dolly",
                                    "category_name": "Storage & organisation"
                                },
                                {
                                    "product_id": "P000000075",
                                    "product_name_eng": "Mattress Bag Queen",
                                    "category_name": "Storage & organisation"
                                },
                                {
                                    "product_id": "P000000074",
                                    "product_name_eng": "Dish Packing Kit",
                                    "category_name": "Storage & organisation"
                                },
                                {
                                    "product_id": "P000000073",
                                    "product_name_eng": "Moving Gloves",
                                    "category_name": "Storage & organisation"
                                },
                                {
                                    "product_id": "P000000072",
                                    "product_name_eng": "Furniture Covers",
                                    "category_name": "Storage & organisation"
                                },
                                {
                                    "product_id": "P000000071",
                                    "product_name_eng": "Packing Paper Roll",
                                    "category_name": "Storage & organisation"
                                },
                                {
                                    "product_id": "P000000070",
                                    "product_name_eng": "Utility Knife",
                                    "category_name": "Storage & organisation"
                                },
                                {
                                    "product_id": "P000000069",
                                    "product_name_eng": "Packing Sealing Tape",
                                    "category_name": "Storage & organisation"
                                },
                                {
                                    "product_id": "P000000068",
                                    "product_name_eng": "Moving Labels",
                                    "category_name": "Storage & organisation"
                                },
                                {
                                    "product_id": "P000000067",
                                    "product_name_eng": "Packing Foam Blocks",
                                    "category_name": "Storage & organisation"
                                },
                                {
                                    "product_id": "P000000066",
                                    "product_name_eng": "Hand Truck",
                                    "category_name": "Storage & organisation"
                                },
                                {
                                    "product_id": "P000000065",
                                    "product_name_eng": "Mattress Bag Twin",
                                    "category_name": "Storage & organisation"
                                },
                                {
                                    "product_id": "P000000064",
                                    "product_name_eng": "Glass Packing Kit",
                                    "category_name": "Storage & organisation"
                                },
                                {
                                    "product_id": "P000000063",
                                    "product_name_eng": "Stretch Wrap Roll",
                                    "category_name": "Storage & organisation"
                                },
                                {
                                    "product_id": "P000000062",
                                    "product_name_eng": "Moving Straps",
                                    "category_name": "Storage & organisation"
                                },
                                {
                                    "product_id": "P000000061",
                                    "product_name_eng": "Packing Peanuts",
                                    "category_name": "Storage & organisation"
                                },
                                {
                                    "product_id": "P000000060",
                                    "product_name_eng": "Furniture Sliders",
                                    "category_name": "Storage & organisation"
                                },
                                {
                                    "product_id": "P000000059",
                                    "product_name_eng": "Wardrobe Box Kit",
                                    "category_name": "Storage & organisation"
                                },
                                {
                                    "product_id": "P000000058",
                                    "product_name_eng": "Box Cutter Knife",
                                    "category_name": "Storage & organisation"
                                },
                                {
                                    "product_id": "P000000057",
                                    "product_name_eng": "Moving Blankets",
                                    "category_name": "Storage & organisation"
                                },
                                {
                                    "product_id": "P000000056",
                                    "product_name_eng": "Packing Paper Sheets",
                                    "category_name": "Storage & organisation"
                                },
                                {
                                    "product_id": "P000000055",
                                    "product_name_eng": "Furniture Dolly",
                                    "category_name": "Storage & organisation"
                                },
                                {
                                    "product_id": "P000000054",
                                    "product_name_eng": "Cardboard Box Pack",
                                    "category_name": "Storage & organisation"
                                },
                                {
                                    "product_id": "P000000053",
                                    "product_name_eng": "Bubble Wrap Roll",
                                    "category_name": "Storage & organisation"
                                },
                                {
                                    "product_id": "P000000052",
                                    "product_name_eng": "Packing Tape Dispenser",
                                    "category_name": "Storage & organisation"
                                },
                                {
                                    "product_id": "P000000051",
                                    "product_name_eng": "MovingBox Set",
                                    "category_name": "Storage & organisation"
                                },
                                {
                                    "product_id": "P000001796",
                                    "product_name_eng": "Tungol Outdoor Pillow",
                                    "category_name": "Textiles"
                                },
                                {
                                    "product_id": "P000001795",
                                    "product_name_eng": "Seglora Outdoor Pillow",
                                    "category_name": "Textiles"
                                },
                                {
                                    "product_id": "P000001794",
                                    "product_name_eng": "Skym Outdoor Pillow",
                                    "category_name": "Textiles"
                                },
                                {
                                    "product_id": "P000001793",
                                    "product_name_eng": "Sirka Outdoor Pillow",
                                    "category_name": "Textiles"
                                },
                                {
                                    "product_id": "P000001792",
                                    "product_name_eng": "Voxo Outdoor Pillow",
                                    "category_name": "Textiles"
                                },
                                {
                                    "product_id": "P000001419",
                                    "product_name_eng": "Friluft Knife",
                                    "category_name": "Kitchenware & Tableware"
                                },
                                {
                                    "product_id": "P000001418",
                                    "product_name_eng": "Knivar Knife",
                                    "category_name": "Kitchenware & Tableware"
                                },
                                {
                                    "product_id": "P000001417",
                                    "product_name_eng": "Hogsta Knife",
                                    "category_name": "Kitchenware & Tableware"
                                },
                                {
                                    "product_id": "P000001416",
                                    "product_name_eng": "Slitbar Knife",
                                    "category_name": "Kitchenware & Tableware"
                                },
                                {
                                    "product_id": "P000001415",
                                    "product_name_eng": "Tranchera Knife",
                                    "category_name": "Kitchenware & Tableware"
                                },
                                {
                                    "product_id": "P000001414",
                                    "product_name_eng": "Vinn Chopping Board",
                                    "category_name": "Kitchenware & Tableware"
                                },
                                {
                                    "product_id": "P000001413",
                                    "product_name_eng": "Krydda Chopping Board",
                                    "category_name": "Kitchenware & Tableware"
                                },
                                {
                                    "product_id": "P000001412",
                                    "product_name_eng": "Rundlig Chopping Board",
                                    "category_name": "Kitchenware & Tableware"
                                },
                                {
                                    "product_id": "P000001411",
                                    "product_name_eng": "Fargrik Chopping Board",
                                    "category_name": "Kitchenware & Tableware"
                                },
                                {
                                    "product_id": "P000001410",
                                    "product_name_eng": "Ladda Chopping Board",
                                    "category_name": "Kitchenware & Tableware"
                                },
                                {
                                    "product_id": "P000001144",
                                    "product_name_eng": "Mackapar Clothes Organizer",
                                    "category_name": "Storage & organisation"
                                },
                                {
                                    "product_id": "P000001143",
                                    "product_name_eng": "Komplement Clothes Rail",
                                    "category_name": "Storage & organisation"
                                },
                                {
                                    "product_id": "P000001142",
                                    "product_name_eng": "Frigga Clothes Rail",
                                    "category_name": "Storage & organisation"
                                },
                                {
                                    "product_id": "P000000147",
                                    "product_name_eng": "RIGGA Clothes Rack",
                                    "category_name": "Storage & organisation"
                                },
                                {
                                    "product_id": "P000001141",
                                    "product_name_eng": "Portis Clothes Rack",
                                    "category_name": "Storage & organisation"
                                },
                                {
                                    "product_id": "P000001164",
                                    "product_name_eng": "Mammut Children's Chest of Drawers",
                                    "category_name": "Storage & organisation"
                                },
                                {
                                    "product_id": "P000001163",
                                    "product_name_eng": "Busunge Children's Chest of Drawers",
                                    "category_name": "Storage & organisation"
                                },
                                {
                                    "product_id": "P000001162",
                                    "product_name_eng": "Gulliver Children's Chest of Drawers",
                                    "category_name": "Storage & organisation"
                                },
                                {
                                    "product_id": "P000001161",
                                    "product_name_eng": "Stuva Children's Chest of Drawers",
                                    "category_name": "Storage & organisation"
                                },
                                {
                                    "product_id": "P000001160",
                                    "product_name_eng": "Hemnes Children's Chest of Drawers",
                                    "category_name": "Storage & organisation"
                                },
                                {
                                    "product_id": "P000001040",
                                    "product_name_eng": "Storjorm Bathroom System",
                                    "category_name": "Bathroom Products"
                                },
                                {
                                    "product_id": "P000001039",
                                    "product_name_eng": "Silveran Bathroom System",
                                    "category_name": "Bathroom Products"
                                },
                                {
                                    "product_id": "P000001038",
                                    "product_name_eng": "Lillangen Bathroom System",
                                    "category_name": "Bathroom Products"
                                },
                                {
                                    "product_id": "P000001037",
                                    "product_name_eng": "Hemnes Bathroom System",
                                    "category_name": "Bathroom Products"
                                },
                                {
                                    "product_id": "P000001036",
                                    "product_name_eng": "Godmorgon Bathroom System",
                                    "category_name": "Bathroom Products"
                                },
                                {
                                    "product_id": "P000000050",
                                    "product_name_eng": "APPLARO Gateleg Table",
                                    "category_name": "Storage & organisation"
                                },
                                {
                                    "product_id": "P000000050",
                                    "product_name_eng": "APPLARO Gateleg Table",
                                    "category_name": "Outdoor products"
                                },
                                {
                                    "product_id": "P000000049",
                                    "product_name_eng": "SOLLERON Storage Table with Storage",
                                    "category_name": "Storage & organisation"
                                },
                                {
                                    "product_id": "P000000049",
                                    "product_name_eng": "SOLLERON Storage Table with Storage",
                                    "category_name": "Outdoor products"
                                },
                                {
                                    "product_id": "P000000048",
                                    "product_name_eng": "MUSKO Table Stool",
                                    "category_name": "Storage & organisation"
                                },
                                {
                                    "product_id": "P000000048",
                                    "product_name_eng": "MUSKO Table Stool",
                                    "category_name": "Outdoor products"
                                },
                                {
                                    "product_id": "P000000047",
                                    "product_name_eng": "FJALLBO Shelf Unit",
                                    "category_name": "Storage & organisation"
                                },
                                {
                                    "product_id": "P000000047",
                                    "product_name_eng": "FJALLBO Shelf Unit",
                                    "category_name": "Outdoor products"
                                },
                                {
                                    "product_id": "P000000046",
                                    "product_name_eng": "SOLLERON Wall Panel",
                                    "category_name": "Storage & organisation"
                                },
                                {
                                    "product_id": "P000000046",
                                    "product_name_eng": "SOLLERON Wall Panel",
                                    "category_name": "Outdoor products"
                                },
                                {
                                    "product_id": "P000000045",
                                    "product_name_eng": "FALSTER Bench",
                                    "category_name": "Storage & organisation"
                                },
                                {
                                    "product_id": "P000000045",
                                    "product_name_eng": "FALSTER Bench",
                                    "category_name": "Outdoor products"
                                },
                                {
                                    "product_id": "P000000044",
                                    "product_name_eng": "BURHANI Shelving Unit",
                                    "category_name": "Storage & organisation"
                                },
                                {
                                    "product_id": "P000000044",
                                    "product_name_eng": "BURHANI Shelving Unit",
                                    "category_name": "Outdoor products"
                                },
                                {
                                    "product_id": "P000000043",
                                    "product_name_eng": "APPLARO Storage Table",
                                    "category_name": "Storage & organisation"
                                },
                                {
                                    "product_id": "P000000043",
                                    "product_name_eng": "APPLARO Storage Table",
                                    "category_name": "Outdoor products"
                                },
                                {
                                    "product_id": "P000000042",
                                    "product_name_eng": "KOLBJORN Cabinet",
                                    "category_name": "Storage & organisation"
                                },
                                {
                                    "product_id": "P000000042",
                                    "product_name_eng": "KOLBJORN Cabinet",
                                    "category_name": "Outdoor products"
                                },
                                {
                                    "product_id": "P000000041",
                                    "product_name_eng": "HYLLIS Shelving Unit",
                                    "category_name": "Storage & organisation"
                                },
                                {
                                    "product_id": "P000000041",
                                    "product_name_eng": "HYLLIS Shelving Unit",
                                    "category_name": "Outdoor products"
                                },
                                {
                                    "product_id": "P000000040",
                                    "product_name_eng": "SOLLERON Storage Bench",
                                    "category_name": "Storage & organisation"
                                },
                                {
                                    "product_id": "P000000040",
                                    "product_name_eng": "SOLLERON Storage Bench",
                                    "category_name": "Outdoor products"
                                },
                                {
                                    "product_id": "P000000039",
                                    "product_name_eng": "APPLARO Storage Combination",
                                    "category_name": "Storage & organisation"
                                },
                                {
                                    "product_id": "P000000039",
                                    "product_name_eng": "APPLARO Storage Combination",
                                    "category_name": "Outdoor products"
                                },
                                {
                                    "product_id": "P000000038",
                                    "product_name_eng": "FJALLBO Bench",
                                    "category_name": "Storage & organisation"
                                },
                                {
                                    "product_id": "P000000038",
                                    "product_name_eng": "FJALLBO Bench",
                                    "category_name": "Outdoor products"
                                },
                                {
                                    "product_id": "P000000037",
                                    "product_name_eng": "MUSKO Bench",
                                    "category_name": "Storage & organisation"
                                },
                                {
                                    "product_id": "P000000037",
                                    "product_name_eng": "MUSKO Bench",
                                    "category_name": "Outdoor products"
                                },
                                {
                                    "product_id": "P000000036",
                                    "product_name_eng": "BURHANI Wall Shelf",
                                    "category_name": "Storage & organisation"
                                },
                                {
                                    "product_id": "P000000036",
                                    "product_name_eng": "BURHANI Wall Shelf",
                                    "category_name": "Outdoor products"
                                },
                                {
                                    "product_id": "P000000035",
                                    "product_name_eng": "SOLLERON Shelf Unit",
                                    "category_name": "Storage & organisation"
                                },
                                {
                                    "product_id": "P000000035",
                                    "product_name_eng": "SOLLERON Shelf Unit",
                                    "category_name": "Outdoor products"
                                },
                                {
                                    "product_id": "P000000034",
                                    "product_name_eng": "KOLBJORN Cabinet with Doors",
                                    "category_name": "Storage & organisation"
                                },
                                {
                                    "product_id": "P000000034",
                                    "product_name_eng": "KOLBJORN Cabinet with Doors",
                                    "category_name": "Outdoor products"
                                },
                                {
                                    "product_id": "P000000033",
                                    "product_name_eng": "FALSTER Storage Table Stool",
                                    "category_name": "Storage & organisation"
                                },
                                {
                                    "product_id": "P000000033",
                                    "product_name_eng": "FALSTER Storage Table Stool",
                                    "category_name": "Outdoor products"
                                },
                                {
                                    "product_id": "P000000032",
                                    "product_name_eng": "APPLARO Storage Bench Outdoor",
                                    "category_name": "Storage & organisation"
                                },
                                {
                                    "product_id": "P000000032",
                                    "product_name_eng": "APPLARO Storage Bench Outdoor",
                                    "category_name": "Outdoor products"
                                },
                                {
                                    "product_id": "P000000031",
                                    "product_name_eng": "HYLLIS Shelving Unit",
                                    "category_name": "Storage & organisation"
                                },
                                {
                                    "product_id": "P000000031",
                                    "product_name_eng": "HYLLIS Shelving Unit",
                                    "category_name": "Outdoor products"
                                },
                                {
                                    "product_id": "P000000030",
                                    "product_name_eng": "SOLLERON Storage Table Outdoor",
                                    "category_name": "Storage & organisation"
                                },
                                {
                                    "product_id": "P000000030",
                                    "product_name_eng": "SOLLERON Storage Table Outdoor",
                                    "category_name": "Outdoor products"
                                },
                                {
                                    "product_id": "P000000029",
                                    "product_name_eng": "KOLBJORN Storage Combination",
                                    "category_name": "Storage & organisation"
                                },
                                {
                                    "product_id": "P000000029",
                                    "product_name_eng": "KOLBJORN Storage Combination",
                                    "category_name": "Outdoor products"
                                },
                                {
                                    "product_id": "P000000028",
                                    "product_name_eng": "APPLARO Wall Panel",
                                    "category_name": "Storage & organisation"
                                },
                                {
                                    "product_id": "P000000028",
                                    "product_name_eng": "APPLARO Wall Panel",
                                    "category_name": "Outdoor products"
                                },
                                {
                                    "product_id": "P000000027",
                                    "product_name_eng": "BURHANI Wall Panel",
                                    "category_name": "Storage & organisation"
                                },
                                {
                                    "product_id": "P000000027",
                                    "product_name_eng": "BURHANI Wall Panel",
                                    "category_name": "Outdoor products"
                                },
                                {
                                    "product_id": "P000000026",
                                    "product_name_eng": "FALSTER Bench with Storage Bag",
                                    "category_name": "Storage & organisation"
                                },
                                {
                                    "product_id": "P000000026",
                                    "product_name_eng": "FALSTER Bench with Storage Bag",
                                    "category_name": "Outdoor products"
                                },
                                {
                                    "product_id": "P000000025",
                                    "product_name_eng": "MUSKO Shelving Unit",
                                    "category_name": "Storage & organisation"
                                },
                                {
                                    "product_id": "P000000025",
                                    "product_name_eng": "MUSKO Shelving Unit",
                                    "category_name": "Outdoor products"
                                },
                                {
                                    "product_id": "P000000024",
                                    "product_name_eng": "APPLARO Storage Bench Outdoor",
                                    "category_name": "Storage & organisation"
                                },
                                {
                                    "product_id": "P000000024",
                                    "product_name_eng": "APPLARO Storage Bench Outdoor",
                                    "category_name": "Outdoor products"
                                },
                                {
                                    "product_id": "P000000023",
                                    "product_name_eng": "FJALLBO Storage Bench",
                                    "category_name": "Storage & organisation"
                                },
                                {
                                    "product_id": "P000000023",
                                    "product_name_eng": "FJALLBO Storage Bench",
                                    "category_name": "Outdoor products"
                                },
                                {
                                    "product_id": "P000000022",
                                    "product_name_eng": "SOLLERON Storage Combination",
                                    "category_name": "Storage & organisation"
                                },
                                {
                                    "product_id": "P000000022",
                                    "product_name_eng": "SOLLERON Storage Combination",
                                    "category_name": "Outdoor products"
                                },
                                {
                                    "product_id": "P000000021",
                                    "product_name_eng": "KOLBJORN Cabinet with Drawer",
                                    "category_name": "Storage & organisation"
                                },
                                {
                                    "product_id": "P000000021",
                                    "product_name_eng": "KOLBJORN Cabinet with Drawer",
                                    "category_name": "Outdoor products"
                                },
                                {
                                    "product_id": "P000000020",
                                    "product_name_eng": "SOLLERON Bench with Storage",
                                    "category_name": "Storage & organisation"
                                },
                                {
                                    "product_id": "P000000020",
                                    "product_name_eng": "SOLLERON Bench with Storage",
                                    "category_name": "Outdoor products"
                                },
                                {
                                    "product_id": "P000000019",
                                    "product_name_eng": "BURHANI Shelving Unit",
                                    "category_name": "Storage & organisation"
                                },
                                {
                                    "product_id": "P000000019",
                                    "product_name_eng": "BURHANI Shelving Unit",
                                    "category_name": "Outdoor products"
                                },
                                {
                                    "product_id": "P000000018",
                                    "product_name_eng": "HYLLIS Shelf Unit",
                                    "category_name": "Storage & organisation"
                                },
                                {
                                    "product_id": "P000000018",
                                    "product_name_eng": "HYLLIS Shelf Unit",
                                    "category_name": "Outdoor products"
                                },
                                {
                                    "product_id": "P000000017",
                                    "product_name_eng": "APPLARO Bench with Wall Panel",
                                    "category_name": "Storage & organisation"
                                },
                                {
                                    "product_id": "P000000017",
                                    "product_name_eng": "APPLARO Bench with Wall Panel",
                                    "category_name": "Outdoor products"
                                },
                                {
                                    "product_id": "P000000016",
                                    "product_name_eng": "FJALLBO Storage Combination",
                                    "category_name": "Storage & organisation"
                                },
                                {
                                    "product_id": "P000000016",
                                    "product_name_eng": "FJALLBO Storage Combination",
                                    "category_name": "Outdoor products"
                                },
                                {
                                    "product_id": "P000000015",
                                    "product_name_eng": "SOLLERON Storage Table with Storage",
                                    "category_name": "Storage & organisation"
                                },
                                {
                                    "product_id": "P000000015",
                                    "product_name_eng": "SOLLERON Storage Table with Storage",
                                    "category_name": "Outdoor products"
                                },
                                {
                                    "product_id": "P000000014",
                                    "product_name_eng": "APPLARO Gateleg Table",
                                    "category_name": "Storage & organisation"
                                },
                                {
                                    "product_id": "P000000014",
                                    "product_name_eng": "APPLARO Gateleg Table",
                                    "category_name": "Outdoor products"
                                },
                                {
                                    "product_id": "P000000013",
                                    "product_name_eng": "MUSKO Table Stool",
                                    "category_name": "Storage & organisation"
                                },
                                {
                                    "product_id": "P000000013",
                                    "product_name_eng": "MUSKO Table Stool",
                                    "category_name": "Outdoor products"
                                },
                                {
                                    "product_id": "P000000012",
                                    "product_name_eng": "KOLBJORN Shelf Unit",
                                    "category_name": "Storage & organisation"
                                },
                                {
                                    "product_id": "P000000012",
                                    "product_name_eng": "KOLBJORN Shelf Unit",
                                    "category_name": "Outdoor products"
                                },
                                {
                                    "product_id": "P000000011",
                                    "product_name_eng": "APPLARO Storage Table",
                                    "category_name": "Storage & organisation"
                                },
                                {
                                    "product_id": "P000000011",
                                    "product_name_eng": "APPLARO Storage Table",
                                    "category_name": "Outdoor products"
                                },
                                {
                                    "product_id": "P000000010",
                                    "product_name_eng": "SOLLERON Wall Panel",
                                    "category_name": "Storage & organisation"
                                },
                                {
                                    "product_id": "P000000010",
                                    "product_name_eng": "SOLLERON Wall Panel",
                                    "category_name": "Outdoor products"
                                },
                                {
                                    "product_id": "P000000009",
                                    "product_name_eng": "BURHANI Wall Shelf",
                                    "category_name": "Storage & organisation"
                                },
                                {
                                    "product_id": "P000000009",
                                    "product_name_eng": "BURHANI Wall Shelf",
                                    "category_name": "Outdoor products"
                                },
                                {
                                    "product_id": "P000000008",
                                    "product_name_eng": "FALSTER Bench",
                                    "category_name": "Storage & organisation"
                                },
                                {
                                    "product_id": "P000000008",
                                    "product_name_eng": "FALSTER Bench",
                                    "category_name": "Outdoor products"
                                },
                                {
                                    "product_id": "P000000007",
                                    "product_name_eng": "HYLLIS Shelving Unit",
                                    "category_name": "Storage & organisation"
                                },
                                {
                                    "product_id": "P000000007",
                                    "product_name_eng": "HYLLIS Shelving Unit",
                                    "category_name": "Outdoor products"
                                },
                                {
                                    "product_id": "P000000006",
                                    "product_name_eng": "BROR Shelving Unit",
                                    "category_name": "Storage & organisation"
                                },
                                {
                                    "product_id": "P000000006",
                                    "product_name_eng": "BROR Shelving Unit",
                                    "category_name": "Outdoor products"
                                },
                                {
                                    "product_id": "P000000005",
                                    "product_name_eng": "FJALLBO Shelf Unit",
                                    "category_name": "Storage & organisation"
                                },
                                {
                                    "product_id": "P000000005",
                                    "product_name_eng": "FJALLBO Shelf Unit",
                                    "category_name": "Outdoor products"
                                },
                                {
                                    "product_id": "P000000004",
                                    "product_name_eng": "SOLLERON Storage Bench",
                                    "category_name": "Storage & organisation"
                                },
                                {
                                    "product_id": "P000000004",
                                    "product_name_eng": "SOLLERON Storage Bench",
                                    "category_name": "Outdoor products"
                                },
                                {
                                    "product_id": "P000000003",
                                    "product_name_eng": "KOLBJORN Cabinet",
                                    "category_name": "Storage & organisation"
                                },
                                {
                                    "product_id": "P000000003",
                                    "product_name_eng": "KOLBJORN Cabinet",
                                    "category_name": "Outdoor products"
                                },
                                {
                                    "product_id": "P000000002",
                                    "product_name_eng": "MUSKO Storage Box",
                                    "category_name": "Storage & organisation"
                                },
                                {
                                    "product_id": "P000000002",
                                    "product_name_eng": "MUSKO Storage Box",
                                    "category_name": "Outdoor products"
                                },
                                {
                                    "product_id": "P000000001",
                                    "product_name_eng": "APPLARO Storage Bench",
                                    "category_name": "Storage & organisation"
                                },
                                {
                                    "product_id": "P000000001",
                                    "product_name_eng": "APPLARO Storage Bench",
                                    "category_name": "Outdoor products"
                                },
                                {
                                    "product_id": "P000000610",
                                    "product_name_eng": "RIGGA Drying Rack",
                                    "category_name": "Laundry & cleaning"
                                },
                                {
                                    "product_id": "P000000609",
                                    "product_name_eng": "JALL Drying Rack",
                                    "category_name": "Laundry & cleaning"
                                },
                                {
                                    "product_id": "P000000608",
                                    "product_name_eng": "MULIG Drying Rack",
                                    "category_name": "Laundry & cleaning"
                                },
                                {
                                    "product_id": "P000000607",
                                    "product_name_eng": "FROST Drying Rack",
                                    "category_name": "Laundry & cleaning"
                                },
                                {
                                    "product_id": "P000000606",
                                    "product_name_eng": "RIGGA Drying Rack",
                                    "category_name": "Laundry & cleaning"
                                },
                                {
                                    "product_id": "P000000605",
                                    "product_name_eng": "MULIG Drying Rack",
                                    "category_name": "Laundry & cleaning"
                                },
                                {
                                    "product_id": "P000000604",
                                    "product_name_eng": "JALL Drying Rack",
                                    "category_name": "Laundry & cleaning"
                                },
                                {
                                    "product_id": "P000000603",
                                    "product_name_eng": "FJALLBO Drying Rack",
                                    "category_name": "Laundry & cleaning"
                                },
                                {
                                    "product_id": "P000000602",
                                    "product_name_eng": "JALL Drying Rack",
                                    "category_name": "Laundry & cleaning"
                                },
                                {
                                    "product_id": "P000000601",
                                    "product_name_eng": "FROST Drying Rack",
                                    "category_name": "Laundry & cleaning"
                                },
                                {
                                    "product_id": "P000001626",
                                    "product_name_eng": "Siljan Under Sink Cabinet",
                                    "category_name": "Bathroom Products"
                                },
                                {
                                    "product_id": "P000001625",
                                    "product_name_eng": "Braviken Under Sink Cabinet",
                                    "category_name": "Bathroom Products"
                                },
                                {
                                    "product_id": "P000001624",
                                    "product_name_eng": "Lillangen Under Sink Cabinet",
                                    "category_name": "Bathroom Products"
                                },
                                {
                                    "product_id": "P000001623",
                                    "product_name_eng": "Godmorgon Under Sink Cabinet",
                                    "category_name": "Bathroom Products"
                                },
                                {
                                    "product_id": "P000001622",
                                    "product_name_eng": "Hemnes Under Sink Cabinet",
                                    "category_name": "Bathroom Products"
                                },
                                {
                                    "product_id": "P000000429",
                                    "product_name_eng": "KOPARDAL Headboard",
                                    "category_name": "Beds & Mattresses"
                                },
                                {
                                    "product_id": "P000000428",
                                    "product_name_eng": "BRYGGJA Headboard",
                                    "category_name": "Beds & Mattresses"
                                },
                                {
                                    "product_id": "P000000427",
                                    "product_name_eng": "BJURSTA Headboard",
                                    "category_name": "Beds & Mattresses"
                                },
                                {
                                    "product_id": "P000000426",
                                    "product_name_eng": "TARVA Headboard",
                                    "category_name": "Beds & Mattresses"
                                },
                                {
                                    "product_id": "P000000425",
                                    "product_name_eng": "NYHAMN Headboard",
                                    "category_name": "Beds & Mattresses"
                                },
                                {
                                    "product_id": "P000000424",
                                    "product_name_eng": "NEIDEN Headboard",
                                    "category_name": "Beds & Mattresses"
                                },
                                {
                                    "product_id": "P000000423",
                                    "product_name_eng": "OPPLAND Headboard",
                                    "category_name": "Beds & Mattresses"
                                },
                                {
                                    "product_id": "P000000422",
                                    "product_name_eng": "SONGESAND Headboard",
                                    "category_name": "Beds & Mattresses"
                                },
                                {
                                    "product_id": "P000000421",
                                    "product_name_eng": "BRIMNES Headboard",
                                    "category_name": "Beds & Mattresses"
                                },
                                {
                                    "product_id": "P000000420",
                                    "product_name_eng": "MALM Headboard",
                                    "category_name": "Beds & Mattresses"
                                },
                                {
                                    "product_id": "P000000439",
                                    "product_name_eng": "KOPARDAL Storage Box",
                                    "category_name": "Beds & Mattresses"
                                },
                                {
                                    "product_id": "P000000438",
                                    "product_name_eng": "BRYGGJA Storage Box",
                                    "category_name": "Beds & Mattresses"
                                },
                                {
                                    "product_id": "P000000437",
                                    "product_name_eng": "BJURSTA Storage Box",
                                    "category_name": "Beds & Mattresses"
                                },
                                {
                                    "product_id": "P000000436",
                                    "product_name_eng": "TARVA Storage Box",
                                    "category_name": "Beds & Mattresses"
                                },
                                {
                                    "product_id": "P000000435",
                                    "product_name_eng": "NYHAMN Storage Box",
                                    "category_name": "Beds & Mattresses"
                                },
                                {
                                    "product_id": "P000000434",
                                    "product_name_eng": "NEIDEN Storage Box",
                                    "category_name": "Beds & Mattresses"
                                },
                                {
                                    "product_id": "P000000433",
                                    "product_name_eng": "OPPLAND Storage Box",
                                    "category_name": "Beds & Mattresses"
                                },
                                {
                                    "product_id": "P000000432",
                                    "product_name_eng": "SONGESAND Storage Box",
                                    "category_name": "Beds & Mattresses"
                                },
                                {
                                    "product_id": "P000000431",
                                    "product_name_eng": "BRIMNES Storage Box",
                                    "category_name": "Beds & Mattresses"
                                },
                                {
                                    "product_id": "P000000430",
                                    "product_name_eng": "MALM Storage Box",
                                    "category_name": "Beds & Mattresses"
                                },
                                {
                                    "product_id": "P000001174",
                                    "product_name_eng": "Alex Gaming Desk",
                                    "category_name": "Furniture"
                                },
                                {
                                    "product_id": "P000001173",
                                    "product_name_eng": "Skarsta Gaming Desk",
                                    "category_name": "Furniture"
                                },
                                {
                                    "product_id": "P000001172",
                                    "product_name_eng": "Linnmon Gaming Desk",
                                    "category_name": "Furniture"
                                },
                                {
                                    "product_id": "P000001171",
                                    "product_name_eng": "Micke Gaming Desk",
                                    "category_name": "Furniture"
                                },
                                {
                                    "product_id": "P000001170",
                                    "product_name_eng": "Fredde Gaming Desk",
                                    "category_name": "Furniture"
                                },
                                {
                                    "product_id": "P000000852",
                                    "product_name_eng": "Tullsta Armchair",
                                    "category_name": "Furniture"
                                },
                                {
                                    "product_id": "P000000851",
                                    "product_name_eng": "Soderhamn Armchair",
                                    "category_name": "Furniture"
                                },
                                {
                                    "product_id": "P000000850",
                                    "product_name_eng": "Strandmon Armchair",
                                    "category_name": "Furniture"
                                },
                                {
                                    "product_id": "P000000849",
                                    "product_name_eng": "Poang Armchair",
                                    "category_name": "Furniture"
                                },
                                {
                                    "product_id": "P000000848",
                                    "product_name_eng": "Ektorp Armchair",
                                    "category_name": "Furniture"
                                },
                                {
                                    "product_id": "P000000897",
                                    "product_name_eng": "Kokig Saucepan",
                                    "category_name": "Kitchenware & Tableware"
                                },
                                {
                                    "product_id": "P000000896",
                                    "product_name_eng": "Stabil Saucepan",
                                    "category_name": "Kitchenware & Tableware"
                                },
                                {
                                    "product_id": "P000000895",
                                    "product_name_eng": "Kavalkad Saucepan",
                                    "category_name": "Kitchenware & Tableware"
                                },
                                {
                                    "product_id": "P000000894",
                                    "product_name_eng": "Mattlig Saucepan",
                                    "category_name": "Kitchenware & Tableware"
                                },
                                {
                                    "product_id": "P000000893",
                                    "product_name_eng": "Sensorisk Saucepan",
                                    "category_name": "Kitchenware & Tableware"
                                },
                                {
                                    "product_id": "P000001299",
                                    "product_name_eng": "Rationell Cutlery Tray",
                                    "category_name": "Kitchen Cabinets & Appliances"
                                },
                                {
                                    "product_id": "P000001298",
                                    "product_name_eng": "Stodja Cutlery Tray",
                                    "category_name": "Kitchen Cabinets & Appliances"
                                },
                                {
                                    "product_id": "P000001297",
                                    "product_name_eng": "Ordning Cutlery Tray",
                                    "category_name": "Kitchen Cabinets & Appliances"
                                },
                                {
                                    "product_id": "P000001296",
                                    "product_name_eng": "Variog Cutlery Tray",
                                    "category_name": "Kitchen Cabinets & Appliances"
                                },
                                {
                                    "product_id": "P000001295",
                                    "product_name_eng": "Varihack Cutlery Tray",
                                    "category_name": "Kitchen Cabinets & Appliances"
                                },
                                {
                                    "product_id": "P000001379",
                                    "product_name_eng": "Frappant Cooking Accessories",
                                    "category_name": "Kitchenware & Tableware"
                                },
                                {
                                    "product_id": "P000001378",
                                    "product_name_eng": "Sorglos Cooking Accessories",
                                    "category_name": "Kitchenware & Tableware"
                                },
                                {
                                    "product_id": "P000001377",
                                    "product_name_eng": "Idelisk Cooking Accessories",
                                    "category_name": "Kitchenware & Tableware"
                                },
                                {
                                    "product_id": "P000001376",
                                    "product_name_eng": "Glasig Cooking Accessories",
                                    "category_name": "Kitchenware & Tableware"
                                },
                                {
                                    "product_id": "P000001375",
                                    "product_name_eng": "Giltig Cooking Accessories",
                                    "category_name": "Kitchenware & Tableware"
                                },
                                {
                                    "product_id": "P000001497",
                                    "product_name_eng": "Grundtal Wall Mirror",
                                    "category_name": "Home Decoration"
                                },
                                {
                                    "product_id": "P000001496",
                                    "product_name_eng": "Fjallbacka Wall Mirror",
                                    "category_name": "Home Decoration"
                                },
                                {
                                    "product_id": "P000001495",
                                    "product_name_eng": "Kolja Wall Mirror",
                                    "category_name": "Home Decoration"
                                },
                                {
                                    "product_id": "P000001494",
                                    "product_name_eng": "Ikea Ps Wall Mirror",
                                    "category_name": "Home Decoration"
                                },
                                {
                                    "product_id": "P000001493",
                                    "product_name_eng": "Hovet Wall Mirror",
                                    "category_name": "Home Decoration"
                                },
                                {
                                    "product_id": "P000000409",
                                    "product_name_eng": "NYHAMN Bed Cabinet",
                                    "category_name": "Beds & Mattresses"
                                },
                                {
                                    "product_id": "P000000408",
                                    "product_name_eng": "VISTHUS Nightstand",
                                    "category_name": "Beds & Mattresses"
                                },
                                {
                                    "product_id": "P000000407",
                                    "product_name_eng": "HURDAL Bedside Table",
                                    "category_name": "Beds & Mattresses"
                                },
                                {
                                    "product_id": "P000000406",
                                    "product_name_eng": "HOPEN Nightstand",
                                    "category_name": "Beds & Mattresses"
                                },
                                {
                                    "product_id": "P000000405",
                                    "product_name_eng": "RAST Nightstand",
                                    "category_name": "Beds & Mattresses"
                                },
                                {
                                    "product_id": "P000000404",
                                    "product_name_eng": "MALM Bedside Table",
                                    "category_name": "Beds & Mattresses"
                                },
                                {
                                    "product_id": "P000000403",
                                    "product_name_eng": "SONGESAND Nightstand",
                                    "category_name": "Beds & Mattresses"
                                },
                                {
                                    "product_id": "P000000402",
                                    "product_name_eng": "SELJE Nightstand",
                                    "category_name": "Beds & Mattresses"
                                },
                                {
                                    "product_id": "P000000401",
                                    "product_name_eng": "HEMNES Nightstand",
                                    "category_name": "Beds & Mattresses"
                                },
                                {
                                    "product_id": "P000000400",
                                    "product_name_eng": "BRIMNES Bedside Table",
                                    "category_name": "Beds & Mattresses"
                                },
                                {
                                    "product_id": "P000001045",
                                    "product_name_eng": "Ragis Laundry",
                                    "category_name": "Bathroom Products"
                                },
                                {
                                    "product_id": "P000001044",
                                    "product_name_eng": "Baggmuck Laundry",
                                    "category_name": "Bathroom Products"
                                },
                                {
                                    "product_id": "P000001043",
                                    "product_name_eng": "Torkis Laundry",
                                    "category_name": "Bathroom Products"
                                },
                                {
                                    "product_id": "P000001042",
                                    "product_name_eng": "Ragrund Laundry",
                                    "category_name": "Bathroom Products"
                                },
                                {
                                    "product_id": "P000001041",
                                    "product_name_eng": "Grundtal Laundry",
                                    "category_name": "Bathroom Products"
                                },
                                {
                                    "product_id": "P000001279",
                                    "product_name_eng": "Morbylanga Cafe Table",
                                    "category_name": "Furniture"
                                },
                                {
                                    "product_id": "P000001278",
                                    "product_name_eng": "Vejmon Cafe Table",
                                    "category_name": "Furniture"
                                },
                                {
                                    "product_id": "P000001277",
                                    "product_name_eng": "Lindved Cafe Table",
                                    "category_name": "Furniture"
                                },
                                {
                                    "product_id": "P000001276",
                                    "product_name_eng": "Glasholm Cafe Table",
                                    "category_name": "Furniture"
                                },
                                {
                                    "product_id": "P000001275",
                                    "product_name_eng": "Lack Cafe Table",
                                    "category_name": "Furniture"
                                },
                                {
                                    "product_id": "P000001651",
                                    "product_name_eng": "Tossig Bin",
                                    "category_name": "Bathroom Products"
                                },
                                {
                                    "product_id": "P000001651",
                                    "product_name_eng": "Tossig Bin",
                                    "category_name": "Laundry & cleaning"
                                },
                                {
                                    "product_id": "P000001650",
                                    "product_name_eng": "Grundtal Bin",
                                    "category_name": "Bathroom Products"
                                },
                                {
                                    "product_id": "P000001650",
                                    "product_name_eng": "Grundtal Bin",
                                    "category_name": "Laundry & cleaning"
                                },
                                {
                                    "product_id": "P000001649",
                                    "product_name_eng": "Vesken Bin",
                                    "category_name": "Bathroom Products"
                                },
                                {
                                    "product_id": "P000001649",
                                    "product_name_eng": "Vesken Bin",
                                    "category_name": "Laundry & cleaning"
                                },
                                {
                                    "product_id": "P000001648",
                                    "product_name_eng": "Kalkgrund Bin",
                                    "category_name": "Bathroom Products"
                                },
                                {
                                    "product_id": "P000001648",
                                    "product_name_eng": "Kalkgrund Bin",
                                    "category_name": "Laundry & cleaning"
                                },
                                {
                                    "product_id": "P000001647",
                                    "product_name_eng": "Frostna Bin",
                                    "category_name": "Bathroom Products"
                                },
                                {
                                    "product_id": "P000001647",
                                    "product_name_eng": "Frostna Bin",
                                    "category_name": "Laundry & cleaning"
                                },
                                {
                                    "product_id": "P000001249",
                                    "product_name_eng": "Kritter Children's Chair",
                                    "category_name": "Furniture"
                                },
                                {
                                    "product_id": "P000001248",
                                    "product_name_eng": "Mammut Children's Chair",
                                    "category_name": "Furniture"
                                },
                                {
                                    "product_id": "P000001247",
                                    "product_name_eng": "Agam Children's Chair",
                                    "category_name": "Furniture"
                                },
                                {
                                    "product_id": "P000001246",
                                    "product_name_eng": "Sundvik Children's Chair",
                                    "category_name": "Furniture"
                                },
                                {
                                    "product_id": "P000001245",
                                    "product_name_eng": "Flisat Children's Chair",
                                    "category_name": "Furniture"
                                },
                                {
                                    "product_id": "P000000972",
                                    "product_name_eng": "Raffig Curtain Rod",
                                    "category_name": "Textiles"
                                },
                                {
                                    "product_id": "P000000971",
                                    "product_name_eng": "Vidga Curtain Rod",
                                    "category_name": "Textiles"
                                },
                                {
                                    "product_id": "P000000970",
                                    "product_name_eng": "Betydlig Curtain Rod",
                                    "category_name": "Textiles"
                                },
                                {
                                    "product_id": "P000000969",
                                    "product_name_eng": "Hugad Curtain Rod",
                                    "category_name": "Textiles"
                                },
                                {
                                    "product_id": "P000000968",
                                    "product_name_eng": "Racka Curtain Rod",
                                    "category_name": "Textiles"
                                },
                                {
                                    "product_id": "P000001801",
                                    "product_name_eng": "Maja Fabric",
                                    "category_name": "Textiles"
                                },
                                {
                                    "product_id": "P000001800",
                                    "product_name_eng": "Lars Fabric",
                                    "category_name": "Textiles"
                                },
                                {
                                    "product_id": "P000001799",
                                    "product_name_eng": "Greta Fabric",
                                    "category_name": "Textiles"
                                },
                                {
                                    "product_id": "P000001798",
                                    "product_name_eng": "Anna Fabric",
                                    "category_name": "Textiles"
                                },
                                {
                                    "product_id": "P000001797",
                                    "product_name_eng": "Sofie Fabric",
                                    "category_name": "Textiles"
                                },
                                {
                                    "product_id": "P000001816",
                                    "product_name_eng": "Solrande Rug",
                                    "category_name": "Textiles"
                                },
                                {
                                    "product_id": "P000001815",
                                    "product_name_eng": "Mjukpla Rug",
                                    "category_name": "Textiles"
                                },
                                {
                                    "product_id": "P000001814",
                                    "product_name_eng": "Myllrande Rug",
                                    "category_name": "Textiles"
                                },
                                {
                                    "product_id": "P000001813",
                                    "product_name_eng": "Fangst Rug",
                                    "category_name": "Textiles"
                                },
                                {
                                    "product_id": "P000001812",
                                    "product_name_eng": "Lekplats Rug",
                                    "category_name": "Textiles"
                                },
                                {
                                    "product_id": "P000001294",
                                    "product_name_eng": "Stokke Changing Table",
                                    "category_name": "Furniture"
                                },
                                {
                                    "product_id": "P000001293",
                                    "product_name_eng": "Gulliver Changing Table",
                                    "category_name": "Furniture"
                                },
                                {
                                    "product_id": "P000001292",
                                    "product_name_eng": "Hemnes Changing Table",
                                    "category_name": "Furniture"
                                },
                                {
                                    "product_id": "P000001291",
                                    "product_name_eng": "Sundvik Changing Table",
                                    "category_name": "Furniture"
                                },
                                {
                                    "product_id": "P000001290",
                                    "product_name_eng": "Sniglar Changing Table",
                                    "category_name": "Furniture"
                                },
                                {
                                    "product_id": "P000001199",
                                    "product_name_eng": "Vimle Sofa-Bed",
                                    "category_name": "Furniture"
                                },
                                {
                                    "product_id": "P000001199",
                                    "product_name_eng": "Vimle Sofa-Bed",
                                    "category_name": "Beds & Mattresses"
                                },
                                {
                                    "product_id": "P000001198",
                                    "product_name_eng": "Moheda Sofa-Bed",
                                    "category_name": "Furniture"
                                },
                                {
                                    "product_id": "P000001198",
                                    "product_name_eng": "Moheda Sofa-Bed",
                                    "category_name": "Beds & Mattresses"
                                },
                                {
                                    "product_id": "P000001197",
                                    "product_name_eng": "Holmsund Sofa-Bed",
                                    "category_name": "Furniture"
                                },
                                {
                                    "product_id": "P000001197",
                                    "product_name_eng": "Holmsund Sofa-Bed",
                                    "category_name": "Beds & Mattresses"
                                },
                                {
                                    "product_id": "P000001196",
                                    "product_name_eng": "Friheten Sofa-Bed",
                                    "category_name": "Furniture"
                                },
                                {
                                    "product_id": "P000001196",
                                    "product_name_eng": "Friheten Sofa-Bed",
                                    "category_name": "Beds & Mattresses"
                                },
                                {
                                    "product_id": "P000001195",
                                    "product_name_eng": "Lycksele Sofa-Bed",
                                    "category_name": "Furniture"
                                },
                                {
                                    "product_id": "P000001195",
                                    "product_name_eng": "Lycksele Sofa-Bed",
                                    "category_name": "Beds & Mattresses"
                                },
                                {
                                    "product_id": "P000000942",
                                    "product_name_eng": "Kronill Block-out Curtain",
                                    "category_name": "Textiles"
                                },
                                {
                                    "product_id": "P000000941",
                                    "product_name_eng": "Merete Block-out Curtain",
                                    "category_name": "Textiles"
                                },
                                {
                                    "product_id": "P000000940",
                                    "product_name_eng": "Sanela Block-out Curtain",
                                    "category_name": "Textiles"
                                },
                                {
                                    "product_id": "P000000939",
                                    "product_name_eng": "Morgon Block-out Curtain",
                                    "category_name": "Textiles"
                                },
                                {
                                    "product_id": "P000000938",
                                    "product_name_eng": "Tretur Block-out Curtain",
                                    "category_name": "Textiles"
                                },
                                {
                                    "product_id": "P000001606",
                                    "product_name_eng": "Hemnes Changing Table",
                                    "category_name": "Baby & Children"
                                },
                                {
                                    "product_id": "P000001605",
                                    "product_name_eng": "Leksvik Changing Table",
                                    "category_name": "Baby & Children"
                                },
                                {
                                    "product_id": "P000001604",
                                    "product_name_eng": "Sniglar Changing Table",
                                    "category_name": "Baby & Children"
                                },
                                {
                                    "product_id": "P000001603",
                                    "product_name_eng": "Gulliver Changing Table",
                                    "category_name": "Baby & Children"
                                },
                                {
                                    "product_id": "P000001602",
                                    "product_name_eng": "Stuva Changing Table",
                                    "category_name": "Baby & Children"
                                },
                                {
                                    "product_id": "P000001154",
                                    "product_name_eng": "Lekose Travel Bag",
                                    "category_name": "Storage & organisation"
                                },
                                {
                                    "product_id": "P000001153",
                                    "product_name_eng": "Skubb Travel Bag",
                                    "category_name": "Storage & organisation"
                                },
                                {
                                    "product_id": "P000001152",
                                    "product_name_eng": "Packa Travel Bag",
                                    "category_name": "Storage & organisation"
                                },
                                {
                                    "product_id": "P000001151",
                                    "product_name_eng": "Ryggsack Travel Bag",
                                    "category_name": "Storage & organisation"
                                },
                                {
                                    "product_id": "P000001150",
                                    "product_name_eng": "Forfina Travel Bag",
                                    "category_name": "Storage & organisation"
                                },
                                {
                                    "product_id": "P000000792",
                                    "product_name_eng": "FArlOv Leather/Cloth Loveseat",
                                    "category_name": "Furniture"
                                },
                                {
                                    "product_id": "P000000791",
                                    "product_name_eng": "SOderhamn Leather/Cloth Loveseat",
                                    "category_name": "Furniture"
                                },
                                {
                                    "product_id": "P000000790",
                                    "product_name_eng": "Stockholm Leather/Cloth Loveseat",
                                    "category_name": "Furniture"
                                },
                                {
                                    "product_id": "P000000789",
                                    "product_name_eng": "Karlstad Leather/Cloth Loveseat",
                                    "category_name": "Furniture"
                                },
                                {
                                    "product_id": "P000000788",
                                    "product_name_eng": "Ektorp Leather/Cloth Loveseat",
                                    "category_name": "Furniture"
                                },
                                {
                                    "product_id": "P000000812",
                                    "product_name_eng": "Hemnes Desk",
                                    "category_name": "Furniture"
                                },
                                {
                                    "product_id": "P000000811",
                                    "product_name_eng": "Brusali Desk",
                                    "category_name": "Furniture"
                                },
                                {
                                    "product_id": "P000000810",
                                    "product_name_eng": "Alex Desk",
                                    "category_name": "Furniture"
                                },
                                {
                                    "product_id": "P000000809",
                                    "product_name_eng": "Linnmon/Adils Desk",
                                    "category_name": "Furniture"
                                },
                                {
                                    "product_id": "P000000808",
                                    "product_name_eng": "Micke Desk",
                                    "category_name": "Furniture"
                                },
                                {
                                    "product_id": "P000001556",
                                    "product_name_eng": "Lifx LED Bulb",
                                    "category_name": "Lighting, lamps & shades"
                                },
                                {
                                    "product_id": "P000001556",
                                    "product_name_eng": "Lifx LED Bulb",
                                    "category_name": "Home Electronics"
                                },
                                {
                                    "product_id": "P000001556",
                                    "product_name_eng": "Lifx LED Bulb",
                                    "category_name": "IKEA Home Smart"
                                },
                                {
                                    "product_id": "P000001556",
                                    "product_name_eng": "Lifx LED Bulb",
                                    "category_name": "Lighting, lamps & shades"
                                },
                                {
                                    "product_id": "P000001555",
                                    "product_name_eng": "Tp-Link LED Bulb",
                                    "category_name": "Lighting, lamps & shades"
                                },
                                {
                                    "product_id": "P000001555",
                                    "product_name_eng": "Tp-Link LED Bulb",
                                    "category_name": "Home Electronics"
                                },
                                {
                                    "product_id": "P000001555",
                                    "product_name_eng": "Tp-Link LED Bulb",
                                    "category_name": "IKEA Home Smart"
                                },
                                {
                                    "product_id": "P000001555",
                                    "product_name_eng": "Tp-Link LED Bulb",
                                    "category_name": "Lighting, lamps & shades"
                                },
                                {
                                    "product_id": "P000001554",
                                    "product_name_eng": "Wiz LED Bulb",
                                    "category_name": "Lighting, lamps & shades"
                                },
                                {
                                    "product_id": "P000001554",
                                    "product_name_eng": "Wiz LED Bulb",
                                    "category_name": "Home Electronics"
                                },
                                {
                                    "product_id": "P000001554",
                                    "product_name_eng": "Wiz LED Bulb",
                                    "category_name": "IKEA Home Smart"
                                },
                                {
                                    "product_id": "P000001554",
                                    "product_name_eng": "Wiz LED Bulb",
                                    "category_name": "Lighting, lamps & shades"
                                },
                                {
                                    "product_id": "P000001553",
                                    "product_name_eng": "Hue LED Bulb",
                                    "category_name": "Lighting, lamps & shades"
                                },
                                {
                                    "product_id": "P000001553",
                                    "product_name_eng": "Hue LED Bulb",
                                    "category_name": "Home Electronics"
                                },
                                {
                                    "product_id": "P000001553",
                                    "product_name_eng": "Hue LED Bulb",
                                    "category_name": "IKEA Home Smart"
                                },
                                {
                                    "product_id": "P000001553",
                                    "product_name_eng": "Hue LED Bulb",
                                    "category_name": "Lighting, lamps & shades"
                                },
                                {
                                    "product_id": "P000000214",
                                    "product_name_eng": "JANSJO LED Wall/Clamp Spotlight",
                                    "category_name": "Lighting, lamps & shades"
                                },
                                {
                                    "product_id": "P000000214",
                                    "product_name_eng": "JANSJO LED Wall/Clamp Spotlight",
                                    "category_name": "Home Electronics"
                                },
                                {
                                    "product_id": "P000000214",
                                    "product_name_eng": "JANSJO LED Wall/Clamp Spotlight",
                                    "category_name": "IKEA Home Smart"
                                },
                                {
                                    "product_id": "P000000214",
                                    "product_name_eng": "JANSJO LED Wall/Clamp Spotlight",
                                    "category_name": "Lighting, lamps & shades"
                                },
                                {
                                    "product_id": "P000000699",
                                    "product_name_eng": "FJADRAR Cushion Insert",
                                    "category_name": "Textiles"
                                },
                                {
                                    "product_id": "P000000698",
                                    "product_name_eng": "SANELA Cushion Cover",
                                    "category_name": "Textiles"
                                },
                                {
                                    "product_id": "P000000697",
                                    "product_name_eng": "GURLI Cushion Cover",
                                    "category_name": "Textiles"
                                },
                                {
                                    "product_id": "P000001219",
                                    "product_name_eng": "Oddvar Stool",
                                    "category_name": "Furniture"
                                },
                                {
                                    "product_id": "P000001219",
                                    "product_name_eng": "Oddvar Stool",
                                    "category_name": "Furniture"
                                },
                                {
                                    "product_id": "P000001218",
                                    "product_name_eng": "Dalfred Stool",
                                    "category_name": "Furniture"
                                },
                                {
                                    "product_id": "P000001218",
                                    "product_name_eng": "Dalfred Stool",
                                    "category_name": "Furniture"
                                },
                                {
                                    "product_id": "P000001217",
                                    "product_name_eng": "Bosse Stool",
                                    "category_name": "Furniture"
                                },
                                {
                                    "product_id": "P000001217",
                                    "product_name_eng": "Bosse Stool",
                                    "category_name": "Furniture"
                                },
                                {
                                    "product_id": "P000001216",
                                    "product_name_eng": "Marius Stool",
                                    "category_name": "Furniture"
                                },
                                {
                                    "product_id": "P000001216",
                                    "product_name_eng": "Marius Stool",
                                    "category_name": "Furniture"
                                },
                                {
                                    "product_id": "P000001215",
                                    "product_name_eng": "Frosta Stool",
                                    "category_name": "Furniture"
                                },
                                {
                                    "product_id": "P000001215",
                                    "product_name_eng": "Frosta Stool",
                                    "category_name": "Furniture"
                                },
                                {
                                    "product_id": "P000001324",
                                    "product_name_eng": "Lerhyttan Acrylic Splashback",
                                    "category_name": "Kitchen Cabinets & Appliances"
                                },
                                {
                                    "product_id": "P000001323",
                                    "product_name_eng": "Enhet Acrylic Splashback",
                                    "category_name": "Kitchen Cabinets & Appliances"
                                },
                                {
                                    "product_id": "P000001322",
                                    "product_name_eng": "Framtid Acrylic Splashback",
                                    "category_name": "Kitchen Cabinets & Appliances"
                                },
                                {
                                    "product_id": "P000001321",
                                    "product_name_eng": "Betsoende Acrylic Splashback",
                                    "category_name": "Kitchen Cabinets & Appliances"
                                },
                                {
                                    "product_id": "P000001320",
                                    "product_name_eng": "Limmaren Acrylic Splashback",
                                    "category_name": "Kitchen Cabinets & Appliances"
                                },
                                {
                                    "product_id": "P000000867",
                                    "product_name_eng": "TILLREDA Fridge",
                                    "category_name": "Kitchen Cabinets & Appliances"
                                },
                                {
                                    "product_id": "P000000867",
                                    "product_name_eng": "TILLREDA Fridge",
                                    "category_name": "Home Electronics"
                                },
                                {
                                    "product_id": "P000000866",
                                    "product_name_eng": "VADHOLMA Fridge",
                                    "category_name": "Kitchen Cabinets & Appliances"
                                },
                                {
                                    "product_id": "P000000866",
                                    "product_name_eng": "VADHOLMA Fridge",
                                    "category_name": "Home Electronics"
                                },
                                {
                                    "product_id": "P000000865",
                                    "product_name_eng": "RENODLIG Fridge",
                                    "category_name": "Kitchen Cabinets & Appliances"
                                },
                                {
                                    "product_id": "P000000865",
                                    "product_name_eng": "RENODLIG Fridge",
                                    "category_name": "Home Electronics"
                                },
                                {
                                    "product_id": "P000000864",
                                    "product_name_eng": "KUNGSFORS Freezer",
                                    "category_name": "Kitchen Cabinets & Appliances"
                                },
                                {
                                    "product_id": "P000000864",
                                    "product_name_eng": "KUNGSFORS Freezer",
                                    "category_name": "Home Electronics"
                                },
                                {
                                    "product_id": "P000000863",
                                    "product_name_eng": "KUNGSFORS Fridge",
                                    "category_name": "Kitchen Cabinets & Appliances"
                                },
                                {
                                    "product_id": "P000000863",
                                    "product_name_eng": "KUNGSFORS Fridge",
                                    "category_name": "Home Electronics"
                                },
                                {
                                    "product_id": "P000001547",
                                    "product_name_eng": "Virumo Lamp Shade",
                                    "category_name": "Lighting, lamps & shades"
                                },
                                {
                                    "product_id": "P000001546",
                                    "product_name_eng": "Lindby Lamp Shade",
                                    "category_name": "Lighting, lamps & shades"
                                },
                                {
                                    "product_id": "P000001545",
                                    "product_name_eng": "Renzee Lamp Shade",
                                    "category_name": "Lighting, lamps & shades"
                                },
                                {
                                    "product_id": "P000001544",
                                    "product_name_eng": "Grossby Lamp Shade",
                                    "category_name": "Lighting, lamps & shades"
                                },
                                {
                                    "product_id": "P000001543",
                                    "product_name_eng": "Regolit Lamp Shade",
                                    "category_name": "Lighting, lamps & shades"
                                },
                                {
                                    "product_id": "P000000558",
                                    "product_name_eng": "FLISAT Planting Table",
                                    "category_name": "Pots & Plants"
                                },
                                {
                                    "product_id": "P000000557",
                                    "product_name_eng": "SOCKER Greenhouse",
                                    "category_name": "Pots & Plants"
                                },
                                {
                                    "product_id": "P000000556",
                                    "product_name_eng": "PLASTIS Dish Drainer",
                                    "category_name": "Pots & Plants"
                                },
                                {
                                    "product_id": "P000000555",
                                    "product_name_eng": "FORSIKTIG Watering Can",
                                    "category_name": "Pots & Plants"
                                },
                                {
                                    "product_id": "P000000554",
                                    "product_name_eng": "VIVOSUN Growing Tent",
                                    "category_name": "Pots & Plants"
                                },
                                {
                                    "product_id": "P000000553",
                                    "product_name_eng": "MUSKOT Greenhouse",
                                    "category_name": "Pots & Plants"
                                },
                                {
                                    "product_id": "P000000552",
                                    "product_name_eng": "FLISAT Greenhouse",
                                    "category_name": "Pots & Plants"
                                },
                                {
                                    "product_id": "P000000551",
                                    "product_name_eng": "SOCKER Greenhouse",
                                    "category_name": "Pots & Plants"
                                },
                                {
                                    "product_id": "P000000550",
                                    "product_name_eng": "VINDRUVA Greenhouse",
                                    "category_name": "Pots & Plants"
                                },
                                {
                                    "product_id": "P000000549",
                                    "product_name_eng": "VAXER Growing Kit",
                                    "category_name": "Pots & Plants"
                                },
                                {
                                    "product_id": "P000001781",
                                    "product_name_eng": "Himmelsk Bed Linen",
                                    "category_name": "Textiles"
                                },
                                {
                                    "product_id": "P000001780",
                                    "product_name_eng": "Dunderklumpen Bed Linen",
                                    "category_name": "Textiles"
                                },
                                {
                                    "product_id": "P000001779",
                                    "product_name_eng": "Giraffig Bed Linen",
                                    "category_name": "Textiles"
                                },
                                {
                                    "product_id": "P000001778",
                                    "product_name_eng": "Rabarber Bed Linen",
                                    "category_name": "Textiles"
                                },
                                {
                                    "product_id": "P000001777",
                                    "product_name_eng": "Myskgras Bed Linen",
                                    "category_name": "Textiles"
                                },
                                {
                                    "product_id": "P000000459",
                                    "product_name_eng": "MALVIK Leg",
                                    "category_name": "Beds & Mattresses"
                                },
                                {
                                    "product_id": "P000000458",
                                    "product_name_eng": "KURA Bed Leg",
                                    "category_name": "Beds & Mattresses"
                                },
                                {
                                    "product_id": "P000000457",
                                    "product_name_eng": "KIRSKAL Leg",
                                    "category_name": "Beds & Mattresses"
                                },
                                {
                                    "product_id": "P000000456",
                                    "product_name_eng": "HAUGESUND Leg",
                                    "category_name": "Beds & Mattresses"
                                },
                                {
                                    "product_id": "P000000455",
                                    "product_name_eng": "BRYGGJA Leg",
                                    "category_name": "Beds & Mattresses"
                                },
                                {
                                    "product_id": "P000000454",
                                    "product_name_eng": "FJORD Leg",
                                    "category_name": "Beds & Mattresses"
                                },
                                {
                                    "product_id": "P000000453",
                                    "product_name_eng": "GIMSE Leg",
                                    "category_name": "Beds & Mattresses"
                                },
                                {
                                    "product_id": "P000000452",
                                    "product_name_eng": "MANDAL Leg",
                                    "category_name": "Beds & Mattresses"
                                },
                                {
                                    "product_id": "P000000451",
                                    "product_name_eng": "BJORLI Leg",
                                    "category_name": "Beds & Mattresses"
                                },
                                {
                                    "product_id": "P000000450",
                                    "product_name_eng": "CAPITA Leg",
                                    "category_name": "Beds & Mattresses"
                                },
                                {
                                    "product_id": "P000001149",
                                    "product_name_eng": "Grona Backpack",
                                    "category_name": "Storage & organisation"
                                },
                                {
                                    "product_id": "P000001148",
                                    "product_name_eng": "Storsack Messenger Bag",
                                    "category_name": "Storage & organisation"
                                },
                                {
                                    "product_id": "P000001147",
                                    "product_name_eng": "Ransby Messenger Bag",
                                    "category_name": "Storage & organisation"
                                },
                                {
                                    "product_id": "P000001146",
                                    "product_name_eng": "Kanken Messenger Bag",
                                    "category_name": "Storage & organisation"
                                },
                                {
                                    "product_id": "P000001145",
                                    "product_name_eng": "Upptacka Backpack",
                                    "category_name": "Storage & organisation"
                                },
                                {
                                    "product_id": "P000001601",
                                    "product_name_eng": "Flisat Play Kitchen",
                                    "category_name": "Baby & Children"
                                },
                                {
                                    "product_id": "P000001600",
                                    "product_name_eng": "Sprutt Play Kitchen",
                                    "category_name": "Baby & Children"
                                },
                                {
                                    "product_id": "P000001599",
                                    "product_name_eng": "Mini-Kitchen Play Kitchen",
                                    "category_name": "Baby & Children"
                                },
                                {
                                    "product_id": "P000001598",
                                    "product_name_eng": "Smaklig Play Kitchen",
                                    "category_name": "Baby & Children"
                                },
                                {
                                    "product_id": "P000001597",
                                    "product_name_eng": "Duktig Play Kitchen",
                                    "category_name": "Baby & Children"
                                },
                                {
                                    "product_id": "P000001344",
                                    "product_name_eng": "Rundlig Tray",
                                    "category_name": "Kitchenware & Tableware"
                                },
                                {
                                    "product_id": "P000001343",
                                    "product_name_eng": "Medfira Tray",
                                    "category_name": "Kitchenware & Tableware"
                                },
                                {
                                    "product_id": "P000001342",
                                    "product_name_eng": "Servera Tray",
                                    "category_name": "Kitchenware & Tableware"
                                },
                                {
                                    "product_id": "P000001341",
                                    "product_name_eng": "Isberget Tray",
                                    "category_name": "Kitchenware & Tableware"
                                },
                                {
                                    "product_id": "P000001340",
                                    "product_name_eng": "Legitim Tray",
                                    "category_name": "Kitchenware & Tableware"
                                },
                                {
                                    "product_id": "P000001517",
                                    "product_name_eng": "Bixler Table Clock",
                                    "category_name": "Home Decoration"
                                },
                                {
                                    "product_id": "P000001516",
                                    "product_name_eng": "Brukbar Wall Clock",
                                    "category_name": "Home Decoration"
                                },
                                {
                                    "product_id": "P000001515",
                                    "product_name_eng": "Racka Wall Clock",
                                    "category_name": "Home Decoration"
                                },
                                {
                                    "product_id": "P000001514",
                                    "product_name_eng": "Stomma Wall Clock",
                                    "category_name": "Home Decoration"
                                },
                                {
                                    "product_id": "P000001513",
                                    "product_name_eng": "Rusch Wall Clock",
                                    "category_name": "Home Decoration"
                                },
                                {
                                    "product_id": "P000001542",
                                    "product_name_eng": "Skimra Pendant Lamp",
                                    "category_name": "Lighting, lamps & shades"
                                },
                                {
                                    "product_id": "P000001541",
                                    "product_name_eng": "Maskros Pendant Lamp",
                                    "category_name": "Lighting, lamps & shades"
                                },
                                {
                                    "product_id": "P000001540",
                                    "product_name_eng": "Flugbo Pendant Lamp",
                                    "category_name": "Lighting, lamps & shades"
                                },
                                {
                                    "product_id": "P000001539",
                                    "product_name_eng": "Torka Pendant Lamp",
                                    "category_name": "Lighting, lamps & shades"
                                },
                                {
                                    "product_id": "P000001538",
                                    "product_name_eng": "Pult Pendant Lamp",
                                    "category_name": "Lighting, lamps & shades"
                                },
                                {
                                    "product_id": "P000000709",
                                    "product_name_eng": "SMORBOLL Throw",
                                    "category_name": "Textiles"
                                },
                                {
                                    "product_id": "P000000708",
                                    "product_name_eng": "SKOGSKLOVER Throw",
                                    "category_name": "Textiles"
                                },
                                {
                                    "product_id": "P000000707",
                                    "product_name_eng": "OFELIA Throw",
                                    "category_name": "Textiles"
                                },
                                {
                                    "product_id": "P000000706",
                                    "product_name_eng": "DRAG Throw",
                                    "category_name": "Textiles"
                                },
                                {
                                    "product_id": "P000000705",
                                    "product_name_eng": "GLADO Throw",
                                    "category_name": "Textiles"
                                },
                                {
                                    "product_id": "P000000704",
                                    "product_name_eng": "OVERALLT Throw",
                                    "category_name": "Textiles"
                                },
                                {
                                    "product_id": "P000000703",
                                    "product_name_eng": "MALIN RUND Throw",
                                    "category_name": "Textiles"
                                },
                                {
                                    "product_id": "P000000702",
                                    "product_name_eng": "INGABRITTA Throw",
                                    "category_name": "Textiles"
                                },
                                {
                                    "product_id": "P000000701",
                                    "product_name_eng": "GURLI Throw",
                                    "category_name": "Textiles"
                                },
                                {
                                    "product_id": "P000000700",
                                    "product_name_eng": "VARKRAGE Throw",
                                    "category_name": "Textiles"
                                },
                                {
                                    "product_id": "P000000797",
                                    "product_name_eng": "Soderhamn Modular Sectional",
                                    "category_name": "Furniture"
                                },
                                {
                                    "product_id": "P000000796",
                                    "product_name_eng": "Norsborg Modular Sofa",
                                    "category_name": "Furniture"
                                },
                                {
                                    "product_id": "P000000795",
                                    "product_name_eng": "Vimle Modular Sofa",
                                    "category_name": "Furniture"
                                },
                                {
                                    "product_id": "P000000794",
                                    "product_name_eng": "Landskrona Modular Sofa",
                                    "category_name": "Furniture"
                                },
                                {
                                    "product_id": "P000000793",
                                    "product_name_eng": "SOderhamn Modular Sofa",
                                    "category_name": "Furniture"
                                },
                                {
                                    "product_id": "P000001761",
                                    "product_name_eng": "Patrull Safety Kit",
                                    "category_name": "Home Improvement"
                                },
                                {
                                    "product_id": "P000001760",
                                    "product_name_eng": "Patrull Safety Kit",
                                    "category_name": "Home Improvement"
                                },
                                {
                                    "product_id": "P000001759",
                                    "product_name_eng": "Patrull Safety Kit",
                                    "category_name": "Home Improvement"
                                },
                                {
                                    "product_id": "P000001758",
                                    "product_name_eng": "Patrull Safety Kit",
                                    "category_name": "Home Improvement"
                                },
                                {
                                    "product_id": "P000001757",
                                    "product_name_eng": "Patrull Safety Kit",
                                    "category_name": "Home Improvement"
                                },
                                {
                                    "product_id": "P000001254",
                                    "product_name_eng": "Sundvik Children's Table",
                                    "category_name": "Furniture"
                                },
                                {
                                    "product_id": "P000001253",
                                    "product_name_eng": "Trofast Children's Table",
                                    "category_name": "Furniture"
                                },
                                {
                                    "product_id": "P000001252",
                                    "product_name_eng": "Latt Children's Table",
                                    "category_name": "Furniture"
                                },
                                {
                                    "product_id": "P000001251",
                                    "product_name_eng": "Mammut Children's Table",
                                    "category_name": "Furniture"
                                },
                                {
                                    "product_id": "P000001250",
                                    "product_name_eng": "Flisat Children's Table",
                                    "category_name": "Furniture"
                                },
                                {
                                    "product_id": "P000001184",
                                    "product_name_eng": "Sandbacken Sofa",
                                    "category_name": "Furniture"
                                },
                                {
                                    "product_id": "P000001183",
                                    "product_name_eng": "Soderhamn Sofa",
                                    "category_name": "Furniture"
                                },
                                {
                                    "product_id": "P000001182",
                                    "product_name_eng": "Stocksund Sofa",
                                    "category_name": "Furniture"
                                },
                                {
                                    "product_id": "P000001181",
                                    "product_name_eng": "Ektorp Sofa",
                                    "category_name": "Furniture"
                                },
                                {
                                    "product_id": "P000001180",
                                    "product_name_eng": "Kivik Sofa",
                                    "category_name": "Furniture"
                                },
                                {
                                    "product_id": "P000001424",
                                    "product_name_eng": "Vinterkaka Baking Tools",
                                    "category_name": "Kitchenware & Tableware"
                                },
                                {
                                    "product_id": "P000001423",
                                    "product_name_eng": "Pepparkaka Baking Tools",
                                    "category_name": "Kitchenware & Tableware"
                                },
                                {
                                    "product_id": "P000001422",
                                    "product_name_eng": "Syltkaka Baking Tools",
                                    "category_name": "Kitchenware & Tableware"
                                },
                                {
                                    "product_id": "P000001421",
                                    "product_name_eng": "Sockerkaka Baking Tools",
                                    "category_name": "Kitchenware & Tableware"
                                },
                                {
                                    "product_id": "P000001420",
                                    "product_name_eng": "Gallet Baking Tools",
                                    "category_name": "Kitchenware & Tableware"
                                },
                                {
                                    "product_id": "P000000283",
                                    "product_name_eng": "VALLOXEN Kitchen Mixer Tap",
                                    "category_name": "Kitchen Cabinets & Appliances"
                                },
                                {
                                    "product_id": "P000000282",
                                    "product_name_eng": "HJUVIK Kitchen Mixer Tap",
                                    "category_name": "Kitchen Cabinets & Appliances"
                                },
                                {
                                    "product_id": "P000000281",
                                    "product_name_eng": "NORNS Kitchen Mixer Tap",
                                    "category_name": "Kitchen Cabinets & Appliances"
                                },
                                {
                                    "product_id": "P000000280",
                                    "product_name_eng": "BOLMEN Kitchen Mixer Tap",
                                    "category_name": "Kitchen Cabinets & Appliances"
                                },
                                {
                                    "product_id": "P000000279",
                                    "product_name_eng": "TOLLSJON Kitchen Mixer Tap",
                                    "category_name": "Kitchen Cabinets & Appliances"
                                },
                                {
                                    "product_id": "P000000278",
                                    "product_name_eng": "VATTUDALEN Single Inset Sink",
                                    "category_name": "Kitchen Cabinets & Appliances"
                                },
                                {
                                    "product_id": "P000000277",
                                    "product_name_eng": "ELVERDAM Kitchen Mixer Tap",
                                    "category_name": "Kitchen Cabinets & Appliances"
                                },
                                {
                                    "product_id": "P000000276",
                                    "product_name_eng": "SKOGHALL Kitchen Faucet",
                                    "category_name": "Kitchen Cabinets & Appliances"
                                },
                                {
                                    "product_id": "P000000275",
                                    "product_name_eng": "KILSVIKEN Inset Sink",
                                    "category_name": "Kitchen Cabinets & Appliances"
                                },
                                {
                                    "product_id": "P000000274",
                                    "product_name_eng": "SVARTSJOEN Double Bowl Sink",
                                    "category_name": "Kitchen Cabinets & Appliances"
                                },
                                {
                                    "product_id": "P000000273",
                                    "product_name_eng": "VATTUDALEN Inset Sink",
                                    "category_name": "Kitchen Cabinets & Appliances"
                                },
                                {
                                    "product_id": "P000000272",
                                    "product_name_eng": "BLOMNING Kitchen Faucet",
                                    "category_name": "Kitchen Cabinets & Appliances"
                                },
                                {
                                    "product_id": "P000000271",
                                    "product_name_eng": "TILLAGAD Kitchen Faucet with Sensor",
                                    "category_name": "Kitchen Cabinets & Appliances"
                                },
                                {
                                    "product_id": "P000000270",
                                    "product_name_eng": "VIMMERN Kitchen Faucet with Handspray",
                                    "category_name": "Kitchen Cabinets & Appliances"
                                },
                                {
                                    "product_id": "P000000269",
                                    "product_name_eng": "VALLOXEN Kitchen Faucet",
                                    "category_name": "Kitchen Cabinets & Appliances"
                                },
                                {
                                    "product_id": "P000000268",
                                    "product_name_eng": "HJUVIK Kitchen Faucet",
                                    "category_name": "Kitchen Cabinets & Appliances"
                                },
                                {
                                    "product_id": "P000000267",
                                    "product_name_eng": "BOLMEN Kitchen Faucet",
                                    "category_name": "Kitchen Cabinets & Appliances"
                                },
                                {
                                    "product_id": "P000000266",
                                    "product_name_eng": "TOLLSJON Faucet",
                                    "category_name": "Kitchen Cabinets & Appliances"
                                },
                                {
                                    "product_id": "P000000265",
                                    "product_name_eng": "VATTUDALEN Single Bowl Sink",
                                    "category_name": "Kitchen Cabinets & Appliances"
                                },
                                {
                                    "product_id": "P000000264",
                                    "product_name_eng": "TARNAN Kitchen Faucet",
                                    "category_name": "Kitchen Cabinets & Appliances"
                                },
                                {
                                    "product_id": "P000000263",
                                    "product_name_eng": "SVARTSJOEN Faucet",
                                    "category_name": "Kitchen Cabinets & Appliances"
                                },
                                {
                                    "product_id": "P000000262",
                                    "product_name_eng": "NORNS Double Bowl Sink",
                                    "category_name": "Kitchen Cabinets & Appliances"
                                },
                                {
                                    "product_id": "P000000261",
                                    "product_name_eng": "DANDERYD Faucet",
                                    "category_name": "Kitchen Cabinets & Appliances"
                                },
                                {
                                    "product_id": "P000000260",
                                    "product_name_eng": "HILLESJON Sink",
                                    "category_name": "Kitchen Cabinets & Appliances"
                                },
                                {
                                    "product_id": "P000000259",
                                    "product_name_eng": "FYNDIG Double Bowl Sink",
                                    "category_name": "Kitchen Cabinets & Appliances"
                                },
                                {
                                    "product_id": "P000000258",
                                    "product_name_eng": "HAVSEN Apron Front Double Bowl Sink",
                                    "category_name": "Kitchen Cabinets & Appliances"
                                },
                                {
                                    "product_id": "P000000257",
                                    "product_name_eng": "BOHOLMEN Double Bowl Sink",
                                    "category_name": "Kitchen Cabinets & Appliances"
                                },
                                {
                                    "product_id": "P000000256",
                                    "product_name_eng": "VIMMERN Kitchen Tap",
                                    "category_name": "Kitchen Cabinets & Appliances"
                                },
                                {
                                    "product_id": "P000000255",
                                    "product_name_eng": "GRANSKAR Faucet",
                                    "category_name": "Kitchen Cabinets & Appliances"
                                },
                                {
                                    "product_id": "P000000254",
                                    "product_name_eng": "BREDVIK Kitchen Faucet",
                                    "category_name": "Kitchen Cabinets & Appliances"
                                },
                                {
                                    "product_id": "P000000253",
                                    "product_name_eng": "VIMMERN Kitchen Mixer Tap",
                                    "category_name": "Kitchen Cabinets & Appliances"
                                },
                                {
                                    "product_id": "P000000252",
                                    "product_name_eng": "VATTUDALEN Double Bowl Sink",
                                    "category_name": "Kitchen Cabinets & Appliances"
                                },
                                {
                                    "product_id": "P000000251",
                                    "product_name_eng": "BROGRUND Faucet",
                                    "category_name": "Kitchen Cabinets & Appliances"
                                },
                                {
                                    "product_id": "P000000250",
                                    "product_name_eng": "TILLAGAD Kitchen Faucet",
                                    "category_name": "Kitchen Cabinets & Appliances"
                                },
                                {
                                    "product_id": "P000000249",
                                    "product_name_eng": "ODENSVIK Sink",
                                    "category_name": "Kitchen Cabinets & Appliances"
                                },
                                {
                                    "product_id": "P000000248",
                                    "product_name_eng": "NORRSJON Sink",
                                    "category_name": "Kitchen Cabinets & Appliances"
                                },
                                {
                                    "product_id": "P000000247",
                                    "product_name_eng": "ELVERDAM Kitchen Faucet",
                                    "category_name": "Kitchen Cabinets & Appliances"
                                },
                                {
                                    "product_id": "P000000246",
                                    "product_name_eng": "RINGSKAR Faucet",
                                    "category_name": "Kitchen Cabinets & Appliances"
                                },
                                {
                                    "product_id": "P000000245",
                                    "product_name_eng": "LAGAN Single Bowl Sink",
                                    "category_name": "Kitchen Cabinets & Appliances"
                                },
                                {
                                    "product_id": "P000000244",
                                    "product_name_eng": "VIMMERN Kitchen Faucet",
                                    "category_name": "Kitchen Cabinets & Appliances"
                                },
                                {
                                    "product_id": "P000000243",
                                    "product_name_eng": "MOLNAR Faucet",
                                    "category_name": "Kitchen Cabinets & Appliances"
                                },
                                {
                                    "product_id": "P000000242",
                                    "product_name_eng": "FYNDIG Single Bowl Sink",
                                    "category_name": "Kitchen Cabinets & Appliances"
                                },
                                {
                                    "product_id": "P000000241",
                                    "product_name_eng": "HAVSEN Apron Front Sink",
                                    "category_name": "Kitchen Cabinets & Appliances"
                                },
                                {
                                    "product_id": "P000000240",
                                    "product_name_eng": "BOHOLMEN Single Bowl Sink",
                                    "category_name": "Kitchen Cabinets & Appliances"
                                },
                                {
                                    "product_id": "P000000922",
                                    "product_name_eng": "Palmlilja Polyester Duvet",
                                    "category_name": "Beds & Mattresses"
                                },
                                {
                                    "product_id": "P000000922",
                                    "product_name_eng": "Palmlilja Polyester Duvet",
                                    "category_name": "Textiles"
                                },
                                {
                                    "product_id": "P000000921",
                                    "product_name_eng": "Tungslag Polyester Duvet",
                                    "category_name": "Beds & Mattresses"
                                },
                                {
                                    "product_id": "P000000921",
                                    "product_name_eng": "Tungslag Polyester Duvet",
                                    "category_name": "Textiles"
                                },
                                {
                                    "product_id": "P000000920",
                                    "product_name_eng": "Tussoy Polyester Duvet",
                                    "category_name": "Beds & Mattresses"
                                },
                                {
                                    "product_id": "P000000920",
                                    "product_name_eng": "Tussoy Polyester Duvet",
                                    "category_name": "Textiles"
                                },
                                {
                                    "product_id": "P000000919",
                                    "product_name_eng": "Gosaraps Polyester Duvet",
                                    "category_name": "Beds & Mattresses"
                                },
                                {
                                    "product_id": "P000000919",
                                    "product_name_eng": "Gosaraps Polyester Duvet",
                                    "category_name": "Textiles"
                                },
                                {
                                    "product_id": "P000000918",
                                    "product_name_eng": "Myskgras Polyester Duvet",
                                    "category_name": "Beds & Mattresses"
                                },
                                {
                                    "product_id": "P000000918",
                                    "product_name_eng": "Myskgras Polyester Duvet",
                                    "category_name": "Textiles"
                                },
                                {
                                    "product_id": "P000000748",
                                    "product_name_eng": "FJALKINGE Cube Wall Shelf",
                                    "category_name": "Storage & organisation"
                                },
                                {
                                    "product_id": "P000000747",
                                    "product_name_eng": "KALLAX Cube Wall Shelf",
                                    "category_name": "Storage & organisation"
                                },
                                {
                                    "product_id": "P000000746",
                                    "product_name_eng": "EKET Cube Wall Shelf",
                                    "category_name": "Storage & organisation"
                                },
                                {
                                    "product_id": "P000000807",
                                    "product_name_eng": "Solsta Sofa Bed Cover",
                                    "category_name": "Furniture"
                                },
                                {
                                    "product_id": "P000000807",
                                    "product_name_eng": "Solsta Sofa Bed Cover",
                                    "category_name": "Beds & Mattresses"
                                },
                                {
                                    "product_id": "P000000806",
                                    "product_name_eng": "Flottebo Sofa Bed Cover",
                                    "category_name": "Furniture"
                                },
                                {
                                    "product_id": "P000000806",
                                    "product_name_eng": "Flottebo Sofa Bed Cover",
                                    "category_name": "Beds & Mattresses"
                                },
                                {
                                    "product_id": "P000000805",
                                    "product_name_eng": "Fyresdal Sofa Bed Frame",
                                    "category_name": "Furniture"
                                },
                                {
                                    "product_id": "P000000805",
                                    "product_name_eng": "Fyresdal Sofa Bed Frame",
                                    "category_name": "Beds & Mattresses"
                                },
                                {
                                    "product_id": "P000000804",
                                    "product_name_eng": "Friheten Sofa Bed Cover",
                                    "category_name": "Furniture"
                                },
                                {
                                    "product_id": "P000000804",
                                    "product_name_eng": "Friheten Sofa Bed Cover",
                                    "category_name": "Beds & Mattresses"
                                },
                                {
                                    "product_id": "P000000803",
                                    "product_name_eng": "Beddinge Sofa Bed Cover",
                                    "category_name": "Furniture"
                                },
                                {
                                    "product_id": "P000000803",
                                    "product_name_eng": "Beddinge Sofa Bed Cover",
                                    "category_name": "Beds & Mattresses"
                                },
                                {
                                    "product_id": "P000000170",
                                    "product_name_eng": "HILVER Kitchen Table Top",
                                    "category_name": "Kitchen Cabinets & Appliances"
                                },
                                {
                                    "product_id": "P000000169",
                                    "product_name_eng": "KARLBY Countertop",
                                    "category_name": "Kitchen Cabinets & Appliances"
                                },
                                {
                                    "product_id": "P000000168",
                                    "product_name_eng": "HAMMARP Countertop",
                                    "category_name": "Kitchen Cabinets & Appliances"
                                },
                                {
                                    "product_id": "P000000167",
                                    "product_name_eng": "EDSERUM Tabletop",
                                    "category_name": "Kitchen Cabinets & Appliances"
                                },
                                {
                                    "product_id": "P000000166",
                                    "product_name_eng": "SALJAN Kitchen Countertop",
                                    "category_name": "Kitchen Cabinets & Appliances"
                                },
                                {
                                    "product_id": "P000000165",
                                    "product_name_eng": "KARLBY Kitchen Table Top",
                                    "category_name": "Kitchen Cabinets & Appliances"
                                },
                                {
                                    "product_id": "P000000164",
                                    "product_name_eng": "EKBACKEN Kitchen Worktop",
                                    "category_name": "Kitchen Cabinets & Appliances"
                                },
                                {
                                    "product_id": "P000000163",
                                    "product_name_eng": "LINNMON Countertop",
                                    "category_name": "Kitchen Cabinets & Appliances"
                                },
                                {
                                    "product_id": "P000000162",
                                    "product_name_eng": "HILVER Tabletop",
                                    "category_name": "Kitchen Cabinets & Appliances"
                                },
                                {
                                    "product_id": "P000000161",
                                    "product_name_eng": "VADHOLMA Countertop",
                                    "category_name": "Kitchen Cabinets & Appliances"
                                },
                                {
                                    "product_id": "P000000160",
                                    "product_name_eng": "LAGAN Countertop",
                                    "category_name": "Kitchen Cabinets & Appliances"
                                },
                                {
                                    "product_id": "P000000159",
                                    "product_name_eng": "GERTON Tabletop",
                                    "category_name": "Kitchen Cabinets & Appliances"
                                },
                                {
                                    "product_id": "P000000158",
                                    "product_name_eng": "EKBACKEN Table Top",
                                    "category_name": "Kitchen Cabinets & Appliances"
                                },
                                {
                                    "product_id": "P000000157",
                                    "product_name_eng": "LINNMON Tabletop",
                                    "category_name": "Kitchen Cabinets & Appliances"
                                },
                                {
                                    "product_id": "P000000156",
                                    "product_name_eng": "HILVER Bamboo Table Top",
                                    "category_name": "Kitchen Cabinets & Appliances"
                                },
                                {
                                    "product_id": "P000000155",
                                    "product_name_eng": "LAGAN Laminate Countertop",
                                    "category_name": "Kitchen Cabinets & Appliances"
                                },
                                {
                                    "product_id": "P000000154",
                                    "product_name_eng": "SALJAN Countertop",
                                    "category_name": "Kitchen Cabinets & Appliances"
                                },
                                {
                                    "product_id": "P000000153",
                                    "product_name_eng": "HAMMARP Butcher Block",
                                    "category_name": "Kitchen Cabinets & Appliances"
                                },
                                {
                                    "product_id": "P000000152",
                                    "product_name_eng": "KARLBY Kitchen Countertop",
                                    "category_name": "Kitchen Cabinets & Appliances"
                                },
                                {
                                    "product_id": "P000000151",
                                    "product_name_eng": "EKBACKEN Countertop",
                                    "category_name": "Kitchen Cabinets & Appliances"
                                },
                                {
                                    "product_id": "P000001751",
                                    "product_name_eng": "Kugg Screws",
                                    "category_name": "Home Improvement"
                                },
                                {
                                    "product_id": "P000001750",
                                    "product_name_eng": "Skruv Screws",
                                    "category_name": "Home Improvement"
                                },
                                {
                                    "product_id": "P000001749",
                                    "product_name_eng": "Rill Screws",
                                    "category_name": "Home Improvement"
                                },
                                {
                                    "product_id": "P000001748",
                                    "product_name_eng": "Hack Screws",
                                    "category_name": "Home Improvement"
                                },
                                {
                                    "product_id": "P000001747",
                                    "product_name_eng": "Lack Screws",
                                    "category_name": "Home Improvement"
                                },
                                {
                                    "product_id": "P000000932",
                                    "product_name_eng": "Asfalt Polyester Pillow",
                                    "category_name": "Beds & Mattresses"
                                },
                                {
                                    "product_id": "P000000932",
                                    "product_name_eng": "Asfalt Polyester Pillow",
                                    "category_name": "Textiles"
                                },
                                {
                                    "product_id": "P000000931",
                                    "product_name_eng": "Hogstarv Polyester Pillow",
                                    "category_name": "Beds & Mattresses"
                                },
                                {
                                    "product_id": "P000000931",
                                    "product_name_eng": "Hogstarv Polyester Pillow",
                                    "category_name": "Textiles"
                                },
                                {
                                    "product_id": "P000000930",
                                    "product_name_eng": "Muskad Polyester Pillow",
                                    "category_name": "Beds & Mattresses"
                                },
                                {
                                    "product_id": "P000000930",
                                    "product_name_eng": "Muskad Polyester Pillow",
                                    "category_name": "Textiles"
                                },
                                {
                                    "product_id": "P000000929",
                                    "product_name_eng": "Hollkon Polyester Pillow",
                                    "category_name": "Beds & Mattresses"
                                },
                                {
                                    "product_id": "P000000929",
                                    "product_name_eng": "Hollkon Polyester Pillow",
                                    "category_name": "Textiles"
                                },
                                {
                                    "product_id": "P000000928",
                                    "product_name_eng": "Rosenskarm Polyester Pillow",
                                    "category_name": "Beds & Mattresses"
                                },
                                {
                                    "product_id": "P000000928",
                                    "product_name_eng": "Rosenskarm Polyester Pillow",
                                    "category_name": "Textiles"
                                },
                                {
                                    "product_id": "P000000120",
                                    "product_name_eng": "ANEBODA Wardrobe",
                                    "category_name": "Furniture"
                                },
                                {
                                    "product_id": "P000000119",
                                    "product_name_eng": "STOLMEN Room Screen",
                                    "category_name": "Furniture"
                                },
                                {
                                    "product_id": "P000000118",
                                    "product_name_eng": "KIRKENAS Room Divider",
                                    "category_name": "Furniture"
                                },
                                {
                                    "product_id": "P000000117",
                                    "product_name_eng": "ALGOT Wall Upright",
                                    "category_name": "Furniture"
                                },
                                {
                                    "product_id": "P000000116",
                                    "product_name_eng": "KURA Bed Tent",
                                    "category_name": "Furniture"
                                },
                                {
                                    "product_id": "P000000115",
                                    "product_name_eng": "VEBEROD Room Separator",
                                    "category_name": "Furniture"
                                },
                                {
                                    "product_id": "P000000114",
                                    "product_name_eng": "HOLMO Room Screen",
                                    "category_name": "Furniture"
                                },
                                {
                                    "product_id": "P000000113",
                                    "product_name_eng": "SODERHAMN Room Divider",
                                    "category_name": "Furniture"
                                },
                                {
                                    "product_id": "P000000112",
                                    "product_name_eng": "MALM Bookcase",
                                    "category_name": "Furniture"
                                },
                                {
                                    "product_id": "P000000111",
                                    "product_name_eng": "FJORD Room Divider",
                                    "category_name": "Furniture"
                                },
                                {
                                    "product_id": "P000000110",
                                    "product_name_eng": "SKOGHALL Room Screen",
                                    "category_name": "Furniture"
                                },
                                {
                                    "product_id": "P000000109",
                                    "product_name_eng": "SVALNAS Wall Divider",
                                    "category_name": "Furniture"
                                },
                                {
                                    "product_id": "P000000108",
                                    "product_name_eng": "FJALKINGE Shelf Unit",
                                    "category_name": "Furniture"
                                },
                                {
                                    "product_id": "P000000107",
                                    "product_name_eng": "BROR Room Divider",
                                    "category_name": "Furniture"
                                },
                                {
                                    "product_id": "P000000106",
                                    "product_name_eng": "HEMNES Shelving Unit",
                                    "category_name": "Furniture"
                                },
                                {
                                    "product_id": "P000000105",
                                    "product_name_eng": "LOMMARP Room Separator",
                                    "category_name": "Furniture"
                                },
                                {
                                    "product_id": "P000000104",
                                    "product_name_eng": "RISOR Folding Screen",
                                    "category_name": "Furniture"
                                },
                                {
                                    "product_id": "P000000103",
                                    "product_name_eng": "NORDLI Room Partition",
                                    "category_name": "Furniture"
                                },
                                {
                                    "product_id": "P000000102",
                                    "product_name_eng": "VIDGA Hanging Panel",
                                    "category_name": "Furniture"
                                },
                                {
                                    "product_id": "P000000101",
                                    "product_name_eng": "KALLAX Room Divider",
                                    "category_name": "Furniture"
                                },
                                {
                                    "product_id": "P000001070",
                                    "product_name_eng": "Kallax Shelving Unit",
                                    "category_name": "Storage & organisation"
                                },
                                {
                                    "product_id": "P000001070",
                                    "product_name_eng": "Kallax Shelving Unit",
                                    "category_name": "Furniture"
                                },
                                {
                                    "product_id": "P000001069",
                                    "product_name_eng": "Svalnas Shelving Unit",
                                    "category_name": "Storage & organisation"
                                },
                                {
                                    "product_id": "P000001069",
                                    "product_name_eng": "Svalnas Shelving Unit",
                                    "category_name": "Furniture"
                                },
                                {
                                    "product_id": "P000001068",
                                    "product_name_eng": "String Shelving Unit",
                                    "category_name": "Storage & organisation"
                                },
                                {
                                    "product_id": "P000001068",
                                    "product_name_eng": "String Shelving Unit",
                                    "category_name": "Furniture"
                                },
                                {
                                    "product_id": "P000001067",
                                    "product_name_eng": "Lack Shelving Unit",
                                    "category_name": "Storage & organisation"
                                },
                                {
                                    "product_id": "P000001067",
                                    "product_name_eng": "Lack Shelving Unit",
                                    "category_name": "Furniture"
                                },
                                {
                                    "product_id": "P000001066",
                                    "product_name_eng": "Billy Shelving Unit",
                                    "category_name": "Storage & organisation"
                                },
                                {
                                    "product_id": "P000001066",
                                    "product_name_eng": "Billy Shelving Unit",
                                    "category_name": "Furniture"
                                },
                                {
                                    "product_id": "P000000150",
                                    "product_name_eng": "VARIERA Pot Lid Organizer",
                                    "category_name": "Kitchen Cabinets & Appliances"
                                },
                                {
                                    "product_id": "P000000149",
                                    "product_name_eng": "ALGOT Wall Shelf",
                                    "category_name": "Kitchen Cabinets & Appliances"
                                },
                                {
                                    "product_id": "P000000148",
                                    "product_name_eng": "FINTORP Rail",
                                    "category_name": "Kitchen Cabinets & Appliances"
                                },
                                {
                                    "product_id": "P000000147",
                                    "product_name_eng": "RIGGA Clothes Rack",
                                    "category_name": "Kitchen Cabinets & Appliances"
                                },
                                {
                                    "product_id": "P000000146",
                                    "product_name_eng": "SKOGSTA Wall Shelf",
                                    "category_name": "Kitchen Cabinets & Appliances"
                                },
                                {
                                    "product_id": "P000000145",
                                    "product_name_eng": "HEJNE Shelf Unit",
                                    "category_name": "Kitchen Cabinets & Appliances"
                                },
                                {
                                    "product_id": "P000000144",
                                    "product_name_eng": "MULIG Clothes Rack",
                                    "category_name": "Kitchen Cabinets & Appliances"
                                },
                                {
                                    "product_id": "P000000143",
                                    "product_name_eng": "RASKOG Utility Cart",
                                    "category_name": "Kitchen Cabinets & Appliances"
                                },
                                {
                                    "product_id": "P000000142",
                                    "product_name_eng": "HYLLIS Shelf",
                                    "category_name": "Kitchen Cabinets & Appliances"
                                },
                                {
                                    "product_id": "P000000141",
                                    "product_name_eng": "OMAR Shelving Unit",
                                    "category_name": "Kitchen Cabinets & Appliances"
                                },
                                {
                                    "product_id": "P000001394",
                                    "product_name_eng": "Snudda Dish Drainer",
                                    "category_name": "Kitchenware & Tableware"
                                },
                                {
                                    "product_id": "P000001394",
                                    "product_name_eng": "Snudda Dish Drainer",
                                    "category_name": "Laundry & cleaning"
                                },
                                {
                                    "product_id": "P000001393",
                                    "product_name_eng": "Rationel Dish Drainer",
                                    "category_name": "Kitchenware & Tableware"
                                },
                                {
                                    "product_id": "P000001393",
                                    "product_name_eng": "Rationel Dish Drainer",
                                    "category_name": "Laundry & cleaning"
                                },
                                {
                                    "product_id": "P000001392",
                                    "product_name_eng": "Hemnist Dish Drainer",
                                    "category_name": "Kitchenware & Tableware"
                                },
                                {
                                    "product_id": "P000001392",
                                    "product_name_eng": "Hemnist Dish Drainer",
                                    "category_name": "Laundry & cleaning"
                                },
                                {
                                    "product_id": "P000001391",
                                    "product_name_eng": "Variel Dish Drainer",
                                    "category_name": "Kitchenware & Tableware"
                                },
                                {
                                    "product_id": "P000001391",
                                    "product_name_eng": "Variel Dish Drainer",
                                    "category_name": "Laundry & cleaning"
                                },
                                {
                                    "product_id": "P000001390",
                                    "product_name_eng": "Ordning Dish Drainer",
                                    "category_name": "Kitchenware & Tableware"
                                },
                                {
                                    "product_id": "P000001390",
                                    "product_name_eng": "Ordning Dish Drainer",
                                    "category_name": "Laundry & cleaning"
                                },
                                {
                                    "product_id": "P000000745",
                                    "product_name_eng": "FORBATTRA Air Purifier",
                                    "category_name": "IKEA Home Smart"
                                },
                                {
                                    "product_id": "P000000744",
                                    "product_name_eng": "STARKVIND Air Purifier",
                                    "category_name": "IKEA Home Smart"
                                },
                                {
                                    "product_id": "P000000743",
                                    "product_name_eng": "VAXER Air Purifier",
                                    "category_name": "IKEA Home Smart"
                                },
                                {
                                    "product_id": "P000000742",
                                    "product_name_eng": "TRADFRI Air Purifier",
                                    "category_name": "IKEA Home Smart"
                                },
                                {
                                    "product_id": "P000000741",
                                    "product_name_eng": "FORNUFTIG Air Purifier",
                                    "category_name": "IKEA Home Smart"
                                },
                                {
                                    "product_id": "P000000740",
                                    "product_name_eng": "LUFTRENSA Air Purifier",
                                    "category_name": "IKEA Home Smart"
                                },
                                {
                                    "product_id": "P000001756",
                                    "product_name_eng": "Fixa Tool Kit",
                                    "category_name": "Home Improvement"
                                },
                                {
                                    "product_id": "P000001755",
                                    "product_name_eng": "Montor Tool Kit",
                                    "category_name": "Home Improvement"
                                },
                                {
                                    "product_id": "P000001754",
                                    "product_name_eng": "Snickra Tool Kit",
                                    "category_name": "Home Improvement"
                                },
                                {
                                    "product_id": "P000001753",
                                    "product_name_eng": "Huset Tool Kit",
                                    "category_name": "Home Improvement"
                                },
                                {
                                    "product_id": "P000001752",
                                    "product_name_eng": "Sastra Tool Kit",
                                    "category_name": "Home Improvement"
                                },
                                {
                                    "product_id": "P000001030",
                                    "product_name_eng": "Korken Scented Jar",
                                    "category_name": "Home Decoration"
                                },
                                {
                                    "product_id": "P000001029",
                                    "product_name_eng": "Sinnlig Scented Sticks",
                                    "category_name": "Home Decoration"
                                },
                                {
                                    "product_id": "P000001028",
                                    "product_name_eng": "Flammande Scented Candle",
                                    "category_name": "Home Decoration"
                                },
                                {
                                    "product_id": "P000001027",
                                    "product_name_eng": "Sinnlig Scented Candle",
                                    "category_name": "Home Decoration"
                                },
                                {
                                    "product_id": "P000001026",
                                    "product_name_eng": "Dofta Scented Candle",
                                    "category_name": "Home Decoration"
                                },
                                {
                                    "product_id": "P000000990",
                                    "product_name_eng": "Klasen Kitchen Trolley",
                                    "category_name": "Storage & organisation"
                                },
                                {
                                    "product_id": "P000000990",
                                    "product_name_eng": "Klasen Kitchen Trolley",
                                    "category_name": "Furniture"
                                },
                                {
                                    "product_id": "P000000183",
                                    "product_name_eng": "FLYTTA Kitchen Trolley",
                                    "category_name": "Storage & organisation"
                                },
                                {
                                    "product_id": "P000000183",
                                    "product_name_eng": "FLYTTA Kitchen Trolley",
                                    "category_name": "Furniture"
                                },
                                {
                                    "product_id": "P000000187",
                                    "product_name_eng": "KNARREVIK Kitchen Cart",
                                    "category_name": "Storage & organisation"
                                },
                                {
                                    "product_id": "P000000187",
                                    "product_name_eng": "KNARREVIK Kitchen Cart",
                                    "category_name": "Furniture"
                                },
                                {
                                    "product_id": "P000000989",
                                    "product_name_eng": "Raskog Trolley",
                                    "category_name": "Storage & organisation"
                                },
                                {
                                    "product_id": "P000000989",
                                    "product_name_eng": "Raskog Trolley",
                                    "category_name": "Furniture"
                                },
                                {
                                    "product_id": "P000000988",
                                    "product_name_eng": "Stenstorp Trolley",
                                    "category_name": "Storage & organisation"
                                },
                                {
                                    "product_id": "P000000988",
                                    "product_name_eng": "Stenstorp Trolley",
                                    "category_name": "Furniture"
                                },
                                {
                                    "product_id": "P000001537",
                                    "product_name_eng": "Alang Wall Lamp",
                                    "category_name": "Lighting, lamps & shades"
                                },
                                {
                                    "product_id": "P000001536",
                                    "product_name_eng": "Gyllen Wall Lamp",
                                    "category_name": "Lighting, lamps & shades"
                                },
                                {
                                    "product_id": "P000001535",
                                    "product_name_eng": "Sunne Wall Lamp",
                                    "category_name": "Lighting, lamps & shades"
                                },
                                {
                                    "product_id": "P000001534",
                                    "product_name_eng": "Ekby Wall Lamp",
                                    "category_name": "Lighting, lamps & shades"
                                },
                                {
                                    "product_id": "P000001533",
                                    "product_name_eng": "Ranarp Wall Lamp",
                                    "category_name": "Lighting, lamps & shades"
                                },
                                {
                                    "product_id": "P000001474",
                                    "product_name_eng": "Rissla Box",
                                    "category_name": "Home Decoration"
                                },
                                {
                                    "product_id": "P000001473",
                                    "product_name_eng": "Variera Box",
                                    "category_name": "Home Decoration"
                                },
                                {
                                    "product_id": "P000001472",
                                    "product_name_eng": "Frakta Box",
                                    "category_name": "Home Decoration"
                                },
                                {
                                    "product_id": "P000001471",
                                    "product_name_eng": "Forvaring Box",
                                    "category_name": "Home Decoration"
                                },
                                {
                                    "product_id": "P000001470",
                                    "product_name_eng": "Skubb Box",
                                    "category_name": "Home Decoration"
                                },
                                {
                                    "product_id": "P000000937",
                                    "product_name_eng": "Skovatten Down & Feather Pillow",
                                    "category_name": "Beds & Mattresses"
                                },
                                {
                                    "product_id": "P000000937",
                                    "product_name_eng": "Skovatten Down & Feather Pillow",
                                    "category_name": "Textiles"
                                },
                                {
                                    "product_id": "P000000936",
                                    "product_name_eng": "Badkaret Down & Feather Pillow",
                                    "category_name": "Beds & Mattresses"
                                },
                                {
                                    "product_id": "P000000936",
                                    "product_name_eng": "Badkaret Down & Feather Pillow",
                                    "category_name": "Textiles"
                                },
                                {
                                    "product_id": "P000000935",
                                    "product_name_eng": "Kornet Down & Feather Pillow",
                                    "category_name": "Beds & Mattresses"
                                },
                                {
                                    "product_id": "P000000935",
                                    "product_name_eng": "Kornet Down & Feather Pillow",
                                    "category_name": "Textiles"
                                },
                                {
                                    "product_id": "P000000934",
                                    "product_name_eng": "Tettrad Down & Feather Pillow",
                                    "category_name": "Beds & Mattresses"
                                },
                                {
                                    "product_id": "P000000934",
                                    "product_name_eng": "Tettrad Down & Feather Pillow",
                                    "category_name": "Textiles"
                                },
                                {
                                    "product_id": "P000000933",
                                    "product_name_eng": "Fjaerpalm Down & Feather Pillow",
                                    "category_name": "Beds & Mattresses"
                                },
                                {
                                    "product_id": "P000000933",
                                    "product_name_eng": "Fjaerpalm Down & Feather Pillow",
                                    "category_name": "Textiles"
                                },
                                {
                                    "product_id": "P000001209",
                                    "product_name_eng": "Gamlared Dining Table",
                                    "category_name": "Furniture"
                                },
                                {
                                    "product_id": "P000001209",
                                    "product_name_eng": "Gamlared Dining Table",
                                    "category_name": "Furniture"
                                },
                                {
                                    "product_id": "P000001208",
                                    "product_name_eng": "Norden Dining Table",
                                    "category_name": "Furniture"
                                },
                                {
                                    "product_id": "P000001208",
                                    "product_name_eng": "Norden Dining Table",
                                    "category_name": "Furniture"
                                },
                                {
                                    "product_id": "P000001207",
                                    "product_name_eng": "Melltorp Dining Table",
                                    "category_name": "Furniture"
                                },
                                {
                                    "product_id": "P000001207",
                                    "product_name_eng": "Melltorp Dining Table",
                                    "category_name": "Furniture"
                                },
                                {
                                    "product_id": "P000001206",
                                    "product_name_eng": "Lisabo Dining Table",
                                    "category_name": "Furniture"
                                },
                                {
                                    "product_id": "P000001206",
                                    "product_name_eng": "Lisabo Dining Table",
                                    "category_name": "Furniture"
                                },
                                {
                                    "product_id": "P000001205",
                                    "product_name_eng": "Ekedalen Dining Table",
                                    "category_name": "Furniture"
                                },
                                {
                                    "product_id": "P000001205",
                                    "product_name_eng": "Ekedalen Dining Table",
                                    "category_name": "Furniture"
                                },
                                {
                                    "product_id": "P000001349",
                                    "product_name_eng": "Viktigt Serving Dish",
                                    "category_name": "Kitchenware & Tableware"
                                },
                                {
                                    "product_id": "P000001348",
                                    "product_name_eng": "Fargrik Serving Dish",
                                    "category_name": "Kitchenware & Tableware"
                                },
                                {
                                    "product_id": "P000001347",
                                    "product_name_eng": "Blundar Serving Dish",
                                    "category_name": "Kitchenware & Tableware"
                                },
                                {
                                    "product_id": "P000001346",
                                    "product_name_eng": "Festmaltid Serving Dish",
                                    "category_name": "Kitchenware & Tableware"
                                },
                                {
                                    "product_id": "P000001345",
                                    "product_name_eng": "Vardagen Serving Dish",
                                    "category_name": "Kitchenware & Tableware"
                                },
                                {
                                    "product_id": "P000001334",
                                    "product_name_eng": "Blundar Plate",
                                    "category_name": "Kitchenware & Tableware"
                                },
                                {
                                    "product_id": "P000001333",
                                    "product_name_eng": "Vardagen Plate",
                                    "category_name": "Kitchenware & Tableware"
                                },
                                {
                                    "product_id": "P000001332",
                                    "product_name_eng": "Fargrik Plate",
                                    "category_name": "Kitchenware & Tableware"
                                },
                                {
                                    "product_id": "P000001331",
                                    "product_name_eng": "Ordning Plate",
                                    "category_name": "Kitchenware & Tableware"
                                },
                                {
                                    "product_id": "P000001330",
                                    "product_name_eng": "Variera Plate",
                                    "category_name": "Kitchenware & Tableware"
                                },
                                {
                                    "product_id": "P000001444",
                                    "product_name_eng": "Enhet Cup",
                                    "category_name": "Kitchenware & Tableware"
                                },
                                {
                                    "product_id": "P000001443",
                                    "product_name_eng": "Tiltalende Mug",
                                    "category_name": "Kitchenware & Tableware"
                                },
                                {
                                    "product_id": "P000001442",
                                    "product_name_eng": "Fargrik Mug",
                                    "category_name": "Kitchenware & Tableware"
                                },
                                {
                                    "product_id": "P000001441",
                                    "product_name_eng": "Kalas Cup",
                                    "category_name": "Kitchenware & Tableware"
                                },
                                {
                                    "product_id": "P000001440",
                                    "product_name_eng": "Duktig Mug",
                                    "category_name": "Kitchenware & Tableware"
                                },
                                {
                                    "product_id": "P000001429",
                                    "product_name_eng": "Vatten Tea Towel",
                                    "category_name": "Kitchenware & Tableware"
                                },
                                {
                                    "product_id": "P000001429",
                                    "product_name_eng": "Vatten Tea Towel",
                                    "category_name": "Textiles"
                                },
                                {
                                    "product_id": "P000001428",
                                    "product_name_eng": "Ryssby Tea Towel",
                                    "category_name": "Kitchenware & Tableware"
                                },
                                {
                                    "product_id": "P000001428",
                                    "product_name_eng": "Ryssby Tea Towel",
                                    "category_name": "Textiles"
                                },
                                {
                                    "product_id": "P000001427",
                                    "product_name_eng": "Lugn Tea Towel",
                                    "category_name": "Kitchenware & Tableware"
                                },
                                {
                                    "product_id": "P000001427",
                                    "product_name_eng": "Lugn Tea Towel",
                                    "category_name": "Textiles"
                                },
                                {
                                    "product_id": "P000001426",
                                    "product_name_eng": "Skyn Tea Towel",
                                    "category_name": "Kitchenware & Tableware"
                                },
                                {
                                    "product_id": "P000001426",
                                    "product_name_eng": "Skyn Tea Towel",
                                    "category_name": "Textiles"
                                },
                                {
                                    "product_id": "P000001425",
                                    "product_name_eng": "Mattrad Tea Towel",
                                    "category_name": "Kitchenware & Tableware"
                                },
                                {
                                    "product_id": "P000001425",
                                    "product_name_eng": "Mattrad Tea Towel",
                                    "category_name": "Textiles"
                                },
                                {
                                    "product_id": "P000001711",
                                    "product_name_eng": "Kollund Rug",
                                    "category_name": "Rugs, mats & flooring"
                                },
                                {
                                    "product_id": "P000001711",
                                    "product_name_eng": "Kollund Rug",
                                    "category_name": "Textiles"
                                },
                                {
                                    "product_id": "P000001710",
                                    "product_name_eng": "Ferle Rug",
                                    "category_name": "Rugs, mats & flooring"
                                },
                                {
                                    "product_id": "P000001710",
                                    "product_name_eng": "Ferle Rug",
                                    "category_name": "Textiles"
                                },
                                {
                                    "product_id": "P000001709",
                                    "product_name_eng": "Torup Rug",
                                    "category_name": "Rugs, mats & flooring"
                                },
                                {
                                    "product_id": "P000001709",
                                    "product_name_eng": "Torup Rug",
                                    "category_name": "Textiles"
                                },
                                {
                                    "product_id": "P000001708",
                                    "product_name_eng": "Hampen Rug",
                                    "category_name": "Rugs, mats & flooring"
                                },
                                {
                                    "product_id": "P000001708",
                                    "product_name_eng": "Hampen Rug",
                                    "category_name": "Textiles"
                                },
                                {
                                    "product_id": "P000001707",
                                    "product_name_eng": "Lobbak Rug",
                                    "category_name": "Rugs, mats & flooring"
                                },
                                {
                                    "product_id": "P000001707",
                                    "product_name_eng": "Lobbak Rug",
                                    "category_name": "Textiles"
                                },
                                {
                                    "product_id": "P000000762",
                                    "product_name_eng": "SVENSHULT Wall Shelf",
                                    "category_name": "Storage & organisation"
                                },
                                {
                                    "product_id": "P000000761",
                                    "product_name_eng": "MOSSLANDA Picture Ledge",
                                    "category_name": "Storage & organisation"
                                },
                                {
                                    "product_id": "P000000760",
                                    "product_name_eng": "HINDO Shelf Unit",
                                    "category_name": "Storage & organisation"
                                },
                                {
                                    "product_id": "P000000759",
                                    "product_name_eng": "EKET Cabinet with Shelf",
                                    "category_name": "Storage & organisation"
                                },
                                {
                                    "product_id": "P000000758",
                                    "product_name_eng": "GRANHULT Shelf",
                                    "category_name": "Storage & organisation"
                                },
                                {
                                    "product_id": "P000000757",
                                    "product_name_eng": "EKBY HEMNES Shelf",
                                    "category_name": "Storage & organisation"
                                },
                                {
                                    "product_id": "P000000756",
                                    "product_name_eng": "EKBY MOSSBY Shelf",
                                    "category_name": "Storage & organisation"
                                },
                                {
                                    "product_id": "P000000755",
                                    "product_name_eng": "EKBY VALTER Shelf",
                                    "category_name": "Storage & organisation"
                                },
                                {
                                    "product_id": "P000000754",
                                    "product_name_eng": "VITTSJO Shelf Unit",
                                    "category_name": "Storage & organisation"
                                },
                                {
                                    "product_id": "P000001284",
                                    "product_name_eng": "Bertil Cafe Chair",
                                    "category_name": "Furniture"
                                },
                                {
                                    "product_id": "P000001283",
                                    "product_name_eng": "Ingolf Cafe Chair",
                                    "category_name": "Furniture"
                                },
                                {
                                    "product_id": "P000001282",
                                    "product_name_eng": "Radviken Cafe Chair",
                                    "category_name": "Furniture"
                                },
                                {
                                    "product_id": "P000001281",
                                    "product_name_eng": "Frode Cafe Chair",
                                    "category_name": "Furniture"
                                },
                                {
                                    "product_id": "P000001280",
                                    "product_name_eng": "Nils Cafe Chair",
                                    "category_name": "Furniture"
                                },
                                {
                                    "product_id": "P000000947",
                                    "product_name_eng": "Tibast Room Darkening Curtain",
                                    "category_name": "Textiles"
                                },
                                {
                                    "product_id": "P000000946",
                                    "product_name_eng": "Alvine Spets Room Darkening Curtain",
                                    "category_name": "Textiles"
                                },
                                {
                                    "product_id": "P000000945",
                                    "product_name_eng": "Morgongava Room Darkening Curtain",
                                    "category_name": "Textiles"
                                },
                                {
                                    "product_id": "P000000944",
                                    "product_name_eng": "Majgull Room Darkening Curtain",
                                    "category_name": "Textiles"
                                },
                                {
                                    "product_id": "P000000943",
                                    "product_name_eng": "Emmie Ruta Room Darkening Curtain",
                                    "category_name": "Textiles"
                                },
                                {
                                    "product_id": "P000000917",
                                    "product_name_eng": "Maskros Ceiling Lamp",
                                    "category_name": "Lighting, lamps & shades"
                                },
                                {
                                    "product_id": "P000000916",
                                    "product_name_eng": "Vinter Ceiling Lamp",
                                    "category_name": "Lighting, lamps & shades"
                                },
                                {
                                    "product_id": "P000000915",
                                    "product_name_eng": "Vaster Ceiling Lamp",
                                    "category_name": "Lighting, lamps & shades"
                                },
                                {
                                    "product_id": "P000000914",
                                    "product_name_eng": "Skurup Ceiling Lamp",
                                    "category_name": "Lighting, lamps & shades"
                                },
                                {
                                    "product_id": "P000000913",
                                    "product_name_eng": "Tarvas Ceiling Lamp",
                                    "category_name": "Lighting, lamps & shades"
                                },
                                {
                                    "product_id": "P000001234",
                                    "product_name_eng": "Lappland Outdoor Dining",
                                    "category_name": "Furniture"
                                },
                                {
                                    "product_id": "P000001234",
                                    "product_name_eng": "Lappland Outdoor Dining",
                                    "category_name": "Outdoor products"
                                },
                                {
                                    "product_id": "P000001233",
                                    "product_name_eng": "Askholmen Outdoor Dining",
                                    "category_name": "Furniture"
                                },
                                {
                                    "product_id": "P000001233",
                                    "product_name_eng": "Askholmen Outdoor Dining",
                                    "category_name": "Outdoor products"
                                },
                                {
                                    "product_id": "P000001232",
                                    "product_name_eng": "Solleroen Outdoor Dining",
                                    "category_name": "Furniture"
                                },
                                {
                                    "product_id": "P000001232",
                                    "product_name_eng": "Solleroen Outdoor Dining",
                                    "category_name": "Outdoor products"
                                },
                                {
                                    "product_id": "P000001231",
                                    "product_name_eng": "Sandskar Outdoor Dining",
                                    "category_name": "Furniture"
                                },
                                {
                                    "product_id": "P000001231",
                                    "product_name_eng": "Sandskar Outdoor Dining",
                                    "category_name": "Outdoor products"
                                },
                                {
                                    "product_id": "P000001230",
                                    "product_name_eng": "Tarendo Outdoor Dining",
                                    "category_name": "Furniture"
                                },
                                {
                                    "product_id": "P000001230",
                                    "product_name_eng": "Tarendo Outdoor Dining",
                                    "category_name": "Outdoor products"
                                },
                                {
                                    "product_id": "P000001314",
                                    "product_name_eng": "Snudda Fridge",
                                    "category_name": "Kitchen Cabinets & Appliances"
                                },
                                {
                                    "product_id": "P000001314",
                                    "product_name_eng": "Snudda Fridge",
                                    "category_name": "Home Electronics"
                                },
                                {
                                    "product_id": "P000001313",
                                    "product_name_eng": "Inreda Fridge",
                                    "category_name": "Kitchen Cabinets & Appliances"
                                },
                                {
                                    "product_id": "P000001313",
                                    "product_name_eng": "Inreda Fridge",
                                    "category_name": "Home Electronics"
                                },
                                {
                                    "product_id": "P000001312",
                                    "product_name_eng": "Sidan Fridge",
                                    "category_name": "Kitchen Cabinets & Appliances"
                                },
                                {
                                    "product_id": "P000001312",
                                    "product_name_eng": "Sidan Fridge",
                                    "category_name": "Home Electronics"
                                },
                                {
                                    "product_id": "P000001311",
                                    "product_name_eng": "Anordna Fridge",
                                    "category_name": "Kitchen Cabinets & Appliances"
                                },
                                {
                                    "product_id": "P000001311",
                                    "product_name_eng": "Anordna Fridge",
                                    "category_name": "Home Electronics"
                                },
                                {
                                    "product_id": "P000001310",
                                    "product_name_eng": "Variera Fridge",
                                    "category_name": "Kitchen Cabinets & Appliances"
                                },
                                {
                                    "product_id": "P000001310",
                                    "product_name_eng": "Variera Fridge",
                                    "category_name": "Home Electronics"
                                },
                                {
                                    "product_id": "P000000563",
                                    "product_name_eng": "SOCKERBIT Watering Can",
                                    "category_name": "Pots & Plants"
                                },
                                {
                                    "product_id": "P000000562",
                                    "product_name_eng": "PSALM Watering Can",
                                    "category_name": "Pots & Plants"
                                },
                                {
                                    "product_id": "P000000561",
                                    "product_name_eng": "VATTENKRASSE Watering Can",
                                    "category_name": "Pots & Plants"
                                },
                                {
                                    "product_id": "P000000560",
                                    "product_name_eng": "SOCKER Watering Can",
                                    "category_name": "Pots & Plants"
                                },
                                {
                                    "product_id": "P000000559",
                                    "product_name_eng": "FORSIKTIG Watering Can",
                                    "category_name": "Pots & Plants"
                                },
                                {
                                    "product_id": "P000001691",
                                    "product_name_eng": "Botanisk Plant",
                                    "category_name": "Outdoor products"
                                },
                                {
                                    "product_id": "P000001690",
                                    "product_name_eng": "Florasund Plant",
                                    "category_name": "Outdoor products"
                                },
                                {
                                    "product_id": "P000001689",
                                    "product_name_eng": "Skurar Plant",
                                    "category_name": "Outdoor products"
                                },
                                {
                                    "product_id": "P000001688",
                                    "product_name_eng": "Granslo Plant",
                                    "category_name": "Outdoor products"
                                },
                                {
                                    "product_id": "P000001687",
                                    "product_name_eng": "Fejka Plant",
                                    "category_name": "Outdoor products"
                                },
                                {
                                    "product_id": "P000000827",
                                    "product_name_eng": "Lillhojden Desk Chair",
                                    "category_name": "Furniture"
                                },
                                {
                                    "product_id": "P000000826",
                                    "product_name_eng": "Hattefjall Desk Chair",
                                    "category_name": "Furniture"
                                },
                                {
                                    "product_id": "P000000825",
                                    "product_name_eng": "Jules Desk Chair",
                                    "category_name": "Furniture"
                                },
                                {
                                    "product_id": "P000000824",
                                    "product_name_eng": "Snille Desk Chair",
                                    "category_name": "Furniture"
                                },
                                {
                                    "product_id": "P000000823",
                                    "product_name_eng": "Renberget Desk Chair",
                                    "category_name": "Furniture"
                                },
                                {
                                    "product_id": "P000001179",
                                    "product_name_eng": "Ergo Gaming Chair",
                                    "category_name": "Furniture"
                                },
                                {
                                    "product_id": "P000001178",
                                    "product_name_eng": "Racer Gaming Chair",
                                    "category_name": "Furniture"
                                },
                                {
                                    "product_id": "P000001177",
                                    "product_name_eng": "Noblechairs Gaming Chair",
                                    "category_name": "Furniture"
                                },
                                {
                                    "product_id": "P000001176",
                                    "product_name_eng": "Fortnite Gaming Chair",
                                    "category_name": "Furniture"
                                },
                                {
                                    "product_id": "P000001175",
                                    "product_name_eng": "Academy Gaming Chair",
                                    "category_name": "Furniture"
                                },
                                {
                                    "product_id": "P000001399",
                                    "product_name_eng": "Magisk Dish Cloth",
                                    "category_name": "Kitchenware & Tableware"
                                },
                                {
                                    "product_id": "P000001399",
                                    "product_name_eng": "Magisk Dish Cloth",
                                    "category_name": "Laundry & cleaning"
                                },
                                {
                                    "product_id": "P000001398",
                                    "product_name_eng": "Korken Dish Cloth",
                                    "category_name": "Kitchenware & Tableware"
                                },
                                {
                                    "product_id": "P000001398",
                                    "product_name_eng": "Korken Dish Cloth",
                                    "category_name": "Laundry & cleaning"
                                },
                                {
                                    "product_id": "P000001397",
                                    "product_name_eng": "Skurita Dish Cloth",
                                    "category_name": "Kitchenware & Tableware"
                                },
                                {
                                    "product_id": "P000001397",
                                    "product_name_eng": "Skurita Dish Cloth",
                                    "category_name": "Laundry & cleaning"
                                },
                                {
                                    "product_id": "P000001396",
                                    "product_name_eng": "Radda Dish Cloth",
                                    "category_name": "Kitchenware & Tableware"
                                },
                                {
                                    "product_id": "P000001396",
                                    "product_name_eng": "Radda Dish Cloth",
                                    "category_name": "Laundry & cleaning"
                                },
                                {
                                    "product_id": "P000001395",
                                    "product_name_eng": "Vattnig Dish Cloth",
                                    "category_name": "Kitchenware & Tableware"
                                },
                                {
                                    "product_id": "P000001395",
                                    "product_name_eng": "Vattnig Dish Cloth",
                                    "category_name": "Laundry & cleaning"
                                },
                                {
                                    "product_id": "P000001646",
                                    "product_name_eng": "Siljan Vanity Mirror",
                                    "category_name": "Bathroom Products"
                                },
                                {
                                    "product_id": "P000001645",
                                    "product_name_eng": "Braviken Vanity Mirror",
                                    "category_name": "Bathroom Products"
                                },
                                {
                                    "product_id": "P000001644",
                                    "product_name_eng": "Lillangen Vanity Mirror",
                                    "category_name": "Bathroom Products"
                                },
                                {
                                    "product_id": "P000001643",
                                    "product_name_eng": "Godmorgon Vanity Mirror",
                                    "category_name": "Bathroom Products"
                                },
                                {
                                    "product_id": "P000001642",
                                    "product_name_eng": "Hemnes Vanity Mirror",
                                    "category_name": "Bathroom Products"
                                },
                                {
                                    "product_id": "P000001561",
                                    "product_name_eng": "Stugvik Cabinet Lighting",
                                    "category_name": "Lighting, lamps & shades"
                                },
                                {
                                    "product_id": "P000001561",
                                    "product_name_eng": "Stugvik Cabinet Lighting",
                                    "category_name": "Bathroom Products"
                                },
                                {
                                    "product_id": "P000001560",
                                    "product_name_eng": "Sundvik Cabinet Lighting",
                                    "category_name": "Lighting, lamps & shades"
                                },
                                {
                                    "product_id": "P000001560",
                                    "product_name_eng": "Sundvik Cabinet Lighting",
                                    "category_name": "Bathroom Products"
                                },
                                {
                                    "product_id": "P000001559",
                                    "product_name_eng": "Kolja Cabinet Lighting",
                                    "category_name": "Lighting, lamps & shades"
                                },
                                {
                                    "product_id": "P000001559",
                                    "product_name_eng": "Kolja Cabinet Lighting",
                                    "category_name": "Bathroom Products"
                                },
                                {
                                    "product_id": "P000001558",
                                    "product_name_eng": "Godmorgon Cabinet Lighting",
                                    "category_name": "Lighting, lamps & shades"
                                },
                                {
                                    "product_id": "P000001558",
                                    "product_name_eng": "Godmorgon Cabinet Lighting",
                                    "category_name": "Bathroom Products"
                                },
                                {
                                    "product_id": "P000001557",
                                    "product_name_eng": "Lillangen Cabinet Lighting",
                                    "category_name": "Lighting, lamps & shades"
                                },
                                {
                                    "product_id": "P000001557",
                                    "product_name_eng": "Lillangen Cabinet Lighting",
                                    "category_name": "Bathroom Products"
                                },
                                {
                                    "product_id": "P000001140",
                                    "product_name_eng": "Kubbis Hooks",
                                    "category_name": "Storage & organisation"
                                },
                                {
                                    "product_id": "P000001139",
                                    "product_name_eng": "Enudden Hooks",
                                    "category_name": "Storage & organisation"
                                },
                                {
                                    "product_id": "P000001138",
                                    "product_name_eng": "Ekby Hooks",
                                    "category_name": "Storage & organisation"
                                },
                                {
                                    "product_id": "P000001137",
                                    "product_name_eng": "Ljusnan Hooks",
                                    "category_name": "Storage & organisation"
                                },
                                {
                                    "product_id": "P000001136",
                                    "product_name_eng": "Grundtal Hooks",
                                    "category_name": "Storage & organisation"
                                },
                                {
                                    "product_id": "P000000787",
                                    "product_name_eng": "Knislinge Leather Sofa",
                                    "category_name": "Furniture"
                                },
                                {
                                    "product_id": "P000000786",
                                    "product_name_eng": "Morabo Leather Sofa",
                                    "category_name": "Furniture"
                                },
                                {
                                    "product_id": "P000000785",
                                    "product_name_eng": "Grann Leather Sofa",
                                    "category_name": "Furniture"
                                },
                                {
                                    "product_id": "P000000784",
                                    "product_name_eng": "Sater Leather Sofa",
                                    "category_name": "Furniture"
                                },
                                {
                                    "product_id": "P000000783",
                                    "product_name_eng": "Landskrona Leather Sofa",
                                    "category_name": "Furniture"
                                },
                                {
                                    "product_id": "P000001085",
                                    "product_name_eng": "Hemnes TV & Media Storage",
                                    "category_name": "Storage & organisation"
                                },
                                {
                                    "product_id": "P000001085",
                                    "product_name_eng": "Hemnes TV & Media Storage",
                                    "category_name": "Furniture"
                                },
                                {
                                    "product_id": "P000001084",
                                    "product_name_eng": "Kallax TV & Media Storage",
                                    "category_name": "Storage & organisation"
                                },
                                {
                                    "product_id": "P000001084",
                                    "product_name_eng": "Kallax TV & Media Storage",
                                    "category_name": "Furniture"
                                },
                                {
                                    "product_id": "P000001083",
                                    "product_name_eng": "Liatorp TV & Media Storage",
                                    "category_name": "Storage & organisation"
                                },
                                {
                                    "product_id": "P000001083",
                                    "product_name_eng": "Liatorp TV & Media Storage",
                                    "category_name": "Furniture"
                                },
                                {
                                    "product_id": "P000001082",
                                    "product_name_eng": "Brusali TV & Media Storage",
                                    "category_name": "Storage & organisation"
                                },
                                {
                                    "product_id": "P000001082",
                                    "product_name_eng": "Brusali TV & Media Storage",
                                    "category_name": "Furniture"
                                },
                                {
                                    "product_id": "P000001081",
                                    "product_name_eng": "Byas TV & Media Storage",
                                    "category_name": "Storage & organisation"
                                },
                                {
                                    "product_id": "P000001081",
                                    "product_name_eng": "Byas TV & Media Storage",
                                    "category_name": "Furniture"
                                },
                                {
                                    "product_id": "P000001080",
                                    "product_name_eng": "Brimnes Cabinet",
                                    "category_name": "Storage & organisation"
                                },
                                {
                                    "product_id": "P000001080",
                                    "product_name_eng": "Brimnes Cabinet",
                                    "category_name": "Furniture"
                                },
                                {
                                    "product_id": "P000001079",
                                    "product_name_eng": "Brusali Cabinet",
                                    "category_name": "Storage & organisation"
                                },
                                {
                                    "product_id": "P000001079",
                                    "product_name_eng": "Brusali Cabinet",
                                    "category_name": "Furniture"
                                },
                                {
                                    "product_id": "P000001078",
                                    "product_name_eng": "Fabrikor Cabinet",
                                    "category_name": "Storage & organisation"
                                },
                                {
                                    "product_id": "P000001078",
                                    "product_name_eng": "Fabrikor Cabinet",
                                    "category_name": "Furniture"
                                },
                                {
                                    "product_id": "P000001077",
                                    "product_name_eng": "Hemnes Cabinet",
                                    "category_name": "Storage & organisation"
                                },
                                {
                                    "product_id": "P000001077",
                                    "product_name_eng": "Hemnes Cabinet",
                                    "category_name": "Furniture"
                                },
                                {
                                    "product_id": "P000001076",
                                    "product_name_eng": "Liatorp Cabinet",
                                    "category_name": "Storage & organisation"
                                },
                                {
                                    "product_id": "P000001076",
                                    "product_name_eng": "Liatorp Cabinet",
                                    "category_name": "Furniture"
                                },
                                {
                                    "product_id": "P000001811",
                                    "product_name_eng": "Giraffig Bath Towel",
                                    "category_name": "Textiles"
                                },
                                {
                                    "product_id": "P000001810",
                                    "product_name_eng": "Himmelsk Bath Towel",
                                    "category_name": "Textiles"
                                },
                                {
                                    "product_id": "P000001809",
                                    "product_name_eng": "Kramig Bath Towel",
                                    "category_name": "Textiles"
                                },
                                {
                                    "product_id": "P000001808",
                                    "product_name_eng": "Laga Bath Towel",
                                    "category_name": "Textiles"
                                },
                                {
                                    "product_id": "P000001807",
                                    "product_name_eng": "Leka Bath Towel",
                                    "category_name": "Textiles"
                                },
                                {
                                    "product_id": "P000000977",
                                    "product_name_eng": "Betydlig Curtain Wire",
                                    "category_name": "Textiles"
                                },
                                {
                                    "product_id": "P000000976",
                                    "product_name_eng": "Kvartal Curtain Wire",
                                    "category_name": "Textiles"
                                },
                                {
                                    "product_id": "P000000975",
                                    "product_name_eng": "Riktig Curtain Wire",
                                    "category_name": "Textiles"
                                },
                                {
                                    "product_id": "P000000974",
                                    "product_name_eng": "Syrlig Curtain Wire",
                                    "category_name": "Textiles"
                                },
                                {
                                    "product_id": "P000000973",
                                    "product_name_eng": "Dignitet Curtain Wire",
                                    "category_name": "Textiles"
                                },
                                {
                                    "product_id": "P000001020",
                                    "product_name_eng": "Liatorp Napkins",
                                    "category_name": "Kitchenware & Tableware"
                                },
                                {
                                    "product_id": "P000001019",
                                    "product_name_eng": "Gullharo Napkin Holder",
                                    "category_name": "Kitchenware & Tableware"
                                },
                                {
                                    "product_id": "P000001018",
                                    "product_name_eng": "Vinter Napkins",
                                    "category_name": "Kitchenware & Tableware"
                                },
                                {
                                    "product_id": "P000001017",
                                    "product_name_eng": "Ofantlig Napkin Holder",
                                    "category_name": "Kitchenware & Tableware"
                                },
                                {
                                    "product_id": "P000001016",
                                    "product_name_eng": "Drommar Napkins",
                                    "category_name": "Kitchenware & Tableware"
                                },
                                {
                                    "product_id": "P000001611",
                                    "product_name_eng": "Hemnes Cot",
                                    "category_name": "Baby & Children"
                                },
                                {
                                    "product_id": "P000001610",
                                    "product_name_eng": "Hensvik Cot",
                                    "category_name": "Baby & Children"
                                },
                                {
                                    "product_id": "P000001609",
                                    "product_name_eng": "Leksvik Cot",
                                    "category_name": "Baby & Children"
                                },
                                {
                                    "product_id": "P000001608",
                                    "product_name_eng": "Gulliver Cot",
                                    "category_name": "Baby & Children"
                                },
                                {
                                    "product_id": "P000001607",
                                    "product_name_eng": "Sniglar Cot",
                                    "category_name": "Baby & Children"
                                },
                                {
                                    "product_id": "P000001000",
                                    "product_name_eng": "Eket Cabinet",
                                    "category_name": "Kitchen Cabinets & Appliances"
                                },
                                {
                                    "product_id": "P000000999",
                                    "product_name_eng": "Kungsbacka Cabinet",
                                    "category_name": "Kitchen Cabinets & Appliances"
                                },
                                {
                                    "product_id": "P000000998",
                                    "product_name_eng": "Sektion Cabinet",
                                    "category_name": "Kitchen Cabinets & Appliances"
                                },
                                {
                                    "product_id": "P000000997",
                                    "product_name_eng": "Metod Cabinet",
                                    "category_name": "Kitchen Cabinets & Appliances"
                                },
                                {
                                    "product_id": "P000000996",
                                    "product_name_eng": "Godmorgon Cabinet",
                                    "category_name": "Kitchen Cabinets & Appliances"
                                },
                                {
                                    "product_id": "P000000927",
                                    "product_name_eng": "Gullviva Down & Feather Duvet",
                                    "category_name": "Beds & Mattresses"
                                },
                                {
                                    "product_id": "P000000927",
                                    "product_name_eng": "Gullviva Down & Feather Duvet",
                                    "category_name": "Textiles"
                                },
                                {
                                    "product_id": "P000000926",
                                    "product_name_eng": "Sotvedel Down & Feather Duvet",
                                    "category_name": "Beds & Mattresses"
                                },
                                {
                                    "product_id": "P000000926",
                                    "product_name_eng": "Sotvedel Down & Feather Duvet",
                                    "category_name": "Textiles"
                                },
                                {
                                    "product_id": "P000000925",
                                    "product_name_eng": "Honsbar Down & Feather Duvet",
                                    "category_name": "Beds & Mattresses"
                                },
                                {
                                    "product_id": "P000000925",
                                    "product_name_eng": "Honsbar Down & Feather Duvet",
                                    "category_name": "Textiles"
                                },
                                {
                                    "product_id": "P000000924",
                                    "product_name_eng": "Varbracka Down & Feather Duvet",
                                    "category_name": "Beds & Mattresses"
                                },
                                {
                                    "product_id": "P000000924",
                                    "product_name_eng": "Varbracka Down & Feather Duvet",
                                    "category_name": "Textiles"
                                },
                                {
                                    "product_id": "P000000923",
                                    "product_name_eng": "Sonderod Down & Feather Duvet",
                                    "category_name": "Beds & Mattresses"
                                },
                                {
                                    "product_id": "P000000923",
                                    "product_name_eng": "Sonderod Down & Feather Duvet",
                                    "category_name": "Textiles"
                                },
                                {
                                    "product_id": "P000001239",
                                    "product_name_eng": "Vindals Sun Lounger",
                                    "category_name": "Furniture"
                                },
                                {
                                    "product_id": "P000001239",
                                    "product_name_eng": "Vindals Sun Lounger",
                                    "category_name": "Outdoor products"
                                },
                                {
                                    "product_id": "P000001238",
                                    "product_name_eng": "Sakarias Sun Lounger",
                                    "category_name": "Furniture"
                                },
                                {
                                    "product_id": "P000001238",
                                    "product_name_eng": "Sakarias Sun Lounger",
                                    "category_name": "Outdoor products"
                                },
                                {
                                    "product_id": "P000001237",
                                    "product_name_eng": "Hogsten Sun Lounger",
                                    "category_name": "Furniture"
                                },
                                {
                                    "product_id": "P000001237",
                                    "product_name_eng": "Hogsten Sun Lounger",
                                    "category_name": "Outdoor products"
                                },
                                {
                                    "product_id": "P000001236",
                                    "product_name_eng": "Lycksele Sun Lounger",
                                    "category_name": "Furniture"
                                },
                                {
                                    "product_id": "P000001236",
                                    "product_name_eng": "Lycksele Sun Lounger",
                                    "category_name": "Outdoor products"
                                },
                                {
                                    "product_id": "P000001235",
                                    "product_name_eng": "Grythyttan Sun Lounger",
                                    "category_name": "Furniture"
                                },
                                {
                                    "product_id": "P000001235",
                                    "product_name_eng": "Grythyttan Sun Lounger",
                                    "category_name": "Outdoor products"
                                },
                                {
                                    "product_id": "P000000307",
                                    "product_name_eng": "UPPDATERA Whiteboard",
                                    "category_name": "Home Decoration"
                                },
                                {
                                    "product_id": "P000000306",
                                    "product_name_eng": "VEMUND Whiteboard",
                                    "category_name": "Home Decoration"
                                },
                                {
                                    "product_id": "P000000305",
                                    "product_name_eng": "KLUDD Wall Organizer",
                                    "category_name": "Home Decoration"
                                },
                                {
                                    "product_id": "P000000304",
                                    "product_name_eng": "UPPDATERA Cork Board",
                                    "category_name": "Home Decoration"
                                },
                                {
                                    "product_id": "P000000303",
                                    "product_name_eng": "MATTEBY Whiteboard with Stand",
                                    "category_name": "Home Decoration"
                                },
                                {
                                    "product_id": "P000000302",
                                    "product_name_eng": "SOARE Corkboard",
                                    "category_name": "Home Decoration"
                                },
                                {
                                    "product_id": "P000000301",
                                    "product_name_eng": "MALA Chalkboard",
                                    "category_name": "Home Decoration"
                                },
                                {
                                    "product_id": "P000000300",
                                    "product_name_eng": "VEMUND Cork Board",
                                    "category_name": "Home Decoration"
                                },
                                {
                                    "product_id": "P000000299",
                                    "product_name_eng": "VEMUND Magnetic Board",
                                    "category_name": "Home Decoration"
                                },
                                {
                                    "product_id": "P000000298",
                                    "product_name_eng": "SPONTAN Magnetic Board",
                                    "category_name": "Home Decoration"
                                },
                                {
                                    "product_id": "P000000297",
                                    "product_name_eng": "KLUDD Chalkboard",
                                    "category_name": "Home Decoration"
                                },
                                {
                                    "product_id": "P000000296",
                                    "product_name_eng": "SKRIBENT Whiteboard",
                                    "category_name": "Home Decoration"
                                },
                                {
                                    "product_id": "P000000295",
                                    "product_name_eng": "MATTEBY Cork Board",
                                    "category_name": "Home Decoration"
                                },
                                {
                                    "product_id": "P000000294",
                                    "product_name_eng": "KLUDD Magnetic Board",
                                    "category_name": "Home Decoration"
                                },
                                {
                                    "product_id": "P000000293",
                                    "product_name_eng": "MATTEBY Whiteboard",
                                    "category_name": "Home Decoration"
                                },
                                {
                                    "product_id": "P000000292",
                                    "product_name_eng": "UPPDATERA Magnetic Board",
                                    "category_name": "Home Decoration"
                                },
                                {
                                    "product_id": "P000000291",
                                    "product_name_eng": "MATTEBY Pegboard",
                                    "category_name": "Home Decoration"
                                },
                                {
                                    "product_id": "P000000239",
                                    "product_name_eng": "DIODER LED Cabinet Light",
                                    "category_name": "Home Decoration"
                                },
                                {
                                    "product_id": "P000000290",
                                    "product_name_eng": "KLUDD Bulletin Board",
                                    "category_name": "Home Decoration"
                                },
                                {
                                    "product_id": "P000000289",
                                    "product_name_eng": "UPPDATERA Glass Board",
                                    "category_name": "Home Decoration"
                                },
                                {
                                    "product_id": "P000000288",
                                    "product_name_eng": "KLUDD Noticeboard",
                                    "category_name": "Home Decoration"
                                },
                                {
                                    "product_id": "P000000287",
                                    "product_name_eng": "MATTEBY Wall Organizer",
                                    "category_name": "Home Decoration"
                                },
                                {
                                    "product_id": "P000000286",
                                    "product_name_eng": "SOSDALA Memo Board",
                                    "category_name": "Home Decoration"
                                },
                                {
                                    "product_id": "P000000285",
                                    "product_name_eng": "MALA Easel",
                                    "category_name": "Home Decoration"
                                },
                                {
                                    "product_id": "P000000284",
                                    "product_name_eng": "SKADIS Pegboard",
                                    "category_name": "Home Decoration"
                                },
                                {
                                    "product_id": "P000000772",
                                    "product_name_eng": "SVALNAS Wall Bracket",
                                    "category_name": "Storage & organisation"
                                },
                                {
                                    "product_id": "P000000771",
                                    "product_name_eng": "EKET Wall-Mounted Bracket",
                                    "category_name": "Storage & organisation"
                                },
                                {
                                    "product_id": "P000000770",
                                    "product_name_eng": "HINDO Wall Bracket",
                                    "category_name": "Storage & organisation"
                                },
                                {
                                    "product_id": "P000000769",
                                    "product_name_eng": "EKET Cabinet with Bracket",
                                    "category_name": "Storage & organisation"
                                },
                                {
                                    "product_id": "P000000768",
                                    "product_name_eng": "EKBY VALTER Bracket",
                                    "category_name": "Storage & organisation"
                                },
                                {
                                    "product_id": "P000000767",
                                    "product_name_eng": "EKBY TORE Bracket",
                                    "category_name": "Storage & organisation"
                                },
                                {
                                    "product_id": "P000000766",
                                    "product_name_eng": "LACK Wall Bracket",
                                    "category_name": "Storage & organisation"
                                },
                                {
                                    "product_id": "P000000765",
                                    "product_name_eng": "EKBY STODIS Bracket",
                                    "category_name": "Storage & organisation"
                                },
                                {
                                    "product_id": "P000000764",
                                    "product_name_eng": "EKBY BJARNUM Bracket",
                                    "category_name": "Storage & organisation"
                                },
                                {
                                    "product_id": "P000000763",
                                    "product_name_eng": "EKBY LERBERG Bracket",
                                    "category_name": "Storage & organisation"
                                },
                                {
                                    "product_id": "P000001621",
                                    "product_name_eng": "Siljan Vanity Wash-Stand",
                                    "category_name": "Bathroom Products"
                                },
                                {
                                    "product_id": "P000001620",
                                    "product_name_eng": "Braviken Vanity Wash-Stand",
                                    "category_name": "Bathroom Products"
                                },
                                {
                                    "product_id": "P000001619",
                                    "product_name_eng": "Lillangen Vanity Wash-Stand",
                                    "category_name": "Bathroom Products"
                                },
                                {
                                    "product_id": "P000001618",
                                    "product_name_eng": "Godmorgon Vanity Wash-Stand",
                                    "category_name": "Bathroom Products"
                                },
                                {
                                    "product_id": "P000001617",
                                    "product_name_eng": "Hemnes Vanity Wash-Stand",
                                    "category_name": "Bathroom Products"
                                },
                                {
                                    "product_id": "P000001636",
                                    "product_name_eng": "Risatorp Basket",
                                    "category_name": "Bathroom Products"
                                },
                                {
                                    "product_id": "P000001636",
                                    "product_name_eng": "Risatorp Basket",
                                    "category_name": "Bathroom Products"
                                },
                                {
                                    "product_id": "P000001635",
                                    "product_name_eng": "Skoghall Box",
                                    "category_name": "Bathroom Products"
                                },
                                {
                                    "product_id": "P000001635",
                                    "product_name_eng": "Skoghall Box",
                                    "category_name": "Bathroom Products"
                                },
                                {
                                    "product_id": "P000001634",
                                    "product_name_eng": "Tjena Box",
                                    "category_name": "Bathroom Products"
                                },
                                {
                                    "product_id": "P000001634",
                                    "product_name_eng": "Tjena Box",
                                    "category_name": "Bathroom Products"
                                },
                                {
                                    "product_id": "P000001633",
                                    "product_name_eng": "Variera Box",
                                    "category_name": "Bathroom Products"
                                },
                                {
                                    "product_id": "P000001633",
                                    "product_name_eng": "Variera Box",
                                    "category_name": "Bathroom Products"
                                },
                                {
                                    "product_id": "P000001632",
                                    "product_name_eng": "Kvarnvik Box",
                                    "category_name": "Bathroom Products"
                                },
                                {
                                    "product_id": "P000001632",
                                    "product_name_eng": "Kvarnvik Box",
                                    "category_name": "Bathroom Products"
                                },
                                {
                                    "product_id": "P000001721",
                                    "product_name_eng": "Alvangen Underlay",
                                    "category_name": "Rugs, mats & flooring"
                                },
                                {
                                    "product_id": "P000001721",
                                    "product_name_eng": "Alvangen Underlay",
                                    "category_name": "Textiles"
                                },
                                {
                                    "product_id": "P000001720",
                                    "product_name_eng": "Valby Ruta Anti-Slip",
                                    "category_name": "Rugs, mats & flooring"
                                },
                                {
                                    "product_id": "P000001720",
                                    "product_name_eng": "Valby Ruta Anti-Slip",
                                    "category_name": "Textiles"
                                },
                                {
                                    "product_id": "P000001719",
                                    "product_name_eng": "Stopp Anti-Slip",
                                    "category_name": "Rugs, mats & flooring"
                                },
                                {
                                    "product_id": "P000001719",
                                    "product_name_eng": "Stopp Anti-Slip",
                                    "category_name": "Textiles"
                                },
                                {
                                    "product_id": "P000001718",
                                    "product_name_eng": "Patrull Anti-Slip",
                                    "category_name": "Rugs, mats & flooring"
                                },
                                {
                                    "product_id": "P000001718",
                                    "product_name_eng": "Patrull Anti-Slip",
                                    "category_name": "Textiles"
                                },
                                {
                                    "product_id": "P000001717",
                                    "product_name_eng": "Stopp Anti-Slip",
                                    "category_name": "Rugs, mats & flooring"
                                },
                                {
                                    "product_id": "P000001717",
                                    "product_name_eng": "Stopp Anti-Slip",
                                    "category_name": "Textiles"
                                },
                                {
                                    "product_id": "P000001532",
                                    "product_name_eng": "Lyndal Table Lamp",
                                    "category_name": "Lighting, lamps & shades"
                                },
                                {
                                    "product_id": "P000001531",
                                    "product_name_eng": "Sarita Table Lamp",
                                    "category_name": "Lighting, lamps & shades"
                                },
                                {
                                    "product_id": "P000001530",
                                    "product_name_eng": "Lunnom Table Lamp",
                                    "category_name": "Lighting, lamps & shades"
                                },
                                {
                                    "product_id": "P000001529",
                                    "product_name_eng": "Hektar Table Lamp",
                                    "category_name": "Lighting, lamps & shades"
                                },
                                {
                                    "product_id": "P000001528",
                                    "product_name_eng": "Lindshult Table Lamp",
                                    "category_name": "Lighting, lamps & shades"
                                },
                                {
                                    "product_id": "P000000209",
                                    "product_name_eng": "OSTERNAS Knob",
                                    "category_name": "Kitchen Cabinets & Appliances"
                                },
                                {
                                    "product_id": "P000000209",
                                    "product_name_eng": "OSTERNAS Knob",
                                    "category_name": "Home Improvement"
                                },
                                {
                                    "product_id": "P000000208",
                                    "product_name_eng": "GUBBARP Handle",
                                    "category_name": "Kitchen Cabinets & Appliances"
                                },
                                {
                                    "product_id": "P000000208",
                                    "product_name_eng": "GUBBARP Handle",
                                    "category_name": "Home Improvement"
                                },
                                {
                                    "product_id": "P000000207",
                                    "product_name_eng": "TYDA Knob",
                                    "category_name": "Kitchen Cabinets & Appliances"
                                },
                                {
                                    "product_id": "P000000207",
                                    "product_name_eng": "TYDA Knob",
                                    "category_name": "Home Improvement"
                                },
                                {
                                    "product_id": "P000000206",
                                    "product_name_eng": "BAGGANAS Knob",
                                    "category_name": "Kitchen Cabinets & Appliances"
                                },
                                {
                                    "product_id": "P000000206",
                                    "product_name_eng": "BAGGANAS Knob",
                                    "category_name": "Home Improvement"
                                },
                                {
                                    "product_id": "P000000205",
                                    "product_name_eng": "LANSA Knob",
                                    "category_name": "Kitchen Cabinets & Appliances"
                                },
                                {
                                    "product_id": "P000000205",
                                    "product_name_eng": "LANSA Knob",
                                    "category_name": "Home Improvement"
                                },
                                {
                                    "product_id": "P000000204",
                                    "product_name_eng": "FONNES Knob",
                                    "category_name": "Kitchen Cabinets & Appliances"
                                },
                                {
                                    "product_id": "P000000204",
                                    "product_name_eng": "FONNES Knob",
                                    "category_name": "Home Improvement"
                                },
                                {
                                    "product_id": "P000000203",
                                    "product_name_eng": "KOPPLA Knob",
                                    "category_name": "Kitchen Cabinets & Appliances"
                                },
                                {
                                    "product_id": "P000000203",
                                    "product_name_eng": "KOPPLA Knob",
                                    "category_name": "Home Improvement"
                                },
                                {
                                    "product_id": "P000000202",
                                    "product_name_eng": "ENERYDA Handle",
                                    "category_name": "Kitchen Cabinets & Appliances"
                                },
                                {
                                    "product_id": "P000000202",
                                    "product_name_eng": "ENERYDA Handle",
                                    "category_name": "Home Improvement"
                                },
                                {
                                    "product_id": "P000000201",
                                    "product_name_eng": "GUBBARP Knob",
                                    "category_name": "Kitchen Cabinets & Appliances"
                                },
                                {
                                    "product_id": "P000000201",
                                    "product_name_eng": "GUBBARP Knob",
                                    "category_name": "Home Improvement"
                                },
                                {
                                    "product_id": "P000000200",
                                    "product_name_eng": "MUSKAN Handle",
                                    "category_name": "Kitchen Cabinets & Appliances"
                                },
                                {
                                    "product_id": "P000000200",
                                    "product_name_eng": "MUSKAN Handle",
                                    "category_name": "Home Improvement"
                                },
                                {
                                    "product_id": "P000000199",
                                    "product_name_eng": "STALLARP Handle",
                                    "category_name": "Kitchen Cabinets & Appliances"
                                },
                                {
                                    "product_id": "P000000199",
                                    "product_name_eng": "STALLARP Handle",
                                    "category_name": "Home Improvement"
                                },
                                {
                                    "product_id": "P000000198",
                                    "product_name_eng": "OSTERNAS Handle",
                                    "category_name": "Kitchen Cabinets & Appliances"
                                },
                                {
                                    "product_id": "P000000198",
                                    "product_name_eng": "OSTERNAS Handle",
                                    "category_name": "Home Improvement"
                                },
                                {
                                    "product_id": "P000000197",
                                    "product_name_eng": "BAGGANAS Handle",
                                    "category_name": "Kitchen Cabinets & Appliances"
                                },
                                {
                                    "product_id": "P000000197",
                                    "product_name_eng": "BAGGANAS Handle",
                                    "category_name": "Home Improvement"
                                },
                                {
                                    "product_id": "P000000196",
                                    "product_name_eng": "HISHULT Knob",
                                    "category_name": "Kitchen Cabinets & Appliances"
                                },
                                {
                                    "product_id": "P000000196",
                                    "product_name_eng": "HISHULT Knob",
                                    "category_name": "Home Improvement"
                                },
                                {
                                    "product_id": "P000000195",
                                    "product_name_eng": "ENERYDA Knob",
                                    "category_name": "Kitchen Cabinets & Appliances"
                                },
                                {
                                    "product_id": "P000000195",
                                    "product_name_eng": "ENERYDA Knob",
                                    "category_name": "Home Improvement"
                                },
                                {
                                    "product_id": "P000000194",
                                    "product_name_eng": "TYSSEDAL Knob",
                                    "category_name": "Kitchen Cabinets & Appliances"
                                },
                                {
                                    "product_id": "P000000194",
                                    "product_name_eng": "TYSSEDAL Knob",
                                    "category_name": "Home Improvement"
                                },
                                {
                                    "product_id": "P000000193",
                                    "product_name_eng": "LANSA Handle",
                                    "category_name": "Kitchen Cabinets & Appliances"
                                },
                                {
                                    "product_id": "P000000193",
                                    "product_name_eng": "LANSA Handle",
                                    "category_name": "Home Improvement"
                                },
                                {
                                    "product_id": "P000000192",
                                    "product_name_eng": "FONNES Handle",
                                    "category_name": "Kitchen Cabinets & Appliances"
                                },
                                {
                                    "product_id": "P000000192",
                                    "product_name_eng": "FONNES Handle",
                                    "category_name": "Home Improvement"
                                },
                                {
                                    "product_id": "P000000191",
                                    "product_name_eng": "KOPPLA Handle",
                                    "category_name": "Kitchen Cabinets & Appliances"
                                },
                                {
                                    "product_id": "P000000191",
                                    "product_name_eng": "KOPPLA Handle",
                                    "category_name": "Home Improvement"
                                },
                                {
                                    "product_id": "P000000190",
                                    "product_name_eng": "TYDA Handle",
                                    "category_name": "Kitchen Cabinets & Appliances"
                                },
                                {
                                    "product_id": "P000000190",
                                    "product_name_eng": "TYDA Handle",
                                    "category_name": "Home Improvement"
                                },
                                {
                                    "product_id": "P000001771",
                                    "product_name_eng": "Mjolkort Blind",
                                    "category_name": "Textiles"
                                },
                                {
                                    "product_id": "P000001770",
                                    "product_name_eng": "Lindmon Blind",
                                    "category_name": "Textiles"
                                },
                                {
                                    "product_id": "P000001769",
                                    "product_name_eng": "Enje Blind",
                                    "category_name": "Textiles"
                                },
                                {
                                    "product_id": "P000001768",
                                    "product_name_eng": "Tupplur Blind",
                                    "category_name": "Textiles"
                                },
                                {
                                    "product_id": "P000001767",
                                    "product_name_eng": "Schottis Blind",
                                    "category_name": "Textiles"
                                },
                                {
                                    "product_id": "P000000357",
                                    "product_name_eng": "TJENA Box with Compartments",
                                    "category_name": "Home Decoration"
                                },
                                {
                                    "product_id": "P000000356",
                                    "product_name_eng": "PALLRA Mini Chest",
                                    "category_name": "Home Decoration"
                                },
                                {
                                    "product_id": "P000000355",
                                    "product_name_eng": "LACK Side Table",
                                    "category_name": "Home Decoration"
                                },
                                {
                                    "product_id": "P000000354",
                                    "product_name_eng": "KVISSLE Cable Management Box",
                                    "category_name": "Home Decoration"
                                },
                                {
                                    "product_id": "P000000353",
                                    "product_name_eng": "SAMMANHANG Display Box",
                                    "category_name": "Home Decoration"
                                },
                                {
                                    "product_id": "P000000352",
                                    "product_name_eng": "MOPPE Mini Chest of Drawers",
                                    "category_name": "Home Decoration"
                                },
                                {
                                    "product_id": "P000000351",
                                    "product_name_eng": "TROFAST Storage Combination",
                                    "category_name": "Home Decoration"
                                },
                                {
                                    "product_id": "P000000350",
                                    "product_name_eng": "KUGGIS Box with Handle",
                                    "category_name": "Home Decoration"
                                },
                                {
                                    "product_id": "P000000349",
                                    "product_name_eng": "KALLAX Shelf Unit",
                                    "category_name": "Home Decoration"
                                },
                                {
                                    "product_id": "P000000348",
                                    "product_name_eng": "SNIDAD Basket",
                                    "category_name": "Home Decoration"
                                },
                                {
                                    "product_id": "P000000347",
                                    "product_name_eng": "FISKBO Frame",
                                    "category_name": "Home Decoration"
                                },
                                {
                                    "product_id": "P000000346",
                                    "product_name_eng": "HAMPEN Rug",
                                    "category_name": "Home Decoration"
                                },
                                {
                                    "product_id": "P000000345",
                                    "product_name_eng": "ENEBY Portable Speaker",
                                    "category_name": "Home Decoration"
                                },
                                {
                                    "product_id": "P000000344",
                                    "product_name_eng": "MALM Desk",
                                    "category_name": "Home Decoration"
                                },
                                {
                                    "product_id": "P000000343",
                                    "product_name_eng": "KLAMMA Clip",
                                    "category_name": "Home Decoration"
                                },
                                {
                                    "product_id": "P000000342",
                                    "product_name_eng": "LACK Wall Shelf",
                                    "category_name": "Home Decoration"
                                },
                                {
                                    "product_id": "P000000341",
                                    "product_name_eng": "KVISSLE Desk Organizer",
                                    "category_name": "Home Decoration"
                                },
                                {
                                    "product_id": "P000000340",
                                    "product_name_eng": "SAMMANHANG Box Set",
                                    "category_name": "Home Decoration"
                                },
                                {
                                    "product_id": "P000000339",
                                    "product_name_eng": "OFELIA Throw",
                                    "category_name": "Home Decoration"
                                },
                                {
                                    "product_id": "P000000338",
                                    "product_name_eng": "BEVARA Sealing Bag",
                                    "category_name": "Home Decoration"
                                },
                                {
                                    "product_id": "P000000337",
                                    "product_name_eng": "VINTERFEST Gift Bag",
                                    "category_name": "Home Decoration"
                                },
                                {
                                    "product_id": "P000000336",
                                    "product_name_eng": "TJENA Magazine File",
                                    "category_name": "Home Decoration"
                                },
                                {
                                    "product_id": "P000000335",
                                    "product_name_eng": "PRICKIG Gift Bag",
                                    "category_name": "Home Decoration"
                                },
                                {
                                    "product_id": "P000000334",
                                    "product_name_eng": "JATTESTOR Storage Bag",
                                    "category_name": "Home Decoration"
                                },
                                {
                                    "product_id": "P000000333",
                                    "product_name_eng": "MOPPE Mini Storage Chest",
                                    "category_name": "Home Decoration"
                                },
                                {
                                    "product_id": "P000000332",
                                    "product_name_eng": "RASSLA Box with Compartments",
                                    "category_name": "Home Decoration"
                                },
                                {
                                    "product_id": "P000000331",
                                    "product_name_eng": "KUGGIS Box with Lid",
                                    "category_name": "Home Decoration"
                                },
                                {
                                    "product_id": "P000000330",
                                    "product_name_eng": "GODTAIG Gift Box",
                                    "category_name": "Home Decoration"
                                },
                                {
                                    "product_id": "P000000329",
                                    "product_name_eng": "TROFAST Storage Box",
                                    "category_name": "Home Decoration"
                                },
                                {
                                    "product_id": "P000000328",
                                    "product_name_eng": "FJALLA Desk Organizer",
                                    "category_name": "Home Decoration"
                                },
                                {
                                    "product_id": "P000001502",
                                    "product_name_eng": "Huber Standing Mirror",
                                    "category_name": "Home Decoration"
                                },
                                {
                                    "product_id": "P000001501",
                                    "product_name_eng": "Knapper Standing Mirror",
                                    "category_name": "Home Decoration"
                                },
                                {
                                    "product_id": "P000001500",
                                    "product_name_eng": "Stave Standing Mirror",
                                    "category_name": "Home Decoration"
                                },
                                {
                                    "product_id": "P000001499",
                                    "product_name_eng": "Nissedal Standing Mirror",
                                    "category_name": "Home Decoration"
                                },
                                {
                                    "product_id": "P000001498",
                                    "product_name_eng": "Ikea Ps Standing Mirror",
                                    "category_name": "Home Decoration"
                                },
                                {
                                    "product_id": "P000000982",
                                    "product_name_eng": "Marjun Curtain Bracket",
                                    "category_name": "Textiles"
                                },
                                {
                                    "product_id": "P000000981",
                                    "product_name_eng": "Attiy Curtain Bracket",
                                    "category_name": "Textiles"
                                },
                                {
                                    "product_id": "P000000980",
                                    "product_name_eng": "Betsoende Curtain Bracket",
                                    "category_name": "Textiles"
                                },
                                {
                                    "product_id": "P000000979",
                                    "product_name_eng": "Hugad Curtain Bracket",
                                    "category_name": "Textiles"
                                },
                                {
                                    "product_id": "P000000978",
                                    "product_name_eng": "Racka Curtain Bracket",
                                    "category_name": "Textiles"
                                },
                                {
                                    "product_id": "P000001566",
                                    "product_name_eng": "Haljarp Ceiling Light",
                                    "category_name": "Lighting, lamps & shades"
                                },
                                {
                                    "product_id": "P000001566",
                                    "product_name_eng": "Haljarp Ceiling Light",
                                    "category_name": "Bathroom Products"
                                },
                                {
                                    "product_id": "P000001565",
                                    "product_name_eng": "Ensta Ceiling Light",
                                    "category_name": "Lighting, lamps & shades"
                                },
                                {
                                    "product_id": "P000001565",
                                    "product_name_eng": "Ensta Ceiling Light",
                                    "category_name": "Bathroom Products"
                                },
                                {
                                    "product_id": "P000001564",
                                    "product_name_eng": "Klovsjo Ceiling Light",
                                    "category_name": "Lighting, lamps & shades"
                                },
                                {
                                    "product_id": "P000001564",
                                    "product_name_eng": "Klovsjo Ceiling Light",
                                    "category_name": "Bathroom Products"
                                },
                                {
                                    "product_id": "P000001563",
                                    "product_name_eng": "Ekorrn Ceiling Light",
                                    "category_name": "Lighting, lamps & shades"
                                },
                                {
                                    "product_id": "P000001563",
                                    "product_name_eng": "Ekorrn Ceiling Light",
                                    "category_name": "Bathroom Products"
                                },
                                {
                                    "product_id": "P000001562",
                                    "product_name_eng": "Tradfri Ceiling Light",
                                    "category_name": "Lighting, lamps & shades"
                                },
                                {
                                    "product_id": "P000001562",
                                    "product_name_eng": "Tradfri Ceiling Light",
                                    "category_name": "Bathroom Products"
                                },
                                {
                                    "product_id": "P000000469",
                                    "product_name_eng": "GIMSE Bed with Mattress",
                                    "category_name": "Beds & Mattresses"
                                },
                                {
                                    "product_id": "P000000468",
                                    "product_name_eng": "FLOKENES Bed with Mattress",
                                    "category_name": "Beds & Mattresses"
                                },
                                {
                                    "product_id": "P000000467",
                                    "product_name_eng": "KOPARDAL Bed with Mattress",
                                    "category_name": "Beds & Mattresses"
                                },
                                {
                                    "product_id": "P000000466",
                                    "product_name_eng": "BRYGGJA Bed with Mattress",
                                    "category_name": "Beds & Mattresses"
                                },
                                {
                                    "product_id": "P000000465",
                                    "product_name_eng": "BJURSTA Bed with Mattress",
                                    "category_name": "Beds & Mattresses"
                                },
                                {
                                    "product_id": "P000000464",
                                    "product_name_eng": "TARVA Bed with Mattress",
                                    "category_name": "Beds & Mattresses"
                                },
                                {
                                    "product_id": "P000000463",
                                    "product_name_eng": "NYHAMN Bed with Mattress",
                                    "category_name": "Beds & Mattresses"
                                },
                                {
                                    "product_id": "P000000462",
                                    "product_name_eng": "NEIDEN Bed with Mattress",
                                    "category_name": "Beds & Mattresses"
                                },
                                {
                                    "product_id": "P000000461",
                                    "product_name_eng": "OPPLAND Bed with Mattress",
                                    "category_name": "Beds & Mattresses"
                                },
                                {
                                    "product_id": "P000000460",
                                    "product_name_eng": "SONGESAND Bed with Mattress",
                                    "category_name": "Beds & Mattresses"
                                },
                                {
                                    "product_id": "P000001055",
                                    "product_name_eng": "Storavan Speaker",
                                    "category_name": "Home Electronics"
                                },
                                {
                                    "product_id": "P000001054",
                                    "product_name_eng": "Tradfri Speaker",
                                    "category_name": "Home Electronics"
                                },
                                {
                                    "product_id": "P000001053",
                                    "product_name_eng": "Braven Speaker",
                                    "category_name": "Home Electronics"
                                },
                                {
                                    "product_id": "P000001052",
                                    "product_name_eng": "Symfonisk Speaker",
                                    "category_name": "Home Electronics"
                                },
                                {
                                    "product_id": "P000001051",
                                    "product_name_eng": "Eneby Speaker",
                                    "category_name": "Home Electronics"
                                },
                                {
                                    "product_id": "P000001135",
                                    "product_name_eng": "Enetri Wall Shelf",
                                    "category_name": "Storage & organisation"
                                },
                                {
                                    "product_id": "P000001134",
                                    "product_name_eng": "Ljusnan Wall Shelf",
                                    "category_name": "Storage & organisation"
                                },
                                {
                                    "product_id": "P000001133",
                                    "product_name_eng": "Grundtal Wall Shelf",
                                    "category_name": "Storage & organisation"
                                },
                                {
                                    "product_id": "P000001132",
                                    "product_name_eng": "Ekby Wall Shelf",
                                    "category_name": "Storage & organisation"
                                },
                                {
                                    "product_id": "P000001131",
                                    "product_name_eng": "Lack Wall Shelf",
                                    "category_name": "Storage & organisation"
                                },
                                {
                                    "product_id": "P000001686",
                                    "product_name_eng": "Langholmen Barbecue",
                                    "category_name": "Outdoor products"
                                },
                                {
                                    "product_id": "P000001685",
                                    "product_name_eng": "Aspudden Barbecue",
                                    "category_name": "Outdoor products"
                                },
                                {
                                    "product_id": "P000001684",
                                    "product_name_eng": "Hogstorp Barbecue",
                                    "category_name": "Outdoor products"
                                },
                                {
                                    "product_id": "P000001683",
                                    "product_name_eng": "Sommar Barbecue",
                                    "category_name": "Outdoor products"
                                },
                                {
                                    "product_id": "P000001682",
                                    "product_name_eng": "Mangal Barbecue",
                                    "category_name": "Outdoor products"
                                },
                                {
                                    "product_id": "P000000967",
                                    "product_name_eng": "Hoppvals Roller Blind",
                                    "category_name": "Textiles"
                                },
                                {
                                    "product_id": "P000000966",
                                    "product_name_eng": "Fyrtur Roller Blind",
                                    "category_name": "Textiles"
                                },
                                {
                                    "product_id": "P000000965",
                                    "product_name_eng": "Skogsklover Roller Blind",
                                    "category_name": "Textiles"
                                },
                                {
                                    "product_id": "P000000964",
                                    "product_name_eng": "Tupplur Roller Blind",
                                    "category_name": "Textiles"
                                },
                                {
                                    "product_id": "P000000963",
                                    "product_name_eng": "Enje Roller Blind",
                                    "category_name": "Textiles"
                                },
                                {
                                    "product_id": "P000001329",
                                    "product_name_eng": "Dinera Bowl",
                                    "category_name": "Kitchenware & Tableware"
                                },
                                {
                                    "product_id": "P000001328",
                                    "product_name_eng": "Blundar Bowl",
                                    "category_name": "Kitchenware & Tableware"
                                },
                                {
                                    "product_id": "P000001327",
                                    "product_name_eng": "Vardagen Bowl",
                                    "category_name": "Kitchenware & Tableware"
                                },
                                {
                                    "product_id": "P000001326",
                                    "product_name_eng": "Enhet Bowl",
                                    "category_name": "Kitchenware & Tableware"
                                },
                                {
                                    "product_id": "P000001325",
                                    "product_name_eng": "Ordning Bowl",
                                    "category_name": "Kitchenware & Tableware"
                                },
                                {
                                    "product_id": "P000001591",
                                    "product_name_eng": "Husvika Spring Mattress",
                                    "category_name": "Beds & Mattresses"
                                },
                                {
                                    "product_id": "P000001590",
                                    "product_name_eng": "Hokkasen Spring Mattress",
                                    "category_name": "Beds & Mattresses"
                                },
                                {
                                    "product_id": "P000001589",
                                    "product_name_eng": "Hafslo Spring Mattress",
                                    "category_name": "Beds & Mattresses"
                                },
                                {
                                    "product_id": "P000001588",
                                    "product_name_eng": "Matrand Spring Mattress",
                                    "category_name": "Beds & Mattresses"
                                },
                                {
                                    "product_id": "P000001587",
                                    "product_name_eng": "Myrbacka Spring Mattress",
                                    "category_name": "Beds & Mattresses"
                                },
                                {
                                    "product_id": "P000000719",
                                    "product_name_eng": "OFTAST Scarf",
                                    "category_name": "Textiles"
                                },
                                {
                                    "product_id": "P000000718",
                                    "product_name_eng": "GLIMRANDE Bag",
                                    "category_name": "Textiles"
                                },
                                {
                                    "product_id": "P000000717",
                                    "product_name_eng": "SJALVSTANDIG Poncho",
                                    "category_name": "Textiles"
                                },
                                {
                                    "product_id": "P000000716",
                                    "product_name_eng": "LUSTIGKURRE Tote Bag",
                                    "category_name": "Textiles"
                                },
                                {
                                    "product_id": "P000000715",
                                    "product_name_eng": "NORRARYD Belt",
                                    "category_name": "Textiles"
                                },
                                {
                                    "product_id": "P000000714",
                                    "product_name_eng": "LORDAG Bag",
                                    "category_name": "Textiles"
                                },
                                {
                                    "product_id": "P000000713",
                                    "product_name_eng": "TROJA Tote Bag",
                                    "category_name": "Textiles"
                                },
                                {
                                    "product_id": "P000000712",
                                    "product_name_eng": "BOTTNA Bag",
                                    "category_name": "Textiles"
                                },
                                {
                                    "product_id": "P000000711",
                                    "product_name_eng": "KALLA Hat",
                                    "category_name": "Textiles"
                                },
                                {
                                    "product_id": "P000000710",
                                    "product_name_eng": "KALLSINNE Scarf",
                                    "category_name": "Textiles"
                                },
                                {
                                    "product_id": "P000001786",
                                    "product_name_eng": "Blandbar Pillow",
                                    "category_name": "Textiles"
                                },
                                {
                                    "product_id": "P000001785",
                                    "product_name_eng": "Kramig Duvet",
                                    "category_name": "Textiles"
                                },
                                {
                                    "product_id": "P000001784",
                                    "product_name_eng": "Turkos Duvet",
                                    "category_name": "Textiles"
                                },
                                {
                                    "product_id": "P000001783",
                                    "product_name_eng": "Klappa Duvet",
                                    "category_name": "Textiles"
                                },
                                {
                                    "product_id": "P000001782",
                                    "product_name_eng": "Kofta Duvet",
                                    "category_name": "Textiles"
                                },
                                {
                                    "product_id": "P000001479",
                                    "product_name_eng": "Hoja Basket",
                                    "category_name": "Home Decoration"
                                },
                                {
                                    "product_id": "P000001478",
                                    "product_name_eng": "Kuggis Basket",
                                    "category_name": "Home Decoration"
                                },
                                {
                                    "product_id": "P000001477",
                                    "product_name_eng": "Brana Basket",
                                    "category_name": "Home Decoration"
                                },
                                {
                                    "product_id": "P000001476",
                                    "product_name_eng": "Gaddis Basket",
                                    "category_name": "Home Decoration"
                                },
                                {
                                    "product_id": "P000001475",
                                    "product_name_eng": "Knipsa Basket",
                                    "category_name": "Home Decoration"
                                },
                                {
                                    "product_id": "P000001661",
                                    "product_name_eng": "Vandring Shower Curtain",
                                    "category_name": "Bathroom Products"
                                },
                                {
                                    "product_id": "P000001661",
                                    "product_name_eng": "Vandring Shower Curtain",
                                    "category_name": "Textiles"
                                },
                                {
                                    "product_id": "P000001661",
                                    "product_name_eng": "Vandring Shower Curtain",
                                    "category_name": "Bathroom Products"
                                },
                                {
                                    "product_id": "P000001660",
                                    "product_name_eng": "Riksby Shower Curtain",
                                    "category_name": "Bathroom Products"
                                },
                                {
                                    "product_id": "P000001660",
                                    "product_name_eng": "Riksby Shower Curtain",
                                    "category_name": "Textiles"
                                },
                                {
                                    "product_id": "P000001660",
                                    "product_name_eng": "Riksby Shower Curtain",
                                    "category_name": "Bathroom Products"
                                },
                                {
                                    "product_id": "P000001659",
                                    "product_name_eng": "Ransby Shower Curtain",
                                    "category_name": "Bathroom Products"
                                },
                                {
                                    "product_id": "P000001659",
                                    "product_name_eng": "Ransby Shower Curtain",
                                    "category_name": "Textiles"
                                },
                                {
                                    "product_id": "P000001659",
                                    "product_name_eng": "Ransby Shower Curtain",
                                    "category_name": "Bathroom Products"
                                },
                                {
                                    "product_id": "P000001658",
                                    "product_name_eng": "Aggersund Shower Curtain",
                                    "category_name": "Bathroom Products"
                                },
                                {
                                    "product_id": "P000001658",
                                    "product_name_eng": "Aggersund Shower Curtain",
                                    "category_name": "Textiles"
                                },
                                {
                                    "product_id": "P000001658",
                                    "product_name_eng": "Aggersund Shower Curtain",
                                    "category_name": "Bathroom Products"
                                },
                                {
                                    "product_id": "P000001657",
                                    "product_name_eng": "Sagolik Shower Curtain",
                                    "category_name": "Bathroom Products"
                                },
                                {
                                    "product_id": "P000001657",
                                    "product_name_eng": "Sagolik Shower Curtain",
                                    "category_name": "Textiles"
                                },
                                {
                                    "product_id": "P000001657",
                                    "product_name_eng": "Sagolik Shower Curtain",
                                    "category_name": "Bathroom Products"
                                },
                                {
                                    "product_id": "P000001666",
                                    "product_name_eng": "Molger Shower Head",
                                    "category_name": "Bathroom Products"
                                },
                                {
                                    "product_id": "P000001665",
                                    "product_name_eng": "Braviken Shower Head",
                                    "category_name": "Bathroom Products"
                                },
                                {
                                    "product_id": "P000001664",
                                    "product_name_eng": "Hamnskar Shower Head",
                                    "category_name": "Bathroom Products"
                                },
                                {
                                    "product_id": "P000001663",
                                    "product_name_eng": "Vattudalen Shower Head",
                                    "category_name": "Bathroom Products"
                                },
                                {
                                    "product_id": "P000001662",
                                    "product_name_eng": "Molger Shower Head",
                                    "category_name": "Bathroom Products"
                                },
                                {
                                    "product_id": "P000001404",
                                    "product_name_eng": "Dracula Children's Cutlery",
                                    "category_name": "Kitchenware & Tableware"
                                },
                                {
                                    "product_id": "P000001403",
                                    "product_name_eng": "Byholma Children's Cutlery",
                                    "category_name": "Kitchenware & Tableware"
                                },
                                {
                                    "product_id": "P000001402",
                                    "product_name_eng": "Glitterheim Children's Cutlery",
                                    "category_name": "Kitchenware & Tableware"
                                },
                                {
                                    "product_id": "P000001401",
                                    "product_name_eng": "Kalas Children's Cutlery",
                                    "category_name": "Kitchenware & Tableware"
                                },
                                {
                                    "product_id": "P000001400",
                                    "product_name_eng": "Smaska Children's Cutlery",
                                    "category_name": "Kitchenware & Tableware"
                                },
                                {
                                    "product_id": "P000001576",
                                    "product_name_eng": "Ofelia Quilt",
                                    "category_name": "Beds & Mattresses"
                                },
                                {
                                    "product_id": "P000001576",
                                    "product_name_eng": "Ofelia Quilt",
                                    "category_name": "Textiles"
                                },
                                {
                                    "product_id": "P000001575",
                                    "product_name_eng": "Oktagon Quilt",
                                    "category_name": "Beds & Mattresses"
                                },
                                {
                                    "product_id": "P000001575",
                                    "product_name_eng": "Oktagon Quilt",
                                    "category_name": "Textiles"
                                },
                                {
                                    "product_id": "P000001574",
                                    "product_name_eng": "Blavinda Quilt",
                                    "category_name": "Beds & Mattresses"
                                },
                                {
                                    "product_id": "P000001574",
                                    "product_name_eng": "Blavinda Quilt",
                                    "category_name": "Textiles"
                                },
                                {
                                    "product_id": "P000001573",
                                    "product_name_eng": "Angsvide Quilt",
                                    "category_name": "Beds & Mattresses"
                                },
                                {
                                    "product_id": "P000001573",
                                    "product_name_eng": "Angsvide Quilt",
                                    "category_name": "Textiles"
                                },
                                {
                                    "product_id": "P000001572",
                                    "product_name_eng": "Grusblad Quilt",
                                    "category_name": "Beds & Mattresses"
                                },
                                {
                                    "product_id": "P000001572",
                                    "product_name_eng": "Grusblad Quilt",
                                    "category_name": "Textiles"
                                },
                                {
                                    "product_id": "P000000518",
                                    "product_name_eng": "UTLANGAN Flooring",
                                    "category_name": "Outdoor products"
                                },
                                {
                                    "product_id": "P000000518",
                                    "product_name_eng": "UTLANGAN Flooring",
                                    "category_name": "Rugs, mats & flooring"
                                },
                                {
                                    "product_id": "P000000518",
                                    "product_name_eng": "UTLANGAN Flooring",
                                    "category_name": "Home Improvement"
                                },
                                {
                                    "product_id": "P000000517",
                                    "product_name_eng": "RUGG Flooring",
                                    "category_name": "Outdoor products"
                                },
                                {
                                    "product_id": "P000000517",
                                    "product_name_eng": "RUGG Flooring",
                                    "category_name": "Rugs, mats & flooring"
                                },
                                {
                                    "product_id": "P000000517",
                                    "product_name_eng": "RUGG Flooring",
                                    "category_name": "Home Improvement"
                                },
                                {
                                    "product_id": "P000000516",
                                    "product_name_eng": "JAMENVATTEN Rug",
                                    "category_name": "Outdoor products"
                                },
                                {
                                    "product_id": "P000000516",
                                    "product_name_eng": "JAMENVATTEN Rug",
                                    "category_name": "Rugs, mats & flooring"
                                },
                                {
                                    "product_id": "P000000516",
                                    "product_name_eng": "JAMENVATTEN Rug",
                                    "category_name": "Home Improvement"
                                },
                                {
                                    "product_id": "P000000515",
                                    "product_name_eng": "LAKESLATTN Flooring",
                                    "category_name": "Outdoor products"
                                },
                                {
                                    "product_id": "P000000515",
                                    "product_name_eng": "LAKESLATTN Flooring",
                                    "category_name": "Rugs, mats & flooring"
                                },
                                {
                                    "product_id": "P000000515",
                                    "product_name_eng": "LAKESLATTN Flooring",
                                    "category_name": "Home Improvement"
                                },
                                {
                                    "product_id": "P000000514",
                                    "product_name_eng": "TUNDRA Flooring",
                                    "category_name": "Outdoor products"
                                },
                                {
                                    "product_id": "P000000514",
                                    "product_name_eng": "TUNDRA Flooring",
                                    "category_name": "Rugs, mats & flooring"
                                },
                                {
                                    "product_id": "P000000514",
                                    "product_name_eng": "TUNDRA Flooring",
                                    "category_name": "Home Improvement"
                                },
                                {
                                    "product_id": "P000000513",
                                    "product_name_eng": "HOVSLUND Rug",
                                    "category_name": "Outdoor products"
                                },
                                {
                                    "product_id": "P000000513",
                                    "product_name_eng": "HOVSLUND Rug",
                                    "category_name": "Rugs, mats & flooring"
                                },
                                {
                                    "product_id": "P000000513",
                                    "product_name_eng": "HOVSLUND Rug",
                                    "category_name": "Home Improvement"
                                },
                                {
                                    "product_id": "P000000512",
                                    "product_name_eng": "TUNDRA Flooring",
                                    "category_name": "Outdoor products"
                                },
                                {
                                    "product_id": "P000000512",
                                    "product_name_eng": "TUNDRA Flooring",
                                    "category_name": "Rugs, mats & flooring"
                                },
                                {
                                    "product_id": "P000000512",
                                    "product_name_eng": "TUNDRA Flooring",
                                    "category_name": "Home Improvement"
                                },
                                {
                                    "product_id": "P000000511",
                                    "product_name_eng": "APTITLIG Decking",
                                    "category_name": "Outdoor products"
                                },
                                {
                                    "product_id": "P000000511",
                                    "product_name_eng": "APTITLIG Decking",
                                    "category_name": "Rugs, mats & flooring"
                                },
                                {
                                    "product_id": "P000000511",
                                    "product_name_eng": "APTITLIG Decking",
                                    "category_name": "Home Improvement"
                                },
                                {
                                    "product_id": "P000000510",
                                    "product_name_eng": "KOLDBY Cowhide",
                                    "category_name": "Outdoor products"
                                },
                                {
                                    "product_id": "P000000510",
                                    "product_name_eng": "KOLDBY Cowhide",
                                    "category_name": "Rugs, mats & flooring"
                                },
                                {
                                    "product_id": "P000000510",
                                    "product_name_eng": "KOLDBY Cowhide",
                                    "category_name": "Home Improvement"
                                },
                                {
                                    "product_id": "P000000509",
                                    "product_name_eng": "RUNNEN Decking",
                                    "category_name": "Outdoor products"
                                },
                                {
                                    "product_id": "P000000509",
                                    "product_name_eng": "RUNNEN Decking",
                                    "category_name": "Rugs, mats & flooring"
                                },
                                {
                                    "product_id": "P000000509",
                                    "product_name_eng": "RUNNEN Decking",
                                    "category_name": "Home Improvement"
                                },
                                {
                                    "product_id": "P000001110",
                                    "product_name_eng": "Fjell Open Wardrobe",
                                    "category_name": "Storage & organisation"
                                },
                                {
                                    "product_id": "P000001110",
                                    "product_name_eng": "Fjell Open Wardrobe",
                                    "category_name": "Furniture"
                                },
                                {
                                    "product_id": "P000001109",
                                    "product_name_eng": "Trones Open Wardrobe",
                                    "category_name": "Storage & organisation"
                                },
                                {
                                    "product_id": "P000001109",
                                    "product_name_eng": "Trones Open Wardrobe",
                                    "category_name": "Furniture"
                                },
                                {
                                    "product_id": "P000001108",
                                    "product_name_eng": "Liatorp Open Wardrobe",
                                    "category_name": "Storage & organisation"
                                },
                                {
                                    "product_id": "P000001108",
                                    "product_name_eng": "Liatorp Open Wardrobe",
                                    "category_name": "Furniture"
                                },
                                {
                                    "product_id": "P000001107",
                                    "product_name_eng": "Hopen Open Wardrobe",
                                    "category_name": "Storage & organisation"
                                },
                                {
                                    "product_id": "P000001107",
                                    "product_name_eng": "Hopen Open Wardrobe",
                                    "category_name": "Furniture"
                                },
                                {
                                    "product_id": "P000001106",
                                    "product_name_eng": "Brimnes Open Wardrobe",
                                    "category_name": "Storage & organisation"
                                },
                                {
                                    "product_id": "P000001106",
                                    "product_name_eng": "Brimnes Open Wardrobe",
                                    "category_name": "Furniture"
                                },
                                {
                                    "product_id": "P000000581",
                                    "product_name_eng": "FLADIS Basket",
                                    "category_name": "Laundry & cleaning"
                                },
                                {
                                    "product_id": "P000000580",
                                    "product_name_eng": "BRANAS Basket",
                                    "category_name": "Laundry & cleaning"
                                },
                                {
                                    "product_id": "P000000334",
                                    "product_name_eng": "JATTESTOR Storage Bag",
                                    "category_name": "Laundry & cleaning"
                                },
                                {
                                    "product_id": "P000000579",
                                    "product_name_eng": "SAXBORGA Box with Lid",
                                    "category_name": "Laundry & cleaning"
                                },
                                {
                                    "product_id": "P000000578",
                                    "product_name_eng": "SOCKERBIT Box with Lid",
                                    "category_name": "Laundry & cleaning"
                                },
                                {
                                    "product_id": "P000000577",
                                    "product_name_eng": "RISATORP Basket",
                                    "category_name": "Laundry & cleaning"
                                },
                                {
                                    "product_id": "P000000576",
                                    "product_name_eng": "KNARRA Laundry Basket",
                                    "category_name": "Laundry & cleaning"
                                },
                                {
                                    "product_id": "P000000575",
                                    "product_name_eng": "TORKIS Laundry Basket",
                                    "category_name": "Laundry & cleaning"
                                },
                                {
                                    "product_id": "P000000574",
                                    "product_name_eng": "GRUNDTAL Laundry Basket",
                                    "category_name": "Laundry & cleaning"
                                },
                                {
                                    "product_id": "P000000573",
                                    "product_name_eng": "ANTONIUS Laundry Basket",
                                    "category_name": "Laundry & cleaning"
                                },
                                {
                                    "product_id": "P000001369",
                                    "product_name_eng": "Profil Frying Pan",
                                    "category_name": "Kitchenware & Tableware"
                                },
                                {
                                    "product_id": "P000001368",
                                    "product_name_eng": "Riskytta Frying Pan",
                                    "category_name": "Kitchenware & Tableware"
                                },
                                {
                                    "product_id": "P000001367",
                                    "product_name_eng": "Produkt Frying Pan",
                                    "category_name": "Kitchenware & Tableware"
                                },
                                {
                                    "product_id": "P000001366",
                                    "product_name_eng": "Kyrkfjallet Frying Pan",
                                    "category_name": "Kitchenware & Tableware"
                                },
                                {
                                    "product_id": "P000001365",
                                    "product_name_eng": "Steka Frying Pan",
                                    "category_name": "Kitchenware & Tableware"
                                },
                                {
                                    "product_id": "P000000847",
                                    "product_name_eng": "Fjellse Bed Frame with Storage and Bench",
                                    "category_name": "Furniture"
                                },
                                {
                                    "product_id": "P000000846",
                                    "product_name_eng": "Tysnes Table Mirror Bench",
                                    "category_name": "Furniture"
                                },
                                {
                                    "product_id": "P000000845",
                                    "product_name_eng": "Pinnig Bench",
                                    "category_name": "Furniture"
                                },
                                {
                                    "product_id": "P000000844",
                                    "product_name_eng": "Songesand Bench",
                                    "category_name": "Furniture"
                                },
                                {
                                    "product_id": "P000000843",
                                    "product_name_eng": "Hemnes Bench",
                                    "category_name": "Furniture"
                                },
                                {
                                    "product_id": "P000000640",
                                    "product_name_eng": "TUPPLUR Electric Blind",
                                    "category_name": "Home Electronics"
                                },
                                {
                                    "product_id": "P000000640",
                                    "product_name_eng": "TUPPLUR Electric Blind",
                                    "category_name": "IKEA Home Smart"
                                },
                                {
                                    "product_id": "P000000639",
                                    "product_name_eng": "SKOGSKLOVER Roller Blind",
                                    "category_name": "Home Electronics"
                                },
                                {
                                    "product_id": "P000000639",
                                    "product_name_eng": "SKOGSKLOVER Roller Blind",
                                    "category_name": "IKEA Home Smart"
                                },
                                {
                                    "product_id": "P000000638",
                                    "product_name_eng": "KADRILJ Roller Blind",
                                    "category_name": "Home Electronics"
                                },
                                {
                                    "product_id": "P000000638",
                                    "product_name_eng": "KADRILJ Roller Blind",
                                    "category_name": "IKEA Home Smart"
                                },
                                {
                                    "product_id": "P000000637",
                                    "product_name_eng": "FYRTUR Roller Blind",
                                    "category_name": "Home Electronics"
                                },
                                {
                                    "product_id": "P000000637",
                                    "product_name_eng": "FYRTUR Roller Blind",
                                    "category_name": "IKEA Home Smart"
                                },
                                {
                                    "product_id": "P000000636",
                                    "product_name_eng": "MARJUN Electric Blind",
                                    "category_name": "Home Electronics"
                                },
                                {
                                    "product_id": "P000000636",
                                    "product_name_eng": "MARJUN Electric Blind",
                                    "category_name": "IKEA Home Smart"
                                },
                                {
                                    "product_id": "P000000635",
                                    "product_name_eng": "SCHOTTIS Pleated Blind",
                                    "category_name": "Home Electronics"
                                },
                                {
                                    "product_id": "P000000635",
                                    "product_name_eng": "SCHOTTIS Pleated Blind",
                                    "category_name": "IKEA Home Smart"
                                },
                                {
                                    "product_id": "P000000634",
                                    "product_name_eng": "SCHOTTIS Electric Blind",
                                    "category_name": "Home Electronics"
                                },
                                {
                                    "product_id": "P000000634",
                                    "product_name_eng": "SCHOTTIS Electric Blind",
                                    "category_name": "IKEA Home Smart"
                                },
                                {
                                    "product_id": "P000000633",
                                    "product_name_eng": "SKOGSKLOVER Electric Blind",
                                    "category_name": "Home Electronics"
                                },
                                {
                                    "product_id": "P000000633",
                                    "product_name_eng": "SKOGSKLOVER Electric Blind",
                                    "category_name": "IKEA Home Smart"
                                },
                                {
                                    "product_id": "P000000632",
                                    "product_name_eng": "KADRILJ Electric Blind",
                                    "category_name": "Home Electronics"
                                },
                                {
                                    "product_id": "P000000632",
                                    "product_name_eng": "KADRILJ Electric Blind",
                                    "category_name": "IKEA Home Smart"
                                },
                                {
                                    "product_id": "P000000631",
                                    "product_name_eng": "FYRTUR Electric Blind",
                                    "category_name": "Home Electronics"
                                },
                                {
                                    "product_id": "P000000631",
                                    "product_name_eng": "FYRTUR Electric Blind",
                                    "category_name": "IKEA Home Smart"
                                },
                                {
                                    "product_id": "P000001483",
                                    "product_name_eng": "Bittergurka Plant Pot",
                                    "category_name": "Home Decoration"
                                },
                                {
                                    "product_id": "P000001483",
                                    "product_name_eng": "Bittergurka Plant Pot",
                                    "category_name": "Pots & Plants"
                                },
                                {
                                    "product_id": "P000001482",
                                    "product_name_eng": "Fejka Plant Pot",
                                    "category_name": "Home Decoration"
                                },
                                {
                                    "product_id": "P000001482",
                                    "product_name_eng": "Fejka Plant Pot",
                                    "category_name": "Pots & Plants"
                                },
                                {
                                    "product_id": "P000001481",
                                    "product_name_eng": "Stenpa Plant Pot",
                                    "category_name": "Home Decoration"
                                },
                                {
                                    "product_id": "P000001481",
                                    "product_name_eng": "Stenpa Plant Pot",
                                    "category_name": "Pots & Plants"
                                },
                                {
                                    "product_id": "P000001480",
                                    "product_name_eng": "Grankulla Plant Pot",
                                    "category_name": "Home Decoration"
                                },
                                {
                                    "product_id": "P000001480",
                                    "product_name_eng": "Grankulla Plant Pot",
                                    "category_name": "Pots & Plants"
                                },
                                {
                                    "product_id": "P000000313",
                                    "product_name_eng": "REKTANGEL Vase",
                                    "category_name": "Home Decoration"
                                },
                                {
                                    "product_id": "P000000313",
                                    "product_name_eng": "REKTANGEL Vase",
                                    "category_name": "Pots & Plants"
                                },
                                {
                                    "product_id": "P000000753",
                                    "product_name_eng": "EKBY JARPEN Floating Shelf",
                                    "category_name": "Storage & organisation"
                                },
                                {
                                    "product_id": "P000000752",
                                    "product_name_eng": "EKBY ALEX Floating Shelf",
                                    "category_name": "Storage & organisation"
                                },
                                {
                                    "product_id": "P000000751",
                                    "product_name_eng": "BJARNUM Floating Shelf",
                                    "category_name": "Storage & organisation"
                                },
                                {
                                    "product_id": "P000000750",
                                    "product_name_eng": "EKBY Floating Shelf",
                                    "category_name": "Storage & organisation"
                                },
                                {
                                    "product_id": "P000000749",
                                    "product_name_eng": "LACK Floating Shelf",
                                    "category_name": "Storage & organisation"
                                },
                                {
                                    "product_id": "P000001746",
                                    "product_name_eng": "Fjallsta Tablet Stand",
                                    "category_name": "Home Electronics"
                                },
                                {
                                    "product_id": "P000001745",
                                    "product_name_eng": "Myretun Phone Stand",
                                    "category_name": "Home Electronics"
                                },
                                {
                                    "product_id": "P000001744",
                                    "product_name_eng": "Hurda Phone Stand",
                                    "category_name": "Home Electronics"
                                },
                                {
                                    "product_id": "P000001743",
                                    "product_name_eng": "Tillfalle Tablet Stand",
                                    "category_name": "Home Electronics"
                                },
                                {
                                    "product_id": "P000001742",
                                    "product_name_eng": "Ladling Phone Stand",
                                    "category_name": "Home Electronics"
                                },
                                {
                                    "product_id": "P000001075",
                                    "product_name_eng": "String Bookcase",
                                    "category_name": "Storage & organisation"
                                },
                                {
                                    "product_id": "P000001075",
                                    "product_name_eng": "String Bookcase",
                                    "category_name": "Furniture"
                                },
                                {
                                    "product_id": "P000001074",
                                    "product_name_eng": "Kallax Bookcase",
                                    "category_name": "Storage & organisation"
                                },
                                {
                                    "product_id": "P000001074",
                                    "product_name_eng": "Kallax Bookcase",
                                    "category_name": "Furniture"
                                },
                                {
                                    "product_id": "P000001073",
                                    "product_name_eng": "Liatorp Bookcase",
                                    "category_name": "Storage & organisation"
                                },
                                {
                                    "product_id": "P000001073",
                                    "product_name_eng": "Liatorp Bookcase",
                                    "category_name": "Furniture"
                                },
                                {
                                    "product_id": "P000001072",
                                    "product_name_eng": "Hemnes Bookcase",
                                    "category_name": "Storage & organisation"
                                },
                                {
                                    "product_id": "P000001072",
                                    "product_name_eng": "Hemnes Bookcase",
                                    "category_name": "Furniture"
                                },
                                {
                                    "product_id": "P000001071",
                                    "product_name_eng": "Billy Bookcase",
                                    "category_name": "Storage & organisation"
                                },
                                {
                                    "product_id": "P000001071",
                                    "product_name_eng": "Billy Bookcase",
                                    "category_name": "Furniture"
                                },
                                {
                                    "product_id": "P000000572",
                                    "product_name_eng": "GORM Shelving Unit",
                                    "category_name": "Laundry & cleaning"
                                },
                                {
                                    "product_id": "P000000571",
                                    "product_name_eng": "OMAR Shelf Unit",
                                    "category_name": "Laundry & cleaning"
                                },
                                {
                                    "product_id": "P000000570",
                                    "product_name_eng": "HYLLIS Shelf Unit",
                                    "category_name": "Laundry & cleaning"
                                },
                                {
                                    "product_id": "P000000569",
                                    "product_name_eng": "SVALNAS Wall Shelf",
                                    "category_name": "Laundry & cleaning"
                                },
                                {
                                    "product_id": "P000000568",
                                    "product_name_eng": "BOAXEL Laundry Cabinet",
                                    "category_name": "Laundry & cleaning"
                                },
                                {
                                    "product_id": "P000000567",
                                    "product_name_eng": "ELVARLI Shelf",
                                    "category_name": "Laundry & cleaning"
                                },
                                {
                                    "product_id": "P000000117",
                                    "product_name_eng": "ALGOT Wall Upright",
                                    "category_name": "Laundry & cleaning"
                                },
                                {
                                    "product_id": "P000000566",
                                    "product_name_eng": "EKET Shelving Unit",
                                    "category_name": "Laundry & cleaning"
                                },
                                {
                                    "product_id": "P000000565",
                                    "product_name_eng": "ENHET Laundry Cabinet",
                                    "category_name": "Laundry & cleaning"
                                },
                                {
                                    "product_id": "P000000564",
                                    "product_name_eng": "IVAR Laundry Cabinet",
                                    "category_name": "Laundry & cleaning"
                                },
                                {
                                    "product_id": "P000000729",
                                    "product_name_eng": "VISSLA Chair Pad",
                                    "category_name": "Textiles"
                                },
                                {
                                    "product_id": "P000000728",
                                    "product_name_eng": "OMTANKSAM Chair Pad",
                                    "category_name": "Textiles"
                                },
                                {
                                    "product_id": "P000000727",
                                    "product_name_eng": "BERTIL Chair Pad",
                                    "category_name": "Textiles"
                                },
                                {
                                    "product_id": "P000000726",
                                    "product_name_eng": "LANGSTED Chair Pad",
                                    "category_name": "Textiles"
                                },
                                {
                                    "product_id": "P000000725",
                                    "product_name_eng": "FROSONG Chair Pad",
                                    "category_name": "Textiles"
                                },
                                {
                                    "product_id": "P000000724",
                                    "product_name_eng": "VOLFGANG Chair Pad",
                                    "category_name": "Textiles"
                                },
                                {
                                    "product_id": "P000000723",
                                    "product_name_eng": "GJERDE Chair Pad",
                                    "category_name": "Textiles"
                                },
                                {
                                    "product_id": "P000000722",
                                    "product_name_eng": "NOSTALGISK Chair Pad",
                                    "category_name": "Textiles"
                                },
                                {
                                    "product_id": "P000000721",
                                    "product_name_eng": "HENRIKSDAL Chair Pad",
                                    "category_name": "Textiles"
                                },
                                {
                                    "product_id": "P000000720",
                                    "product_name_eng": "MALINDA Chair Pad",
                                    "category_name": "Textiles"
                                },
                                {
                                    "product_id": "P000001731",
                                    "product_name_eng": "Tittat Battery",
                                    "category_name": "Home Electronics"
                                },
                                {
                                    "product_id": "P000001730",
                                    "product_name_eng": "Lyfta Battery",
                                    "category_name": "Home Electronics"
                                },
                                {
                                    "product_id": "P000001729",
                                    "product_name_eng": "Kalas Battery",
                                    "category_name": "Home Electronics"
                                },
                                {
                                    "product_id": "P000001728",
                                    "product_name_eng": "Storhogg Battery",
                                    "category_name": "Home Electronics"
                                },
                                {
                                    "product_id": "P000001727",
                                    "product_name_eng": "Ladda Battery",
                                    "category_name": "Home Electronics"
                                },
                                {
                                    "product_id": "P000000528",
                                    "product_name_eng": "SAMSPEL Door Mat",
                                    "category_name": "Rugs, mats & flooring"
                                },
                                {
                                    "product_id": "P000000527",
                                    "product_name_eng": "RORKAR Door Mat",
                                    "category_name": "Rugs, mats & flooring"
                                },
                                {
                                    "product_id": "P000000526",
                                    "product_name_eng": "KLEJ Door Mat",
                                    "category_name": "Rugs, mats & flooring"
                                },
                                {
                                    "product_id": "P000000525",
                                    "product_name_eng": "TOFTBO Door Mat",
                                    "category_name": "Rugs, mats & flooring"
                                },
                                {
                                    "product_id": "P000000524",
                                    "product_name_eng": "OMBYTE Door Mat",
                                    "category_name": "Rugs, mats & flooring"
                                },
                                {
                                    "product_id": "P000000523",
                                    "product_name_eng": "HENTSMO Door Mat",
                                    "category_name": "Rugs, mats & flooring"
                                },
                                {
                                    "product_id": "P000000522",
                                    "product_name_eng": "LINDKNUD Door Mat",
                                    "category_name": "Rugs, mats & flooring"
                                },
                                {
                                    "product_id": "P000000521",
                                    "product_name_eng": "GURLI Door Mat",
                                    "category_name": "Rugs, mats & flooring"
                                },
                                {
                                    "product_id": "P000000520",
                                    "product_name_eng": "FILSO Door Mat",
                                    "category_name": "Rugs, mats & flooring"
                                },
                                {
                                    "product_id": "P000000519",
                                    "product_name_eng": "TRAMPA Door Mat",
                                    "category_name": "Rugs, mats & flooring"
                                },
                                {
                                    "product_id": "P000000239",
                                    "product_name_eng": "DIODER LED Cabinet Light",
                                    "category_name": "Kitchen Cabinets & Appliances"
                                },
                                {
                                    "product_id": "P000000238",
                                    "product_name_eng": "SEKOND Cord Set",
                                    "category_name": "Kitchen Cabinets & Appliances"
                                },
                                {
                                    "product_id": "P000000237",
                                    "product_name_eng": "LYNAS LED Spotlight",
                                    "category_name": "Kitchen Cabinets & Appliances"
                                },
                                {
                                    "product_id": "P000000236",
                                    "product_name_eng": "TRADFRI LED Driver",
                                    "category_name": "Kitchen Cabinets & Appliances"
                                },
                                {
                                    "product_id": "P000000235",
                                    "product_name_eng": "DIODER LED Strip",
                                    "category_name": "Kitchen Cabinets & Appliances"
                                },
                                {
                                    "product_id": "P000000234",
                                    "product_name_eng": "SURTE LED Wall/Ceiling Lamp",
                                    "category_name": "Kitchen Cabinets & Appliances"
                                },
                                {
                                    "product_id": "P000000233",
                                    "product_name_eng": "FADO LED Wall Lamp",
                                    "category_name": "Kitchen Cabinets & Appliances"
                                },
                                {
                                    "product_id": "P000000232",
                                    "product_name_eng": "KOPPLA Extension Cord",
                                    "category_name": "Kitchen Cabinets & Appliances"
                                },
                                {
                                    "product_id": "P000000231",
                                    "product_name_eng": "TRADFRI LED Panel",
                                    "category_name": "Kitchen Cabinets & Appliances"
                                },
                                {
                                    "product_id": "P000000230",
                                    "product_name_eng": "OMLOPP LED Worktop Light",
                                    "category_name": "Kitchen Cabinets & Appliances"
                                },
                                {
                                    "product_id": "P000000229",
                                    "product_name_eng": "SURTE LED Work Lamp",
                                    "category_name": "Kitchen Cabinets & Appliances"
                                },
                                {
                                    "product_id": "P000000228",
                                    "product_name_eng": "DIODER LED Multi-Use Light",
                                    "category_name": "Kitchen Cabinets & Appliances"
                                },
                                {
                                    "product_id": "P000000227",
                                    "product_name_eng": "GRUNDTAL LED Spotlight",
                                    "category_name": "Kitchen Cabinets & Appliances"
                                },
                                {
                                    "product_id": "P000000226",
                                    "product_name_eng": "KRYDDPEPPAR LED Spotlight",
                                    "category_name": "Kitchen Cabinets & Appliances"
                                },
                                {
                                    "product_id": "P000000225",
                                    "product_name_eng": "LYSTAD LED Cabinet Light",
                                    "category_name": "Kitchen Cabinets & Appliances"
                                },
                                {
                                    "product_id": "P000000224",
                                    "product_name_eng": "SANNOLIK LED Cabinet Light",
                                    "category_name": "Kitchen Cabinets & Appliances"
                                },
                                {
                                    "product_id": "P000000223",
                                    "product_name_eng": "RINGSTA LED Work Lamp",
                                    "category_name": "Kitchen Cabinets & Appliances"
                                },
                                {
                                    "product_id": "P000000222",
                                    "product_name_eng": "IDEALISK LED Countertop Light",
                                    "category_name": "Kitchen Cabinets & Appliances"
                                },
                                {
                                    "product_id": "P000000221",
                                    "product_name_eng": "NYPLOCKAD LED Work Lamp",
                                    "category_name": "Kitchen Cabinets & Appliances"
                                },
                                {
                                    "product_id": "P000000220",
                                    "product_name_eng": "SURTE LED Wall Lamp",
                                    "category_name": "Kitchen Cabinets & Appliances"
                                },
                                {
                                    "product_id": "P000000219",
                                    "product_name_eng": "GUNNARP LED Cabinet Light",
                                    "category_name": "Kitchen Cabinets & Appliances"
                                },
                                {
                                    "product_id": "P000000218",
                                    "product_name_eng": "DUDERO LED Work Lamp",
                                    "category_name": "Kitchen Cabinets & Appliances"
                                },
                                {
                                    "product_id": "P000000217",
                                    "product_name_eng": "ANSLUTA LED Light Strip",
                                    "category_name": "Kitchen Cabinets & Appliances"
                                },
                                {
                                    "product_id": "P000000216",
                                    "product_name_eng": "KOPPLA Power Supply",
                                    "category_name": "Kitchen Cabinets & Appliances"
                                },
                                {
                                    "product_id": "P000000215",
                                    "product_name_eng": "BESTA LED Cabinet Lighting",
                                    "category_name": "Kitchen Cabinets & Appliances"
                                },
                                {
                                    "product_id": "P000000214",
                                    "product_name_eng": "JANSJO LED Wall/Clamp Spotlight",
                                    "category_name": "Kitchen Cabinets & Appliances"
                                },
                                {
                                    "product_id": "P000000213",
                                    "product_name_eng": "TRADFRI LED Bulb",
                                    "category_name": "Kitchen Cabinets & Appliances"
                                },
                                {
                                    "product_id": "P000000212",
                                    "product_name_eng": "OMLOPP LED Spotlight",
                                    "category_name": "Kitchen Cabinets & Appliances"
                                },
                                {
                                    "product_id": "P000000211",
                                    "product_name_eng": "ANSLUTA LED Driver",
                                    "category_name": "Kitchen Cabinets & Appliances"
                                },
                                {
                                    "product_id": "P000000210",
                                    "product_name_eng": "OMBYTE LED Light Strip",
                                    "category_name": "Kitchen Cabinets & Appliances"
                                },
                                {
                                    "product_id": "P000000327",
                                    "product_name_eng": "GODTAIG Gift Box",
                                    "category_name": "Home Decoration"
                                },
                                {
                                    "product_id": "P000000326",
                                    "product_name_eng": "SANNOLIK LED Work Lamp",
                                    "category_name": "Home Decoration"
                                },
                                {
                                    "product_id": "P000000325",
                                    "product_name_eng": "JANSJO LED Clamp Spotlight",
                                    "category_name": "Home Decoration"
                                },
                                {
                                    "product_id": "P000000324",
                                    "product_name_eng": "HOL Side Table",
                                    "category_name": "Home Decoration"
                                },
                                {
                                    "product_id": "P000000323",
                                    "product_name_eng": "BURVIK Side Table",
                                    "category_name": "Home Decoration"
                                },
                                {
                                    "product_id": "P000000322",
                                    "product_name_eng": "SVIRVEL Pendant Lamp",
                                    "category_name": "Home Decoration"
                                },
                                {
                                    "product_id": "P000000321",
                                    "product_name_eng": "KLIMPEN Tabletop",
                                    "category_name": "Home Decoration"
                                },
                                {
                                    "product_id": "P000000320",
                                    "product_name_eng": "BILD Poster",
                                    "category_name": "Home Decoration"
                                },
                                {
                                    "product_id": "P000000319",
                                    "product_name_eng": "SKURAR Plant Pot",
                                    "category_name": "Home Decoration"
                                },
                                {
                                    "product_id": "P000000318",
                                    "product_name_eng": "KNOPPANG Frame",
                                    "category_name": "Home Decoration"
                                },
                                {
                                    "product_id": "P000000317",
                                    "product_name_eng": "GODTAIG Plant Pot",
                                    "category_name": "Home Decoration"
                                },
                                {
                                    "product_id": "P000000316",
                                    "product_name_eng": "SNOFSA Plant Pot",
                                    "category_name": "Home Decoration"
                                },
                                {
                                    "product_id": "P000000315",
                                    "product_name_eng": "JONAXEL Frame",
                                    "category_name": "Home Decoration"
                                },
                                {
                                    "product_id": "P000000314",
                                    "product_name_eng": "KRAGSTA Nesting Tables",
                                    "category_name": "Home Decoration"
                                },
                                {
                                    "product_id": "P000000313",
                                    "product_name_eng": "REKTANGEL Vase",
                                    "category_name": "Home Decoration"
                                },
                                {
                                    "product_id": "P000000312",
                                    "product_name_eng": "SPRUTTIG Vase",
                                    "category_name": "Home Decoration"
                                },
                                {
                                    "product_id": "P000000311",
                                    "product_name_eng": "KVILL Frame",
                                    "category_name": "Home Decoration"
                                },
                                {
                                    "product_id": "P000000310",
                                    "product_name_eng": "SOCKER Plant Pot",
                                    "category_name": "Home Decoration"
                                },
                                {
                                    "product_id": "P000000309",
                                    "product_name_eng": "SOCKER Plant Stand",
                                    "category_name": "Home Decoration"
                                },
                                {
                                    "product_id": "P000000308",
                                    "product_name_eng": "RIBBA Picture Ledge",
                                    "category_name": "Home Decoration"
                                },
                                {
                                    "product_id": "P000001616",
                                    "product_name_eng": "Patrull Window Catch",
                                    "category_name": "Baby & Children"
                                },
                                {
                                    "product_id": "P000001616",
                                    "product_name_eng": "Patrull Window Catch",
                                    "category_name": "Home Improvement"
                                },
                                {
                                    "product_id": "P000001615",
                                    "product_name_eng": "Patrull Drawer Lock",
                                    "category_name": "Baby & Children"
                                },
                                {
                                    "product_id": "P000001615",
                                    "product_name_eng": "Patrull Drawer Lock",
                                    "category_name": "Home Improvement"
                                },
                                {
                                    "product_id": "P000001614",
                                    "product_name_eng": "Patrull Cabinet Lock",
                                    "category_name": "Baby & Children"
                                },
                                {
                                    "product_id": "P000001614",
                                    "product_name_eng": "Patrull Cabinet Lock",
                                    "category_name": "Home Improvement"
                                },
                                {
                                    "product_id": "P000001613",
                                    "product_name_eng": "Patrull Corner Bumper",
                                    "category_name": "Baby & Children"
                                },
                                {
                                    "product_id": "P000001613",
                                    "product_name_eng": "Patrull Corner Bumper",
                                    "category_name": "Home Improvement"
                                },
                                {
                                    "product_id": "P000001612",
                                    "product_name_eng": "Patrull Safety Gate",
                                    "category_name": "Baby & Children"
                                },
                                {
                                    "product_id": "P000001612",
                                    "product_name_eng": "Patrull Safety Gate",
                                    "category_name": "Home Improvement"
                                },
                                {
                                    "product_id": "P000000782",
                                    "product_name_eng": "SOderhamn Chaise Sofa",
                                    "category_name": "Furniture"
                                },
                                {
                                    "product_id": "P000000781",
                                    "product_name_eng": "Vimle Chaise Sofa",
                                    "category_name": "Furniture"
                                },
                                {
                                    "product_id": "P000000780",
                                    "product_name_eng": "Landskrona Chaise Sofa",
                                    "category_name": "Furniture"
                                },
                                {
                                    "product_id": "P000000779",
                                    "product_name_eng": "Kivik Chaise Sofa",
                                    "category_name": "Furniture"
                                },
                                {
                                    "product_id": "P000000778",
                                    "product_name_eng": "Norsborg Chaise Sofa",
                                    "category_name": "Furniture"
                                },
                                {
                                    "product_id": "P000001244",
                                    "product_name_eng": "Bekant Children's Desk",
                                    "category_name": "Furniture"
                                },
                                {
                                    "product_id": "P000001243",
                                    "product_name_eng": "Stuva Children's Desk",
                                    "category_name": "Furniture"
                                },
                                {
                                    "product_id": "P000001242",
                                    "product_name_eng": "Sundvik Children's Desk",
                                    "category_name": "Furniture"
                                },
                                {
                                    "product_id": "P000001241",
                                    "product_name_eng": "Micke Children's Desk",
                                    "category_name": "Furniture"
                                },
                                {
                                    "product_id": "P000001240",
                                    "product_name_eng": "Flisat Children's Desk",
                                    "category_name": "Furniture"
                                },
                                {
                                    "product_id": "P000001125",
                                    "product_name_eng": "Dragan Desk Organizer",
                                    "category_name": "Storage & organisation"
                                },
                                {
                                    "product_id": "P000001124",
                                    "product_name_eng": "Poppig Desk Accessories",
                                    "category_name": "Storage & organisation"
                                },
                                {
                                    "product_id": "P000001123",
                                    "product_name_eng": "Bladvass Desk Organizer",
                                    "category_name": "Storage & organisation"
                                },
                                {
                                    "product_id": "P000001122",
                                    "product_name_eng": "Snalis Desk Organizer",
                                    "category_name": "Storage & organisation"
                                },
                                {
                                    "product_id": "P000001121",
                                    "product_name_eng": "Rissla Desk Accessories",
                                    "category_name": "Storage & organisation"
                                },
                                {
                                    "product_id": "P000000952",
                                    "product_name_eng": "Glansnava Light Filtering Curtain",
                                    "category_name": "Textiles"
                                },
                                {
                                    "product_id": "P000000951",
                                    "product_name_eng": "Sparvort Light Filtering Curtain",
                                    "category_name": "Textiles"
                                },
                                {
                                    "product_id": "P000000950",
                                    "product_name_eng": "Sallskap Light Filtering Curtain",
                                    "category_name": "Textiles"
                                },
                                {
                                    "product_id": "P000000949",
                                    "product_name_eng": "Matilda Light Filtering Curtain",
                                    "category_name": "Textiles"
                                },
                                {
                                    "product_id": "P000000948",
                                    "product_name_eng": "Ansluta Light Filtering Curtain",
                                    "category_name": "Textiles"
                                },
                                {
                                    "product_id": "P000001681",
                                    "product_name_eng": "Hindoen Outdoor Kitchen",
                                    "category_name": "Outdoor products"
                                },
                                {
                                    "product_id": "P000001680",
                                    "product_name_eng": "Klasen Outdoor Kitchen",
                                    "category_name": "Outdoor products"
                                },
                                {
                                    "product_id": "P000001679",
                                    "product_name_eng": "Klasen Outdoor Kitchen",
                                    "category_name": "Outdoor products"
                                },
                                {
                                    "product_id": "P000001678",
                                    "product_name_eng": "Mollekal Outdoor Kitchen",
                                    "category_name": "Outdoor products"
                                },
                                {
                                    "product_id": "P000001677",
                                    "product_name_eng": "Arholma Outdoor Kitchen",
                                    "category_name": "Outdoor products"
                                },
                                {
                                    "product_id": "P000001507",
                                    "product_name_eng": "Romantisk Vase",
                                    "category_name": "Home Decoration"
                                },
                                {
                                    "product_id": "P000001506",
                                    "product_name_eng": "Flort Vase",
                                    "category_name": "Home Decoration"
                                },
                                {
                                    "product_id": "P000001505",
                                    "product_name_eng": "Sinnesro Vase",
                                    "category_name": "Home Decoration"
                                },
                                {
                                    "product_id": "P000001504",
                                    "product_name_eng": "Braganza Vase",
                                    "category_name": "Home Decoration"
                                },
                                {
                                    "product_id": "P000001503",
                                    "product_name_eng": "Skopa Vase",
                                    "category_name": "Home Decoration"
                                },
                                {
                                    "product_id": "P000001464",
                                    "product_name_eng": "Holmoes Picture Ledge",
                                    "category_name": "Home Decoration"
                                },
                                {
                                    "product_id": "P000001463",
                                    "product_name_eng": "Mosslanda Picture Ledge",
                                    "category_name": "Home Decoration"
                                },
                                {
                                    "product_id": "P000001462",
                                    "product_name_eng": "Bjarnum Picture Ledge",
                                    "category_name": "Home Decoration"
                                },
                                {
                                    "product_id": "P000001461",
                                    "product_name_eng": "Ekby Shelf",
                                    "category_name": "Home Decoration"
                                },
                                {
                                    "product_id": "P000001460",
                                    "product_name_eng": "Lack Shelf",
                                    "category_name": "Home Decoration"
                                },
                                {
                                    "product_id": "P000001716",
                                    "product_name_eng": "Glimsted Rug",
                                    "category_name": "Rugs, mats & flooring"
                                },
                                {
                                    "product_id": "P000001716",
                                    "product_name_eng": "Glimsted Rug",
                                    "category_name": "Textiles"
                                },
                                {
                                    "product_id": "P000001715",
                                    "product_name_eng": "Ljungen Rug",
                                    "category_name": "Rugs, mats & flooring"
                                },
                                {
                                    "product_id": "P000001715",
                                    "product_name_eng": "Ljungen Rug",
                                    "category_name": "Textiles"
                                },
                                {
                                    "product_id": "P000001714",
                                    "product_name_eng": "Gosserud Rug",
                                    "category_name": "Rugs, mats & flooring"
                                },
                                {
                                    "product_id": "P000001714",
                                    "product_name_eng": "Gosserud Rug",
                                    "category_name": "Textiles"
                                },
                                {
                                    "product_id": "P000001713",
                                    "product_name_eng": "Gaser Rug",
                                    "category_name": "Rugs, mats & flooring"
                                },
                                {
                                    "product_id": "P000001713",
                                    "product_name_eng": "Gaser Rug",
                                    "category_name": "Textiles"
                                },
                                {
                                    "product_id": "P000001712",
                                    "product_name_eng": "Langsted Rug",
                                    "category_name": "Rugs, mats & flooring"
                                },
                                {
                                    "product_id": "P000001712",
                                    "product_name_eng": "Langsted Rug",
                                    "category_name": "Textiles"
                                },
                                {
                                    "product_id": "P000001726",
                                    "product_name_eng": "Bladet Bin",
                                    "category_name": "Laundry & cleaning"
                                },
                                {
                                    "product_id": "P000001725",
                                    "product_name_eng": "Skrot Bin",
                                    "category_name": "Laundry & cleaning"
                                },
                                {
                                    "product_id": "P000001724",
                                    "product_name_eng": "Fjantig Bin",
                                    "category_name": "Laundry & cleaning"
                                },
                                {
                                    "product_id": "P000001723",
                                    "product_name_eng": "Tjena Bin",
                                    "category_name": "Laundry & cleaning"
                                },
                                {
                                    "product_id": "P000001722",
                                    "product_name_eng": "Knodd Bin",
                                    "category_name": "Laundry & cleaning"
                                },
                                {
                                    "product_id": "P000000995",
                                    "product_name_eng": "Grundtal Door",
                                    "category_name": "Kitchen Cabinets & Appliances"
                                },
                                {
                                    "product_id": "P000000994",
                                    "product_name_eng": "Sktlum Door",
                                    "category_name": "Kitchen Cabinets & Appliances"
                                },
                                {
                                    "product_id": "P000000993",
                                    "product_name_eng": "Bodbyn Door",
                                    "category_name": "Kitchen Cabinets & Appliances"
                                },
                                {
                                    "product_id": "P000000992",
                                    "product_name_eng": "Voxtorp Door",
                                    "category_name": "Kitchen Cabinets & Appliances"
                                },
                                {
                                    "product_id": "P000000991",
                                    "product_name_eng": "Lerhyttan Door",
                                    "category_name": "Kitchen Cabinets & Appliances"
                                },
                                {
                                    "product_id": "P000001264",
                                    "product_name_eng": "Laver Bar Table",
                                    "category_name": "Furniture"
                                },
                                {
                                    "product_id": "P000001263",
                                    "product_name_eng": "Stefan Bar Table",
                                    "category_name": "Furniture"
                                },
                                {
                                    "product_id": "P000001262",
                                    "product_name_eng": "Linbacken Bar Table",
                                    "category_name": "Furniture"
                                },
                                {
                                    "product_id": "P000001261",
                                    "product_name_eng": "Bjursta Bar Table",
                                    "category_name": "Furniture"
                                },
                                {
                                    "product_id": "P000001260",
                                    "product_name_eng": "Stornas Bar Table",
                                    "category_name": "Furniture"
                                },
                                {
                                    "product_id": "P000001100",
                                    "product_name_eng": "Helmer Drawer Unit",
                                    "category_name": "Storage & organisation"
                                },
                                {
                                    "product_id": "P000001100",
                                    "product_name_eng": "Helmer Drawer Unit",
                                    "category_name": "Furniture"
                                },
                                {
                                    "product_id": "P000001099",
                                    "product_name_eng": "Micke Drawer Unit",
                                    "category_name": "Storage & organisation"
                                },
                                {
                                    "product_id": "P000001099",
                                    "product_name_eng": "Micke Drawer Unit",
                                    "category_name": "Furniture"
                                },
                                {
                                    "product_id": "P000001098",
                                    "product_name_eng": "Galant Drawer Unit",
                                    "category_name": "Storage & organisation"
                                },
                                {
                                    "product_id": "P000001098",
                                    "product_name_eng": "Galant Drawer Unit",
                                    "category_name": "Furniture"
                                },
                                {
                                    "product_id": "P000001097",
                                    "product_name_eng": "Erik Drawer Unit",
                                    "category_name": "Storage & organisation"
                                },
                                {
                                    "product_id": "P000001097",
                                    "product_name_eng": "Erik Drawer Unit",
                                    "category_name": "Furniture"
                                },
                                {
                                    "product_id": "P000001096",
                                    "product_name_eng": "Alex Drawer Unit",
                                    "category_name": "Storage & organisation"
                                },
                                {
                                    "product_id": "P000001096",
                                    "product_name_eng": "Alex Drawer Unit",
                                    "category_name": "Furniture"
                                },
                                {
                                    "product_id": "P000001806",
                                    "product_name_eng": "Virby Sewing Kit",
                                    "category_name": "Textiles"
                                },
                                {
                                    "product_id": "P000001805",
                                    "product_name_eng": "Sagotupp Sewing Kit",
                                    "category_name": "Textiles"
                                },
                                {
                                    "product_id": "P000001804",
                                    "product_name_eng": "Sommen Sewing Kit",
                                    "category_name": "Textiles"
                                },
                                {
                                    "product_id": "P000001803",
                                    "product_name_eng": "Nallego Sewing Kit",
                                    "category_name": "Textiles"
                                },
                                {
                                    "product_id": "P000001802",
                                    "product_name_eng": "Snofsa Sewing Kit",
                                    "category_name": "Textiles"
                                },
                                {
                                    "product_id": "P000001701",
                                    "product_name_eng": "Indalsal Furniture Cover",
                                    "category_name": "Outdoor products"
                                },
                                {
                                    "product_id": "P000001700",
                                    "product_name_eng": "Holmsel Furniture Cover",
                                    "category_name": "Outdoor products"
                                },
                                {
                                    "product_id": "P000001699",
                                    "product_name_eng": "Rakso Furniture Cover",
                                    "category_name": "Outdoor products"
                                },
                                {
                                    "product_id": "P000001698",
                                    "product_name_eng": "Sommarvind Furniture Cover",
                                    "category_name": "Outdoor products"
                                },
                                {
                                    "product_id": "P000001697",
                                    "product_name_eng": "Somsjon Furniture Cover",
                                    "category_name": "Outdoor products"
                                },
                                {
                                    "product_id": "P000001130",
                                    "product_name_eng": "Fjallbo Console Table",
                                    "category_name": "Storage & organisation"
                                },
                                {
                                    "product_id": "P000001130",
                                    "product_name_eng": "Fjallbo Console Table",
                                    "category_name": "Furniture"
                                },
                                {
                                    "product_id": "P000001129",
                                    "product_name_eng": "Brusali Console Table",
                                    "category_name": "Storage & organisation"
                                },
                                {
                                    "product_id": "P000001129",
                                    "product_name_eng": "Brusali Console Table",
                                    "category_name": "Furniture"
                                },
                                {
                                    "product_id": "P000001128",
                                    "product_name_eng": "Liatorp Console Table",
                                    "category_name": "Storage & organisation"
                                },
                                {
                                    "product_id": "P000001128",
                                    "product_name_eng": "Liatorp Console Table",
                                    "category_name": "Furniture"
                                },
                                {
                                    "product_id": "P000001127",
                                    "product_name_eng": "Lack Console Table",
                                    "category_name": "Storage & organisation"
                                },
                                {
                                    "product_id": "P000001127",
                                    "product_name_eng": "Lack Console Table",
                                    "category_name": "Furniture"
                                },
                                {
                                    "product_id": "P000001126",
                                    "product_name_eng": "Hemnes Console Table",
                                    "category_name": "Storage & organisation"
                                },
                                {
                                    "product_id": "P000001126",
                                    "product_name_eng": "Hemnes Console Table",
                                    "category_name": "Furniture"
                                },
                                {
                                    "product_id": "P000001189",
                                    "product_name_eng": "Sater Sofa",
                                    "category_name": "Furniture"
                                },
                                {
                                    "product_id": "P000001188",
                                    "product_name_eng": "Skogaby Sofa",
                                    "category_name": "Furniture"
                                },
                                {
                                    "product_id": "P000001187",
                                    "product_name_eng": "Muren Sofa",
                                    "category_name": "Furniture"
                                },
                                {
                                    "product_id": "P000001186",
                                    "product_name_eng": "Arvika Sofa",
                                    "category_name": "Furniture"
                                },
                                {
                                    "product_id": "P000001185",
                                    "product_name_eng": "Landskrona Sofa",
                                    "category_name": "Furniture"
                                },
                                {
                                    "product_id": "P000000650",
                                    "product_name_eng": "FORNUFTIG Air Purifier",
                                    "category_name": "Home Electronics"
                                },
                                {
                                    "product_id": "P000000649",
                                    "product_name_eng": "LUFTIG Air Filter",
                                    "category_name": "Home Electronics"
                                },
                                {
                                    "product_id": "P000000648",
                                    "product_name_eng": "LUFTIG Air Purifier",
                                    "category_name": "Home Electronics"
                                },
                                {
                                    "product_id": "P000000647",
                                    "product_name_eng": "FORNUFTIG Air Filter",
                                    "category_name": "Home Electronics"
                                },
                                {
                                    "product_id": "P000000646",
                                    "product_name_eng": "FORNUFTIG Air Purifier",
                                    "category_name": "Home Electronics"
                                },
                                {
                                    "product_id": "P000000645",
                                    "product_name_eng": "LUFTIG Air Filter",
                                    "category_name": "Home Electronics"
                                },
                                {
                                    "product_id": "P000000644",
                                    "product_name_eng": "LUFTIG Air Purifier",
                                    "category_name": "Home Electronics"
                                },
                                {
                                    "product_id": "P000000643",
                                    "product_name_eng": "FORNUFTIG Air Filter",
                                    "category_name": "Home Electronics"
                                },
                                {
                                    "product_id": "P000000642",
                                    "product_name_eng": "FORNUFTIG Air Purifier",
                                    "category_name": "Home Electronics"
                                },
                                {
                                    "product_id": "P000000641",
                                    "product_name_eng": "LUFTRENSA Air Purifier",
                                    "category_name": "Home Electronics"
                                },
                                {
                                    "product_id": "P000001274",
                                    "product_name_eng": "Lidhult Chaise Longue",
                                    "category_name": "Furniture"
                                },
                                {
                                    "product_id": "P000001273",
                                    "product_name_eng": "Soderhamn Chaise Longue",
                                    "category_name": "Furniture"
                                },
                                {
                                    "product_id": "P000001272",
                                    "product_name_eng": "Tylosand Chaise Longue",
                                    "category_name": "Furniture"
                                },
                                {
                                    "product_id": "P000001271",
                                    "product_name_eng": "Holmsund Chaise Longue",
                                    "category_name": "Furniture"
                                },
                                {
                                    "product_id": "P000001270",
                                    "product_name_eng": "Kivik Chaise Longue",
                                    "category_name": "Furniture"
                                },
                                {
                                    "product_id": "P000001389",
                                    "product_name_eng": "Hackig Cooking Tool",
                                    "category_name": "Kitchenware & Tableware"
                                },
                                {
                                    "product_id": "P000001388",
                                    "product_name_eng": "Gryta Cooking Tool",
                                    "category_name": "Kitchenware & Tableware"
                                },
                                {
                                    "product_id": "P000001387",
                                    "product_name_eng": "Skala Cooking Tool",
                                    "category_name": "Kitchenware & Tableware"
                                },
                                {
                                    "product_id": "P000001386",
                                    "product_name_eng": "Steklig Cooking Tool",
                                    "category_name": "Kitchenware & Tableware"
                                },
                                {
                                    "product_id": "P000001385",
                                    "product_name_eng": "Sitron Cooking Tool",
                                    "category_name": "Kitchenware & Tableware"
                                },
                                {
                                    "product_id": "P000000902",
                                    "product_name_eng": "Calathea Desk Plant",
                                    "category_name": "Outdoor products"
                                },
                                {
                                    "product_id": "P000000901",
                                    "product_name_eng": "Pothos Desk Plant",
                                    "category_name": "Outdoor products"
                                },
                                {
                                    "product_id": "P000000900",
                                    "product_name_eng": "Epipremnum Desk Plant",
                                    "category_name": "Outdoor products"
                                },
                                {
                                    "product_id": "P000000899",
                                    "product_name_eng": "Dracaena Desk Plant",
                                    "category_name": "Outdoor products"
                                },
                                {
                                    "product_id": "P000000898",
                                    "product_name_eng": "Malaxis Desk Plant",
                                    "category_name": "Outdoor products"
                                },
                                {
                                    "product_id": "P000000666",
                                    "product_name_eng": "TRADFRI Wireless Dimmer Kit",
                                    "category_name": "Home Electronics"
                                },
                                {
                                    "product_id": "P000000666",
                                    "product_name_eng": "TRADFRI Wireless Dimmer Kit",
                                    "category_name": "IKEA Home Smart"
                                },
                                {
                                    "product_id": "P000000665",
                                    "product_name_eng": "TRADFRI Wireless Remote Control",
                                    "category_name": "Home Electronics"
                                },
                                {
                                    "product_id": "P000000665",
                                    "product_name_eng": "TRADFRI Wireless Remote Control",
                                    "category_name": "IKEA Home Smart"
                                },
                                {
                                    "product_id": "P000000664",
                                    "product_name_eng": "TRADFRI Remote Control Kit",
                                    "category_name": "Home Electronics"
                                },
                                {
                                    "product_id": "P000000664",
                                    "product_name_eng": "TRADFRI Remote Control Kit",
                                    "category_name": "IKEA Home Smart"
                                },
                                {
                                    "product_id": "P000000663",
                                    "product_name_eng": "TRADFRI Gateway Kit",
                                    "category_name": "Home Electronics"
                                },
                                {
                                    "product_id": "P000000663",
                                    "product_name_eng": "TRADFRI Gateway Kit",
                                    "category_name": "IKEA Home Smart"
                                },
                                {
                                    "product_id": "P000000662",
                                    "product_name_eng": "TRADFRI Remote Control",
                                    "category_name": "Home Electronics"
                                },
                                {
                                    "product_id": "P000000662",
                                    "product_name_eng": "TRADFRI Remote Control",
                                    "category_name": "IKEA Home Smart"
                                },
                                {
                                    "product_id": "P000000661",
                                    "product_name_eng": "TRADFRI Wireless Dimmer",
                                    "category_name": "Home Electronics"
                                },
                                {
                                    "product_id": "P000000661",
                                    "product_name_eng": "TRADFRI Wireless Dimmer",
                                    "category_name": "IKEA Home Smart"
                                },
                                {
                                    "product_id": "P000000912",
                                    "product_name_eng": "Fillsta Pendant",
                                    "category_name": "Lighting, lamps & shades"
                                },
                                {
                                    "product_id": "P000000911",
                                    "product_name_eng": "Sinnerlig Pendant",
                                    "category_name": "Lighting, lamps & shades"
                                },
                                {
                                    "product_id": "P000000910",
                                    "product_name_eng": "Knappa Pendant",
                                    "category_name": "Lighting, lamps & shades"
                                },
                                {
                                    "product_id": "P000000909",
                                    "product_name_eng": "Maskros Pendant",
                                    "category_name": "Lighting, lamps & shades"
                                },
                                {
                                    "product_id": "P000000908",
                                    "product_name_eng": "Strala Pendant",
                                    "category_name": "Lighting, lamps & shades"
                                },
                                {
                                    "product_id": "P000001384",
                                    "product_name_eng": "Lagom Mixing Bowl",
                                    "category_name": "Kitchenware & Tableware"
                                },
                                {
                                    "product_id": "P000001383",
                                    "product_name_eng": "Innan Mixing Bowl",
                                    "category_name": "Kitchenware & Tableware"
                                },
                                {
                                    "product_id": "P000001382",
                                    "product_name_eng": "Blanda Mixing Bowl",
                                    "category_name": "Kitchenware & Tableware"
                                },
                                {
                                    "product_id": "P000001381",
                                    "product_name_eng": "Strimlig Measuring Cup",
                                    "category_name": "Kitchenware & Tableware"
                                },
                                {
                                    "product_id": "P000001380",
                                    "product_name_eng": "Fallit Measuring Cup",
                                    "category_name": "Kitchenware & Tableware"
                                },
                                {
                                    "product_id": "P000001696",
                                    "product_name_eng": "Lattjo Plant Pot",
                                    "category_name": "Outdoor products"
                                },
                                {
                                    "product_id": "P000001695",
                                    "product_name_eng": "Krydda Plant Pot",
                                    "category_name": "Outdoor products"
                                },
                                {
                                    "product_id": "P000001694",
                                    "product_name_eng": "Sommar 2022 Plant Pot",
                                    "category_name": "Outdoor products"
                                },
                                {
                                    "product_id": "P000001693",
                                    "product_name_eng": "Skogs Plant Pot",
                                    "category_name": "Outdoor products"
                                },
                                {
                                    "product_id": "P000001692",
                                    "product_name_eng": "Hol Plant Pot",
                                    "category_name": "Outdoor products"
                                },
                                {
                                    "product_id": "P000001364",
                                    "product_name_eng": "Dinnare Mats & Coasters",
                                    "category_name": "Kitchenware & Tableware"
                                },
                                {
                                    "product_id": "P000001364",
                                    "product_name_eng": "Dinnare Mats & Coasters",
                                    "category_name": "Textiles"
                                },
                                {
                                    "product_id": "P000001363",
                                    "product_name_eng": "Foremal Mats & Coasters",
                                    "category_name": "Kitchenware & Tableware"
                                },
                                {
                                    "product_id": "P000001363",
                                    "product_name_eng": "Foremal Mats & Coasters",
                                    "category_name": "Textiles"
                                },
                                {
                                    "product_id": "P000001362",
                                    "product_name_eng": "Okonad Mats & Coasters",
                                    "category_name": "Kitchenware & Tableware"
                                },
                                {
                                    "product_id": "P000001362",
                                    "product_name_eng": "Okonad Mats & Coasters",
                                    "category_name": "Textiles"
                                },
                                {
                                    "product_id": "P000001361",
                                    "product_name_eng": "Rundlig Mats & Coasters",
                                    "category_name": "Kitchenware & Tableware"
                                },
                                {
                                    "product_id": "P000001361",
                                    "product_name_eng": "Rundlig Mats & Coasters",
                                    "category_name": "Textiles"
                                },
                                {
                                    "product_id": "P000001360",
                                    "product_name_eng": "Bjornare Mats & Coasters",
                                    "category_name": "Kitchenware & Tableware"
                                },
                                {
                                    "product_id": "P000001360",
                                    "product_name_eng": "Bjornare Mats & Coasters",
                                    "category_name": "Textiles"
                                },
                                {
                                    "product_id": "P000000600",
                                    "product_name_eng": "SUNDLANDET Clothes Brush",
                                    "category_name": "Laundry & cleaning"
                                },
                                {
                                    "product_id": "P000000599",
                                    "product_name_eng": "SOSDALA Memo Board",
                                    "category_name": "Laundry & cleaning"
                                },
                                {
                                    "product_id": "P000000598",
                                    "product_name_eng": "MALA Easel",
                                    "category_name": "Laundry & cleaning"
                                },
                                {
                                    "product_id": "P000000597",
                                    "product_name_eng": "ANTALGEN Laundry Bag",
                                    "category_name": "Laundry & cleaning"
                                },
                                {
                                    "product_id": "P000000596",
                                    "product_name_eng": "MATVRA Pastry Brush",
                                    "category_name": "Laundry & cleaning"
                                },
                                {
                                    "product_id": "P000000595",
                                    "product_name_eng": "PERSISK Rug",
                                    "category_name": "Laundry & cleaning"
                                },
                                {
                                    "product_id": "P000000594",
                                    "product_name_eng": "GRUNDVATTNET Dish Drainer",
                                    "category_name": "Laundry & cleaning"
                                },
                                {
                                    "product_id": "P000000593",
                                    "product_name_eng": "SPRUTT Dish Drainer",
                                    "category_name": "Laundry & cleaning"
                                },
                                {
                                    "product_id": "P000000592",
                                    "product_name_eng": "GRUNDVATTNET Cleaning Set",
                                    "category_name": "Laundry & cleaning"
                                },
                                {
                                    "product_id": "P000000591",
                                    "product_name_eng": "VISPAD Broom",
                                    "category_name": "Laundry & cleaning"
                                },
                                {
                                    "product_id": "P000000882",
                                    "product_name_eng": "JARPFJALLET Frying Pan",
                                    "category_name": "Kitchenware & Tableware"
                                },
                                {
                                    "product_id": "P000000881",
                                    "product_name_eng": "RISKYTTA Frying Pan",
                                    "category_name": "Kitchenware & Tableware"
                                },
                                {
                                    "product_id": "P000000880",
                                    "product_name_eng": "PRODUKT Frying Pan",
                                    "category_name": "Kitchenware & Tableware"
                                },
                                {
                                    "product_id": "P000000879",
                                    "product_name_eng": "KYRKFJALLET Frying Pan",
                                    "category_name": "Kitchenware & Tableware"
                                },
                                {
                                    "product_id": "P000000878",
                                    "product_name_eng": "STEKANDE Frying Pan",
                                    "category_name": "Kitchenware & Tableware"
                                },
                                {
                                    "product_id": "P000000862",
                                    "product_name_eng": "GLODANDE Fridge",
                                    "category_name": "Kitchen Cabinets & Appliances"
                                },
                                {
                                    "product_id": "P000000862",
                                    "product_name_eng": "GLODANDE Fridge",
                                    "category_name": "Home Electronics"
                                },
                                {
                                    "product_id": "P000000861",
                                    "product_name_eng": "KYLIG Fridge",
                                    "category_name": "Kitchen Cabinets & Appliances"
                                },
                                {
                                    "product_id": "P000000861",
                                    "product_name_eng": "KYLIG Fridge",
                                    "category_name": "Home Electronics"
                                },
                                {
                                    "product_id": "P000000860",
                                    "product_name_eng": "BEVARA Cooling Bag",
                                    "category_name": "Kitchen Cabinets & Appliances"
                                },
                                {
                                    "product_id": "P000000860",
                                    "product_name_eng": "BEVARA Cooling Bag",
                                    "category_name": "Home Electronics"
                                },
                                {
                                    "product_id": "P000000859",
                                    "product_name_eng": "RENLIG Fridge",
                                    "category_name": "Kitchen Cabinets & Appliances"
                                },
                                {
                                    "product_id": "P000000859",
                                    "product_name_eng": "RENLIG Fridge",
                                    "category_name": "Home Electronics"
                                },
                                {
                                    "product_id": "P000000858",
                                    "product_name_eng": "FROSTKALL Freezer",
                                    "category_name": "Kitchen Cabinets & Appliances"
                                },
                                {
                                    "product_id": "P000000858",
                                    "product_name_eng": "FROSTKALL Freezer",
                                    "category_name": "Home Electronics"
                                },
                                {
                                    "product_id": "P000000857",
                                    "product_name_eng": "Skogaby Armchair",
                                    "category_name": "Furniture"
                                },
                                {
                                    "product_id": "P000000856",
                                    "product_name_eng": "Gronlid Armchair",
                                    "category_name": "Furniture"
                                },
                                {
                                    "product_id": "P000000855",
                                    "product_name_eng": "Muren Armchair",
                                    "category_name": "Furniture"
                                },
                                {
                                    "product_id": "P000000854",
                                    "product_name_eng": "Arvika Armchair",
                                    "category_name": "Furniture"
                                },
                                {
                                    "product_id": "P000000853",
                                    "product_name_eng": "Landskrona Armchair",
                                    "category_name": "Furniture"
                                },
                                {
                                    "product_id": "P000000548",
                                    "product_name_eng": "SATSUMAS Plant Mover",
                                    "category_name": "Pots & Plants"
                                },
                                {
                                    "product_id": "P000000547",
                                    "product_name_eng": "BUSKBO Plant Stand",
                                    "category_name": "Pots & Plants"
                                },
                                {
                                    "product_id": "P000000546",
                                    "product_name_eng": "BITTERGURKA Plant Stand",
                                    "category_name": "Pots & Plants"
                                },
                                {
                                    "product_id": "P000000545",
                                    "product_name_eng": "YDDINGEN Plant Stand",
                                    "category_name": "Pots & Plants"
                                },
                                {
                                    "product_id": "P000000544",
                                    "product_name_eng": "SALLADSKAL Plant Mover",
                                    "category_name": "Pots & Plants"
                                },
                                {
                                    "product_id": "P000000543",
                                    "product_name_eng": "BITTERGURKA Plant Mover",
                                    "category_name": "Pots & Plants"
                                },
                                {
                                    "product_id": "P000000542",
                                    "product_name_eng": "LANTLIV Plant Stand",
                                    "category_name": "Pots & Plants"
                                },
                                {
                                    "product_id": "P000000541",
                                    "product_name_eng": "SALLADSKAL Plant Stand",
                                    "category_name": "Pots & Plants"
                                },
                                {
                                    "product_id": "P000000540",
                                    "product_name_eng": "BURVIK Plant Stand",
                                    "category_name": "Pots & Plants"
                                },
                                {
                                    "product_id": "P000000539",
                                    "product_name_eng": "SATSUMAS Plant Stand",
                                    "category_name": "Pots & Plants"
                                },
                                {
                                    "product_id": "P000001339",
                                    "product_name_eng": "Kalas Side Plate",
                                    "category_name": "Kitchenware & Tableware"
                                },
                                {
                                    "product_id": "P000001338",
                                    "product_name_eng": "Variera Side Plate",
                                    "category_name": "Kitchenware & Tableware"
                                },
                                {
                                    "product_id": "P000001337",
                                    "product_name_eng": "Ordning Side Plate",
                                    "category_name": "Kitchenware & Tableware"
                                },
                                {
                                    "product_id": "P000001336",
                                    "product_name_eng": "Dinera Side Plate",
                                    "category_name": "Kitchenware & Tableware"
                                },
                                {
                                    "product_id": "P000001335",
                                    "product_name_eng": "Fargrik Side Plate",
                                    "category_name": "Kitchenware & Tableware"
                                },
                                {
                                    "product_id": "P000000676",
                                    "product_name_eng": "JATTENE Moving Bag",
                                    "category_name": "Home Improvement"
                                },
                                {
                                    "product_id": "P000000675",
                                    "product_name_eng": "SOCKERBIT Moving Box",
                                    "category_name": "Home Improvement"
                                },
                                {
                                    "product_id": "P000000674",
                                    "product_name_eng": "KVARNVIK Storage Box",
                                    "category_name": "Home Improvement"
                                },
                                {
                                    "product_id": "P000000673",
                                    "product_name_eng": "TJENA Storage Box",
                                    "category_name": "Home Improvement"
                                },
                                {
                                    "product_id": "P000000672",
                                    "product_name_eng": "SKUBB Storage Case",
                                    "category_name": "Home Improvement"
                                },
                                {
                                    "product_id": "P000000671",
                                    "product_name_eng": "PLURING Storage Case",
                                    "category_name": "Home Improvement"
                                },
                                {
                                    "product_id": "P000000670",
                                    "product_name_eng": "JATTENE Moving Bag",
                                    "category_name": "Home Improvement"
                                },
                                {
                                    "product_id": "P000000669",
                                    "product_name_eng": "SOCKERBIT Moving Box",
                                    "category_name": "Home Improvement"
                                },
                                {
                                    "product_id": "P000000668",
                                    "product_name_eng": "SAMLA Storage Box",
                                    "category_name": "Home Improvement"
                                },
                                {
                                    "product_id": "P000000667",
                                    "product_name_eng": "GLIS Moving Box",
                                    "category_name": "Home Improvement"
                                },
                                {
                                    "product_id": "P000000962",
                                    "product_name_eng": "Hoppvals Block-out Blind",
                                    "category_name": "Textiles"
                                },
                                {
                                    "product_id": "P000000961",
                                    "product_name_eng": "Insynsskydd Block-out Blind",
                                    "category_name": "Textiles"
                                },
                                {
                                    "product_id": "P000000960",
                                    "product_name_eng": "Fyrtur Block-out Blind",
                                    "category_name": "Textiles"
                                },
                                {
                                    "product_id": "P000000959",
                                    "product_name_eng": "Skogsklover Block-out Blind",
                                    "category_name": "Textiles"
                                },
                                {
                                    "product_id": "P000000958",
                                    "product_name_eng": "Tupplur Block-out Blind",
                                    "category_name": "Textiles"
                                },
                                {
                                    "product_id": "P000001050",
                                    "product_name_eng": "Hemnes Bathroom Furniture Set",
                                    "category_name": "Bathroom Products"
                                },
                                {
                                    "product_id": "P000001049",
                                    "product_name_eng": "Silveran Bathroom Furniture Set",
                                    "category_name": "Bathroom Products"
                                },
                                {
                                    "product_id": "P000001048",
                                    "product_name_eng": "Godmorgon Bathroom Furniture Set",
                                    "category_name": "Bathroom Products"
                                },
                                {
                                    "product_id": "P000001047",
                                    "product_name_eng": "Lillangen Bathroom Furniture Set",
                                    "category_name": "Bathroom Products"
                                },
                                {
                                    "product_id": "P000001046",
                                    "product_name_eng": "Hemnes Bathroom Furniture Set",
                                    "category_name": "Bathroom Products"
                                },
                                {
                                    "product_id": "P000000479",
                                    "product_name_eng": "VILTO Bathroom Set",
                                    "category_name": "Bathroom Products"
                                },
                                {
                                    "product_id": "P000000478",
                                    "product_name_eng": "TYNGEN Bathroom Set",
                                    "category_name": "Bathroom Products"
                                },
                                {
                                    "product_id": "P000000477",
                                    "product_name_eng": "RONNSKAR Bathroom Set",
                                    "category_name": "Bathroom Products"
                                },
                                {
                                    "product_id": "P000000476",
                                    "product_name_eng": "HAGAVIKEN Bathroom Set",
                                    "category_name": "Bathroom Products"
                                },
                                {
                                    "product_id": "P000000475",
                                    "product_name_eng": "SVALNAS Bathroom Set",
                                    "category_name": "Bathroom Products"
                                },
                                {
                                    "product_id": "P000000474",
                                    "product_name_eng": "SILVERAN Bathroom Set",
                                    "category_name": "Bathroom Products"
                                },
                                {
                                    "product_id": "P000000473",
                                    "product_name_eng": "LILLANGEN Bathroom Set",
                                    "category_name": "Bathroom Products"
                                },
                                {
                                    "product_id": "P000000472",
                                    "product_name_eng": "GODMORGON Bathroom Set",
                                    "category_name": "Bathroom Products"
                                },
                                {
                                    "product_id": "P000000471",
                                    "product_name_eng": "HEMNES Bathroom Set",
                                    "category_name": "Bathroom Products"
                                },
                                {
                                    "product_id": "P000000470",
                                    "product_name_eng": "EKET Bathroom Set",
                                    "category_name": "Bathroom Products"
                                },
                                {
                                    "product_id": "P000000419",
                                    "product_name_eng": "SONGESAND Base",
                                    "category_name": "Beds & Mattresses"
                                },
                                {
                                    "product_id": "P000000418",
                                    "product_name_eng": "LONSET Base",
                                    "category_name": "Beds & Mattresses"
                                },
                                {
                                    "product_id": "P000000417",
                                    "product_name_eng": "TRYGGHET Base",
                                    "category_name": "Beds & Mattresses"
                                },
                                {
                                    "product_id": "P000000416",
                                    "product_name_eng": "LEIRSUND Base",
                                    "category_name": "Beds & Mattresses"
                                },
                                {
                                    "product_id": "P000000415",
                                    "product_name_eng": "HEMNES Base",
                                    "category_name": "Beds & Mattresses"
                                },
                                {
                                    "product_id": "P000000414",
                                    "product_name_eng": "NEIDEN Base",
                                    "category_name": "Beds & Mattresses"
                                },
                                {
                                    "product_id": "P000000413",
                                    "product_name_eng": "TARVA Base",
                                    "category_name": "Beds & Mattresses"
                                },
                                {
                                    "product_id": "P000000412",
                                    "product_name_eng": "MALM Base",
                                    "category_name": "Beds & Mattresses"
                                },
                                {
                                    "product_id": "P000000411",
                                    "product_name_eng": "ESPEVAR Base",
                                    "category_name": "Beds & Mattresses"
                                },
                                {
                                    "product_id": "P000000410",
                                    "product_name_eng": "SULTAN Base",
                                    "category_name": "Beds & Mattresses"
                                },
                                {
                                    "product_id": "P000001454",
                                    "product_name_eng": "Tillgjord Picnic Set",
                                    "category_name": "Kitchenware & Tableware"
                                },
                                {
                                    "product_id": "P000001453",
                                    "product_name_eng": "Klack Picnic Cooler",
                                    "category_name": "Kitchenware & Tableware"
                                },
                                {
                                    "product_id": "P000001452",
                                    "product_name_eng": "Sommar 2022 Picnic Blanket",
                                    "category_name": "Kitchenware & Tableware"
                                },
                                {
                                    "product_id": "P000001451",
                                    "product_name_eng": "Knalla Picnic Bag",
                                    "category_name": "Kitchenware & Tableware"
                                },
                                {
                                    "product_id": "P000001450",
                                    "product_name_eng": "Dragan Picnic Basket",
                                    "category_name": "Kitchenware & Tableware"
                                },
                                {
                                    "product_id": "P000001354",
                                    "product_name_eng": "Bryggkaffe Coffee Maker",
                                    "category_name": "Kitchenware & Tableware"
                                },
                                {
                                    "product_id": "P000001353",
                                    "product_name_eng": "Fikarum Coffee Maker",
                                    "category_name": "Kitchenware & Tableware"
                                },
                                {
                                    "product_id": "P000001352",
                                    "product_name_eng": "Kaffegott Coffee Maker",
                                    "category_name": "Kitchenware & Tableware"
                                },
                                {
                                    "product_id": "P000001351",
                                    "product_name_eng": "Sokann Coffee Maker",
                                    "category_name": "Kitchenware & Tableware"
                                },
                                {
                                    "product_id": "P000001350",
                                    "product_name_eng": "Verum Coffee Maker",
                                    "category_name": "Kitchenware & Tableware"
                                },
                                {
                                    "product_id": "P000001776",
                                    "product_name_eng": "Marjun Curtain Rod",
                                    "category_name": "Textiles"
                                },
                                {
                                    "product_id": "P000001775",
                                    "product_name_eng": "Attiy Curtain Rod",
                                    "category_name": "Textiles"
                                },
                                {
                                    "product_id": "P000001774",
                                    "product_name_eng": "Betsoende Curtain Rod",
                                    "category_name": "Textiles"
                                },
                                {
                                    "product_id": "P000001773",
                                    "product_name_eng": "Hugad Curtain Rod",
                                    "category_name": "Textiles"
                                },
                                {
                                    "product_id": "P000001772",
                                    "product_name_eng": "Racka Curtain Rod",
                                    "category_name": "Textiles"
                                },
                                {
                                    "product_id": "P000000987",
                                    "product_name_eng": "Algot Garage Storage",
                                    "category_name": "Storage & organisation"
                                },
                                {
                                    "product_id": "P000000986",
                                    "product_name_eng": "Trofast Garage Storage",
                                    "category_name": "Storage & organisation"
                                },
                                {
                                    "product_id": "P000000985",
                                    "product_name_eng": "Elvarli Garage Storage",
                                    "category_name": "Storage & organisation"
                                },
                                {
                                    "product_id": "P000000984",
                                    "product_name_eng": "Kallax Garage Storage",
                                    "category_name": "Storage & organisation"
                                },
                                {
                                    "product_id": "P000000983",
                                    "product_name_eng": "Fredviken Garage Storage",
                                    "category_name": "Storage & organisation"
                                },
                                {
                                    "product_id": "P000001159",
                                    "product_name_eng": "Mammut Children's Wardrobe",
                                    "category_name": "Storage & organisation"
                                },
                                {
                                    "product_id": "P000001158",
                                    "product_name_eng": "Busunge Children's Wardrobe",
                                    "category_name": "Storage & organisation"
                                },
                                {
                                    "product_id": "P000001157",
                                    "product_name_eng": "Gulliver Children's Wardrobe",
                                    "category_name": "Storage & organisation"
                                },
                                {
                                    "product_id": "P000001156",
                                    "product_name_eng": "Hemnes Children's Wardrobe",
                                    "category_name": "Storage & organisation"
                                },
                                {
                                    "product_id": "P000001155",
                                    "product_name_eng": "Stuva Children's Wardrobe",
                                    "category_name": "Storage & organisation"
                                },
                                {
                                    "product_id": "P000001060",
                                    "product_name_eng": "SKYTTA Sliding Door Handles",
                                    "category_name": "Home Improvement"
                                },
                                {
                                    "product_id": "P000001059",
                                    "product_name_eng": "SKYTTA Sliding Door Hardware",
                                    "category_name": "Home Improvement"
                                },
                                {
                                    "product_id": "P000001058",
                                    "product_name_eng": "SKYTTA Sliding Door Track",
                                    "category_name": "Home Improvement"
                                },
                                {
                                    "product_id": "P000001057",
                                    "product_name_eng": "SKYTTA Sliding Door Frame",
                                    "category_name": "Home Improvement"
                                },
                                {
                                    "product_id": "P000001056",
                                    "product_name_eng": "SKYTTA Sliding Door",
                                    "category_name": "Home Improvement"
                                },
                                {
                                    "product_id": "P000000872",
                                    "product_name_eng": "TILLREDA Microwave Oven",
                                    "category_name": "Kitchen Cabinets & Appliances"
                                },
                                {
                                    "product_id": "P000000872",
                                    "product_name_eng": "TILLREDA Microwave Oven",
                                    "category_name": "Home Electronics"
                                },
                                {
                                    "product_id": "P000000871",
                                    "product_name_eng": "MATALAG Microwave Oven",
                                    "category_name": "Kitchen Cabinets & Appliances"
                                },
                                {
                                    "product_id": "P000000871",
                                    "product_name_eng": "MATALAG Microwave Oven",
                                    "category_name": "Home Electronics"
                                },
                                {
                                    "product_id": "P000000870",
                                    "product_name_eng": "KULINARISK Microwave Oven",
                                    "category_name": "Kitchen Cabinets & Appliances"
                                },
                                {
                                    "product_id": "P000000870",
                                    "product_name_eng": "KULINARISK Microwave Oven",
                                    "category_name": "Home Electronics"
                                },
                                {
                                    "product_id": "P000000869",
                                    "product_name_eng": "SVALNA Microwave Oven",
                                    "category_name": "Kitchen Cabinets & Appliances"
                                },
                                {
                                    "product_id": "P000000869",
                                    "product_name_eng": "SVALNA Microwave Oven",
                                    "category_name": "Home Electronics"
                                },
                                {
                                    "product_id": "P000000868",
                                    "product_name_eng": "RENODLIG Microwave Oven",
                                    "category_name": "Kitchen Cabinets & Appliances"
                                },
                                {
                                    "product_id": "P000000868",
                                    "product_name_eng": "RENODLIG Microwave Oven",
                                    "category_name": "Home Electronics"
                                },
                                {
                                    "product_id": "P000001229",
                                    "product_name_eng": "Lappland Outdoor Seating",
                                    "category_name": "Furniture"
                                },
                                {
                                    "product_id": "P000001229",
                                    "product_name_eng": "Lappland Outdoor Seating",
                                    "category_name": "Outdoor products"
                                },
                                {
                                    "product_id": "P000001228",
                                    "product_name_eng": "Askholmen Outdoor Seating",
                                    "category_name": "Furniture"
                                },
                                {
                                    "product_id": "P000001228",
                                    "product_name_eng": "Askholmen Outdoor Seating",
                                    "category_name": "Outdoor products"
                                },
                                {
                                    "product_id": "P000001227",
                                    "product_name_eng": "Sjalland Outdoor Seating",
                                    "category_name": "Furniture"
                                },
                                {
                                    "product_id": "P000001227",
                                    "product_name_eng": "Sjalland Outdoor Seating",
                                    "category_name": "Outdoor products"
                                },
                                {
                                    "product_id": "P000001226",
                                    "product_name_eng": "Arholma Outdoor Seating",
                                    "category_name": "Furniture"
                                },
                                {
                                    "product_id": "P000001226",
                                    "product_name_eng": "Arholma Outdoor Seating",
                                    "category_name": "Outdoor products"
                                },
                                {
                                    "product_id": "P000001225",
                                    "product_name_eng": "Solleron Outdoor Seating",
                                    "category_name": "Furniture"
                                },
                                {
                                    "product_id": "P000001225",
                                    "product_name_eng": "Solleron Outdoor Seating",
                                    "category_name": "Outdoor products"
                                },
                                {
                                    "product_id": "P000000957",
                                    "product_name_eng": "Skena Electric Blind",
                                    "category_name": "Textiles"
                                },
                                {
                                    "product_id": "P000000956",
                                    "product_name_eng": "Tupplur Electric Blind",
                                    "category_name": "Textiles"
                                },
                                {
                                    "product_id": "P000000955",
                                    "product_name_eng": "Schottis Electric Blind",
                                    "category_name": "Textiles"
                                },
                                {
                                    "product_id": "P000000954",
                                    "product_name_eng": "Kadrilj Electric Blind",
                                    "category_name": "Textiles"
                                },
                                {
                                    "product_id": "P000000953",
                                    "product_name_eng": "Fyrtur Electric Blind",
                                    "category_name": "Textiles"
                                },
                                {
                                    "product_id": "P000001169",
                                    "product_name_eng": "Kusiner Children's Basket",
                                    "category_name": "Storage & organisation"
                                },
                                {
                                    "product_id": "P000001168",
                                    "product_name_eng": "Flisat Children's Box",
                                    "category_name": "Storage & organisation"
                                },
                                {
                                    "product_id": "P000001167",
                                    "product_name_eng": "Skubb Children's Box",
                                    "category_name": "Storage & organisation"
                                },
                                {
                                    "product_id": "P000001166",
                                    "product_name_eng": "Trofast Children's Box",
                                    "category_name": "Storage & organisation"
                                },
                                {
                                    "product_id": "P000001165",
                                    "product_name_eng": "Drona Children's Box",
                                    "category_name": "Storage & organisation"
                                },
                                {
                                    "product_id": "P000000379",
                                    "product_name_eng": "DIODER LED Cabinet Light",
                                    "category_name": "Lighting, lamps & shades"
                                },
                                {
                                    "product_id": "P000000378",
                                    "product_name_eng": "UPPBO LED Spotlight",
                                    "category_name": "Lighting, lamps & shades"
                                },
                                {
                                    "product_id": "P000000377",
                                    "product_name_eng": "LEDSJO LED Wall Lamp",
                                    "category_name": "Lighting, lamps & shades"
                                },
                                {
                                    "product_id": "P000000231",
                                    "product_name_eng": "TRADFRI LED Panel",
                                    "category_name": "Lighting, lamps & shades"
                                },
                                {
                                    "product_id": "P000000376",
                                    "product_name_eng": "LJUSTER LED Spotlight",
                                    "category_name": "Lighting, lamps & shades"
                                },
                                {
                                    "product_id": "P000000375",
                                    "product_name_eng": "DIODER LED Strip",
                                    "category_name": "Lighting, lamps & shades"
                                },
                                {
                                    "product_id": "P000000374",
                                    "product_name_eng": "BLOMNING LED Wall Lamp",
                                    "category_name": "Lighting, lamps & shades"
                                },
                                {
                                    "product_id": "P000000373",
                                    "product_name_eng": "LEDARE LED Bulb",
                                    "category_name": "Lighting, lamps & shades"
                                },
                                {
                                    "product_id": "P000000372",
                                    "product_name_eng": "MOLGAN LED Light",
                                    "category_name": "Lighting, lamps & shades"
                                },
                                {
                                    "product_id": "P000000371",
                                    "product_name_eng": "LAGAN LED Cabinet Lighting",
                                    "category_name": "Lighting, lamps & shades"
                                },
                                {
                                    "product_id": "P000000370",
                                    "product_name_eng": "KOPPLA LED Light Strip",
                                    "category_name": "Lighting, lamps & shades"
                                },
                                {
                                    "product_id": "P000000369",
                                    "product_name_eng": "TRADFRI LED Driver",
                                    "category_name": "Lighting, lamps & shades"
                                },
                                {
                                    "product_id": "P000000229",
                                    "product_name_eng": "SURTE LED Work Lamp",
                                    "category_name": "Lighting, lamps & shades"
                                },
                                {
                                    "product_id": "P000000212",
                                    "product_name_eng": "OMLOPP LED Spotlight",
                                    "category_name": "Lighting, lamps & shades"
                                },
                                {
                                    "product_id": "P000000368",
                                    "product_name_eng": "FYRKANTIG LED Cabinet Lighting",
                                    "category_name": "Lighting, lamps & shades"
                                },
                                {
                                    "product_id": "P000000367",
                                    "product_name_eng": "RIGGAD Work Lamp with Wireless Charging",
                                    "category_name": "Lighting, lamps & shades"
                                },
                                {
                                    "product_id": "P000000211",
                                    "product_name_eng": "ANSLUTA LED Driver",
                                    "category_name": "Lighting, lamps & shades"
                                },
                                {
                                    "product_id": "P000000230",
                                    "product_name_eng": "OMLOPP LED Worktop Light",
                                    "category_name": "Lighting, lamps & shades"
                                },
                                {
                                    "product_id": "P000000366",
                                    "product_name_eng": "MAGLEHULT LED Spotlight",
                                    "category_name": "Lighting, lamps & shades"
                                },
                                {
                                    "product_id": "P000000365",
                                    "product_name_eng": "NORRFLY LED Night Light",
                                    "category_name": "Lighting, lamps & shades"
                                },
                                {
                                    "product_id": "P000000364",
                                    "product_name_eng": "VINTERLE LED Pendant Lamp",
                                    "category_name": "Lighting, lamps & shades"
                                },
                                {
                                    "product_id": "P000000363",
                                    "product_name_eng": "GRUNDLED LED Cabinet Light",
                                    "category_name": "Lighting, lamps & shades"
                                },
                                {
                                    "product_id": "P000000213",
                                    "product_name_eng": "TRADFRI LED Bulb",
                                    "category_name": "Lighting, lamps & shades"
                                },
                                {
                                    "product_id": "P000000362",
                                    "product_name_eng": "SANDA LED Light Strip",
                                    "category_name": "Lighting, lamps & shades"
                                },
                                {
                                    "product_id": "P000000214",
                                    "product_name_eng": "JANSJO LED Wall/Clamp Spotlight",
                                    "category_name": "Lighting, lamps & shades"
                                },
                                {
                                    "product_id": "P000000361",
                                    "product_name_eng": "JANSJO LED Wall Lamp",
                                    "category_name": "Lighting, lamps & shades"
                                },
                                {
                                    "product_id": "P000000360",
                                    "product_name_eng": "TJYVLED LED Cabinet Lighting",
                                    "category_name": "Lighting, lamps & shades"
                                },
                                {
                                    "product_id": "P000000359",
                                    "product_name_eng": "GLENN LED Track Light",
                                    "category_name": "Lighting, lamps & shades"
                                },
                                {
                                    "product_id": "P000000358",
                                    "product_name_eng": "HONK LED Spotlight",
                                    "category_name": "Lighting, lamps & shades"
                                },
                                {
                                    "product_id": "P000001487",
                                    "product_name_eng": "Roholt Plant Pot",
                                    "category_name": "Home Decoration"
                                },
                                {
                                    "product_id": "P000001487",
                                    "product_name_eng": "Roholt Plant Pot",
                                    "category_name": "Pots & Plants"
                                },
                                {
                                    "product_id": "P000000322",
                                    "product_name_eng": "SVIRVEL Pendant Lamp",
                                    "category_name": "Home Decoration"
                                },
                                {
                                    "product_id": "P000000322",
                                    "product_name_eng": "SVIRVEL Pendant Lamp",
                                    "category_name": "Pots & Plants"
                                },
                                {
                                    "product_id": "P000001486",
                                    "product_name_eng": "Bolltistel Plant Pot",
                                    "category_name": "Home Decoration"
                                },
                                {
                                    "product_id": "P000001486",
                                    "product_name_eng": "Bolltistel Plant Pot",
                                    "category_name": "Pots & Plants"
                                },
                                {
                                    "product_id": "P000001485",
                                    "product_name_eng": "Veggie Plant Pot",
                                    "category_name": "Home Decoration"
                                },
                                {
                                    "product_id": "P000001485",
                                    "product_name_eng": "Veggie Plant Pot",
                                    "category_name": "Pots & Plants"
                                },
                                {
                                    "product_id": "P000001484",
                                    "product_name_eng": "Flisat Plant Pot",
                                    "category_name": "Home Decoration"
                                },
                                {
                                    "product_id": "P000001484",
                                    "product_name_eng": "Flisat Plant Pot",
                                    "category_name": "Pots & Plants"
                                },
                                {
                                    "product_id": "P000000842",
                                    "product_name_eng": "Baggabo Hallway Bench",
                                    "category_name": "Furniture"
                                },
                                {
                                    "product_id": "P000000841",
                                    "product_name_eng": "Platsa Hallway Bench",
                                    "category_name": "Furniture"
                                },
                                {
                                    "product_id": "P000000840",
                                    "product_name_eng": "StjArnvalvet Hallway Bench",
                                    "category_name": "Furniture"
                                },
                                {
                                    "product_id": "P000000839",
                                    "product_name_eng": "Tjusig Hallway Bench",
                                    "category_name": "Furniture"
                                },
                                {
                                    "product_id": "P000000838",
                                    "product_name_eng": "Hemnes Hallway Bench",
                                    "category_name": "Furniture"
                                },
                                {
                                    "product_id": "P000000832",
                                    "product_name_eng": "Renberget Office Chair",
                                    "category_name": "Furniture"
                                },
                                {
                                    "product_id": "P000000831",
                                    "product_name_eng": "Hattefjall Office Chair",
                                    "category_name": "Furniture"
                                },
                                {
                                    "product_id": "P000000830",
                                    "product_name_eng": "Lillhojden Office Chair",
                                    "category_name": "Furniture"
                                },
                                {
                                    "product_id": "P000000829",
                                    "product_name_eng": "Jarvfjallet Office Chair",
                                    "category_name": "Furniture"
                                },
                                {
                                    "product_id": "P000000828",
                                    "product_name_eng": "Markus Office Chair",
                                    "category_name": "Furniture"
                                },
                                {
                                    "product_id": "P000000739",
                                    "product_name_eng": "GLITTRIG Lumbar Cushion",
                                    "category_name": "Textiles"
                                },
                                {
                                    "product_id": "P000000738",
                                    "product_name_eng": "BILLY Lumbar Cushion",
                                    "category_name": "Textiles"
                                },
                                {
                                    "product_id": "P000000737",
                                    "product_name_eng": "BACKIG Lumbar Cushion",
                                    "category_name": "Textiles"
                                },
                                {
                                    "product_id": "P000000736",
                                    "product_name_eng": "ALINA Lumbar Cushion",
                                    "category_name": "Textiles"
                                },
                                {
                                    "product_id": "P000000735",
                                    "product_name_eng": "KALLSKAR Lumbar Cushion",
                                    "category_name": "Textiles"
                                },
                                {
                                    "product_id": "P000000734",
                                    "product_name_eng": "GASPA Lumbar Cushion",
                                    "category_name": "Textiles"
                                },
                                {
                                    "product_id": "P000000733",
                                    "product_name_eng": "HALO Lumbar Cushion",
                                    "category_name": "Textiles"
                                },
                                {
                                    "product_id": "P000000732",
                                    "product_name_eng": "BJORNLOKA Lumbar Cushion",
                                    "category_name": "Textiles"
                                },
                                {
                                    "product_id": "P000000731",
                                    "product_name_eng": "ROBIN Lumbar Cushion",
                                    "category_name": "Textiles"
                                },
                                {
                                    "product_id": "P000000730",
                                    "product_name_eng": "VILGOT Lumbar Cushion",
                                    "category_name": "Textiles"
                                },
                                {
                                    "product_id": "P000001631",
                                    "product_name_eng": "Askasund Bathroom Countertop",
                                    "category_name": "Bathroom Products"
                                },
                                {
                                    "product_id": "P000001630",
                                    "product_name_eng": "Mossund Bathroom Countertop",
                                    "category_name": "Bathroom Products"
                                },
                                {
                                    "product_id": "P000001629",
                                    "product_name_eng": "Tolken Bathroom Countertop",
                                    "category_name": "Bathroom Products"
                                },
                                {
                                    "product_id": "P000001628",
                                    "product_name_eng": "Odensvik Bathroom Countertop",
                                    "category_name": "Bathroom Products"
                                },
                                {
                                    "product_id": "P000001627",
                                    "product_name_eng": "Holmen Bathroom Countertop",
                                    "category_name": "Bathroom Products"
                                },
                                {
                                    "product_id": "P000000449",
                                    "product_name_eng": "LONSET Slatted Bed Base",
                                    "category_name": "Beds & Mattresses"
                                },
                                {
                                    "product_id": "P000000448",
                                    "product_name_eng": "TYSSEDAL Slatted Bed Base",
                                    "category_name": "Beds & Mattresses"
                                },
                                {
                                    "product_id": "P000000447",
                                    "product_name_eng": "LONSET Slatted Bed Base",
                                    "category_name": "Beds & Mattresses"
                                },
                                {
                                    "product_id": "P000000446",
                                    "product_name_eng": "SONGESAND Slatted Bed Base",
                                    "category_name": "Beds & Mattresses"
                                },
                                {
                                    "product_id": "P000000445",
                                    "product_name_eng": "LONSET Slatted Bed Base",
                                    "category_name": "Beds & Mattresses"
                                },
                                {
                                    "product_id": "P000000444",
                                    "product_name_eng": "LEIRVIK Slatted Bed Base",
                                    "category_name": "Beds & Mattresses"
                                },
                                {
                                    "product_id": "P000000443",
                                    "product_name_eng": "LONSET Slatted Bed Base",
                                    "category_name": "Beds & Mattresses"
                                },
                                {
                                    "product_id": "P000000442",
                                    "product_name_eng": "LEIRSUND Slatted Bed Base",
                                    "category_name": "Beds & Mattresses"
                                },
                                {
                                    "product_id": "P000000441",
                                    "product_name_eng": "LONSET Slatted Bed Base",
                                    "category_name": "Beds & Mattresses"
                                },
                                {
                                    "product_id": "P000000440",
                                    "product_name_eng": "LUROY Slatted Bed Base",
                                    "category_name": "Beds & Mattresses"
                                },
                                {
                                    "product_id": "P000000538",
                                    "product_name_eng": "VITFJALL Bath Mat",
                                    "category_name": "Rugs, mats & flooring"
                                },
                                {
                                    "product_id": "P000000537",
                                    "product_name_eng": "TEJN Bath Mat",
                                    "category_name": "Rugs, mats & flooring"
                                },
                                {
                                    "product_id": "P000000536",
                                    "product_name_eng": "RORKAR Bath Mat",
                                    "category_name": "Rugs, mats & flooring"
                                },
                                {
                                    "product_id": "P000000535",
                                    "product_name_eng": "ALSTERN Bath Mat",
                                    "category_name": "Rugs, mats & flooring"
                                },
                                {
                                    "product_id": "P000000534",
                                    "product_name_eng": "SAMSPEL Bath Mat",
                                    "category_name": "Rugs, mats & flooring"
                                },
                                {
                                    "product_id": "P000000533",
                                    "product_name_eng": "HOJERUP Bath Mat",
                                    "category_name": "Rugs, mats & flooring"
                                },
                                {
                                    "product_id": "P000000532",
                                    "product_name_eng": "VADSJON Bath Mat",
                                    "category_name": "Rugs, mats & flooring"
                                },
                                {
                                    "product_id": "P000000531",
                                    "product_name_eng": "BORRBY Bath Mat",
                                    "category_name": "Rugs, mats & flooring"
                                },
                                {
                                    "product_id": "P000000530",
                                    "product_name_eng": "FROSON Bath Mat",
                                    "category_name": "Rugs, mats & flooring"
                                },
                                {
                                    "product_id": "P000000529",
                                    "product_name_eng": "TOFTBO Bath Mat",
                                    "category_name": "Rugs, mats & flooring"
                                }
                            ]
                        },
                        "text/html": "<table><tr><th>product_id</th><th>product_name_eng</th><th>category_name</th></tr><tr><td>P000001826</td><td>BOAXEL Storage Combination E</td><td>Storage &amp; organisation</td></tr><tr><td>P000001826</td><td>BOAXEL Storage Combination E</td><td>Furniture</td></tr><tr><td>P000001825</td><td>BOAXEL Storage Combination D</td><td>Storage &amp; organisation</td></tr><tr><td>P000001825</td><td>BOAXEL Storage Combination D</td><td>Furniture</td></tr><tr><td>P000001824</td><td>BOAXEL Storage Combination C</td><td>Storage &amp; organisation</td></tr><tr><td>P000001824</td><td>BOAXEL Storage Combination C</td><td>Furniture</td></tr><tr><td>P000001823</td><td>BOAXEL Storage Combination B</td><td>Storage &amp; organisation</td></tr><tr><td>P000001823</td><td>BOAXEL Storage Combination B</td><td>Furniture</td></tr><tr><td>P000001822</td><td>BOAXEL Storage Combination A</td><td>Storage &amp; organisation</td></tr><tr><td>P000001822</td><td>BOAXEL Storage Combination A</td><td>Furniture</td></tr><tr><td>P000001831</td><td>BOAXEL Wire Basket</td><td>Storage &amp; organisation</td></tr><tr><td>P000001831</td><td>BOAXEL Wire Basket</td><td>Furniture</td></tr><tr><td>P000001830</td><td>BOAXEL Clothes Rail</td><td>Storage &amp; organisation</td></tr><tr><td>P000001830</td><td>BOAXEL Clothes Rail</td><td>Furniture</td></tr><tr><td>P000001829</td><td>BOAXEL Rod</td><td>Storage &amp; organisation</td></tr><tr><td>P000001829</td><td>BOAXEL Rod</td><td>Furniture</td></tr><tr><td>P000001828</td><td>BOAXEL Bracket</td><td>Storage &amp; organisation</td></tr><tr><td>P000001828</td><td>BOAXEL Bracket</td><td>Furniture</td></tr><tr><td>P000001827</td><td>BOAXEL Shelf</td><td>Storage &amp; organisation</td></tr><tr><td>P000001827</td><td>BOAXEL Shelf</td><td>Furniture</td></tr><tr><td>P000001836</td><td>BESTA TV Bench 5</td><td>Furniture</td></tr><tr><td>P000001835</td><td>BESTA TV Bench 4</td><td>Furniture</td></tr><tr><td>P000001834</td><td>BESTA TV Bench 3</td><td>Furniture</td></tr><tr><td>P000001833</td><td>BESTA TV Bench 2</td><td>Furniture</td></tr><tr><td>P000001832</td><td>BESTA TV Bench 1</td><td>Furniture</td></tr><tr><td>P000001841</td><td>BESTA Storage Combination E</td><td>Furniture</td></tr><tr><td>P000001840</td><td>BESTA Storage Combination D</td><td>Furniture</td></tr><tr><td>P000001839</td><td>BESTA Storage Combination C</td><td>Furniture</td></tr><tr><td>P000001838</td><td>BESTA Storage Combination B</td><td>Furniture</td></tr><tr><td>P000001837</td><td>BESTA Storage Combination A</td><td>Furniture</td></tr><tr><td>P000001846</td><td>BESTA Display Combination 5</td><td>Furniture</td></tr><tr><td>P000001845</td><td>BESTA Display Combination 4</td><td>Furniture</td></tr><tr><td>P000001844</td><td>BESTA Display Combination 3</td><td>Furniture</td></tr><tr><td>P000001843</td><td>BESTA Display Combination 2</td><td>Furniture</td></tr><tr><td>P000001842</td><td>BESTA Display Combination 1</td><td>Furniture</td></tr><tr><td>P000001851</td><td>BESTA Media Combination 5</td><td>Furniture</td></tr><tr><td>P000001850</td><td>BESTA Media Combination 4</td><td>Furniture</td></tr><tr><td>P000001849</td><td>BESTA Media Combination 3</td><td>Furniture</td></tr><tr><td>P000001848</td><td>BESTA Media Combination 2</td><td>Furniture</td></tr><tr><td>P000001847</td><td>BESTA Media Combination 1</td><td>Furniture</td></tr><tr><td>P000001857</td><td>BESTA Sideboard 5</td><td>Furniture</td></tr><tr><td>P000001856</td><td>BESTA Sideboard 5</td><td>Furniture</td></tr><tr><td>P000001855</td><td>BESTA Sideboard 4</td><td>Furniture</td></tr><tr><td>P000001854</td><td>BESTA Sideboard 3</td><td>Furniture</td></tr><tr><td>P000001853</td><td>BESTA Sideboard 2</td><td>Furniture</td></tr><tr><td>P000001852</td><td>BESTA Sideboard 1</td><td>Furniture</td></tr><tr><td>P000001289</td><td>Abiie Highchair</td><td>Furniture</td></tr><tr><td>P000001288</td><td>Beaba Highchair</td><td>Furniture</td></tr><tr><td>P000001287</td><td>Stokke Highchair</td><td>Furniture</td></tr><tr><td>P000001286</td><td>Sundvik Highchair</td><td>Furniture</td></tr><tr><td>P000001285</td><td>Blames Highchair</td><td>Furniture</td></tr><tr><td>P000001025</td><td>Lyckad Artificial Plant</td><td>Home Decoration</td></tr><tr><td>P000001025</td><td>Lyckad Artificial Plant</td><td>Pots &amp; Plants</td></tr><tr><td>P000001024</td><td>Fejka Artificial Grass</td><td>Home Decoration</td></tr><tr><td>P000001024</td><td>Fejka Artificial Grass</td><td>Pots &amp; Plants</td></tr><tr><td>P000001023</td><td>Rapp Artificial Plant</td><td>Home Decoration</td></tr><tr><td>P000001023</td><td>Rapp Artificial Plant</td><td>Pots &amp; Plants</td></tr><tr><td>P000001022</td><td>Smycka Artificial Flowers</td><td>Home Decoration</td></tr><tr><td>P000001022</td><td>Smycka Artificial Flowers</td><td>Pots &amp; Plants</td></tr><tr><td>P000001021</td><td>Fejka Artificial Plant</td><td>Home Decoration</td></tr><tr><td>P000001021</td><td>Fejka Artificial Plant</td><td>Pots &amp; Plants</td></tr><tr><td>P000001095</td><td>Kullen Chest of Drawers</td><td>Storage &amp; organisation</td></tr><tr><td>P000001095</td><td>Kullen Chest of Drawers</td><td>Furniture</td></tr><tr><td>P000001094</td><td>Brusali Chest of Drawers</td><td>Storage &amp; organisation</td></tr><tr><td>P000001094</td><td>Brusali Chest of Drawers</td><td>Furniture</td></tr><tr><td>P000001093</td><td>Koppang Chest of Drawers</td><td>Storage &amp; organisation</td></tr><tr><td>P000001093</td><td>Koppang Chest of Drawers</td><td>Furniture</td></tr><tr><td>P000001092</td><td>Hemnes Chest of Drawers</td><td>Storage &amp; organisation</td></tr><tr><td>P000001092</td><td>Hemnes Chest of Drawers</td><td>Furniture</td></tr><tr><td>P000001091</td><td>Malm Chest of Drawers</td><td>Storage &amp; organisation</td></tr><tr><td>P000001091</td><td>Malm Chest of Drawers</td><td>Furniture</td></tr><tr><td>P000001469</td><td>Foremal Box</td><td>Home Decoration</td></tr><tr><td>P000001468</td><td>Kuber Box</td><td>Home Decoration</td></tr><tr><td>P000001467</td><td>Salong Box</td><td>Home Decoration</td></tr><tr><td>P000001466</td><td>Torka Box</td><td>Home Decoration</td></tr><tr><td>P000001465</td><td>Glasig Box</td><td>Home Decoration</td></tr><tr><td>P000000777</td><td>Rast Drawer Unit</td><td>Storage &amp; organisation</td></tr><tr><td>P000000777</td><td>Rast Drawer Unit</td><td>Furniture</td></tr><tr><td>P000000776</td><td>Brimnes Drawer Unit</td><td>Storage &amp; organisation</td></tr><tr><td>P000000776</td><td>Brimnes Drawer Unit</td><td>Furniture</td></tr><tr><td>P000000775</td><td>Alex Drawer Unit</td><td>Storage &amp; organisation</td></tr><tr><td>P000000775</td><td>Alex Drawer Unit</td><td>Furniture</td></tr><tr><td>P000000774</td><td>Malm Drawer Unit</td><td>Storage &amp; organisation</td></tr><tr><td>P000000774</td><td>Malm Drawer Unit</td><td>Furniture</td></tr><tr><td>P000000773</td><td>Hemnes Drawer Unit</td><td>Storage &amp; organisation</td></tr><tr><td>P000000773</td><td>Hemnes Drawer Unit</td><td>Furniture</td></tr><tr><td>P000001586</td><td>Inlagd Pillow</td><td>Beds &amp; Mattresses</td></tr><tr><td>P000001586</td><td>Inlagd Pillow</td><td>Textiles</td></tr><tr><td>P000001585</td><td>Minnensota Pillow</td><td>Beds &amp; Mattresses</td></tr><tr><td>P000001585</td><td>Minnensota Pillow</td><td>Textiles</td></tr><tr><td>P000001584</td><td>Slan Pillow</td><td>Beds &amp; Mattresses</td></tr><tr><td>P000001584</td><td>Slan Pillow</td><td>Textiles</td></tr><tr><td>P000001583</td><td>Mjuk Pillow</td><td>Beds &amp; Mattresses</td></tr><tr><td>P000001583</td><td>Mjuk Pillow</td><td>Textiles</td></tr><tr><td>P000001582</td><td>Rensar Pillow</td><td>Beds &amp; Mattresses</td></tr><tr><td>P000001582</td><td>Rensar Pillow</td><td>Textiles</td></tr><tr><td>P000001304</td><td>Springa Drawer Divider</td><td>Kitchen Cabinets &amp; Appliances</td></tr><tr><td>P000001303</td><td>Kuggis Drawer Divider</td><td>Kitchen Cabinets &amp; Appliances</td></tr><tr><td>P000001302</td><td>Kallax Drawer Divider</td><td>Kitchen Cabinets &amp; Appliances</td></tr><tr><td>P000001301</td><td>Variera Drawer Divider</td><td>Kitchen Cabinets &amp; Appliances</td></tr><tr><td>P000001300</td><td>Komplement Drawer Divider</td><td>Kitchen Cabinets &amp; Appliances</td></tr><tr><td>P000000887</td><td>IDEALISK Kitchenware Set</td><td>Kitchenware &amp; Tableware</td></tr><tr><td>P000000886</td><td>VARDAGEN Kitchenware Set</td><td>Kitchenware &amp; Tableware</td></tr><tr><td>P000000885</td><td>LUSTIGT Kitchenware Set</td><td>Kitchenware &amp; Tableware</td></tr><tr><td>P000000884</td><td>DRAGAN Kitchenware Set</td><td>Kitchenware &amp; Tableware</td></tr><tr><td>P000000883</td><td>SPRITTA Kitchenware Set</td><td>Kitchenware &amp; Tableware</td></tr><tr><td>P000001120</td><td>Plastis Food Container</td><td>Storage &amp; organisation</td></tr><tr><td>P000001120</td><td>Plastis Food Container</td><td>Kitchen Cabinets &amp; Appliances</td></tr><tr><td>P000001120</td><td>Plastis Food Container</td><td>Kitchenware &amp; Tableware</td></tr><tr><td>P000001119</td><td>Bevara Food Container</td><td>Storage &amp; organisation</td></tr><tr><td>P000001119</td><td>Bevara Food Container</td><td>Kitchen Cabinets &amp; Appliances</td></tr><tr><td>P000001119</td><td>Bevara Food Container</td><td>Kitchenware &amp; Tableware</td></tr><tr><td>P000001118</td><td>Istad Food Container</td><td>Storage &amp; organisation</td></tr><tr><td>P000001118</td><td>Istad Food Container</td><td>Kitchen Cabinets &amp; Appliances</td></tr><tr><td>P000001118</td><td>Istad Food Container</td><td>Kitchenware &amp; Tableware</td></tr><tr><td>P000001117</td><td>Pruta Food Container</td><td>Storage &amp; organisation</td></tr><tr><td>P000001117</td><td>Pruta Food Container</td><td>Kitchen Cabinets &amp; Appliances</td></tr><tr><td>P000001117</td><td>Pruta Food Container</td><td>Kitchenware &amp; Tableware</td></tr><tr><td>P000001116</td><td>Variera Food Container</td><td>Storage &amp; organisation</td></tr><tr><td>P000001116</td><td>Variera Food Container</td><td>Kitchen Cabinets &amp; Appliances</td></tr><tr><td>P000001116</td><td>Variera Food Container</td><td>Kitchenware &amp; Tableware</td></tr><tr><td>P000001522</td><td>Begavning Alarm Clock</td><td>Home Decoration</td></tr><tr><td>P000001521</td><td>Trulig Alarm Clock</td><td>Home Decoration</td></tr><tr><td>P000001520</td><td>Kloka Alarm Clock</td><td>Home Decoration</td></tr><tr><td>P000001519</td><td>Margon Alarm Clock</td><td>Home Decoration</td></tr><tr><td>P000001518</td><td>Slom Alarm Clock</td><td>Home Decoration</td></tr><tr><td>P000001434</td><td>Klara Apron</td><td>Kitchenware &amp; Tableware</td></tr><tr><td>P000001434</td><td>Klara Apron</td><td>Textiles</td></tr><tr><td>P000001433</td><td>Tidlaga Apron</td><td>Kitchenware &amp; Tableware</td></tr><tr><td>P000001433</td><td>Tidlaga Apron</td><td>Textiles</td></tr><tr><td>P000001432</td><td>Fantastisk Apron</td><td>Kitchenware &amp; Tableware</td></tr><tr><td>P000001432</td><td>Fantastisk Apron</td><td>Textiles</td></tr><tr><td>P000001431</td><td>Kungskrabba Apron</td><td>Kitchenware &amp; Tableware</td></tr><tr><td>P000001431</td><td>Kungskrabba Apron</td><td>Textiles</td></tr><tr><td>P000001430</td><td>Prickig Apron</td><td>Kitchenware &amp; Tableware</td></tr><tr><td>P000001430</td><td>Prickig Apron</td><td>Textiles</td></tr><tr><td>P000000140</td><td>STUVA Toy Shelf</td><td>Furniture</td></tr><tr><td>P000000139</td><td>PALLRA Toy Chest</td><td>Furniture</td></tr><tr><td>P000000138</td><td>RORANDE Toy Storage</td><td>Furniture</td></tr><tr><td>P000000137</td><td>BUSA Toy Basket</td><td>Furniture</td></tr><tr><td>P000000136</td><td>SPISIG Toy Cupboard</td><td>Furniture</td></tr><tr><td>P000000135</td><td>KALLAX Toy Shelf</td><td>Furniture</td></tr><tr><td>P000000134</td><td>SMILA Toy Box</td><td>Furniture</td></tr><tr><td>P000000133</td><td>GULLIVER Toy Organizer</td><td>Furniture</td></tr><tr><td>P000000132</td><td>HENSVIK Toy Chest</td><td>Furniture</td></tr><tr><td>P000000131</td><td>MAMMUT Toy Storage</td><td>Furniture</td></tr><tr><td>P000000130</td><td>LATT Toy Shelf</td><td>Furniture</td></tr><tr><td>P000000129</td><td>SUNDVIK Toy Box</td><td>Furniture</td></tr><tr><td>P000000128</td><td>HEMNES Toy Organizer</td><td>Furniture</td></tr><tr><td>P000000127</td><td>LILLABO Toy Chest</td><td>Furniture</td></tr><tr><td>P000000126</td><td>DUKTIG Toy Cupboard</td><td>Furniture</td></tr><tr><td>P000000125</td><td>LUSTIG Toy Storage</td><td>Furniture</td></tr><tr><td>P000000124</td><td>BUSUNGE Toy Chest</td><td>Furniture</td></tr><tr><td>P000000123</td><td>STUVA Toy Box</td><td>Furniture</td></tr><tr><td>P000000122</td><td>FLISAT Toy Storage</td><td>Furniture</td></tr><tr><td>P000000121</td><td>TROFAST Toy Organizer</td><td>Furniture</td></tr><tr><td>P000001581</td><td>Skogsliv Bedspread</td><td>Beds &amp; Mattresses</td></tr><tr><td>P000001581</td><td>Skogsliv Bedspread</td><td>Textiles</td></tr><tr><td>P000001580</td><td>Vallkrassing Bedspread</td><td>Beds &amp; Mattresses</td></tr><tr><td>P000001580</td><td>Vallkrassing Bedspread</td><td>Textiles</td></tr><tr><td>P000001579</td><td>Gullklocka Bedspread</td><td>Beds &amp; Mattresses</td></tr><tr><td>P000001579</td><td>Gullklocka Bedspread</td><td>Textiles</td></tr><tr><td>P000001578</td><td>Svean Bedspread</td><td>Beds &amp; Mattresses</td></tr><tr><td>P000001578</td><td>Svean Bedspread</td><td>Textiles</td></tr><tr><td>P000001577</td><td>Tyrina Bedspread</td><td>Beds &amp; Mattresses</td></tr><tr><td>P000001577</td><td>Tyrina Bedspread</td><td>Textiles</td></tr><tr><td>P000001676</td><td>Sovalka Gazebo</td><td>Outdoor products</td></tr><tr><td>P000001675</td><td>Pihkala Gazebo</td><td>Outdoor products</td></tr><tr><td>P000001674</td><td>Lappland Gazebo</td><td>Outdoor products</td></tr><tr><td>P000001673</td><td>Karlskrona Gazebo</td><td>Outdoor products</td></tr><tr><td>P000001672</td><td>Ammero Gazebo</td><td>Outdoor products</td></tr><tr><td>P000000892</td><td>VARDAGEN Pot</td><td>Kitchenware &amp; Tableware</td></tr><tr><td>P000000891</td><td>LAGAN Pot</td><td>Kitchenware &amp; Tableware</td></tr><tr><td>P000000890</td><td>RENODLIG Pot</td><td>Kitchenware &amp; Tableware</td></tr><tr><td>P000000889</td><td>KULINARISK Pot</td><td>Kitchenware &amp; Tableware</td></tr><tr><td>P000000888</td><td>MATALAG Pot</td><td>Kitchenware &amp; Tableware</td></tr><tr><td>P000001259</td><td>Tobias Bar Chair</td><td>Furniture</td></tr><tr><td>P000001258</td><td>Guldbrand Bar Chair</td><td>Furniture</td></tr><tr><td>P000001257</td><td>Henriksdal Bar Chair</td><td>Furniture</td></tr><tr><td>P000001256</td><td>Glen Bar Chair</td><td>Furniture</td></tr><tr><td>P000001255</td><td>Ingolf Bar Chair</td><td>Furniture</td></tr><tr><td>P000001015</td><td>Rundlig Glassware</td><td>Kitchenware &amp; Tableware</td></tr><tr><td>P000001014</td><td>Korken Glass Jars</td><td>Kitchenware &amp; Tableware</td></tr><tr><td>P000001013</td><td>Sittande Glassware</td><td>Kitchenware &amp; Tableware</td></tr><tr><td>P000001012</td><td>Dofta Glassware</td><td>Kitchenware &amp; Tableware</td></tr><tr><td>P000001011</td><td>Fyra Glassware</td><td>Kitchenware &amp; Tableware</td></tr><tr><td>P000001791</td><td>Froya Outdoor Cushion</td><td>Textiles</td></tr><tr><td>P000001790</td><td>Skarpoy Outdoor Cushion</td><td>Textiles</td></tr><tr><td>P000001789</td><td>Varmdo Outdoor Cushion</td><td>Textiles</td></tr><tr><td>P000001788</td><td>Solvinden Outdoor Cushion</td><td>Textiles</td></tr><tr><td>P000001787</td><td>Torso Outdoor Cushion</td><td>Textiles</td></tr><tr><td>P000001656</td><td>Alskad Towel</td><td>Bathroom Products</td></tr><tr><td>P000001656</td><td>Alskad Towel</td><td>Textiles</td></tr><tr><td>P000001655</td><td>Sjoblomma Towel</td><td>Bathroom Products</td></tr><tr><td>P000001655</td><td>Sjoblomma Towel</td><td>Textiles</td></tr><tr><td>P000001654</td><td>Strandtiden Towel</td><td>Bathroom Products</td></tr><tr><td>P000001654</td><td>Strandtiden Towel</td><td>Textiles</td></tr><tr><td>P000001653</td><td>Rinna Towel</td><td>Bathroom Products</td></tr><tr><td>P000001653</td><td>Rinna Towel</td><td>Textiles</td></tr><tr><td>P000001652</td><td>Mysa Towel</td><td>Bathroom Products</td></tr><tr><td>P000001652</td><td>Mysa Towel</td><td>Textiles</td></tr><tr><td>P000001194</td><td>Askvoll Double Bed</td><td>Furniture</td></tr><tr><td>P000001194</td><td>Askvoll Double Bed</td><td>Beds &amp; Mattresses</td></tr><tr><td>P000001193</td><td>Luroy Double Bed</td><td>Furniture</td></tr><tr><td>P000001193</td><td>Luroy Double Bed</td><td>Beds &amp; Mattresses</td></tr><tr><td>P000001192</td><td>Brimnes Double Bed</td><td>Furniture</td></tr><tr><td>P000001192</td><td>Brimnes Double Bed</td><td>Beds &amp; Mattresses</td></tr><tr><td>P000001191</td><td>Hemnes Double Bed</td><td>Furniture</td></tr><tr><td>P000001191</td><td>Hemnes Double Bed</td><td>Beds &amp; Mattresses</td></tr><tr><td>P000001190</td><td>Malm Double Bed</td><td>Furniture</td></tr><tr><td>P000001190</td><td>Malm Double Bed</td><td>Beds &amp; Mattresses</td></tr><tr><td>P000000630</td><td>ORTFYLLD Waste Sorting Bin</td><td>Laundry &amp; cleaning</td></tr><tr><td>P000000629</td><td>UTZ Waste Sorting Bin</td><td>Laundry &amp; cleaning</td></tr><tr><td>P000000628</td><td>TILLSLUTA Waste Sorting Bin</td><td>Laundry &amp; cleaning</td></tr><tr><td>P000000627</td><td>VARIERA Waste Sorting Bin</td><td>Laundry &amp; cleaning</td></tr><tr><td>P000000626</td><td>SORTERA Waste Sorting Bin</td><td>Laundry &amp; cleaning</td></tr><tr><td>P000000625</td><td>ORTFYLLD Waste Sorting Bin</td><td>Laundry &amp; cleaning</td></tr><tr><td>P000000624</td><td>UTZ Waste Sorting Bin</td><td>Laundry &amp; cleaning</td></tr><tr><td>P000000623</td><td>TILLSLUTA Waste Sorting Bin</td><td>Laundry &amp; cleaning</td></tr><tr><td>P000000622</td><td>VARIERA Waste Sorting Bin</td><td>Laundry &amp; cleaning</td></tr><tr><td>P000000621</td><td>SORTERA Waste Sorting Bin</td><td>Laundry &amp; cleaning</td></tr><tr><td>P000001035</td><td>Vinter Winter Decoration</td><td>Home Decoration</td></tr><tr><td>P000001034</td><td>Vinter Winter Lights</td><td>Home Decoration</td></tr><tr><td>P000001033</td><td>Blomster Winter Decor</td><td>Home Decoration</td></tr><tr><td>P000001032</td><td>Vinter Decoration</td><td>Home Decoration</td></tr><tr><td>P000001031</td><td>Strala Winter Lights</td><td>Home Decoration</td></tr><tr><td>P000001115</td><td>Pudda Basket</td><td>Storage &amp; organisation</td></tr><tr><td>P000001114</td><td>Byholma Basket</td><td>Storage &amp; organisation</td></tr><tr><td>P000001113</td><td>Rissla Desk Organizer</td><td>Storage &amp; organisation</td></tr><tr><td>P000001112</td><td>Knuff Magazine File</td><td>Storage &amp; organisation</td></tr><tr><td>P000001111</td><td>Kvissle Paper Organizer</td><td>Storage &amp; organisation</td></tr><tr><td>P000001766</td><td>Ringblomma Curtains</td><td>Textiles</td></tr><tr><td>P000001765</td><td>Sannolik Curtains</td><td>Textiles</td></tr><tr><td>P000001764</td><td>Marjun Curtains</td><td>Textiles</td></tr><tr><td>P000001763</td><td>Mattram Curtains</td><td>Textiles</td></tr><tr><td>P000001762</td><td>Majgull Curtains</td><td>Textiles</td></tr><tr><td>P000001309</td><td>Ekets Shelf</td><td>Kitchen Cabinets &amp; Appliances</td></tr><tr><td>P000001308</td><td>Lack Shelf</td><td>Kitchen Cabinets &amp; Appliances</td></tr><tr><td>P000001307</td><td>Besta Shelf</td><td>Kitchen Cabinets &amp; Appliances</td></tr><tr><td>P000001306</td><td>Kallax Shelf</td><td>Kitchen Cabinets &amp; Appliances</td></tr><tr><td>P000001305</td><td>Ekby Shelf</td><td>Kitchen Cabinets &amp; Appliances</td></tr><tr><td>P000001269</td><td>Poang Armchair</td><td>Furniture</td></tr><tr><td>P000001268</td><td>Pello Armchair</td><td>Furniture</td></tr><tr><td>P000001267</td><td>Landskrona Armchair</td><td>Furniture</td></tr><tr><td>P000001266</td><td>Ektorp Armchair</td><td>Furniture</td></tr><tr><td>P000001265</td><td>Strandmon Armchair</td><td>Furniture</td></tr><tr><td>P000001527</td><td>Ps 2014 Pendant Lamp</td><td>Lighting, lamps &amp; shades</td></tr><tr><td>P000001526</td><td>Risbyn Pendant Lamp</td><td>Lighting, lamps &amp; shades</td></tr><tr><td>P000001525</td><td>Sinnerlig Ceiling Lamp</td><td>Lighting, lamps &amp; shades</td></tr><tr><td>P000001524</td><td>Sinnerlig Pendant Lamp</td><td>Lighting, lamps &amp; shades</td></tr><tr><td>P000001523</td><td>Krusning Pendant Lamp</td><td>Lighting, lamps &amp; shades</td></tr><tr><td>P000000822</td><td>BrAda Laptop Support</td><td>Furniture</td></tr><tr><td>P000000821</td><td>Laller Laptop Table</td><td>Furniture</td></tr><tr><td>P000000820</td><td>Gladom Laptop Table</td><td>Furniture</td></tr><tr><td>P000000819</td><td>Liatorp Laptop Table</td><td>Furniture</td></tr><tr><td>P000000818</td><td>Svartasen Laptop Table</td><td>Furniture</td></tr><tr><td>P000000189</td><td>TORNVIKEN Kitchen Cart</td><td>Kitchen Cabinets &amp; Appliances</td></tr><tr><td>P000000188</td><td>FLYTTA Kitchen Island</td><td>Kitchen Cabinets &amp; Appliances</td></tr><tr><td>P000000187</td><td>KNARREVIK Kitchen Cart</td><td>Kitchen Cabinets &amp; Appliances</td></tr><tr><td>P000000186</td><td>BEKVAM Kitchen Trolley</td><td>Kitchen Cabinets &amp; Appliances</td></tr><tr><td>P000000185</td><td>RIMFORSA Kitchen Island</td><td>Kitchen Cabinets &amp; Appliances</td></tr><tr><td>P000000184</td><td>FORHOJA Kitchen Trolley</td><td>Kitchen Cabinets &amp; Appliances</td></tr><tr><td>P000000183</td><td>FLYTTA Kitchen Trolley</td><td>Kitchen Cabinets &amp; Appliances</td></tr><tr><td>P000000182</td><td>SUNNERSTA Kitchen Cart</td><td>Kitchen Cabinets &amp; Appliances</td></tr><tr><td>P000000181</td><td>STENSTORP Kitchen Cart</td><td>Kitchen Cabinets &amp; Appliances</td></tr><tr><td>P000000180</td><td>KNARREVIK Nightstand</td><td>Kitchen Cabinets &amp; Appliances</td></tr><tr><td>P000000179</td><td>TORNVIKEN Kitchen Trolley</td><td>Kitchen Cabinets &amp; Appliances</td></tr><tr><td>P000000178</td><td>FLYTTA Kitchen Cart</td><td>Kitchen Cabinets &amp; Appliances</td></tr><tr><td>P000000177</td><td>BEKVAM Kitchen Cart</td><td>Kitchen Cabinets &amp; Appliances</td></tr><tr><td>P000000176</td><td>BROR Kitchen Trolley</td><td>Kitchen Cabinets &amp; Appliances</td></tr><tr><td>P000000175</td><td>SUNNERSTA Utility Cart</td><td>Kitchen Cabinets &amp; Appliances</td></tr><tr><td>P000000174</td><td>TORNVIKEN Kitchen Island</td><td>Kitchen Cabinets &amp; Appliances</td></tr><tr><td>P000000173</td><td>RIMFORSA Kitchen Cart</td><td>Kitchen Cabinets &amp; Appliances</td></tr><tr><td>P000000172</td><td>STENSTORP Kitchen Island</td><td>Kitchen Cabinets &amp; Appliances</td></tr><tr><td>P000000171</td><td>FORHOJA Kitchen Cart</td><td>Kitchen Cabinets &amp; Appliances</td></tr><tr><td>P000001439</td><td>Mata Plate</td><td>Kitchenware &amp; Tableware</td></tr><tr><td>P000001438</td><td>Kalas Bowl</td><td>Kitchenware &amp; Tableware</td></tr><tr><td>P000001437</td><td>Kalas Plate</td><td>Kitchenware &amp; Tableware</td></tr><tr><td>P000001436</td><td>Duktig Bowl</td><td>Kitchenware &amp; Tableware</td></tr><tr><td>P000001435</td><td>Duktig Plate</td><td>Kitchenware &amp; Tableware</td></tr><tr><td>P000001449</td><td>Smaklig Cooking Set</td><td>Kitchenware &amp; Tableware</td></tr><tr><td>P000001448</td><td>Smafin Baking Set</td><td>Kitchenware &amp; Tableware</td></tr><tr><td>P000001447</td><td>Kukig Baking Set</td><td>Kitchenware &amp; Tableware</td></tr><tr><td>P000001446</td><td>Lattsam Baking Set</td><td>Kitchenware &amp; Tableware</td></tr><tr><td>P000001445</td><td>Duktig Baking Set</td><td>Kitchenware &amp; Tableware</td></tr><tr><td>P000001214</td><td>Nominell Desk Chair</td><td>Furniture</td></tr><tr><td>P000001213</td><td>Millberget Desk Chair</td><td>Furniture</td></tr><tr><td>P000001212</td><td>Flintan Desk Chair</td><td>Furniture</td></tr><tr><td>P000001211</td><td>Hattefjall Desk Chair</td><td>Furniture</td></tr><tr><td>P000001210</td><td>Markus Desk Chair</td><td>Furniture</td></tr><tr><td>P000001552</td><td>Smart Life Lighting</td><td>Lighting, lamps &amp; shades</td></tr><tr><td>P000001552</td><td>Smart Life Lighting</td><td>Home Electronics</td></tr><tr><td>P000001552</td><td>Smart Life Lighting</td><td>IKEA Home Smart</td></tr><tr><td>P000001551</td><td>Google Home Lighting</td><td>Lighting, lamps &amp; shades</td></tr><tr><td>P000001551</td><td>Google Home Lighting</td><td>Home Electronics</td></tr><tr><td>P000001551</td><td>Google Home Lighting</td><td>IKEA Home Smart</td></tr><tr><td>P000001550</td><td>Homekit Lighting</td><td>Lighting, lamps &amp; shades</td></tr><tr><td>P000001550</td><td>Homekit Lighting</td><td>Home Electronics</td></tr><tr><td>P000001550</td><td>Homekit Lighting</td><td>IKEA Home Smart</td></tr><tr><td>P000001549</td><td>Smart Things Lighting</td><td>Lighting, lamps &amp; shades</td></tr><tr><td>P000001549</td><td>Smart Things Lighting</td><td>Home Electronics</td></tr><tr><td>P000001549</td><td>Smart Things Lighting</td><td>IKEA Home Smart</td></tr><tr><td>P000001548</td><td>Tradfri Smart Light</td><td>Lighting, lamps &amp; shades</td></tr><tr><td>P000001548</td><td>Tradfri Smart Light</td><td>Home Electronics</td></tr><tr><td>P000001548</td><td>Tradfri Smart Light</td><td>IKEA Home Smart</td></tr><tr><td>P000001065</td><td>Fjalkinge Cube Storage</td><td>Storage &amp; organisation</td></tr><tr><td>P000001065</td><td>Fjalkinge Cube Storage</td><td>Furniture</td></tr><tr><td>P000001064</td><td>Brimnes Cube Storage</td><td>Storage &amp; organisation</td></tr><tr><td>P000001064</td><td>Brimnes Cube Storage</td><td>Furniture</td></tr><tr><td>P000001063</td><td>Eket Cube Storage</td><td>Storage &amp; organisation</td></tr><tr><td>P000001063</td><td>Eket Cube Storage</td><td>Furniture</td></tr><tr><td>P000001062</td><td>Expedit Cube Storage</td><td>Storage &amp; organisation</td></tr><tr><td>P000001062</td><td>Expedit Cube Storage</td><td>Furniture</td></tr><tr><td>P000001061</td><td>Kallax Cube Storage</td><td>Storage &amp; organisation</td></tr><tr><td>P000001061</td><td>Kallax Cube Storage</td><td>Furniture</td></tr><tr><td>P000001459</td><td>Kodbro Frame</td><td>Home Decoration</td></tr><tr><td>P000001458</td><td>Lomviken Frame</td><td>Home Decoration</td></tr><tr><td>P000001457</td><td>Dehka Frame</td><td>Home Decoration</td></tr><tr><td>P000001456</td><td>Skatteby Frame</td><td>Home Decoration</td></tr><tr><td>P000001455</td><td>Ribba Picture Frame</td><td>Home Decoration</td></tr><tr><td>P000000802</td><td>Friheten Chair Bed</td><td>Furniture</td></tr><tr><td>P000000802</td><td>Friheten Chair Bed</td><td>Beds &amp; Mattresses</td></tr><tr><td>P000000801</td><td>Balkarp Chair Bed</td><td>Furniture</td></tr><tr><td>P000000801</td><td>Balkarp Chair Bed</td><td>Beds &amp; Mattresses</td></tr><tr><td>P000000800</td><td>Solsta Chair Bed</td><td>Furniture</td></tr><tr><td>P000000800</td><td>Solsta Chair Bed</td><td>Beds &amp; Mattresses</td></tr><tr><td>P000000799</td><td>Hagalund Chair Bed</td><td>Furniture</td></tr><tr><td>P000000799</td><td>Hagalund Chair Bed</td><td>Beds &amp; Mattresses</td></tr><tr><td>P000000798</td><td>Lycksele Chair Bed</td><td>Furniture</td></tr><tr><td>P000000798</td><td>Lycksele Chair Bed</td><td>Beds &amp; Mattresses</td></tr><tr><td>P000000488</td><td>YDDINGEN Sink</td><td>Bathroom Products</td></tr><tr><td>P000000487</td><td>SALJAN Sink</td><td>Bathroom Products</td></tr><tr><td>P000000486</td><td>KATTEVIK Sink</td><td>Bathroom Products</td></tr><tr><td>P000000485</td><td>LILLANGEN Sink</td><td>Bathroom Products</td></tr><tr><td>P000000484</td><td>GODMORGON Sink</td><td>Bathroom Products</td></tr><tr><td>P000000483</td><td>BRAVIKEN Sink</td><td>Bathroom Products</td></tr><tr><td>P000000482</td><td>HALLVIKEN Sink</td><td>Bathroom Products</td></tr><tr><td>P000000481</td><td>SILVERAN Sink</td><td>Bathroom Products</td></tr><tr><td>P000000480</td><td>HORVIKEN Sink</td><td>Bathroom Products</td></tr><tr><td>P000000250</td><td>TILLAGAD Kitchen Faucet</td><td>Bathroom Products</td></tr><tr><td>P000000498</td><td>BOLMEN Tap</td><td>Bathroom Products</td></tr><tr><td>P000000497</td><td>RINNEN Tap</td><td>Bathroom Products</td></tr><tr><td>P000000496</td><td>LIDAN Tap</td><td>Bathroom Products</td></tr><tr><td>P000000495</td><td>VOXNAN Tap</td><td>Bathroom Products</td></tr><tr><td>P000000494</td><td>VOXNAN Tap</td><td>Bathroom Products</td></tr><tr><td>P000000493</td><td>ENSEN Tap</td><td>Bathroom Products</td></tr><tr><td>P000000492</td><td>BORJANDE Tap</td><td>Bathroom Products</td></tr><tr><td>P000000491</td><td>BROGRUND Tap</td><td>Bathroom Products</td></tr><tr><td>P000000490</td><td>LUNDSKAR Tap</td><td>Bathroom Products</td></tr><tr><td>P000000489</td><td>DALSKAR Tap</td><td>Bathroom Products</td></tr><tr><td>P000001492</td><td>Intressant Hanging Planter</td><td>Home Decoration</td></tr><tr><td>P000001492</td><td>Intressant Hanging Planter</td><td>Pots &amp; Plants</td></tr><tr><td>P000001491</td><td>Flytta Hanging Planter</td><td>Home Decoration</td></tr><tr><td>P000001491</td><td>Flytta Hanging Planter</td><td>Pots &amp; Plants</td></tr><tr><td>P000001490</td><td>Socker Hanging Planter</td><td>Home Decoration</td></tr><tr><td>P000001490</td><td>Socker Hanging Planter</td><td>Pots &amp; Plants</td></tr><tr><td>P000001489</td><td>Bittergurka Hanging Planter</td><td>Home Decoration</td></tr><tr><td>P000001489</td><td>Bittergurka Hanging Planter</td><td>Pots &amp; Plants</td></tr><tr><td>P000001488</td><td>Kardemumma Hanging Planter</td><td>Home Decoration</td></tr><tr><td>P000001488</td><td>Kardemumma Hanging Planter</td><td>Pots &amp; Plants</td></tr><tr><td>P000001005</td><td>Asker Wall Storage</td><td>Kitchen Cabinets &amp; Appliances</td></tr><tr><td>P000001004</td><td>Utensil Wall Storage</td><td>Kitchen Cabinets &amp; Appliances</td></tr><tr><td>P000001003</td><td>Rimforsa Wall Shelf</td><td>Kitchen Cabinets &amp; Appliances</td></tr><tr><td>P000001002</td><td>Grundtal Wall Shelf</td><td>Kitchen Cabinets &amp; Appliances</td></tr><tr><td>P000001001</td><td>Fintorp Wall Organizer</td><td>Kitchen Cabinets &amp; Appliances</td></tr><tr><td>P000001090</td><td>Kallax TV Bench</td><td>Storage &amp; organisation</td></tr><tr><td>P000001090</td><td>Kallax TV Bench</td><td>Furniture</td></tr><tr><td>P000001089</td><td>Hemnes TV Bench</td><td>Storage &amp; organisation</td></tr><tr><td>P000001089</td><td>Hemnes TV Bench</td><td>Furniture</td></tr><tr><td>P000001088</td><td>Havsta TV Bench</td><td>Storage &amp; organisation</td></tr><tr><td>P000001088</td><td>Havsta TV Bench</td><td>Furniture</td></tr><tr><td>P000001087</td><td>Besta TV Bench</td><td>Storage &amp; organisation</td></tr><tr><td>P000001087</td><td>Besta TV Bench</td><td>Furniture</td></tr><tr><td>P000001086</td><td>Lack TV Bench</td><td>Storage &amp; organisation</td></tr><tr><td>P000001086</td><td>Lack TV Bench</td><td>Furniture</td></tr><tr><td>P000000399</td><td>SOLMYS LED Solar Table Lamp</td><td>Lighting, lamps &amp; shades</td></tr><tr><td>P000000399</td><td>SOLMYS LED Solar Table Lamp</td><td>Outdoor products</td></tr><tr><td>P000000398</td><td>LEDSJO LED Solar Pendant Lamp</td><td>Lighting, lamps &amp; shades</td></tr><tr><td>P000000398</td><td>LEDSJO LED Solar Pendant Lamp</td><td>Outdoor products</td></tr><tr><td>P000000397</td><td>SOLKLINT LED Solar Lantern</td><td>Lighting, lamps &amp; shades</td></tr><tr><td>P000000397</td><td>SOLKLINT LED Solar Lantern</td><td>Outdoor products</td></tr><tr><td>P000000396</td><td>SOLVINDEN Solar String Lights</td><td>Lighting, lamps &amp; shades</td></tr><tr><td>P000000396</td><td>SOLVINDEN Solar String Lights</td><td>Outdoor products</td></tr><tr><td>P000000395</td><td>SOLVINDEN LED Solar Lantern</td><td>Lighting, lamps &amp; shades</td></tr><tr><td>P000000395</td><td>SOLVINDEN LED Solar Lantern</td><td>Outdoor products</td></tr><tr><td>P000000394</td><td>VINDKAR Solar Floor Lamp</td><td>Lighting, lamps &amp; shades</td></tr><tr><td>P000000394</td><td>VINDKAR Solar Floor Lamp</td><td>Outdoor products</td></tr><tr><td>P000000393</td><td>LJUSA LED Block Candle</td><td>Lighting, lamps &amp; shades</td></tr><tr><td>P000000393</td><td>LJUSA LED Block Candle</td><td>Outdoor products</td></tr><tr><td>P000000392</td><td>VINDKAR Solar Table Lamp</td><td>Lighting, lamps &amp; shades</td></tr><tr><td>P000000392</td><td>VINDKAR Solar Table Lamp</td><td>Outdoor products</td></tr><tr><td>P000000391</td><td>SOLARVET Solar Pendant Lamp</td><td>Lighting, lamps &amp; shades</td></tr><tr><td>P000000391</td><td>SOLARVET Solar Pendant Lamp</td><td>Outdoor products</td></tr><tr><td>P000000390</td><td>SOLARVET LED String Lights</td><td>Lighting, lamps &amp; shades</td></tr><tr><td>P000000390</td><td>SOLARVET LED String Lights</td><td>Outdoor products</td></tr><tr><td>P000000389</td><td>GODAFTON LED Candles</td><td>Lighting, lamps &amp; shades</td></tr><tr><td>P000000389</td><td>GODAFTON LED Candles</td><td>Outdoor products</td></tr><tr><td>P000000388</td><td>KUGGIS Solar Cell Lantern</td><td>Lighting, lamps &amp; shades</td></tr><tr><td>P000000388</td><td>KUGGIS Solar Cell Lantern</td><td>Outdoor products</td></tr><tr><td>P000000387</td><td>APPLARO LED Solar Floor Lamp</td><td>Lighting, lamps &amp; shades</td></tr><tr><td>P000000387</td><td>APPLARO LED Solar Floor Lamp</td><td>Outdoor products</td></tr><tr><td>P000000386</td><td>BOJA LED Table Lamp</td><td>Lighting, lamps &amp; shades</td></tr><tr><td>P000000386</td><td>BOJA LED Table Lamp</td><td>Outdoor products</td></tr><tr><td>P000000385</td><td>SOLVINDEN Solar Table Lamp</td><td>Lighting, lamps &amp; shades</td></tr><tr><td>P000000385</td><td>SOLVINDEN Solar Table Lamp</td><td>Outdoor products</td></tr><tr><td>P000000384</td><td>MORKT LED Wall Lamp</td><td>Lighting, lamps &amp; shades</td></tr><tr><td>P000000384</td><td>MORKT LED Wall Lamp</td><td>Outdoor products</td></tr><tr><td>P000000383</td><td>SOLGLIMTAR LED Solar String Lights</td><td>Lighting, lamps &amp; shades</td></tr><tr><td>P000000383</td><td>SOLGLIMTAR LED Solar String Lights</td><td>Outdoor products</td></tr><tr><td>P000000382</td><td>GODAFTON LED Block Candle</td><td>Lighting, lamps &amp; shades</td></tr><tr><td>P000000382</td><td>GODAFTON LED Block Candle</td><td>Outdoor products</td></tr><tr><td>P000000381</td><td>APPLARO LED Solar Pendant Lamp</td><td>Lighting, lamps &amp; shades</td></tr><tr><td>P000000381</td><td>APPLARO LED Solar Pendant Lamp</td><td>Outdoor products</td></tr><tr><td>P000000380</td><td>SOLVINDEN Solar-Powered Light</td><td>Lighting, lamps &amp; shades</td></tr><tr><td>P000000380</td><td>SOLVINDEN Solar-Powered Light</td><td>Outdoor products</td></tr><tr><td>P000001105</td><td>Songesand Sliding Wardrobe</td><td>Storage &amp; organisation</td></tr><tr><td>P000001105</td><td>Songesand Sliding Wardrobe</td><td>Furniture</td></tr><tr><td>P000001104</td><td>Liatorp Sliding Wardrobe</td><td>Storage &amp; organisation</td></tr><tr><td>P000001104</td><td>Liatorp Sliding Wardrobe</td><td>Furniture</td></tr><tr><td>P000001103</td><td>Storjorm Sliding Wardrobe</td><td>Storage &amp; organisation</td></tr><tr><td>P000001103</td><td>Storjorm Sliding Wardrobe</td><td>Furniture</td></tr><tr><td>P000001102</td><td>Hasvik Sliding Wardrobe</td><td>Storage &amp; organisation</td></tr><tr><td>P000001102</td><td>Hasvik Sliding Wardrobe</td><td>Furniture</td></tr><tr><td>P000001101</td><td>Pax Sliding Wardrobe</td><td>Storage &amp; organisation</td></tr><tr><td>P000001101</td><td>Pax Sliding Wardrobe</td><td>Furniture</td></tr><tr><td>P000001706</td><td>Vinter 2022 Lantern</td><td>Outdoor products</td></tr><tr><td>P000001705</td><td>Sittningen Lantern</td><td>Outdoor products</td></tr><tr><td>P000001704</td><td>Kronig Lantern</td><td>Outdoor products</td></tr><tr><td>P000001703</td><td>Klasevalla Lantern</td><td>Outdoor products</td></tr><tr><td>P000001702</td><td>Solig Solar Lantern</td><td>Outdoor products</td></tr><tr><td>P000001409</td><td>Knivar Serving Cutlery</td><td>Kitchenware &amp; Tableware</td></tr><tr><td>P000001408</td><td>Slitbar Serving Cutlery</td><td>Kitchenware &amp; Tableware</td></tr><tr><td>P000001407</td><td>Spisig Serving Cutlery</td><td>Kitchenware &amp; Tableware</td></tr><tr><td>P000001406</td><td>Koska Serving Cutlery</td><td>Kitchenware &amp; Tableware</td></tr><tr><td>P000001405</td><td>Tillagad Serving Cutlery</td><td>Kitchenware &amp; Tableware</td></tr><tr><td>P000001736</td><td>Stromma USB Charger</td><td>Home Electronics</td></tr><tr><td>P000001736</td><td>Stromma USB Charger</td><td>Home Electronics</td></tr><tr><td>P000001735</td><td>Gulont USB Charger</td><td>Home Electronics</td></tr><tr><td>P000001735</td><td>Gulont USB Charger</td><td>Home Electronics</td></tr><tr><td>P000001734</td><td>Joneryd USB Charger</td><td>Home Electronics</td></tr><tr><td>P000001734</td><td>Joneryd USB Charger</td><td>Home Electronics</td></tr><tr><td>P000001733</td><td>Anslut USB Charger</td><td>Home Electronics</td></tr><tr><td>P000001733</td><td>Anslut USB Charger</td><td>Home Electronics</td></tr><tr><td>P000001732</td><td>Skross USB Charger</td><td>Home Electronics</td></tr><tr><td>P000001732</td><td>Skross USB Charger</td><td>Home Electronics</td></tr><tr><td>P000000660</td><td>KOPPLA Cable Box</td><td>Home Electronics</td></tr><tr><td>P000000659</td><td>SLAKTING Cable Clip</td><td>Home Electronics</td></tr><tr><td>P000000658</td><td>RABBALSHOK Cable Clip</td><td>Home Electronics</td></tr><tr><td>P000000657</td><td>RABBALSHOK Cable Holder</td><td>Home Electronics</td></tr><tr><td>P000000656</td><td>BRADA Cable Shelf</td><td>Home Electronics</td></tr><tr><td>P000000655</td><td>TJENA Cable Box</td><td>Home Electronics</td></tr><tr><td>P000000654</td><td>LANKMOJ Cable Management</td><td>Home Electronics</td></tr><tr><td>P000000653</td><td>KOPPLA Cable Management</td><td>Home Electronics</td></tr><tr><td>P000000652</td><td>RALLEN Cable Management</td><td>Home Electronics</td></tr><tr><td>P000000651</td><td>SIGNUM Cable Management</td><td>Home Electronics</td></tr><tr><td>P000000508</td><td>SINDAL Rug</td><td>Outdoor products</td></tr><tr><td>P000000507</td><td>SVIND Rug</td><td>Outdoor products</td></tr><tr><td>P000000506</td><td>KOLLUND Rug</td><td>Outdoor products</td></tr><tr><td>P000000505</td><td>SLATTEN Rug</td><td>Outdoor products</td></tr><tr><td>P000000504</td><td>OMTANKSAM Rug</td><td>Outdoor products</td></tr><tr><td>P000000503</td><td>RORKAR Rug</td><td>Outdoor products</td></tr><tr><td>P000000502</td><td>OLSKER Rug</td><td>Outdoor products</td></tr><tr><td>P000000501</td><td>STENMATARE Rug</td><td>Outdoor products</td></tr><tr><td>P000000500</td><td>HOBBY Rug</td><td>Outdoor products</td></tr><tr><td>P000000499</td><td>RORHOLT Rug</td><td>Outdoor products</td></tr><tr><td>P000001641</td><td>Kalkgrund Shelf</td><td>Bathroom Products</td></tr><tr><td>P000001640</td><td>Hemnes Shelf</td><td>Bathroom Products</td></tr><tr><td>P000001639</td><td>Molger Shelf</td><td>Bathroom Products</td></tr><tr><td>P000001638</td><td>Silviken Shelf</td><td>Bathroom Products</td></tr><tr><td>P000001637</td><td>Ragrund Shelf</td><td>Bathroom Products</td></tr><tr><td>P000001671</td><td>Kuggas Parasol</td><td>Outdoor products</td></tr><tr><td>P000001670</td><td>Vindel Parasol</td><td>Outdoor products</td></tr><tr><td>P000001669</td><td>Gromar Parasol</td><td>Outdoor products</td></tr><tr><td>P000001668</td><td>Bultaroe Parasol</td><td>Outdoor products</td></tr><tr><td>P000001667</td><td>Flisom Parasol</td><td>Outdoor products</td></tr><tr><td>P000001204</td><td>Kullaberg Desk</td><td>Furniture</td></tr><tr><td>P000001203</td><td>Hilver Desk</td><td>Furniture</td></tr><tr><td>P000001202</td><td>Fredde Desk</td><td>Furniture</td></tr><tr><td>P000001201</td><td>Linnmon Desk</td><td>Furniture</td></tr><tr><td>P000001200</td><td>Micke Desk</td><td>Furniture</td></tr><tr><td>P000001224</td><td>Ekebol Bench</td><td>Furniture</td></tr><tr><td>P000001223</td><td>Leksvik Bench</td><td>Furniture</td></tr><tr><td>P000001222</td><td>Sinnerlig Bench</td><td>Furniture</td></tr><tr><td>P000001221</td><td>Hemnes Bench</td><td>Furniture</td></tr><tr><td>P000001220</td><td>Ingolf Bench</td><td>Furniture</td></tr><tr><td>P000000696</td><td>SAIGON Acoustic Panel</td><td>Home Improvement</td></tr><tr><td>P000000695</td><td>LINGO Acoustic Panel</td><td>Home Improvement</td></tr><tr><td>P000000694</td><td>SORJA Acoustic Panel</td><td>Home Improvement</td></tr><tr><td>P000000693</td><td>ZEN Acoustic Panel</td><td>Home Improvement</td></tr><tr><td>P000000692</td><td>MIAMI Acoustic Panel</td><td>Home Improvement</td></tr><tr><td>P000000691</td><td>STOCKHOLM Acoustic Panel</td><td>Home Improvement</td></tr><tr><td>P000000690</td><td>TOKYO Acoustic Panel</td><td>Home Improvement</td></tr><tr><td>P000000689</td><td>SAIGON Acoustic Panel</td><td>Home Improvement</td></tr><tr><td>P000000688</td><td>LINGO Acoustic Panel</td><td>Home Improvement</td></tr><tr><td>P000000687</td><td>SORJA Acoustic Panel</td><td>Home Improvement</td></tr><tr><td>P000001596</td><td>Hamarvik Foam Spring Mattress</td><td>Beds &amp; Mattresses</td></tr><tr><td>P000001595</td><td>Haugsvik Foam Spring Mattress</td><td>Beds &amp; Mattresses</td></tr><tr><td>P000001594</td><td>Hamarvik Foam Spring Mattress</td><td>Beds &amp; Mattresses</td></tr><tr><td>P000001593</td><td>Hasvag Foam Spring Mattress</td><td>Beds &amp; Mattresses</td></tr><tr><td>P000001592</td><td>Morgedal Foam Spring Mattress</td><td>Beds &amp; Mattresses</td></tr><tr><td>P000001821</td><td>Leka Curtains</td><td>Textiles</td></tr><tr><td>P000001820</td><td>Tuvbracka Curtains</td><td>Textiles</td></tr><tr><td>P000001819</td><td>Dockskap Curtains</td><td>Textiles</td></tr><tr><td>P000001818</td><td>Himmelsk Curtains</td><td>Textiles</td></tr><tr><td>P000001817</td><td>Sagoskog Curtains</td><td>Textiles</td></tr><tr><td>P000001741</td><td>Greppa Wireless Charger</td><td>Home Electronics</td></tr><tr><td>P000001740</td><td>Hemolt Wireless Charger</td><td>Home Electronics</td></tr><tr><td>P000001739</td><td>Ladda Wireless Charger</td><td>Home Electronics</td></tr><tr><td>P000001738</td><td>Mobilis Wireless Charger</td><td>Home Electronics</td></tr><tr><td>P000001737</td><td>Fornuft Wireless Charger</td><td>Home Electronics</td></tr><tr><td>P000001374</td><td>Vardag Baking Tray</td><td>Kitchenware &amp; Tableware</td></tr><tr><td>P000001373</td><td>Storform Baking Tray</td><td>Kitchenware &amp; Tableware</td></tr><tr><td>P000001372</td><td>Ekonomisk Baking Tray</td><td>Kitchenware &amp; Tableware</td></tr><tr><td>P000001371</td><td>Kavalkad Baking Tray</td><td>Kitchenware &amp; Tableware</td></tr><tr><td>P000001370</td><td>Ideell Ovenware</td><td>Kitchenware &amp; Tableware</td></tr><tr><td>P000000837</td><td>NorrAker Conference Chair</td><td>Furniture</td></tr><tr><td>P000000836</td><td>Skruvsta Conference Chair</td><td>Furniture</td></tr><tr><td>P000000835</td><td>Martin Conference Chair</td><td>Furniture</td></tr><tr><td>P000000834</td><td>Vilgot Conference Chair</td><td>Furniture</td></tr><tr><td>P000000833</td><td>Snille Conference Chair</td><td>Furniture</td></tr><tr><td>P000001359</td><td>Vinter Table Cloth</td><td>Kitchenware &amp; Tableware</td></tr><tr><td>P000001359</td><td>Vinter Table Cloth</td><td>Textiles</td></tr><tr><td>P000001358</td><td>Sinnlig Table Cloth</td><td>Kitchenware &amp; Tableware</td></tr><tr><td>P000001358</td><td>Sinnlig Table Cloth</td><td>Textiles</td></tr><tr><td>P000001357</td><td>Plats Table Cloth</td><td>Kitchenware &amp; Tableware</td></tr><tr><td>P000001357</td><td>Plats Table Cloth</td><td>Textiles</td></tr><tr><td>P000001356</td><td>Himmelsk Table Cloth</td><td>Kitchenware &amp; Tableware</td></tr><tr><td>P000001356</td><td>Himmelsk Table Cloth</td><td>Textiles</td></tr><tr><td>P000001355</td><td>Gittan Table Cloth</td><td>Kitchenware &amp; Tableware</td></tr><tr><td>P000001355</td><td>Gittan Table Cloth</td><td>Textiles</td></tr><tr><td>P000001571</td><td>Sparsam LED Bulb</td><td>Lighting, lamps &amp; shades</td></tr><tr><td>P000001570</td><td>Glansa LED Bulb</td><td>Lighting, lamps &amp; shades</td></tr><tr><td>P000001569</td><td>Stromby LED Bulb</td><td>Lighting, lamps &amp; shades</td></tr><tr><td>P000001568</td><td>Ljusbo LED Bulb</td><td>Lighting, lamps &amp; shades</td></tr><tr><td>P000001567</td><td>Ledare LED Bulb</td><td>Lighting, lamps &amp; shades</td></tr><tr><td>P000001512</td><td>Blomning Dish</td><td>Home Decoration</td></tr><tr><td>P000001511</td><td>Kalas Dish</td><td>Home Decoration</td></tr><tr><td>P000001510</td><td>Slattad Dish</td><td>Home Decoration</td></tr><tr><td>P000001509</td><td>Ordning Dish</td><td>Home Decoration</td></tr><tr><td>P000001508</td><td>Fornuft Bowl</td><td>Home Decoration</td></tr><tr><td>P000000620</td><td>RORT Ironing Board</td><td>Laundry &amp; cleaning</td></tr><tr><td>P000000619</td><td>KLAMMIG Ironing Board</td><td>Laundry &amp; cleaning</td></tr><tr><td>P000000618</td><td>STABIL Ironing Board</td><td>Laundry &amp; cleaning</td></tr><tr><td>P000000617</td><td>TORKIS Ironing Board</td><td>Laundry &amp; cleaning</td></tr><tr><td>P000000616</td><td>PROPPMATT Ironing Board</td><td>Laundry &amp; cleaning</td></tr><tr><td>P000000615</td><td>BRABO Ironing Board</td><td>Laundry &amp; cleaning</td></tr><tr><td>P000000614</td><td>RACKA Ironing Board</td><td>Laundry &amp; cleaning</td></tr><tr><td>P000000613</td><td>KLAMTARE Ironing Board</td><td>Laundry &amp; cleaning</td></tr><tr><td>P000000612</td><td>RAVAROR Ironing Board</td><td>Laundry &amp; cleaning</td></tr><tr><td>P000000611</td><td>JALL Ironing Board</td><td>Laundry &amp; cleaning</td></tr><tr><td>P000000590</td><td>LILLANGEN Laundry Bag</td><td>Laundry &amp; cleaning</td></tr><tr><td>P000000589</td><td>GRUNDTAL Hanger</td><td>Laundry &amp; cleaning</td></tr><tr><td>P000000147</td><td>RIGGA Clothes Rack</td><td>Laundry &amp; cleaning</td></tr><tr><td>P000000588</td><td>PLUTT Laundry Bag</td><td>Laundry &amp; cleaning</td></tr><tr><td>P000000587</td><td>PRESSA Hanging Dryer</td><td>Laundry &amp; cleaning</td></tr><tr><td>P000000586</td><td>LACK Basket</td><td>Laundry &amp; cleaning</td></tr><tr><td>P000000585</td><td>SAVERN Hook</td><td>Laundry &amp; cleaning</td></tr><tr><td>P000000584</td><td>KALKGRUND Towel Rail</td><td>Laundry &amp; cleaning</td></tr><tr><td>P000000583</td><td>MULIG Clothes Bar</td><td>Laundry &amp; cleaning</td></tr><tr><td>P000000582</td><td>GRUNDTAL Drying Rack</td><td>Laundry &amp; cleaning</td></tr><tr><td>P000001319</td><td>Sensorisk Microwave Oven</td><td>Kitchen Cabinets &amp; Appliances</td></tr><tr><td>P000001319</td><td>Sensorisk Microwave Oven</td><td>Home Electronics</td></tr><tr><td>P000001318</td><td>Matalag Microwave Oven</td><td>Kitchen Cabinets &amp; Appliances</td></tr><tr><td>P000001318</td><td>Matalag Microwave Oven</td><td>Home Electronics</td></tr><tr><td>P000001317</td><td>Kulinarisk Microwave Oven</td><td>Kitchen Cabinets &amp; Appliances</td></tr><tr><td>P000001317</td><td>Kulinarisk Microwave Oven</td><td>Home Electronics</td></tr><tr><td>P000001316</td><td>Frostkall Microwave Oven</td><td>Kitchen Cabinets &amp; Appliances</td></tr><tr><td>P000001316</td><td>Frostkall Microwave Oven</td><td>Home Electronics</td></tr><tr><td>P000001315</td><td>Renlig Microwave Oven</td><td>Kitchen Cabinets &amp; Appliances</td></tr><tr><td>P000001315</td><td>Renlig Microwave Oven</td><td>Home Electronics</td></tr><tr><td>P000000877</td><td>MATALAG Microwave Combi Oven</td><td>Kitchen Cabinets &amp; Appliances</td></tr><tr><td>P000000877</td><td>MATALAG Microwave Combi Oven</td><td>Home Electronics</td></tr><tr><td>P000000876</td><td>TILLREDA Microwave Combi Oven</td><td>Kitchen Cabinets &amp; Appliances</td></tr><tr><td>P000000876</td><td>TILLREDA Microwave Combi Oven</td><td>Home Electronics</td></tr><tr><td>P000000875</td><td>VARMD Microwave Combi Oven</td><td>Kitchen Cabinets &amp; Appliances</td></tr><tr><td>P000000875</td><td>VARMD Microwave Combi Oven</td><td>Home Electronics</td></tr><tr><td>P000000874</td><td>KULINARISK Microwave Combi Oven</td><td>Kitchen Cabinets &amp; Appliances</td></tr><tr><td>P000000874</td><td>KULINARISK Microwave Combi Oven</td><td>Home Electronics</td></tr><tr><td>P000000873</td><td>LAGAN Microwave Combi Oven</td><td>Kitchen Cabinets &amp; Appliances</td></tr><tr><td>P000000873</td><td>LAGAN Microwave Combi Oven</td><td>Home Electronics</td></tr><tr><td>P000000907</td><td>Dieffenbachia Floor Plant</td><td>Outdoor products</td></tr><tr><td>P000000906</td><td>Philodendron Floor Plant</td><td>Outdoor products</td></tr><tr><td>P000000905</td><td>Sansevieria Floor Plant</td><td>Outdoor products</td></tr><tr><td>P000000904</td><td>Ficus Floor Plant</td><td>Outdoor products</td></tr><tr><td>P000000903</td><td>Monstera Floor Plant</td><td>Outdoor products</td></tr><tr><td>P000000817</td><td>Malm Office Desk</td><td>Furniture</td></tr><tr><td>P000000816</td><td>Idasen Office Desk</td><td>Furniture</td></tr><tr><td>P000000815</td><td>Bekant Office Desk</td><td>Furniture</td></tr><tr><td>P000000814</td><td>Micke Office Desk</td><td>Furniture</td></tr><tr><td>P000000813</td><td>Linnmon/Adils Office Desk</td><td>Furniture</td></tr><tr><td>P000000686</td><td>KALVIA Wall Panel</td><td>Home Improvement</td></tr><tr><td>P000000685</td><td>BODBYN Wall Panel</td><td>Home Improvement</td></tr><tr><td>P000000684</td><td>KALVIA Wall Panel</td><td>Home Improvement</td></tr><tr><td>P000000683</td><td>BODBYN Wall Panel</td><td>Home Improvement</td></tr><tr><td>P000000682</td><td>FORBATTRA Wall Panel</td><td>Home Improvement</td></tr><tr><td>P000000681</td><td>EKBACKEN Wall Panel</td><td>Home Improvement</td></tr><tr><td>P000000680</td><td>LERHYTTAN Wall Panel</td><td>Home Improvement</td></tr><tr><td>P000000679</td><td>TINGSRYD Wall Panel</td><td>Home Improvement</td></tr><tr><td>P000000678</td><td>HITTARP Wall Panel</td><td>Home Improvement</td></tr><tr><td>P000000677</td><td>VEDDINGE Wall Panel</td><td>Home Improvement</td></tr><tr><td>P000001010</td><td>Sektion Kitchen Unit</td><td>Kitchen Cabinets &amp; Appliances</td></tr><tr><td>P000001009</td><td>Akurum Kitchen Unit</td><td>Kitchen Cabinets &amp; Appliances</td></tr><tr><td>P000001008</td><td>Forvara Kitchen Unit</td><td>Kitchen Cabinets &amp; Appliances</td></tr><tr><td>P000001007</td><td>Kitchen Units &amp; Sets</td><td>Kitchen Cabinets &amp; Appliances</td></tr><tr><td>P000001006</td><td>Faktum Kitchen Unit</td><td>Kitchen Cabinets &amp; Appliances</td></tr><tr><td>P000000100</td><td>Heavy-Duty Moving Blanket</td><td>Storage &amp; organisation</td></tr><tr><td>P000000099</td><td>Packing Paper Dispenser</td><td>Storage &amp; organisation</td></tr><tr><td>P000000098</td><td>Moving Box Cutter</td><td>Storage &amp; organisation</td></tr><tr><td>P000000097</td><td>Bubble Wrap Pouches</td><td>Storage &amp; organisation</td></tr><tr><td>P000000096</td><td>Packing Foam Rolls</td><td>Storage &amp; organisation</td></tr><tr><td>P000000095</td><td>Furniture Sliders Set</td><td>Storage &amp; organisation</td></tr><tr><td>P000000094</td><td>Mattress Covers</td><td>Storage &amp; organisation</td></tr><tr><td>P000000093</td><td>Glass Packing Sheets</td><td>Storage &amp; organisation</td></tr><tr><td>P000000092</td><td>Moving Box Assortment</td><td>Storage &amp; organisation</td></tr><tr><td>P000000091</td><td>Wardrobe Box Hangers</td><td>Storage &amp; organisation</td></tr><tr><td>P000000090</td><td>Furniture Straps</td><td>Storage &amp; organisation</td></tr><tr><td>P000000089</td><td>Packing Peanuts Bag</td><td>Storage &amp; organisation</td></tr><tr><td>P000000088</td><td>Moving Box Handles</td><td>Storage &amp; organisation</td></tr><tr><td>P000000087</td><td>Fragile Stickers</td><td>Storage &amp; organisation</td></tr><tr><td>P000000086</td><td>Bubble Wrap Sheets</td><td>Storage &amp; organisation</td></tr><tr><td>P000000085</td><td>Packing Tape Dispenser Kit</td><td>Storage &amp; organisation</td></tr><tr><td>P000000084</td><td>Moving Tote Bags</td><td>Storage &amp; organisation</td></tr><tr><td>P000000083</td><td>Furniture Pads</td><td>Storage &amp; organisation</td></tr><tr><td>P000000082</td><td>Mattress Bag King</td><td>Storage &amp; organisation</td></tr><tr><td>P000000081</td><td>Packing Paper Pads</td><td>Storage &amp; organisation</td></tr><tr><td>P000000080</td><td>Packing Tape Refills</td><td>Storage &amp; organisation</td></tr><tr><td>P000000079</td><td>Heavy-Duty Tape Gun</td><td>Storage &amp; organisation</td></tr><tr><td>P000000078</td><td>Moving Box Labels</td><td>Storage &amp; organisation</td></tr><tr><td>P000000077</td><td>Packing Foam Sheets</td><td>Storage &amp; organisation</td></tr><tr><td>P000000076</td><td>Appliance Dolly</td><td>Storage &amp; organisation</td></tr><tr><td>P000000075</td><td>Mattress Bag Queen</td><td>Storage &amp; organisation</td></tr><tr><td>P000000074</td><td>Dish Packing Kit</td><td>Storage &amp; organisation</td></tr><tr><td>P000000073</td><td>Moving Gloves</td><td>Storage &amp; organisation</td></tr><tr><td>P000000072</td><td>Furniture Covers</td><td>Storage &amp; organisation</td></tr><tr><td>P000000071</td><td>Packing Paper Roll</td><td>Storage &amp; organisation</td></tr><tr><td>P000000070</td><td>Utility Knife</td><td>Storage &amp; organisation</td></tr><tr><td>P000000069</td><td>Packing Sealing Tape</td><td>Storage &amp; organisation</td></tr><tr><td>P000000068</td><td>Moving Labels</td><td>Storage &amp; organisation</td></tr><tr><td>P000000067</td><td>Packing Foam Blocks</td><td>Storage &amp; organisation</td></tr><tr><td>P000000066</td><td>Hand Truck</td><td>Storage &amp; organisation</td></tr><tr><td>P000000065</td><td>Mattress Bag Twin</td><td>Storage &amp; organisation</td></tr><tr><td>P000000064</td><td>Glass Packing Kit</td><td>Storage &amp; organisation</td></tr><tr><td>P000000063</td><td>Stretch Wrap Roll</td><td>Storage &amp; organisation</td></tr><tr><td>P000000062</td><td>Moving Straps</td><td>Storage &amp; organisation</td></tr><tr><td>P000000061</td><td>Packing Peanuts</td><td>Storage &amp; organisation</td></tr><tr><td>P000000060</td><td>Furniture Sliders</td><td>Storage &amp; organisation</td></tr><tr><td>P000000059</td><td>Wardrobe Box Kit</td><td>Storage &amp; organisation</td></tr><tr><td>P000000058</td><td>Box Cutter Knife</td><td>Storage &amp; organisation</td></tr><tr><td>P000000057</td><td>Moving Blankets</td><td>Storage &amp; organisation</td></tr><tr><td>P000000056</td><td>Packing Paper Sheets</td><td>Storage &amp; organisation</td></tr><tr><td>P000000055</td><td>Furniture Dolly</td><td>Storage &amp; organisation</td></tr><tr><td>P000000054</td><td>Cardboard Box Pack</td><td>Storage &amp; organisation</td></tr><tr><td>P000000053</td><td>Bubble Wrap Roll</td><td>Storage &amp; organisation</td></tr><tr><td>P000000052</td><td>Packing Tape Dispenser</td><td>Storage &amp; organisation</td></tr><tr><td>P000000051</td><td>MovingBox Set</td><td>Storage &amp; organisation</td></tr><tr><td>P000001796</td><td>Tungol Outdoor Pillow</td><td>Textiles</td></tr><tr><td>P000001795</td><td>Seglora Outdoor Pillow</td><td>Textiles</td></tr><tr><td>P000001794</td><td>Skym Outdoor Pillow</td><td>Textiles</td></tr><tr><td>P000001793</td><td>Sirka Outdoor Pillow</td><td>Textiles</td></tr><tr><td>P000001792</td><td>Voxo Outdoor Pillow</td><td>Textiles</td></tr><tr><td>P000001419</td><td>Friluft Knife</td><td>Kitchenware &amp; Tableware</td></tr><tr><td>P000001418</td><td>Knivar Knife</td><td>Kitchenware &amp; Tableware</td></tr><tr><td>P000001417</td><td>Hogsta Knife</td><td>Kitchenware &amp; Tableware</td></tr><tr><td>P000001416</td><td>Slitbar Knife</td><td>Kitchenware &amp; Tableware</td></tr><tr><td>P000001415</td><td>Tranchera Knife</td><td>Kitchenware &amp; Tableware</td></tr><tr><td>P000001414</td><td>Vinn Chopping Board</td><td>Kitchenware &amp; Tableware</td></tr><tr><td>P000001413</td><td>Krydda Chopping Board</td><td>Kitchenware &amp; Tableware</td></tr><tr><td>P000001412</td><td>Rundlig Chopping Board</td><td>Kitchenware &amp; Tableware</td></tr><tr><td>P000001411</td><td>Fargrik Chopping Board</td><td>Kitchenware &amp; Tableware</td></tr><tr><td>P000001410</td><td>Ladda Chopping Board</td><td>Kitchenware &amp; Tableware</td></tr><tr><td>P000001144</td><td>Mackapar Clothes Organizer</td><td>Storage &amp; organisation</td></tr><tr><td>P000001143</td><td>Komplement Clothes Rail</td><td>Storage &amp; organisation</td></tr><tr><td>P000001142</td><td>Frigga Clothes Rail</td><td>Storage &amp; organisation</td></tr><tr><td>P000000147</td><td>RIGGA Clothes Rack</td><td>Storage &amp; organisation</td></tr><tr><td>P000001141</td><td>Portis Clothes Rack</td><td>Storage &amp; organisation</td></tr><tr><td>P000001164</td><td>Mammut Children&#39;s Chest of Drawers</td><td>Storage &amp; organisation</td></tr><tr><td>P000001163</td><td>Busunge Children&#39;s Chest of Drawers</td><td>Storage &amp; organisation</td></tr><tr><td>P000001162</td><td>Gulliver Children&#39;s Chest of Drawers</td><td>Storage &amp; organisation</td></tr><tr><td>P000001161</td><td>Stuva Children&#39;s Chest of Drawers</td><td>Storage &amp; organisation</td></tr><tr><td>P000001160</td><td>Hemnes Children&#39;s Chest of Drawers</td><td>Storage &amp; organisation</td></tr><tr><td>P000001040</td><td>Storjorm Bathroom System</td><td>Bathroom Products</td></tr><tr><td>P000001039</td><td>Silveran Bathroom System</td><td>Bathroom Products</td></tr><tr><td>P000001038</td><td>Lillangen Bathroom System</td><td>Bathroom Products</td></tr><tr><td>P000001037</td><td>Hemnes Bathroom System</td><td>Bathroom Products</td></tr><tr><td>P000001036</td><td>Godmorgon Bathroom System</td><td>Bathroom Products</td></tr><tr><td>P000000050</td><td>APPLARO Gateleg Table</td><td>Storage &amp; organisation</td></tr><tr><td>P000000050</td><td>APPLARO Gateleg Table</td><td>Outdoor products</td></tr><tr><td>P000000049</td><td>SOLLERON Storage Table with Storage</td><td>Storage &amp; organisation</td></tr><tr><td>P000000049</td><td>SOLLERON Storage Table with Storage</td><td>Outdoor products</td></tr><tr><td>P000000048</td><td>MUSKO Table Stool</td><td>Storage &amp; organisation</td></tr><tr><td>P000000048</td><td>MUSKO Table Stool</td><td>Outdoor products</td></tr><tr><td>P000000047</td><td>FJALLBO Shelf Unit</td><td>Storage &amp; organisation</td></tr><tr><td>P000000047</td><td>FJALLBO Shelf Unit</td><td>Outdoor products</td></tr><tr><td>P000000046</td><td>SOLLERON Wall Panel</td><td>Storage &amp; organisation</td></tr><tr><td>P000000046</td><td>SOLLERON Wall Panel</td><td>Outdoor products</td></tr><tr><td>P000000045</td><td>FALSTER Bench</td><td>Storage &amp; organisation</td></tr><tr><td>P000000045</td><td>FALSTER Bench</td><td>Outdoor products</td></tr><tr><td>P000000044</td><td>BURHANI Shelving Unit</td><td>Storage &amp; organisation</td></tr><tr><td>P000000044</td><td>BURHANI Shelving Unit</td><td>Outdoor products</td></tr><tr><td>P000000043</td><td>APPLARO Storage Table</td><td>Storage &amp; organisation</td></tr><tr><td>P000000043</td><td>APPLARO Storage Table</td><td>Outdoor products</td></tr><tr><td>P000000042</td><td>KOLBJORN Cabinet</td><td>Storage &amp; organisation</td></tr><tr><td>P000000042</td><td>KOLBJORN Cabinet</td><td>Outdoor products</td></tr><tr><td>P000000041</td><td>HYLLIS Shelving Unit</td><td>Storage &amp; organisation</td></tr><tr><td>P000000041</td><td>HYLLIS Shelving Unit</td><td>Outdoor products</td></tr><tr><td>P000000040</td><td>SOLLERON Storage Bench</td><td>Storage &amp; organisation</td></tr><tr><td>P000000040</td><td>SOLLERON Storage Bench</td><td>Outdoor products</td></tr><tr><td>P000000039</td><td>APPLARO Storage Combination</td><td>Storage &amp; organisation</td></tr><tr><td>P000000039</td><td>APPLARO Storage Combination</td><td>Outdoor products</td></tr><tr><td>P000000038</td><td>FJALLBO Bench</td><td>Storage &amp; organisation</td></tr><tr><td>P000000038</td><td>FJALLBO Bench</td><td>Outdoor products</td></tr><tr><td>P000000037</td><td>MUSKO Bench</td><td>Storage &amp; organisation</td></tr><tr><td>P000000037</td><td>MUSKO Bench</td><td>Outdoor products</td></tr><tr><td>P000000036</td><td>BURHANI Wall Shelf</td><td>Storage &amp; organisation</td></tr><tr><td>P000000036</td><td>BURHANI Wall Shelf</td><td>Outdoor products</td></tr><tr><td>P000000035</td><td>SOLLERON Shelf Unit</td><td>Storage &amp; organisation</td></tr><tr><td>P000000035</td><td>SOLLERON Shelf Unit</td><td>Outdoor products</td></tr><tr><td>P000000034</td><td>KOLBJORN Cabinet with Doors</td><td>Storage &amp; organisation</td></tr><tr><td>P000000034</td><td>KOLBJORN Cabinet with Doors</td><td>Outdoor products</td></tr><tr><td>P000000033</td><td>FALSTER Storage Table Stool</td><td>Storage &amp; organisation</td></tr><tr><td>P000000033</td><td>FALSTER Storage Table Stool</td><td>Outdoor products</td></tr><tr><td>P000000032</td><td>APPLARO Storage Bench Outdoor</td><td>Storage &amp; organisation</td></tr><tr><td>P000000032</td><td>APPLARO Storage Bench Outdoor</td><td>Outdoor products</td></tr><tr><td>P000000031</td><td>HYLLIS Shelving Unit</td><td>Storage &amp; organisation</td></tr><tr><td>P000000031</td><td>HYLLIS Shelving Unit</td><td>Outdoor products</td></tr><tr><td>P000000030</td><td>SOLLERON Storage Table Outdoor</td><td>Storage &amp; organisation</td></tr><tr><td>P000000030</td><td>SOLLERON Storage Table Outdoor</td><td>Outdoor products</td></tr><tr><td>P000000029</td><td>KOLBJORN Storage Combination</td><td>Storage &amp; organisation</td></tr><tr><td>P000000029</td><td>KOLBJORN Storage Combination</td><td>Outdoor products</td></tr><tr><td>P000000028</td><td>APPLARO Wall Panel</td><td>Storage &amp; organisation</td></tr><tr><td>P000000028</td><td>APPLARO Wall Panel</td><td>Outdoor products</td></tr><tr><td>P000000027</td><td>BURHANI Wall Panel</td><td>Storage &amp; organisation</td></tr><tr><td>P000000027</td><td>BURHANI Wall Panel</td><td>Outdoor products</td></tr><tr><td>P000000026</td><td>FALSTER Bench with Storage Bag</td><td>Storage &amp; organisation</td></tr><tr><td>P000000026</td><td>FALSTER Bench with Storage Bag</td><td>Outdoor products</td></tr><tr><td>P000000025</td><td>MUSKO Shelving Unit</td><td>Storage &amp; organisation</td></tr><tr><td>P000000025</td><td>MUSKO Shelving Unit</td><td>Outdoor products</td></tr><tr><td>P000000024</td><td>APPLARO Storage Bench Outdoor</td><td>Storage &amp; organisation</td></tr><tr><td>P000000024</td><td>APPLARO Storage Bench Outdoor</td><td>Outdoor products</td></tr><tr><td>P000000023</td><td>FJALLBO Storage Bench</td><td>Storage &amp; organisation</td></tr><tr><td>P000000023</td><td>FJALLBO Storage Bench</td><td>Outdoor products</td></tr><tr><td>P000000022</td><td>SOLLERON Storage Combination</td><td>Storage &amp; organisation</td></tr><tr><td>P000000022</td><td>SOLLERON Storage Combination</td><td>Outdoor products</td></tr><tr><td>P000000021</td><td>KOLBJORN Cabinet with Drawer</td><td>Storage &amp; organisation</td></tr><tr><td>P000000021</td><td>KOLBJORN Cabinet with Drawer</td><td>Outdoor products</td></tr><tr><td>P000000020</td><td>SOLLERON Bench with Storage</td><td>Storage &amp; organisation</td></tr><tr><td>P000000020</td><td>SOLLERON Bench with Storage</td><td>Outdoor products</td></tr><tr><td>P000000019</td><td>BURHANI Shelving Unit</td><td>Storage &amp; organisation</td></tr><tr><td>P000000019</td><td>BURHANI Shelving Unit</td><td>Outdoor products</td></tr><tr><td>P000000018</td><td>HYLLIS Shelf Unit</td><td>Storage &amp; organisation</td></tr><tr><td>P000000018</td><td>HYLLIS Shelf Unit</td><td>Outdoor products</td></tr><tr><td>P000000017</td><td>APPLARO Bench with Wall Panel</td><td>Storage &amp; organisation</td></tr><tr><td>P000000017</td><td>APPLARO Bench with Wall Panel</td><td>Outdoor products</td></tr><tr><td>P000000016</td><td>FJALLBO Storage Combination</td><td>Storage &amp; organisation</td></tr><tr><td>P000000016</td><td>FJALLBO Storage Combination</td><td>Outdoor products</td></tr><tr><td>P000000015</td><td>SOLLERON Storage Table with Storage</td><td>Storage &amp; organisation</td></tr><tr><td>P000000015</td><td>SOLLERON Storage Table with Storage</td><td>Outdoor products</td></tr><tr><td>P000000014</td><td>APPLARO Gateleg Table</td><td>Storage &amp; organisation</td></tr><tr><td>P000000014</td><td>APPLARO Gateleg Table</td><td>Outdoor products</td></tr><tr><td>P000000013</td><td>MUSKO Table Stool</td><td>Storage &amp; organisation</td></tr><tr><td>P000000013</td><td>MUSKO Table Stool</td><td>Outdoor products</td></tr><tr><td>P000000012</td><td>KOLBJORN Shelf Unit</td><td>Storage &amp; organisation</td></tr><tr><td>P000000012</td><td>KOLBJORN Shelf Unit</td><td>Outdoor products</td></tr><tr><td>P000000011</td><td>APPLARO Storage Table</td><td>Storage &amp; organisation</td></tr><tr><td>P000000011</td><td>APPLARO Storage Table</td><td>Outdoor products</td></tr><tr><td>P000000010</td><td>SOLLERON Wall Panel</td><td>Storage &amp; organisation</td></tr><tr><td>P000000010</td><td>SOLLERON Wall Panel</td><td>Outdoor products</td></tr><tr><td>P000000009</td><td>BURHANI Wall Shelf</td><td>Storage &amp; organisation</td></tr><tr><td>P000000009</td><td>BURHANI Wall Shelf</td><td>Outdoor products</td></tr><tr><td>P000000008</td><td>FALSTER Bench</td><td>Storage &amp; organisation</td></tr><tr><td>P000000008</td><td>FALSTER Bench</td><td>Outdoor products</td></tr><tr><td>P000000007</td><td>HYLLIS Shelving Unit</td><td>Storage &amp; organisation</td></tr><tr><td>P000000007</td><td>HYLLIS Shelving Unit</td><td>Outdoor products</td></tr><tr><td>P000000006</td><td>BROR Shelving Unit</td><td>Storage &amp; organisation</td></tr><tr><td>P000000006</td><td>BROR Shelving Unit</td><td>Outdoor products</td></tr><tr><td>P000000005</td><td>FJALLBO Shelf Unit</td><td>Storage &amp; organisation</td></tr><tr><td>P000000005</td><td>FJALLBO Shelf Unit</td><td>Outdoor products</td></tr><tr><td>P000000004</td><td>SOLLERON Storage Bench</td><td>Storage &amp; organisation</td></tr><tr><td>P000000004</td><td>SOLLERON Storage Bench</td><td>Outdoor products</td></tr><tr><td>P000000003</td><td>KOLBJORN Cabinet</td><td>Storage &amp; organisation</td></tr><tr><td>P000000003</td><td>KOLBJORN Cabinet</td><td>Outdoor products</td></tr><tr><td>P000000002</td><td>MUSKO Storage Box</td><td>Storage &amp; organisation</td></tr><tr><td>P000000002</td><td>MUSKO Storage Box</td><td>Outdoor products</td></tr><tr><td>P000000001</td><td>APPLARO Storage Bench</td><td>Storage &amp; organisation</td></tr><tr><td>P000000001</td><td>APPLARO Storage Bench</td><td>Outdoor products</td></tr><tr><td>P000000610</td><td>RIGGA Drying Rack</td><td>Laundry &amp; cleaning</td></tr><tr><td>P000000609</td><td>JALL Drying Rack</td><td>Laundry &amp; cleaning</td></tr><tr><td>P000000608</td><td>MULIG Drying Rack</td><td>Laundry &amp; cleaning</td></tr><tr><td>P000000607</td><td>FROST Drying Rack</td><td>Laundry &amp; cleaning</td></tr><tr><td>P000000606</td><td>RIGGA Drying Rack</td><td>Laundry &amp; cleaning</td></tr><tr><td>P000000605</td><td>MULIG Drying Rack</td><td>Laundry &amp; cleaning</td></tr><tr><td>P000000604</td><td>JALL Drying Rack</td><td>Laundry &amp; cleaning</td></tr><tr><td>P000000603</td><td>FJALLBO Drying Rack</td><td>Laundry &amp; cleaning</td></tr><tr><td>P000000602</td><td>JALL Drying Rack</td><td>Laundry &amp; cleaning</td></tr><tr><td>P000000601</td><td>FROST Drying Rack</td><td>Laundry &amp; cleaning</td></tr><tr><td>P000001626</td><td>Siljan Under Sink Cabinet</td><td>Bathroom Products</td></tr><tr><td>P000001625</td><td>Braviken Under Sink Cabinet</td><td>Bathroom Products</td></tr><tr><td>P000001624</td><td>Lillangen Under Sink Cabinet</td><td>Bathroom Products</td></tr><tr><td>P000001623</td><td>Godmorgon Under Sink Cabinet</td><td>Bathroom Products</td></tr><tr><td>P000001622</td><td>Hemnes Under Sink Cabinet</td><td>Bathroom Products</td></tr><tr><td>P000000429</td><td>KOPARDAL Headboard</td><td>Beds &amp; Mattresses</td></tr><tr><td>P000000428</td><td>BRYGGJA Headboard</td><td>Beds &amp; Mattresses</td></tr><tr><td>P000000427</td><td>BJURSTA Headboard</td><td>Beds &amp; Mattresses</td></tr><tr><td>P000000426</td><td>TARVA Headboard</td><td>Beds &amp; Mattresses</td></tr><tr><td>P000000425</td><td>NYHAMN Headboard</td><td>Beds &amp; Mattresses</td></tr><tr><td>P000000424</td><td>NEIDEN Headboard</td><td>Beds &amp; Mattresses</td></tr><tr><td>P000000423</td><td>OPPLAND Headboard</td><td>Beds &amp; Mattresses</td></tr><tr><td>P000000422</td><td>SONGESAND Headboard</td><td>Beds &amp; Mattresses</td></tr><tr><td>P000000421</td><td>BRIMNES Headboard</td><td>Beds &amp; Mattresses</td></tr><tr><td>P000000420</td><td>MALM Headboard</td><td>Beds &amp; Mattresses</td></tr><tr><td>P000000439</td><td>KOPARDAL Storage Box</td><td>Beds &amp; Mattresses</td></tr><tr><td>P000000438</td><td>BRYGGJA Storage Box</td><td>Beds &amp; Mattresses</td></tr><tr><td>P000000437</td><td>BJURSTA Storage Box</td><td>Beds &amp; Mattresses</td></tr><tr><td>P000000436</td><td>TARVA Storage Box</td><td>Beds &amp; Mattresses</td></tr><tr><td>P000000435</td><td>NYHAMN Storage Box</td><td>Beds &amp; Mattresses</td></tr><tr><td>P000000434</td><td>NEIDEN Storage Box</td><td>Beds &amp; Mattresses</td></tr><tr><td>P000000433</td><td>OPPLAND Storage Box</td><td>Beds &amp; Mattresses</td></tr><tr><td>P000000432</td><td>SONGESAND Storage Box</td><td>Beds &amp; Mattresses</td></tr><tr><td>P000000431</td><td>BRIMNES Storage Box</td><td>Beds &amp; Mattresses</td></tr><tr><td>P000000430</td><td>MALM Storage Box</td><td>Beds &amp; Mattresses</td></tr><tr><td>P000001174</td><td>Alex Gaming Desk</td><td>Furniture</td></tr><tr><td>P000001173</td><td>Skarsta Gaming Desk</td><td>Furniture</td></tr><tr><td>P000001172</td><td>Linnmon Gaming Desk</td><td>Furniture</td></tr><tr><td>P000001171</td><td>Micke Gaming Desk</td><td>Furniture</td></tr><tr><td>P000001170</td><td>Fredde Gaming Desk</td><td>Furniture</td></tr><tr><td>P000000852</td><td>Tullsta Armchair</td><td>Furniture</td></tr><tr><td>P000000851</td><td>Soderhamn Armchair</td><td>Furniture</td></tr><tr><td>P000000850</td><td>Strandmon Armchair</td><td>Furniture</td></tr><tr><td>P000000849</td><td>Poang Armchair</td><td>Furniture</td></tr><tr><td>P000000848</td><td>Ektorp Armchair</td><td>Furniture</td></tr><tr><td>P000000897</td><td>Kokig Saucepan</td><td>Kitchenware &amp; Tableware</td></tr><tr><td>P000000896</td><td>Stabil Saucepan</td><td>Kitchenware &amp; Tableware</td></tr><tr><td>P000000895</td><td>Kavalkad Saucepan</td><td>Kitchenware &amp; Tableware</td></tr><tr><td>P000000894</td><td>Mattlig Saucepan</td><td>Kitchenware &amp; Tableware</td></tr><tr><td>P000000893</td><td>Sensorisk Saucepan</td><td>Kitchenware &amp; Tableware</td></tr><tr><td>P000001299</td><td>Rationell Cutlery Tray</td><td>Kitchen Cabinets &amp; Appliances</td></tr><tr><td>P000001298</td><td>Stodja Cutlery Tray</td><td>Kitchen Cabinets &amp; Appliances</td></tr><tr><td>P000001297</td><td>Ordning Cutlery Tray</td><td>Kitchen Cabinets &amp; Appliances</td></tr><tr><td>P000001296</td><td>Variog Cutlery Tray</td><td>Kitchen Cabinets &amp; Appliances</td></tr><tr><td>P000001295</td><td>Varihack Cutlery Tray</td><td>Kitchen Cabinets &amp; Appliances</td></tr><tr><td>P000001379</td><td>Frappant Cooking Accessories</td><td>Kitchenware &amp; Tableware</td></tr><tr><td>P000001378</td><td>Sorglos Cooking Accessories</td><td>Kitchenware &amp; Tableware</td></tr><tr><td>P000001377</td><td>Idelisk Cooking Accessories</td><td>Kitchenware &amp; Tableware</td></tr><tr><td>P000001376</td><td>Glasig Cooking Accessories</td><td>Kitchenware &amp; Tableware</td></tr><tr><td>P000001375</td><td>Giltig Cooking Accessories</td><td>Kitchenware &amp; Tableware</td></tr><tr><td>P000001497</td><td>Grundtal Wall Mirror</td><td>Home Decoration</td></tr><tr><td>P000001496</td><td>Fjallbacka Wall Mirror</td><td>Home Decoration</td></tr><tr><td>P000001495</td><td>Kolja Wall Mirror</td><td>Home Decoration</td></tr><tr><td>P000001494</td><td>Ikea Ps Wall Mirror</td><td>Home Decoration</td></tr><tr><td>P000001493</td><td>Hovet Wall Mirror</td><td>Home Decoration</td></tr><tr><td>P000000409</td><td>NYHAMN Bed Cabinet</td><td>Beds &amp; Mattresses</td></tr><tr><td>P000000408</td><td>VISTHUS Nightstand</td><td>Beds &amp; Mattresses</td></tr><tr><td>P000000407</td><td>HURDAL Bedside Table</td><td>Beds &amp; Mattresses</td></tr><tr><td>P000000406</td><td>HOPEN Nightstand</td><td>Beds &amp; Mattresses</td></tr><tr><td>P000000405</td><td>RAST Nightstand</td><td>Beds &amp; Mattresses</td></tr><tr><td>P000000404</td><td>MALM Bedside Table</td><td>Beds &amp; Mattresses</td></tr><tr><td>P000000403</td><td>SONGESAND Nightstand</td><td>Beds &amp; Mattresses</td></tr><tr><td>P000000402</td><td>SELJE Nightstand</td><td>Beds &amp; Mattresses</td></tr><tr><td>P000000401</td><td>HEMNES Nightstand</td><td>Beds &amp; Mattresses</td></tr><tr><td>P000000400</td><td>BRIMNES Bedside Table</td><td>Beds &amp; Mattresses</td></tr><tr><td>P000001045</td><td>Ragis Laundry</td><td>Bathroom Products</td></tr><tr><td>P000001044</td><td>Baggmuck Laundry</td><td>Bathroom Products</td></tr><tr><td>P000001043</td><td>Torkis Laundry</td><td>Bathroom Products</td></tr><tr><td>P000001042</td><td>Ragrund Laundry</td><td>Bathroom Products</td></tr><tr><td>P000001041</td><td>Grundtal Laundry</td><td>Bathroom Products</td></tr><tr><td>P000001279</td><td>Morbylanga Cafe Table</td><td>Furniture</td></tr><tr><td>P000001278</td><td>Vejmon Cafe Table</td><td>Furniture</td></tr><tr><td>P000001277</td><td>Lindved Cafe Table</td><td>Furniture</td></tr><tr><td>P000001276</td><td>Glasholm Cafe Table</td><td>Furniture</td></tr><tr><td>P000001275</td><td>Lack Cafe Table</td><td>Furniture</td></tr><tr><td>P000001651</td><td>Tossig Bin</td><td>Bathroom Products</td></tr><tr><td>P000001651</td><td>Tossig Bin</td><td>Laundry &amp; cleaning</td></tr><tr><td>P000001650</td><td>Grundtal Bin</td><td>Bathroom Products</td></tr><tr><td>P000001650</td><td>Grundtal Bin</td><td>Laundry &amp; cleaning</td></tr><tr><td>P000001649</td><td>Vesken Bin</td><td>Bathroom Products</td></tr><tr><td>P000001649</td><td>Vesken Bin</td><td>Laundry &amp; cleaning</td></tr><tr><td>P000001648</td><td>Kalkgrund Bin</td><td>Bathroom Products</td></tr><tr><td>P000001648</td><td>Kalkgrund Bin</td><td>Laundry &amp; cleaning</td></tr><tr><td>P000001647</td><td>Frostna Bin</td><td>Bathroom Products</td></tr><tr><td>P000001647</td><td>Frostna Bin</td><td>Laundry &amp; cleaning</td></tr><tr><td>P000001249</td><td>Kritter Children&#39;s Chair</td><td>Furniture</td></tr><tr><td>P000001248</td><td>Mammut Children&#39;s Chair</td><td>Furniture</td></tr><tr><td>P000001247</td><td>Agam Children&#39;s Chair</td><td>Furniture</td></tr><tr><td>P000001246</td><td>Sundvik Children&#39;s Chair</td><td>Furniture</td></tr><tr><td>P000001245</td><td>Flisat Children&#39;s Chair</td><td>Furniture</td></tr><tr><td>P000000972</td><td>Raffig Curtain Rod</td><td>Textiles</td></tr><tr><td>P000000971</td><td>Vidga Curtain Rod</td><td>Textiles</td></tr><tr><td>P000000970</td><td>Betydlig Curtain Rod</td><td>Textiles</td></tr><tr><td>P000000969</td><td>Hugad Curtain Rod</td><td>Textiles</td></tr><tr><td>P000000968</td><td>Racka Curtain Rod</td><td>Textiles</td></tr><tr><td>P000001801</td><td>Maja Fabric</td><td>Textiles</td></tr><tr><td>P000001800</td><td>Lars Fabric</td><td>Textiles</td></tr><tr><td>P000001799</td><td>Greta Fabric</td><td>Textiles</td></tr><tr><td>P000001798</td><td>Anna Fabric</td><td>Textiles</td></tr><tr><td>P000001797</td><td>Sofie Fabric</td><td>Textiles</td></tr><tr><td>P000001816</td><td>Solrande Rug</td><td>Textiles</td></tr><tr><td>P000001815</td><td>Mjukpla Rug</td><td>Textiles</td></tr><tr><td>P000001814</td><td>Myllrande Rug</td><td>Textiles</td></tr><tr><td>P000001813</td><td>Fangst Rug</td><td>Textiles</td></tr><tr><td>P000001812</td><td>Lekplats Rug</td><td>Textiles</td></tr><tr><td>P000001294</td><td>Stokke Changing Table</td><td>Furniture</td></tr><tr><td>P000001293</td><td>Gulliver Changing Table</td><td>Furniture</td></tr><tr><td>P000001292</td><td>Hemnes Changing Table</td><td>Furniture</td></tr><tr><td>P000001291</td><td>Sundvik Changing Table</td><td>Furniture</td></tr><tr><td>P000001290</td><td>Sniglar Changing Table</td><td>Furniture</td></tr><tr><td>P000001199</td><td>Vimle Sofa-Bed</td><td>Furniture</td></tr><tr><td>P000001199</td><td>Vimle Sofa-Bed</td><td>Beds &amp; Mattresses</td></tr><tr><td>P000001198</td><td>Moheda Sofa-Bed</td><td>Furniture</td></tr><tr><td>P000001198</td><td>Moheda Sofa-Bed</td><td>Beds &amp; Mattresses</td></tr><tr><td>P000001197</td><td>Holmsund Sofa-Bed</td><td>Furniture</td></tr><tr><td>P000001197</td><td>Holmsund Sofa-Bed</td><td>Beds &amp; Mattresses</td></tr><tr><td>P000001196</td><td>Friheten Sofa-Bed</td><td>Furniture</td></tr><tr><td>P000001196</td><td>Friheten Sofa-Bed</td><td>Beds &amp; Mattresses</td></tr><tr><td>P000001195</td><td>Lycksele Sofa-Bed</td><td>Furniture</td></tr><tr><td>P000001195</td><td>Lycksele Sofa-Bed</td><td>Beds &amp; Mattresses</td></tr><tr><td>P000000942</td><td>Kronill Block-out Curtain</td><td>Textiles</td></tr><tr><td>P000000941</td><td>Merete Block-out Curtain</td><td>Textiles</td></tr><tr><td>P000000940</td><td>Sanela Block-out Curtain</td><td>Textiles</td></tr><tr><td>P000000939</td><td>Morgon Block-out Curtain</td><td>Textiles</td></tr><tr><td>P000000938</td><td>Tretur Block-out Curtain</td><td>Textiles</td></tr><tr><td>P000001606</td><td>Hemnes Changing Table</td><td>Baby &amp; Children</td></tr><tr><td>P000001605</td><td>Leksvik Changing Table</td><td>Baby &amp; Children</td></tr><tr><td>P000001604</td><td>Sniglar Changing Table</td><td>Baby &amp; Children</td></tr><tr><td>P000001603</td><td>Gulliver Changing Table</td><td>Baby &amp; Children</td></tr><tr><td>P000001602</td><td>Stuva Changing Table</td><td>Baby &amp; Children</td></tr><tr><td>P000001154</td><td>Lekose Travel Bag</td><td>Storage &amp; organisation</td></tr><tr><td>P000001153</td><td>Skubb Travel Bag</td><td>Storage &amp; organisation</td></tr><tr><td>P000001152</td><td>Packa Travel Bag</td><td>Storage &amp; organisation</td></tr><tr><td>P000001151</td><td>Ryggsack Travel Bag</td><td>Storage &amp; organisation</td></tr><tr><td>P000001150</td><td>Forfina Travel Bag</td><td>Storage &amp; organisation</td></tr><tr><td>P000000792</td><td>FArlOv Leather/Cloth Loveseat</td><td>Furniture</td></tr><tr><td>P000000791</td><td>SOderhamn Leather/Cloth Loveseat</td><td>Furniture</td></tr><tr><td>P000000790</td><td>Stockholm Leather/Cloth Loveseat</td><td>Furniture</td></tr><tr><td>P000000789</td><td>Karlstad Leather/Cloth Loveseat</td><td>Furniture</td></tr><tr><td>P000000788</td><td>Ektorp Leather/Cloth Loveseat</td><td>Furniture</td></tr><tr><td>P000000812</td><td>Hemnes Desk</td><td>Furniture</td></tr><tr><td>P000000811</td><td>Brusali Desk</td><td>Furniture</td></tr><tr><td>P000000810</td><td>Alex Desk</td><td>Furniture</td></tr><tr><td>P000000809</td><td>Linnmon/Adils Desk</td><td>Furniture</td></tr><tr><td>P000000808</td><td>Micke Desk</td><td>Furniture</td></tr><tr><td>P000001556</td><td>Lifx LED Bulb</td><td>Lighting, lamps &amp; shades</td></tr><tr><td>P000001556</td><td>Lifx LED Bulb</td><td>Home Electronics</td></tr><tr><td>P000001556</td><td>Lifx LED Bulb</td><td>IKEA Home Smart</td></tr><tr><td>P000001556</td><td>Lifx LED Bulb</td><td>Lighting, lamps &amp; shades</td></tr><tr><td>P000001555</td><td>Tp-Link LED Bulb</td><td>Lighting, lamps &amp; shades</td></tr><tr><td>P000001555</td><td>Tp-Link LED Bulb</td><td>Home Electronics</td></tr><tr><td>P000001555</td><td>Tp-Link LED Bulb</td><td>IKEA Home Smart</td></tr><tr><td>P000001555</td><td>Tp-Link LED Bulb</td><td>Lighting, lamps &amp; shades</td></tr><tr><td>P000001554</td><td>Wiz LED Bulb</td><td>Lighting, lamps &amp; shades</td></tr><tr><td>P000001554</td><td>Wiz LED Bulb</td><td>Home Electronics</td></tr><tr><td>P000001554</td><td>Wiz LED Bulb</td><td>IKEA Home Smart</td></tr><tr><td>P000001554</td><td>Wiz LED Bulb</td><td>Lighting, lamps &amp; shades</td></tr><tr><td>P000001553</td><td>Hue LED Bulb</td><td>Lighting, lamps &amp; shades</td></tr><tr><td>P000001553</td><td>Hue LED Bulb</td><td>Home Electronics</td></tr><tr><td>P000001553</td><td>Hue LED Bulb</td><td>IKEA Home Smart</td></tr><tr><td>P000001553</td><td>Hue LED Bulb</td><td>Lighting, lamps &amp; shades</td></tr><tr><td>P000000214</td><td>JANSJO LED Wall/Clamp Spotlight</td><td>Lighting, lamps &amp; shades</td></tr><tr><td>P000000214</td><td>JANSJO LED Wall/Clamp Spotlight</td><td>Home Electronics</td></tr><tr><td>P000000214</td><td>JANSJO LED Wall/Clamp Spotlight</td><td>IKEA Home Smart</td></tr><tr><td>P000000214</td><td>JANSJO LED Wall/Clamp Spotlight</td><td>Lighting, lamps &amp; shades</td></tr><tr><td>P000000699</td><td>FJADRAR Cushion Insert</td><td>Textiles</td></tr><tr><td>P000000698</td><td>SANELA Cushion Cover</td><td>Textiles</td></tr><tr><td>P000000697</td><td>GURLI Cushion Cover</td><td>Textiles</td></tr><tr><td>P000001219</td><td>Oddvar Stool</td><td>Furniture</td></tr><tr><td>P000001219</td><td>Oddvar Stool</td><td>Furniture</td></tr><tr><td>P000001218</td><td>Dalfred Stool</td><td>Furniture</td></tr><tr><td>P000001218</td><td>Dalfred Stool</td><td>Furniture</td></tr><tr><td>P000001217</td><td>Bosse Stool</td><td>Furniture</td></tr><tr><td>P000001217</td><td>Bosse Stool</td><td>Furniture</td></tr><tr><td>P000001216</td><td>Marius Stool</td><td>Furniture</td></tr><tr><td>P000001216</td><td>Marius Stool</td><td>Furniture</td></tr><tr><td>P000001215</td><td>Frosta Stool</td><td>Furniture</td></tr><tr><td>P000001215</td><td>Frosta Stool</td><td>Furniture</td></tr><tr><td>P000001324</td><td>Lerhyttan Acrylic Splashback</td><td>Kitchen Cabinets &amp; Appliances</td></tr><tr><td>P000001323</td><td>Enhet Acrylic Splashback</td><td>Kitchen Cabinets &amp; Appliances</td></tr><tr><td>P000001322</td><td>Framtid Acrylic Splashback</td><td>Kitchen Cabinets &amp; Appliances</td></tr><tr><td>P000001321</td><td>Betsoende Acrylic Splashback</td><td>Kitchen Cabinets &amp; Appliances</td></tr><tr><td>P000001320</td><td>Limmaren Acrylic Splashback</td><td>Kitchen Cabinets &amp; Appliances</td></tr><tr><td>P000000867</td><td>TILLREDA Fridge</td><td>Kitchen Cabinets &amp; Appliances</td></tr><tr><td>P000000867</td><td>TILLREDA Fridge</td><td>Home Electronics</td></tr><tr><td>P000000866</td><td>VADHOLMA Fridge</td><td>Kitchen Cabinets &amp; Appliances</td></tr><tr><td>P000000866</td><td>VADHOLMA Fridge</td><td>Home Electronics</td></tr><tr><td>P000000865</td><td>RENODLIG Fridge</td><td>Kitchen Cabinets &amp; Appliances</td></tr><tr><td>P000000865</td><td>RENODLIG Fridge</td><td>Home Electronics</td></tr><tr><td>P000000864</td><td>KUNGSFORS Freezer</td><td>Kitchen Cabinets &amp; Appliances</td></tr><tr><td>P000000864</td><td>KUNGSFORS Freezer</td><td>Home Electronics</td></tr><tr><td>P000000863</td><td>KUNGSFORS Fridge</td><td>Kitchen Cabinets &amp; Appliances</td></tr><tr><td>P000000863</td><td>KUNGSFORS Fridge</td><td>Home Electronics</td></tr><tr><td>P000001547</td><td>Virumo Lamp Shade</td><td>Lighting, lamps &amp; shades</td></tr><tr><td>P000001546</td><td>Lindby Lamp Shade</td><td>Lighting, lamps &amp; shades</td></tr><tr><td>P000001545</td><td>Renzee Lamp Shade</td><td>Lighting, lamps &amp; shades</td></tr><tr><td>P000001544</td><td>Grossby Lamp Shade</td><td>Lighting, lamps &amp; shades</td></tr><tr><td>P000001543</td><td>Regolit Lamp Shade</td><td>Lighting, lamps &amp; shades</td></tr><tr><td>P000000558</td><td>FLISAT Planting Table</td><td>Pots &amp; Plants</td></tr><tr><td>P000000557</td><td>SOCKER Greenhouse</td><td>Pots &amp; Plants</td></tr><tr><td>P000000556</td><td>PLASTIS Dish Drainer</td><td>Pots &amp; Plants</td></tr><tr><td>P000000555</td><td>FORSIKTIG Watering Can</td><td>Pots &amp; Plants</td></tr><tr><td>P000000554</td><td>VIVOSUN Growing Tent</td><td>Pots &amp; Plants</td></tr><tr><td>P000000553</td><td>MUSKOT Greenhouse</td><td>Pots &amp; Plants</td></tr><tr><td>P000000552</td><td>FLISAT Greenhouse</td><td>Pots &amp; Plants</td></tr><tr><td>P000000551</td><td>SOCKER Greenhouse</td><td>Pots &amp; Plants</td></tr><tr><td>P000000550</td><td>VINDRUVA Greenhouse</td><td>Pots &amp; Plants</td></tr><tr><td>P000000549</td><td>VAXER Growing Kit</td><td>Pots &amp; Plants</td></tr><tr><td>P000001781</td><td>Himmelsk Bed Linen</td><td>Textiles</td></tr><tr><td>P000001780</td><td>Dunderklumpen Bed Linen</td><td>Textiles</td></tr><tr><td>P000001779</td><td>Giraffig Bed Linen</td><td>Textiles</td></tr><tr><td>P000001778</td><td>Rabarber Bed Linen</td><td>Textiles</td></tr><tr><td>P000001777</td><td>Myskgras Bed Linen</td><td>Textiles</td></tr><tr><td>P000000459</td><td>MALVIK Leg</td><td>Beds &amp; Mattresses</td></tr><tr><td>P000000458</td><td>KURA Bed Leg</td><td>Beds &amp; Mattresses</td></tr><tr><td>P000000457</td><td>KIRSKAL Leg</td><td>Beds &amp; Mattresses</td></tr><tr><td>P000000456</td><td>HAUGESUND Leg</td><td>Beds &amp; Mattresses</td></tr><tr><td>P000000455</td><td>BRYGGJA Leg</td><td>Beds &amp; Mattresses</td></tr><tr><td>P000000454</td><td>FJORD Leg</td><td>Beds &amp; Mattresses</td></tr><tr><td>P000000453</td><td>GIMSE Leg</td><td>Beds &amp; Mattresses</td></tr><tr><td>P000000452</td><td>MANDAL Leg</td><td>Beds &amp; Mattresses</td></tr><tr><td>P000000451</td><td>BJORLI Leg</td><td>Beds &amp; Mattresses</td></tr><tr><td>P000000450</td><td>CAPITA Leg</td><td>Beds &amp; Mattresses</td></tr><tr><td>P000001149</td><td>Grona Backpack</td><td>Storage &amp; organisation</td></tr><tr><td>P000001148</td><td>Storsack Messenger Bag</td><td>Storage &amp; organisation</td></tr><tr><td>P000001147</td><td>Ransby Messenger Bag</td><td>Storage &amp; organisation</td></tr><tr><td>P000001146</td><td>Kanken Messenger Bag</td><td>Storage &amp; organisation</td></tr><tr><td>P000001145</td><td>Upptacka Backpack</td><td>Storage &amp; organisation</td></tr><tr><td>P000001601</td><td>Flisat Play Kitchen</td><td>Baby &amp; Children</td></tr><tr><td>P000001600</td><td>Sprutt Play Kitchen</td><td>Baby &amp; Children</td></tr><tr><td>P000001599</td><td>Mini-Kitchen Play Kitchen</td><td>Baby &amp; Children</td></tr><tr><td>P000001598</td><td>Smaklig Play Kitchen</td><td>Baby &amp; Children</td></tr><tr><td>P000001597</td><td>Duktig Play Kitchen</td><td>Baby &amp; Children</td></tr><tr><td>P000001344</td><td>Rundlig Tray</td><td>Kitchenware &amp; Tableware</td></tr><tr><td>P000001343</td><td>Medfira Tray</td><td>Kitchenware &amp; Tableware</td></tr><tr><td>P000001342</td><td>Servera Tray</td><td>Kitchenware &amp; Tableware</td></tr><tr><td>P000001341</td><td>Isberget Tray</td><td>Kitchenware &amp; Tableware</td></tr><tr><td>P000001340</td><td>Legitim Tray</td><td>Kitchenware &amp; Tableware</td></tr><tr><td>P000001517</td><td>Bixler Table Clock</td><td>Home Decoration</td></tr><tr><td>P000001516</td><td>Brukbar Wall Clock</td><td>Home Decoration</td></tr><tr><td>P000001515</td><td>Racka Wall Clock</td><td>Home Decoration</td></tr><tr><td>P000001514</td><td>Stomma Wall Clock</td><td>Home Decoration</td></tr><tr><td>P000001513</td><td>Rusch Wall Clock</td><td>Home Decoration</td></tr><tr><td>P000001542</td><td>Skimra Pendant Lamp</td><td>Lighting, lamps &amp; shades</td></tr><tr><td>P000001541</td><td>Maskros Pendant Lamp</td><td>Lighting, lamps &amp; shades</td></tr><tr><td>P000001540</td><td>Flugbo Pendant Lamp</td><td>Lighting, lamps &amp; shades</td></tr><tr><td>P000001539</td><td>Torka Pendant Lamp</td><td>Lighting, lamps &amp; shades</td></tr><tr><td>P000001538</td><td>Pult Pendant Lamp</td><td>Lighting, lamps &amp; shades</td></tr><tr><td>P000000709</td><td>SMORBOLL Throw</td><td>Textiles</td></tr><tr><td>P000000708</td><td>SKOGSKLOVER Throw</td><td>Textiles</td></tr><tr><td>P000000707</td><td>OFELIA Throw</td><td>Textiles</td></tr><tr><td>P000000706</td><td>DRAG Throw</td><td>Textiles</td></tr><tr><td>P000000705</td><td>GLADO Throw</td><td>Textiles</td></tr><tr><td>P000000704</td><td>OVERALLT Throw</td><td>Textiles</td></tr><tr><td>P000000703</td><td>MALIN RUND Throw</td><td>Textiles</td></tr><tr><td>P000000702</td><td>INGABRITTA Throw</td><td>Textiles</td></tr><tr><td>P000000701</td><td>GURLI Throw</td><td>Textiles</td></tr><tr><td>P000000700</td><td>VARKRAGE Throw</td><td>Textiles</td></tr><tr><td>P000000797</td><td>Soderhamn Modular Sectional</td><td>Furniture</td></tr><tr><td>P000000796</td><td>Norsborg Modular Sofa</td><td>Furniture</td></tr><tr><td>P000000795</td><td>Vimle Modular Sofa</td><td>Furniture</td></tr><tr><td>P000000794</td><td>Landskrona Modular Sofa</td><td>Furniture</td></tr><tr><td>P000000793</td><td>SOderhamn Modular Sofa</td><td>Furniture</td></tr><tr><td>P000001761</td><td>Patrull Safety Kit</td><td>Home Improvement</td></tr><tr><td>P000001760</td><td>Patrull Safety Kit</td><td>Home Improvement</td></tr><tr><td>P000001759</td><td>Patrull Safety Kit</td><td>Home Improvement</td></tr><tr><td>P000001758</td><td>Patrull Safety Kit</td><td>Home Improvement</td></tr><tr><td>P000001757</td><td>Patrull Safety Kit</td><td>Home Improvement</td></tr><tr><td>P000001254</td><td>Sundvik Children&#39;s Table</td><td>Furniture</td></tr><tr><td>P000001253</td><td>Trofast Children&#39;s Table</td><td>Furniture</td></tr><tr><td>P000001252</td><td>Latt Children&#39;s Table</td><td>Furniture</td></tr><tr><td>P000001251</td><td>Mammut Children&#39;s Table</td><td>Furniture</td></tr><tr><td>P000001250</td><td>Flisat Children&#39;s Table</td><td>Furniture</td></tr><tr><td>P000001184</td><td>Sandbacken Sofa</td><td>Furniture</td></tr><tr><td>P000001183</td><td>Soderhamn Sofa</td><td>Furniture</td></tr><tr><td>P000001182</td><td>Stocksund Sofa</td><td>Furniture</td></tr><tr><td>P000001181</td><td>Ektorp Sofa</td><td>Furniture</td></tr><tr><td>P000001180</td><td>Kivik Sofa</td><td>Furniture</td></tr><tr><td>P000001424</td><td>Vinterkaka Baking Tools</td><td>Kitchenware &amp; Tableware</td></tr><tr><td>P000001423</td><td>Pepparkaka Baking Tools</td><td>Kitchenware &amp; Tableware</td></tr><tr><td>P000001422</td><td>Syltkaka Baking Tools</td><td>Kitchenware &amp; Tableware</td></tr><tr><td>P000001421</td><td>Sockerkaka Baking Tools</td><td>Kitchenware &amp; Tableware</td></tr><tr><td>P000001420</td><td>Gallet Baking Tools</td><td>Kitchenware &amp; Tableware</td></tr><tr><td>P000000283</td><td>VALLOXEN Kitchen Mixer Tap</td><td>Kitchen Cabinets &amp; Appliances</td></tr><tr><td>P000000282</td><td>HJUVIK Kitchen Mixer Tap</td><td>Kitchen Cabinets &amp; Appliances</td></tr><tr><td>P000000281</td><td>NORNS Kitchen Mixer Tap</td><td>Kitchen Cabinets &amp; Appliances</td></tr><tr><td>P000000280</td><td>BOLMEN Kitchen Mixer Tap</td><td>Kitchen Cabinets &amp; Appliances</td></tr><tr><td>P000000279</td><td>TOLLSJON Kitchen Mixer Tap</td><td>Kitchen Cabinets &amp; Appliances</td></tr><tr><td>P000000278</td><td>VATTUDALEN Single Inset Sink</td><td>Kitchen Cabinets &amp; Appliances</td></tr><tr><td>P000000277</td><td>ELVERDAM Kitchen Mixer Tap</td><td>Kitchen Cabinets &amp; Appliances</td></tr><tr><td>P000000276</td><td>SKOGHALL Kitchen Faucet</td><td>Kitchen Cabinets &amp; Appliances</td></tr><tr><td>P000000275</td><td>KILSVIKEN Inset Sink</td><td>Kitchen Cabinets &amp; Appliances</td></tr><tr><td>P000000274</td><td>SVARTSJOEN Double Bowl Sink</td><td>Kitchen Cabinets &amp; Appliances</td></tr><tr><td>P000000273</td><td>VATTUDALEN Inset Sink</td><td>Kitchen Cabinets &amp; Appliances</td></tr><tr><td>P000000272</td><td>BLOMNING Kitchen Faucet</td><td>Kitchen Cabinets &amp; Appliances</td></tr><tr><td>P000000271</td><td>TILLAGAD Kitchen Faucet with Sensor</td><td>Kitchen Cabinets &amp; Appliances</td></tr><tr><td>P000000270</td><td>VIMMERN Kitchen Faucet with Handspray</td><td>Kitchen Cabinets &amp; Appliances</td></tr><tr><td>P000000269</td><td>VALLOXEN Kitchen Faucet</td><td>Kitchen Cabinets &amp; Appliances</td></tr><tr><td>P000000268</td><td>HJUVIK Kitchen Faucet</td><td>Kitchen Cabinets &amp; Appliances</td></tr><tr><td>P000000267</td><td>BOLMEN Kitchen Faucet</td><td>Kitchen Cabinets &amp; Appliances</td></tr><tr><td>P000000266</td><td>TOLLSJON Faucet</td><td>Kitchen Cabinets &amp; Appliances</td></tr><tr><td>P000000265</td><td>VATTUDALEN Single Bowl Sink</td><td>Kitchen Cabinets &amp; Appliances</td></tr><tr><td>P000000264</td><td>TARNAN Kitchen Faucet</td><td>Kitchen Cabinets &amp; Appliances</td></tr><tr><td>P000000263</td><td>SVARTSJOEN Faucet</td><td>Kitchen Cabinets &amp; Appliances</td></tr><tr><td>P000000262</td><td>NORNS Double Bowl Sink</td><td>Kitchen Cabinets &amp; Appliances</td></tr><tr><td>P000000261</td><td>DANDERYD Faucet</td><td>Kitchen Cabinets &amp; Appliances</td></tr><tr><td>P000000260</td><td>HILLESJON Sink</td><td>Kitchen Cabinets &amp; Appliances</td></tr><tr><td>P000000259</td><td>FYNDIG Double Bowl Sink</td><td>Kitchen Cabinets &amp; Appliances</td></tr><tr><td>P000000258</td><td>HAVSEN Apron Front Double Bowl Sink</td><td>Kitchen Cabinets &amp; Appliances</td></tr><tr><td>P000000257</td><td>BOHOLMEN Double Bowl Sink</td><td>Kitchen Cabinets &amp; Appliances</td></tr><tr><td>P000000256</td><td>VIMMERN Kitchen Tap</td><td>Kitchen Cabinets &amp; Appliances</td></tr><tr><td>P000000255</td><td>GRANSKAR Faucet</td><td>Kitchen Cabinets &amp; Appliances</td></tr><tr><td>P000000254</td><td>BREDVIK Kitchen Faucet</td><td>Kitchen Cabinets &amp; Appliances</td></tr><tr><td>P000000253</td><td>VIMMERN Kitchen Mixer Tap</td><td>Kitchen Cabinets &amp; Appliances</td></tr><tr><td>P000000252</td><td>VATTUDALEN Double Bowl Sink</td><td>Kitchen Cabinets &amp; Appliances</td></tr><tr><td>P000000251</td><td>BROGRUND Faucet</td><td>Kitchen Cabinets &amp; Appliances</td></tr><tr><td>P000000250</td><td>TILLAGAD Kitchen Faucet</td><td>Kitchen Cabinets &amp; Appliances</td></tr><tr><td>P000000249</td><td>ODENSVIK Sink</td><td>Kitchen Cabinets &amp; Appliances</td></tr><tr><td>P000000248</td><td>NORRSJON Sink</td><td>Kitchen Cabinets &amp; Appliances</td></tr><tr><td>P000000247</td><td>ELVERDAM Kitchen Faucet</td><td>Kitchen Cabinets &amp; Appliances</td></tr><tr><td>P000000246</td><td>RINGSKAR Faucet</td><td>Kitchen Cabinets &amp; Appliances</td></tr><tr><td>P000000245</td><td>LAGAN Single Bowl Sink</td><td>Kitchen Cabinets &amp; Appliances</td></tr><tr><td>P000000244</td><td>VIMMERN Kitchen Faucet</td><td>Kitchen Cabinets &amp; Appliances</td></tr><tr><td>P000000243</td><td>MOLNAR Faucet</td><td>Kitchen Cabinets &amp; Appliances</td></tr><tr><td>P000000242</td><td>FYNDIG Single Bowl Sink</td><td>Kitchen Cabinets &amp; Appliances</td></tr><tr><td>P000000241</td><td>HAVSEN Apron Front Sink</td><td>Kitchen Cabinets &amp; Appliances</td></tr><tr><td>P000000240</td><td>BOHOLMEN Single Bowl Sink</td><td>Kitchen Cabinets &amp; Appliances</td></tr><tr><td>P000000922</td><td>Palmlilja Polyester Duvet</td><td>Beds &amp; Mattresses</td></tr><tr><td>P000000922</td><td>Palmlilja Polyester Duvet</td><td>Textiles</td></tr><tr><td>P000000921</td><td>Tungslag Polyester Duvet</td><td>Beds &amp; Mattresses</td></tr><tr><td>P000000921</td><td>Tungslag Polyester Duvet</td><td>Textiles</td></tr><tr><td>P000000920</td><td>Tussoy Polyester Duvet</td><td>Beds &amp; Mattresses</td></tr><tr><td>P000000920</td><td>Tussoy Polyester Duvet</td><td>Textiles</td></tr><tr><td>P000000919</td><td>Gosaraps Polyester Duvet</td><td>Beds &amp; Mattresses</td></tr><tr><td>P000000919</td><td>Gosaraps Polyester Duvet</td><td>Textiles</td></tr><tr><td>P000000918</td><td>Myskgras Polyester Duvet</td><td>Beds &amp; Mattresses</td></tr><tr><td>P000000918</td><td>Myskgras Polyester Duvet</td><td>Textiles</td></tr><tr><td>P000000748</td><td>FJALKINGE Cube Wall Shelf</td><td>Storage &amp; organisation</td></tr><tr><td>P000000747</td><td>KALLAX Cube Wall Shelf</td><td>Storage &amp; organisation</td></tr><tr><td>P000000746</td><td>EKET Cube Wall Shelf</td><td>Storage &amp; organisation</td></tr><tr><td>P000000807</td><td>Solsta Sofa Bed Cover</td><td>Furniture</td></tr><tr><td>P000000807</td><td>Solsta Sofa Bed Cover</td><td>Beds &amp; Mattresses</td></tr><tr><td>P000000806</td><td>Flottebo Sofa Bed Cover</td><td>Furniture</td></tr><tr><td>P000000806</td><td>Flottebo Sofa Bed Cover</td><td>Beds &amp; Mattresses</td></tr><tr><td>P000000805</td><td>Fyresdal Sofa Bed Frame</td><td>Furniture</td></tr><tr><td>P000000805</td><td>Fyresdal Sofa Bed Frame</td><td>Beds &amp; Mattresses</td></tr><tr><td>P000000804</td><td>Friheten Sofa Bed Cover</td><td>Furniture</td></tr><tr><td>P000000804</td><td>Friheten Sofa Bed Cover</td><td>Beds &amp; Mattresses</td></tr><tr><td>P000000803</td><td>Beddinge Sofa Bed Cover</td><td>Furniture</td></tr><tr><td>P000000803</td><td>Beddinge Sofa Bed Cover</td><td>Beds &amp; Mattresses</td></tr><tr><td>P000000170</td><td>HILVER Kitchen Table Top</td><td>Kitchen Cabinets &amp; Appliances</td></tr><tr><td>P000000169</td><td>KARLBY Countertop</td><td>Kitchen Cabinets &amp; Appliances</td></tr><tr><td>P000000168</td><td>HAMMARP Countertop</td><td>Kitchen Cabinets &amp; Appliances</td></tr><tr><td>P000000167</td><td>EDSERUM Tabletop</td><td>Kitchen Cabinets &amp; Appliances</td></tr><tr><td>P000000166</td><td>SALJAN Kitchen Countertop</td><td>Kitchen Cabinets &amp; Appliances</td></tr><tr><td>P000000165</td><td>KARLBY Kitchen Table Top</td><td>Kitchen Cabinets &amp; Appliances</td></tr><tr><td>P000000164</td><td>EKBACKEN Kitchen Worktop</td><td>Kitchen Cabinets &amp; Appliances</td></tr><tr><td>P000000163</td><td>LINNMON Countertop</td><td>Kitchen Cabinets &amp; Appliances</td></tr><tr><td>P000000162</td><td>HILVER Tabletop</td><td>Kitchen Cabinets &amp; Appliances</td></tr><tr><td>P000000161</td><td>VADHOLMA Countertop</td><td>Kitchen Cabinets &amp; Appliances</td></tr><tr><td>P000000160</td><td>LAGAN Countertop</td><td>Kitchen Cabinets &amp; Appliances</td></tr><tr><td>P000000159</td><td>GERTON Tabletop</td><td>Kitchen Cabinets &amp; Appliances</td></tr><tr><td>P000000158</td><td>EKBACKEN Table Top</td><td>Kitchen Cabinets &amp; Appliances</td></tr><tr><td>P000000157</td><td>LINNMON Tabletop</td><td>Kitchen Cabinets &amp; Appliances</td></tr><tr><td>P000000156</td><td>HILVER Bamboo Table Top</td><td>Kitchen Cabinets &amp; Appliances</td></tr><tr><td>P000000155</td><td>LAGAN Laminate Countertop</td><td>Kitchen Cabinets &amp; Appliances</td></tr><tr><td>P000000154</td><td>SALJAN Countertop</td><td>Kitchen Cabinets &amp; Appliances</td></tr><tr><td>P000000153</td><td>HAMMARP Butcher Block</td><td>Kitchen Cabinets &amp; Appliances</td></tr><tr><td>P000000152</td><td>KARLBY Kitchen Countertop</td><td>Kitchen Cabinets &amp; Appliances</td></tr><tr><td>P000000151</td><td>EKBACKEN Countertop</td><td>Kitchen Cabinets &amp; Appliances</td></tr><tr><td>P000001751</td><td>Kugg Screws</td><td>Home Improvement</td></tr><tr><td>P000001750</td><td>Skruv Screws</td><td>Home Improvement</td></tr><tr><td>P000001749</td><td>Rill Screws</td><td>Home Improvement</td></tr><tr><td>P000001748</td><td>Hack Screws</td><td>Home Improvement</td></tr><tr><td>P000001747</td><td>Lack Screws</td><td>Home Improvement</td></tr><tr><td>P000000932</td><td>Asfalt Polyester Pillow</td><td>Beds &amp; Mattresses</td></tr><tr><td>P000000932</td><td>Asfalt Polyester Pillow</td><td>Textiles</td></tr><tr><td>P000000931</td><td>Hogstarv Polyester Pillow</td><td>Beds &amp; Mattresses</td></tr><tr><td>P000000931</td><td>Hogstarv Polyester Pillow</td><td>Textiles</td></tr><tr><td>P000000930</td><td>Muskad Polyester Pillow</td><td>Beds &amp; Mattresses</td></tr><tr><td>P000000930</td><td>Muskad Polyester Pillow</td><td>Textiles</td></tr><tr><td>P000000929</td><td>Hollkon Polyester Pillow</td><td>Beds &amp; Mattresses</td></tr><tr><td>P000000929</td><td>Hollkon Polyester Pillow</td><td>Textiles</td></tr><tr><td>P000000928</td><td>Rosenskarm Polyester Pillow</td><td>Beds &amp; Mattresses</td></tr><tr><td>P000000928</td><td>Rosenskarm Polyester Pillow</td><td>Textiles</td></tr><tr><td>P000000120</td><td>ANEBODA Wardrobe</td><td>Furniture</td></tr><tr><td>P000000119</td><td>STOLMEN Room Screen</td><td>Furniture</td></tr><tr><td>P000000118</td><td>KIRKENAS Room Divider</td><td>Furniture</td></tr><tr><td>P000000117</td><td>ALGOT Wall Upright</td><td>Furniture</td></tr><tr><td>P000000116</td><td>KURA Bed Tent</td><td>Furniture</td></tr><tr><td>P000000115</td><td>VEBEROD Room Separator</td><td>Furniture</td></tr><tr><td>P000000114</td><td>HOLMO Room Screen</td><td>Furniture</td></tr><tr><td>P000000113</td><td>SODERHAMN Room Divider</td><td>Furniture</td></tr><tr><td>P000000112</td><td>MALM Bookcase</td><td>Furniture</td></tr><tr><td>P000000111</td><td>FJORD Room Divider</td><td>Furniture</td></tr><tr><td>P000000110</td><td>SKOGHALL Room Screen</td><td>Furniture</td></tr><tr><td>P000000109</td><td>SVALNAS Wall Divider</td><td>Furniture</td></tr><tr><td>P000000108</td><td>FJALKINGE Shelf Unit</td><td>Furniture</td></tr><tr><td>P000000107</td><td>BROR Room Divider</td><td>Furniture</td></tr><tr><td>P000000106</td><td>HEMNES Shelving Unit</td><td>Furniture</td></tr><tr><td>P000000105</td><td>LOMMARP Room Separator</td><td>Furniture</td></tr><tr><td>P000000104</td><td>RISOR Folding Screen</td><td>Furniture</td></tr><tr><td>P000000103</td><td>NORDLI Room Partition</td><td>Furniture</td></tr><tr><td>P000000102</td><td>VIDGA Hanging Panel</td><td>Furniture</td></tr><tr><td>P000000101</td><td>KALLAX Room Divider</td><td>Furniture</td></tr><tr><td>P000001070</td><td>Kallax Shelving Unit</td><td>Storage &amp; organisation</td></tr><tr><td>P000001070</td><td>Kallax Shelving Unit</td><td>Furniture</td></tr><tr><td>P000001069</td><td>Svalnas Shelving Unit</td><td>Storage &amp; organisation</td></tr><tr><td>P000001069</td><td>Svalnas Shelving Unit</td><td>Furniture</td></tr><tr><td>P000001068</td><td>String Shelving Unit</td><td>Storage &amp; organisation</td></tr><tr><td>P000001068</td><td>String Shelving Unit</td><td>Furniture</td></tr><tr><td>P000001067</td><td>Lack Shelving Unit</td><td>Storage &amp; organisation</td></tr><tr><td>P000001067</td><td>Lack Shelving Unit</td><td>Furniture</td></tr><tr><td>P000001066</td><td>Billy Shelving Unit</td><td>Storage &amp; organisation</td></tr><tr><td>P000001066</td><td>Billy Shelving Unit</td><td>Furniture</td></tr><tr><td>P000000150</td><td>VARIERA Pot Lid Organizer</td><td>Kitchen Cabinets &amp; Appliances</td></tr><tr><td>P000000149</td><td>ALGOT Wall Shelf</td><td>Kitchen Cabinets &amp; Appliances</td></tr><tr><td>P000000148</td><td>FINTORP Rail</td><td>Kitchen Cabinets &amp; Appliances</td></tr><tr><td>P000000147</td><td>RIGGA Clothes Rack</td><td>Kitchen Cabinets &amp; Appliances</td></tr><tr><td>P000000146</td><td>SKOGSTA Wall Shelf</td><td>Kitchen Cabinets &amp; Appliances</td></tr><tr><td>P000000145</td><td>HEJNE Shelf Unit</td><td>Kitchen Cabinets &amp; Appliances</td></tr><tr><td>P000000144</td><td>MULIG Clothes Rack</td><td>Kitchen Cabinets &amp; Appliances</td></tr><tr><td>P000000143</td><td>RASKOG Utility Cart</td><td>Kitchen Cabinets &amp; Appliances</td></tr><tr><td>P000000142</td><td>HYLLIS Shelf</td><td>Kitchen Cabinets &amp; Appliances</td></tr><tr><td>P000000141</td><td>OMAR Shelving Unit</td><td>Kitchen Cabinets &amp; Appliances</td></tr><tr><td>P000001394</td><td>Snudda Dish Drainer</td><td>Kitchenware &amp; Tableware</td></tr><tr><td>P000001394</td><td>Snudda Dish Drainer</td><td>Laundry &amp; cleaning</td></tr><tr><td>P000001393</td><td>Rationel Dish Drainer</td><td>Kitchenware &amp; Tableware</td></tr><tr><td>P000001393</td><td>Rationel Dish Drainer</td><td>Laundry &amp; cleaning</td></tr><tr><td>P000001392</td><td>Hemnist Dish Drainer</td><td>Kitchenware &amp; Tableware</td></tr><tr><td>P000001392</td><td>Hemnist Dish Drainer</td><td>Laundry &amp; cleaning</td></tr><tr><td>P000001391</td><td>Variel Dish Drainer</td><td>Kitchenware &amp; Tableware</td></tr><tr><td>P000001391</td><td>Variel Dish Drainer</td><td>Laundry &amp; cleaning</td></tr><tr><td>P000001390</td><td>Ordning Dish Drainer</td><td>Kitchenware &amp; Tableware</td></tr><tr><td>P000001390</td><td>Ordning Dish Drainer</td><td>Laundry &amp; cleaning</td></tr><tr><td>P000000745</td><td>FORBATTRA Air Purifier</td><td>IKEA Home Smart</td></tr><tr><td>P000000744</td><td>STARKVIND Air Purifier</td><td>IKEA Home Smart</td></tr><tr><td>P000000743</td><td>VAXER Air Purifier</td><td>IKEA Home Smart</td></tr><tr><td>P000000742</td><td>TRADFRI Air Purifier</td><td>IKEA Home Smart</td></tr><tr><td>P000000741</td><td>FORNUFTIG Air Purifier</td><td>IKEA Home Smart</td></tr><tr><td>P000000740</td><td>LUFTRENSA Air Purifier</td><td>IKEA Home Smart</td></tr><tr><td>P000001756</td><td>Fixa Tool Kit</td><td>Home Improvement</td></tr><tr><td>P000001755</td><td>Montor Tool Kit</td><td>Home Improvement</td></tr><tr><td>P000001754</td><td>Snickra Tool Kit</td><td>Home Improvement</td></tr><tr><td>P000001753</td><td>Huset Tool Kit</td><td>Home Improvement</td></tr><tr><td>P000001752</td><td>Sastra Tool Kit</td><td>Home Improvement</td></tr><tr><td>P000001030</td><td>Korken Scented Jar</td><td>Home Decoration</td></tr><tr><td>P000001029</td><td>Sinnlig Scented Sticks</td><td>Home Decoration</td></tr><tr><td>P000001028</td><td>Flammande Scented Candle</td><td>Home Decoration</td></tr><tr><td>P000001027</td><td>Sinnlig Scented Candle</td><td>Home Decoration</td></tr><tr><td>P000001026</td><td>Dofta Scented Candle</td><td>Home Decoration</td></tr><tr><td>P000000990</td><td>Klasen Kitchen Trolley</td><td>Storage &amp; organisation</td></tr><tr><td>P000000990</td><td>Klasen Kitchen Trolley</td><td>Furniture</td></tr><tr><td>P000000183</td><td>FLYTTA Kitchen Trolley</td><td>Storage &amp; organisation</td></tr><tr><td>P000000183</td><td>FLYTTA Kitchen Trolley</td><td>Furniture</td></tr><tr><td>P000000187</td><td>KNARREVIK Kitchen Cart</td><td>Storage &amp; organisation</td></tr><tr><td>P000000187</td><td>KNARREVIK Kitchen Cart</td><td>Furniture</td></tr><tr><td>P000000989</td><td>Raskog Trolley</td><td>Storage &amp; organisation</td></tr><tr><td>P000000989</td><td>Raskog Trolley</td><td>Furniture</td></tr><tr><td>P000000988</td><td>Stenstorp Trolley</td><td>Storage &amp; organisation</td></tr><tr><td>P000000988</td><td>Stenstorp Trolley</td><td>Furniture</td></tr><tr><td>P000001537</td><td>Alang Wall Lamp</td><td>Lighting, lamps &amp; shades</td></tr><tr><td>P000001536</td><td>Gyllen Wall Lamp</td><td>Lighting, lamps &amp; shades</td></tr><tr><td>P000001535</td><td>Sunne Wall Lamp</td><td>Lighting, lamps &amp; shades</td></tr><tr><td>P000001534</td><td>Ekby Wall Lamp</td><td>Lighting, lamps &amp; shades</td></tr><tr><td>P000001533</td><td>Ranarp Wall Lamp</td><td>Lighting, lamps &amp; shades</td></tr><tr><td>P000001474</td><td>Rissla Box</td><td>Home Decoration</td></tr><tr><td>P000001473</td><td>Variera Box</td><td>Home Decoration</td></tr><tr><td>P000001472</td><td>Frakta Box</td><td>Home Decoration</td></tr><tr><td>P000001471</td><td>Forvaring Box</td><td>Home Decoration</td></tr><tr><td>P000001470</td><td>Skubb Box</td><td>Home Decoration</td></tr><tr><td>P000000937</td><td>Skovatten Down &amp; Feather Pillow</td><td>Beds &amp; Mattresses</td></tr><tr><td>P000000937</td><td>Skovatten Down &amp; Feather Pillow</td><td>Textiles</td></tr><tr><td>P000000936</td><td>Badkaret Down &amp; Feather Pillow</td><td>Beds &amp; Mattresses</td></tr><tr><td>P000000936</td><td>Badkaret Down &amp; Feather Pillow</td><td>Textiles</td></tr><tr><td>P000000935</td><td>Kornet Down &amp; Feather Pillow</td><td>Beds &amp; Mattresses</td></tr><tr><td>P000000935</td><td>Kornet Down &amp; Feather Pillow</td><td>Textiles</td></tr><tr><td>P000000934</td><td>Tettrad Down &amp; Feather Pillow</td><td>Beds &amp; Mattresses</td></tr><tr><td>P000000934</td><td>Tettrad Down &amp; Feather Pillow</td><td>Textiles</td></tr><tr><td>P000000933</td><td>Fjaerpalm Down &amp; Feather Pillow</td><td>Beds &amp; Mattresses</td></tr><tr><td>P000000933</td><td>Fjaerpalm Down &amp; Feather Pillow</td><td>Textiles</td></tr><tr><td>P000001209</td><td>Gamlared Dining Table</td><td>Furniture</td></tr><tr><td>P000001209</td><td>Gamlared Dining Table</td><td>Furniture</td></tr><tr><td>P000001208</td><td>Norden Dining Table</td><td>Furniture</td></tr><tr><td>P000001208</td><td>Norden Dining Table</td><td>Furniture</td></tr><tr><td>P000001207</td><td>Melltorp Dining Table</td><td>Furniture</td></tr><tr><td>P000001207</td><td>Melltorp Dining Table</td><td>Furniture</td></tr><tr><td>P000001206</td><td>Lisabo Dining Table</td><td>Furniture</td></tr><tr><td>P000001206</td><td>Lisabo Dining Table</td><td>Furniture</td></tr><tr><td>P000001205</td><td>Ekedalen Dining Table</td><td>Furniture</td></tr><tr><td>P000001205</td><td>Ekedalen Dining Table</td><td>Furniture</td></tr><tr><td>P000001349</td><td>Viktigt Serving Dish</td><td>Kitchenware &amp; Tableware</td></tr><tr><td>P000001348</td><td>Fargrik Serving Dish</td><td>Kitchenware &amp; Tableware</td></tr><tr><td>P000001347</td><td>Blundar Serving Dish</td><td>Kitchenware &amp; Tableware</td></tr><tr><td>P000001346</td><td>Festmaltid Serving Dish</td><td>Kitchenware &amp; Tableware</td></tr><tr><td>P000001345</td><td>Vardagen Serving Dish</td><td>Kitchenware &amp; Tableware</td></tr><tr><td>P000001334</td><td>Blundar Plate</td><td>Kitchenware &amp; Tableware</td></tr><tr><td>P000001333</td><td>Vardagen Plate</td><td>Kitchenware &amp; Tableware</td></tr><tr><td>P000001332</td><td>Fargrik Plate</td><td>Kitchenware &amp; Tableware</td></tr><tr><td>P000001331</td><td>Ordning Plate</td><td>Kitchenware &amp; Tableware</td></tr><tr><td>P000001330</td><td>Variera Plate</td><td>Kitchenware &amp; Tableware</td></tr><tr><td>P000001444</td><td>Enhet Cup</td><td>Kitchenware &amp; Tableware</td></tr><tr><td>P000001443</td><td>Tiltalende Mug</td><td>Kitchenware &amp; Tableware</td></tr><tr><td>P000001442</td><td>Fargrik Mug</td><td>Kitchenware &amp; Tableware</td></tr><tr><td>P000001441</td><td>Kalas Cup</td><td>Kitchenware &amp; Tableware</td></tr><tr><td>P000001440</td><td>Duktig Mug</td><td>Kitchenware &amp; Tableware</td></tr><tr><td>P000001429</td><td>Vatten Tea Towel</td><td>Kitchenware &amp; Tableware</td></tr><tr><td>P000001429</td><td>Vatten Tea Towel</td><td>Textiles</td></tr><tr><td>P000001428</td><td>Ryssby Tea Towel</td><td>Kitchenware &amp; Tableware</td></tr><tr><td>P000001428</td><td>Ryssby Tea Towel</td><td>Textiles</td></tr><tr><td>P000001427</td><td>Lugn Tea Towel</td><td>Kitchenware &amp; Tableware</td></tr><tr><td>P000001427</td><td>Lugn Tea Towel</td><td>Textiles</td></tr><tr><td>P000001426</td><td>Skyn Tea Towel</td><td>Kitchenware &amp; Tableware</td></tr><tr><td>P000001426</td><td>Skyn Tea Towel</td><td>Textiles</td></tr><tr><td>P000001425</td><td>Mattrad Tea Towel</td><td>Kitchenware &amp; Tableware</td></tr><tr><td>P000001425</td><td>Mattrad Tea Towel</td><td>Textiles</td></tr><tr><td>P000001711</td><td>Kollund Rug</td><td>Rugs, mats &amp; flooring</td></tr><tr><td>P000001711</td><td>Kollund Rug</td><td>Textiles</td></tr><tr><td>P000001710</td><td>Ferle Rug</td><td>Rugs, mats &amp; flooring</td></tr><tr><td>P000001710</td><td>Ferle Rug</td><td>Textiles</td></tr><tr><td>P000001709</td><td>Torup Rug</td><td>Rugs, mats &amp; flooring</td></tr><tr><td>P000001709</td><td>Torup Rug</td><td>Textiles</td></tr><tr><td>P000001708</td><td>Hampen Rug</td><td>Rugs, mats &amp; flooring</td></tr><tr><td>P000001708</td><td>Hampen Rug</td><td>Textiles</td></tr><tr><td>P000001707</td><td>Lobbak Rug</td><td>Rugs, mats &amp; flooring</td></tr><tr><td>P000001707</td><td>Lobbak Rug</td><td>Textiles</td></tr><tr><td>P000000762</td><td>SVENSHULT Wall Shelf</td><td>Storage &amp; organisation</td></tr><tr><td>P000000761</td><td>MOSSLANDA Picture Ledge</td><td>Storage &amp; organisation</td></tr><tr><td>P000000760</td><td>HINDO Shelf Unit</td><td>Storage &amp; organisation</td></tr><tr><td>P000000759</td><td>EKET Cabinet with Shelf</td><td>Storage &amp; organisation</td></tr><tr><td>P000000758</td><td>GRANHULT Shelf</td><td>Storage &amp; organisation</td></tr><tr><td>P000000757</td><td>EKBY HEMNES Shelf</td><td>Storage &amp; organisation</td></tr><tr><td>P000000756</td><td>EKBY MOSSBY Shelf</td><td>Storage &amp; organisation</td></tr><tr><td>P000000755</td><td>EKBY VALTER Shelf</td><td>Storage &amp; organisation</td></tr><tr><td>P000000754</td><td>VITTSJO Shelf Unit</td><td>Storage &amp; organisation</td></tr><tr><td>P000001284</td><td>Bertil Cafe Chair</td><td>Furniture</td></tr><tr><td>P000001283</td><td>Ingolf Cafe Chair</td><td>Furniture</td></tr><tr><td>P000001282</td><td>Radviken Cafe Chair</td><td>Furniture</td></tr><tr><td>P000001281</td><td>Frode Cafe Chair</td><td>Furniture</td></tr><tr><td>P000001280</td><td>Nils Cafe Chair</td><td>Furniture</td></tr><tr><td>P000000947</td><td>Tibast Room Darkening Curtain</td><td>Textiles</td></tr><tr><td>P000000946</td><td>Alvine Spets Room Darkening Curtain</td><td>Textiles</td></tr><tr><td>P000000945</td><td>Morgongava Room Darkening Curtain</td><td>Textiles</td></tr><tr><td>P000000944</td><td>Majgull Room Darkening Curtain</td><td>Textiles</td></tr><tr><td>P000000943</td><td>Emmie Ruta Room Darkening Curtain</td><td>Textiles</td></tr><tr><td>P000000917</td><td>Maskros Ceiling Lamp</td><td>Lighting, lamps &amp; shades</td></tr><tr><td>P000000916</td><td>Vinter Ceiling Lamp</td><td>Lighting, lamps &amp; shades</td></tr><tr><td>P000000915</td><td>Vaster Ceiling Lamp</td><td>Lighting, lamps &amp; shades</td></tr><tr><td>P000000914</td><td>Skurup Ceiling Lamp</td><td>Lighting, lamps &amp; shades</td></tr><tr><td>P000000913</td><td>Tarvas Ceiling Lamp</td><td>Lighting, lamps &amp; shades</td></tr><tr><td>P000001234</td><td>Lappland Outdoor Dining</td><td>Furniture</td></tr><tr><td>P000001234</td><td>Lappland Outdoor Dining</td><td>Outdoor products</td></tr><tr><td>P000001233</td><td>Askholmen Outdoor Dining</td><td>Furniture</td></tr><tr><td>P000001233</td><td>Askholmen Outdoor Dining</td><td>Outdoor products</td></tr><tr><td>P000001232</td><td>Solleroen Outdoor Dining</td><td>Furniture</td></tr><tr><td>P000001232</td><td>Solleroen Outdoor Dining</td><td>Outdoor products</td></tr><tr><td>P000001231</td><td>Sandskar Outdoor Dining</td><td>Furniture</td></tr><tr><td>P000001231</td><td>Sandskar Outdoor Dining</td><td>Outdoor products</td></tr><tr><td>P000001230</td><td>Tarendo Outdoor Dining</td><td>Furniture</td></tr><tr><td>P000001230</td><td>Tarendo Outdoor Dining</td><td>Outdoor products</td></tr><tr><td>P000001314</td><td>Snudda Fridge</td><td>Kitchen Cabinets &amp; Appliances</td></tr><tr><td>P000001314</td><td>Snudda Fridge</td><td>Home Electronics</td></tr><tr><td>P000001313</td><td>Inreda Fridge</td><td>Kitchen Cabinets &amp; Appliances</td></tr><tr><td>P000001313</td><td>Inreda Fridge</td><td>Home Electronics</td></tr><tr><td>P000001312</td><td>Sidan Fridge</td><td>Kitchen Cabinets &amp; Appliances</td></tr><tr><td>P000001312</td><td>Sidan Fridge</td><td>Home Electronics</td></tr><tr><td>P000001311</td><td>Anordna Fridge</td><td>Kitchen Cabinets &amp; Appliances</td></tr><tr><td>P000001311</td><td>Anordna Fridge</td><td>Home Electronics</td></tr><tr><td>P000001310</td><td>Variera Fridge</td><td>Kitchen Cabinets &amp; Appliances</td></tr><tr><td>P000001310</td><td>Variera Fridge</td><td>Home Electronics</td></tr><tr><td>P000000563</td><td>SOCKERBIT Watering Can</td><td>Pots &amp; Plants</td></tr><tr><td>P000000562</td><td>PSALM Watering Can</td><td>Pots &amp; Plants</td></tr><tr><td>P000000561</td><td>VATTENKRASSE Watering Can</td><td>Pots &amp; Plants</td></tr><tr><td>P000000560</td><td>SOCKER Watering Can</td><td>Pots &amp; Plants</td></tr><tr><td>P000000559</td><td>FORSIKTIG Watering Can</td><td>Pots &amp; Plants</td></tr><tr><td>P000001691</td><td>Botanisk Plant</td><td>Outdoor products</td></tr><tr><td>P000001690</td><td>Florasund Plant</td><td>Outdoor products</td></tr><tr><td>P000001689</td><td>Skurar Plant</td><td>Outdoor products</td></tr><tr><td>P000001688</td><td>Granslo Plant</td><td>Outdoor products</td></tr><tr><td>P000001687</td><td>Fejka Plant</td><td>Outdoor products</td></tr><tr><td>P000000827</td><td>Lillhojden Desk Chair</td><td>Furniture</td></tr><tr><td>P000000826</td><td>Hattefjall Desk Chair</td><td>Furniture</td></tr><tr><td>P000000825</td><td>Jules Desk Chair</td><td>Furniture</td></tr><tr><td>P000000824</td><td>Snille Desk Chair</td><td>Furniture</td></tr><tr><td>P000000823</td><td>Renberget Desk Chair</td><td>Furniture</td></tr><tr><td>P000001179</td><td>Ergo Gaming Chair</td><td>Furniture</td></tr><tr><td>P000001178</td><td>Racer Gaming Chair</td><td>Furniture</td></tr><tr><td>P000001177</td><td>Noblechairs Gaming Chair</td><td>Furniture</td></tr><tr><td>P000001176</td><td>Fortnite Gaming Chair</td><td>Furniture</td></tr><tr><td>P000001175</td><td>Academy Gaming Chair</td><td>Furniture</td></tr><tr><td>P000001399</td><td>Magisk Dish Cloth</td><td>Kitchenware &amp; Tableware</td></tr><tr><td>P000001399</td><td>Magisk Dish Cloth</td><td>Laundry &amp; cleaning</td></tr><tr><td>P000001398</td><td>Korken Dish Cloth</td><td>Kitchenware &amp; Tableware</td></tr><tr><td>P000001398</td><td>Korken Dish Cloth</td><td>Laundry &amp; cleaning</td></tr><tr><td>P000001397</td><td>Skurita Dish Cloth</td><td>Kitchenware &amp; Tableware</td></tr><tr><td>P000001397</td><td>Skurita Dish Cloth</td><td>Laundry &amp; cleaning</td></tr><tr><td>P000001396</td><td>Radda Dish Cloth</td><td>Kitchenware &amp; Tableware</td></tr><tr><td>P000001396</td><td>Radda Dish Cloth</td><td>Laundry &amp; cleaning</td></tr><tr><td>P000001395</td><td>Vattnig Dish Cloth</td><td>Kitchenware &amp; Tableware</td></tr><tr><td>P000001395</td><td>Vattnig Dish Cloth</td><td>Laundry &amp; cleaning</td></tr><tr><td>P000001646</td><td>Siljan Vanity Mirror</td><td>Bathroom Products</td></tr><tr><td>P000001645</td><td>Braviken Vanity Mirror</td><td>Bathroom Products</td></tr><tr><td>P000001644</td><td>Lillangen Vanity Mirror</td><td>Bathroom Products</td></tr><tr><td>P000001643</td><td>Godmorgon Vanity Mirror</td><td>Bathroom Products</td></tr><tr><td>P000001642</td><td>Hemnes Vanity Mirror</td><td>Bathroom Products</td></tr><tr><td>P000001561</td><td>Stugvik Cabinet Lighting</td><td>Lighting, lamps &amp; shades</td></tr><tr><td>P000001561</td><td>Stugvik Cabinet Lighting</td><td>Bathroom Products</td></tr><tr><td>P000001560</td><td>Sundvik Cabinet Lighting</td><td>Lighting, lamps &amp; shades</td></tr><tr><td>P000001560</td><td>Sundvik Cabinet Lighting</td><td>Bathroom Products</td></tr><tr><td>P000001559</td><td>Kolja Cabinet Lighting</td><td>Lighting, lamps &amp; shades</td></tr><tr><td>P000001559</td><td>Kolja Cabinet Lighting</td><td>Bathroom Products</td></tr><tr><td>P000001558</td><td>Godmorgon Cabinet Lighting</td><td>Lighting, lamps &amp; shades</td></tr><tr><td>P000001558</td><td>Godmorgon Cabinet Lighting</td><td>Bathroom Products</td></tr><tr><td>P000001557</td><td>Lillangen Cabinet Lighting</td><td>Lighting, lamps &amp; shades</td></tr><tr><td>P000001557</td><td>Lillangen Cabinet Lighting</td><td>Bathroom Products</td></tr><tr><td>P000001140</td><td>Kubbis Hooks</td><td>Storage &amp; organisation</td></tr><tr><td>P000001139</td><td>Enudden Hooks</td><td>Storage &amp; organisation</td></tr><tr><td>P000001138</td><td>Ekby Hooks</td><td>Storage &amp; organisation</td></tr><tr><td>P000001137</td><td>Ljusnan Hooks</td><td>Storage &amp; organisation</td></tr><tr><td>P000001136</td><td>Grundtal Hooks</td><td>Storage &amp; organisation</td></tr><tr><td>P000000787</td><td>Knislinge Leather Sofa</td><td>Furniture</td></tr><tr><td>P000000786</td><td>Morabo Leather Sofa</td><td>Furniture</td></tr><tr><td>P000000785</td><td>Grann Leather Sofa</td><td>Furniture</td></tr><tr><td>P000000784</td><td>Sater Leather Sofa</td><td>Furniture</td></tr><tr><td>P000000783</td><td>Landskrona Leather Sofa</td><td>Furniture</td></tr><tr><td>P000001085</td><td>Hemnes TV &amp; Media Storage</td><td>Storage &amp; organisation</td></tr><tr><td>P000001085</td><td>Hemnes TV &amp; Media Storage</td><td>Furniture</td></tr><tr><td>P000001084</td><td>Kallax TV &amp; Media Storage</td><td>Storage &amp; organisation</td></tr><tr><td>P000001084</td><td>Kallax TV &amp; Media Storage</td><td>Furniture</td></tr><tr><td>P000001083</td><td>Liatorp TV &amp; Media Storage</td><td>Storage &amp; organisation</td></tr><tr><td>P000001083</td><td>Liatorp TV &amp; Media Storage</td><td>Furniture</td></tr><tr><td>P000001082</td><td>Brusali TV &amp; Media Storage</td><td>Storage &amp; organisation</td></tr><tr><td>P000001082</td><td>Brusali TV &amp; Media Storage</td><td>Furniture</td></tr><tr><td>P000001081</td><td>Byas TV &amp; Media Storage</td><td>Storage &amp; organisation</td></tr><tr><td>P000001081</td><td>Byas TV &amp; Media Storage</td><td>Furniture</td></tr><tr><td>P000001080</td><td>Brimnes Cabinet</td><td>Storage &amp; organisation</td></tr><tr><td>P000001080</td><td>Brimnes Cabinet</td><td>Furniture</td></tr><tr><td>P000001079</td><td>Brusali Cabinet</td><td>Storage &amp; organisation</td></tr><tr><td>P000001079</td><td>Brusali Cabinet</td><td>Furniture</td></tr><tr><td>P000001078</td><td>Fabrikor Cabinet</td><td>Storage &amp; organisation</td></tr><tr><td>P000001078</td><td>Fabrikor Cabinet</td><td>Furniture</td></tr><tr><td>P000001077</td><td>Hemnes Cabinet</td><td>Storage &amp; organisation</td></tr><tr><td>P000001077</td><td>Hemnes Cabinet</td><td>Furniture</td></tr><tr><td>P000001076</td><td>Liatorp Cabinet</td><td>Storage &amp; organisation</td></tr><tr><td>P000001076</td><td>Liatorp Cabinet</td><td>Furniture</td></tr><tr><td>P000001811</td><td>Giraffig Bath Towel</td><td>Textiles</td></tr><tr><td>P000001810</td><td>Himmelsk Bath Towel</td><td>Textiles</td></tr><tr><td>P000001809</td><td>Kramig Bath Towel</td><td>Textiles</td></tr><tr><td>P000001808</td><td>Laga Bath Towel</td><td>Textiles</td></tr><tr><td>P000001807</td><td>Leka Bath Towel</td><td>Textiles</td></tr><tr><td>P000000977</td><td>Betydlig Curtain Wire</td><td>Textiles</td></tr><tr><td>P000000976</td><td>Kvartal Curtain Wire</td><td>Textiles</td></tr><tr><td>P000000975</td><td>Riktig Curtain Wire</td><td>Textiles</td></tr><tr><td>P000000974</td><td>Syrlig Curtain Wire</td><td>Textiles</td></tr><tr><td>P000000973</td><td>Dignitet Curtain Wire</td><td>Textiles</td></tr><tr><td>P000001020</td><td>Liatorp Napkins</td><td>Kitchenware &amp; Tableware</td></tr><tr><td>P000001019</td><td>Gullharo Napkin Holder</td><td>Kitchenware &amp; Tableware</td></tr><tr><td>P000001018</td><td>Vinter Napkins</td><td>Kitchenware &amp; Tableware</td></tr><tr><td>P000001017</td><td>Ofantlig Napkin Holder</td><td>Kitchenware &amp; Tableware</td></tr><tr><td>P000001016</td><td>Drommar Napkins</td><td>Kitchenware &amp; Tableware</td></tr><tr><td>P000001611</td><td>Hemnes Cot</td><td>Baby &amp; Children</td></tr><tr><td>P000001610</td><td>Hensvik Cot</td><td>Baby &amp; Children</td></tr><tr><td>P000001609</td><td>Leksvik Cot</td><td>Baby &amp; Children</td></tr><tr><td>P000001608</td><td>Gulliver Cot</td><td>Baby &amp; Children</td></tr><tr><td>P000001607</td><td>Sniglar Cot</td><td>Baby &amp; Children</td></tr><tr><td>P000001000</td><td>Eket Cabinet</td><td>Kitchen Cabinets &amp; Appliances</td></tr><tr><td>P000000999</td><td>Kungsbacka Cabinet</td><td>Kitchen Cabinets &amp; Appliances</td></tr><tr><td>P000000998</td><td>Sektion Cabinet</td><td>Kitchen Cabinets &amp; Appliances</td></tr><tr><td>P000000997</td><td>Metod Cabinet</td><td>Kitchen Cabinets &amp; Appliances</td></tr><tr><td>P000000996</td><td>Godmorgon Cabinet</td><td>Kitchen Cabinets &amp; Appliances</td></tr><tr><td>P000000927</td><td>Gullviva Down &amp; Feather Duvet</td><td>Beds &amp; Mattresses</td></tr><tr><td>P000000927</td><td>Gullviva Down &amp; Feather Duvet</td><td>Textiles</td></tr><tr><td>P000000926</td><td>Sotvedel Down &amp; Feather Duvet</td><td>Beds &amp; Mattresses</td></tr><tr><td>P000000926</td><td>Sotvedel Down &amp; Feather Duvet</td><td>Textiles</td></tr><tr><td>P000000925</td><td>Honsbar Down &amp; Feather Duvet</td><td>Beds &amp; Mattresses</td></tr><tr><td>P000000925</td><td>Honsbar Down &amp; Feather Duvet</td><td>Textiles</td></tr><tr><td>P000000924</td><td>Varbracka Down &amp; Feather Duvet</td><td>Beds &amp; Mattresses</td></tr><tr><td>P000000924</td><td>Varbracka Down &amp; Feather Duvet</td><td>Textiles</td></tr><tr><td>P000000923</td><td>Sonderod Down &amp; Feather Duvet</td><td>Beds &amp; Mattresses</td></tr><tr><td>P000000923</td><td>Sonderod Down &amp; Feather Duvet</td><td>Textiles</td></tr><tr><td>P000001239</td><td>Vindals Sun Lounger</td><td>Furniture</td></tr><tr><td>P000001239</td><td>Vindals Sun Lounger</td><td>Outdoor products</td></tr><tr><td>P000001238</td><td>Sakarias Sun Lounger</td><td>Furniture</td></tr><tr><td>P000001238</td><td>Sakarias Sun Lounger</td><td>Outdoor products</td></tr><tr><td>P000001237</td><td>Hogsten Sun Lounger</td><td>Furniture</td></tr><tr><td>P000001237</td><td>Hogsten Sun Lounger</td><td>Outdoor products</td></tr><tr><td>P000001236</td><td>Lycksele Sun Lounger</td><td>Furniture</td></tr><tr><td>P000001236</td><td>Lycksele Sun Lounger</td><td>Outdoor products</td></tr><tr><td>P000001235</td><td>Grythyttan Sun Lounger</td><td>Furniture</td></tr><tr><td>P000001235</td><td>Grythyttan Sun Lounger</td><td>Outdoor products</td></tr><tr><td>P000000307</td><td>UPPDATERA Whiteboard</td><td>Home Decoration</td></tr><tr><td>P000000306</td><td>VEMUND Whiteboard</td><td>Home Decoration</td></tr><tr><td>P000000305</td><td>KLUDD Wall Organizer</td><td>Home Decoration</td></tr><tr><td>P000000304</td><td>UPPDATERA Cork Board</td><td>Home Decoration</td></tr><tr><td>P000000303</td><td>MATTEBY Whiteboard with Stand</td><td>Home Decoration</td></tr><tr><td>P000000302</td><td>SOARE Corkboard</td><td>Home Decoration</td></tr><tr><td>P000000301</td><td>MALA Chalkboard</td><td>Home Decoration</td></tr><tr><td>P000000300</td><td>VEMUND Cork Board</td><td>Home Decoration</td></tr><tr><td>P000000299</td><td>VEMUND Magnetic Board</td><td>Home Decoration</td></tr><tr><td>P000000298</td><td>SPONTAN Magnetic Board</td><td>Home Decoration</td></tr><tr><td>P000000297</td><td>KLUDD Chalkboard</td><td>Home Decoration</td></tr><tr><td>P000000296</td><td>SKRIBENT Whiteboard</td><td>Home Decoration</td></tr><tr><td>P000000295</td><td>MATTEBY Cork Board</td><td>Home Decoration</td></tr><tr><td>P000000294</td><td>KLUDD Magnetic Board</td><td>Home Decoration</td></tr><tr><td>P000000293</td><td>MATTEBY Whiteboard</td><td>Home Decoration</td></tr><tr><td>P000000292</td><td>UPPDATERA Magnetic Board</td><td>Home Decoration</td></tr><tr><td>P000000291</td><td>MATTEBY Pegboard</td><td>Home Decoration</td></tr><tr><td>P000000239</td><td>DIODER LED Cabinet Light</td><td>Home Decoration</td></tr><tr><td>P000000290</td><td>KLUDD Bulletin Board</td><td>Home Decoration</td></tr><tr><td>P000000289</td><td>UPPDATERA Glass Board</td><td>Home Decoration</td></tr><tr><td>P000000288</td><td>KLUDD Noticeboard</td><td>Home Decoration</td></tr><tr><td>P000000287</td><td>MATTEBY Wall Organizer</td><td>Home Decoration</td></tr><tr><td>P000000286</td><td>SOSDALA Memo Board</td><td>Home Decoration</td></tr><tr><td>P000000285</td><td>MALA Easel</td><td>Home Decoration</td></tr><tr><td>P000000284</td><td>SKADIS Pegboard</td><td>Home Decoration</td></tr><tr><td>P000000772</td><td>SVALNAS Wall Bracket</td><td>Storage &amp; organisation</td></tr><tr><td>P000000771</td><td>EKET Wall-Mounted Bracket</td><td>Storage &amp; organisation</td></tr><tr><td>P000000770</td><td>HINDO Wall Bracket</td><td>Storage &amp; organisation</td></tr><tr><td>P000000769</td><td>EKET Cabinet with Bracket</td><td>Storage &amp; organisation</td></tr><tr><td>P000000768</td><td>EKBY VALTER Bracket</td><td>Storage &amp; organisation</td></tr><tr><td>P000000767</td><td>EKBY TORE Bracket</td><td>Storage &amp; organisation</td></tr><tr><td>P000000766</td><td>LACK Wall Bracket</td><td>Storage &amp; organisation</td></tr><tr><td>P000000765</td><td>EKBY STODIS Bracket</td><td>Storage &amp; organisation</td></tr><tr><td>P000000764</td><td>EKBY BJARNUM Bracket</td><td>Storage &amp; organisation</td></tr><tr><td>P000000763</td><td>EKBY LERBERG Bracket</td><td>Storage &amp; organisation</td></tr><tr><td>P000001621</td><td>Siljan Vanity Wash-Stand</td><td>Bathroom Products</td></tr><tr><td>P000001620</td><td>Braviken Vanity Wash-Stand</td><td>Bathroom Products</td></tr><tr><td>P000001619</td><td>Lillangen Vanity Wash-Stand</td><td>Bathroom Products</td></tr><tr><td>P000001618</td><td>Godmorgon Vanity Wash-Stand</td><td>Bathroom Products</td></tr><tr><td>P000001617</td><td>Hemnes Vanity Wash-Stand</td><td>Bathroom Products</td></tr><tr><td>P000001636</td><td>Risatorp Basket</td><td>Bathroom Products</td></tr><tr><td>P000001636</td><td>Risatorp Basket</td><td>Bathroom Products</td></tr><tr><td>P000001635</td><td>Skoghall Box</td><td>Bathroom Products</td></tr><tr><td>P000001635</td><td>Skoghall Box</td><td>Bathroom Products</td></tr><tr><td>P000001634</td><td>Tjena Box</td><td>Bathroom Products</td></tr><tr><td>P000001634</td><td>Tjena Box</td><td>Bathroom Products</td></tr><tr><td>P000001633</td><td>Variera Box</td><td>Bathroom Products</td></tr><tr><td>P000001633</td><td>Variera Box</td><td>Bathroom Products</td></tr><tr><td>P000001632</td><td>Kvarnvik Box</td><td>Bathroom Products</td></tr><tr><td>P000001632</td><td>Kvarnvik Box</td><td>Bathroom Products</td></tr><tr><td>P000001721</td><td>Alvangen Underlay</td><td>Rugs, mats &amp; flooring</td></tr><tr><td>P000001721</td><td>Alvangen Underlay</td><td>Textiles</td></tr><tr><td>P000001720</td><td>Valby Ruta Anti-Slip</td><td>Rugs, mats &amp; flooring</td></tr><tr><td>P000001720</td><td>Valby Ruta Anti-Slip</td><td>Textiles</td></tr><tr><td>P000001719</td><td>Stopp Anti-Slip</td><td>Rugs, mats &amp; flooring</td></tr><tr><td>P000001719</td><td>Stopp Anti-Slip</td><td>Textiles</td></tr><tr><td>P000001718</td><td>Patrull Anti-Slip</td><td>Rugs, mats &amp; flooring</td></tr><tr><td>P000001718</td><td>Patrull Anti-Slip</td><td>Textiles</td></tr><tr><td>P000001717</td><td>Stopp Anti-Slip</td><td>Rugs, mats &amp; flooring</td></tr><tr><td>P000001717</td><td>Stopp Anti-Slip</td><td>Textiles</td></tr><tr><td>P000001532</td><td>Lyndal Table Lamp</td><td>Lighting, lamps &amp; shades</td></tr><tr><td>P000001531</td><td>Sarita Table Lamp</td><td>Lighting, lamps &amp; shades</td></tr><tr><td>P000001530</td><td>Lunnom Table Lamp</td><td>Lighting, lamps &amp; shades</td></tr><tr><td>P000001529</td><td>Hektar Table Lamp</td><td>Lighting, lamps &amp; shades</td></tr><tr><td>P000001528</td><td>Lindshult Table Lamp</td><td>Lighting, lamps &amp; shades</td></tr><tr><td>P000000209</td><td>OSTERNAS Knob</td><td>Kitchen Cabinets &amp; Appliances</td></tr><tr><td>P000000209</td><td>OSTERNAS Knob</td><td>Home Improvement</td></tr><tr><td>P000000208</td><td>GUBBARP Handle</td><td>Kitchen Cabinets &amp; Appliances</td></tr><tr><td>P000000208</td><td>GUBBARP Handle</td><td>Home Improvement</td></tr><tr><td>P000000207</td><td>TYDA Knob</td><td>Kitchen Cabinets &amp; Appliances</td></tr><tr><td>P000000207</td><td>TYDA Knob</td><td>Home Improvement</td></tr><tr><td>P000000206</td><td>BAGGANAS Knob</td><td>Kitchen Cabinets &amp; Appliances</td></tr><tr><td>P000000206</td><td>BAGGANAS Knob</td><td>Home Improvement</td></tr><tr><td>P000000205</td><td>LANSA Knob</td><td>Kitchen Cabinets &amp; Appliances</td></tr><tr><td>P000000205</td><td>LANSA Knob</td><td>Home Improvement</td></tr><tr><td>P000000204</td><td>FONNES Knob</td><td>Kitchen Cabinets &amp; Appliances</td></tr><tr><td>P000000204</td><td>FONNES Knob</td><td>Home Improvement</td></tr><tr><td>P000000203</td><td>KOPPLA Knob</td><td>Kitchen Cabinets &amp; Appliances</td></tr><tr><td>P000000203</td><td>KOPPLA Knob</td><td>Home Improvement</td></tr><tr><td>P000000202</td><td>ENERYDA Handle</td><td>Kitchen Cabinets &amp; Appliances</td></tr><tr><td>P000000202</td><td>ENERYDA Handle</td><td>Home Improvement</td></tr><tr><td>P000000201</td><td>GUBBARP Knob</td><td>Kitchen Cabinets &amp; Appliances</td></tr><tr><td>P000000201</td><td>GUBBARP Knob</td><td>Home Improvement</td></tr><tr><td>P000000200</td><td>MUSKAN Handle</td><td>Kitchen Cabinets &amp; Appliances</td></tr><tr><td>P000000200</td><td>MUSKAN Handle</td><td>Home Improvement</td></tr><tr><td>P000000199</td><td>STALLARP Handle</td><td>Kitchen Cabinets &amp; Appliances</td></tr><tr><td>P000000199</td><td>STALLARP Handle</td><td>Home Improvement</td></tr><tr><td>P000000198</td><td>OSTERNAS Handle</td><td>Kitchen Cabinets &amp; Appliances</td></tr><tr><td>P000000198</td><td>OSTERNAS Handle</td><td>Home Improvement</td></tr><tr><td>P000000197</td><td>BAGGANAS Handle</td><td>Kitchen Cabinets &amp; Appliances</td></tr><tr><td>P000000197</td><td>BAGGANAS Handle</td><td>Home Improvement</td></tr><tr><td>P000000196</td><td>HISHULT Knob</td><td>Kitchen Cabinets &amp; Appliances</td></tr><tr><td>P000000196</td><td>HISHULT Knob</td><td>Home Improvement</td></tr><tr><td>P000000195</td><td>ENERYDA Knob</td><td>Kitchen Cabinets &amp; Appliances</td></tr><tr><td>P000000195</td><td>ENERYDA Knob</td><td>Home Improvement</td></tr><tr><td>P000000194</td><td>TYSSEDAL Knob</td><td>Kitchen Cabinets &amp; Appliances</td></tr><tr><td>P000000194</td><td>TYSSEDAL Knob</td><td>Home Improvement</td></tr><tr><td>P000000193</td><td>LANSA Handle</td><td>Kitchen Cabinets &amp; Appliances</td></tr><tr><td>P000000193</td><td>LANSA Handle</td><td>Home Improvement</td></tr><tr><td>P000000192</td><td>FONNES Handle</td><td>Kitchen Cabinets &amp; Appliances</td></tr><tr><td>P000000192</td><td>FONNES Handle</td><td>Home Improvement</td></tr><tr><td>P000000191</td><td>KOPPLA Handle</td><td>Kitchen Cabinets &amp; Appliances</td></tr><tr><td>P000000191</td><td>KOPPLA Handle</td><td>Home Improvement</td></tr><tr><td>P000000190</td><td>TYDA Handle</td><td>Kitchen Cabinets &amp; Appliances</td></tr><tr><td>P000000190</td><td>TYDA Handle</td><td>Home Improvement</td></tr><tr><td>P000001771</td><td>Mjolkort Blind</td><td>Textiles</td></tr><tr><td>P000001770</td><td>Lindmon Blind</td><td>Textiles</td></tr><tr><td>P000001769</td><td>Enje Blind</td><td>Textiles</td></tr><tr><td>P000001768</td><td>Tupplur Blind</td><td>Textiles</td></tr><tr><td>P000001767</td><td>Schottis Blind</td><td>Textiles</td></tr><tr><td>P000000357</td><td>TJENA Box with Compartments</td><td>Home Decoration</td></tr><tr><td>P000000356</td><td>PALLRA Mini Chest</td><td>Home Decoration</td></tr><tr><td>P000000355</td><td>LACK Side Table</td><td>Home Decoration</td></tr><tr><td>P000000354</td><td>KVISSLE Cable Management Box</td><td>Home Decoration</td></tr><tr><td>P000000353</td><td>SAMMANHANG Display Box</td><td>Home Decoration</td></tr><tr><td>P000000352</td><td>MOPPE Mini Chest of Drawers</td><td>Home Decoration</td></tr><tr><td>P000000351</td><td>TROFAST Storage Combination</td><td>Home Decoration</td></tr><tr><td>P000000350</td><td>KUGGIS Box with Handle</td><td>Home Decoration</td></tr><tr><td>P000000349</td><td>KALLAX Shelf Unit</td><td>Home Decoration</td></tr><tr><td>P000000348</td><td>SNIDAD Basket</td><td>Home Decoration</td></tr><tr><td>P000000347</td><td>FISKBO Frame</td><td>Home Decoration</td></tr><tr><td>P000000346</td><td>HAMPEN Rug</td><td>Home Decoration</td></tr><tr><td>P000000345</td><td>ENEBY Portable Speaker</td><td>Home Decoration</td></tr><tr><td>P000000344</td><td>MALM Desk</td><td>Home Decoration</td></tr><tr><td>P000000343</td><td>KLAMMA Clip</td><td>Home Decoration</td></tr><tr><td>P000000342</td><td>LACK Wall Shelf</td><td>Home Decoration</td></tr><tr><td>P000000341</td><td>KVISSLE Desk Organizer</td><td>Home Decoration</td></tr><tr><td>P000000340</td><td>SAMMANHANG Box Set</td><td>Home Decoration</td></tr><tr><td>P000000339</td><td>OFELIA Throw</td><td>Home Decoration</td></tr><tr><td>P000000338</td><td>BEVARA Sealing Bag</td><td>Home Decoration</td></tr><tr><td>P000000337</td><td>VINTERFEST Gift Bag</td><td>Home Decoration</td></tr><tr><td>P000000336</td><td>TJENA Magazine File</td><td>Home Decoration</td></tr><tr><td>P000000335</td><td>PRICKIG Gift Bag</td><td>Home Decoration</td></tr><tr><td>P000000334</td><td>JATTESTOR Storage Bag</td><td>Home Decoration</td></tr><tr><td>P000000333</td><td>MOPPE Mini Storage Chest</td><td>Home Decoration</td></tr><tr><td>P000000332</td><td>RASSLA Box with Compartments</td><td>Home Decoration</td></tr><tr><td>P000000331</td><td>KUGGIS Box with Lid</td><td>Home Decoration</td></tr><tr><td>P000000330</td><td>GODTAIG Gift Box</td><td>Home Decoration</td></tr><tr><td>P000000329</td><td>TROFAST Storage Box</td><td>Home Decoration</td></tr><tr><td>P000000328</td><td>FJALLA Desk Organizer</td><td>Home Decoration</td></tr><tr><td>P000001502</td><td>Huber Standing Mirror</td><td>Home Decoration</td></tr><tr><td>P000001501</td><td>Knapper Standing Mirror</td><td>Home Decoration</td></tr><tr><td>P000001500</td><td>Stave Standing Mirror</td><td>Home Decoration</td></tr><tr><td>P000001499</td><td>Nissedal Standing Mirror</td><td>Home Decoration</td></tr><tr><td>P000001498</td><td>Ikea Ps Standing Mirror</td><td>Home Decoration</td></tr><tr><td>P000000982</td><td>Marjun Curtain Bracket</td><td>Textiles</td></tr><tr><td>P000000981</td><td>Attiy Curtain Bracket</td><td>Textiles</td></tr><tr><td>P000000980</td><td>Betsoende Curtain Bracket</td><td>Textiles</td></tr><tr><td>P000000979</td><td>Hugad Curtain Bracket</td><td>Textiles</td></tr><tr><td>P000000978</td><td>Racka Curtain Bracket</td><td>Textiles</td></tr><tr><td>P000001566</td><td>Haljarp Ceiling Light</td><td>Lighting, lamps &amp; shades</td></tr><tr><td>P000001566</td><td>Haljarp Ceiling Light</td><td>Bathroom Products</td></tr><tr><td>P000001565</td><td>Ensta Ceiling Light</td><td>Lighting, lamps &amp; shades</td></tr><tr><td>P000001565</td><td>Ensta Ceiling Light</td><td>Bathroom Products</td></tr><tr><td>P000001564</td><td>Klovsjo Ceiling Light</td><td>Lighting, lamps &amp; shades</td></tr><tr><td>P000001564</td><td>Klovsjo Ceiling Light</td><td>Bathroom Products</td></tr><tr><td>P000001563</td><td>Ekorrn Ceiling Light</td><td>Lighting, lamps &amp; shades</td></tr><tr><td>P000001563</td><td>Ekorrn Ceiling Light</td><td>Bathroom Products</td></tr><tr><td>P000001562</td><td>Tradfri Ceiling Light</td><td>Lighting, lamps &amp; shades</td></tr><tr><td>P000001562</td><td>Tradfri Ceiling Light</td><td>Bathroom Products</td></tr><tr><td>P000000469</td><td>GIMSE Bed with Mattress</td><td>Beds &amp; Mattresses</td></tr><tr><td>P000000468</td><td>FLOKENES Bed with Mattress</td><td>Beds &amp; Mattresses</td></tr><tr><td>P000000467</td><td>KOPARDAL Bed with Mattress</td><td>Beds &amp; Mattresses</td></tr><tr><td>P000000466</td><td>BRYGGJA Bed with Mattress</td><td>Beds &amp; Mattresses</td></tr><tr><td>P000000465</td><td>BJURSTA Bed with Mattress</td><td>Beds &amp; Mattresses</td></tr><tr><td>P000000464</td><td>TARVA Bed with Mattress</td><td>Beds &amp; Mattresses</td></tr><tr><td>P000000463</td><td>NYHAMN Bed with Mattress</td><td>Beds &amp; Mattresses</td></tr><tr><td>P000000462</td><td>NEIDEN Bed with Mattress</td><td>Beds &amp; Mattresses</td></tr><tr><td>P000000461</td><td>OPPLAND Bed with Mattress</td><td>Beds &amp; Mattresses</td></tr><tr><td>P000000460</td><td>SONGESAND Bed with Mattress</td><td>Beds &amp; Mattresses</td></tr><tr><td>P000001055</td><td>Storavan Speaker</td><td>Home Electronics</td></tr><tr><td>P000001054</td><td>Tradfri Speaker</td><td>Home Electronics</td></tr><tr><td>P000001053</td><td>Braven Speaker</td><td>Home Electronics</td></tr><tr><td>P000001052</td><td>Symfonisk Speaker</td><td>Home Electronics</td></tr><tr><td>P000001051</td><td>Eneby Speaker</td><td>Home Electronics</td></tr><tr><td>P000001135</td><td>Enetri Wall Shelf</td><td>Storage &amp; organisation</td></tr><tr><td>P000001134</td><td>Ljusnan Wall Shelf</td><td>Storage &amp; organisation</td></tr><tr><td>P000001133</td><td>Grundtal Wall Shelf</td><td>Storage &amp; organisation</td></tr><tr><td>P000001132</td><td>Ekby Wall Shelf</td><td>Storage &amp; organisation</td></tr><tr><td>P000001131</td><td>Lack Wall Shelf</td><td>Storage &amp; organisation</td></tr><tr><td>P000001686</td><td>Langholmen Barbecue</td><td>Outdoor products</td></tr><tr><td>P000001685</td><td>Aspudden Barbecue</td><td>Outdoor products</td></tr><tr><td>P000001684</td><td>Hogstorp Barbecue</td><td>Outdoor products</td></tr><tr><td>P000001683</td><td>Sommar Barbecue</td><td>Outdoor products</td></tr><tr><td>P000001682</td><td>Mangal Barbecue</td><td>Outdoor products</td></tr><tr><td>P000000967</td><td>Hoppvals Roller Blind</td><td>Textiles</td></tr><tr><td>P000000966</td><td>Fyrtur Roller Blind</td><td>Textiles</td></tr><tr><td>P000000965</td><td>Skogsklover Roller Blind</td><td>Textiles</td></tr><tr><td>P000000964</td><td>Tupplur Roller Blind</td><td>Textiles</td></tr><tr><td>P000000963</td><td>Enje Roller Blind</td><td>Textiles</td></tr><tr><td>P000001329</td><td>Dinera Bowl</td><td>Kitchenware &amp; Tableware</td></tr><tr><td>P000001328</td><td>Blundar Bowl</td><td>Kitchenware &amp; Tableware</td></tr><tr><td>P000001327</td><td>Vardagen Bowl</td><td>Kitchenware &amp; Tableware</td></tr><tr><td>P000001326</td><td>Enhet Bowl</td><td>Kitchenware &amp; Tableware</td></tr><tr><td>P000001325</td><td>Ordning Bowl</td><td>Kitchenware &amp; Tableware</td></tr><tr><td>P000001591</td><td>Husvika Spring Mattress</td><td>Beds &amp; Mattresses</td></tr><tr><td>P000001590</td><td>Hokkasen Spring Mattress</td><td>Beds &amp; Mattresses</td></tr><tr><td>P000001589</td><td>Hafslo Spring Mattress</td><td>Beds &amp; Mattresses</td></tr><tr><td>P000001588</td><td>Matrand Spring Mattress</td><td>Beds &amp; Mattresses</td></tr><tr><td>P000001587</td><td>Myrbacka Spring Mattress</td><td>Beds &amp; Mattresses</td></tr><tr><td>P000000719</td><td>OFTAST Scarf</td><td>Textiles</td></tr><tr><td>P000000718</td><td>GLIMRANDE Bag</td><td>Textiles</td></tr><tr><td>P000000717</td><td>SJALVSTANDIG Poncho</td><td>Textiles</td></tr><tr><td>P000000716</td><td>LUSTIGKURRE Tote Bag</td><td>Textiles</td></tr><tr><td>P000000715</td><td>NORRARYD Belt</td><td>Textiles</td></tr><tr><td>P000000714</td><td>LORDAG Bag</td><td>Textiles</td></tr><tr><td>P000000713</td><td>TROJA Tote Bag</td><td>Textiles</td></tr><tr><td>P000000712</td><td>BOTTNA Bag</td><td>Textiles</td></tr><tr><td>P000000711</td><td>KALLA Hat</td><td>Textiles</td></tr><tr><td>P000000710</td><td>KALLSINNE Scarf</td><td>Textiles</td></tr><tr><td>P000001786</td><td>Blandbar Pillow</td><td>Textiles</td></tr><tr><td>P000001785</td><td>Kramig Duvet</td><td>Textiles</td></tr><tr><td>P000001784</td><td>Turkos Duvet</td><td>Textiles</td></tr><tr><td>P000001783</td><td>Klappa Duvet</td><td>Textiles</td></tr><tr><td>P000001782</td><td>Kofta Duvet</td><td>Textiles</td></tr><tr><td>P000001479</td><td>Hoja Basket</td><td>Home Decoration</td></tr><tr><td>P000001478</td><td>Kuggis Basket</td><td>Home Decoration</td></tr><tr><td>P000001477</td><td>Brana Basket</td><td>Home Decoration</td></tr><tr><td>P000001476</td><td>Gaddis Basket</td><td>Home Decoration</td></tr><tr><td>P000001475</td><td>Knipsa Basket</td><td>Home Decoration</td></tr><tr><td>P000001661</td><td>Vandring Shower Curtain</td><td>Bathroom Products</td></tr><tr><td>P000001661</td><td>Vandring Shower Curtain</td><td>Textiles</td></tr><tr><td>P000001661</td><td>Vandring Shower Curtain</td><td>Bathroom Products</td></tr><tr><td>P000001660</td><td>Riksby Shower Curtain</td><td>Bathroom Products</td></tr><tr><td>P000001660</td><td>Riksby Shower Curtain</td><td>Textiles</td></tr><tr><td>P000001660</td><td>Riksby Shower Curtain</td><td>Bathroom Products</td></tr><tr><td>P000001659</td><td>Ransby Shower Curtain</td><td>Bathroom Products</td></tr><tr><td>P000001659</td><td>Ransby Shower Curtain</td><td>Textiles</td></tr><tr><td>P000001659</td><td>Ransby Shower Curtain</td><td>Bathroom Products</td></tr><tr><td>P000001658</td><td>Aggersund Shower Curtain</td><td>Bathroom Products</td></tr><tr><td>P000001658</td><td>Aggersund Shower Curtain</td><td>Textiles</td></tr><tr><td>P000001658</td><td>Aggersund Shower Curtain</td><td>Bathroom Products</td></tr><tr><td>P000001657</td><td>Sagolik Shower Curtain</td><td>Bathroom Products</td></tr><tr><td>P000001657</td><td>Sagolik Shower Curtain</td><td>Textiles</td></tr><tr><td>P000001657</td><td>Sagolik Shower Curtain</td><td>Bathroom Products</td></tr><tr><td>P000001666</td><td>Molger Shower Head</td><td>Bathroom Products</td></tr><tr><td>P000001665</td><td>Braviken Shower Head</td><td>Bathroom Products</td></tr><tr><td>P000001664</td><td>Hamnskar Shower Head</td><td>Bathroom Products</td></tr><tr><td>P000001663</td><td>Vattudalen Shower Head</td><td>Bathroom Products</td></tr><tr><td>P000001662</td><td>Molger Shower Head</td><td>Bathroom Products</td></tr><tr><td>P000001404</td><td>Dracula Children&#39;s Cutlery</td><td>Kitchenware &amp; Tableware</td></tr><tr><td>P000001403</td><td>Byholma Children&#39;s Cutlery</td><td>Kitchenware &amp; Tableware</td></tr><tr><td>P000001402</td><td>Glitterheim Children&#39;s Cutlery</td><td>Kitchenware &amp; Tableware</td></tr><tr><td>P000001401</td><td>Kalas Children&#39;s Cutlery</td><td>Kitchenware &amp; Tableware</td></tr><tr><td>P000001400</td><td>Smaska Children&#39;s Cutlery</td><td>Kitchenware &amp; Tableware</td></tr><tr><td>P000001576</td><td>Ofelia Quilt</td><td>Beds &amp; Mattresses</td></tr><tr><td>P000001576</td><td>Ofelia Quilt</td><td>Textiles</td></tr><tr><td>P000001575</td><td>Oktagon Quilt</td><td>Beds &amp; Mattresses</td></tr><tr><td>P000001575</td><td>Oktagon Quilt</td><td>Textiles</td></tr><tr><td>P000001574</td><td>Blavinda Quilt</td><td>Beds &amp; Mattresses</td></tr><tr><td>P000001574</td><td>Blavinda Quilt</td><td>Textiles</td></tr><tr><td>P000001573</td><td>Angsvide Quilt</td><td>Beds &amp; Mattresses</td></tr><tr><td>P000001573</td><td>Angsvide Quilt</td><td>Textiles</td></tr><tr><td>P000001572</td><td>Grusblad Quilt</td><td>Beds &amp; Mattresses</td></tr><tr><td>P000001572</td><td>Grusblad Quilt</td><td>Textiles</td></tr><tr><td>P000000518</td><td>UTLANGAN Flooring</td><td>Outdoor products</td></tr><tr><td>P000000518</td><td>UTLANGAN Flooring</td><td>Rugs, mats &amp; flooring</td></tr><tr><td>P000000518</td><td>UTLANGAN Flooring</td><td>Home Improvement</td></tr><tr><td>P000000517</td><td>RUGG Flooring</td><td>Outdoor products</td></tr><tr><td>P000000517</td><td>RUGG Flooring</td><td>Rugs, mats &amp; flooring</td></tr><tr><td>P000000517</td><td>RUGG Flooring</td><td>Home Improvement</td></tr><tr><td>P000000516</td><td>JAMENVATTEN Rug</td><td>Outdoor products</td></tr><tr><td>P000000516</td><td>JAMENVATTEN Rug</td><td>Rugs, mats &amp; flooring</td></tr><tr><td>P000000516</td><td>JAMENVATTEN Rug</td><td>Home Improvement</td></tr><tr><td>P000000515</td><td>LAKESLATTN Flooring</td><td>Outdoor products</td></tr><tr><td>P000000515</td><td>LAKESLATTN Flooring</td><td>Rugs, mats &amp; flooring</td></tr><tr><td>P000000515</td><td>LAKESLATTN Flooring</td><td>Home Improvement</td></tr><tr><td>P000000514</td><td>TUNDRA Flooring</td><td>Outdoor products</td></tr><tr><td>P000000514</td><td>TUNDRA Flooring</td><td>Rugs, mats &amp; flooring</td></tr><tr><td>P000000514</td><td>TUNDRA Flooring</td><td>Home Improvement</td></tr><tr><td>P000000513</td><td>HOVSLUND Rug</td><td>Outdoor products</td></tr><tr><td>P000000513</td><td>HOVSLUND Rug</td><td>Rugs, mats &amp; flooring</td></tr><tr><td>P000000513</td><td>HOVSLUND Rug</td><td>Home Improvement</td></tr><tr><td>P000000512</td><td>TUNDRA Flooring</td><td>Outdoor products</td></tr><tr><td>P000000512</td><td>TUNDRA Flooring</td><td>Rugs, mats &amp; flooring</td></tr><tr><td>P000000512</td><td>TUNDRA Flooring</td><td>Home Improvement</td></tr><tr><td>P000000511</td><td>APTITLIG Decking</td><td>Outdoor products</td></tr><tr><td>P000000511</td><td>APTITLIG Decking</td><td>Rugs, mats &amp; flooring</td></tr><tr><td>P000000511</td><td>APTITLIG Decking</td><td>Home Improvement</td></tr><tr><td>P000000510</td><td>KOLDBY Cowhide</td><td>Outdoor products</td></tr><tr><td>P000000510</td><td>KOLDBY Cowhide</td><td>Rugs, mats &amp; flooring</td></tr><tr><td>P000000510</td><td>KOLDBY Cowhide</td><td>Home Improvement</td></tr><tr><td>P000000509</td><td>RUNNEN Decking</td><td>Outdoor products</td></tr><tr><td>P000000509</td><td>RUNNEN Decking</td><td>Rugs, mats &amp; flooring</td></tr><tr><td>P000000509</td><td>RUNNEN Decking</td><td>Home Improvement</td></tr><tr><td>P000001110</td><td>Fjell Open Wardrobe</td><td>Storage &amp; organisation</td></tr><tr><td>P000001110</td><td>Fjell Open Wardrobe</td><td>Furniture</td></tr><tr><td>P000001109</td><td>Trones Open Wardrobe</td><td>Storage &amp; organisation</td></tr><tr><td>P000001109</td><td>Trones Open Wardrobe</td><td>Furniture</td></tr><tr><td>P000001108</td><td>Liatorp Open Wardrobe</td><td>Storage &amp; organisation</td></tr><tr><td>P000001108</td><td>Liatorp Open Wardrobe</td><td>Furniture</td></tr><tr><td>P000001107</td><td>Hopen Open Wardrobe</td><td>Storage &amp; organisation</td></tr><tr><td>P000001107</td><td>Hopen Open Wardrobe</td><td>Furniture</td></tr><tr><td>P000001106</td><td>Brimnes Open Wardrobe</td><td>Storage &amp; organisation</td></tr><tr><td>P000001106</td><td>Brimnes Open Wardrobe</td><td>Furniture</td></tr><tr><td>P000000581</td><td>FLADIS Basket</td><td>Laundry &amp; cleaning</td></tr><tr><td>P000000580</td><td>BRANAS Basket</td><td>Laundry &amp; cleaning</td></tr><tr><td>P000000334</td><td>JATTESTOR Storage Bag</td><td>Laundry &amp; cleaning</td></tr><tr><td>P000000579</td><td>SAXBORGA Box with Lid</td><td>Laundry &amp; cleaning</td></tr><tr><td>P000000578</td><td>SOCKERBIT Box with Lid</td><td>Laundry &amp; cleaning</td></tr><tr><td>P000000577</td><td>RISATORP Basket</td><td>Laundry &amp; cleaning</td></tr><tr><td>P000000576</td><td>KNARRA Laundry Basket</td><td>Laundry &amp; cleaning</td></tr><tr><td>P000000575</td><td>TORKIS Laundry Basket</td><td>Laundry &amp; cleaning</td></tr><tr><td>P000000574</td><td>GRUNDTAL Laundry Basket</td><td>Laundry &amp; cleaning</td></tr><tr><td>P000000573</td><td>ANTONIUS Laundry Basket</td><td>Laundry &amp; cleaning</td></tr><tr><td>P000001369</td><td>Profil Frying Pan</td><td>Kitchenware &amp; Tableware</td></tr><tr><td>P000001368</td><td>Riskytta Frying Pan</td><td>Kitchenware &amp; Tableware</td></tr><tr><td>P000001367</td><td>Produkt Frying Pan</td><td>Kitchenware &amp; Tableware</td></tr><tr><td>P000001366</td><td>Kyrkfjallet Frying Pan</td><td>Kitchenware &amp; Tableware</td></tr><tr><td>P000001365</td><td>Steka Frying Pan</td><td>Kitchenware &amp; Tableware</td></tr><tr><td>P000000847</td><td>Fjellse Bed Frame with Storage and Bench</td><td>Furniture</td></tr><tr><td>P000000846</td><td>Tysnes Table Mirror Bench</td><td>Furniture</td></tr><tr><td>P000000845</td><td>Pinnig Bench</td><td>Furniture</td></tr><tr><td>P000000844</td><td>Songesand Bench</td><td>Furniture</td></tr><tr><td>P000000843</td><td>Hemnes Bench</td><td>Furniture</td></tr><tr><td>P000000640</td><td>TUPPLUR Electric Blind</td><td>Home Electronics</td></tr><tr><td>P000000640</td><td>TUPPLUR Electric Blind</td><td>IKEA Home Smart</td></tr><tr><td>P000000639</td><td>SKOGSKLOVER Roller Blind</td><td>Home Electronics</td></tr><tr><td>P000000639</td><td>SKOGSKLOVER Roller Blind</td><td>IKEA Home Smart</td></tr><tr><td>P000000638</td><td>KADRILJ Roller Blind</td><td>Home Electronics</td></tr><tr><td>P000000638</td><td>KADRILJ Roller Blind</td><td>IKEA Home Smart</td></tr><tr><td>P000000637</td><td>FYRTUR Roller Blind</td><td>Home Electronics</td></tr><tr><td>P000000637</td><td>FYRTUR Roller Blind</td><td>IKEA Home Smart</td></tr><tr><td>P000000636</td><td>MARJUN Electric Blind</td><td>Home Electronics</td></tr><tr><td>P000000636</td><td>MARJUN Electric Blind</td><td>IKEA Home Smart</td></tr><tr><td>P000000635</td><td>SCHOTTIS Pleated Blind</td><td>Home Electronics</td></tr><tr><td>P000000635</td><td>SCHOTTIS Pleated Blind</td><td>IKEA Home Smart</td></tr><tr><td>P000000634</td><td>SCHOTTIS Electric Blind</td><td>Home Electronics</td></tr><tr><td>P000000634</td><td>SCHOTTIS Electric Blind</td><td>IKEA Home Smart</td></tr><tr><td>P000000633</td><td>SKOGSKLOVER Electric Blind</td><td>Home Electronics</td></tr><tr><td>P000000633</td><td>SKOGSKLOVER Electric Blind</td><td>IKEA Home Smart</td></tr><tr><td>P000000632</td><td>KADRILJ Electric Blind</td><td>Home Electronics</td></tr><tr><td>P000000632</td><td>KADRILJ Electric Blind</td><td>IKEA Home Smart</td></tr><tr><td>P000000631</td><td>FYRTUR Electric Blind</td><td>Home Electronics</td></tr><tr><td>P000000631</td><td>FYRTUR Electric Blind</td><td>IKEA Home Smart</td></tr><tr><td>P000001483</td><td>Bittergurka Plant Pot</td><td>Home Decoration</td></tr><tr><td>P000001483</td><td>Bittergurka Plant Pot</td><td>Pots &amp; Plants</td></tr><tr><td>P000001482</td><td>Fejka Plant Pot</td><td>Home Decoration</td></tr><tr><td>P000001482</td><td>Fejka Plant Pot</td><td>Pots &amp; Plants</td></tr><tr><td>P000001481</td><td>Stenpa Plant Pot</td><td>Home Decoration</td></tr><tr><td>P000001481</td><td>Stenpa Plant Pot</td><td>Pots &amp; Plants</td></tr><tr><td>P000001480</td><td>Grankulla Plant Pot</td><td>Home Decoration</td></tr><tr><td>P000001480</td><td>Grankulla Plant Pot</td><td>Pots &amp; Plants</td></tr><tr><td>P000000313</td><td>REKTANGEL Vase</td><td>Home Decoration</td></tr><tr><td>P000000313</td><td>REKTANGEL Vase</td><td>Pots &amp; Plants</td></tr><tr><td>P000000753</td><td>EKBY JARPEN Floating Shelf</td><td>Storage &amp; organisation</td></tr><tr><td>P000000752</td><td>EKBY ALEX Floating Shelf</td><td>Storage &amp; organisation</td></tr><tr><td>P000000751</td><td>BJARNUM Floating Shelf</td><td>Storage &amp; organisation</td></tr><tr><td>P000000750</td><td>EKBY Floating Shelf</td><td>Storage &amp; organisation</td></tr><tr><td>P000000749</td><td>LACK Floating Shelf</td><td>Storage &amp; organisation</td></tr><tr><td>P000001746</td><td>Fjallsta Tablet Stand</td><td>Home Electronics</td></tr><tr><td>P000001745</td><td>Myretun Phone Stand</td><td>Home Electronics</td></tr><tr><td>P000001744</td><td>Hurda Phone Stand</td><td>Home Electronics</td></tr><tr><td>P000001743</td><td>Tillfalle Tablet Stand</td><td>Home Electronics</td></tr><tr><td>P000001742</td><td>Ladling Phone Stand</td><td>Home Electronics</td></tr><tr><td>P000001075</td><td>String Bookcase</td><td>Storage &amp; organisation</td></tr><tr><td>P000001075</td><td>String Bookcase</td><td>Furniture</td></tr><tr><td>P000001074</td><td>Kallax Bookcase</td><td>Storage &amp; organisation</td></tr><tr><td>P000001074</td><td>Kallax Bookcase</td><td>Furniture</td></tr><tr><td>P000001073</td><td>Liatorp Bookcase</td><td>Storage &amp; organisation</td></tr><tr><td>P000001073</td><td>Liatorp Bookcase</td><td>Furniture</td></tr><tr><td>P000001072</td><td>Hemnes Bookcase</td><td>Storage &amp; organisation</td></tr><tr><td>P000001072</td><td>Hemnes Bookcase</td><td>Furniture</td></tr><tr><td>P000001071</td><td>Billy Bookcase</td><td>Storage &amp; organisation</td></tr><tr><td>P000001071</td><td>Billy Bookcase</td><td>Furniture</td></tr><tr><td>P000000572</td><td>GORM Shelving Unit</td><td>Laundry &amp; cleaning</td></tr><tr><td>P000000571</td><td>OMAR Shelf Unit</td><td>Laundry &amp; cleaning</td></tr><tr><td>P000000570</td><td>HYLLIS Shelf Unit</td><td>Laundry &amp; cleaning</td></tr><tr><td>P000000569</td><td>SVALNAS Wall Shelf</td><td>Laundry &amp; cleaning</td></tr><tr><td>P000000568</td><td>BOAXEL Laundry Cabinet</td><td>Laundry &amp; cleaning</td></tr><tr><td>P000000567</td><td>ELVARLI Shelf</td><td>Laundry &amp; cleaning</td></tr><tr><td>P000000117</td><td>ALGOT Wall Upright</td><td>Laundry &amp; cleaning</td></tr><tr><td>P000000566</td><td>EKET Shelving Unit</td><td>Laundry &amp; cleaning</td></tr><tr><td>P000000565</td><td>ENHET Laundry Cabinet</td><td>Laundry &amp; cleaning</td></tr><tr><td>P000000564</td><td>IVAR Laundry Cabinet</td><td>Laundry &amp; cleaning</td></tr><tr><td>P000000729</td><td>VISSLA Chair Pad</td><td>Textiles</td></tr><tr><td>P000000728</td><td>OMTANKSAM Chair Pad</td><td>Textiles</td></tr><tr><td>P000000727</td><td>BERTIL Chair Pad</td><td>Textiles</td></tr><tr><td>P000000726</td><td>LANGSTED Chair Pad</td><td>Textiles</td></tr><tr><td>P000000725</td><td>FROSONG Chair Pad</td><td>Textiles</td></tr><tr><td>P000000724</td><td>VOLFGANG Chair Pad</td><td>Textiles</td></tr><tr><td>P000000723</td><td>GJERDE Chair Pad</td><td>Textiles</td></tr><tr><td>P000000722</td><td>NOSTALGISK Chair Pad</td><td>Textiles</td></tr><tr><td>P000000721</td><td>HENRIKSDAL Chair Pad</td><td>Textiles</td></tr><tr><td>P000000720</td><td>MALINDA Chair Pad</td><td>Textiles</td></tr><tr><td>P000001731</td><td>Tittat Battery</td><td>Home Electronics</td></tr><tr><td>P000001730</td><td>Lyfta Battery</td><td>Home Electronics</td></tr><tr><td>P000001729</td><td>Kalas Battery</td><td>Home Electronics</td></tr><tr><td>P000001728</td><td>Storhogg Battery</td><td>Home Electronics</td></tr><tr><td>P000001727</td><td>Ladda Battery</td><td>Home Electronics</td></tr><tr><td>P000000528</td><td>SAMSPEL Door Mat</td><td>Rugs, mats &amp; flooring</td></tr><tr><td>P000000527</td><td>RORKAR Door Mat</td><td>Rugs, mats &amp; flooring</td></tr><tr><td>P000000526</td><td>KLEJ Door Mat</td><td>Rugs, mats &amp; flooring</td></tr><tr><td>P000000525</td><td>TOFTBO Door Mat</td><td>Rugs, mats &amp; flooring</td></tr><tr><td>P000000524</td><td>OMBYTE Door Mat</td><td>Rugs, mats &amp; flooring</td></tr><tr><td>P000000523</td><td>HENTSMO Door Mat</td><td>Rugs, mats &amp; flooring</td></tr><tr><td>P000000522</td><td>LINDKNUD Door Mat</td><td>Rugs, mats &amp; flooring</td></tr><tr><td>P000000521</td><td>GURLI Door Mat</td><td>Rugs, mats &amp; flooring</td></tr><tr><td>P000000520</td><td>FILSO Door Mat</td><td>Rugs, mats &amp; flooring</td></tr><tr><td>P000000519</td><td>TRAMPA Door Mat</td><td>Rugs, mats &amp; flooring</td></tr><tr><td>P000000239</td><td>DIODER LED Cabinet Light</td><td>Kitchen Cabinets &amp; Appliances</td></tr><tr><td>P000000238</td><td>SEKOND Cord Set</td><td>Kitchen Cabinets &amp; Appliances</td></tr><tr><td>P000000237</td><td>LYNAS LED Spotlight</td><td>Kitchen Cabinets &amp; Appliances</td></tr><tr><td>P000000236</td><td>TRADFRI LED Driver</td><td>Kitchen Cabinets &amp; Appliances</td></tr><tr><td>P000000235</td><td>DIODER LED Strip</td><td>Kitchen Cabinets &amp; Appliances</td></tr><tr><td>P000000234</td><td>SURTE LED Wall/Ceiling Lamp</td><td>Kitchen Cabinets &amp; Appliances</td></tr><tr><td>P000000233</td><td>FADO LED Wall Lamp</td><td>Kitchen Cabinets &amp; Appliances</td></tr><tr><td>P000000232</td><td>KOPPLA Extension Cord</td><td>Kitchen Cabinets &amp; Appliances</td></tr><tr><td>P000000231</td><td>TRADFRI LED Panel</td><td>Kitchen Cabinets &amp; Appliances</td></tr><tr><td>P000000230</td><td>OMLOPP LED Worktop Light</td><td>Kitchen Cabinets &amp; Appliances</td></tr><tr><td>P000000229</td><td>SURTE LED Work Lamp</td><td>Kitchen Cabinets &amp; Appliances</td></tr><tr><td>P000000228</td><td>DIODER LED Multi-Use Light</td><td>Kitchen Cabinets &amp; Appliances</td></tr><tr><td>P000000227</td><td>GRUNDTAL LED Spotlight</td><td>Kitchen Cabinets &amp; Appliances</td></tr><tr><td>P000000226</td><td>KRYDDPEPPAR LED Spotlight</td><td>Kitchen Cabinets &amp; Appliances</td></tr><tr><td>P000000225</td><td>LYSTAD LED Cabinet Light</td><td>Kitchen Cabinets &amp; Appliances</td></tr><tr><td>P000000224</td><td>SANNOLIK LED Cabinet Light</td><td>Kitchen Cabinets &amp; Appliances</td></tr><tr><td>P000000223</td><td>RINGSTA LED Work Lamp</td><td>Kitchen Cabinets &amp; Appliances</td></tr><tr><td>P000000222</td><td>IDEALISK LED Countertop Light</td><td>Kitchen Cabinets &amp; Appliances</td></tr><tr><td>P000000221</td><td>NYPLOCKAD LED Work Lamp</td><td>Kitchen Cabinets &amp; Appliances</td></tr><tr><td>P000000220</td><td>SURTE LED Wall Lamp</td><td>Kitchen Cabinets &amp; Appliances</td></tr><tr><td>P000000219</td><td>GUNNARP LED Cabinet Light</td><td>Kitchen Cabinets &amp; Appliances</td></tr><tr><td>P000000218</td><td>DUDERO LED Work Lamp</td><td>Kitchen Cabinets &amp; Appliances</td></tr><tr><td>P000000217</td><td>ANSLUTA LED Light Strip</td><td>Kitchen Cabinets &amp; Appliances</td></tr><tr><td>P000000216</td><td>KOPPLA Power Supply</td><td>Kitchen Cabinets &amp; Appliances</td></tr><tr><td>P000000215</td><td>BESTA LED Cabinet Lighting</td><td>Kitchen Cabinets &amp; Appliances</td></tr><tr><td>P000000214</td><td>JANSJO LED Wall/Clamp Spotlight</td><td>Kitchen Cabinets &amp; Appliances</td></tr><tr><td>P000000213</td><td>TRADFRI LED Bulb</td><td>Kitchen Cabinets &amp; Appliances</td></tr><tr><td>P000000212</td><td>OMLOPP LED Spotlight</td><td>Kitchen Cabinets &amp; Appliances</td></tr><tr><td>P000000211</td><td>ANSLUTA LED Driver</td><td>Kitchen Cabinets &amp; Appliances</td></tr><tr><td>P000000210</td><td>OMBYTE LED Light Strip</td><td>Kitchen Cabinets &amp; Appliances</td></tr><tr><td>P000000327</td><td>GODTAIG Gift Box</td><td>Home Decoration</td></tr><tr><td>P000000326</td><td>SANNOLIK LED Work Lamp</td><td>Home Decoration</td></tr><tr><td>P000000325</td><td>JANSJO LED Clamp Spotlight</td><td>Home Decoration</td></tr><tr><td>P000000324</td><td>HOL Side Table</td><td>Home Decoration</td></tr><tr><td>P000000323</td><td>BURVIK Side Table</td><td>Home Decoration</td></tr><tr><td>P000000322</td><td>SVIRVEL Pendant Lamp</td><td>Home Decoration</td></tr><tr><td>P000000321</td><td>KLIMPEN Tabletop</td><td>Home Decoration</td></tr><tr><td>P000000320</td><td>BILD Poster</td><td>Home Decoration</td></tr><tr><td>P000000319</td><td>SKURAR Plant Pot</td><td>Home Decoration</td></tr><tr><td>P000000318</td><td>KNOPPANG Frame</td><td>Home Decoration</td></tr><tr><td>P000000317</td><td>GODTAIG Plant Pot</td><td>Home Decoration</td></tr><tr><td>P000000316</td><td>SNOFSA Plant Pot</td><td>Home Decoration</td></tr><tr><td>P000000315</td><td>JONAXEL Frame</td><td>Home Decoration</td></tr><tr><td>P000000314</td><td>KRAGSTA Nesting Tables</td><td>Home Decoration</td></tr><tr><td>P000000313</td><td>REKTANGEL Vase</td><td>Home Decoration</td></tr><tr><td>P000000312</td><td>SPRUTTIG Vase</td><td>Home Decoration</td></tr><tr><td>P000000311</td><td>KVILL Frame</td><td>Home Decoration</td></tr><tr><td>P000000310</td><td>SOCKER Plant Pot</td><td>Home Decoration</td></tr><tr><td>P000000309</td><td>SOCKER Plant Stand</td><td>Home Decoration</td></tr><tr><td>P000000308</td><td>RIBBA Picture Ledge</td><td>Home Decoration</td></tr><tr><td>P000001616</td><td>Patrull Window Catch</td><td>Baby &amp; Children</td></tr><tr><td>P000001616</td><td>Patrull Window Catch</td><td>Home Improvement</td></tr><tr><td>P000001615</td><td>Patrull Drawer Lock</td><td>Baby &amp; Children</td></tr><tr><td>P000001615</td><td>Patrull Drawer Lock</td><td>Home Improvement</td></tr><tr><td>P000001614</td><td>Patrull Cabinet Lock</td><td>Baby &amp; Children</td></tr><tr><td>P000001614</td><td>Patrull Cabinet Lock</td><td>Home Improvement</td></tr><tr><td>P000001613</td><td>Patrull Corner Bumper</td><td>Baby &amp; Children</td></tr><tr><td>P000001613</td><td>Patrull Corner Bumper</td><td>Home Improvement</td></tr><tr><td>P000001612</td><td>Patrull Safety Gate</td><td>Baby &amp; Children</td></tr><tr><td>P000001612</td><td>Patrull Safety Gate</td><td>Home Improvement</td></tr><tr><td>P000000782</td><td>SOderhamn Chaise Sofa</td><td>Furniture</td></tr><tr><td>P000000781</td><td>Vimle Chaise Sofa</td><td>Furniture</td></tr><tr><td>P000000780</td><td>Landskrona Chaise Sofa</td><td>Furniture</td></tr><tr><td>P000000779</td><td>Kivik Chaise Sofa</td><td>Furniture</td></tr><tr><td>P000000778</td><td>Norsborg Chaise Sofa</td><td>Furniture</td></tr><tr><td>P000001244</td><td>Bekant Children&#39;s Desk</td><td>Furniture</td></tr><tr><td>P000001243</td><td>Stuva Children&#39;s Desk</td><td>Furniture</td></tr><tr><td>P000001242</td><td>Sundvik Children&#39;s Desk</td><td>Furniture</td></tr><tr><td>P000001241</td><td>Micke Children&#39;s Desk</td><td>Furniture</td></tr><tr><td>P000001240</td><td>Flisat Children&#39;s Desk</td><td>Furniture</td></tr><tr><td>P000001125</td><td>Dragan Desk Organizer</td><td>Storage &amp; organisation</td></tr><tr><td>P000001124</td><td>Poppig Desk Accessories</td><td>Storage &amp; organisation</td></tr><tr><td>P000001123</td><td>Bladvass Desk Organizer</td><td>Storage &amp; organisation</td></tr><tr><td>P000001122</td><td>Snalis Desk Organizer</td><td>Storage &amp; organisation</td></tr><tr><td>P000001121</td><td>Rissla Desk Accessories</td><td>Storage &amp; organisation</td></tr><tr><td>P000000952</td><td>Glansnava Light Filtering Curtain</td><td>Textiles</td></tr><tr><td>P000000951</td><td>Sparvort Light Filtering Curtain</td><td>Textiles</td></tr><tr><td>P000000950</td><td>Sallskap Light Filtering Curtain</td><td>Textiles</td></tr><tr><td>P000000949</td><td>Matilda Light Filtering Curtain</td><td>Textiles</td></tr><tr><td>P000000948</td><td>Ansluta Light Filtering Curtain</td><td>Textiles</td></tr><tr><td>P000001681</td><td>Hindoen Outdoor Kitchen</td><td>Outdoor products</td></tr><tr><td>P000001680</td><td>Klasen Outdoor Kitchen</td><td>Outdoor products</td></tr><tr><td>P000001679</td><td>Klasen Outdoor Kitchen</td><td>Outdoor products</td></tr><tr><td>P000001678</td><td>Mollekal Outdoor Kitchen</td><td>Outdoor products</td></tr><tr><td>P000001677</td><td>Arholma Outdoor Kitchen</td><td>Outdoor products</td></tr><tr><td>P000001507</td><td>Romantisk Vase</td><td>Home Decoration</td></tr><tr><td>P000001506</td><td>Flort Vase</td><td>Home Decoration</td></tr><tr><td>P000001505</td><td>Sinnesro Vase</td><td>Home Decoration</td></tr><tr><td>P000001504</td><td>Braganza Vase</td><td>Home Decoration</td></tr><tr><td>P000001503</td><td>Skopa Vase</td><td>Home Decoration</td></tr><tr><td>P000001464</td><td>Holmoes Picture Ledge</td><td>Home Decoration</td></tr><tr><td>P000001463</td><td>Mosslanda Picture Ledge</td><td>Home Decoration</td></tr><tr><td>P000001462</td><td>Bjarnum Picture Ledge</td><td>Home Decoration</td></tr><tr><td>P000001461</td><td>Ekby Shelf</td><td>Home Decoration</td></tr><tr><td>P000001460</td><td>Lack Shelf</td><td>Home Decoration</td></tr><tr><td>P000001716</td><td>Glimsted Rug</td><td>Rugs, mats &amp; flooring</td></tr><tr><td>P000001716</td><td>Glimsted Rug</td><td>Textiles</td></tr><tr><td>P000001715</td><td>Ljungen Rug</td><td>Rugs, mats &amp; flooring</td></tr><tr><td>P000001715</td><td>Ljungen Rug</td><td>Textiles</td></tr><tr><td>P000001714</td><td>Gosserud Rug</td><td>Rugs, mats &amp; flooring</td></tr><tr><td>P000001714</td><td>Gosserud Rug</td><td>Textiles</td></tr><tr><td>P000001713</td><td>Gaser Rug</td><td>Rugs, mats &amp; flooring</td></tr><tr><td>P000001713</td><td>Gaser Rug</td><td>Textiles</td></tr><tr><td>P000001712</td><td>Langsted Rug</td><td>Rugs, mats &amp; flooring</td></tr><tr><td>P000001712</td><td>Langsted Rug</td><td>Textiles</td></tr><tr><td>P000001726</td><td>Bladet Bin</td><td>Laundry &amp; cleaning</td></tr><tr><td>P000001725</td><td>Skrot Bin</td><td>Laundry &amp; cleaning</td></tr><tr><td>P000001724</td><td>Fjantig Bin</td><td>Laundry &amp; cleaning</td></tr><tr><td>P000001723</td><td>Tjena Bin</td><td>Laundry &amp; cleaning</td></tr><tr><td>P000001722</td><td>Knodd Bin</td><td>Laundry &amp; cleaning</td></tr><tr><td>P000000995</td><td>Grundtal Door</td><td>Kitchen Cabinets &amp; Appliances</td></tr><tr><td>P000000994</td><td>Sktlum Door</td><td>Kitchen Cabinets &amp; Appliances</td></tr><tr><td>P000000993</td><td>Bodbyn Door</td><td>Kitchen Cabinets &amp; Appliances</td></tr><tr><td>P000000992</td><td>Voxtorp Door</td><td>Kitchen Cabinets &amp; Appliances</td></tr><tr><td>P000000991</td><td>Lerhyttan Door</td><td>Kitchen Cabinets &amp; Appliances</td></tr><tr><td>P000001264</td><td>Laver Bar Table</td><td>Furniture</td></tr><tr><td>P000001263</td><td>Stefan Bar Table</td><td>Furniture</td></tr><tr><td>P000001262</td><td>Linbacken Bar Table</td><td>Furniture</td></tr><tr><td>P000001261</td><td>Bjursta Bar Table</td><td>Furniture</td></tr><tr><td>P000001260</td><td>Stornas Bar Table</td><td>Furniture</td></tr><tr><td>P000001100</td><td>Helmer Drawer Unit</td><td>Storage &amp; organisation</td></tr><tr><td>P000001100</td><td>Helmer Drawer Unit</td><td>Furniture</td></tr><tr><td>P000001099</td><td>Micke Drawer Unit</td><td>Storage &amp; organisation</td></tr><tr><td>P000001099</td><td>Micke Drawer Unit</td><td>Furniture</td></tr><tr><td>P000001098</td><td>Galant Drawer Unit</td><td>Storage &amp; organisation</td></tr><tr><td>P000001098</td><td>Galant Drawer Unit</td><td>Furniture</td></tr><tr><td>P000001097</td><td>Erik Drawer Unit</td><td>Storage &amp; organisation</td></tr><tr><td>P000001097</td><td>Erik Drawer Unit</td><td>Furniture</td></tr><tr><td>P000001096</td><td>Alex Drawer Unit</td><td>Storage &amp; organisation</td></tr><tr><td>P000001096</td><td>Alex Drawer Unit</td><td>Furniture</td></tr><tr><td>P000001806</td><td>Virby Sewing Kit</td><td>Textiles</td></tr><tr><td>P000001805</td><td>Sagotupp Sewing Kit</td><td>Textiles</td></tr><tr><td>P000001804</td><td>Sommen Sewing Kit</td><td>Textiles</td></tr><tr><td>P000001803</td><td>Nallego Sewing Kit</td><td>Textiles</td></tr><tr><td>P000001802</td><td>Snofsa Sewing Kit</td><td>Textiles</td></tr><tr><td>P000001701</td><td>Indalsal Furniture Cover</td><td>Outdoor products</td></tr><tr><td>P000001700</td><td>Holmsel Furniture Cover</td><td>Outdoor products</td></tr><tr><td>P000001699</td><td>Rakso Furniture Cover</td><td>Outdoor products</td></tr><tr><td>P000001698</td><td>Sommarvind Furniture Cover</td><td>Outdoor products</td></tr><tr><td>P000001697</td><td>Somsjon Furniture Cover</td><td>Outdoor products</td></tr><tr><td>P000001130</td><td>Fjallbo Console Table</td><td>Storage &amp; organisation</td></tr><tr><td>P000001130</td><td>Fjallbo Console Table</td><td>Furniture</td></tr><tr><td>P000001129</td><td>Brusali Console Table</td><td>Storage &amp; organisation</td></tr><tr><td>P000001129</td><td>Brusali Console Table</td><td>Furniture</td></tr><tr><td>P000001128</td><td>Liatorp Console Table</td><td>Storage &amp; organisation</td></tr><tr><td>P000001128</td><td>Liatorp Console Table</td><td>Furniture</td></tr><tr><td>P000001127</td><td>Lack Console Table</td><td>Storage &amp; organisation</td></tr><tr><td>P000001127</td><td>Lack Console Table</td><td>Furniture</td></tr><tr><td>P000001126</td><td>Hemnes Console Table</td><td>Storage &amp; organisation</td></tr><tr><td>P000001126</td><td>Hemnes Console Table</td><td>Furniture</td></tr><tr><td>P000001189</td><td>Sater Sofa</td><td>Furniture</td></tr><tr><td>P000001188</td><td>Skogaby Sofa</td><td>Furniture</td></tr><tr><td>P000001187</td><td>Muren Sofa</td><td>Furniture</td></tr><tr><td>P000001186</td><td>Arvika Sofa</td><td>Furniture</td></tr><tr><td>P000001185</td><td>Landskrona Sofa</td><td>Furniture</td></tr><tr><td>P000000650</td><td>FORNUFTIG Air Purifier</td><td>Home Electronics</td></tr><tr><td>P000000649</td><td>LUFTIG Air Filter</td><td>Home Electronics</td></tr><tr><td>P000000648</td><td>LUFTIG Air Purifier</td><td>Home Electronics</td></tr><tr><td>P000000647</td><td>FORNUFTIG Air Filter</td><td>Home Electronics</td></tr><tr><td>P000000646</td><td>FORNUFTIG Air Purifier</td><td>Home Electronics</td></tr><tr><td>P000000645</td><td>LUFTIG Air Filter</td><td>Home Electronics</td></tr><tr><td>P000000644</td><td>LUFTIG Air Purifier</td><td>Home Electronics</td></tr><tr><td>P000000643</td><td>FORNUFTIG Air Filter</td><td>Home Electronics</td></tr><tr><td>P000000642</td><td>FORNUFTIG Air Purifier</td><td>Home Electronics</td></tr><tr><td>P000000641</td><td>LUFTRENSA Air Purifier</td><td>Home Electronics</td></tr><tr><td>P000001274</td><td>Lidhult Chaise Longue</td><td>Furniture</td></tr><tr><td>P000001273</td><td>Soderhamn Chaise Longue</td><td>Furniture</td></tr><tr><td>P000001272</td><td>Tylosand Chaise Longue</td><td>Furniture</td></tr><tr><td>P000001271</td><td>Holmsund Chaise Longue</td><td>Furniture</td></tr><tr><td>P000001270</td><td>Kivik Chaise Longue</td><td>Furniture</td></tr><tr><td>P000001389</td><td>Hackig Cooking Tool</td><td>Kitchenware &amp; Tableware</td></tr><tr><td>P000001388</td><td>Gryta Cooking Tool</td><td>Kitchenware &amp; Tableware</td></tr><tr><td>P000001387</td><td>Skala Cooking Tool</td><td>Kitchenware &amp; Tableware</td></tr><tr><td>P000001386</td><td>Steklig Cooking Tool</td><td>Kitchenware &amp; Tableware</td></tr><tr><td>P000001385</td><td>Sitron Cooking Tool</td><td>Kitchenware &amp; Tableware</td></tr><tr><td>P000000902</td><td>Calathea Desk Plant</td><td>Outdoor products</td></tr><tr><td>P000000901</td><td>Pothos Desk Plant</td><td>Outdoor products</td></tr><tr><td>P000000900</td><td>Epipremnum Desk Plant</td><td>Outdoor products</td></tr><tr><td>P000000899</td><td>Dracaena Desk Plant</td><td>Outdoor products</td></tr><tr><td>P000000898</td><td>Malaxis Desk Plant</td><td>Outdoor products</td></tr><tr><td>P000000666</td><td>TRADFRI Wireless Dimmer Kit</td><td>Home Electronics</td></tr><tr><td>P000000666</td><td>TRADFRI Wireless Dimmer Kit</td><td>IKEA Home Smart</td></tr><tr><td>P000000665</td><td>TRADFRI Wireless Remote Control</td><td>Home Electronics</td></tr><tr><td>P000000665</td><td>TRADFRI Wireless Remote Control</td><td>IKEA Home Smart</td></tr><tr><td>P000000664</td><td>TRADFRI Remote Control Kit</td><td>Home Electronics</td></tr><tr><td>P000000664</td><td>TRADFRI Remote Control Kit</td><td>IKEA Home Smart</td></tr><tr><td>P000000663</td><td>TRADFRI Gateway Kit</td><td>Home Electronics</td></tr><tr><td>P000000663</td><td>TRADFRI Gateway Kit</td><td>IKEA Home Smart</td></tr><tr><td>P000000662</td><td>TRADFRI Remote Control</td><td>Home Electronics</td></tr><tr><td>P000000662</td><td>TRADFRI Remote Control</td><td>IKEA Home Smart</td></tr><tr><td>P000000661</td><td>TRADFRI Wireless Dimmer</td><td>Home Electronics</td></tr><tr><td>P000000661</td><td>TRADFRI Wireless Dimmer</td><td>IKEA Home Smart</td></tr><tr><td>P000000912</td><td>Fillsta Pendant</td><td>Lighting, lamps &amp; shades</td></tr><tr><td>P000000911</td><td>Sinnerlig Pendant</td><td>Lighting, lamps &amp; shades</td></tr><tr><td>P000000910</td><td>Knappa Pendant</td><td>Lighting, lamps &amp; shades</td></tr><tr><td>P000000909</td><td>Maskros Pendant</td><td>Lighting, lamps &amp; shades</td></tr><tr><td>P000000908</td><td>Strala Pendant</td><td>Lighting, lamps &amp; shades</td></tr><tr><td>P000001384</td><td>Lagom Mixing Bowl</td><td>Kitchenware &amp; Tableware</td></tr><tr><td>P000001383</td><td>Innan Mixing Bowl</td><td>Kitchenware &amp; Tableware</td></tr><tr><td>P000001382</td><td>Blanda Mixing Bowl</td><td>Kitchenware &amp; Tableware</td></tr><tr><td>P000001381</td><td>Strimlig Measuring Cup</td><td>Kitchenware &amp; Tableware</td></tr><tr><td>P000001380</td><td>Fallit Measuring Cup</td><td>Kitchenware &amp; Tableware</td></tr><tr><td>P000001696</td><td>Lattjo Plant Pot</td><td>Outdoor products</td></tr><tr><td>P000001695</td><td>Krydda Plant Pot</td><td>Outdoor products</td></tr><tr><td>P000001694</td><td>Sommar 2022 Plant Pot</td><td>Outdoor products</td></tr><tr><td>P000001693</td><td>Skogs Plant Pot</td><td>Outdoor products</td></tr><tr><td>P000001692</td><td>Hol Plant Pot</td><td>Outdoor products</td></tr><tr><td>P000001364</td><td>Dinnare Mats &amp; Coasters</td><td>Kitchenware &amp; Tableware</td></tr><tr><td>P000001364</td><td>Dinnare Mats &amp; Coasters</td><td>Textiles</td></tr><tr><td>P000001363</td><td>Foremal Mats &amp; Coasters</td><td>Kitchenware &amp; Tableware</td></tr><tr><td>P000001363</td><td>Foremal Mats &amp; Coasters</td><td>Textiles</td></tr><tr><td>P000001362</td><td>Okonad Mats &amp; Coasters</td><td>Kitchenware &amp; Tableware</td></tr><tr><td>P000001362</td><td>Okonad Mats &amp; Coasters</td><td>Textiles</td></tr><tr><td>P000001361</td><td>Rundlig Mats &amp; Coasters</td><td>Kitchenware &amp; Tableware</td></tr><tr><td>P000001361</td><td>Rundlig Mats &amp; Coasters</td><td>Textiles</td></tr><tr><td>P000001360</td><td>Bjornare Mats &amp; Coasters</td><td>Kitchenware &amp; Tableware</td></tr><tr><td>P000001360</td><td>Bjornare Mats &amp; Coasters</td><td>Textiles</td></tr><tr><td>P000000600</td><td>SUNDLANDET Clothes Brush</td><td>Laundry &amp; cleaning</td></tr><tr><td>P000000599</td><td>SOSDALA Memo Board</td><td>Laundry &amp; cleaning</td></tr><tr><td>P000000598</td><td>MALA Easel</td><td>Laundry &amp; cleaning</td></tr><tr><td>P000000597</td><td>ANTALGEN Laundry Bag</td><td>Laundry &amp; cleaning</td></tr><tr><td>P000000596</td><td>MATVRA Pastry Brush</td><td>Laundry &amp; cleaning</td></tr><tr><td>P000000595</td><td>PERSISK Rug</td><td>Laundry &amp; cleaning</td></tr><tr><td>P000000594</td><td>GRUNDVATTNET Dish Drainer</td><td>Laundry &amp; cleaning</td></tr><tr><td>P000000593</td><td>SPRUTT Dish Drainer</td><td>Laundry &amp; cleaning</td></tr><tr><td>P000000592</td><td>GRUNDVATTNET Cleaning Set</td><td>Laundry &amp; cleaning</td></tr><tr><td>P000000591</td><td>VISPAD Broom</td><td>Laundry &amp; cleaning</td></tr><tr><td>P000000882</td><td>JARPFJALLET Frying Pan</td><td>Kitchenware &amp; Tableware</td></tr><tr><td>P000000881</td><td>RISKYTTA Frying Pan</td><td>Kitchenware &amp; Tableware</td></tr><tr><td>P000000880</td><td>PRODUKT Frying Pan</td><td>Kitchenware &amp; Tableware</td></tr><tr><td>P000000879</td><td>KYRKFJALLET Frying Pan</td><td>Kitchenware &amp; Tableware</td></tr><tr><td>P000000878</td><td>STEKANDE Frying Pan</td><td>Kitchenware &amp; Tableware</td></tr><tr><td>P000000862</td><td>GLODANDE Fridge</td><td>Kitchen Cabinets &amp; Appliances</td></tr><tr><td>P000000862</td><td>GLODANDE Fridge</td><td>Home Electronics</td></tr><tr><td>P000000861</td><td>KYLIG Fridge</td><td>Kitchen Cabinets &amp; Appliances</td></tr><tr><td>P000000861</td><td>KYLIG Fridge</td><td>Home Electronics</td></tr><tr><td>P000000860</td><td>BEVARA Cooling Bag</td><td>Kitchen Cabinets &amp; Appliances</td></tr><tr><td>P000000860</td><td>BEVARA Cooling Bag</td><td>Home Electronics</td></tr><tr><td>P000000859</td><td>RENLIG Fridge</td><td>Kitchen Cabinets &amp; Appliances</td></tr><tr><td>P000000859</td><td>RENLIG Fridge</td><td>Home Electronics</td></tr><tr><td>P000000858</td><td>FROSTKALL Freezer</td><td>Kitchen Cabinets &amp; Appliances</td></tr><tr><td>P000000858</td><td>FROSTKALL Freezer</td><td>Home Electronics</td></tr><tr><td>P000000857</td><td>Skogaby Armchair</td><td>Furniture</td></tr><tr><td>P000000856</td><td>Gronlid Armchair</td><td>Furniture</td></tr><tr><td>P000000855</td><td>Muren Armchair</td><td>Furniture</td></tr><tr><td>P000000854</td><td>Arvika Armchair</td><td>Furniture</td></tr><tr><td>P000000853</td><td>Landskrona Armchair</td><td>Furniture</td></tr><tr><td>P000000548</td><td>SATSUMAS Plant Mover</td><td>Pots &amp; Plants</td></tr><tr><td>P000000547</td><td>BUSKBO Plant Stand</td><td>Pots &amp; Plants</td></tr><tr><td>P000000546</td><td>BITTERGURKA Plant Stand</td><td>Pots &amp; Plants</td></tr><tr><td>P000000545</td><td>YDDINGEN Plant Stand</td><td>Pots &amp; Plants</td></tr><tr><td>P000000544</td><td>SALLADSKAL Plant Mover</td><td>Pots &amp; Plants</td></tr><tr><td>P000000543</td><td>BITTERGURKA Plant Mover</td><td>Pots &amp; Plants</td></tr><tr><td>P000000542</td><td>LANTLIV Plant Stand</td><td>Pots &amp; Plants</td></tr><tr><td>P000000541</td><td>SALLADSKAL Plant Stand</td><td>Pots &amp; Plants</td></tr><tr><td>P000000540</td><td>BURVIK Plant Stand</td><td>Pots &amp; Plants</td></tr><tr><td>P000000539</td><td>SATSUMAS Plant Stand</td><td>Pots &amp; Plants</td></tr><tr><td>P000001339</td><td>Kalas Side Plate</td><td>Kitchenware &amp; Tableware</td></tr><tr><td>P000001338</td><td>Variera Side Plate</td><td>Kitchenware &amp; Tableware</td></tr><tr><td>P000001337</td><td>Ordning Side Plate</td><td>Kitchenware &amp; Tableware</td></tr><tr><td>P000001336</td><td>Dinera Side Plate</td><td>Kitchenware &amp; Tableware</td></tr><tr><td>P000001335</td><td>Fargrik Side Plate</td><td>Kitchenware &amp; Tableware</td></tr><tr><td>P000000676</td><td>JATTENE Moving Bag</td><td>Home Improvement</td></tr><tr><td>P000000675</td><td>SOCKERBIT Moving Box</td><td>Home Improvement</td></tr><tr><td>P000000674</td><td>KVARNVIK Storage Box</td><td>Home Improvement</td></tr><tr><td>P000000673</td><td>TJENA Storage Box</td><td>Home Improvement</td></tr><tr><td>P000000672</td><td>SKUBB Storage Case</td><td>Home Improvement</td></tr><tr><td>P000000671</td><td>PLURING Storage Case</td><td>Home Improvement</td></tr><tr><td>P000000670</td><td>JATTENE Moving Bag</td><td>Home Improvement</td></tr><tr><td>P000000669</td><td>SOCKERBIT Moving Box</td><td>Home Improvement</td></tr><tr><td>P000000668</td><td>SAMLA Storage Box</td><td>Home Improvement</td></tr><tr><td>P000000667</td><td>GLIS Moving Box</td><td>Home Improvement</td></tr><tr><td>P000000962</td><td>Hoppvals Block-out Blind</td><td>Textiles</td></tr><tr><td>P000000961</td><td>Insynsskydd Block-out Blind</td><td>Textiles</td></tr><tr><td>P000000960</td><td>Fyrtur Block-out Blind</td><td>Textiles</td></tr><tr><td>P000000959</td><td>Skogsklover Block-out Blind</td><td>Textiles</td></tr><tr><td>P000000958</td><td>Tupplur Block-out Blind</td><td>Textiles</td></tr><tr><td>P000001050</td><td>Hemnes Bathroom Furniture Set</td><td>Bathroom Products</td></tr><tr><td>P000001049</td><td>Silveran Bathroom Furniture Set</td><td>Bathroom Products</td></tr><tr><td>P000001048</td><td>Godmorgon Bathroom Furniture Set</td><td>Bathroom Products</td></tr><tr><td>P000001047</td><td>Lillangen Bathroom Furniture Set</td><td>Bathroom Products</td></tr><tr><td>P000001046</td><td>Hemnes Bathroom Furniture Set</td><td>Bathroom Products</td></tr><tr><td>P000000479</td><td>VILTO Bathroom Set</td><td>Bathroom Products</td></tr><tr><td>P000000478</td><td>TYNGEN Bathroom Set</td><td>Bathroom Products</td></tr><tr><td>P000000477</td><td>RONNSKAR Bathroom Set</td><td>Bathroom Products</td></tr><tr><td>P000000476</td><td>HAGAVIKEN Bathroom Set</td><td>Bathroom Products</td></tr><tr><td>P000000475</td><td>SVALNAS Bathroom Set</td><td>Bathroom Products</td></tr><tr><td>P000000474</td><td>SILVERAN Bathroom Set</td><td>Bathroom Products</td></tr><tr><td>P000000473</td><td>LILLANGEN Bathroom Set</td><td>Bathroom Products</td></tr><tr><td>P000000472</td><td>GODMORGON Bathroom Set</td><td>Bathroom Products</td></tr><tr><td>P000000471</td><td>HEMNES Bathroom Set</td><td>Bathroom Products</td></tr><tr><td>P000000470</td><td>EKET Bathroom Set</td><td>Bathroom Products</td></tr><tr><td>P000000419</td><td>SONGESAND Base</td><td>Beds &amp; Mattresses</td></tr><tr><td>P000000418</td><td>LONSET Base</td><td>Beds &amp; Mattresses</td></tr><tr><td>P000000417</td><td>TRYGGHET Base</td><td>Beds &amp; Mattresses</td></tr><tr><td>P000000416</td><td>LEIRSUND Base</td><td>Beds &amp; Mattresses</td></tr><tr><td>P000000415</td><td>HEMNES Base</td><td>Beds &amp; Mattresses</td></tr><tr><td>P000000414</td><td>NEIDEN Base</td><td>Beds &amp; Mattresses</td></tr><tr><td>P000000413</td><td>TARVA Base</td><td>Beds &amp; Mattresses</td></tr><tr><td>P000000412</td><td>MALM Base</td><td>Beds &amp; Mattresses</td></tr><tr><td>P000000411</td><td>ESPEVAR Base</td><td>Beds &amp; Mattresses</td></tr><tr><td>P000000410</td><td>SULTAN Base</td><td>Beds &amp; Mattresses</td></tr><tr><td>P000001454</td><td>Tillgjord Picnic Set</td><td>Kitchenware &amp; Tableware</td></tr><tr><td>P000001453</td><td>Klack Picnic Cooler</td><td>Kitchenware &amp; Tableware</td></tr><tr><td>P000001452</td><td>Sommar 2022 Picnic Blanket</td><td>Kitchenware &amp; Tableware</td></tr><tr><td>P000001451</td><td>Knalla Picnic Bag</td><td>Kitchenware &amp; Tableware</td></tr><tr><td>P000001450</td><td>Dragan Picnic Basket</td><td>Kitchenware &amp; Tableware</td></tr><tr><td>P000001354</td><td>Bryggkaffe Coffee Maker</td><td>Kitchenware &amp; Tableware</td></tr><tr><td>P000001353</td><td>Fikarum Coffee Maker</td><td>Kitchenware &amp; Tableware</td></tr><tr><td>P000001352</td><td>Kaffegott Coffee Maker</td><td>Kitchenware &amp; Tableware</td></tr><tr><td>P000001351</td><td>Sokann Coffee Maker</td><td>Kitchenware &amp; Tableware</td></tr><tr><td>P000001350</td><td>Verum Coffee Maker</td><td>Kitchenware &amp; Tableware</td></tr><tr><td>P000001776</td><td>Marjun Curtain Rod</td><td>Textiles</td></tr><tr><td>P000001775</td><td>Attiy Curtain Rod</td><td>Textiles</td></tr><tr><td>P000001774</td><td>Betsoende Curtain Rod</td><td>Textiles</td></tr><tr><td>P000001773</td><td>Hugad Curtain Rod</td><td>Textiles</td></tr><tr><td>P000001772</td><td>Racka Curtain Rod</td><td>Textiles</td></tr><tr><td>P000000987</td><td>Algot Garage Storage</td><td>Storage &amp; organisation</td></tr><tr><td>P000000986</td><td>Trofast Garage Storage</td><td>Storage &amp; organisation</td></tr><tr><td>P000000985</td><td>Elvarli Garage Storage</td><td>Storage &amp; organisation</td></tr><tr><td>P000000984</td><td>Kallax Garage Storage</td><td>Storage &amp; organisation</td></tr><tr><td>P000000983</td><td>Fredviken Garage Storage</td><td>Storage &amp; organisation</td></tr><tr><td>P000001159</td><td>Mammut Children&#39;s Wardrobe</td><td>Storage &amp; organisation</td></tr><tr><td>P000001158</td><td>Busunge Children&#39;s Wardrobe</td><td>Storage &amp; organisation</td></tr><tr><td>P000001157</td><td>Gulliver Children&#39;s Wardrobe</td><td>Storage &amp; organisation</td></tr><tr><td>P000001156</td><td>Hemnes Children&#39;s Wardrobe</td><td>Storage &amp; organisation</td></tr><tr><td>P000001155</td><td>Stuva Children&#39;s Wardrobe</td><td>Storage &amp; organisation</td></tr><tr><td>P000001060</td><td>SKYTTA Sliding Door Handles</td><td>Home Improvement</td></tr><tr><td>P000001059</td><td>SKYTTA Sliding Door Hardware</td><td>Home Improvement</td></tr><tr><td>P000001058</td><td>SKYTTA Sliding Door Track</td><td>Home Improvement</td></tr><tr><td>P000001057</td><td>SKYTTA Sliding Door Frame</td><td>Home Improvement</td></tr><tr><td>P000001056</td><td>SKYTTA Sliding Door</td><td>Home Improvement</td></tr><tr><td>P000000872</td><td>TILLREDA Microwave Oven</td><td>Kitchen Cabinets &amp; Appliances</td></tr><tr><td>P000000872</td><td>TILLREDA Microwave Oven</td><td>Home Electronics</td></tr><tr><td>P000000871</td><td>MATALAG Microwave Oven</td><td>Kitchen Cabinets &amp; Appliances</td></tr><tr><td>P000000871</td><td>MATALAG Microwave Oven</td><td>Home Electronics</td></tr><tr><td>P000000870</td><td>KULINARISK Microwave Oven</td><td>Kitchen Cabinets &amp; Appliances</td></tr><tr><td>P000000870</td><td>KULINARISK Microwave Oven</td><td>Home Electronics</td></tr><tr><td>P000000869</td><td>SVALNA Microwave Oven</td><td>Kitchen Cabinets &amp; Appliances</td></tr><tr><td>P000000869</td><td>SVALNA Microwave Oven</td><td>Home Electronics</td></tr><tr><td>P000000868</td><td>RENODLIG Microwave Oven</td><td>Kitchen Cabinets &amp; Appliances</td></tr><tr><td>P000000868</td><td>RENODLIG Microwave Oven</td><td>Home Electronics</td></tr><tr><td>P000001229</td><td>Lappland Outdoor Seating</td><td>Furniture</td></tr><tr><td>P000001229</td><td>Lappland Outdoor Seating</td><td>Outdoor products</td></tr><tr><td>P000001228</td><td>Askholmen Outdoor Seating</td><td>Furniture</td></tr><tr><td>P000001228</td><td>Askholmen Outdoor Seating</td><td>Outdoor products</td></tr><tr><td>P000001227</td><td>Sjalland Outdoor Seating</td><td>Furniture</td></tr><tr><td>P000001227</td><td>Sjalland Outdoor Seating</td><td>Outdoor products</td></tr><tr><td>P000001226</td><td>Arholma Outdoor Seating</td><td>Furniture</td></tr><tr><td>P000001226</td><td>Arholma Outdoor Seating</td><td>Outdoor products</td></tr><tr><td>P000001225</td><td>Solleron Outdoor Seating</td><td>Furniture</td></tr><tr><td>P000001225</td><td>Solleron Outdoor Seating</td><td>Outdoor products</td></tr><tr><td>P000000957</td><td>Skena Electric Blind</td><td>Textiles</td></tr><tr><td>P000000956</td><td>Tupplur Electric Blind</td><td>Textiles</td></tr><tr><td>P000000955</td><td>Schottis Electric Blind</td><td>Textiles</td></tr><tr><td>P000000954</td><td>Kadrilj Electric Blind</td><td>Textiles</td></tr><tr><td>P000000953</td><td>Fyrtur Electric Blind</td><td>Textiles</td></tr><tr><td>P000001169</td><td>Kusiner Children&#39;s Basket</td><td>Storage &amp; organisation</td></tr><tr><td>P000001168</td><td>Flisat Children&#39;s Box</td><td>Storage &amp; organisation</td></tr><tr><td>P000001167</td><td>Skubb Children&#39;s Box</td><td>Storage &amp; organisation</td></tr><tr><td>P000001166</td><td>Trofast Children&#39;s Box</td><td>Storage &amp; organisation</td></tr><tr><td>P000001165</td><td>Drona Children&#39;s Box</td><td>Storage &amp; organisation</td></tr><tr><td>P000000379</td><td>DIODER LED Cabinet Light</td><td>Lighting, lamps &amp; shades</td></tr><tr><td>P000000378</td><td>UPPBO LED Spotlight</td><td>Lighting, lamps &amp; shades</td></tr><tr><td>P000000377</td><td>LEDSJO LED Wall Lamp</td><td>Lighting, lamps &amp; shades</td></tr><tr><td>P000000231</td><td>TRADFRI LED Panel</td><td>Lighting, lamps &amp; shades</td></tr><tr><td>P000000376</td><td>LJUSTER LED Spotlight</td><td>Lighting, lamps &amp; shades</td></tr><tr><td>P000000375</td><td>DIODER LED Strip</td><td>Lighting, lamps &amp; shades</td></tr><tr><td>P000000374</td><td>BLOMNING LED Wall Lamp</td><td>Lighting, lamps &amp; shades</td></tr><tr><td>P000000373</td><td>LEDARE LED Bulb</td><td>Lighting, lamps &amp; shades</td></tr><tr><td>P000000372</td><td>MOLGAN LED Light</td><td>Lighting, lamps &amp; shades</td></tr><tr><td>P000000371</td><td>LAGAN LED Cabinet Lighting</td><td>Lighting, lamps &amp; shades</td></tr><tr><td>P000000370</td><td>KOPPLA LED Light Strip</td><td>Lighting, lamps &amp; shades</td></tr><tr><td>P000000369</td><td>TRADFRI LED Driver</td><td>Lighting, lamps &amp; shades</td></tr><tr><td>P000000229</td><td>SURTE LED Work Lamp</td><td>Lighting, lamps &amp; shades</td></tr><tr><td>P000000212</td><td>OMLOPP LED Spotlight</td><td>Lighting, lamps &amp; shades</td></tr><tr><td>P000000368</td><td>FYRKANTIG LED Cabinet Lighting</td><td>Lighting, lamps &amp; shades</td></tr><tr><td>P000000367</td><td>RIGGAD Work Lamp with Wireless Charging</td><td>Lighting, lamps &amp; shades</td></tr><tr><td>P000000211</td><td>ANSLUTA LED Driver</td><td>Lighting, lamps &amp; shades</td></tr><tr><td>P000000230</td><td>OMLOPP LED Worktop Light</td><td>Lighting, lamps &amp; shades</td></tr><tr><td>P000000366</td><td>MAGLEHULT LED Spotlight</td><td>Lighting, lamps &amp; shades</td></tr><tr><td>P000000365</td><td>NORRFLY LED Night Light</td><td>Lighting, lamps &amp; shades</td></tr><tr><td>P000000364</td><td>VINTERLE LED Pendant Lamp</td><td>Lighting, lamps &amp; shades</td></tr><tr><td>P000000363</td><td>GRUNDLED LED Cabinet Light</td><td>Lighting, lamps &amp; shades</td></tr><tr><td>P000000213</td><td>TRADFRI LED Bulb</td><td>Lighting, lamps &amp; shades</td></tr><tr><td>P000000362</td><td>SANDA LED Light Strip</td><td>Lighting, lamps &amp; shades</td></tr><tr><td>P000000214</td><td>JANSJO LED Wall/Clamp Spotlight</td><td>Lighting, lamps &amp; shades</td></tr><tr><td>P000000361</td><td>JANSJO LED Wall Lamp</td><td>Lighting, lamps &amp; shades</td></tr><tr><td>P000000360</td><td>TJYVLED LED Cabinet Lighting</td><td>Lighting, lamps &amp; shades</td></tr><tr><td>P000000359</td><td>GLENN LED Track Light</td><td>Lighting, lamps &amp; shades</td></tr><tr><td>P000000358</td><td>HONK LED Spotlight</td><td>Lighting, lamps &amp; shades</td></tr><tr><td>P000001487</td><td>Roholt Plant Pot</td><td>Home Decoration</td></tr><tr><td>P000001487</td><td>Roholt Plant Pot</td><td>Pots &amp; Plants</td></tr><tr><td>P000000322</td><td>SVIRVEL Pendant Lamp</td><td>Home Decoration</td></tr><tr><td>P000000322</td><td>SVIRVEL Pendant Lamp</td><td>Pots &amp; Plants</td></tr><tr><td>P000001486</td><td>Bolltistel Plant Pot</td><td>Home Decoration</td></tr><tr><td>P000001486</td><td>Bolltistel Plant Pot</td><td>Pots &amp; Plants</td></tr><tr><td>P000001485</td><td>Veggie Plant Pot</td><td>Home Decoration</td></tr><tr><td>P000001485</td><td>Veggie Plant Pot</td><td>Pots &amp; Plants</td></tr><tr><td>P000001484</td><td>Flisat Plant Pot</td><td>Home Decoration</td></tr><tr><td>P000001484</td><td>Flisat Plant Pot</td><td>Pots &amp; Plants</td></tr><tr><td>P000000842</td><td>Baggabo Hallway Bench</td><td>Furniture</td></tr><tr><td>P000000841</td><td>Platsa Hallway Bench</td><td>Furniture</td></tr><tr><td>P000000840</td><td>StjArnvalvet Hallway Bench</td><td>Furniture</td></tr><tr><td>P000000839</td><td>Tjusig Hallway Bench</td><td>Furniture</td></tr><tr><td>P000000838</td><td>Hemnes Hallway Bench</td><td>Furniture</td></tr><tr><td>P000000832</td><td>Renberget Office Chair</td><td>Furniture</td></tr><tr><td>P000000831</td><td>Hattefjall Office Chair</td><td>Furniture</td></tr><tr><td>P000000830</td><td>Lillhojden Office Chair</td><td>Furniture</td></tr><tr><td>P000000829</td><td>Jarvfjallet Office Chair</td><td>Furniture</td></tr><tr><td>P000000828</td><td>Markus Office Chair</td><td>Furniture</td></tr><tr><td>P000000739</td><td>GLITTRIG Lumbar Cushion</td><td>Textiles</td></tr><tr><td>P000000738</td><td>BILLY Lumbar Cushion</td><td>Textiles</td></tr><tr><td>P000000737</td><td>BACKIG Lumbar Cushion</td><td>Textiles</td></tr><tr><td>P000000736</td><td>ALINA Lumbar Cushion</td><td>Textiles</td></tr><tr><td>P000000735</td><td>KALLSKAR Lumbar Cushion</td><td>Textiles</td></tr><tr><td>P000000734</td><td>GASPA Lumbar Cushion</td><td>Textiles</td></tr><tr><td>P000000733</td><td>HALO Lumbar Cushion</td><td>Textiles</td></tr><tr><td>P000000732</td><td>BJORNLOKA Lumbar Cushion</td><td>Textiles</td></tr><tr><td>P000000731</td><td>ROBIN Lumbar Cushion</td><td>Textiles</td></tr><tr><td>P000000730</td><td>VILGOT Lumbar Cushion</td><td>Textiles</td></tr><tr><td>P000001631</td><td>Askasund Bathroom Countertop</td><td>Bathroom Products</td></tr><tr><td>P000001630</td><td>Mossund Bathroom Countertop</td><td>Bathroom Products</td></tr><tr><td>P000001629</td><td>Tolken Bathroom Countertop</td><td>Bathroom Products</td></tr><tr><td>P000001628</td><td>Odensvik Bathroom Countertop</td><td>Bathroom Products</td></tr><tr><td>P000001627</td><td>Holmen Bathroom Countertop</td><td>Bathroom Products</td></tr><tr><td>P000000449</td><td>LONSET Slatted Bed Base</td><td>Beds &amp; Mattresses</td></tr><tr><td>P000000448</td><td>TYSSEDAL Slatted Bed Base</td><td>Beds &amp; Mattresses</td></tr><tr><td>P000000447</td><td>LONSET Slatted Bed Base</td><td>Beds &amp; Mattresses</td></tr><tr><td>P000000446</td><td>SONGESAND Slatted Bed Base</td><td>Beds &amp; Mattresses</td></tr><tr><td>P000000445</td><td>LONSET Slatted Bed Base</td><td>Beds &amp; Mattresses</td></tr><tr><td>P000000444</td><td>LEIRVIK Slatted Bed Base</td><td>Beds &amp; Mattresses</td></tr><tr><td>P000000443</td><td>LONSET Slatted Bed Base</td><td>Beds &amp; Mattresses</td></tr><tr><td>P000000442</td><td>LEIRSUND Slatted Bed Base</td><td>Beds &amp; Mattresses</td></tr><tr><td>P000000441</td><td>LONSET Slatted Bed Base</td><td>Beds &amp; Mattresses</td></tr><tr><td>P000000440</td><td>LUROY Slatted Bed Base</td><td>Beds &amp; Mattresses</td></tr><tr><td>P000000538</td><td>VITFJALL Bath Mat</td><td>Rugs, mats &amp; flooring</td></tr><tr><td>P000000537</td><td>TEJN Bath Mat</td><td>Rugs, mats &amp; flooring</td></tr><tr><td>P000000536</td><td>RORKAR Bath Mat</td><td>Rugs, mats &amp; flooring</td></tr><tr><td>P000000535</td><td>ALSTERN Bath Mat</td><td>Rugs, mats &amp; flooring</td></tr><tr><td>P000000534</td><td>SAMSPEL Bath Mat</td><td>Rugs, mats &amp; flooring</td></tr><tr><td>P000000533</td><td>HOJERUP Bath Mat</td><td>Rugs, mats &amp; flooring</td></tr><tr><td>P000000532</td><td>VADSJON Bath Mat</td><td>Rugs, mats &amp; flooring</td></tr><tr><td>P000000531</td><td>BORRBY Bath Mat</td><td>Rugs, mats &amp; flooring</td></tr><tr><td>P000000530</td><td>FROSON Bath Mat</td><td>Rugs, mats &amp; flooring</td></tr><tr><td>P000000529</td><td>TOFTBO Bath Mat</td><td>Rugs, mats &amp; flooring</td></tr></table>"
                    },
                    "metadata": {}
                }
            ],
            "execution_count": 16
        },
        {
            "cell_type": "markdown",
            "source": [
                "explanation:"
            ],
            "metadata": {
                "azdata_cell_guid": "e8835449-ba55-4ade-9a37-f5a5b7c1353f",
                "language": "sql"
            },
            "attachments": {}
        },
        {
            "cell_type": "markdown",
            "source": [
                "### **Q4: ช่องทางการชำระเงินช่องทางใดที่ได้รับความนิยมน้อยที่สุด**"
            ],
            "metadata": {
                "azdata_cell_guid": "db9a617f-b83e-49ef-97a1-e669cf2de59d",
                "language": "sql"
            },
            "attachments": {}
        },
        {
            "cell_type": "code",
            "source": [
                "-- สนใจเพิ่มเงื่อนไขในคำถามเป็น \"ในแต่ละ cate\" ด้วยมั้ย\n",
                "-- may be change na\n",
                "SELECT \n",
                "    p.\"isRecommended\",\n",
                "    po.\"qty\",\n",
                "    ph.\"price\",\n",
                "    SUM(po.\"qty\" * ph.\"price\") \"Sales\"\n",
                "FROM public.ProductOrder po\n",
                "LEFT JOIN public.\"Product\" p ON po.\"product_id\" = p.\"product_id\"\n",
                "LEFT JOIN public.\"PriceHistory\" ph ON ph.\"product_id\" = p.\"product_id\"\n",
                "LEFT JOIN public.\"Order\" o ON o.\"order_id\" = po.\"order_id\"\n",
                "WHERE p.\"isRecommended\" IS TRUE\n",
                "    AND o.\"order_date\" BETWEEN ph.\"start_date\" AND COLEASE(ph.\"end_date\", \"9999-12-31\"::DATE)\n",
                "GROUP BY p.\"isRecommended\""
            ],
            "metadata": {
                "azdata_cell_guid": "72d16027-f3b2-4313-beea-c65af834fdf7",
                "language": "sql",
                "vscode": {
                    "languageId": "sql"
                }
            },
            "outputs": [],
            "execution_count": null
        },
        {
            "cell_type": "markdown",
            "source": [
                "explanation: \n",
                "\n",
                "### \n",
                "\n",
                "เนื่องด้วยต้นทุนในการเจรจากับผู้ให้บริการด้านการชำระเงินต่าง ๆ มีไม่น้อย เราจึงนำข้อมูลจำนวนผู้ใช้ที่เลือกใช้ช่องทางการชำระเงินรูปแบบต่าง ๆ มาคำนวณแยกตามประเภทการเพื่อดูว่าช่องทางใดมีผู้ใช้บริการน้อยที่สุด ธุรกิจสามารถนำข้อมูลไปพิจารณาเรื่องการยกเลิกช่องทางการชำระเงินได้ เพื่อลดต้นทุนของบริษัท หรืออาจมีแผนกลยุทธ์เพื่อให้คนหันมาใช้ช่องทางการชำระเงินดังกล่าวมากขึ้น เช่น การเจรจากับผู้บริการด้านการชำระเงินเพื่อจัดโปรโมชั่น"
            ],
            "metadata": {
                "azdata_cell_guid": "6bf22eab-502c-44a2-bf34-a1a7ffbd52ab",
                "language": "sql"
            },
            "attachments": {}
        },
        {
            "cell_type": "markdown",
            "source": [
                "### **Q5:** ช่วงไตรมาสไหนของปีที่เราควรทำการปล่อยโปรโมชั่นส่งเสริมการขาย เพื่อทำการกระตุ้นยอดขาย"
            ],
            "metadata": {
                "azdata_cell_guid": "446f604e-82b6-4437-937c-9031635d4940",
                "language": "sql"
            },
            "attachments": {}
        },
        {
            "cell_type": "code",
            "source": [
                "SELECT EXTRACT(YEAR FROM o.\"order_date\") \"Year\",\r\n",
                "    EXTRACT(QUATER FROM o.\"order_date\") \"Quater\",\r\n",
                "    SUM(po.\"qty\" * ph.\"price\") \"Sales\"\r\n",
                "FROM public.\"ProductOrder\" po\r\n",
                "LEFT JOIN public.\"Product\" p ON po.\"product_id\" = p.\"product_id\"\r\n",
                "LEFT JOIN public.\"PriceHistory\" ph ON ph.\"product_id\" = p.\"product_id\"\r\n",
                "LEFT JOIN public.\"Order\" o ON o.\"order_id\" = po.\"order_id\"\r\n",
                "LEFT JOIN public.\"parentCat\" pc ON pc.\"product_id\" = po.\"product_id\"\r\n",
                "WHERE o.\"order_date\" BETWEEN ph.\"start_date\" AND COLEASE(ph.\"end_date\", '9999-12-31'::DATE)\r\n",
                "GROUP BY \"Year\", \"Quater\""
            ],
            "metadata": {
                "azdata_cell_guid": "34d1f106-1d87-4dc5-a4cd-78509582b8fd",
                "language": "sql",
                "vscode": {
                    "languageId": "sql"
                }
            },
            "outputs": [],
            "execution_count": null
        },
        {
            "cell_type": "markdown",
            "source": [
                "explanation:\n",
                "\n",
                "เพื่อรัย"
            ],
            "metadata": {
                "azdata_cell_guid": "93f8a01d-07ab-48d7-94c9-09da67292eac",
                "language": "sql"
            },
            "attachments": {}
        },
        {
            "cell_type": "markdown",
            "source": [
                "### **Q6:** ในช่วงสถานการณ์การแพร่ระบาดของโควิด-19 ยอดขายสินค้าของอิเกีย ผ่านรูปแบบออนไลน์มีลักษณะเป็นอย่างไร เพิ่มขึ้นมากน้อยเพียงใด"
            ],
            "metadata": {
                "azdata_cell_guid": "66ca3618-bd8b-4980-a884-11ebf7494b1b",
                "language": "sql"
            },
            "attachments": {}
        },
        {
            "cell_type": "code",
            "source": [
                "SELECT EXTRACT(YEAR FROM o.\"order_date\") \"Year\",\r\n",
                "    SUM(po.\"qty\" * ph.\"price\") \"Total Sales\"\r\n",
                "FROM public.\"ProductOrder\" po\r\n",
                "LEFT JOIN public.\"Order\" o ON po.\"order_id\" = o.\"order_id\"\r\n",
                "LEFT JOIN public.\"PriceHistory\" ph ON ph.\"product_id\" = po.\"product_id\"\r\n",
                "WHERE o.\"order_type\"\r\n",
                "    AND o.\"order_date\" BETWEEN ph.\"start_date\" AND COLEASE(ph.\"end_date\", '9999-12-31'::DATE)\r\n",
                "GROUP BY \"Year\""
            ],
            "metadata": {
                "azdata_cell_guid": "5e380717-b12b-4ecd-92c2-fa4d2dd28c46",
                "language": "sql",
                "vscode": {
                    "languageId": "sql"
                }
            },
            "outputs": [],
            "execution_count": null
        },
        {
            "cell_type": "markdown",
            "source": [
                "explanation:\n",
                "\n",
                "ข้อมูลนี้สามารถนำไปใช้ในการประเมินสถานการณ์ในอนาคต หากเกิดเหตุการณ์การแพร่ระบาดของโรคระบาดอีกครั้ง โดยธุรกิจอิเกียสามารถวิเคราะห์ข้อมูลนี้เพื่อคาดการณ์แนวโน้มยอดขายสินค้าผ่านรูปแบบออนไลน์ในอนาคต ซึ่งจะช่วยให้ธุรกิจสามารถวางแผนกลยุทธ์การตลาดและการดำเนินงานได้อย่างเหมาะสม\n",
                "\n",
                "หากพบว่ายอดขายสินค้าผ่านรูปแบบออนไลน์เพิ่มขึ้นอย่างมากในช่วงสถานการณ์การแพร่ระบาดของโควิด-19 แสดงว่าลูกค้ามีแนวโน้มที่จะซื้อสินค้าออนไลน์มากขึ้นในอนาคต ธุรกิจอิเกียอาจพิจารณาให้ความสำคัญกับช่องทางการตลาดออนไลน์มากขึ้น เช่น เพิ่มงบประมาณในการโฆษณาออนไลน์ เพิ่มพนักงานฝ่ายบริการลูกค้าออนไลน์ เป็นต้น"
            ],
            "metadata": {
                "azdata_cell_guid": "4e06b272-5a75-4bfe-85ea-34b468046eef",
                "language": "sql"
            },
            "attachments": {}
        },
        {
            "cell_type": "markdown",
            "source": [
                "### **Q7:** สินค้ารายการไหนที่มีจำนวนสั่งซื้อเฉลี่ยมากกว่าหรือเท่ากับ 4 ชิ้นต่อ 1 ออร์เดอร์"
            ],
            "metadata": {
                "azdata_cell_guid": "b5dd53e3-85d6-4a47-9c8c-7d00ea251ed0"
            },
            "attachments": {}
        },
        {
            "cell_type": "code",
            "source": [
                "SELECT po.\"product_id\",\n",
                "    p.\"product_name_eng\" \"Product Name (Eng)\",\n",
                "    AVG(po.\"qty\") \"Avg. Quantity Per Order\"\n",
                "FROM public.\"ProductOrder\" po\n",
                "LEFT JOIN public.\"Product\" p ON po.\"product_id\" = p.\"product_id\"\n",
                "GROUP BY po.\"product_id\"\n",
                "HAVING AVG(po.\"qty\") >= 4"
            ],
            "metadata": {
                "azdata_cell_guid": "b1f9bd73-73d0-4b55-8c9b-09d4dad3be17",
                "language": "sql",
                "vscode": {
                    "languageId": "sql"
                }
            },
            "outputs": [],
            "execution_count": null
        },
        {
            "cell_type": "markdown",
            "source": [
                "explanation:\n",
                "\n",
                "สามารถนำข้อมูลมาใช้ในทางการตลาดได้\n",
                "\n",
                "ยกตัวอย่างเช่น\n",
                "\n",
                " - การตั้งเซ็ตสินค้าที่มีจำนวนมากกว่าจำนวนเฉลี่ยที่ลูกค้าซื้อ เช่น เซ็ตสินค้าชุดครัว เซ็ตของใช้สำหรับห้องน้ำ หรือเซ็ตของขวัญ เป็นต้น เป็นการนำเสนอสินค้าแบบครบวงจรที่ตอบโจทย์ความต้องการของลูกค้า ซึ่งสามารถเพิ่มยอดขายและกำไรให้กับธุรกิจได้อย่างมีประสิทธิภาพ\n",
                "\n",
                "- การเพิ่มขนาดตะกร้าสินค้า (Basket Size) เช่น เสนอส่วนลดพิเศษเมื่อลูกค้าสั่งซื้อสินค้าครบจำนวนที่กำหนด เช่น ซื้อ 5 ชิ้นขึ้นไปลด 10% เป็นต้น เป็นกลยุทธ์การตลาดที่กระตุ้นให้ลูกค้าซื้อสินค้ามากขึ้น ซึ่งสามารถเพิ่มยอดขายและกำไรให้กับธุรกิจได้อย่างยั่งยืน"
            ],
            "metadata": {
                "azdata_cell_guid": "03b7e09c-6b80-4438-8e39-9ccaaa939d8d",
                "language": "sql"
            },
            "attachments": {}
        },
        {
            "cell_type": "markdown",
            "source": [
                "### **Q8:** สัดส่วนของการใช้คะแนนสะสม(point) เพื่อแลกเป็นส่วนลดในการใช้ซื้อของ"
            ],
            "metadata": {
                "azdata_cell_guid": "1b70bef6-b574-4bd8-b650-9d19cbe7fa7c",
                "language": "sql"
            },
            "attachments": {}
        },
        {
            "cell_type": "code",
            "source": [
                "WITH tmp AS (\n",
                "    SELECT EXTRACT(YEAR FROM o.\"order_date\") \"Year\",\n",
                "        EXTRACT(MONTH FROM o.\"order_date\") \"Month\",\n",
                "        SUM(CASE WHEN pl.\"movement\" < 0 THEN pl.\"movement\" ELSE 0 END) \"Total Point Used\",\n",
                "        SUM(po.\"qty\" * ph.\"price\") \"Total Sales\"\n",
                "    FROM public.\"PointLog\" pl\n",
                "    LEFT JOIN public.\"Order\" o ON o.\"order_id\" = pl.\"remark\"\n",
                "    LEFT JOIN public.\"ProductOrder\" po ON po.\"order_id\" = o.\"order_id\"\n",
                "    LEFT JOIN public.\"PriceHistory\" ph ON ph.\"product_id\" = po.\"product_id\"\n",
                "    WHERE o.\"order_date\" BETWEEN ph.\"start_date\" AND COLEASE(ph.\"end_date\", '9999-12-31')\n",
                "    GROUP BY \"Year\", \"Month\"\n",
                ")\n",
                "\n",
                "SELECT *,\n",
                "    TO_CHAR(\"Total Sales\"::DECIMAL / \"Total Point Used\"::DECIMAL * 100, '999,999.99') | '%' \"Point Conversion Rate\"\n",
                "FROM tmp"
            ],
            "metadata": {
                "azdata_cell_guid": "bff2af7d-f24a-4e8d-a4e4-c04daf75895e",
                "language": "sql",
                "vscode": {
                    "languageId": "sql"
                }
            },
            "outputs": [],
            "execution_count": null
        },
        {
            "cell_type": "markdown",
            "source": [
                "\n",
                "explanation: \n",
                "\n",
                "จะได้อัตราส่วนการแปลงคะแนน (Conversion Rate) มาเป็นผลลัพธ์ ซึ่งเป็นตัวเลขที่แสดงถึงประสิทธิภาพในการแลกคะแนน IKEA Family มา เป็นส่วนลดสินค้า ตัวเลขนี้มีความสำคัญต่ออิเกียในการวางแผนกลยุทธ์และเป้าหมายในอนาคต เนื่องจากอิเกียต้องเผื่อค่าใช้จ่ายในการหักส่วนลดจากการแลกคะแนนด้วย\n",
                "\n",
                "<u>ตัวอย่าง</u>\n",
                "\n",
                "อัตราส่วนการแปลงคะแนนของอิเกียอยู่ที่ 10% หมายความว่า หากอิเกียมอบคะแนนให้ลูกค้า 100 คะแนน คะแนนจะถูกใช้คะแนนแลกเป็นส่วนลดสินค้า 10 คะแนน ซึ่งมีมูลค่าเท่ากับ 10 บาท \n",
                "\n",
                "หากอิเกียตั้งเป้ายอดขายในปีหน้าอยู่ที่ 100 ล้านบาท โดยอิงจากอัตราส่วนการแปลงคะแนนที่ 10%\n",
                "\n",
                ""
            ],
            "metadata": {
                "azdata_cell_guid": "f917b84e-3ddb-46e4-a29f-9bd81862f27d",
                "language": "sql"
            },
            "attachments": {}
        },
        {
            "cell_type": "markdown",
            "source": [
                "### **Q9:** ในแต่ละช่วงเวลามีจำนวนคำสั่งซื้อจากหน้าสาขามากน้อยเพียงใด เรียงลำดับจากช่วงเวลาที่จำนวนคำสั่งซื้อมากที่สุดก่อน\n",
                "\n",
                "โดยกำหนดช่วงเวลาดังนี้ \n",
                "|Time Range|\n",
                "|-|\n",
                "| 10.00 - 12.00 น.| \n",
                "| 13.00 - 15.00 น.| \n",
                "| 16.00 - 18.00 น.| \n",
                "| 19.00 - 21.00 น.|\n",
                "\n",
                ""
            ],
            "metadata": {
                "azdata_cell_guid": "802111c7-53eb-470e-8164-da7c55cdd368",
                "language": "sql"
            },
            "attachments": {}
        },
        {
            "cell_type": "code",
            "source": [
                "SELECT\r\n",
                "    CASE\r\n",
                "        WHEN o.order_date::TIME BETWEEN '10:00:00' AND '12:59:59' THEN '10:00 - 12:00'\r\n",
                "        WHEN o.order_date::TIME BETWEEN '13:00:00' AND '15:59:59' THEN '13:00 - 15:00'\r\n",
                "        WHEN o.order_date::TIME BETWEEN '16:00:00' AND '18:59:59' THEN '16:00 - 18:00'\r\n",
                "        WHEN o.order_date::TIME BETWEEN '19:00:00' AND '21:00:00' THEN '19:00 - 21:00'\r\n",
                "    END \"Time Range\",\r\n",
                "    COUNT(DISTINCT o.order_id) \"Order Count\"\r\n",
                "FROM Order o\r\n",
                "WHERE EXTRACT(DOW FROM o.order_date) IN (0, 6)\r\n",
                "GROUP BY \"Time Range\""
            ],
            "metadata": {
                "azdata_cell_guid": "dd1ef86f-0ec1-4c74-9805-82d0b57187d7",
                "language": "sql",
                "vscode": {
                    "languageId": "sql"
                },
                "tags": []
            },
            "outputs": [],
            "execution_count": null
        },
        {
            "cell_type": "markdown",
            "source": [
                "explanation:\n",
                "หากพบว่าจำนวนคำสั่งซื้อในช่วง...มีจำนวนมากที่สุด แสดงว่าลูกค้ามีแนวโน้มที่จะซื้อสินค้าในช่วง...มากขึ้น ธุรกิจอาจพิจารณา เพิ่มพนักงานขายในช่วงเวลานี้ให้มากขึ้น เพื่อรองรับความต้องการของลูกค้าและให้บริการลูกค้าได้อย่างมีประสิทธิภาพ\n",
                "\n",
                "หรือหากช่วงไหนเวลาไหนมีคำสั่งซื้อน้อย ไม่ใช่ช่วงเวลาที่ลูกค้ามีแนวโน้มจะซื้อสินค้ามาก ธุรกิจอาจวางแผน เพิ่มงบประมาณในการโฆษณาในช่วงเวลานั้น เพื่อกระตุ้นยอดขาย จัดกิจกรรมส่งเสริมการขาย เพื่อดึงดูดลูกค้าในช่วงเวลาดังกล่าว หรือ ใช้ช่วงเวลานั้นสำหรับการจัดชั้นวางสินค้า เติมของบนชั้นวาง เพื่อให้สินค้ามีความพร้อมจำหน่ายอยู่เสมอ"
            ],
            "metadata": {
                "azdata_cell_guid": "1fa22740-74bf-4873-b5f4-97076ee70e9b",
                "language": "sql"
            },
            "attachments": {}
        },
        {
            "cell_type": "markdown",
            "source": [
                "### **Q10:** ลูกค้าส่วนใหญ่ที่สั่งสินค้าผ่านรูปแบบออนไลน์ให้จัดส่งสินค้าไปที่จังหวัดไหน มากที่สุด"
            ],
            "metadata": {
                "azdata_cell_guid": "3659287b-566e-4681-8591-3d02035c0c8d",
                "language": "sql"
            },
            "attachments": {}
        },
        {
            "cell_type": "code",
            "source": [
                "SELECT a.\"province\",\n",
                "    COUNT(*)\n",
                "FROM public.\"ProductOrder\" po\n",
                "JOIN public.\"Order\" p ON po.\"order_id\" = p.\"order_id\"\n",
                "LEFT JOIN public.\"MemberAddress\" ma ON ma.\"mem_add_id\" = o.\"mem_add_id\"\n",
                "LEFT JOIN public.\"Address\" a ON a.\"address_id\" = ma.\"address_id\"\n",
                "WHERE o.\"order_type\" = 1\n",
                "GROUP BY a.\"province\""
            ],
            "metadata": {
                "azdata_cell_guid": "f5dbf596-32dd-4fed-bdfc-3818b8a000d5",
                "language": "sql",
                "vscode": {
                    "languageId": "sql"
                }
            },
            "outputs": [],
            "execution_count": null
        },
        {
            "cell_type": "markdown",
            "source": [
                "explanation:\n",
                "\n",
                "การปรับปรุงกระบวนการทำงานให้มีประสิทธิภาพมากขึ้น เช่น การกำหนดเส้นทางการขนส่งสินค้า การกำหนดจำนวนสต็อกสินค้า เป็นต้น\n",
                "\n",
                "รวมถึงการใช้ข้อมูลประกอบการคิดพิจารณาการเพิ่มคลังสินค้าในพื้นที่ โดยการเพิ่มคลังสินค้าในพื้นที่จะช่วยเพิ่มพื้นที่จัดเก็บสินค้า ซึ่งสามารถลดต้นทุนการจัดเก็บสินค้าและช่วยให้สามารถจัดส่งสินค้าได้รวดเร็วและมีประสิทธิภาพมากขึ้น  ส่งผลให้สามารถจัดส่งสินค้าได้ทันเวลาและตอบสนองความต้องการของลูกค้าได้ดีขึ้น"
            ],
            "metadata": {
                "azdata_cell_guid": "a144f662-6795-429c-8d23-19a5e76e58a0",
                "language": "sql"
            },
            "attachments": {}
        },
        {
            "cell_type": "markdown",
            "source": [
                "# <u>Conclusion</u>"
            ],
            "metadata": {
                "azdata_cell_guid": "f2013042-b7c4-46df-be75-f5ee5350f13c",
                "language": "sql"
            },
            "attachments": {}
        },
        {
            "cell_type": "markdown",
            "source": [
                "# <u>Reference</u> อะไรคือวิธีการเขียนที่ถูกต้องฟะ\n",
                "\n",
                "[IKEA Thailand Website](https://www.ikea.com/th/th/?gclid=Cj0KCQjw-pyqBhDmARIsAKd9XIOcZXbz2kMWZsCwIyhnmEwRSrr5jf4XzZGqTPxovq1DWI8pnI6d3pMaAkZOEALw_wcB&gclsrc=aw.ds)\n",
                "\n",
                "[IKEA Logo](https://www.google.com/url?sa=i&url=https%3A%2F%2Fen.m.wikipedia.org%2Fwiki%2FFile%3AIkea_logo.svg&psig=AOvVaw02zOebJ_khvCiZ9j3LYgiB&ust=1699771476802000&source=images&cd=vfe&ved=0CBIQjRxqFwoTCMCNtKqsu4IDFQAAAAAdAAAAABAE)\n",
                "\n",
                "[Wikipedia](https://th.wikipedia.org/wiki/%E0%B8%AD%E0%B8%B4%E0%B9%80%E0%B8%81%E0%B8%B5%E0%B8%A2)\n",
                "\n",
                "https://www.kasikornresearch.com/th\n",
                "\n",
                "[https://www.longtunman.com/25609](https://www.longtunman.com/25609)"
            ],
            "metadata": {
                "azdata_cell_guid": "ed204d6c-afd1-47f9-98e3-65097e6107a4",
                "language": "sql"
            },
            "attachments": {}
        },
        {
            "cell_type": "markdown",
            "source": [
                "![](test.jpg)"
            ],
            "metadata": {
                "azdata_cell_guid": "2a43e998-84ef-4c49-abfe-cc808264bce6"
            }
        }
    ]
}