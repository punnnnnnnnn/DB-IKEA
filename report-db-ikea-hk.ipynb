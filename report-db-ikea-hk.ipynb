{
    "metadata": {
        "kernelspec": {
            "name": "SQL",
            "display_name": "SQL",
            "language": "sql"
        },
        "language_info": {
            "name": "sql",
            "version": ""
        }
    },
    "nbformat_minor": 2,
    "nbformat": 4,
    "cells": [
        {
            "cell_type": "markdown",
            "source": [
                "----\n",
                "\n",
                "### **Course Number:** 2602446 DATABASE APPLN MGT \n",
                "\n",
                "### **Project Title:** IKEA Database Design \n",
                "\n",
                "### **Team Name:** อะไรดี\n",
                "\n",
                "### **Date:** 2023-11-12 \n",
                "\n",
                "### **Team Members:**\n",
                "1. 6441142126 ปัญญชาติ พ่อค้าทอง\n",
                "2. 6441126126 นิภาศรี วงศ์สิริเดช\n",
                "3. 6441256026 อธิชา ภักดี\n",
                "4. 6441039226 ชญานิษฐ์ มีทองจันทร์\n",
                "5. 6441093026 ธนัญชัย ปริยวาทกุล\n",
                "6. 6441100826 ธัญพิชา นพจินดา\n",
                "\n",
                "----"
            ],
            "metadata": {
                "azdata_cell_guid": "6e3e7fc0-90f7-4a5d-9ee8-a543386f0718"
            },
            "attachments": {}
        },
        {
            "cell_type": "markdown",
            "source": [
                "# **IKEA Report**"
            ],
            "metadata": {
                "azdata_cell_guid": "fc27721e-7aca-45e0-a59d-a238bd243642"
            },
            "attachments": {}
        },
        {
            "cell_type": "markdown",
            "source": [
                "![](ikea_logo.png)"
            ],
            "metadata": {
                "azdata_cell_guid": "892b8566-1734-4f61-9f10-bb1368274314"
            },
            "attachments": {}
        },
        {
            "cell_type": "markdown",
            "source": [
                "> สารจากเฌอแตม\n",
                "\n",
                "- บางอันไม่ชัว ไม่แม่นข้อมูล เลยไฮไลท์เหลืองไว้ ใครรู้ก็ฝากเติม แก้ได้เลย\n",
                "- อันไหนว่างๆสามารถทำได้เลย\n",
                "- ช่วยเช็คคำได้ บางทีอาจจะใช้คำแปลกๆ เรียงประโยคเข้าใจยาก\n",
                "- ยังเว้นบรรทัดเท่าบ้าง ไม่เท่าบ้าง ดูใน markdown ได้ไม่รู้จารสนความสวยแค่ไหน\n",
                "- หาคนช่วยทำ ref TT"
            ],
            "metadata": {
                "azdata_cell_guid": "8d039dab-0176-495c-b707-8d8d06823beb"
            },
            "attachments": {}
        },
        {
            "cell_type": "markdown",
            "source": [
                "> สารบัญลิ้งไปที่หัวข้อไม่ได้ ฮ่าๆ ใครสามารถ ก็ลองทำได้นะ"
            ],
            "metadata": {
                "azdata_cell_guid": "2a2e18f3-4da2-493c-93bf-4912c8b0bced"
            },
            "attachments": {}
        },
        {
            "cell_type": "markdown",
            "source": [
                "# **Contents**\n",
                "\n",
                "- Executive Summary\n",
                "- Background Information\n",
                "- Database Design\n",
                "- Analysis of current business practices    \n",
                "- Conclusion\n",
                "- Citations"
            ],
            "metadata": {
                "azdata_cell_guid": "7c3b93ca-7408-44e1-8aa9-31ea136c01fd"
            },
            "attachments": {}
        },
        {
            "cell_type": "markdown",
            "source": [
                "**list เฉยๆคับ**\n",
                "\n",
                "- executive summary ยังจ้า\n",
                "    \n",
                "- background ifm organization and industry\n",
                "    \n",
                "- database design (ERD, bus rule, explaination) <mark>bus rule รอคุยกันต้องเพิ่มให้ครอบคลุม erdอยากพูดถึงตารางไหนอีกมั้ย</mark>\n",
                "    \n",
                "- 10 questions (Analysis: SQL statement, result tables, recommendations) <mark>ทำยุ อย่าลืมเอามาโยงกับผลลัพด้วย</mark>\n",
                "    \n",
                "- conclusion ยังจ้า\n",
                "    \n",
                "- reference เขียนตามที่จารแนะนำมา"
            ],
            "metadata": {
                "azdata_cell_guid": "60d5d65d-228e-4a65-9fcb-b1ffc4f325da"
            },
            "attachments": {}
        },
        {
            "cell_type": "markdown",
            "source": [
                "> recommendation ทั้งนี้ทั้งนั้นเพื่อนๆไปอ่านว่าโอเคมั้ยได้ อันไหนยังไม่ติ้กไปช่วยทำได้ อันไหนอยากแก้ แก้ได้\n",
                "- [x] Q1 ของไม่มีสั่ง *แตมกำลังจะทำ\n",
                "- [x] Q2 ของโดนส่งคืน \n",
                "- [ ] Q3 top 3 cat/product คิดไม่ออก\n",
                "- [ ] Q4 ช่องทางจ่ายเงิน น้อยสุด *รอresult ให้ชัว ไกด์การแนะนำให้ละ\n",
                "- [x] Q5 ไตรมาสไหน ปล่อยโปร \n",
                "- [ ] Q6 โควิด อธิบายแล้ว เหลือให้คำแนะนำแต่result ไม่รู้แปลผลไง\n",
                "- [x] Q7 basket size\n",
                "- [ ] Q8 สัดส่วนการใช้คะแนน *อธิบายเรียบร้อย รอresult มาใส่\n",
                "- [x] Q9 ช่วงเวลา กับ ยอดขาย\n",
                "- [x] Q10 จัดส่งสินค้าไปพื้นที่ไหนมาก"
            ],
            "metadata": {
                "azdata_cell_guid": "b32b8759-73c6-4dcb-99d2-693d7ae2d159"
            },
            "attachments": {}
        },
        {
            "cell_type": "markdown",
            "source": [
                "# **Executive Summary**\n",
                "## Overview\n",
                "\n",
                "IKEA เป็นบริษัทค้าปลีกเฟอร์นิเจอร์ระดับโลกที่ดำเนินธุรกิจในประเทศไทยมาเป็นเวลากว่า 10 ปี ในช่วงที่ผ่านมา IKEA ได้เติบโตอย่างรวดเร็วและประสบความสำเร็จเป็นอย่างมาก ความสำเร็จนี้ส่วนหนึ่งมาจากการใช้ข้อมูลอย่างมีประสิทธิภาพเพื่อสนับสนุน การตัดสินใจทางธุรกิจต่างๆ\n",
                "\n",
                "ปัญหา\n",
                "\n",
                "ข้อเสนอแนะที่ได้จากอันนิ\n",
                "\n",
                "เป้าหมาย\n",
                "\n",
                "and moreeeeeeeeeeeeee ?????????????????????????????????!!!!!!!"
            ],
            "metadata": {
                "azdata_cell_guid": "17022207-df2e-492b-be77-64e7a95b696c",
                "language": ""
            },
            "attachments": {}
        },
        {
            "cell_type": "markdown",
            "source": [
                "# **Background Information**\n",
                "\n",
                "## **About IKEA**\n",
                "\n",
                "IKEA เป็นบริษัทผลิตและจำหน่ายเฟอร์นิเจอร์ ของใช้ในบ้านสัญชาติสวีเดน ก่อตั้งขึ้นในปี ค.ศ. 1943 โดยเริ่มต้นจากการขายโต๊ะไม้ขนาดเล็กภายในครัว ก่อนจะเริ่มขยายไลน์สินค้าไปขาย เฟอร์นิเจอร์อื่นๆ            \n",
                "\n",
                "IKEA มีชื่อเสียงและเติบโตในสวีเดนอย่างรวดเร็ว จนสามารถขยายธุรกิจไปยังต่างประเทศได้ในปี ค.ศ. 1963 ปัจจุบันอิเกียมีมากกว่า 460 แห่ง กระจายอยู่ใน 60 กว่าประเทศทั่วโลกโดยอิเกียได้เริ่มเข้ามาทำธุรกิจครั้งแรกในประเทศไทยในปี ค.ศ. 2011 ที่อิเกียบางนา ปัจจุบัน IKEA ประเทศไทย มีทั้งหมด 4 สาขา ได้แก่ IKEA บางนา, IKEA บางใหญ่, IKEA ภูเก็ต และ IKEA สุขุมวิทที่จะเปิดให้บริการในช่วงเดือนธันวาคม ค.ศ. 2023\n",
                "\n",
                "สินค้าของ IKEA มีจุดเด่นคือ สินค้าคุณภาพดีในราคาย่อมเยา ดีไซน์เรียบง่ายแต่สวยงาม ใช้งานได้สะดวกและทนทาน ทั้งยังสามารถประกอบเองได้ไม่ยาก และไม่ต้องกังวลว่าการขนส่งจะทำให้สินค้าเสียหายจากการที่เลือกแพ็คในรูปแบบของกล่องแบน\n",
                "\n",
                "อีกทั้ง IKEA ยังมีแนวคิดในการออกแบบสินค้าที่เป็นมิตรกับสิ่งแวดล้อมโดยเลือกใช้วัสดุที่ยั่งยืนและสามารถรีไซเคิลได้ และมุ่งมั่นที่จะลดผลกระทบต่อสิ่งแวดล้อมในทุกขั้นตอนการผลิตและการจัดจำหน่ายสินค้า\n",
                "\n",
                "\n",
                "#### <u>วิสัยทัศน์ของ IKEA</u>\n",
                "\n",
                "**“การทำให้ชีวิตประจำวันของใครหลายคนดีขึ้น”**\n",
                "\n",
                "วิสัยทัศน์นี้ก้าวไปไกลกว่าการตกแต่งบ้าน เราต้องการให้เกิดผลดีต่อโลก ตั้งแต่ชุมชนที่เรานำวัตถุดิบมาใช้ ไปจนถึงวิธีที่ผลิตภัณฑ์ของเราจะช่วยให้ลูกค้าใช้ชีวิตได้อย่างยั่งยืนมากขึ้นที่บ้าน\n",
                "\n",
                "\n",
                "#### <u>แนวคิดทางธุรกิจของ IKEA</u>\n",
                "**“การนำเสนอผลิตภัณฑ์ตกแต่งบ้านหลากหลายแบบที่ออกแบบมาอย่างดี ใช้งานได้ดี ในราคาที่ถูก ที่คนจำนวนมากที่สุดจะสามารถซื้อได้”**\n",
                "\n",
                ""
            ],
            "metadata": {
                "azdata_cell_guid": "fbddbe53-6057-4642-bb9b-860b8dc70865"
            },
            "attachments": {}
        },
        {
            "cell_type": "markdown",
            "source": [
                "## **Furniture and Homeware Industry**\n",
                "\n",
                "IKEA **ถูกจัดอยู่ในอุตสาหกรรมประเภทเฟอร์นิเจอร์และของใช้ในบ้าน ซึ่งนับเป็นอุตสาหกรรมหนึ่งที่มีบทบาทสำคัญต่อเศรษฐกิจของประเทศไทย ทั้งในเรื่องของการส่งออกสินค้าและการเป็นแหล่งจ้างงาน** \n",
                "\n",
                "IKEA เข้ามามีบทบาทสำคัญในการปฏิวัติตลาดเฟอร์นิเจอร์ของไทย โดยได้เข้ามาสร้างแนวคิด เฟอร์นิเจอร์แบบ DIY (Do it Yourself) ให้กับผู้บริโภคไทยซึ่งช่วยให้ผู้บริโภคสามารถประหยัดค่าใช้จ่ายในการซื้อเฟอร์นิเจอร์ได้\n",
                "\n",
                "การเข้ามาของ IKEA ในประเทศไทย ส่งผลให้ตลาดเฟอร์นิเจอร์ของไทยมีการแข่งขันที่สูงขึ้น ผู้ประกอบการไทยบางรายหันมาผลิตเฟอร์นิเจอร์แบบ DIY เพื่อแข่งขันกับIKEA ในขณะที่ผู้ประกอบการรายอื่นหันมาเน้นการผลิตเฟอร์นิเจอร์ระดับพรีเมียม เพื่อตอบสนองความต้องการของผู้บริโภคที่ต้องการเฟอร์นิเจอร์คุณภาพสูง\n",
                "\n",
                "IKEA ได้รับความนิยมจากผู้บริโภคไทยเป็นอย่างมาก โดยในปี 2022 อีเกียมียอดขายในประเทศไทยกว่า 1.5 หมื่นล้านบาท คิดเป็นสัดส่วนกว่า 20% ของมูลค่าตลาดเฟอร์นิเจอร์ทั้งหมดของไทย อย่างไรก็ตาม IKEA ก็ยังมีคู่แข่งรายสำคัญจากแบรนด์ไทย เช่น Index Living Mall และ HomePro ซึ่งแบรนด์เหล่านี้มีจุดแข็งในด้านความใกล้ชิดกับผู้บริโภคไทย และความเข้าใจความต้องการของผู้บริโภคไทย\n",
                "\n",
                "<span style=\"background-color:transparent;color:rgb(31, 31, 31);font-family:Arial, sans-serif;font-size:12pt;white-space:pre-wrap;\"><br></span>"
            ],
            "metadata": {
                "azdata_cell_guid": "80db6d9a-77a2-4912-8ba0-ffb918227745"
            },
            "attachments": {}
        },
        {
            "cell_type": "markdown",
            "source": [
                "# **Database Design**"
            ],
            "metadata": {
                "azdata_cell_guid": "727cb851-6245-45f0-9e05-4e52ccbbd858"
            },
            "attachments": {}
        },
        {
            "cell_type": "markdown",
            "source": [
                "## **Our team assumption**\n",
                "\n",
                "- ธุรกิจ IKEAในครั้งนี้จะมุ่งเน้นเฉพาะส่วนเฟอร์นิเจอร์และของใช้ในบ้านและบริการบางอย่างเพียงเท่านั้น เช่น การส่งสินค้าและการรับคืนสินค้า\n",
                "    \n",
                "- IKEA Store และ IKEA Online จะใช้ฐานข้อมูลเดียวกัน\n",
                "    \n",
                "- IKEA ไม่มีระบบผ่อนชำระสินค้า โดยมีช่องทางการชำระเงิน  4 ทาง ได้แก่ เงินสด บัตรเครดิตหรือเดบิต(เฉพาะวีซ่าและมาสเตอร์การ์ด) และ พร้อมเพย์\n",
                "    \n",
                "- บัตรของขวัญ (Gift card) ที่ใช้สำหรับเป็นส่วนลดในการซื้อสินค้าของนั้น มีลักษณะเดียวกันกับบัตรกำนัล สามารถใช้ลดราคาสินค้าได้เพียงครั้งเดียวเท่านั้น โดยลูกค้าจะต้องซื้อสินค้าที่มียอดรวมไม่น้อยกว่ามูลค่าของบัตรของขวัญนั้น\n",
                "    \n",
                "- การรับประกันและประวัติการรับประกันของสินค้าแต่ละชิ้นจะแตกต่างกันไปตามประเภทและรุ่นของสินค้า\n",
                "    \n",
                "- สินค้าที่ถูกส่งคืนจะนำไปจำหน่ายในช่องทางอื่นหรือทำลายทิ้ง จะไม่นำกลับเข้าไปในสต็อกสินค้า \n",
                "    \n",
                "- IKEA ปัจจุบันมีโปรโมชั่นเพียง 2 รูปแบบ ดังนี้ การลดราคาเป็นเปอร์เซ็นต์จากยอดขายสุทธิ และ การให้โบนัสคะแนนคูณจากคะแนนปกติ\n",
                "    \n",
                "- IKEA Store เปิดให้บริการทุกวัน ตั้งแต่เวลา 10.00 น. ถึง 21.00 น.\n",
                "    \n",
                "\n",
                "and more"
            ],
            "metadata": {
                "azdata_cell_guid": "4938929d-f0d8-4d23-93a3-8933153ef467"
            },
            "attachments": {}
        },
        {
            "cell_type": "markdown",
            "source": [
                "## **Business Rule**\n",
                "\n",
                "- คะแนน IKEA Family คำนวณจากยอดขายสุทธิของคำสั่งซื้อ โดยจะได้รับคะแนน 1 คะแนนต่อการสั่งซื้อ 1 บาท\n",
                "    \n",
                "- มาชิก IKEA Family สามารถแลกคะแนนสะสมเป็นส่วนลดสินค้าได้ โดยทุกๆ 100 คะแนน ใช้เป็นส่วนลดได้ 1 บาท โดยสามารถใช้แลกเป็นส่วนลดในการซื้อสินค้าได้ทั้งที่สาขาและช่องทางออนไลน์ของ IKEA\n",
                "\n",
                "<mark>โน้ตครับ </mark>ไม่ได้มีขั้นต่ำการแลกคะแนน? แค่เเนะนำว่า 10000 คะแนน(100บาท) + แลกขั้นต่ำคือ 100ป้ะ ห้ามเป็นทศนิยม\n",
                "\n",
                "- คะแนนจะเพิ่มเข้าบัญชีสมาชิกโดยอัตโนมัติ หลังจากสถานะการสั่งซื้อ (OrderStatus) เปลี่ยนเป็น \"เสร็จสมบูรณ์\" ไม่มีการยกเลิกคำสั่งซื้อ<mark> ***</mark>\n",
                "    \n",
                "- เพื่อให้ลูกค้าสามารถสั่งซื้อสินค้าผ่านทางช่องทางออนไลน์ได้ ลูกค้าจะต้องสมัครเป็นสมาชิก IKEA Family ก่อน</span>\n",
                "    \n",
                "- การสั่งซื้อสินค้าผ่านช่องทางออนไลน์ ลูกค้าสามารถเลือกวิธีการรับสินค้าได้ 2 ช่องทาง ได้แก่ การจัดส่งสินค้าไปยังที่อยู่ที่ระบุไว้ หรือ การมารับสินค้าด้วยตัวเองที่สาขา</span>"
            ],
            "metadata": {
                "azdata_cell_guid": "e4933d64-ad51-4a78-95f1-c4764be05b89"
            },
            "attachments": {}
        },
        {
            "cell_type": "markdown",
            "source": [
                "แปะตัว erd!!"
            ],
            "metadata": {
                "azdata_cell_guid": "ebef0035-9281-437f-af94-4d5084c0c1e7"
            },
            "attachments": {}
        },
        {
            "cell_type": "markdown",
            "source": [
                "ใส่ pgerd file !!"
            ],
            "metadata": {
                "azdata_cell_guid": "aed67a05-b2c7-4237-9bc4-02ba48ba0df4"
            },
            "attachments": {}
        },
        {
            "cell_type": "markdown",
            "source": [
                "## มีตารางไหนอยากอธิบายอีกมะ เพิ่ม/บอกได้ จะใส่รูปในการอธิบายแต่ละตารางด้วยมั้ย"
            ],
            "metadata": {
                "azdata_cell_guid": "da9eb9e4-29cd-4c60-8c26-1878f3881dcf"
            },
            "attachments": {}
        },
        {
            "cell_type": "markdown",
            "source": [
                "#### <u>**Category & Subcategory**</u>\n",
                "\n",
                "เนื่องจาก IKEA แยกสินค้าเป็นหลายหมวดหมู่และมีหมวดหมู่ย่อยแตกออกมาเป็นจำนวนมาก เพื่ออำนวยความสะดวกให้ลูกค้าสามารถหาสินค้าได้ง่ายขึ้น รวมถึงทำให้อิเกียสามารถเก็บข้อมูลสินค้าได้ละเอียดมากขึ้น ซึ่งสามารถนำข้อมูลเหล่านี้ใช้ในการทำการตลาด การพัฒนาสินค้าใหม่ และการวิเคราะห์ข้อมูลการขายได้อย่างมีประสิทธิภาพมากขึ้น\n",
                "\n",
                "\n",
                "\n",
                "โดย… อธิบายเรื่อง subcat อาจจะยกตัวอย่างสินค้านึงในข้อมูลมาช่วยอธิบาย <mark>ช่วยด้วยครับผมยังไม่เข้าใจขนาดนั้น</mark>"
            ],
            "metadata": {
                "azdata_cell_guid": "cf05d934-f4d6-4454-ace7-b0efc5420eab"
            },
            "attachments": {}
        },
        {
            "cell_type": "markdown",
            "source": [
                "![](catsubcaterd.png)"
            ],
            "metadata": {
                "azdata_cell_guid": "de37e902-a8ee-4239-a8f4-16bec9b24c43"
            },
            "attachments": {}
        },
        {
            "cell_type": "markdown",
            "source": [
                "![](descrcat.jpeg)"
            ],
            "metadata": {
                "azdata_cell_guid": "8afccd20-9f3f-42c0-8b22-8d49f426b214"
            },
            "attachments": {}
        },
        {
            "cell_type": "markdown",
            "source": [
                "#### <u>**Order**</u>\n",
                "\n",
                "- ใช้เก็บข้อมูลของรายละเอียดคำสั่งซื้อแต่ละรายการ โดยข้อมูลหลักที่เก็บ ได้แก่\n",
                "    * วันและเวลาของคำสั่งซื้อ\n",
                "    * รูปแบบการสั่งซื้อ\n",
                "    * รูปแบบการชำระเงิน\n",
                "\n",
                "- ส่วนข้อมูลเสริมที่สามารถเก็บเป็นค่าว่างได้ ได้แก่\n",
                "    * รหัสพนักงานที่รับคำสั่งซื้อสำหรับการสั่งซื้อสินค้าที่สาขา\n",
                "    * วิธีการขนส่งสำหรับการสั่งซื้อผ่านรูปแบบออนไลน์\n",
                "    * ที่อยู่ของผู้สั่งสินค้าสำหรับการสั่งซื้อผ่านรูปแบบออนไลน์\n",
                "    * รหัสสมาชิกสำหรับการสั่งซื้อสินค้าที่สาขา\n",
                "    * รหัสโปรโมชั่นที่ใช้ หากมีการใช้โปรโมชั่นในคำสั่งซื้อ\n",
                "    * การใช้บัตรของขวัญเป็นส่วนลด"
            ],
            "metadata": {
                "azdata_cell_guid": "e71bc27f-5f0b-4c07-b2b6-2bd259f24bcb"
            },
            "attachments": {}
        },
        {
            "cell_type": "markdown",
            "source": [
                "#### <u>**OrderStatus**</u>\n",
                "\n",
                "- เป็นตารางเชื่อมระหว่างตาราง Order และ Status ทำหน้าที่เก็บสถานะของแต่ละคำสั่งซื้อในช่วงเวลาหนึ่ง \n",
                "- โดยจำเป็นต้องเก็บข้อมูลทั้งรหัสคำสั่งซื้อ (order\\_id) รหัสสถานะ (status\\_id) และเวลาของสถานะนั้น (timestamp) ไม่สามารถปล่อยให้เป็นค่าว่างได้"
            ],
            "metadata": {
                "azdata_cell_guid": "46d8a90c-c2b4-4c42-b530-28dd5720002c"
            },
            "attachments": {}
        },
        {
            "cell_type": "markdown",
            "source": [
                "#### <u>**Product_Order** </u>\n",
                "\n",
                "- ใช้เก็บข้อมูลสินค้าและจำนวนสินค้าในคำสั่งซื้อ\n",
                "- มีการเก็บรหัสคลังสินค้าและสาขา (wb_id) เพื่อเชื่อมกับตาราง WarehouseBranch สำหรับการดูว่าสินค้ามาจากสาขาไหนและคลังสินค้าไหน\n",
                "- มีการเชื่อมกับตาราง Product_order_return สำหรับการส่งคืนสินค้าที่ลูกค้าอาจจะส่งกลับเพียงสินค้าแค่บางชิ้นในคำสั่งซื้อ\n"
            ],
            "metadata": {
                "azdata_cell_guid": "b02fbf22-faba-4170-9324-623dfec5df4f"
            },
            "attachments": {}
        },
        {
            "cell_type": "markdown",
            "source": [
                "#### <u>**Promotion  <mark>ช่วยเขียนหน่อยครับ แตมไม่ชัวอ่า</mark>**</u>\n",
                "\n",
                "\\- ต้องบันทึก startdate enddate\n",
                "\n",
                "<span style=\"font-size: 11pt; font-family: Arial, sans-serif; color: rgb(0, 0, 0); background-color: transparent; font-variant-numeric: normal; font-variant-east-asian: normal; vertical-align: baseline; white-space: pre-wrap;\">- Promotion parameter เป็นnull ได้ เพราะโปรโมชั่นอีเกียตามสมมติฐานเรามีสองรูปแบบคือลดราคากับ เพิ่มพ้อย ซื่งถ้าเปนากรเพิ่มพ้อย? ก้ไม่ต้องเกบค่านี้?????</span>"
            ],
            "metadata": {
                "azdata_cell_guid": "bd7e3661-1e67-4ca6-b29b-5ffafea9df3a"
            },
            "attachments": {}
        },
        {
            "cell_type": "markdown",
            "source": [
                "#### <u>**PriceHistory**</u> \n",
                "\n",
                "- ใช้เก็บข้อมูลราคาสินค้าในแต่ละช่วงเวลา\n",
                "- รหัสสินค้า (product_id) จากตาราง Product เป็นคีย์หลักร่วมกับวันที่มีผลบังคับใช้ (start_date)\n",
                "- การเก็บข้อมูลวันสิ้นสุดราคา (end_date) ไม่บังคับให้ใส่ค่า เนื่องจากราคาอาจใช้ต่อเนื่องไปได้เรื่อยๆ"
            ],
            "metadata": {
                "azdata_cell_guid": "8ae3e720-c58a-4008-b76a-9218c46e8e4f"
            },
            "attachments": {}
        },
        {
            "cell_type": "markdown",
            "source": [
                "#### <u>**Warranty**</u>\n",
                "\n",
                "- ใช้เก็บข้อมูลระยะเวลาการรับประกันของแต่ละสินค้า โดยจะเก็บระยะเวลาอยู่ในรูปแบบเดือน\n",
                "\n",
                "- ในการเก็บข้อมูล จำเป็นจะต้องใช้ รหัสประกัน(warranty_id) และ รหัสสินค้า(product_id) เป็นคีย์หลักร่วมกัน เนื่องจากประกัน 1 รูปแบบ สามารถครอบคลุมสินค้าหลายชิ้นได้ เช่น กรณีที่สินค้าเป็นประเภทเดียวกัน <mark>**แตมเข้าใจถูกป้ะ รอเชค</mark>"
            ],
            "metadata": {
                "azdata_cell_guid": "565dc9a5-1aca-4fa4-bf3a-362e3848de07"
            },
            "attachments": {}
        },
        {
            "cell_type": "markdown",
            "source": [
                "#### <u>**WarrantyRecord**</u>\n",
                "\n",
                "- ใช้เก็บข้อมูลสินค้าที่ถูกนำมาใช้ประกัน\n",
                "\n",
                "- ข้อมูลที่เก็บมีดังนี้ \n",
                "    * รหัสรายการการใช้ประกัน (warranty_record_id) ซึ่งเป็นคีย์หลัก\n",
                "    * รหัสคำสั่งซื้อ (order_id)\n",
                "    * รหัสสินค้า (product_id)\n",
                "    * วันที่และเวลาที่นำมาใช้ประกัน\n",
                "\n",
                "    โดยข้อมูลแต่ละตัวไม่สามารถปล่อยให้เป็นค่าว่างได้ เนื่องจากต้องมีการบันทึกข้อมูลการช้ประกันที่ถูกต้องและครบถ้วน\n",
                "\n",
                "    \n",
                ""
            ],
            "metadata": {
                "azdata_cell_guid": "bf5218d2-4dd7-44b1-bd61-8aa00550e09c"
            },
            "attachments": {}
        },
        {
            "cell_type": "markdown",
            "source": [
                "#### <u>Employee</u>\n",
                "\n",
                "- ใช้เก็บข้อมูลที่เกี่ยวข้องกับพนักงานของ IKEA \n",
                "    \n",
                "- ข้อมูลที่เก็บมีดังนี้\n",
                "    \n",
                "    * ข้อมูลทั่วไปของพนักงาน เช่น ชื่อ นามสกุล ที่อยู่\n",
                "    \n",
                "    * ข้อมูลตำแหน่งของพนักงาน โดยระบุรหัสตำแหน่ง (position\\_id) ซึ่งเชื่อมโยงกับตาราง Position\n",
                "    \n",
                "    * บันทึกสาขาที่พนักงานประจำอยู่ โดยระบุรหัสสาขา (branch\\_id) ซึ่งเชื่อมโยงกับตารางBranch \n",
                "    \n",
                "        ทั้งนี้คอลัมน์นี้กำหนดให้สามารถว่างได้ เนื่องจากพนักงานใหม่อาจจะยังไม่ได้ถูกกำหนดสาขาประจำของตัวเอง และมีพนักงานที่ทำงานในส่วนกลาง ซึ่งจะไม่ปฏิบัติงานให้กับสาขาใดสาขาหนึ่ง เช่น พนักงานบัญชี หรือ พนักงานที่ดูแลในส่วนของเว็บไซต์ IKEA Thailand"
            ],
            "metadata": {
                "azdata_cell_guid": "569ca57f-35d4-4d5e-bd36-7fd83ec522db"
            },
            "attachments": {}
        },
        {
            "cell_type": "markdown",
            "source": [
                "  #### <u>**MemberAddress**</u>\n",
                "\n",
                "- ตารางนี้ใช้เชื่อมระหว่างตาราง Member และ Address เพื่อเก็บข้อมูลที่อยู่ของลูกค้า            \n",
                "- ลูกค้าหลายคนสามารถใช้ที่อยู่เดียวกันได้ และลูกค้าหนึ่งคนสามารถมีที่อยู่ได้หลายแห่ง\n",
                "- มีคอลัมน์ isDefault เพื่อระบุที่อยู่หลักของลูกค้า หากลูกค้ามีที่อยู่หลายแห่งและไม่ได้ระบุเลือกที่อยู่มาในคำสั่งซื้อ จะใช้ที่อยู่หลักนี้แทน"
            ],
            "metadata": {
                "azdata_cell_guid": "2f5c60dc-283d-44e9-979e-2a17c33eef3e"
            },
            "attachments": {}
        },
        {
            "cell_type": "markdown",
            "source": [
                "#### <u>**PointLog**</u>\n",
                "\n",
                "- เป็นตารางสำหรับเก็บการเคลื่อนไหวของคะแนนของสมาชิก IKEA\n",
                "- เนื่องจาก IKEA เป็นบริษัทขนาดใหญ่ที่มีจำนวน transaction เยอะ การจะคำนวณคะแนนที่เหลือจากการเชื่อมหลาย ๆ ตารางเข้าด้วยกันจะใช้ทรัพยากรค่อนข้างสูง จึงเกิดเป็นตารางเฉพาะนี้ขึ้นมา แม้อาจไม่ถูกหลักของ \"Third Normal Form\""
            ],
            "metadata": {
                "azdata_cell_guid": "af5d24e4-3f99-4bb8-8bad-d971fa26003c"
            },
            "attachments": {}
        },
        {
            "cell_type": "markdown",
            "source": [
                "#### <u>Warehouse</u>\n",
                "\n",
                "- ตัวคลังสินค้าจะมีความสัมพันธ์กับสาขา แบบ Many-to-many แบบที่คลังสินค้าหนึ่งคลังสามารถส่งสินค้าให้ได้หลายสาขาและสาขาหนึ่งสาขาสามารถนำสินค้ามาได้จากหลายคลัง โดยจะเชื่อมกันด้วยตาราง WarehouseBranch ซึ่งเป็นตารางเชื่อมต่อ (Junction table)\n",
                "    \n",
                "- คลังสินค้าจะมีส่วนเกี่ยวข้องกับเรื่องสต็อกสินค้าในการบันทึกสินค้าที่มีคงเหลือในคลัง โดยจะมีตาราง Stock เป็นตารางเชื่อมต่อซึ่งดึงข้อมูลมาจากตาราง Warehouse และ Product"
            ],
            "metadata": {
                "azdata_cell_guid": "1b4bf945-403e-45a8-9c87-93b9377695e3"
            },
            "attachments": {}
        },
        {
            "cell_type": "markdown",
            "source": [
                "# **Analysis of current business practices** \n",
                "## **10 Related-Business Questions**"
            ],
            "metadata": {
                "azdata_cell_guid": "885574ea-6db3-46db-a7fc-6d1bf119dced"
            },
            "attachments": {}
        },
        {
            "cell_type": "markdown",
            "source": [
                "> ### **Q1:** สินค้ารายการไหนที่ไม่มีการสั่งซื้อเลย</span>"
            ],
            "metadata": {
                "azdata_cell_guid": "99a6ac89-9bd3-45b3-8f76-479224f89681"
            },
            "attachments": {}
        },
        {
            "cell_type": "code",
            "source": [
                "SELECT DISTINCT p.product_id \"Product ID\",\n",
                "    p.product_name_eng \"Product Name\"\n",
                "FROM public.\"Product\" p\n",
                "WHERE p.product_id NOT IN (\n",
                "    SELECT DISTINCT po.product_id\n",
                "    FROM public.\"ProductOrder\" po\n",
                ");"
            ],
            "metadata": {
                "azdata_cell_guid": "ef6c02f3-e883-498c-a966-20936a81efb9",
                "language": "sql"
            },
            "outputs": [
                {
                    "output_type": "display_data",
                    "data": {
                        "text/html": "(28 row(s) affected)"
                    },
                    "metadata": {}
                },
                {
                    "output_type": "display_data",
                    "data": {
                        "text/html": "Total execution time: 00:00:00.004"
                    },
                    "metadata": {}
                },
                {
                    "output_type": "execute_result",
                    "execution_count": 30,
                    "data": {
                        "application/vnd.dataresource+json": {
                            "schema": {
                                "fields": [
                                    {
                                        "name": "product_id"
                                    },
                                    {
                                        "name": "product_name_eng"
                                    }
                                ]
                            },
                            "data": [
                                {
                                    "product_id": "P000000958",
                                    "product_name_eng": "Tupplur Block-out Blind"
                                },
                                {
                                    "product_id": "P000000658",
                                    "product_name_eng": "RABBALSHOK Cable Clip"
                                },
                                {
                                    "product_id": "P000001392",
                                    "product_name_eng": "Hemnist Dish Drainer"
                                },
                                {
                                    "product_id": "P000000695",
                                    "product_name_eng": "LINGO Acoustic Panel"
                                },
                                {
                                    "product_id": "P000001532",
                                    "product_name_eng": "Lyndal Table Lamp"
                                },
                                {
                                    "product_id": "P000001041",
                                    "product_name_eng": "Grundtal Laundry"
                                },
                                {
                                    "product_id": "P000000774",
                                    "product_name_eng": "Malm Drawer Unit"
                                },
                                {
                                    "product_id": "P000001077",
                                    "product_name_eng": "Hemnes Cabinet"
                                },
                                {
                                    "product_id": "P000001463",
                                    "product_name_eng": "Mosslanda Picture Ledge"
                                },
                                {
                                    "product_id": "P000000271",
                                    "product_name_eng": "TILLAGAD Kitchen Faucet with Sensor"
                                },
                                {
                                    "product_id": "P000001605",
                                    "product_name_eng": "Leksvik Changing Table"
                                },
                                {
                                    "product_id": "P000000674",
                                    "product_name_eng": "KVARNVIK Storage Box"
                                },
                                {
                                    "product_id": "P000001341",
                                    "product_name_eng": "Isberget Tray"
                                },
                                {
                                    "product_id": "P000000439",
                                    "product_name_eng": "KOPARDAL Storage Box"
                                },
                                {
                                    "product_id": "P000000033",
                                    "product_name_eng": "FALSTER Storage Table Stool"
                                },
                                {
                                    "product_id": "P000000257",
                                    "product_name_eng": "BOHOLMEN Double Bowl Sink"
                                },
                                {
                                    "product_id": "P000000482",
                                    "product_name_eng": "HALLVIKEN Sink"
                                },
                                {
                                    "product_id": "P000001231",
                                    "product_name_eng": "Sandskar Outdoor Dining"
                                },
                                {
                                    "product_id": "P000001831",
                                    "product_name_eng": "BOAXEL Wire Basket"
                                },
                                {
                                    "product_id": "P000000589",
                                    "product_name_eng": "GRUNDTAL Hanger"
                                },
                                {
                                    "product_id": "P000001122",
                                    "product_name_eng": "Snalis Desk Organizer"
                                },
                                {
                                    "product_id": "P000000301",
                                    "product_name_eng": "MALA Chalkboard"
                                },
                                {
                                    "product_id": "P000001222",
                                    "product_name_eng": "Sinnerlig Bench"
                                },
                                {
                                    "product_id": "P000001675",
                                    "product_name_eng": "Pihkala Gazebo"
                                },
                                {
                                    "product_id": "P000000063",
                                    "product_name_eng": "Stretch Wrap Roll"
                                },
                                {
                                    "product_id": "P000001797",
                                    "product_name_eng": "Sofie Fabric"
                                },
                                {
                                    "product_id": "P000001145",
                                    "product_name_eng": "Upptacka Backpack"
                                },
                                {
                                    "product_id": "P000000068",
                                    "product_name_eng": "Moving Labels"
                                }
                            ]
                        },
                        "text/html": "<table><tr><th>product_id</th><th>product_name_eng</th></tr><tr><td>P000000958</td><td>Tupplur Block-out Blind</td></tr><tr><td>P000000658</td><td>RABBALSHOK Cable Clip</td></tr><tr><td>P000001392</td><td>Hemnist Dish Drainer</td></tr><tr><td>P000000695</td><td>LINGO Acoustic Panel</td></tr><tr><td>P000001532</td><td>Lyndal Table Lamp</td></tr><tr><td>P000001041</td><td>Grundtal Laundry</td></tr><tr><td>P000000774</td><td>Malm Drawer Unit</td></tr><tr><td>P000001077</td><td>Hemnes Cabinet</td></tr><tr><td>P000001463</td><td>Mosslanda Picture Ledge</td></tr><tr><td>P000000271</td><td>TILLAGAD Kitchen Faucet with Sensor</td></tr><tr><td>P000001605</td><td>Leksvik Changing Table</td></tr><tr><td>P000000674</td><td>KVARNVIK Storage Box</td></tr><tr><td>P000001341</td><td>Isberget Tray</td></tr><tr><td>P000000439</td><td>KOPARDAL Storage Box</td></tr><tr><td>P000000033</td><td>FALSTER Storage Table Stool</td></tr><tr><td>P000000257</td><td>BOHOLMEN Double Bowl Sink</td></tr><tr><td>P000000482</td><td>HALLVIKEN Sink</td></tr><tr><td>P000001231</td><td>Sandskar Outdoor Dining</td></tr><tr><td>P000001831</td><td>BOAXEL Wire Basket</td></tr><tr><td>P000000589</td><td>GRUNDTAL Hanger</td></tr><tr><td>P000001122</td><td>Snalis Desk Organizer</td></tr><tr><td>P000000301</td><td>MALA Chalkboard</td></tr><tr><td>P000001222</td><td>Sinnerlig Bench</td></tr><tr><td>P000001675</td><td>Pihkala Gazebo</td></tr><tr><td>P000000063</td><td>Stretch Wrap Roll</td></tr><tr><td>P000001797</td><td>Sofie Fabric</td></tr><tr><td>P000001145</td><td>Upptacka Backpack</td></tr><tr><td>P000000068</td><td>Moving Labels</td></tr></table>"
                    },
                    "metadata": {}
                }
            ],
            "execution_count": 30
        },
        {
            "cell_type": "markdown",
            "source": [
                "**<u>Explanation:</u>**\n",
                "\n",
                "ข้อมูลที่ได้สามารถนำมาใช้ ดังนี้\n",
                "\n",
                "- การนำข้อมูลมาใช้เพื่อพิจารณาการถอดหรือยกเลิกสินค้า เนื่องจากสินค้าเหล่านี้เป็นสินค้าที่มีความต้องการต่ำหรือไม่มีความต้องการเลย ซึ่งอาจส่งผลเสียต่อต้นทุนและค่าใช้จ่ายอื่นๆ ที่เกี่ยวข้อง\n",
                "    \n",
                "- นำไปวิเคราะห์หาสาเหตุต่อว่าทำไมสินค้าเหล่านี้ถึงไม่มีการสั่งซื้อเลย ซึ่งอาจเกิดจากปัจจัยต่างๆ เช่น ความต้องการสินค้าไม่ตรงกับความต้องการของผู้บริโภค สินค้ามีราคาสูงเกินไป สินค้ามีคู่แข่งจำนวนมาก หรือสินค้ามีจุดด้อยในด้านคุณภาพหรือบริการ เป็นต้น\n",
                "    \n",
                "- พิจารณาเพื่อหาแนวทางในการเพิ่มยอดขายสินค้าเหล่านี้ เช่น การใช้โปรโมชั่นเพื่อกระตุ้นยอดขาย การลงทุนกับการตลาดเพื่อเพิ่มการรับรู้และการเข้าถึงสินค้า หรือการปรับปรุงพัฒนาสินค้าให้ตรงกับความต้องการของผู้บริโภค เป็นต้น\n",
                "    \n",
                "\n",
                "**<u>Recomendation:</u>**\n",
                "\n",
                "จากผลลัพธ์ที่ได้ มีสินค้าทั้งหมด 28 รายการที่ไม่เคยถูกซื้อเลย\n",
                "\n",
                "IKEA สามารถพิจารณายกเลิกการขายสินค้าเหล่านี้ได้ หรือ หาแนวทางในการเพิ่มยอดขายหากสินค้ายังมีโอกาสสร้างรายได้ให้กับ IKEA\n",
                "\n",
                "ตัวอย่างการใช้\n",
                "\n",
                "สินค้า Leksvik Changing Table ในแถวที่ 11 ของตารางผลลัพธ์ ซึ่งเป็นโต๊ะเปลี่ยนผ้าอ้อมเด็ก มีลิ้นชักด้านล่าง ราคา 9,430 บาท\n",
                "\n",
                "IKEA อาจพิจารณายกเลิกการขายสินค้ารายการนี้ เนื่องจากเหตุผลดังต่อไปนี้\n",
                "\n",
                "- สินค้ามีอายุการใช้งานสั้น โต๊ะเมื่อเด็กโตขึ้นก็จะเลิกใช้โต๊ะตัวนี้ไป\n",
                "    \n",
                "- สินค้าราคาสูง และ มีตัวเลือกอื่นๆ ทดแทน ไม่ว่าจะเป็นโต๊ะเปลี่ยนผ้าอ้อมเด็กสำเร็จรูป หรือโต๊ะเปลี่ยนผ้าอ้อมเด็กแบบ DIY ซึ่งราคาย่อมเยากว่าและสามารถใช้งานได้หลากหลาย\n",
                "    \n",
                "- สินค้าไม่ใ่ช่สินค้าชิ้นเล็ก ต้องการพื้นที่ในการเก็บระดับนึง ซึ่งอาจทำให้เสียพื้นที่ในการจัดเก็บสินค้าอื่นๆ ที่มีความต้องการมากกว่า และเพิ่มต้นทุนในการจัดเก็บและรักษา"
            ],
            "metadata": {
                "azdata_cell_guid": "7329bc51-0444-49ed-903e-0dd81aabbc94",
                "language": "sql"
            },
            "attachments": {}
        },
        {
            "cell_type": "markdown",
            "source": [
                "> ### **Q2:** 10 รายการสินค้าที่ถูกลูกค้าส่งคืนมากที่สุด เมื่อสินค้านั้นถูกสั่งผ่านรูปแบบออนไลน์ โดยเรียงจากสินค้าที่ถูกส่งคืนมากที่สุดขึ้นก่อน"
            ],
            "metadata": {
                "azdata_cell_guid": "36cf30fa-a5ff-4bc5-858e-b96c67246136"
            },
            "attachments": {}
        },
        {
            "cell_type": "code",
            "source": [
                "SELECT p.product_name_eng \"Product Name\",\n",
                "    SUM(po.qty) \"Quantity Returned\"\n",
                "FROM public.\"ProductOrderReturn\" por\n",
                "JOIN public.\"ProductOrder\" po ON por.\"product_order_id\" = po.\"Product_Order_id\"\n",
                "JOIN public.\"Order\" o ON o.\"order_id\" = po.\"order_id\"\n",
                "JOIN public.\"Product\" p ON p.\"product_id\" = po.\"product_id\"\n",
                "WHERE o.order_type_id = '02' -- Online\n",
                "GROUP BY o.order_type_id, \"Product Name\"\n",
                "ORDER BY SUM(po.qty)\n",
                "FETCH FIRST 10 ROW ONLY;"
            ],
            "metadata": {
                "azdata_cell_guid": "b681567f-abec-4e82-956d-af71a169b70a",
                "language": "sql"
            },
            "outputs": [
                {
                    "output_type": "display_data",
                    "data": {
                        "text/html": "(10 row(s) affected)"
                    },
                    "metadata": {}
                },
                {
                    "output_type": "display_data",
                    "data": {
                        "text/html": "Total execution time: 00:00:00.004"
                    },
                    "metadata": {}
                },
                {
                    "output_type": "execute_result",
                    "execution_count": 31,
                    "data": {
                        "application/vnd.dataresource+json": {
                            "schema": {
                                "fields": [
                                    {
                                        "name": "Product Name (Eng)"
                                    },
                                    {
                                        "name": "Quantity Returned"
                                    }
                                ]
                            },
                            "data": [
                                {
                                    "Product Name (Eng)": "Matalag Microwave Oven",
                                    "Quantity Returned": "1"
                                },
                                {
                                    "Product Name (Eng)": "Oktagon Quilt",
                                    "Quantity Returned": "1"
                                },
                                {
                                    "Product Name (Eng)": "Kornet Down & Feather Pillow",
                                    "Quantity Returned": "1"
                                },
                                {
                                    "Product Name (Eng)": "Mammut Children's Wardrobe",
                                    "Quantity Returned": "1"
                                },
                                {
                                    "Product Name (Eng)": "DRAG Throw",
                                    "Quantity Returned": "1"
                                },
                                {
                                    "Product Name (Eng)": "NYPLOCKAD LED Work Lamp",
                                    "Quantity Returned": "1"
                                },
                                {
                                    "Product Name (Eng)": "Inlagd Pillow",
                                    "Quantity Returned": "1"
                                },
                                {
                                    "Product Name (Eng)": "EKBACKEN Wall Panel",
                                    "Quantity Returned": "1"
                                },
                                {
                                    "Product Name (Eng)": "FJALLBO Storage Combination",
                                    "Quantity Returned": "1"
                                },
                                {
                                    "Product Name (Eng)": "RENODLIG Fridge",
                                    "Quantity Returned": "1"
                                }
                            ]
                        },
                        "text/html": "<table><tr><th>Product Name (Eng)</th><th>Quantity Returned</th></tr><tr><td>Matalag Microwave Oven</td><td>1</td></tr><tr><td>Oktagon Quilt</td><td>1</td></tr><tr><td>Kornet Down &amp; Feather Pillow</td><td>1</td></tr><tr><td>Mammut Children&#39;s Wardrobe</td><td>1</td></tr><tr><td>DRAG Throw</td><td>1</td></tr><tr><td>NYPLOCKAD LED Work Lamp</td><td>1</td></tr><tr><td>Inlagd Pillow</td><td>1</td></tr><tr><td>EKBACKEN Wall Panel</td><td>1</td></tr><tr><td>FJALLBO Storage Combination</td><td>1</td></tr><tr><td>RENODLIG Fridge</td><td>1</td></tr></table>"
                    },
                    "metadata": {}
                }
            ],
            "execution_count": 31
        },
        {
            "cell_type": "markdown",
            "source": [
                "**<u>Explanation:</u>** \n",
                "\n",
                "ในการสั่งซื้อสินค้าผ่านรูปแบบออนไลน์ มีปัจจัยที่ทำให้ลูกค้าสามารถขอคืนสินค้าได้มากกว่าการเลือกซื้อสินค้าด้วยตัวเองที่สาขา เช่น สินค้าไม่เป็นไปตามลักษณะที่ลูกค้าคาดหวังจากการที่ไม่ได้เห็นสินค้าจริงมาก่อน สินค้าที่ได้รับไม่ตรงตามที่สั่ง หรือ สินค้าชำรุดเสียหาย\n",
                "\n",
                "ในการเขียนชุดคำสั่งในครั้งนี้เพื่อที่เราจะนำสินค้าทั้ง 10 อันดับที่ถูกส่งคืนมากที่สุดมาพิจารณาต่ออย่างละเอียด เพื่อหาสาเหตุของการส่งคืน จากนั้นจึงหาแนวทางการปรับปรุงและพัฒนาสินค้า บริการ และการดำเนินงานให้ดีขึ้น\n",
                "\n",
                "<u>**Recomendation:**</u>\n",
                "\n",
                "จากผลลัพธ์ จะทำให้เรารู้รายการสินค้าต่างๆที่ถูกส่งคืน เมื่อซื้อผ่านทางช่องทางออนไลน์\n",
                "\n",
                "เมื่อเข้าไปดูรายละเอียดเพิ่มเติม สินค้าที่ถูกส่งคืนมีสาเหตุหลัก 3 ประการ ได้แก่\n",
                "\n",
                "1. สินค้ามีตำหนิ เสียหาย\n",
                "2. สินค้าได้รับความเสียหายจากการขนส่ง\n",
                "3. ลูกค้าไม่พึงพอใจในตัวสินค้า\n",
                "\n",
                "ตัวอย่างการดำเนินงาน ที่ IKEA สามารถทำได้เพื่อปรับปรุง\n",
                "\n",
                "- ปรับปรุงข้อมูลสินค้า โดยให้ข้อมูลสินค้าครบถ้วนและชัดเจน รวมถึงภาพหรือวิดีโอสินค้าที่เป็นปัจจุบันและตรงกับสินค้าจริง เพื่อให้ลูกค้าเข้าใจข้อมูลสินค้าได้อย่างถูกต้องและเลือกซื้อสินค้าได้อย่างตรงตามความต้องการ\n",
                "    \n",
                "- ปรับปรุงบรรจุภัณฑ์สินค้า โดยเลือกใช้บรรจุภัณฑ์ที่แข็งแรงและทนทาน ออกแบบบรรจุภัณฑ์ให้สามารถรองรับการกระแทกและแรงกดทับได้ดี รวมถึงระบุสัญลักษณ์หรือฉลากบนบรรจุภัณฑ์อย่างชัดเจน เพื่อให้พนักงานขนส่งสามารถจัดวางและเคลื่อนย้ายสินค้าได้อย่างเหมาะสม\n",
                "    \n",
                "- ปรับปรุงกระบวนการขนส่ง โดยฝึกอบรมพนักงานขับรถขนส่งให้ขับรถอย่างระมัดระวังและรอบคอบ หลีกเลี่ยงการชนหรือกระแทกสินค้า รวมถึงกำหนดเส้นทางการขนส่งที่ปลอดภัยและเหมาะสม"
            ],
            "metadata": {
                "azdata_cell_guid": "149f1442-e0cd-4cd5-85d2-9700c8bb5d38",
                "language": "sql"
            },
            "attachments": {}
        },
        {
            "cell_type": "markdown",
            "source": [
                "> ### **Q3**: สินค้าหมวดหมู่ใดที่ครองยอดขายสูงสุด 3 อันดับ และสินค้าตัวไหนในหมวดหมู่นั้นที่ครองยอดขายสูงสุด 3 อันดับ โดยเรียงลำดับจากมากไปน้อย"
            ],
            "metadata": {
                "azdata_cell_guid": "e8d95399-9932-4917-832d-22f524641b6a",
                "language": "sql"
            },
            "attachments": {}
        },
        {
            "cell_type": "code",
            "source": [
                "WITH parentCat AS (\n",
                "    SELECT p.product_id,\n",
                "        p.product_name_eng,\n",
                "        c.category_name,\n",
                "        c.category_id\n",
                "    FROM public.\"Product\" p\n",
                "    LEFT JOIN public.\"ProductCategory\" pc ON pc.product_id = p.product_id \n",
                "    LEFT JOIN public.\"SubCategory_4_3\" sc43 ON sc43.\"SubCat_4_id\" = pc.\"subcategory_id\"\n",
                "    LEFT JOIN public.\"SubCategory_3_2\" sc32 ON (sc32.\"SubCat_3_id\" = pc.\"subcategory_id\" OR sc32.\"SubCat_3_id\" = sc43.\"SubCat_3_id\")\n",
                "    LEFT JOIN public.\"SubCategory_2_1\" sc21 ON (sc21.\"SubCat_2_id\" = pc.\"subcategory_id\" OR sc21.\"SubCat_2_id\" = sc32.\"SubCat_2_id\")\n",
                "    LEFT JOIN public.\"CatSubCat\" csc ON (csc.\"SubCategory_1_subcategory_id\" = pc.\"subcategory_id\" OR csc.\"SubCategory_1_subcategory_id\" = sc21.\"SubCat_1_id\")\n",
                "    LEFT JOIN public.\"Category\" c ON c.\"category_id\" = csc.\"Category_category_id\"\n",
                "\n",
                "),\n",
                "groupingQry AS (\n",
                "    SELECT ROW_NUMBER() OVER (PARTITION BY pc.category_name ORDER BY SUM(po.qty * ph.normal_price) DESC) row_num,\n",
                "        p.product_id,\n",
                "        p.product_name_eng \"Product Name\",\n",
                "        pc.category_name,\n",
                "        SUM(po.qty * ph.normal_price) \"Product Sales\",\n",
                "        SUM(po.qty * ph.normal_price) OVER (PARTITION BY pc.category_name) \"Category Sales\"\n",
                "    FROM public.\"ProductOrder\" po\n",
                "    LEFT JOIN public.\"Product\" p ON po.\"product_id\" = p.\"product_id\"\n",
                "    LEFT JOIN public.\"PriceHistory\" ph ON ph.\"product_id\" = po.\"product_id\"\n",
                "    LEFT JOIN public.\"Order\" o ON o.\"order_id\" = po.\"order_id\"\n",
                "    LEFT JOIN parentCat pc ON pc.\"product_id\" = po.\"product_id\"\n",
                "    WHERE o.\"order_date\" BETWEEN ph.\"start_date\" AND COALESCE(ph.\"end_date\", '9999-12-31'::DATE)\n",
                "    GROUP BY \"Product Name\", pc.\"category_name\", po.qty, ph.normal_price, p.product_id\n",
                ")\n",
                "\n",
                "SELECT product_id \"Product ID\",\n",
                "    \"Product Name\",\n",
                "    category_name \"Category Name\",\n",
                "    \"Product Sales\",\n",
                "    \"Category Sales\"\n",
                "FROM (\n",
                "    SELECT *,\n",
                "        DENSE_RANK() OVER (ORDER BY \"Category Sales\" DESC) overall_rank\n",
                "    FROM groupingQry\n",
                "    WHERE row_num <= 3\n",
                ") dr\n",
                "WHERE overall_rank <= 3\n",
                "ORDER BY overall_rank, row_num;"
            ],
            "metadata": {
                "azdata_cell_guid": "7299477b-25ee-4611-b4c3-cbb047d8d999",
                "language": "sql",
                "tags": []
            },
            "outputs": [
                {
                    "output_type": "display_data",
                    "data": {
                        "text/html": "(9 row(s) affected)"
                    },
                    "metadata": {}
                },
                {
                    "output_type": "display_data",
                    "data": {
                        "text/html": "Total execution time: 00:00:00.496"
                    },
                    "metadata": {}
                },
                {
                    "output_type": "execute_result",
                    "execution_count": 43,
                    "data": {
                        "application/vnd.dataresource+json": {
                            "schema": {
                                "fields": [
                                    {
                                        "name": "Product ID"
                                    },
                                    {
                                        "name": "Product Name"
                                    },
                                    {
                                        "name": "Category Name"
                                    },
                                    {
                                        "name": "Product Sales"
                                    },
                                    {
                                        "name": "Category Sales"
                                    }
                                ]
                            },
                            "data": [
                                {
                                    "Product ID": "P000000786",
                                    "Product Name": "Morabo Leather Sofa",
                                    "Category Name": "Furniture",
                                    "Product Sales": "156000",
                                    "Category Sales": "7741140"
                                },
                                {
                                    "Product ID": "P000000782",
                                    "Product Name": "SOderhamn Chaise Sofa",
                                    "Category Name": "Furniture",
                                    "Product Sales": "120000",
                                    "Category Sales": "7741140"
                                },
                                {
                                    "Product ID": "P000001292",
                                    "Product Name": "Hemnes Changing Table",
                                    "Category Name": "Furniture",
                                    "Product Sales": "114000",
                                    "Category Sales": "7741140"
                                },
                                {
                                    "Product ID": "P000000461",
                                    "Product Name": "OPPLAND Bed with Mattress",
                                    "Category Name": "Beds & Mattresses",
                                    "Product Sales": "108000",
                                    "Category Sales": "3225960"
                                },
                                {
                                    "Product ID": "P000000802",
                                    "Product Name": "Friheten Chair Bed",
                                    "Category Name": "Beds & Mattresses",
                                    "Product Sales": "108000",
                                    "Category Sales": "3225960"
                                },
                                {
                                    "Product ID": "P000000423",
                                    "Product Name": "OPPLAND Headboard",
                                    "Category Name": "Beds & Mattresses",
                                    "Product Sales": "101160",
                                    "Category Sales": "3225960"
                                },
                                {
                                    "Product ID": "P000000862",
                                    "Product Name": "GLODANDE Fridge",
                                    "Category Name": "Kitchen Cabinets & Appliances",
                                    "Product Sales": "100000",
                                    "Category Sales": "2819780"
                                },
                                {
                                    "Product ID": "P000000866",
                                    "Product Name": "VADHOLMA Fridge",
                                    "Category Name": "Kitchen Cabinets & Appliances",
                                    "Product Sales": "77280",
                                    "Category Sales": "2819780"
                                },
                                {
                                    "Product ID": "P000000865",
                                    "Product Name": "RENODLIG Fridge",
                                    "Category Name": "Kitchen Cabinets & Appliances",
                                    "Product Sales": "63200",
                                    "Category Sales": "2819780"
                                }
                            ]
                        },
                        "text/html": "<table><tr><th>Product ID</th><th>Product Name</th><th>Category Name</th><th>Product Sales</th><th>Category Sales</th></tr><tr><td>P000000786</td><td>Morabo Leather Sofa</td><td>Furniture</td><td>156000</td><td>7741140</td></tr><tr><td>P000000782</td><td>SOderhamn Chaise Sofa</td><td>Furniture</td><td>120000</td><td>7741140</td></tr><tr><td>P000001292</td><td>Hemnes Changing Table</td><td>Furniture</td><td>114000</td><td>7741140</td></tr><tr><td>P000000461</td><td>OPPLAND Bed with Mattress</td><td>Beds &amp; Mattresses</td><td>108000</td><td>3225960</td></tr><tr><td>P000000802</td><td>Friheten Chair Bed</td><td>Beds &amp; Mattresses</td><td>108000</td><td>3225960</td></tr><tr><td>P000000423</td><td>OPPLAND Headboard</td><td>Beds &amp; Mattresses</td><td>101160</td><td>3225960</td></tr><tr><td>P000000862</td><td>GLODANDE Fridge</td><td>Kitchen Cabinets &amp; Appliances</td><td>100000</td><td>2819780</td></tr><tr><td>P000000866</td><td>VADHOLMA Fridge</td><td>Kitchen Cabinets &amp; Appliances</td><td>77280</td><td>2819780</td></tr><tr><td>P000000865</td><td>RENODLIG Fridge</td><td>Kitchen Cabinets &amp; Appliances</td><td>63200</td><td>2819780</td></tr></table>"
                    },
                    "metadata": {}
                }
            ],
            "execution_count": 43
        },
        {
            "cell_type": "markdown",
            "source": [
                "<u>**Explanation:**</u>\n",
                "\n",
                "<u>**Recomendation:**</u>"
            ],
            "metadata": {
                "azdata_cell_guid": "e8835449-ba55-4ade-9a37-f5a5b7c1353f",
                "language": "sql"
            },
            "attachments": {}
        },
        {
            "cell_type": "markdown",
            "source": [
                "> ### **Q4**: ช่องทางการชำระเงินช่องทางใดที่ได้รับความนิยมน้อยที่สุด"
            ],
            "metadata": {
                "azdata_cell_guid": "db9a617f-b83e-49ef-97a1-e669cf2de59d",
                "language": "sql"
            },
            "attachments": {}
        },
        {
            "cell_type": "code",
            "source": [
                "SELECT p.payment_desc \"Payment Method\",\n",
                "    COUNT(*) \"Count\"\n",
                "FROM public.\"Order\" o\n",
                "LEFT JOIN public.\"Payment\" p ON o.payment_id = p.payment_id\n",
                "GROUP BY \"Payment Method\"\n",
                "UNION\n",
                "SELECT 'Total', COUNT(*)\n",
                "FROM public.\"Order\"\n",
                "ORDER BY \"Count\";"
            ],
            "metadata": {
                "azdata_cell_guid": "72d16027-f3b2-4313-beea-c65af834fdf7",
                "language": "sql"
            },
            "outputs": [
                {
                    "output_type": "display_data",
                    "data": {
                        "text/html": "(5 row(s) affected)"
                    },
                    "metadata": {}
                },
                {
                    "output_type": "display_data",
                    "data": {
                        "text/html": "Total execution time: 00:00:00.003"
                    },
                    "metadata": {}
                },
                {
                    "output_type": "execute_result",
                    "execution_count": 44,
                    "data": {
                        "application/vnd.dataresource+json": {
                            "schema": {
                                "fields": [
                                    {
                                        "name": "Payment Method"
                                    },
                                    {
                                        "name": "Count"
                                    }
                                ]
                            },
                            "data": [
                                {
                                    "Payment Method": "Master Card",
                                    "Count": "190"
                                },
                                {
                                    "Payment Method": "Visa Card",
                                    "Count": "210"
                                },
                                {
                                    "Payment Method": "Cash",
                                    "Count": "1420"
                                },
                                {
                                    "Payment Method": "Prompt Pay",
                                    "Count": "3180"
                                },
                                {
                                    "Payment Method": "Total",
                                    "Count": "5000"
                                }
                            ]
                        },
                        "text/html": "<table><tr><th>Payment Method</th><th>Count</th></tr><tr><td>Master Card</td><td>190</td></tr><tr><td>Visa Card</td><td>210</td></tr><tr><td>Cash</td><td>1420</td></tr><tr><td>Prompt Pay</td><td>3180</td></tr><tr><td>Total</td><td>5000</td></tr></table>"
                    },
                    "metadata": {
                        "azdata_chartOptions": {
                            "type": "horizontalBar",
                            "dataDirection": "vertical",
                            "columnsAsLabels": true,
                            "labelFirstColumn": false,
                            "legendPosition": "top"
                        }
                    }
                }
            ],
            "execution_count": 44
        },
        {
            "cell_type": "markdown",
            "source": [
                "<u>**Explanation:**</u> \n",
                "\n",
                "เนื่องด้วยต้นทุนในการเจรจากับผู้ให้บริการด้านการชำระเงินต่าง ๆ มีไม่น้อย เราจึงนำข้อมูลจำนวนผู้ใช้ที่เลือกใช้ช่องทางการชำระเงินรูปแบบต่าง ๆ มาคำนวณแยกตามประเภทการเพื่อดูว่าช่องทางใดมีผู้ใช้บริการน้อยที่สุด ธุรกิจสามารถนำข้อมูลไปพิจารณาเรื่องการยกเลิกช่องทางการชำระเงินได้ เพื่อลดต้นทุนของบริษัท หรืออาจมีแผนกลยุทธ์เพื่อให้คนหันมาใช้ช่องทางการชำระเงินดังกล่าวมากขึ้น เช่น การเจรจากับผู้บริการด้านการชำระเงินเพื่อจัดโปรโมชั่น\n",
                "\n",
                "<u>**Recommendation:**</u>\n",
                "\n",
                "<mark>รอ result final</mark>\n",
                "\n",
                "<mark>ถ้าจำนวนการถูกใช้มันเท่าๆกันจริงๆ ก็แนะนำ IKEA ให้ใช้แบบเดิมไป อาจไม่ต้องแนะนำให้ตัดอะไรทั้งสิ้น</mark>\n",
                "\n",
                "<mark>ถ้ามันมีอันไหนถูกใช้น้อยมากๆต่างจากเพื่อนก็ลองแนะนำให้อาจตัดออก เพราะเอาจริงช่องทางอืนอีกสามอันก้ยังครอบคลุมการจ่ายเงิน ไม่ลำบากลูกค้าเกินไปอยู่ดี</mark>"
            ],
            "metadata": {
                "azdata_cell_guid": "6bf22eab-502c-44a2-bf34-a1a7ffbd52ab",
                "language": "sql"
            },
            "attachments": {}
        },
        {
            "cell_type": "markdown",
            "source": [
                "> ### **Q5:** ช่วงไตรมาสไหนของปีที่เราควรทำการปล่อยโปรโมชั่นส่งเสริมการขาย เพื่อทำการกระตุ้นยอดขาย"
            ],
            "metadata": {
                "azdata_cell_guid": "446f604e-82b6-4437-937c-9031635d4940",
                "language": "sql"
            },
            "attachments": {}
        },
        {
            "cell_type": "code",
            "source": [
                "SELECT EXTRACT(YEAR FROM o.\"order_date\") \"Year\",\n",
                "    EXTRACT(QUARTER FROM o.\"order_date\") \"Quarter\",\n",
                "    SUM(po.\"qty\" * ph.\"normal_price\") \"Sales\"\n",
                "FROM public.\"ProductOrder\" po\n",
                "LEFT JOIN public.\"Product\" p ON po.\"product_id\" = p.\"product_id\"\n",
                "LEFT JOIN public.\"PriceHistory\" ph ON ph.\"product_id\" = p.\"product_id\"\n",
                "LEFT JOIN public.\"Order\" o ON o.\"order_id\" = po.\"order_id\"\n",
                "WHERE o.\"order_date\" BETWEEN ph.\"start_date\" AND COALESCE(ph.\"end_date\", '9999-12-31'::DATE)\n",
                "GROUP BY \"Year\", \"Quarter\"\n",
                "ORDER BY \"Year\" DESC, \"Quarter\";"
            ],
            "metadata": {
                "azdata_cell_guid": "34d1f106-1d87-4dc5-a4cd-78509582b8fd",
                "language": "sql"
            },
            "outputs": [
                {
                    "output_type": "display_data",
                    "data": {
                        "text/html": "(52 row(s) affected)"
                    },
                    "metadata": {}
                },
                {
                    "output_type": "display_data",
                    "data": {
                        "text/html": "Total execution time: 00:00:00.016"
                    },
                    "metadata": {}
                },
                {
                    "output_type": "execute_result",
                    "execution_count": 45,
                    "data": {
                        "application/vnd.dataresource+json": {
                            "schema": {
                                "fields": [
                                    {
                                        "name": "Year"
                                    },
                                    {
                                        "name": "Quarter"
                                    },
                                    {
                                        "name": "Sales"
                                    }
                                ]
                            },
                            "data": [
                                {
                                    "Year": "2023",
                                    "Quarter": "1",
                                    "Sales": "751040"
                                },
                                {
                                    "Year": "2023",
                                    "Quarter": "2",
                                    "Sales": "707090"
                                },
                                {
                                    "Year": "2023",
                                    "Quarter": "3",
                                    "Sales": "821870"
                                },
                                {
                                    "Year": "2023",
                                    "Quarter": "4",
                                    "Sales": "469770"
                                },
                                {
                                    "Year": "2022",
                                    "Quarter": "1",
                                    "Sales": "574430"
                                },
                                {
                                    "Year": "2022",
                                    "Quarter": "2",
                                    "Sales": "468210"
                                },
                                {
                                    "Year": "2022",
                                    "Quarter": "3",
                                    "Sales": "428450"
                                },
                                {
                                    "Year": "2022",
                                    "Quarter": "4",
                                    "Sales": "560890"
                                },
                                {
                                    "Year": "2021",
                                    "Quarter": "1",
                                    "Sales": "455440"
                                },
                                {
                                    "Year": "2021",
                                    "Quarter": "2",
                                    "Sales": "259040"
                                },
                                {
                                    "Year": "2021",
                                    "Quarter": "3",
                                    "Sales": "539720"
                                },
                                {
                                    "Year": "2021",
                                    "Quarter": "4",
                                    "Sales": "508080"
                                },
                                {
                                    "Year": "2020",
                                    "Quarter": "1",
                                    "Sales": "631320"
                                },
                                {
                                    "Year": "2020",
                                    "Quarter": "2",
                                    "Sales": "684080"
                                },
                                {
                                    "Year": "2020",
                                    "Quarter": "3",
                                    "Sales": "556780"
                                },
                                {
                                    "Year": "2020",
                                    "Quarter": "4",
                                    "Sales": "727850"
                                },
                                {
                                    "Year": "2019",
                                    "Quarter": "1",
                                    "Sales": "591760"
                                },
                                {
                                    "Year": "2019",
                                    "Quarter": "2",
                                    "Sales": "702280"
                                },
                                {
                                    "Year": "2019",
                                    "Quarter": "3",
                                    "Sales": "559580"
                                },
                                {
                                    "Year": "2019",
                                    "Quarter": "4",
                                    "Sales": "725740"
                                },
                                {
                                    "Year": "2018",
                                    "Quarter": "1",
                                    "Sales": "539850"
                                },
                                {
                                    "Year": "2018",
                                    "Quarter": "2",
                                    "Sales": "652900"
                                },
                                {
                                    "Year": "2018",
                                    "Quarter": "3",
                                    "Sales": "922520"
                                },
                                {
                                    "Year": "2018",
                                    "Quarter": "4",
                                    "Sales": "620790"
                                },
                                {
                                    "Year": "2017",
                                    "Quarter": "1",
                                    "Sales": "585820"
                                },
                                {
                                    "Year": "2017",
                                    "Quarter": "2",
                                    "Sales": "582400"
                                },
                                {
                                    "Year": "2017",
                                    "Quarter": "3",
                                    "Sales": "566200"
                                },
                                {
                                    "Year": "2017",
                                    "Quarter": "4",
                                    "Sales": "612450"
                                },
                                {
                                    "Year": "2016",
                                    "Quarter": "1",
                                    "Sales": "525410"
                                },
                                {
                                    "Year": "2016",
                                    "Quarter": "2",
                                    "Sales": "641560"
                                },
                                {
                                    "Year": "2016",
                                    "Quarter": "3",
                                    "Sales": "564800"
                                },
                                {
                                    "Year": "2016",
                                    "Quarter": "4",
                                    "Sales": "677670"
                                },
                                {
                                    "Year": "2015",
                                    "Quarter": "1",
                                    "Sales": "668440"
                                },
                                {
                                    "Year": "2015",
                                    "Quarter": "2",
                                    "Sales": "579240"
                                },
                                {
                                    "Year": "2015",
                                    "Quarter": "3",
                                    "Sales": "655370"
                                },
                                {
                                    "Year": "2015",
                                    "Quarter": "4",
                                    "Sales": "723640"
                                },
                                {
                                    "Year": "2014",
                                    "Quarter": "1",
                                    "Sales": "518760"
                                },
                                {
                                    "Year": "2014",
                                    "Quarter": "2",
                                    "Sales": "520370"
                                },
                                {
                                    "Year": "2014",
                                    "Quarter": "3",
                                    "Sales": "464600"
                                },
                                {
                                    "Year": "2014",
                                    "Quarter": "4",
                                    "Sales": "588430"
                                },
                                {
                                    "Year": "2013",
                                    "Quarter": "1",
                                    "Sales": "612050"
                                },
                                {
                                    "Year": "2013",
                                    "Quarter": "2",
                                    "Sales": "557630"
                                },
                                {
                                    "Year": "2013",
                                    "Quarter": "3",
                                    "Sales": "618400"
                                },
                                {
                                    "Year": "2013",
                                    "Quarter": "4",
                                    "Sales": "606340"
                                },
                                {
                                    "Year": "2012",
                                    "Quarter": "1",
                                    "Sales": "417150"
                                },
                                {
                                    "Year": "2012",
                                    "Quarter": "2",
                                    "Sales": "638070"
                                },
                                {
                                    "Year": "2012",
                                    "Quarter": "3",
                                    "Sales": "873200"
                                },
                                {
                                    "Year": "2012",
                                    "Quarter": "4",
                                    "Sales": "655590"
                                },
                                {
                                    "Year": "2011",
                                    "Quarter": "1",
                                    "Sales": "400690"
                                },
                                {
                                    "Year": "2011",
                                    "Quarter": "2",
                                    "Sales": "455620"
                                },
                                {
                                    "Year": "2011",
                                    "Quarter": "3",
                                    "Sales": "413980"
                                },
                                {
                                    "Year": "2011",
                                    "Quarter": "4",
                                    "Sales": "553290"
                                }
                            ]
                        },
                        "text/html": "<table><tr><th>Year</th><th>Quarter</th><th>Sales</th></tr><tr><td>2023</td><td>1</td><td>751040</td></tr><tr><td>2023</td><td>2</td><td>707090</td></tr><tr><td>2023</td><td>3</td><td>821870</td></tr><tr><td>2023</td><td>4</td><td>469770</td></tr><tr><td>2022</td><td>1</td><td>574430</td></tr><tr><td>2022</td><td>2</td><td>468210</td></tr><tr><td>2022</td><td>3</td><td>428450</td></tr><tr><td>2022</td><td>4</td><td>560890</td></tr><tr><td>2021</td><td>1</td><td>455440</td></tr><tr><td>2021</td><td>2</td><td>259040</td></tr><tr><td>2021</td><td>3</td><td>539720</td></tr><tr><td>2021</td><td>4</td><td>508080</td></tr><tr><td>2020</td><td>1</td><td>631320</td></tr><tr><td>2020</td><td>2</td><td>684080</td></tr><tr><td>2020</td><td>3</td><td>556780</td></tr><tr><td>2020</td><td>4</td><td>727850</td></tr><tr><td>2019</td><td>1</td><td>591760</td></tr><tr><td>2019</td><td>2</td><td>702280</td></tr><tr><td>2019</td><td>3</td><td>559580</td></tr><tr><td>2019</td><td>4</td><td>725740</td></tr><tr><td>2018</td><td>1</td><td>539850</td></tr><tr><td>2018</td><td>2</td><td>652900</td></tr><tr><td>2018</td><td>3</td><td>922520</td></tr><tr><td>2018</td><td>4</td><td>620790</td></tr><tr><td>2017</td><td>1</td><td>585820</td></tr><tr><td>2017</td><td>2</td><td>582400</td></tr><tr><td>2017</td><td>3</td><td>566200</td></tr><tr><td>2017</td><td>4</td><td>612450</td></tr><tr><td>2016</td><td>1</td><td>525410</td></tr><tr><td>2016</td><td>2</td><td>641560</td></tr><tr><td>2016</td><td>3</td><td>564800</td></tr><tr><td>2016</td><td>4</td><td>677670</td></tr><tr><td>2015</td><td>1</td><td>668440</td></tr><tr><td>2015</td><td>2</td><td>579240</td></tr><tr><td>2015</td><td>3</td><td>655370</td></tr><tr><td>2015</td><td>4</td><td>723640</td></tr><tr><td>2014</td><td>1</td><td>518760</td></tr><tr><td>2014</td><td>2</td><td>520370</td></tr><tr><td>2014</td><td>3</td><td>464600</td></tr><tr><td>2014</td><td>4</td><td>588430</td></tr><tr><td>2013</td><td>1</td><td>612050</td></tr><tr><td>2013</td><td>2</td><td>557630</td></tr><tr><td>2013</td><td>3</td><td>618400</td></tr><tr><td>2013</td><td>4</td><td>606340</td></tr><tr><td>2012</td><td>1</td><td>417150</td></tr><tr><td>2012</td><td>2</td><td>638070</td></tr><tr><td>2012</td><td>3</td><td>873200</td></tr><tr><td>2012</td><td>4</td><td>655590</td></tr><tr><td>2011</td><td>1</td><td>400690</td></tr><tr><td>2011</td><td>2</td><td>455620</td></tr><tr><td>2011</td><td>3</td><td>413980</td></tr><tr><td>2011</td><td>4</td><td>553290</td></tr></table>"
                    },
                    "metadata": {
                        "azdata_chartOptions": {
                            "type": "line",
                            "dataDirection": "vertical",
                            "columnsAsLabels": true,
                            "labelFirstColumn": false,
                            "legendPosition": "top",
                            "dataType": "number"
                        }
                    }
                }
            ],
            "execution_count": 45
        },
        {
            "cell_type": "markdown",
            "source": [
                "<u>**Explanation:**</u>\n",
                "\n",
                "จากข้อมูลที่ได้ เราสามารถสรุปยอดขายรวมของแต่ละไตรมาสในแต่ละปีได้ ข้อมูลเหล่านี้สามารถนำมาใช้เพื่อวิเคราะห์แผนการดำเนินงานในอนาคตของธุรกิจ รวมถึงการวางกลยุทธ์ต่างๆ ในแต่ละช่วงปี ซึ่งรวมถึงกลยุทธ์ด้านการตลาด เพื่อผลักดันให้ธุรกิจเติบโตอย่างยั่งยืน\n",
                "\n",
                "เพื่อรัย\n",
                "\n",
                "<u>**Recommendation:**</u>\n",
                "\n",
                "จากผลลัพธ์ที่ได้ เราสามารถสังเกตรูปแบบของยอดขายใน 1 ปี โดยมักมียอดขายสูงในไตรมาสที่ 1 และลดลงในไตรมาสที่ 2 และ 3 หลังจากนั้นจะสูงขึ้นกลับมาในช่วงไตรมาสที่ 4\n",
                "\n",
                "สาเหตุของรูปแบบยอดขายดังกล่าว เนื่องมาจากปัจจัยด้านกำลังซื้อของผู้บริโภค ซึ่งมักมีกำลังซื้อสูงในช่วงสิ้นปีและช่วงเทศกาลต่างๆ เช่น วันหยุดยาว วันหยุดนักขัตฤกษ์ เป็นต้น ผู้บริโภคจึงมีเวลาและโอกาสในการจับจ่ายใช้สอยมากขึ้น ประกอบกับเป็นช่วงที่มักมีการจ่ายโบนัส ทำให้คนมีกำลังจ่ายมากขึ้น และเป็นช่วงที่ธุรกิจมักมีการเปิดตัวสินค้าหรือบริการใหม่ จึงมีโอกาสที่จะดึงดูดลูกค้าใหม่ๆ ให้มาทดลองใช้สินค้าหรือบริการได้\n",
                "\n",
                "ดังนั้น ช่วงเวลาที่เหมาะสมในการปล่อยโปรโมชั่นส่งเสริมการขายของ IKEA เพื่อกระตุ้นยอดขายของธุรกิจ จึงเป็นช่วงไตรมาสที่ 1 และไตรมาสที่ 4 เพื่อกระตุ้นให้ยอดขายสูงยิ่งขึ้น กอบโกยรายได้ในช่วงนี้ให้มากที่สุด โดยโปรโมชั่น IKEA สามารถพิจารณาเพื่อปล่อยออกมา เช่น\n",
                "\n",
                "- โปรโมชั่นสำหรับลูกค้าประจำ เช่น คะแนนสะสมเพิ่ม\n",
                "- โปรโมชั่นลดราคาเช่น ส่วนลด 10% เมื่อซื้อครบ 5,000 บาท \n",
                "- โปรโมชั่นส่งฟรี เช่น จัดส่งฟรีเมื่อซื้อสินค้าครบ 1,000 บาท\n",
                "\n",
                "นอกจากนี้ อาจพิจารณาปล่อยโปรโมชั่นส่งเสริมการขายในช่วงอื่นๆ ของปี โดยโปรโมชั่นส่งเสริมการขายในช่วงดังกล่าวอาจเน้นไปที่การกระตุ้นการรับรู้แบรนด์ เช่น โปรโมชั่นแจกฟรีหรือแถมสินค้า โปรโมชั่นเปิดตัวสินค้าใหม่ เป็นต้น หรืออาจปล่อยให้ผ่อน 0% เพื่อช่วยลดความกังวลเรื่องภาระทางการเงินของลูกค้า"
            ],
            "metadata": {
                "azdata_cell_guid": "93f8a01d-07ab-48d7-94c9-09da67292eac",
                "language": "sql"
            },
            "attachments": {}
        },
        {
            "cell_type": "markdown",
            "source": [
                "> ### **Q6:** ในช่วงสถานการณ์การแพร่ระบาดของโควิด-19 ยอดขายสินค้าของอิเกีย ผ่านรูปแบบออนไลน์มีลักษณะเป็นอย่างไร เพิ่มขึ้นมากน้อยเพียงใด"
            ],
            "metadata": {
                "azdata_cell_guid": "66ca3618-bd8b-4980-a884-11ebf7494b1b",
                "language": "sql"
            },
            "attachments": {}
        },
        {
            "cell_type": "code",
            "source": [
                "SELECT EXTRACT(YEAR FROM o.\"order_date\") \"Year\",\n",
                "    SUM(po.\"qty\" * ph.\"normal_price\") \"Total Sales\"\n",
                "FROM public.\"ProductOrder\" po\n",
                "LEFT JOIN public.\"Order\" o ON po.\"order_id\" = o.\"order_id\"\n",
                "LEFT JOIN public.\"PriceHistory\" ph ON ph.\"product_id\" = po.\"product_id\"\n",
                "WHERE o.\"order_type_id\" = '02' \n",
                "    AND o.\"order_date\" BETWEEN ph.\"start_date\" AND COALESCE(ph.\"end_date\", '9999-12-31'::DATE)\n",
                "GROUP BY \"Year\"\n",
                "ORDER BY \"Year\";"
            ],
            "metadata": {
                "azdata_cell_guid": "5e380717-b12b-4ecd-92c2-fa4d2dd28c46",
                "language": "sql"
            },
            "outputs": [
                {
                    "output_type": "display_data",
                    "data": {
                        "text/html": "(13 row(s) affected)"
                    },
                    "metadata": {}
                },
                {
                    "output_type": "display_data",
                    "data": {
                        "text/html": "Total execution time: 00:00:00.007"
                    },
                    "metadata": {}
                },
                {
                    "output_type": "execute_result",
                    "execution_count": 46,
                    "data": {
                        "application/vnd.dataresource+json": {
                            "schema": {
                                "fields": [
                                    {
                                        "name": "Year"
                                    },
                                    {
                                        "name": "Total Sales"
                                    }
                                ]
                            },
                            "data": [
                                {
                                    "Year": "2011",
                                    "Total Sales": "670140"
                                },
                                {
                                    "Year": "2012",
                                    "Total Sales": "955960"
                                },
                                {
                                    "Year": "2013",
                                    "Total Sales": "878020"
                                },
                                {
                                    "Year": "2014",
                                    "Total Sales": "618310"
                                },
                                {
                                    "Year": "2015",
                                    "Total Sales": "1033660"
                                },
                                {
                                    "Year": "2016",
                                    "Total Sales": "834130"
                                },
                                {
                                    "Year": "2017",
                                    "Total Sales": "848140"
                                },
                                {
                                    "Year": "2018",
                                    "Total Sales": "978210"
                                },
                                {
                                    "Year": "2019",
                                    "Total Sales": "982300"
                                },
                                {
                                    "Year": "2020",
                                    "Total Sales": "787720"
                                },
                                {
                                    "Year": "2021",
                                    "Total Sales": "560540"
                                },
                                {
                                    "Year": "2022",
                                    "Total Sales": "775810"
                                },
                                {
                                    "Year": "2023",
                                    "Total Sales": "907080"
                                }
                            ]
                        },
                        "text/html": "<table><tr><th>Year</th><th>Total Sales</th></tr><tr><td>2011</td><td>670140</td></tr><tr><td>2012</td><td>955960</td></tr><tr><td>2013</td><td>878020</td></tr><tr><td>2014</td><td>618310</td></tr><tr><td>2015</td><td>1033660</td></tr><tr><td>2016</td><td>834130</td></tr><tr><td>2017</td><td>848140</td></tr><tr><td>2018</td><td>978210</td></tr><tr><td>2019</td><td>982300</td></tr><tr><td>2020</td><td>787720</td></tr><tr><td>2021</td><td>560540</td></tr><tr><td>2022</td><td>775810</td></tr><tr><td>2023</td><td>907080</td></tr></table>"
                    },
                    "metadata": {
                        "azdata_chartOptions": {
                            "type": "line",
                            "dataDirection": "vertical",
                            "columnsAsLabels": true,
                            "labelFirstColumn": false,
                            "legendPosition": "top",
                            "dataType": "number"
                        }
                    }
                }
            ],
            "execution_count": 46
        },
        {
            "cell_type": "markdown",
            "source": [
                "<u>**Explanation:**</u>\n",
                "\n",
                "ข้อมูลนี้สามารถนำไปใช้ในการประเมินสถานการณ์ในอนาคต หากเกิดเหตุการณ์การแพร่ระบาดของโรคระบาด หรือเหตุการณ์ที่ไม่ปกติ อีกครั้ง โดยธุรกิจอิเกียสามารถวิเคราะห์ข้อมูลนี้เพื่อคาดการณ์แนวโน้มยอดขายสินค้าผ่านรูปแบบออนไลน์ในอนาคต ซึ่งจะช่วยให้ธุรกิจสามารถปรับกลยุทธ์การตลาดและการดำเนินงานได้อย่างเหมาะสม\n",
                "\n",
                "<u>**Recommendation:**</u>\n",
                "\n",
                "<mark>result มันไม่เปนตรงตามที่เราหวังอ่าดิ ช่วยด้วยๆ ไม่รู้จะเขียนไง</mark> อันนี้ไกด์การเขียน\n",
                "\n",
                "หากพบว่ายอดขายสินค้าผ่านรูปแบบออนไลน์เพิ่มขึ้นอย่างมากในช่วงสถานการณ์การแพร่ระบาดของโควิด-19 แสดงว่าลูกค้ามีแนวโน้มที่จะซื้อสินค้าออนไลน์มากขึ้นในอนาคต ธุรกิจอิเกียอาจพิจารณาให้ความสำคัญกับช่องทางการตลาดออนไลน์มากขึ้น เช่น เพิ่มงบประมาณในการโฆษณาออนไลน์ เพิ่มพนักงานฝ่ายบริการลูกค้าออนไลน์ เป็นต้น"
            ],
            "metadata": {
                "azdata_cell_guid": "4e06b272-5a75-4bfe-85ea-34b468046eef",
                "language": "sql"
            },
            "attachments": {}
        },
        {
            "cell_type": "markdown",
            "source": [
                "> ### **Q7:** สินค้ารายการไหนที่มีจำนวนสั่งซื้อเฉลี่ยมากกว่าหรือเท่ากับ 4 ชิ้นต่อ 1 ออร์เดอร์"
            ],
            "metadata": {
                "azdata_cell_guid": "b5dd53e3-85d6-4a47-9c8c-7d00ea251ed0"
            },
            "attachments": {}
        },
        {
            "cell_type": "code",
            "source": [
                "SELECT po.\"product_id\" \"Product ID\",\n",
                "    p.\"product_name_eng\" \"Product Name (Eng)\",\n",
                "    TO_CHAR(AVG(po.\"qty\"), '999') \"Avg. Quantity Per Order\"\n",
                "FROM public.\"ProductOrder\" po\n",
                "LEFT JOIN public.\"Product\" p ON po.\"product_id\" = p.\"product_id\"\n",
                "GROUP BY po.\"product_id\", \"Product Name (Eng)\"\n",
                "HAVING AVG(po.\"qty\") >= 4\n",
                "ORDER BY \"Avg. Quantity Per Order\" DESC;"
            ],
            "metadata": {
                "azdata_cell_guid": "b1f9bd73-73d0-4b55-8c9b-09d4dad3be17",
                "language": "sql"
            },
            "outputs": [
                {
                    "output_type": "display_data",
                    "data": {
                        "text/html": "(55 row(s) affected)"
                    },
                    "metadata": {}
                },
                {
                    "output_type": "display_data",
                    "data": {
                        "text/html": "Total execution time: 00:00:00.007"
                    },
                    "metadata": {}
                },
                {
                    "output_type": "execute_result",
                    "execution_count": 47,
                    "data": {
                        "application/vnd.dataresource+json": {
                            "schema": {
                                "fields": [
                                    {
                                        "name": "Product ID"
                                    },
                                    {
                                        "name": "Product Name (Eng)"
                                    },
                                    {
                                        "name": "Avg. Quantity Per Order"
                                    }
                                ]
                            },
                            "data": [
                                {
                                    "Product ID": "P000001004",
                                    "Product Name (Eng)": "Utensil Wall Storage",
                                    "Avg. Quantity Per Order": "   6"
                                },
                                {
                                    "Product ID": "P000001707",
                                    "Product Name (Eng)": "Lobbak Rug",
                                    "Avg. Quantity Per Order": "   6"
                                },
                                {
                                    "Product ID": "P000000247",
                                    "Product Name (Eng)": "ELVERDAM Kitchen Faucet",
                                    "Avg. Quantity Per Order": "   6"
                                },
                                {
                                    "Product ID": "P000001624",
                                    "Product Name (Eng)": "Lillangen Under Sink Cabinet",
                                    "Avg. Quantity Per Order": "   6"
                                },
                                {
                                    "Product ID": "P000000870",
                                    "Product Name (Eng)": "KULINARISK Microwave Oven",
                                    "Avg. Quantity Per Order": "   6"
                                },
                                {
                                    "Product ID": "P000000191",
                                    "Product Name (Eng)": "KOPPLA Handle",
                                    "Avg. Quantity Per Order": "   6"
                                },
                                {
                                    "Product ID": "P000001406",
                                    "Product Name (Eng)": "Koska Serving Cutlery",
                                    "Avg. Quantity Per Order": "   5"
                                },
                                {
                                    "Product ID": "P000001534",
                                    "Product Name (Eng)": "Ekby Wall Lamp",
                                    "Avg. Quantity Per Order": "   5"
                                },
                                {
                                    "Product ID": "P000001835",
                                    "Product Name (Eng)": "BESTA TV Bench 4",
                                    "Avg. Quantity Per Order": "   5"
                                },
                                {
                                    "Product ID": "P000001779",
                                    "Product Name (Eng)": "Giraffig Bed Linen",
                                    "Avg. Quantity Per Order": "   5"
                                },
                                {
                                    "Product ID": "P000001365",
                                    "Product Name (Eng)": "Steka Frying Pan",
                                    "Avg. Quantity Per Order": "   5"
                                },
                                {
                                    "Product ID": "P000000431",
                                    "Product Name (Eng)": "BRIMNES Storage Box",
                                    "Avg. Quantity Per Order": "   5"
                                },
                                {
                                    "Product ID": "P000000701",
                                    "Product Name (Eng)": "GURLI Throw",
                                    "Avg. Quantity Per Order": "   5"
                                },
                                {
                                    "Product ID": "P000001308",
                                    "Product Name (Eng)": "Lack Shelf",
                                    "Avg. Quantity Per Order": "   5"
                                },
                                {
                                    "Product ID": "P000001396",
                                    "Product Name (Eng)": "Radda Dish Cloth",
                                    "Avg. Quantity Per Order": "   5"
                                },
                                {
                                    "Product ID": "P000001292",
                                    "Product Name (Eng)": "Hemnes Changing Table",
                                    "Avg. Quantity Per Order": "   5"
                                },
                                {
                                    "Product ID": "P000001205",
                                    "Product Name (Eng)": "Ekedalen Dining Table",
                                    "Avg. Quantity Per Order": "   5"
                                },
                                {
                                    "Product ID": "P000000061",
                                    "Product Name (Eng)": "Packing Peanuts",
                                    "Avg. Quantity Per Order": "   5"
                                },
                                {
                                    "Product ID": "P000001079",
                                    "Product Name (Eng)": "Brusali Cabinet",
                                    "Avg. Quantity Per Order": "   5"
                                },
                                {
                                    "Product ID": "P000001551",
                                    "Product Name (Eng)": "Google Home Lighting",
                                    "Avg. Quantity Per Order": "   4"
                                },
                                {
                                    "Product ID": "P000001121",
                                    "Product Name (Eng)": "Rissla Desk Accessories",
                                    "Avg. Quantity Per Order": "   4"
                                },
                                {
                                    "Product ID": "P000000450",
                                    "Product Name (Eng)": "CAPITA Leg",
                                    "Avg. Quantity Per Order": "   4"
                                },
                                {
                                    "Product ID": "P000000226",
                                    "Product Name (Eng)": "KRYDDPEPPAR LED Spotlight",
                                    "Avg. Quantity Per Order": "   4"
                                },
                                {
                                    "Product ID": "P000001836",
                                    "Product Name (Eng)": "BESTA TV Bench 5",
                                    "Avg. Quantity Per Order": "   4"
                                },
                                {
                                    "Product ID": "P000001299",
                                    "Product Name (Eng)": "Rationell Cutlery Tray",
                                    "Avg. Quantity Per Order": "   4"
                                },
                                {
                                    "Product ID": "P000001855",
                                    "Product Name (Eng)": "BESTA Sideboard 4",
                                    "Avg. Quantity Per Order": "   4"
                                },
                                {
                                    "Product ID": "P000000145",
                                    "Product Name (Eng)": "HEJNE Shelf Unit",
                                    "Avg. Quantity Per Order": "   4"
                                },
                                {
                                    "Product ID": "P000001390",
                                    "Product Name (Eng)": "Ordning Dish Drainer",
                                    "Avg. Quantity Per Order": "   4"
                                },
                                {
                                    "Product ID": "P000000735",
                                    "Product Name (Eng)": "KALLSKAR Lumbar Cushion",
                                    "Avg. Quantity Per Order": "   4"
                                },
                                {
                                    "Product ID": "P000000320",
                                    "Product Name (Eng)": "BILD Poster",
                                    "Avg. Quantity Per Order": "   4"
                                },
                                {
                                    "Product ID": "P000000536",
                                    "Product Name (Eng)": "RORKAR Bath Mat",
                                    "Avg. Quantity Per Order": "   4"
                                },
                                {
                                    "Product ID": "P000000133",
                                    "Product Name (Eng)": "GULLIVER Toy Organizer",
                                    "Avg. Quantity Per Order": "   4"
                                },
                                {
                                    "Product ID": "P000000218",
                                    "Product Name (Eng)": "DUDERO LED Work Lamp",
                                    "Avg. Quantity Per Order": "   4"
                                },
                                {
                                    "Product ID": "P000001012",
                                    "Product Name (Eng)": "Dofta Glassware",
                                    "Avg. Quantity Per Order": "   4"
                                },
                                {
                                    "Product ID": "P000000874",
                                    "Product Name (Eng)": "KULINARISK Microwave Combi Oven",
                                    "Avg. Quantity Per Order": "   4"
                                },
                                {
                                    "Product ID": "P000001135",
                                    "Product Name (Eng)": "Enetri Wall Shelf",
                                    "Avg. Quantity Per Order": "   4"
                                },
                                {
                                    "Product ID": "P000001338",
                                    "Product Name (Eng)": "Variera Side Plate",
                                    "Avg. Quantity Per Order": "   4"
                                },
                                {
                                    "Product ID": "P000000675",
                                    "Product Name (Eng)": "SOCKERBIT Moving Box",
                                    "Avg. Quantity Per Order": "   4"
                                },
                                {
                                    "Product ID": "P000001837",
                                    "Product Name (Eng)": "BESTA Storage Combination A",
                                    "Avg. Quantity Per Order": "   4"
                                },
                                {
                                    "Product ID": "P000000258",
                                    "Product Name (Eng)": "HAVSEN Apron Front Double Bowl Sink",
                                    "Avg. Quantity Per Order": "   4"
                                },
                                {
                                    "Product ID": "P000001081",
                                    "Product Name (Eng)": "Byas TV & Media Storage",
                                    "Avg. Quantity Per Order": "   4"
                                },
                                {
                                    "Product ID": "P000001482",
                                    "Product Name (Eng)": "Fejka Plant Pot",
                                    "Avg. Quantity Per Order": "   4"
                                },
                                {
                                    "Product ID": "P000001401",
                                    "Product Name (Eng)": "Kalas Children's Cutlery",
                                    "Avg. Quantity Per Order": "   4"
                                },
                                {
                                    "Product ID": "P000001108",
                                    "Product Name (Eng)": "Liatorp Open Wardrobe",
                                    "Avg. Quantity Per Order": "   4"
                                },
                                {
                                    "Product ID": "P000000118",
                                    "Product Name (Eng)": "KIRKENAS Room Divider",
                                    "Avg. Quantity Per Order": "   4"
                                },
                                {
                                    "Product ID": "P000000337",
                                    "Product Name (Eng)": "VINTERFEST Gift Bag",
                                    "Avg. Quantity Per Order": "   4"
                                },
                                {
                                    "Product ID": "P000001383",
                                    "Product Name (Eng)": "Innan Mixing Bowl",
                                    "Avg. Quantity Per Order": "   4"
                                },
                                {
                                    "Product ID": "P000001571",
                                    "Product Name (Eng)": "Sparsam LED Bulb",
                                    "Avg. Quantity Per Order": "   4"
                                },
                                {
                                    "Product ID": "P000001091",
                                    "Product Name (Eng)": "Malm Chest of Drawers",
                                    "Avg. Quantity Per Order": "   4"
                                },
                                {
                                    "Product ID": "P000000240",
                                    "Product Name (Eng)": "BOHOLMEN Single Bowl Sink",
                                    "Avg. Quantity Per Order": "   4"
                                },
                                {
                                    "Product ID": "P000001531",
                                    "Product Name (Eng)": "Sarita Table Lamp",
                                    "Avg. Quantity Per Order": "   4"
                                },
                                {
                                    "Product ID": "P000000046",
                                    "Product Name (Eng)": "SOLLERON Wall Panel",
                                    "Avg. Quantity Per Order": "   4"
                                },
                                {
                                    "Product ID": "P000001589",
                                    "Product Name (Eng)": "Hafslo Spring Mattress",
                                    "Avg. Quantity Per Order": "   4"
                                },
                                {
                                    "Product ID": "P000001325",
                                    "Product Name (Eng)": "Ordning Bowl",
                                    "Avg. Quantity Per Order": "   4"
                                },
                                {
                                    "Product ID": "P000000768",
                                    "Product Name (Eng)": "EKBY VALTER Bracket",
                                    "Avg. Quantity Per Order": "   4"
                                }
                            ]
                        },
                        "text/html": "<table><tr><th>Product ID</th><th>Product Name (Eng)</th><th>Avg. Quantity Per Order</th></tr><tr><td>P000001004</td><td>Utensil Wall Storage</td><td>   6</td></tr><tr><td>P000001707</td><td>Lobbak Rug</td><td>   6</td></tr><tr><td>P000000247</td><td>ELVERDAM Kitchen Faucet</td><td>   6</td></tr><tr><td>P000001624</td><td>Lillangen Under Sink Cabinet</td><td>   6</td></tr><tr><td>P000000870</td><td>KULINARISK Microwave Oven</td><td>   6</td></tr><tr><td>P000000191</td><td>KOPPLA Handle</td><td>   6</td></tr><tr><td>P000001406</td><td>Koska Serving Cutlery</td><td>   5</td></tr><tr><td>P000001534</td><td>Ekby Wall Lamp</td><td>   5</td></tr><tr><td>P000001835</td><td>BESTA TV Bench 4</td><td>   5</td></tr><tr><td>P000001779</td><td>Giraffig Bed Linen</td><td>   5</td></tr><tr><td>P000001365</td><td>Steka Frying Pan</td><td>   5</td></tr><tr><td>P000000431</td><td>BRIMNES Storage Box</td><td>   5</td></tr><tr><td>P000000701</td><td>GURLI Throw</td><td>   5</td></tr><tr><td>P000001308</td><td>Lack Shelf</td><td>   5</td></tr><tr><td>P000001396</td><td>Radda Dish Cloth</td><td>   5</td></tr><tr><td>P000001292</td><td>Hemnes Changing Table</td><td>   5</td></tr><tr><td>P000001205</td><td>Ekedalen Dining Table</td><td>   5</td></tr><tr><td>P000000061</td><td>Packing Peanuts</td><td>   5</td></tr><tr><td>P000001079</td><td>Brusali Cabinet</td><td>   5</td></tr><tr><td>P000001551</td><td>Google Home Lighting</td><td>   4</td></tr><tr><td>P000001121</td><td>Rissla Desk Accessories</td><td>   4</td></tr><tr><td>P000000450</td><td>CAPITA Leg</td><td>   4</td></tr><tr><td>P000000226</td><td>KRYDDPEPPAR LED Spotlight</td><td>   4</td></tr><tr><td>P000001836</td><td>BESTA TV Bench 5</td><td>   4</td></tr><tr><td>P000001299</td><td>Rationell Cutlery Tray</td><td>   4</td></tr><tr><td>P000001855</td><td>BESTA Sideboard 4</td><td>   4</td></tr><tr><td>P000000145</td><td>HEJNE Shelf Unit</td><td>   4</td></tr><tr><td>P000001390</td><td>Ordning Dish Drainer</td><td>   4</td></tr><tr><td>P000000735</td><td>KALLSKAR Lumbar Cushion</td><td>   4</td></tr><tr><td>P000000320</td><td>BILD Poster</td><td>   4</td></tr><tr><td>P000000536</td><td>RORKAR Bath Mat</td><td>   4</td></tr><tr><td>P000000133</td><td>GULLIVER Toy Organizer</td><td>   4</td></tr><tr><td>P000000218</td><td>DUDERO LED Work Lamp</td><td>   4</td></tr><tr><td>P000001012</td><td>Dofta Glassware</td><td>   4</td></tr><tr><td>P000000874</td><td>KULINARISK Microwave Combi Oven</td><td>   4</td></tr><tr><td>P000001135</td><td>Enetri Wall Shelf</td><td>   4</td></tr><tr><td>P000001338</td><td>Variera Side Plate</td><td>   4</td></tr><tr><td>P000000675</td><td>SOCKERBIT Moving Box</td><td>   4</td></tr><tr><td>P000001837</td><td>BESTA Storage Combination A</td><td>   4</td></tr><tr><td>P000000258</td><td>HAVSEN Apron Front Double Bowl Sink</td><td>   4</td></tr><tr><td>P000001081</td><td>Byas TV &amp; Media Storage</td><td>   4</td></tr><tr><td>P000001482</td><td>Fejka Plant Pot</td><td>   4</td></tr><tr><td>P000001401</td><td>Kalas Children&#39;s Cutlery</td><td>   4</td></tr><tr><td>P000001108</td><td>Liatorp Open Wardrobe</td><td>   4</td></tr><tr><td>P000000118</td><td>KIRKENAS Room Divider</td><td>   4</td></tr><tr><td>P000000337</td><td>VINTERFEST Gift Bag</td><td>   4</td></tr><tr><td>P000001383</td><td>Innan Mixing Bowl</td><td>   4</td></tr><tr><td>P000001571</td><td>Sparsam LED Bulb</td><td>   4</td></tr><tr><td>P000001091</td><td>Malm Chest of Drawers</td><td>   4</td></tr><tr><td>P000000240</td><td>BOHOLMEN Single Bowl Sink</td><td>   4</td></tr><tr><td>P000001531</td><td>Sarita Table Lamp</td><td>   4</td></tr><tr><td>P000000046</td><td>SOLLERON Wall Panel</td><td>   4</td></tr><tr><td>P000001589</td><td>Hafslo Spring Mattress</td><td>   4</td></tr><tr><td>P000001325</td><td>Ordning Bowl</td><td>   4</td></tr><tr><td>P000000768</td><td>EKBY VALTER Bracket</td><td>   4</td></tr></table>"
                    },
                    "metadata": {}
                }
            ],
            "execution_count": 47
        },
        {
            "cell_type": "markdown",
            "source": [
                "<u>**Explanation:**</u>\n",
                "\n",
                "ธุรกิจสามารถใช้ประโยชน์จากข้อมูลทางการตลาดได้\n",
                "\n",
                "ตัวอย่างกลยุทธ์ที่ธุรกิจสามารถทำได้ ได้แก่\n",
                "\n",
                "- การตั้งเซ็ตสินค้าที่มีจำนวนมากกว่าจำนวนเฉลี่ยที่ลูกค้าซื้อ\n",
                "    \n",
                "    เช่น เซ็ตสินค้าชุดครัว เซ็ตของใช้สำหรับห้องน้ำ หรือเซ็ตของขวัญ เป็นต้น เป็นการนำเสนอสินค้าแบบครบวงจรที่ตอบโจทย์ความต้องการของลูกค้า\n",
                "    \n",
                "- การเพิ่มขนาดตะกร้าสินค้า (Basket Size)\n",
                "    \n",
                "    เช่น เสนอส่วนลดพิเศษเมื่อลูกค้าสั่งซื้อสินค้าครบจำนวนที่กำหนด เช่น ซื้อ 5 ชิ้นขึ้นไปลด 10% เป็นต้น เป็นกลยุทธ์การตลาดที่กระตุ้นให้ลูกค้าซื้อสินค้ามากขึ้น\n",
                "    \n",
                "\n",
                "<u>**Recommendation:**</u>\n",
                "\n",
                "จากผลลัพธ์ที่ได้ มีสินค้าจำนวน 55 รายการที่มีจำนวนเฉลี่ยการสั่งซื้อมากกว่าหรือเท่ากับ 4 ชิ้นต่อ 1 ออเดอร์\n",
                "\n",
                "IKEA สามารถประยุกต์ใช้กลยุทธ์ที่กล่าวไปข้างต้น เพื่อเพิ่มยอดขายและกำไรให้กับธุรกิจ\n",
                "\n",
                "ตัวอย่างการนำกลยุทธ์มาประยุกต์ใช้\n",
                "\n",
                "สินค้า Radda Dish Cloth ในแถวที่ 15 ของตารางผลลัพธ์ ซึ่งเป็นสินค้าขนาดเล็ก ทางอิเกียสามารถจัดสินค้าเป็นเซ็ต 6 ชิ้น\n",
                "\n",
                "จากเดิมที่ลูกค้ามีการซื้อเฉลี่ย 5 ชิ้นต่อ 1 ออเดอร์ การจัดสินค้าเป็นเซ็ต 6 ชิ้น จะช่วยให้ IKEA ขายเพิ่มได้อีก 1 ชิ้นต่อ 1 ออเดอร์"
            ],
            "metadata": {
                "azdata_cell_guid": "03b7e09c-6b80-4438-8e39-9ccaaa939d8d",
                "language": "sql"
            },
            "attachments": {}
        },
        {
            "cell_type": "markdown",
            "source": [
                "> ### **Q8:** สัดส่วนของการใช้คะแนนสะสม (point) เพื่อแลกเป็นส่วนลดในการใช้ซื้อของ (จะดูตรงไหนเปนหลัก)"
            ],
            "metadata": {
                "azdata_cell_guid": "1b70bef6-b574-4bd8-b650-9d19cbe7fa7c",
                "language": "sql"
            },
            "attachments": {}
        },
        {
            "cell_type": "code",
            "source": [
                "WITH tmp AS (\n",
                "    SELECT EXTRACT(YEAR FROM o.\"order_date\") \"Year\",\n",
                "        ABS(SUM(CASE WHEN pl.\"movement\" < 0 THEN pl.\"movement\" ELSE 0 END))* .01  \"Total Point Used (In Baht)\",\n",
                "        SUM(po.\"qty\" * ph.\"normal_price\") \"Total Sales\"\n",
                "    FROM public.\"PointLog\" pl\n",
                "    LEFT JOIN public.\"Order\" o ON o.\"order_id\" = pl.\"order_id\"\n",
                "    LEFT JOIN public.\"ProductOrder\" po ON po.\"order_id\" = o.\"order_id\"\n",
                "    LEFT JOIN public.\"PriceHistory\" ph ON ph.\"product_id\" = po.\"product_id\"\n",
                "    WHERE o.\"order_date\" BETWEEN ph.\"start_date\" AND COALESCE(ph.\"end_date\", '9999-12-31')\n",
                "    GROUP BY \"Year\"\n",
                ")\n",
                "\n",
                "SELECT *,\n",
                "    TO_CHAR(\"Total Point Used (In Baht)\"::DECIMAL / \"Total Sales\"::DECIMAL * 100, '999,990.00') || '%' \"Point Conversion Rate\"\n",
                "FROM tmp\n",
                "order by \"Year\" DESC;"
            ],
            "metadata": {
                "azdata_cell_guid": "bff2af7d-f24a-4e8d-a4e4-c04daf75895e",
                "language": "sql"
            },
            "outputs": [
                {
                    "output_type": "display_data",
                    "data": {
                        "text/html": "(156 row(s) affected)"
                    },
                    "metadata": {}
                },
                {
                    "output_type": "display_data",
                    "data": {
                        "text/html": "Total execution time: 00:00:00.012"
                    },
                    "metadata": {}
                },
                {
                    "output_type": "execute_result",
                    "execution_count": 50,
                    "data": {
                        "application/vnd.dataresource+json": {
                            "schema": {
                                "fields": [
                                    {
                                        "name": "Year"
                                    },
                                    {
                                        "name": "Month"
                                    },
                                    {
                                        "name": "Total Point Used (In Baht)"
                                    },
                                    {
                                        "name": "Total Sales"
                                    },
                                    {
                                        "name": "Point Conversion Rate"
                                    }
                                ]
                            },
                            "data": [
                                {
                                    "Year": "2023",
                                    "Month": "1",
                                    "Total Point Used (In Baht)": "700.00",
                                    "Total Sales": "196750",
                                    "Point Conversion Rate": "       0.36%"
                                },
                                {
                                    "Year": "2023",
                                    "Month": "2",
                                    "Total Point Used (In Baht)": "1100.00",
                                    "Total Sales": "76700",
                                    "Point Conversion Rate": "       1.43%"
                                },
                                {
                                    "Year": "2023",
                                    "Month": "3",
                                    "Total Point Used (In Baht)": "0.00",
                                    "Total Sales": "143130",
                                    "Point Conversion Rate": "       0.00%"
                                },
                                {
                                    "Year": "2023",
                                    "Month": "4",
                                    "Total Point Used (In Baht)": "750.00",
                                    "Total Sales": "87100",
                                    "Point Conversion Rate": "       0.86%"
                                },
                                {
                                    "Year": "2023",
                                    "Month": "5",
                                    "Total Point Used (In Baht)": "0.00",
                                    "Total Sales": "125660",
                                    "Point Conversion Rate": "       0.00%"
                                },
                                {
                                    "Year": "2023",
                                    "Month": "6",
                                    "Total Point Used (In Baht)": "1550.00",
                                    "Total Sales": "256840",
                                    "Point Conversion Rate": "       0.60%"
                                },
                                {
                                    "Year": "2023",
                                    "Month": "7",
                                    "Total Point Used (In Baht)": "950.00",
                                    "Total Sales": "171910",
                                    "Point Conversion Rate": "       0.55%"
                                },
                                {
                                    "Year": "2023",
                                    "Month": "8",
                                    "Total Point Used (In Baht)": "250.00",
                                    "Total Sales": "148200",
                                    "Point Conversion Rate": "       0.17%"
                                },
                                {
                                    "Year": "2023",
                                    "Month": "9",
                                    "Total Point Used (In Baht)": "1500.00",
                                    "Total Sales": "122220",
                                    "Point Conversion Rate": "       1.23%"
                                },
                                {
                                    "Year": "2023",
                                    "Month": "10",
                                    "Total Point Used (In Baht)": "400.00",
                                    "Total Sales": "28800",
                                    "Point Conversion Rate": "       1.39%"
                                },
                                {
                                    "Year": "2023",
                                    "Month": "11",
                                    "Total Point Used (In Baht)": "2200.00",
                                    "Total Sales": "101620",
                                    "Point Conversion Rate": "       2.16%"
                                },
                                {
                                    "Year": "2023",
                                    "Month": "12",
                                    "Total Point Used (In Baht)": "400.00",
                                    "Total Sales": "32630",
                                    "Point Conversion Rate": "       1.23%"
                                },
                                {
                                    "Year": "2022",
                                    "Month": "1",
                                    "Total Point Used (In Baht)": "0.00",
                                    "Total Sales": "66180",
                                    "Point Conversion Rate": "       0.00%"
                                },
                                {
                                    "Year": "2022",
                                    "Month": "2",
                                    "Total Point Used (In Baht)": "800.00",
                                    "Total Sales": "23790",
                                    "Point Conversion Rate": "       3.36%"
                                },
                                {
                                    "Year": "2022",
                                    "Month": "3",
                                    "Total Point Used (In Baht)": "600.00",
                                    "Total Sales": "191740",
                                    "Point Conversion Rate": "       0.31%"
                                },
                                {
                                    "Year": "2022",
                                    "Month": "4",
                                    "Total Point Used (In Baht)": "1200.00",
                                    "Total Sales": "148510",
                                    "Point Conversion Rate": "       0.81%"
                                },
                                {
                                    "Year": "2022",
                                    "Month": "5",
                                    "Total Point Used (In Baht)": "0.00",
                                    "Total Sales": "21500",
                                    "Point Conversion Rate": "       0.00%"
                                },
                                {
                                    "Year": "2022",
                                    "Month": "6",
                                    "Total Point Used (In Baht)": "600.00",
                                    "Total Sales": "65090",
                                    "Point Conversion Rate": "       0.92%"
                                },
                                {
                                    "Year": "2022",
                                    "Month": "7",
                                    "Total Point Used (In Baht)": "800.00",
                                    "Total Sales": "80270",
                                    "Point Conversion Rate": "       1.00%"
                                },
                                {
                                    "Year": "2022",
                                    "Month": "8",
                                    "Total Point Used (In Baht)": "2050.00",
                                    "Total Sales": "97340",
                                    "Point Conversion Rate": "       2.11%"
                                },
                                {
                                    "Year": "2022",
                                    "Month": "9",
                                    "Total Point Used (In Baht)": "0.00",
                                    "Total Sales": "79590",
                                    "Point Conversion Rate": "       0.00%"
                                },
                                {
                                    "Year": "2022",
                                    "Month": "10",
                                    "Total Point Used (In Baht)": "800.00",
                                    "Total Sales": "196800",
                                    "Point Conversion Rate": "       0.41%"
                                },
                                {
                                    "Year": "2022",
                                    "Month": "11",
                                    "Total Point Used (In Baht)": "0.00",
                                    "Total Sales": "69100",
                                    "Point Conversion Rate": "       0.00%"
                                },
                                {
                                    "Year": "2022",
                                    "Month": "12",
                                    "Total Point Used (In Baht)": "800.00",
                                    "Total Sales": "45230",
                                    "Point Conversion Rate": "       1.77%"
                                },
                                {
                                    "Year": "2021",
                                    "Month": "1",
                                    "Total Point Used (In Baht)": "900.00",
                                    "Total Sales": "55930",
                                    "Point Conversion Rate": "       1.61%"
                                },
                                {
                                    "Year": "2021",
                                    "Month": "2",
                                    "Total Point Used (In Baht)": "2000.00",
                                    "Total Sales": "122910",
                                    "Point Conversion Rate": "       1.63%"
                                },
                                {
                                    "Year": "2021",
                                    "Month": "3",
                                    "Total Point Used (In Baht)": "1000.00",
                                    "Total Sales": "142920",
                                    "Point Conversion Rate": "       0.70%"
                                },
                                {
                                    "Year": "2021",
                                    "Month": "4",
                                    "Total Point Used (In Baht)": "0.00",
                                    "Total Sales": "71400",
                                    "Point Conversion Rate": "       0.00%"
                                },
                                {
                                    "Year": "2021",
                                    "Month": "5",
                                    "Total Point Used (In Baht)": "300.00",
                                    "Total Sales": "41960",
                                    "Point Conversion Rate": "       0.71%"
                                },
                                {
                                    "Year": "2021",
                                    "Month": "6",
                                    "Total Point Used (In Baht)": "2400.00",
                                    "Total Sales": "37320",
                                    "Point Conversion Rate": "       6.43%"
                                },
                                {
                                    "Year": "2021",
                                    "Month": "7",
                                    "Total Point Used (In Baht)": "1650.00",
                                    "Total Sales": "107200",
                                    "Point Conversion Rate": "       1.54%"
                                },
                                {
                                    "Year": "2021",
                                    "Month": "8",
                                    "Total Point Used (In Baht)": "700.00",
                                    "Total Sales": "42840",
                                    "Point Conversion Rate": "       1.63%"
                                },
                                {
                                    "Year": "2021",
                                    "Month": "9",
                                    "Total Point Used (In Baht)": "150.00",
                                    "Total Sales": "38830",
                                    "Point Conversion Rate": "       0.39%"
                                },
                                {
                                    "Year": "2021",
                                    "Month": "10",
                                    "Total Point Used (In Baht)": "450.00",
                                    "Total Sales": "102310",
                                    "Point Conversion Rate": "       0.44%"
                                },
                                {
                                    "Year": "2021",
                                    "Month": "11",
                                    "Total Point Used (In Baht)": "350.00",
                                    "Total Sales": "70300",
                                    "Point Conversion Rate": "       0.50%"
                                },
                                {
                                    "Year": "2021",
                                    "Month": "12",
                                    "Total Point Used (In Baht)": "150.00",
                                    "Total Sales": "64580",
                                    "Point Conversion Rate": "       0.23%"
                                },
                                {
                                    "Year": "2020",
                                    "Month": "1",
                                    "Total Point Used (In Baht)": "550.00",
                                    "Total Sales": "93610",
                                    "Point Conversion Rate": "       0.59%"
                                },
                                {
                                    "Year": "2020",
                                    "Month": "2",
                                    "Total Point Used (In Baht)": "1400.00",
                                    "Total Sales": "199040",
                                    "Point Conversion Rate": "       0.70%"
                                },
                                {
                                    "Year": "2020",
                                    "Month": "3",
                                    "Total Point Used (In Baht)": "400.00",
                                    "Total Sales": "121350",
                                    "Point Conversion Rate": "       0.33%"
                                },
                                {
                                    "Year": "2020",
                                    "Month": "4",
                                    "Total Point Used (In Baht)": "900.00",
                                    "Total Sales": "117800",
                                    "Point Conversion Rate": "       0.76%"
                                },
                                {
                                    "Year": "2020",
                                    "Month": "5",
                                    "Total Point Used (In Baht)": "1300.00",
                                    "Total Sales": "150090",
                                    "Point Conversion Rate": "       0.87%"
                                },
                                {
                                    "Year": "2020",
                                    "Month": "6",
                                    "Total Point Used (In Baht)": "0.00",
                                    "Total Sales": "47360",
                                    "Point Conversion Rate": "       0.00%"
                                },
                                {
                                    "Year": "2020",
                                    "Month": "7",
                                    "Total Point Used (In Baht)": "1650.00",
                                    "Total Sales": "100600",
                                    "Point Conversion Rate": "       1.64%"
                                },
                                {
                                    "Year": "2020",
                                    "Month": "8",
                                    "Total Point Used (In Baht)": "1500.00",
                                    "Total Sales": "164000",
                                    "Point Conversion Rate": "       0.91%"
                                },
                                {
                                    "Year": "2020",
                                    "Month": "9",
                                    "Total Point Used (In Baht)": "1000.00",
                                    "Total Sales": "40410",
                                    "Point Conversion Rate": "       2.47%"
                                },
                                {
                                    "Year": "2020",
                                    "Month": "10",
                                    "Total Point Used (In Baht)": "0.00",
                                    "Total Sales": "68550",
                                    "Point Conversion Rate": "       0.00%"
                                },
                                {
                                    "Year": "2020",
                                    "Month": "11",
                                    "Total Point Used (In Baht)": "1350.00",
                                    "Total Sales": "48380",
                                    "Point Conversion Rate": "       2.79%"
                                },
                                {
                                    "Year": "2020",
                                    "Month": "12",
                                    "Total Point Used (In Baht)": "2150.00",
                                    "Total Sales": "387540",
                                    "Point Conversion Rate": "       0.55%"
                                },
                                {
                                    "Year": "2019",
                                    "Month": "1",
                                    "Total Point Used (In Baht)": "1100.00",
                                    "Total Sales": "91960",
                                    "Point Conversion Rate": "       1.20%"
                                },
                                {
                                    "Year": "2019",
                                    "Month": "2",
                                    "Total Point Used (In Baht)": "700.00",
                                    "Total Sales": "234030",
                                    "Point Conversion Rate": "       0.30%"
                                },
                                {
                                    "Year": "2019",
                                    "Month": "3",
                                    "Total Point Used (In Baht)": "500.00",
                                    "Total Sales": "85070",
                                    "Point Conversion Rate": "       0.59%"
                                },
                                {
                                    "Year": "2019",
                                    "Month": "4",
                                    "Total Point Used (In Baht)": "600.00",
                                    "Total Sales": "117010",
                                    "Point Conversion Rate": "       0.51%"
                                },
                                {
                                    "Year": "2019",
                                    "Month": "5",
                                    "Total Point Used (In Baht)": "1300.00",
                                    "Total Sales": "208310",
                                    "Point Conversion Rate": "       0.62%"
                                },
                                {
                                    "Year": "2019",
                                    "Month": "6",
                                    "Total Point Used (In Baht)": "1650.00",
                                    "Total Sales": "141370",
                                    "Point Conversion Rate": "       1.17%"
                                },
                                {
                                    "Year": "2019",
                                    "Month": "7",
                                    "Total Point Used (In Baht)": "1700.00",
                                    "Total Sales": "119560",
                                    "Point Conversion Rate": "       1.42%"
                                },
                                {
                                    "Year": "2019",
                                    "Month": "8",
                                    "Total Point Used (In Baht)": "1100.00",
                                    "Total Sales": "64410",
                                    "Point Conversion Rate": "       1.71%"
                                },
                                {
                                    "Year": "2019",
                                    "Month": "9",
                                    "Total Point Used (In Baht)": "1700.00",
                                    "Total Sales": "183660",
                                    "Point Conversion Rate": "       0.93%"
                                },
                                {
                                    "Year": "2019",
                                    "Month": "10",
                                    "Total Point Used (In Baht)": "1000.00",
                                    "Total Sales": "64770",
                                    "Point Conversion Rate": "       1.54%"
                                },
                                {
                                    "Year": "2019",
                                    "Month": "11",
                                    "Total Point Used (In Baht)": "200.00",
                                    "Total Sales": "74050",
                                    "Point Conversion Rate": "       0.27%"
                                },
                                {
                                    "Year": "2019",
                                    "Month": "12",
                                    "Total Point Used (In Baht)": "2850.00",
                                    "Total Sales": "185530",
                                    "Point Conversion Rate": "       1.54%"
                                },
                                {
                                    "Year": "2018",
                                    "Month": "1",
                                    "Total Point Used (In Baht)": "1450.00",
                                    "Total Sales": "43440",
                                    "Point Conversion Rate": "       3.34%"
                                },
                                {
                                    "Year": "2018",
                                    "Month": "2",
                                    "Total Point Used (In Baht)": "2900.00",
                                    "Total Sales": "180330",
                                    "Point Conversion Rate": "       1.61%"
                                },
                                {
                                    "Year": "2018",
                                    "Month": "3",
                                    "Total Point Used (In Baht)": "400.00",
                                    "Total Sales": "125780",
                                    "Point Conversion Rate": "       0.32%"
                                },
                                {
                                    "Year": "2018",
                                    "Month": "4",
                                    "Total Point Used (In Baht)": "500.00",
                                    "Total Sales": "85270",
                                    "Point Conversion Rate": "       0.59%"
                                },
                                {
                                    "Year": "2018",
                                    "Month": "5",
                                    "Total Point Used (In Baht)": "900.00",
                                    "Total Sales": "136060",
                                    "Point Conversion Rate": "       0.66%"
                                },
                                {
                                    "Year": "2018",
                                    "Month": "6",
                                    "Total Point Used (In Baht)": "1200.00",
                                    "Total Sales": "93560",
                                    "Point Conversion Rate": "       1.28%"
                                },
                                {
                                    "Year": "2018",
                                    "Month": "7",
                                    "Total Point Used (In Baht)": "900.00",
                                    "Total Sales": "118770",
                                    "Point Conversion Rate": "       0.76%"
                                },
                                {
                                    "Year": "2018",
                                    "Month": "8",
                                    "Total Point Used (In Baht)": "2900.00",
                                    "Total Sales": "144680",
                                    "Point Conversion Rate": "       2.00%"
                                },
                                {
                                    "Year": "2018",
                                    "Month": "9",
                                    "Total Point Used (In Baht)": "1600.00",
                                    "Total Sales": "393900",
                                    "Point Conversion Rate": "       0.41%"
                                },
                                {
                                    "Year": "2018",
                                    "Month": "10",
                                    "Total Point Used (In Baht)": "1000.00",
                                    "Total Sales": "174900",
                                    "Point Conversion Rate": "       0.57%"
                                },
                                {
                                    "Year": "2018",
                                    "Month": "11",
                                    "Total Point Used (In Baht)": "700.00",
                                    "Total Sales": "129310",
                                    "Point Conversion Rate": "       0.54%"
                                },
                                {
                                    "Year": "2018",
                                    "Month": "12",
                                    "Total Point Used (In Baht)": "400.00",
                                    "Total Sales": "118590",
                                    "Point Conversion Rate": "       0.34%"
                                },
                                {
                                    "Year": "2017",
                                    "Month": "1",
                                    "Total Point Used (In Baht)": "2600.00",
                                    "Total Sales": "224510",
                                    "Point Conversion Rate": "       1.16%"
                                },
                                {
                                    "Year": "2017",
                                    "Month": "2",
                                    "Total Point Used (In Baht)": "850.00",
                                    "Total Sales": "154090",
                                    "Point Conversion Rate": "       0.55%"
                                },
                                {
                                    "Year": "2017",
                                    "Month": "3",
                                    "Total Point Used (In Baht)": "500.00",
                                    "Total Sales": "74340",
                                    "Point Conversion Rate": "       0.67%"
                                },
                                {
                                    "Year": "2017",
                                    "Month": "4",
                                    "Total Point Used (In Baht)": "1700.00",
                                    "Total Sales": "124050",
                                    "Point Conversion Rate": "       1.37%"
                                },
                                {
                                    "Year": "2017",
                                    "Month": "5",
                                    "Total Point Used (In Baht)": "1600.00",
                                    "Total Sales": "124130",
                                    "Point Conversion Rate": "       1.29%"
                                },
                                {
                                    "Year": "2017",
                                    "Month": "6",
                                    "Total Point Used (In Baht)": "2400.00",
                                    "Total Sales": "110830",
                                    "Point Conversion Rate": "       2.17%"
                                },
                                {
                                    "Year": "2017",
                                    "Month": "7",
                                    "Total Point Used (In Baht)": "400.00",
                                    "Total Sales": "89870",
                                    "Point Conversion Rate": "       0.45%"
                                },
                                {
                                    "Year": "2017",
                                    "Month": "8",
                                    "Total Point Used (In Baht)": "1500.00",
                                    "Total Sales": "130470",
                                    "Point Conversion Rate": "       1.15%"
                                },
                                {
                                    "Year": "2017",
                                    "Month": "9",
                                    "Total Point Used (In Baht)": "600.00",
                                    "Total Sales": "72020",
                                    "Point Conversion Rate": "       0.83%"
                                },
                                {
                                    "Year": "2017",
                                    "Month": "10",
                                    "Total Point Used (In Baht)": "3200.00",
                                    "Total Sales": "213390",
                                    "Point Conversion Rate": "       1.50%"
                                },
                                {
                                    "Year": "2017",
                                    "Month": "11",
                                    "Total Point Used (In Baht)": "300.00",
                                    "Total Sales": "69740",
                                    "Point Conversion Rate": "       0.43%"
                                },
                                {
                                    "Year": "2017",
                                    "Month": "12",
                                    "Total Point Used (In Baht)": "400.00",
                                    "Total Sales": "102030",
                                    "Point Conversion Rate": "       0.39%"
                                },
                                {
                                    "Year": "2016",
                                    "Month": "1",
                                    "Total Point Used (In Baht)": "400.00",
                                    "Total Sales": "79280",
                                    "Point Conversion Rate": "       0.50%"
                                },
                                {
                                    "Year": "2016",
                                    "Month": "2",
                                    "Total Point Used (In Baht)": "1050.00",
                                    "Total Sales": "108600",
                                    "Point Conversion Rate": "       0.97%"
                                },
                                {
                                    "Year": "2016",
                                    "Month": "3",
                                    "Total Point Used (In Baht)": "2000.00",
                                    "Total Sales": "114910",
                                    "Point Conversion Rate": "       1.74%"
                                },
                                {
                                    "Year": "2016",
                                    "Month": "4",
                                    "Total Point Used (In Baht)": "800.00",
                                    "Total Sales": "241890",
                                    "Point Conversion Rate": "       0.33%"
                                },
                                {
                                    "Year": "2016",
                                    "Month": "5",
                                    "Total Point Used (In Baht)": "1200.00",
                                    "Total Sales": "161860",
                                    "Point Conversion Rate": "       0.74%"
                                },
                                {
                                    "Year": "2016",
                                    "Month": "6",
                                    "Total Point Used (In Baht)": "250.00",
                                    "Total Sales": "96100",
                                    "Point Conversion Rate": "       0.26%"
                                },
                                {
                                    "Year": "2016",
                                    "Month": "7",
                                    "Total Point Used (In Baht)": "1100.00",
                                    "Total Sales": "152910",
                                    "Point Conversion Rate": "       0.72%"
                                },
                                {
                                    "Year": "2016",
                                    "Month": "8",
                                    "Total Point Used (In Baht)": "1300.00",
                                    "Total Sales": "120670",
                                    "Point Conversion Rate": "       1.08%"
                                },
                                {
                                    "Year": "2016",
                                    "Month": "9",
                                    "Total Point Used (In Baht)": "0.00",
                                    "Total Sales": "59840",
                                    "Point Conversion Rate": "       0.00%"
                                },
                                {
                                    "Year": "2016",
                                    "Month": "10",
                                    "Total Point Used (In Baht)": "1600.00",
                                    "Total Sales": "154340",
                                    "Point Conversion Rate": "       1.04%"
                                },
                                {
                                    "Year": "2016",
                                    "Month": "11",
                                    "Total Point Used (In Baht)": "800.00",
                                    "Total Sales": "87920",
                                    "Point Conversion Rate": "       0.91%"
                                },
                                {
                                    "Year": "2016",
                                    "Month": "12",
                                    "Total Point Used (In Baht)": "100.00",
                                    "Total Sales": "105580",
                                    "Point Conversion Rate": "       0.09%"
                                },
                                {
                                    "Year": "2015",
                                    "Month": "1",
                                    "Total Point Used (In Baht)": "0.00",
                                    "Total Sales": "72670",
                                    "Point Conversion Rate": "       0.00%"
                                },
                                {
                                    "Year": "2015",
                                    "Month": "2",
                                    "Total Point Used (In Baht)": "1000.00",
                                    "Total Sales": "27880",
                                    "Point Conversion Rate": "       3.59%"
                                },
                                {
                                    "Year": "2015",
                                    "Month": "3",
                                    "Total Point Used (In Baht)": "0.00",
                                    "Total Sales": "180880",
                                    "Point Conversion Rate": "       0.00%"
                                },
                                {
                                    "Year": "2015",
                                    "Month": "4",
                                    "Total Point Used (In Baht)": "700.00",
                                    "Total Sales": "97070",
                                    "Point Conversion Rate": "       0.72%"
                                },
                                {
                                    "Year": "2015",
                                    "Month": "5",
                                    "Total Point Used (In Baht)": "300.00",
                                    "Total Sales": "141820",
                                    "Point Conversion Rate": "       0.21%"
                                },
                                {
                                    "Year": "2015",
                                    "Month": "6",
                                    "Total Point Used (In Baht)": "340.00",
                                    "Total Sales": "135090",
                                    "Point Conversion Rate": "       0.25%"
                                },
                                {
                                    "Year": "2015",
                                    "Month": "7",
                                    "Total Point Used (In Baht)": "500.00",
                                    "Total Sales": "101190",
                                    "Point Conversion Rate": "       0.49%"
                                },
                                {
                                    "Year": "2015",
                                    "Month": "8",
                                    "Total Point Used (In Baht)": "600.00",
                                    "Total Sales": "116450",
                                    "Point Conversion Rate": "       0.52%"
                                },
                                {
                                    "Year": "2015",
                                    "Month": "9",
                                    "Total Point Used (In Baht)": "150.00",
                                    "Total Sales": "106850",
                                    "Point Conversion Rate": "       0.14%"
                                },
                                {
                                    "Year": "2015",
                                    "Month": "10",
                                    "Total Point Used (In Baht)": "1300.00",
                                    "Total Sales": "103500",
                                    "Point Conversion Rate": "       1.26%"
                                },
                                {
                                    "Year": "2015",
                                    "Month": "11",
                                    "Total Point Used (In Baht)": "200.00",
                                    "Total Sales": "179270",
                                    "Point Conversion Rate": "       0.11%"
                                },
                                {
                                    "Year": "2015",
                                    "Month": "12",
                                    "Total Point Used (In Baht)": "700.00",
                                    "Total Sales": "126450",
                                    "Point Conversion Rate": "       0.55%"
                                },
                                {
                                    "Year": "2014",
                                    "Month": "1",
                                    "Total Point Used (In Baht)": "1100.00",
                                    "Total Sales": "69500",
                                    "Point Conversion Rate": "       1.58%"
                                },
                                {
                                    "Year": "2014",
                                    "Month": "2",
                                    "Total Point Used (In Baht)": "200.00",
                                    "Total Sales": "39590",
                                    "Point Conversion Rate": "       0.51%"
                                },
                                {
                                    "Year": "2014",
                                    "Month": "3",
                                    "Total Point Used (In Baht)": "500.00",
                                    "Total Sales": "149670",
                                    "Point Conversion Rate": "       0.33%"
                                },
                                {
                                    "Year": "2014",
                                    "Month": "4",
                                    "Total Point Used (In Baht)": "0.00",
                                    "Total Sales": "65470",
                                    "Point Conversion Rate": "       0.00%"
                                },
                                {
                                    "Year": "2014",
                                    "Month": "5",
                                    "Total Point Used (In Baht)": "100.00",
                                    "Total Sales": "107240",
                                    "Point Conversion Rate": "       0.09%"
                                },
                                {
                                    "Year": "2014",
                                    "Month": "6",
                                    "Total Point Used (In Baht)": "100.00",
                                    "Total Sales": "92650",
                                    "Point Conversion Rate": "       0.11%"
                                },
                                {
                                    "Year": "2014",
                                    "Month": "7",
                                    "Total Point Used (In Baht)": "700.00",
                                    "Total Sales": "87760",
                                    "Point Conversion Rate": "       0.80%"
                                },
                                {
                                    "Year": "2014",
                                    "Month": "8",
                                    "Total Point Used (In Baht)": "500.00",
                                    "Total Sales": "52270",
                                    "Point Conversion Rate": "       0.96%"
                                },
                                {
                                    "Year": "2014",
                                    "Month": "9",
                                    "Total Point Used (In Baht)": "0.00",
                                    "Total Sales": "72370",
                                    "Point Conversion Rate": "       0.00%"
                                },
                                {
                                    "Year": "2014",
                                    "Month": "10",
                                    "Total Point Used (In Baht)": "2100.00",
                                    "Total Sales": "96390",
                                    "Point Conversion Rate": "       2.18%"
                                },
                                {
                                    "Year": "2014",
                                    "Month": "11",
                                    "Total Point Used (In Baht)": "200.00",
                                    "Total Sales": "76150",
                                    "Point Conversion Rate": "       0.26%"
                                },
                                {
                                    "Year": "2014",
                                    "Month": "12",
                                    "Total Point Used (In Baht)": "300.00",
                                    "Total Sales": "47470",
                                    "Point Conversion Rate": "       0.63%"
                                },
                                {
                                    "Year": "2013",
                                    "Month": "1",
                                    "Total Point Used (In Baht)": "900.00",
                                    "Total Sales": "69290",
                                    "Point Conversion Rate": "       1.30%"
                                },
                                {
                                    "Year": "2013",
                                    "Month": "2",
                                    "Total Point Used (In Baht)": "1400.00",
                                    "Total Sales": "251190",
                                    "Point Conversion Rate": "       0.56%"
                                },
                                {
                                    "Year": "2013",
                                    "Month": "3",
                                    "Total Point Used (In Baht)": "150.00",
                                    "Total Sales": "111620",
                                    "Point Conversion Rate": "       0.13%"
                                },
                                {
                                    "Year": "2013",
                                    "Month": "4",
                                    "Total Point Used (In Baht)": "200.00",
                                    "Total Sales": "36900",
                                    "Point Conversion Rate": "       0.54%"
                                },
                                {
                                    "Year": "2013",
                                    "Month": "5",
                                    "Total Point Used (In Baht)": "1500.00",
                                    "Total Sales": "134400",
                                    "Point Conversion Rate": "       1.12%"
                                },
                                {
                                    "Year": "2013",
                                    "Month": "6",
                                    "Total Point Used (In Baht)": "300.00",
                                    "Total Sales": "150010",
                                    "Point Conversion Rate": "       0.20%"
                                },
                                {
                                    "Year": "2013",
                                    "Month": "7",
                                    "Total Point Used (In Baht)": "800.00",
                                    "Total Sales": "145730",
                                    "Point Conversion Rate": "       0.55%"
                                },
                                {
                                    "Year": "2013",
                                    "Month": "8",
                                    "Total Point Used (In Baht)": "2000.00",
                                    "Total Sales": "66990",
                                    "Point Conversion Rate": "       2.99%"
                                },
                                {
                                    "Year": "2013",
                                    "Month": "9",
                                    "Total Point Used (In Baht)": "100.00",
                                    "Total Sales": "67290",
                                    "Point Conversion Rate": "       0.15%"
                                },
                                {
                                    "Year": "2013",
                                    "Month": "10",
                                    "Total Point Used (In Baht)": "1200.00",
                                    "Total Sales": "120720",
                                    "Point Conversion Rate": "       0.99%"
                                },
                                {
                                    "Year": "2013",
                                    "Month": "11",
                                    "Total Point Used (In Baht)": "100.00",
                                    "Total Sales": "157110",
                                    "Point Conversion Rate": "       0.06%"
                                },
                                {
                                    "Year": "2013",
                                    "Month": "12",
                                    "Total Point Used (In Baht)": "400.00",
                                    "Total Sales": "78560",
                                    "Point Conversion Rate": "       0.51%"
                                },
                                {
                                    "Year": "2012",
                                    "Month": "1",
                                    "Total Point Used (In Baht)": "1300.00",
                                    "Total Sales": "139180",
                                    "Point Conversion Rate": "       0.93%"
                                },
                                {
                                    "Year": "2012",
                                    "Month": "2",
                                    "Total Point Used (In Baht)": "200.00",
                                    "Total Sales": "93310",
                                    "Point Conversion Rate": "       0.21%"
                                },
                                {
                                    "Year": "2012",
                                    "Month": "3",
                                    "Total Point Used (In Baht)": "0.00",
                                    "Total Sales": "69640",
                                    "Point Conversion Rate": "       0.00%"
                                },
                                {
                                    "Year": "2012",
                                    "Month": "4",
                                    "Total Point Used (In Baht)": "200.00",
                                    "Total Sales": "89260",
                                    "Point Conversion Rate": "       0.22%"
                                },
                                {
                                    "Year": "2012",
                                    "Month": "5",
                                    "Total Point Used (In Baht)": "700.00",
                                    "Total Sales": "118880",
                                    "Point Conversion Rate": "       0.59%"
                                },
                                {
                                    "Year": "2012",
                                    "Month": "6",
                                    "Total Point Used (In Baht)": "950.00",
                                    "Total Sales": "262610",
                                    "Point Conversion Rate": "       0.36%"
                                },
                                {
                                    "Year": "2012",
                                    "Month": "7",
                                    "Total Point Used (In Baht)": "900.00",
                                    "Total Sales": "75870",
                                    "Point Conversion Rate": "       1.19%"
                                },
                                {
                                    "Year": "2012",
                                    "Month": "8",
                                    "Total Point Used (In Baht)": "130.00",
                                    "Total Sales": "212540",
                                    "Point Conversion Rate": "       0.06%"
                                },
                                {
                                    "Year": "2012",
                                    "Month": "9",
                                    "Total Point Used (In Baht)": "300.00",
                                    "Total Sales": "151750",
                                    "Point Conversion Rate": "       0.20%"
                                },
                                {
                                    "Year": "2012",
                                    "Month": "10",
                                    "Total Point Used (In Baht)": "450.00",
                                    "Total Sales": "126730",
                                    "Point Conversion Rate": "       0.36%"
                                },
                                {
                                    "Year": "2012",
                                    "Month": "11",
                                    "Total Point Used (In Baht)": "800.00",
                                    "Total Sales": "94130",
                                    "Point Conversion Rate": "       0.85%"
                                },
                                {
                                    "Year": "2012",
                                    "Month": "12",
                                    "Total Point Used (In Baht)": "900.00",
                                    "Total Sales": "184200",
                                    "Point Conversion Rate": "       0.49%"
                                },
                                {
                                    "Year": "2011",
                                    "Month": "1",
                                    "Total Point Used (In Baht)": "0.00",
                                    "Total Sales": "101420",
                                    "Point Conversion Rate": "       0.00%"
                                },
                                {
                                    "Year": "2011",
                                    "Month": "2",
                                    "Total Point Used (In Baht)": "0.00",
                                    "Total Sales": "101090",
                                    "Point Conversion Rate": "       0.00%"
                                },
                                {
                                    "Year": "2011",
                                    "Month": "3",
                                    "Total Point Used (In Baht)": "0.00",
                                    "Total Sales": "92720",
                                    "Point Conversion Rate": "       0.00%"
                                },
                                {
                                    "Year": "2011",
                                    "Month": "4",
                                    "Total Point Used (In Baht)": "0.00",
                                    "Total Sales": "73430",
                                    "Point Conversion Rate": "       0.00%"
                                },
                                {
                                    "Year": "2011",
                                    "Month": "5",
                                    "Total Point Used (In Baht)": "0.00",
                                    "Total Sales": "76030",
                                    "Point Conversion Rate": "       0.00%"
                                },
                                {
                                    "Year": "2011",
                                    "Month": "6",
                                    "Total Point Used (In Baht)": "0.00",
                                    "Total Sales": "141880",
                                    "Point Conversion Rate": "       0.00%"
                                },
                                {
                                    "Year": "2011",
                                    "Month": "7",
                                    "Total Point Used (In Baht)": "600.00",
                                    "Total Sales": "56300",
                                    "Point Conversion Rate": "       1.07%"
                                },
                                {
                                    "Year": "2011",
                                    "Month": "8",
                                    "Total Point Used (In Baht)": "0.00",
                                    "Total Sales": "108990",
                                    "Point Conversion Rate": "       0.00%"
                                },
                                {
                                    "Year": "2011",
                                    "Month": "9",
                                    "Total Point Used (In Baht)": "0.00",
                                    "Total Sales": "73300",
                                    "Point Conversion Rate": "       0.00%"
                                },
                                {
                                    "Year": "2011",
                                    "Month": "10",
                                    "Total Point Used (In Baht)": "0.00",
                                    "Total Sales": "48720",
                                    "Point Conversion Rate": "       0.00%"
                                },
                                {
                                    "Year": "2011",
                                    "Month": "11",
                                    "Total Point Used (In Baht)": "0.00",
                                    "Total Sales": "96030",
                                    "Point Conversion Rate": "       0.00%"
                                },
                                {
                                    "Year": "2011",
                                    "Month": "12",
                                    "Total Point Used (In Baht)": "1300.00",
                                    "Total Sales": "170870",
                                    "Point Conversion Rate": "       0.76%"
                                }
                            ]
                        },
                        "text/html": "<table><tr><th>Year</th><th>Month</th><th>Total Point Used (In Baht)</th><th>Total Sales</th><th>Point Conversion Rate</th></tr><tr><td>2023</td><td>1</td><td>700.00</td><td>196750</td><td>       0.36%</td></tr><tr><td>2023</td><td>2</td><td>1100.00</td><td>76700</td><td>       1.43%</td></tr><tr><td>2023</td><td>3</td><td>0.00</td><td>143130</td><td>       0.00%</td></tr><tr><td>2023</td><td>4</td><td>750.00</td><td>87100</td><td>       0.86%</td></tr><tr><td>2023</td><td>5</td><td>0.00</td><td>125660</td><td>       0.00%</td></tr><tr><td>2023</td><td>6</td><td>1550.00</td><td>256840</td><td>       0.60%</td></tr><tr><td>2023</td><td>7</td><td>950.00</td><td>171910</td><td>       0.55%</td></tr><tr><td>2023</td><td>8</td><td>250.00</td><td>148200</td><td>       0.17%</td></tr><tr><td>2023</td><td>9</td><td>1500.00</td><td>122220</td><td>       1.23%</td></tr><tr><td>2023</td><td>10</td><td>400.00</td><td>28800</td><td>       1.39%</td></tr><tr><td>2023</td><td>11</td><td>2200.00</td><td>101620</td><td>       2.16%</td></tr><tr><td>2023</td><td>12</td><td>400.00</td><td>32630</td><td>       1.23%</td></tr><tr><td>2022</td><td>1</td><td>0.00</td><td>66180</td><td>       0.00%</td></tr><tr><td>2022</td><td>2</td><td>800.00</td><td>23790</td><td>       3.36%</td></tr><tr><td>2022</td><td>3</td><td>600.00</td><td>191740</td><td>       0.31%</td></tr><tr><td>2022</td><td>4</td><td>1200.00</td><td>148510</td><td>       0.81%</td></tr><tr><td>2022</td><td>5</td><td>0.00</td><td>21500</td><td>       0.00%</td></tr><tr><td>2022</td><td>6</td><td>600.00</td><td>65090</td><td>       0.92%</td></tr><tr><td>2022</td><td>7</td><td>800.00</td><td>80270</td><td>       1.00%</td></tr><tr><td>2022</td><td>8</td><td>2050.00</td><td>97340</td><td>       2.11%</td></tr><tr><td>2022</td><td>9</td><td>0.00</td><td>79590</td><td>       0.00%</td></tr><tr><td>2022</td><td>10</td><td>800.00</td><td>196800</td><td>       0.41%</td></tr><tr><td>2022</td><td>11</td><td>0.00</td><td>69100</td><td>       0.00%</td></tr><tr><td>2022</td><td>12</td><td>800.00</td><td>45230</td><td>       1.77%</td></tr><tr><td>2021</td><td>1</td><td>900.00</td><td>55930</td><td>       1.61%</td></tr><tr><td>2021</td><td>2</td><td>2000.00</td><td>122910</td><td>       1.63%</td></tr><tr><td>2021</td><td>3</td><td>1000.00</td><td>142920</td><td>       0.70%</td></tr><tr><td>2021</td><td>4</td><td>0.00</td><td>71400</td><td>       0.00%</td></tr><tr><td>2021</td><td>5</td><td>300.00</td><td>41960</td><td>       0.71%</td></tr><tr><td>2021</td><td>6</td><td>2400.00</td><td>37320</td><td>       6.43%</td></tr><tr><td>2021</td><td>7</td><td>1650.00</td><td>107200</td><td>       1.54%</td></tr><tr><td>2021</td><td>8</td><td>700.00</td><td>42840</td><td>       1.63%</td></tr><tr><td>2021</td><td>9</td><td>150.00</td><td>38830</td><td>       0.39%</td></tr><tr><td>2021</td><td>10</td><td>450.00</td><td>102310</td><td>       0.44%</td></tr><tr><td>2021</td><td>11</td><td>350.00</td><td>70300</td><td>       0.50%</td></tr><tr><td>2021</td><td>12</td><td>150.00</td><td>64580</td><td>       0.23%</td></tr><tr><td>2020</td><td>1</td><td>550.00</td><td>93610</td><td>       0.59%</td></tr><tr><td>2020</td><td>2</td><td>1400.00</td><td>199040</td><td>       0.70%</td></tr><tr><td>2020</td><td>3</td><td>400.00</td><td>121350</td><td>       0.33%</td></tr><tr><td>2020</td><td>4</td><td>900.00</td><td>117800</td><td>       0.76%</td></tr><tr><td>2020</td><td>5</td><td>1300.00</td><td>150090</td><td>       0.87%</td></tr><tr><td>2020</td><td>6</td><td>0.00</td><td>47360</td><td>       0.00%</td></tr><tr><td>2020</td><td>7</td><td>1650.00</td><td>100600</td><td>       1.64%</td></tr><tr><td>2020</td><td>8</td><td>1500.00</td><td>164000</td><td>       0.91%</td></tr><tr><td>2020</td><td>9</td><td>1000.00</td><td>40410</td><td>       2.47%</td></tr><tr><td>2020</td><td>10</td><td>0.00</td><td>68550</td><td>       0.00%</td></tr><tr><td>2020</td><td>11</td><td>1350.00</td><td>48380</td><td>       2.79%</td></tr><tr><td>2020</td><td>12</td><td>2150.00</td><td>387540</td><td>       0.55%</td></tr><tr><td>2019</td><td>1</td><td>1100.00</td><td>91960</td><td>       1.20%</td></tr><tr><td>2019</td><td>2</td><td>700.00</td><td>234030</td><td>       0.30%</td></tr><tr><td>2019</td><td>3</td><td>500.00</td><td>85070</td><td>       0.59%</td></tr><tr><td>2019</td><td>4</td><td>600.00</td><td>117010</td><td>       0.51%</td></tr><tr><td>2019</td><td>5</td><td>1300.00</td><td>208310</td><td>       0.62%</td></tr><tr><td>2019</td><td>6</td><td>1650.00</td><td>141370</td><td>       1.17%</td></tr><tr><td>2019</td><td>7</td><td>1700.00</td><td>119560</td><td>       1.42%</td></tr><tr><td>2019</td><td>8</td><td>1100.00</td><td>64410</td><td>       1.71%</td></tr><tr><td>2019</td><td>9</td><td>1700.00</td><td>183660</td><td>       0.93%</td></tr><tr><td>2019</td><td>10</td><td>1000.00</td><td>64770</td><td>       1.54%</td></tr><tr><td>2019</td><td>11</td><td>200.00</td><td>74050</td><td>       0.27%</td></tr><tr><td>2019</td><td>12</td><td>2850.00</td><td>185530</td><td>       1.54%</td></tr><tr><td>2018</td><td>1</td><td>1450.00</td><td>43440</td><td>       3.34%</td></tr><tr><td>2018</td><td>2</td><td>2900.00</td><td>180330</td><td>       1.61%</td></tr><tr><td>2018</td><td>3</td><td>400.00</td><td>125780</td><td>       0.32%</td></tr><tr><td>2018</td><td>4</td><td>500.00</td><td>85270</td><td>       0.59%</td></tr><tr><td>2018</td><td>5</td><td>900.00</td><td>136060</td><td>       0.66%</td></tr><tr><td>2018</td><td>6</td><td>1200.00</td><td>93560</td><td>       1.28%</td></tr><tr><td>2018</td><td>7</td><td>900.00</td><td>118770</td><td>       0.76%</td></tr><tr><td>2018</td><td>8</td><td>2900.00</td><td>144680</td><td>       2.00%</td></tr><tr><td>2018</td><td>9</td><td>1600.00</td><td>393900</td><td>       0.41%</td></tr><tr><td>2018</td><td>10</td><td>1000.00</td><td>174900</td><td>       0.57%</td></tr><tr><td>2018</td><td>11</td><td>700.00</td><td>129310</td><td>       0.54%</td></tr><tr><td>2018</td><td>12</td><td>400.00</td><td>118590</td><td>       0.34%</td></tr><tr><td>2017</td><td>1</td><td>2600.00</td><td>224510</td><td>       1.16%</td></tr><tr><td>2017</td><td>2</td><td>850.00</td><td>154090</td><td>       0.55%</td></tr><tr><td>2017</td><td>3</td><td>500.00</td><td>74340</td><td>       0.67%</td></tr><tr><td>2017</td><td>4</td><td>1700.00</td><td>124050</td><td>       1.37%</td></tr><tr><td>2017</td><td>5</td><td>1600.00</td><td>124130</td><td>       1.29%</td></tr><tr><td>2017</td><td>6</td><td>2400.00</td><td>110830</td><td>       2.17%</td></tr><tr><td>2017</td><td>7</td><td>400.00</td><td>89870</td><td>       0.45%</td></tr><tr><td>2017</td><td>8</td><td>1500.00</td><td>130470</td><td>       1.15%</td></tr><tr><td>2017</td><td>9</td><td>600.00</td><td>72020</td><td>       0.83%</td></tr><tr><td>2017</td><td>10</td><td>3200.00</td><td>213390</td><td>       1.50%</td></tr><tr><td>2017</td><td>11</td><td>300.00</td><td>69740</td><td>       0.43%</td></tr><tr><td>2017</td><td>12</td><td>400.00</td><td>102030</td><td>       0.39%</td></tr><tr><td>2016</td><td>1</td><td>400.00</td><td>79280</td><td>       0.50%</td></tr><tr><td>2016</td><td>2</td><td>1050.00</td><td>108600</td><td>       0.97%</td></tr><tr><td>2016</td><td>3</td><td>2000.00</td><td>114910</td><td>       1.74%</td></tr><tr><td>2016</td><td>4</td><td>800.00</td><td>241890</td><td>       0.33%</td></tr><tr><td>2016</td><td>5</td><td>1200.00</td><td>161860</td><td>       0.74%</td></tr><tr><td>2016</td><td>6</td><td>250.00</td><td>96100</td><td>       0.26%</td></tr><tr><td>2016</td><td>7</td><td>1100.00</td><td>152910</td><td>       0.72%</td></tr><tr><td>2016</td><td>8</td><td>1300.00</td><td>120670</td><td>       1.08%</td></tr><tr><td>2016</td><td>9</td><td>0.00</td><td>59840</td><td>       0.00%</td></tr><tr><td>2016</td><td>10</td><td>1600.00</td><td>154340</td><td>       1.04%</td></tr><tr><td>2016</td><td>11</td><td>800.00</td><td>87920</td><td>       0.91%</td></tr><tr><td>2016</td><td>12</td><td>100.00</td><td>105580</td><td>       0.09%</td></tr><tr><td>2015</td><td>1</td><td>0.00</td><td>72670</td><td>       0.00%</td></tr><tr><td>2015</td><td>2</td><td>1000.00</td><td>27880</td><td>       3.59%</td></tr><tr><td>2015</td><td>3</td><td>0.00</td><td>180880</td><td>       0.00%</td></tr><tr><td>2015</td><td>4</td><td>700.00</td><td>97070</td><td>       0.72%</td></tr><tr><td>2015</td><td>5</td><td>300.00</td><td>141820</td><td>       0.21%</td></tr><tr><td>2015</td><td>6</td><td>340.00</td><td>135090</td><td>       0.25%</td></tr><tr><td>2015</td><td>7</td><td>500.00</td><td>101190</td><td>       0.49%</td></tr><tr><td>2015</td><td>8</td><td>600.00</td><td>116450</td><td>       0.52%</td></tr><tr><td>2015</td><td>9</td><td>150.00</td><td>106850</td><td>       0.14%</td></tr><tr><td>2015</td><td>10</td><td>1300.00</td><td>103500</td><td>       1.26%</td></tr><tr><td>2015</td><td>11</td><td>200.00</td><td>179270</td><td>       0.11%</td></tr><tr><td>2015</td><td>12</td><td>700.00</td><td>126450</td><td>       0.55%</td></tr><tr><td>2014</td><td>1</td><td>1100.00</td><td>69500</td><td>       1.58%</td></tr><tr><td>2014</td><td>2</td><td>200.00</td><td>39590</td><td>       0.51%</td></tr><tr><td>2014</td><td>3</td><td>500.00</td><td>149670</td><td>       0.33%</td></tr><tr><td>2014</td><td>4</td><td>0.00</td><td>65470</td><td>       0.00%</td></tr><tr><td>2014</td><td>5</td><td>100.00</td><td>107240</td><td>       0.09%</td></tr><tr><td>2014</td><td>6</td><td>100.00</td><td>92650</td><td>       0.11%</td></tr><tr><td>2014</td><td>7</td><td>700.00</td><td>87760</td><td>       0.80%</td></tr><tr><td>2014</td><td>8</td><td>500.00</td><td>52270</td><td>       0.96%</td></tr><tr><td>2014</td><td>9</td><td>0.00</td><td>72370</td><td>       0.00%</td></tr><tr><td>2014</td><td>10</td><td>2100.00</td><td>96390</td><td>       2.18%</td></tr><tr><td>2014</td><td>11</td><td>200.00</td><td>76150</td><td>       0.26%</td></tr><tr><td>2014</td><td>12</td><td>300.00</td><td>47470</td><td>       0.63%</td></tr><tr><td>2013</td><td>1</td><td>900.00</td><td>69290</td><td>       1.30%</td></tr><tr><td>2013</td><td>2</td><td>1400.00</td><td>251190</td><td>       0.56%</td></tr><tr><td>2013</td><td>3</td><td>150.00</td><td>111620</td><td>       0.13%</td></tr><tr><td>2013</td><td>4</td><td>200.00</td><td>36900</td><td>       0.54%</td></tr><tr><td>2013</td><td>5</td><td>1500.00</td><td>134400</td><td>       1.12%</td></tr><tr><td>2013</td><td>6</td><td>300.00</td><td>150010</td><td>       0.20%</td></tr><tr><td>2013</td><td>7</td><td>800.00</td><td>145730</td><td>       0.55%</td></tr><tr><td>2013</td><td>8</td><td>2000.00</td><td>66990</td><td>       2.99%</td></tr><tr><td>2013</td><td>9</td><td>100.00</td><td>67290</td><td>       0.15%</td></tr><tr><td>2013</td><td>10</td><td>1200.00</td><td>120720</td><td>       0.99%</td></tr><tr><td>2013</td><td>11</td><td>100.00</td><td>157110</td><td>       0.06%</td></tr><tr><td>2013</td><td>12</td><td>400.00</td><td>78560</td><td>       0.51%</td></tr><tr><td>2012</td><td>1</td><td>1300.00</td><td>139180</td><td>       0.93%</td></tr><tr><td>2012</td><td>2</td><td>200.00</td><td>93310</td><td>       0.21%</td></tr><tr><td>2012</td><td>3</td><td>0.00</td><td>69640</td><td>       0.00%</td></tr><tr><td>2012</td><td>4</td><td>200.00</td><td>89260</td><td>       0.22%</td></tr><tr><td>2012</td><td>5</td><td>700.00</td><td>118880</td><td>       0.59%</td></tr><tr><td>2012</td><td>6</td><td>950.00</td><td>262610</td><td>       0.36%</td></tr><tr><td>2012</td><td>7</td><td>900.00</td><td>75870</td><td>       1.19%</td></tr><tr><td>2012</td><td>8</td><td>130.00</td><td>212540</td><td>       0.06%</td></tr><tr><td>2012</td><td>9</td><td>300.00</td><td>151750</td><td>       0.20%</td></tr><tr><td>2012</td><td>10</td><td>450.00</td><td>126730</td><td>       0.36%</td></tr><tr><td>2012</td><td>11</td><td>800.00</td><td>94130</td><td>       0.85%</td></tr><tr><td>2012</td><td>12</td><td>900.00</td><td>184200</td><td>       0.49%</td></tr><tr><td>2011</td><td>1</td><td>0.00</td><td>101420</td><td>       0.00%</td></tr><tr><td>2011</td><td>2</td><td>0.00</td><td>101090</td><td>       0.00%</td></tr><tr><td>2011</td><td>3</td><td>0.00</td><td>92720</td><td>       0.00%</td></tr><tr><td>2011</td><td>4</td><td>0.00</td><td>73430</td><td>       0.00%</td></tr><tr><td>2011</td><td>5</td><td>0.00</td><td>76030</td><td>       0.00%</td></tr><tr><td>2011</td><td>6</td><td>0.00</td><td>141880</td><td>       0.00%</td></tr><tr><td>2011</td><td>7</td><td>600.00</td><td>56300</td><td>       1.07%</td></tr><tr><td>2011</td><td>8</td><td>0.00</td><td>108990</td><td>       0.00%</td></tr><tr><td>2011</td><td>9</td><td>0.00</td><td>73300</td><td>       0.00%</td></tr><tr><td>2011</td><td>10</td><td>0.00</td><td>48720</td><td>       0.00%</td></tr><tr><td>2011</td><td>11</td><td>0.00</td><td>96030</td><td>       0.00%</td></tr><tr><td>2011</td><td>12</td><td>1300.00</td><td>170870</td><td>       0.76%</td></tr></table>"
                    },
                    "metadata": {}
                }
            ],
            "execution_count": 50
        },
        {
            "cell_type": "markdown",
            "source": [
                "<u>**Explanation:**</u>\n",
                "\n",
                "จากข้อมูลจะได้อัตราส่วนการแปลงคะแนน (Conversion Rate) มาเป็นผลลัพธ์ \n",
                "\n",
                "ซึ่งเป็นตัวเลขที่แสดงถึงประสิทธิภาพในการแลกคะแนน IKEA Family มา เป็นส่วนลดสินค้า ตัวเลขนี้มีความสำคัญต่ออิเกียในการวางแผนกลยุทธ์และเป้าหมายในอนาคต เนื่องจากอิเกียต้องเผื่อค่าใช้จ่ายในการหักส่วนลดจากการแลกคะแนนด้วย\n",
                "\n",
                "\\*คำอธิบายเพิ่มเติม Conversion Rate\n",
                "\n",
                "อัตราส่วนการแปลงคะแนนของอิเกียอยู่ที่ 10%\n",
                "\n",
                "หมายความว่า หากอิเกียมอบคะแนนให้ลูกค้า 10000 คะแนน\n",
                "\n",
                "คะแนนจะถูกใช้คะแนนแลกเป็นส่วนลดสินค้า 1000 คะแนน ซึ่งมีมูลค่าเท่ากับ 10 บาท\n",
                "\n",
                "<u>**Recommendation:**</u>\n",
                "\n",
                "<mark><u>รอข้อมูลครับ</u></mark> \n",
                "\n",
                "หากอิเกียตั้งเป้ายอดขายในปีหน้าอยู่ที่ 100 ล้านบาท โดยอิงจากอัตราส่วนการแปลงคะแนนที่ 10% บลาบลาบลา อิเกียควรเผื่อ....บาท สำหรับการหักเป็นส่วนลด"
            ],
            "metadata": {
                "azdata_cell_guid": "f917b84e-3ddb-46e4-a29f-9bd81862f27d",
                "language": "sql"
            },
            "attachments": {}
        },
        {
            "cell_type": "markdown",
            "source": [
                ">### **Q9:** ในแต่ละช่วงเวลามีจำนวนคำสั่งซื้อจากหน้าสาขามากน้อยเพียงใด เรียงลำดับจากช่วงเวลาที่จำนวนคำสั่งซื้อมากที่สุดก่อน\n",
                "\n",
                "โดยกำหนดช่วงเวลาดังนี้ \n",
                "|Time Range|\n",
                "|-|\n",
                "| 10.00 - 12.00 น.| \n",
                "| 13.00 - 15.00 น.| \n",
                "| 16.00 - 18.00 น.| \n",
                "| 19.00 - 21.00 น.|\n",
                "\n",
                ""
            ],
            "metadata": {
                "azdata_cell_guid": "802111c7-53eb-470e-8164-da7c55cdd368",
                "language": "sql"
            },
            "attachments": {}
        },
        {
            "cell_type": "code",
            "source": [
                "SELECT\n",
                "    CASE\n",
                "        WHEN o.order_date::TIME BETWEEN '10:00:00'::TIME AND '12:59:59'::TIME THEN '   10:00 - 12:00'\n",
                "        WHEN o.order_date::TIME BETWEEN '13:00:00'::TIME AND '15:59:59'::TIME THEN '  13:00 - 15:00'\n",
                "        WHEN o.order_date::TIME BETWEEN '16:00:00'::TIME AND '18:59:59'::TIME THEN ' 16:00 - 18:00'\n",
                "        WHEN o.order_date::TIME BETWEEN '19:00:00'::TIME AND '21:00:00'::TIME THEN '19:00 - 21:00'\n",
                "    END \"Time Range\",\n",
                "    COUNT(*) \"Order Count\"\n",
                "FROM public.\"Order\" o\n",
                "WHERE o.order_type_id = '01'\n",
                "GROUP BY \"Time Range\";"
            ],
            "metadata": {
                "azdata_cell_guid": "dd1ef86f-0ec1-4c74-9805-82d0b57187d7",
                "language": "sql",
                "tags": []
            },
            "outputs": [
                {
                    "output_type": "display_data",
                    "data": {
                        "text/html": "(4 row(s) affected)"
                    },
                    "metadata": {}
                },
                {
                    "output_type": "display_data",
                    "data": {
                        "text/html": "Total execution time: 00:00:00.002"
                    },
                    "metadata": {}
                },
                {
                    "output_type": "execute_result",
                    "execution_count": 51,
                    "data": {
                        "application/vnd.dataresource+json": {
                            "schema": {
                                "fields": [
                                    {
                                        "name": "Time Range"
                                    },
                                    {
                                        "name": "Order Count"
                                    }
                                ]
                            },
                            "data": [
                                {
                                    "Time Range": "   10:00 - 12:00",
                                    "Order Count": "564"
                                },
                                {
                                    "Time Range": "  13:00 - 15:00",
                                    "Order Count": "499"
                                },
                                {
                                    "Time Range": " 16:00 - 18:00",
                                    "Order Count": "374"
                                },
                                {
                                    "Time Range": "19:00 - 21:00",
                                    "Order Count": "179"
                                }
                            ]
                        },
                        "text/html": "<table><tr><th>Time Range</th><th>Order Count</th></tr><tr><td>   10:00 - 12:00</td><td>564</td></tr><tr><td>  13:00 - 15:00</td><td>499</td></tr><tr><td> 16:00 - 18:00</td><td>374</td></tr><tr><td>19:00 - 21:00</td><td>179</td></tr></table>"
                    },
                    "metadata": {
                        "azdata_chartOptions": {
                            "type": "horizontalBar",
                            "dataDirection": "vertical",
                            "columnsAsLabels": true,
                            "labelFirstColumn": false,
                            "legendPosition": "top"
                        }
                    }
                }
            ],
            "execution_count": 51
        },
        {
            "cell_type": "markdown",
            "source": [
                "**<u>Explanation:</u>** \n",
                "\n",
                "ข้อมูลที่ได้รับอาจนำมาใช้เพื่อปรับปรุงการดำเนินงานและวางแผนของธุรกิจได้ ดังนี้\n",
                "\n",
                "ด้านการดำเนินงาน\n",
                "\n",
                "- การจัดจำนวนพนักงานขายให้เหมาะสมกับช่วงเวลาต่างๆ ของวัน เพื่อรองรับความต้องการของลูกค้าและให้บริการลูกค้าได้อย่างมีประสิทธิภาพ\n",
                "- การกำหนดเวลาสำหรับการจัดชั้นวางสินค้าในช่วงที่มีลูกค้าน้อย เพื่อให้สินค้ามีความพร้อมจำหน่ายอยู่เสมอ\n",
                "\n",
                "ด้านการตลาด\n",
                "\n",
                "- เพิ่มงบประมาณในการโฆษณา เพื่อกระตุ้นยอดขาย จัดกิจกรรมส่งเสริมการขาย เพื่อดึงดูดลูกค้าในช่วงเวลาที่มีคำสั่งซื้อน้อย\n",
                "\n",
                "<u>**Reccomendation:**</u>\n",
                "\n",
                "จากผลลัพธ์ที่ได้ ทาง IKEA ควรพิจารณาเพิ่มจำนวนพนักงานที่ให้บริการในช่วง 10:00 - 12:00 น. และ 13:00 - 15:00 น. เพื่อให้สามารถให้บริการลูกค้าได้อย่างเพียงพอและมีประสิทธิภาพ\n",
                "\n",
                "ช่วงเวลา 10:00 - 12:00 น. ซึ่งเป็นช่วงเวลาที่มีลูกค้ามาใช้บริการเป็นจำนวนมาก IKEA ควรหลีกเลี่ยงการจัดเรียงสินค้า หรือจัดเรียงสินค้าให้น้อยลง เพื่อให้มีพื้นที่เพียงพอสำหรับให้ลูกค้าเลือกซื้อสินค้าได้อย่างสะดวก ไม่เกิดความแออัด และรบกวนการเดินของลูกค้า\n",
                "\n",
                "IKEA อาจจัดเรียงสินค้าในช่วง 19:00 - 21:00 น. ของวันก่อนหน้า เพื่อเตรียมความพร้อมสำหรับการเปิดร้านในวันถัดไป"
            ],
            "metadata": {
                "azdata_cell_guid": "1fa22740-74bf-4873-b5f4-97076ee70e9b",
                "language": "sql"
            },
            "attachments": {}
        },
        {
            "cell_type": "markdown",
            "source": [
                "> ### **Q10:** ลูกค้าส่วนใหญ่ที่สั่งสินค้าผ่านรูปแบบออนไลน์ให้จัดส่งสินค้าไปที่จังหวัดไหน มากที่สุด"
            ],
            "metadata": {
                "azdata_cell_guid": "3659287b-566e-4681-8591-3d02035c0c8d",
                "language": "sql"
            },
            "attachments": {}
        },
        {
            "cell_type": "code",
            "source": [
                "SELECT a.\"province\",\n",
                "    COUNT(*)\n",
                "FROM public.\"Order\" o\n",
                "LEFT JOIN public.\"MemberAddress\" ma ON ma.\"mem_add_id\" = o.\"mem_add_id\"\n",
                "LEFT JOIN public.\"Address\" a ON a.\"address_id\" = ma.\"address_id\"\n",
                "WHERE o.\"order_type_id\" = '02'\n",
                "    --AND o.mem_add_id IS NULL\n",
                "GROUP BY a.\"province\"\n",
                "ORDER BY COUNT(*) DESC;"
            ],
            "metadata": {
                "azdata_cell_guid": "f5dbf596-32dd-4fed-bdfc-3818b8a000d5",
                "language": "sql"
            },
            "outputs": [
                {
                    "output_type": "display_data",
                    "data": {
                        "text/html": "(11 row(s) affected)"
                    },
                    "metadata": {}
                },
                {
                    "output_type": "display_data",
                    "data": {
                        "text/html": "Total execution time: 00:00:00.004"
                    },
                    "metadata": {}
                },
                {
                    "output_type": "execute_result",
                    "execution_count": 52,
                    "data": {
                        "application/vnd.dataresource+json": {
                            "schema": {
                                "fields": [
                                    {
                                        "name": "province"
                                    },
                                    {
                                        "name": "count"
                                    }
                                ]
                            },
                            "data": [
                                {
                                    "province": "Bangkok",
                                    "count": "561"
                                },
                                {
                                    "province": "Chon Buri",
                                    "count": "291"
                                },
                                {
                                    "province": "Phuket",
                                    "count": "220"
                                },
                                {
                                    "province": "Ayutthaya",
                                    "count": "192"
                                },
                                {
                                    "province": "Nonthaburi",
                                    "count": "114"
                                },
                                {
                                    "province": "Samut Prakan",
                                    "count": "82"
                                },
                                {
                                    "province": "Samut Sakhon",
                                    "count": "76"
                                },
                                {
                                    "province": "Pathum Thani",
                                    "count": "58"
                                },
                                {
                                    "province": "Nakhon Pathom",
                                    "count": "23"
                                },
                                {
                                    "province": "Chiang Mai",
                                    "count": "6"
                                },
                                {
                                    "province": "Samut Songkhram",
                                    "count": "3"
                                }
                            ]
                        },
                        "text/html": "<table><tr><th>province</th><th>count</th></tr><tr><td>Bangkok</td><td>561</td></tr><tr><td>Chon Buri</td><td>291</td></tr><tr><td>Phuket</td><td>220</td></tr><tr><td>Ayutthaya</td><td>192</td></tr><tr><td>Nonthaburi</td><td>114</td></tr><tr><td>Samut Prakan</td><td>82</td></tr><tr><td>Samut Sakhon</td><td>76</td></tr><tr><td>Pathum Thani</td><td>58</td></tr><tr><td>Nakhon Pathom</td><td>23</td></tr><tr><td>Chiang Mai</td><td>6</td></tr><tr><td>Samut Songkhram</td><td>3</td></tr></table>"
                    },
                    "metadata": {
                        "azdata_chartOptions": {
                            "type": "horizontalBar",
                            "dataDirection": "vertical",
                            "columnsAsLabels": true,
                            "labelFirstColumn": false,
                            "legendPosition": "top"
                        }
                    }
                }
            ],
            "execution_count": 52
        },
        {
            "cell_type": "markdown",
            "source": [
                "<u>**Explanation:**</u>\n",
                "\n",
                "ข้อมูลที่ได้ธุรกิจอาจนำมาใช้ดังนี้\n",
                "\n",
                "- สามารถนำมาใช้ในการปรับปรุงกระบวนการทำงานให้มีประสิทธิภาพมากขึ้น เช่น การกำหนดเส้นทางการขนส่งสินค้า การกำหนดจำนวนสต็อกสินค้า เป็นต้น\n",
                "    \n",
                "- การใช้ข้อมูลประกอบการคิดพิจารณาเรื่องที่ตั้งของคลังสินค้า\n",
                "    \n",
                "    - ธุรกิจสามารถเพิ่มคลังสินค้าในพื้นที่ที่มีการจัดส่งสินค้ามากได้ โดยสามารถจัดส่งสินค้าจากคลังสินค้าในพื้นที่ไปยังลูกค้าในพื้นที่ได้โดยตรง ซึ่งจะช่วยลดระยะเวลาในการจัดส่งสินค้า ตอบสนองความต้องการของลูกค้าได้ดีขึ้น\n",
                "        \n",
                "    - การปิดคลังสินค้าในพื้นที่ที่อาจไม่จำเป็น\n",
                "        \n",
                "\n",
                "<u>**Recommendation:**</u>\n",
                "\n",
                "ปัจจุบัน IKEA มีคลังสินค้าอยู่ทั้งหมด 4 แห่ง ใน 4 จังหวัด คือ จังหวัดปทุมธานี จังหวัดภูเก็ต จังหวัดเชียงใหม่ และ จังหวัดขอนแก่น\n",
                "\n",
                "จากผลลัพธ์ที่ได้ พบว่าสินค้าถูกจัดส่งเยอะในภาคกลาง โดยพื้นที่ที่มีการจัดส่งมากที่สุด คือ กรุงเทพมหานคร รองลงมา คือ ชลบุรี และภูเก็ต\n",
                "\n",
                "หากพิจารณาจากข้อมูลข้างต้น พบว่า IKEA อาจพิจารณาการเพิ่มคลังสินค้าที่จังหวัดชลบุรี\n",
                "\n",
                "เนื่องจากเป็นพื้นที่ที่มีการจัดส่งมากเป็นอันดับ 2 และอยู่ใกล้กับกรุงเทพมหานคร ซึ่งเป็นพื้นที่ที่มีการจัดส่งมากที่สุด โดยคลังสินค้าในจังหวัดชลบุรีสามารถช่วยในการกระจายสินค้าไปยังพื้นที่ภาคกลางและภาคตะวันออกได้\n",
                "\n",
                "\\*IKEA มีคลังสินค้าที่ปทุมธานี ซึ่งอยู่ติดกับกรุงเทพมหานคร และสามารถกระจายสินค้าไปยังภาคกลางตอนบนได้ เช่น จังหวัดพระนครศรีอยุธยา (อันดับ 4)\n",
                "\n",
                "อย่างไรก็ตาม การตัดสินใจว่าจะเพิ่มหรือปิดคลังสินค้านั้น จำเป็นต้องพิจารณาปัจจัยอื่นๆ ที่เกี่ยวข้องด้วย เช่น ต้นทุนในการสร้างหรือเช่าพื้นที่คลังสินค้า ต้นทุนในการขนส่งสินค้า และความเหมาะสมในการกระจายสินค้าไปยังลูกค้าในแต่ละพื้นที่ เป็นต้น"
            ],
            "metadata": {
                "azdata_cell_guid": "a144f662-6795-429c-8d23-19a5e76e58a0",
                "language": "sql"
            },
            "attachments": {}
        },
        {
            "cell_type": "markdown",
            "source": [
                "# **Conclusion**"
            ],
            "metadata": {
                "azdata_cell_guid": "f2013042-b7c4-46df-be75-f5ee5350f13c",
                "language": "sql"
            },
            "attachments": {}
        },
        {
            "cell_type": "markdown",
            "source": [
                "# <u>Citations</u> อะไรคือวิธีการเขียนที่ถูกต้องฟะ\n",
                "\n",
                "[IKEA Thailand Website](https://www.ikea.com/th/th/?gclid=Cj0KCQjw-pyqBhDmARIsAKd9XIOcZXbz2kMWZsCwIyhnmEwRSrr5jf4XzZGqTPxovq1DWI8pnI6d3pMaAkZOEALw_wcB&gclsrc=aw.ds)\n",
                "\n",
                "[IKEA Logo](https://www.google.com/url?sa=i&url=https%3A%2F%2Fen.m.wikipedia.org%2Fwiki%2FFile%3AIkea_logo.svg&psig=AOvVaw02zOebJ_khvCiZ9j3LYgiB&ust=1699771476802000&source=images&cd=vfe&ved=0CBIQjRxqFwoTCMCNtKqsu4IDFQAAAAAdAAAAABAE)\n",
                "\n",
                "[Wikipedia](https://th.wikipedia.org/wiki/%E0%B8%AD%E0%B8%B4%E0%B9%80%E0%B8%81%E0%B8%B5%E0%B8%A2)\n",
                "\n",
                "[https://www.kasikornresearch.com/th](https://www.kasikornresearch.com/th)\n",
                "\n",
                "[https://www.longtunman.com/25609](https://www.longtunman.com/25609)"
            ],
            "metadata": {
                "azdata_cell_guid": "ed204d6c-afd1-47f9-98e3-65097e6107a4",
                "language": "sql"
            },
            "attachments": {}
        },
        {
            "cell_type": "markdown",
            "source": [
                "![](test.jpg)"
            ],
            "metadata": {
                "azdata_cell_guid": "2a43e998-84ef-4c49-abfe-cc808264bce6"
            }
        }
    ]
}