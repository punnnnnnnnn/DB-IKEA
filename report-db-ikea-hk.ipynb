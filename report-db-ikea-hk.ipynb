{
    "metadata": {
        "kernelspec": {
            "name": "SQL",
            "display_name": "SQL",
            "language": "sql"
        },
        "language_info": {
            "name": "sql",
            "version": ""
        }
    },
    "nbformat_minor": 2,
    "nbformat": 4,
    "cells": [
        {
            "cell_type": "markdown",
            "source": [
                "# **IKEA Report**"
            ],
            "metadata": {
                "azdata_cell_guid": "fc27721e-7aca-45e0-a59d-a238bd243642"
            },
            "attachments": {}
        },
        {
            "cell_type": "markdown",
            "source": [
                "**list เฉยๆคับ**\n",
                "\n",
                "- [ ]  executive summary\n",
                "- [ ]  background ifm organization and industry\n",
                "- [ ]  database design (ERD, bus rule, explaination)\n",
                "- [ ]  10 questions (Analysis: SQL statement, result tables, recommendations)\n",
                "- [ ]  conclusion\n",
                "- [ ]  reference"
            ],
            "metadata": {
                "azdata_cell_guid": "60d5d65d-228e-4a65-9fcb-b1ffc4f325da"
            },
            "attachments": {}
        },
        {
            "cell_type": "markdown",
            "source": [
                "## **Background Information**"
            ],
            "metadata": {
                "azdata_cell_guid": "88d8f66c-9468-46fd-a302-f17e5ba07601"
            },
            "attachments": {}
        },
        {
            "cell_type": "markdown",
            "source": [
                "<span style=\"font-size: 10.5pt; font-family: Arial, sans-serif; color: rgb(31, 31, 31); background-color: transparent; font-variant-numeric: normal; font-variant-east-asian: normal; vertical-align: baseline; white-space: pre-wrap;\"><strong style=\"color: rgb(74, 74, 74); font-family: -apple-system, &quot;system-ui&quot;, sans-serif; white-space: normal;\">About IKEA</strong><br></span>\n",
                "\n",
                "<span style=\"font-size: 10.5pt; font-family: Arial, sans-serif; color: rgb(31, 31, 31); background-color: transparent; font-variant-numeric: normal; font-variant-east-asian: normal; vertical-align: baseline; white-space: pre-wrap;\">อิเกีย เป็นบริษัทผลิตและจำหน่ายเฟอร์นิเจอร์ ของใช้ในบ้านสัญชาติสวีเดน ก่อตั้งขึ้นในปี ค.ศ. 1943 โดยเริ่มต้นจากการขายโต๊ะไม้ขนาดเล็กภายในครัว ก่อนจะเริ่มขยายไลน์สินค้าไปขาย เ</span><span style=\"font-size: 10.5pt; background-color: transparent; font-family: Arial, sans-serif; color: rgb(31, 31, 31); font-variant-numeric: normal; font-variant-east-asian: normal; vertical-align: baseline; white-space: pre-wrap;\">ฟอร์นิเจอร์อื่นๆ&nbsp;</span>   \n",
                "\n",
                "<span style=\"font-size: 10.5pt; font-family: Arial, sans-serif; color: rgb(31, 31, 31); background-color: transparent; font-variant-numeric: normal; font-variant-east-asian: normal; vertical-align: baseline; white-space: pre-wrap;\">อิเกียมีชื่อเสียงและเติบโตในสวีเดนอย่างรวดเร็ว จนสามารถขยายธุรกิจไปยังต่างประเทศได้ในปี ค.ศ. 1963 ปัจจุบันอิเกียมีมากกว่า 460 แห่ง กระจายอยู่ใน 60 กว่าประเทศทั่วโลกโดยอิเกียได้เริ่มเข้ามาทำธุรกิจครั้งแรกในประเทศไทยในปี ค.ศ. 2011 ที่อิเกียบางนา ปัจจุบันอิเกีย ประเทศไทย มีทั้งหมด 4 สาขา ได้แก่ อิเกีย บางนา, อิเกีย บางใหญ่, อิเกีย ภูเก็ต และอิเกีย สุขุมวิทที่จะเปิดให้บริการในช่วงเดือนธันวาคม ค.ศ. 2023</span>\n",
                "\n",
                "<span style=\"font-size: 10.5pt; font-family: Arial, sans-serif; color: rgb(31, 31, 31); background-color: transparent; font-variant-numeric: normal; font-variant-east-asian: normal; vertical-align: baseline; white-space: pre-wrap;\">!ยังไม่ได้พูดถึงตัวสินค้า ความโดดเด่นไรงี้!</span>\n",
                "\n",
                "## <span style=\"background-color: transparent; color: rgb(0, 0, 0); font-family: Arial, sans-serif; font-size: 10.5pt; text-decoration-line: underline; white-space: pre-wrap;\">วิสัยทัศน์ของอิเกีย</span>  \n",
                "\n",
                "<span style=\"font-size:10.5pt;font-family:Arial,sans-serif;color:#484848;background-color:transparent;font-weight:700;font-style:normal;font-variant:normal;text-decoration:none;vertical-align:baseline;white-space:pre;white-space:pre-wrap;\">“การทำให้ชีวิตประจำวันของใครหลายคนดีขึ้น”</span> \n",
                "\n",
                "<span style=\"background-color: transparent; color: rgb(72, 72, 72); font-family: Arial, sans-serif; font-size: 10.5pt; white-space: pre-wrap;\">วิสัยทัศน์นี้ก้าวไปไกลกว่าการตกแต่งบ้าน เราต้องการให้เกิดผลดีต่อโลก ตั้งแต่ชุมชนที่เรานำวัตถุดิบมาใช้ ไปจนถึงวิธีที่ผลิตภัณฑ์ของเราจะช่วยให้ลูกค้าใช้ชีวิตได้อย่างยั่งยืนมากขึ้นที่บ้าน</span>\n",
                "\n",
                "<span style=\"background-color: transparent; color: rgb(0, 0, 0); font-family: Arial, sans-serif; font-size: 10.5pt; text-decoration-line: underline; white-space: pre-wrap;\"><br></span>\n",
                "\n",
                "<span style=\"background-color: transparent; color: rgb(0, 0, 0); font-family: Arial, sans-serif; font-size: 10.5pt; text-decoration-line: underline; white-space: pre-wrap;\">แนวคิดทางธุรกิจของอิเกีย</span>  \n",
                "\n",
                "<span style=\"font-size:10.5pt;font-family:Arial,sans-serif;color:#484848;background-color:transparent;font-weight:400;font-style:normal;font-variant:normal;text-decoration:none;vertical-align:baseline;white-space:pre;white-space:pre-wrap;\">สิ่งที่อีเกียต้องการทำให้สำเร็จ</span>\n",
                "\n",
                "<span style=\"font-size:10.5pt;font-family:Arial,sans-serif;color:#484848;background-color:transparent;font-weight:700;font-style:normal;font-variant:normal;text-decoration:none;vertical-align:baseline;white-space:pre;white-space:pre-wrap;\">“การนำเสนอผลิตภัณฑ์ตกแต่งบ้านหลากหลายแบบที่ออกแบบมาอย่างดี&nbsp;</span> <span style=\"background-color: transparent; color: rgb(72, 72, 72); font-family: Arial, sans-serif; font-size: 10.5pt; font-weight: 700; white-space: pre-wrap;\">ใช้งานได้ดี ในราคาที่ถูกมาก ที่คนจำนวนมากที่สุดจะสามารถซื้อได้”</span>\n",
                "\n",
                "<span style=\"font-size: 10.5pt; font-family: Arial, sans-serif; color: rgb(31, 31, 31); background-color: transparent; font-variant-numeric: normal; font-variant-east-asian: normal; vertical-align: baseline; white-space: pre-wrap;\"><br></span>"
            ],
            "metadata": {
                "azdata_cell_guid": "fbddbe53-6057-4642-bb9b-860b8dc70865"
            },
            "attachments": {}
        },
        {
            "cell_type": "markdown",
            "source": [
                "**Furniture and Homeware Industry**\n",
                "\n",
                "IKEA **ถูกจัดอยู่ในอุตสาหกรรมประเภทเฟอร์นิเจอร์และของใช้ในบ้าน ซึ่งนับเป็นอุตสาหกรรมหนึ่งที่มีบทบาทสำคัญต่อเศรษฐกิจของประเทศไทย ทั้งในเรื่องของการส่งออกสินค้าและการเป็นแหล่งจ้างงาน** \n",
                "\n",
                "<span style=\"font-size:10.5pt;font-family:Arial,sans-serif;color:#1f1f1f;background-color:transparent;font-weight:400;font-style:normal;font-variant:normal;text-decoration:none;vertical-align:baseline;white-space:pre;white-space:pre-wrap;\">IKEA เข้ามามีบทบาทสำคัญในการปฏิวัติตลาดเฟอร์นิเจอร์ของไทย โดยได้เข้ามาสร้างแนวคิด</span><span style=\"color: rgb(31, 31, 31); font-family: Arial, sans-serif; white-space: pre-wrap;\">เฟอร์นิเจอร์แบบ DIY (Do it Yourself) </span> <span style=\"background-color: transparent; color: rgb(31, 31, 31); font-family: Arial, sans-serif; font-size: 10.5pt; white-space: pre-wrap;\">ให้กับผู้บริโภคไทยซึ่งช่วยให้ผู้บริโภคสามารถประหยัดค่าใช้จ่ายในการซื้อเฟอร์นิเจอร์ได้</span>\n",
                "\n",
                "<span style=\"font-size:10.5pt;font-family:Arial,sans-serif;color:#1f1f1f;background-color:transparent;font-weight:400;font-style:normal;font-variant:normal;text-decoration:none;vertical-align:baseline;white-space:pre;white-space:pre-wrap;\">การเข้ามาของ IKEA ในประเทศไทย ส่งผลให้ตลาดเฟอร์นิเจอร์ของไทยมีการแข่งขันที่สูงขึ้น </span> <span style=\"background-color: transparent; color: rgb(31, 31, 31); font-family: Arial, sans-serif; font-size: 10.5pt; white-space: pre-wrap;\">ผู้ประกอบการไทยบางรายหันมาผลิตเฟอร์นิเจอร์แบบ DIY เพื่อแข่งขันกับอีเกีย ในขณะที่</span><span style=\"background-color: transparent; color: rgb(31, 31, 31); font-family: Arial, sans-serif; font-size: 10.5pt; white-space: pre-wrap;\">ผู้ประกอบการรายอื่นหันมาเน้นการผลิตเฟอร์นิเจอร์ระดับพรีเมียม เพื่อตอบสนองความต้องการของผู้บริโภคที่ต้องการเฟอร์นิเจอร์คุณภาพสูง</span>\n",
                "\n",
                "<span style=\"background-color: transparent; color: rgb(31, 31, 31); font-family: Arial, sans-serif; font-size: 10.5pt; white-space: pre-wrap;\">IKEA </span> <span style=\"background-color: transparent; color: rgb(31, 31, 31); font-family: Arial, sans-serif; font-size: 10.5pt; white-space: pre-wrap;\">ได้รับความนิยมจากผู้บริโภคไทยเป็นอย่างมาก โดยในปี 2565 อีเกียมียอดขายในประเทศไทยกว่า 1.5 หมื่นล้านบาท คิดเป็นสัดส่วนกว่า 20% ของมูลค่าตลาดเฟอร์นิเจอร์ทั้งหมดของไทย แต่</span><span style=\"background-color: transparent; color: rgb(31, 31, 31); font-family: Arial, sans-serif; font-size: 10.5pt; white-space: pre-wrap;\">อย่างไรก็ตาม IKEA ก็ยังมีคู่แข่งรายสำคัญจากแบรนด์ไทย เช่น Index Living Mall และ HomePro ซึ่งแบรนด์เหล่านี้มีจุดแข็งในด้านความใกล้ชิดกับผู้บริโภคไทย และความเข้าใจความต้องการของผู้บริโภคไทย</span>\n",
                "\n",
                "<span style=\"background-color: transparent; color: rgb(31, 31, 31); font-family: Arial, sans-serif; font-size: 12pt; white-space: pre-wrap;\"><br></span>"
            ],
            "metadata": {
                "azdata_cell_guid": "80db6d9a-77a2-4912-8ba0-ffb918227745"
            },
            "attachments": {}
        },
        {
            "cell_type": "markdown",
            "source": [
                "## **Database Design**"
            ],
            "metadata": {
                "azdata_cell_guid": "727cb851-6245-45f0-9e05-4e52ccbbd858"
            },
            "attachments": {}
        },
        {
            "cell_type": "markdown",
            "source": [
                "นี่แหนะ"
            ],
            "metadata": {
                "azdata_cell_guid": "73978210-e349-4d92-8956-5db41bb9178d"
            },
            "attachments": {}
        },
        {
            "cell_type": "markdown",
            "source": [
                "**Our Team Assumption**"
            ],
            "metadata": {
                "azdata_cell_guid": "4938929d-f0d8-4d23-93a3-8933153ef467"
            },
            "attachments": {}
        },
        {
            "cell_type": "markdown",
            "source": [
                "**Business Rule**"
            ],
            "metadata": {
                "azdata_cell_guid": "c1e46dc5-71eb-4547-8303-808736fe5456"
            },
            "attachments": {}
        },
        {
            "cell_type": "markdown",
            "source": [
                "แปะ erd ซ้าาาาาาา"
            ],
            "metadata": {
                "azdata_cell_guid": "e4933d64-ad51-4a78-95f1-c4764be05b89"
            },
            "attachments": {}
        },
        {
            "cell_type": "markdown",
            "source": [
                "**explanation**"
            ],
            "metadata": {
                "azdata_cell_guid": "aed67a05-b2c7-4237-9bc4-02ba48ba0df4"
            },
            "attachments": {}
        },
        {
            "cell_type": "markdown",
            "source": [
                "## **10 Business-Related Questions**"
            ],
            "metadata": {
                "azdata_cell_guid": "885574ea-6db3-46db-a7fc-6d1bf119dced"
            },
            "attachments": {}
        },
        {
            "cell_type": "markdown",
            "source": [
                "### **Q1:** สินค้ารายการไหนที่ไม่ถูกซื้อเลยในช่วง 6 เดือนที่ผ่านมา (หรือ 1 ปี)"
            ],
            "metadata": {
                "azdata_cell_guid": "99a6ac89-9bd3-45b3-8f76-479224f89681"
            },
            "attachments": {}
        },
        {
            "cell_type": "code",
            "source": [
                ""
            ],
            "metadata": {
                "azdata_cell_guid": "ef6c02f3-e883-498c-a966-20936a81efb9",
                "language": "sql"
            },
            "outputs": [],
            "execution_count": null
        },
        {
            "cell_type": "markdown",
            "source": [
                "### **Q2:** 5 รายการสินค้าที่ถูกลูกค้าส่งคืนมากที่สุด เมื่อสินค้านั้นถูกสั่งผ่านรูปแบบออนไลน์\n",
                "\n",
                "###         โดยเรียงจากสินค้าที่ถูกส่งกลับมากที่สุดขึ้นก่อน"
            ],
            "metadata": {
                "azdata_cell_guid": "36cf30fa-a5ff-4bc5-858e-b96c67246136"
            },
            "attachments": {}
        },
        {
            "cell_type": "code",
            "source": [
                ""
            ],
            "metadata": {
                "azdata_cell_guid": "b681567f-abec-4e82-956d-af71a169b70a",
                "language": "sql"
            },
            "outputs": [],
            "execution_count": null
        },
        {
            "cell_type": "markdown",
            "source": [
                "### **Q3**: สินค้า Collection สามารถสร้างยอดขายได้มาก"
            ],
            "metadata": {
                "language": "sql",
                "azdata_cell_guid": "e8d95399-9932-4917-832d-22f524641b6a"
            },
            "attachments": {}
        },
        {
            "cell_type": "code",
            "source": [
                ""
            ],
            "metadata": {
                "language": "sql",
                "azdata_cell_guid": "bd91c1ec-ea80-4dfe-94d2-bc958908730f"
            },
            "outputs": [],
            "execution_count": null
        },
        {
            "cell_type": "markdown",
            "source": [
                "### **Q4: ยอดขายจากสินค้าที่ถูกแนะนำ (recommended product) นั้นมากกว่าสินค้าปกติมากแค่ไหน**"
            ],
            "metadata": {
                "language": "sql",
                "azdata_cell_guid": "db9a617f-b83e-49ef-97a1-e669cf2de59d"
            },
            "attachments": {}
        },
        {
            "cell_type": "code",
            "source": [
                ""
            ],
            "metadata": {
                "language": "sql",
                "azdata_cell_guid": "72d16027-f3b2-4313-beea-c65af834fdf7"
            },
            "outputs": [],
            "execution_count": null
        },
        {
            "cell_type": "markdown",
            "source": [
                "### **Q5:** ช่วงไหน(เดือน/ไตรมาส ว่ากันอีกที) ที่เราควรทำการใช้/ปล่อย promotion เพื่อทำการกระตุ้นยอดขาย"
            ],
            "metadata": {
                "language": "sql",
                "azdata_cell_guid": "446f604e-82b6-4437-937c-9031635d4940"
            },
            "attachments": {}
        },
        {
            "cell_type": "code",
            "source": [
                ""
            ],
            "metadata": {
                "language": "sql",
                "azdata_cell_guid": "34d1f106-1d87-4dc5-a4cd-78509582b8fd"
            },
            "outputs": [],
            "execution_count": null
        },
        {
            "cell_type": "markdown",
            "source": [
                "### **Q6:** ในช่วงสถานการณ์การแพร่ระบายของโควิด-19 ยอดขายสินค้าของ IKEA ผ่านรูปแบบออนไลน์มีลักษณะเป็นอย่างไร เพิ่มขึ้นมากน้อยเพียงใด"
            ],
            "metadata": {
                "language": "sql",
                "azdata_cell_guid": "66ca3618-bd8b-4980-a884-11ebf7494b1b"
            },
            "attachments": {}
        },
        {
            "cell_type": "code",
            "source": [
                ""
            ],
            "metadata": {
                "language": "sql",
                "azdata_cell_guid": "5e380717-b12b-4ecd-92c2-fa4d2dd28c46"
            },
            "outputs": [],
            "execution_count": null
        },
        {
            "cell_type": "markdown",
            "source": [
                "### **Q7:** สินค้ารายการไหนที่มีจำนวนเฉลี่ยในการสั่งซื้อ มากกว่าหรือเท่ากับ 4 units ใน 1 order"
            ],
            "metadata": {
                "azdata_cell_guid": "b5dd53e3-85d6-4a47-9c8c-7d00ea251ed0"
            },
            "attachments": {}
        },
        {
            "cell_type": "code",
            "source": [
                ""
            ],
            "metadata": {
                "azdata_cell_guid": "b1f9bd73-73d0-4b55-8c9b-09d4dad3be17",
                "language": "sql"
            },
            "outputs": [],
            "execution_count": null
        },
        {
            "cell_type": "markdown",
            "source": [
                "### **Q8:** สัดส่วนของการใช้คะแนนสะสม(point) เพื่อแลกเป็นส่วนลดในการใช้ซื้อของ"
            ],
            "metadata": {
                "language": "sql",
                "azdata_cell_guid": "1b70bef6-b574-4bd8-b650-9d19cbe7fa7c"
            },
            "attachments": {}
        },
        {
            "cell_type": "code",
            "source": [
                ""
            ],
            "metadata": {
                "language": "sql",
                "azdata_cell_guid": "bff2af7d-f24a-4e8d-a4e4-c04daf75895e"
            },
            "outputs": [],
            "execution_count": null
        },
        {
            "cell_type": "markdown",
            "source": [
                "### **Q9:** จำนวนพนักงานที่ทำงานอยู่ในแต่ละสาขามีผลต่อยอดขายรวมของสาขานั้นหรือไม่"
            ],
            "metadata": {
                "language": "sql",
                "azdata_cell_guid": "802111c7-53eb-470e-8164-da7c55cdd368"
            },
            "attachments": {}
        },
        {
            "cell_type": "code",
            "source": [
                ""
            ],
            "metadata": {
                "language": "sql",
                "azdata_cell_guid": "dd1ef86f-0ec1-4c74-9805-82d0b57187d7"
            },
            "outputs": [],
            "execution_count": null
        },
        {
            "cell_type": "markdown",
            "source": [
                "### **Q10:** ลูกค้าส่วนใหญ่ที่สั่งสินค้าผ่านรูปแบบออนไลน์ให้จัดส่งสินค้าไปที่พื้นที่/จังหวัดไหน มากที่สุด"
            ],
            "metadata": {
                "language": "sql",
                "azdata_cell_guid": "3659287b-566e-4681-8591-3d02035c0c8d"
            },
            "attachments": {}
        },
        {
            "cell_type": "code",
            "source": [
                ""
            ],
            "metadata": {
                "language": "sql",
                "azdata_cell_guid": "f5dbf596-32dd-4fed-bdfc-3818b8a000d5"
            },
            "outputs": [],
            "execution_count": null
        },
        {
            "cell_type": "markdown",
            "source": [
                "## **Conclusion**"
            ],
            "metadata": {
                "language": "sql",
                "azdata_cell_guid": "f2013042-b7c4-46df-be75-f5ee5350f13c"
            },
            "attachments": {}
        },
        {
            "cell_type": "markdown",
            "source": [
                "## **Reference**"
            ],
            "metadata": {
                "language": "sql",
                "azdata_cell_guid": "ed204d6c-afd1-47f9-98e3-65097e6107a4"
            },
            "attachments": {}
        }
    ]
}