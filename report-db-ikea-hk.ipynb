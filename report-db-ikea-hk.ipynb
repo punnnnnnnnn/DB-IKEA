{
    "metadata": {
        "kernelspec": {
            "name": "SQL",
            "display_name": "SQL",
            "language": "sql"
        },
        "language_info": {
            "name": "sql",
            "version": ""
        }
    },
    "nbformat_minor": 2,
    "nbformat": 4,
    "cells": [
        {
            "cell_type": "markdown",
            "source": [
                "# **IKEA Report**"
            ],
            "metadata": {
                "azdata_cell_guid": "fc27721e-7aca-45e0-a59d-a238bd243642"
            },
            "attachments": {}
        },
        {
            "cell_type": "markdown",
            "source": [
                "list เฉยๆคับ\n",
                "\n",
                "\\- executive summary\n",
                "\n",
                "\\- background ifm organization and industry\n",
                "\n",
                "\\- database design (ERD, bus rule, explaination)\n",
                "\n",
                "\\- 10 questions (Analysis: SQL statement, result tables, recommendations)\n",
                "\n",
                "\\- conclusion\n",
                "\n",
                "\\- reference"
            ],
            "metadata": {
                "azdata_cell_guid": "60d5d65d-228e-4a65-9fcb-b1ffc4f325da"
            },
            "attachments": {}
        },
        {
            "cell_type": "markdown",
            "source": [
                "## **Company Background**"
            ],
            "metadata": {
                "azdata_cell_guid": "88d8f66c-9468-46fd-a302-f17e5ba07601"
            },
            "attachments": {}
        },
        {
            "cell_type": "markdown",
            "source": [
                "อิเกียเป็นบริษัทผลิตและจำหน่ายเฟอร์นิเจอร์บ้านจากประเทศสวีเดน ซึ่งตัวเฟอร์นิเจอร์นั้นมีการออกแบบที่ดีใช้\n",
                "\n",
                "งานได้สะดวก ทนทาน และราคาไม่แพง ทั้งยังสามารถประกอบเองได้ไม่ยาก และไม่จำเป็นต้องกังวลว่าการขนส่งจะทำให้\n",
                "\n",
                "สินค้าเสียหายจากการแพ็คในรูปแบบของกล่องแบน ภายใต้วิสัยทัศน์ที่ว่า การทำให้ชีวิตประจำวันของใครหลายคนดีขึ้น"
            ],
            "metadata": {
                "azdata_cell_guid": "fbddbe53-6057-4642-bb9b-860b8dc70865"
            },
            "attachments": {}
        },
        {
            "cell_type": "markdown",
            "source": [
                "## **10 Business-Related Questions**"
            ],
            "metadata": {
                "azdata_cell_guid": "885574ea-6db3-46db-a7fc-6d1bf119dced"
            },
            "attachments": {}
        }
    ]
}