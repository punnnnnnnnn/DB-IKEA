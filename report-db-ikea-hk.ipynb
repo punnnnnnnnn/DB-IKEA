{
    "metadata": {
        "kernelspec": {
            "name": "SQL",
            "display_name": "SQL",
            "language": "sql"
        },
        "language_info": {
            "name": "sql",
            "version": ""
        }
    },
    "nbformat_minor": 2,
    "nbformat": 4,
    "cells": [
        {
            "cell_type": "markdown",
            "source": [
                "# **Yeeee**"
            ],
            "metadata": {
                "azdata_cell_guid": "fc27721e-7aca-45e0-a59d-a238bd243642"
            },
            "attachments": {}
        },
        {
            "cell_type": "code",
            "source": [
                "asdasddfghjklkuh hello pun"
            ],
            "metadata": {
                "azdata_cell_guid": "1149ede8-716f-4edc-8bbe-7ff4ff7fa46f",
                "language": "sql"
            },
            "outputs": [
                {
                    "output_type": "error",
                    "ename": "",
                    "evalue": "syntax error at or near \"asdasddfghjklkuh\"",
                    "traceback": []
                },
                {
                    "output_type": "display_data",
                    "data": {
                        "text/html": "Total execution time: 00:00:00.008"
                    },
                    "metadata": {}
                }
            ],
            "execution_count": 1
        },
        {
            "cell_type": "code",
            "source": [
                "SELECT * FROM orderhdr LIMIT 5;"
            ],
            "metadata": {
                "language": "sql",
                "azdata_cell_guid": "a4e2d347-d031-40b4-8cfb-528e9d555954"
            },
            "outputs": [
                {
                    "output_type": "display_data",
                    "data": {
                        "text/html": "(5 row(s) affected)"
                    },
                    "metadata": {}
                },
                {
                    "output_type": "display_data",
                    "data": {
                        "text/html": "Total execution time: 00:00:00.006"
                    },
                    "metadata": {}
                },
                {
                    "output_type": "execute_result",
                    "execution_count": 1,
                    "data": {
                        "application/vnd.dataresource+json": {
                            "schema": {
                                "fields": [
                                    {
                                        "name": "orderid"
                                    },
                                    {
                                        "name": "customerid"
                                    },
                                    {
                                        "name": "noguest"
                                    },
                                    {
                                        "name": "tableno"
                                    },
                                    {
                                        "name": "intime"
                                    },
                                    {
                                        "name": "outtime"
                                    },
                                    {
                                        "name": "dinetypeid"
                                    },
                                    {
                                        "name": "paymentid"
                                    },
                                    {
                                        "name": "total"
                                    },
                                    {
                                        "name": "discount"
                                    },
                                    {
                                        "name": "netpay"
                                    },
                                    {
                                        "name": "vat"
                                    },
                                    {
                                        "name": "isposted"
                                    },
                                    {
                                        "name": "username"
                                    }
                                ]
                            },
                            "data": [
                                {
                                    "orderid": "1",
                                    "customerid": "PH1",
                                    "noguest": "4",
                                    "tableno": "5",
                                    "intime": "2002-01-01T10:51:00",
                                    "outtime": "2002-01-01T12:00:00",
                                    "dinetypeid": "EI",
                                    "paymentid": "CASH",
                                    "total": "1300.00",
                                    "discount": "187.50",
                                    "netpay": "1112.50",
                                    "vat": "72.78",
                                    "isposted": "False",
                                    "username": "dbo"
                                },
                                {
                                    "orderid": "2",
                                    "customerid": "ZF1",
                                    "noguest": "1",
                                    "tableno": "3",
                                    "intime": "2002-01-01T11:35:00",
                                    "outtime": "2002-01-01T12:42:00",
                                    "dinetypeid": "EI",
                                    "paymentid": "CASH",
                                    "total": "675.00",
                                    "discount": "0.00",
                                    "netpay": "675.00",
                                    "vat": "44.16",
                                    "isposted": "False",
                                    "username": "dbo"
                                },
                                {
                                    "orderid": "3",
                                    "customerid": "ZF1",
                                    "noguest": "2",
                                    "tableno": "1",
                                    "intime": "2002-01-01T12:14:00",
                                    "outtime": "2002-01-01T14:33:00",
                                    "dinetypeid": "EI",
                                    "paymentid": "CHK",
                                    "total": "520.00",
                                    "discount": "0.00",
                                    "netpay": "520.00",
                                    "vat": "34.02",
                                    "isposted": "False",
                                    "username": "dbo"
                                },
                                {
                                    "orderid": "4",
                                    "customerid": "ZF1",
                                    "noguest": "3",
                                    "tableno": "5",
                                    "intime": "2002-01-01T18:59:00",
                                    "outtime": "2002-01-01T19:58:00",
                                    "dinetypeid": "EI",
                                    "paymentid": "MC",
                                    "total": "490.00",
                                    "discount": "19.50",
                                    "netpay": "470.50",
                                    "vat": "30.78",
                                    "isposted": "False",
                                    "username": "dbo"
                                },
                                {
                                    "orderid": "5",
                                    "customerid": "ZF1",
                                    "noguest": "1",
                                    "tableno": "5",
                                    "intime": "2002-01-02T11:58:00",
                                    "outtime": "2002-01-02T13:32:00",
                                    "dinetypeid": "EI",
                                    "paymentid": "CASH",
                                    "total": "480.00",
                                    "discount": "0.00",
                                    "netpay": "480.00",
                                    "vat": "31.40",
                                    "isposted": "False",
                                    "username": "dbo"
                                }
                            ]
                        },
                        "text/html": "<table><tr><th>orderid</th><th>customerid</th><th>noguest</th><th>tableno</th><th>intime</th><th>outtime</th><th>dinetypeid</th><th>paymentid</th><th>total</th><th>discount</th><th>netpay</th><th>vat</th><th>isposted</th><th>username</th></tr><tr><td>1</td><td>PH1</td><td>4</td><td>5</td><td>2002-01-01T10:51:00</td><td>2002-01-01T12:00:00</td><td>EI</td><td>CASH</td><td>1300.00</td><td>187.50</td><td>1112.50</td><td>72.78</td><td>False</td><td>dbo</td></tr><tr><td>2</td><td>ZF1</td><td>1</td><td>3</td><td>2002-01-01T11:35:00</td><td>2002-01-01T12:42:00</td><td>EI</td><td>CASH</td><td>675.00</td><td>0.00</td><td>675.00</td><td>44.16</td><td>False</td><td>dbo</td></tr><tr><td>3</td><td>ZF1</td><td>2</td><td>1</td><td>2002-01-01T12:14:00</td><td>2002-01-01T14:33:00</td><td>EI</td><td>CHK</td><td>520.00</td><td>0.00</td><td>520.00</td><td>34.02</td><td>False</td><td>dbo</td></tr><tr><td>4</td><td>ZF1</td><td>3</td><td>5</td><td>2002-01-01T18:59:00</td><td>2002-01-01T19:58:00</td><td>EI</td><td>MC</td><td>490.00</td><td>19.50</td><td>470.50</td><td>30.78</td><td>False</td><td>dbo</td></tr><tr><td>5</td><td>ZF1</td><td>1</td><td>5</td><td>2002-01-02T11:58:00</td><td>2002-01-02T13:32:00</td><td>EI</td><td>CASH</td><td>480.00</td><td>0.00</td><td>480.00</td><td>31.40</td><td>False</td><td>dbo</td></tr></table>"
                    },
                    "metadata": {}
                }
            ],
            "execution_count": 1
        },
        {
            "cell_type": "code",
            "source": [
                "select * from orderhdr limit 2;"
            ],
            "metadata": {
                "azdata_cell_guid": "e4e5cf1f-7359-4e73-9895-7bb2ecd1af60",
                "language": "sql"
            },
            "outputs": [
                {
                    "output_type": "display_data",
                    "data": {
                        "text/html": "(2 row(s) affected)"
                    },
                    "metadata": {}
                },
                {
                    "output_type": "display_data",
                    "data": {
                        "text/html": "Total execution time: 00:00:00.025"
                    },
                    "metadata": {}
                },
                {
                    "output_type": "execute_result",
                    "execution_count": 3,
                    "data": {
                        "application/vnd.dataresource+json": {
                            "schema": {
                                "fields": [
                                    {
                                        "name": "orderid"
                                    },
                                    {
                                        "name": "customerid"
                                    },
                                    {
                                        "name": "noguest"
                                    },
                                    {
                                        "name": "tableno"
                                    },
                                    {
                                        "name": "intime"
                                    },
                                    {
                                        "name": "outtime"
                                    },
                                    {
                                        "name": "dinetypeid"
                                    },
                                    {
                                        "name": "paymentid"
                                    },
                                    {
                                        "name": "total"
                                    },
                                    {
                                        "name": "discount"
                                    },
                                    {
                                        "name": "netpay"
                                    },
                                    {
                                        "name": "vat"
                                    },
                                    {
                                        "name": "isposted"
                                    },
                                    {
                                        "name": "username"
                                    }
                                ]
                            },
                            "data": [
                                {
                                    "orderid": "1",
                                    "customerid": "PH1",
                                    "noguest": "4",
                                    "tableno": "5",
                                    "intime": "2002-01-01T10:51:00",
                                    "outtime": "2002-01-01T12:00:00",
                                    "dinetypeid": "EI",
                                    "paymentid": "CASH",
                                    "total": "1300.00",
                                    "discount": "187.50",
                                    "netpay": "1112.50",
                                    "vat": "72.78",
                                    "isposted": "False",
                                    "username": "dbo"
                                },
                                {
                                    "orderid": "2",
                                    "customerid": "ZF1",
                                    "noguest": "1",
                                    "tableno": "3",
                                    "intime": "2002-01-01T11:35:00",
                                    "outtime": "2002-01-01T12:42:00",
                                    "dinetypeid": "EI",
                                    "paymentid": "CASH",
                                    "total": "675.00",
                                    "discount": "0.00",
                                    "netpay": "675.00",
                                    "vat": "44.16",
                                    "isposted": "False",
                                    "username": "dbo"
                                }
                            ]
                        },
                        "text/html": "<table><tr><th>orderid</th><th>customerid</th><th>noguest</th><th>tableno</th><th>intime</th><th>outtime</th><th>dinetypeid</th><th>paymentid</th><th>total</th><th>discount</th><th>netpay</th><th>vat</th><th>isposted</th><th>username</th></tr><tr><td>1</td><td>PH1</td><td>4</td><td>5</td><td>2002-01-01T10:51:00</td><td>2002-01-01T12:00:00</td><td>EI</td><td>CASH</td><td>1300.00</td><td>187.50</td><td>1112.50</td><td>72.78</td><td>False</td><td>dbo</td></tr><tr><td>2</td><td>ZF1</td><td>1</td><td>3</td><td>2002-01-01T11:35:00</td><td>2002-01-01T12:42:00</td><td>EI</td><td>CASH</td><td>675.00</td><td>0.00</td><td>675.00</td><td>44.16</td><td>False</td><td>dbo</td></tr></table>"
                    },
                    "metadata": {}
                }
            ],
            "execution_count": 3
        },
        {
            "cell_type": "markdown",
            "source": [
                "fghjkl;'"
            ],
            "metadata": {
                "azdata_cell_guid": "d8c5749f-ff5c-4166-9ae1-20b717f9e103"
            },
            "attachments": {}
        }
    ]
}